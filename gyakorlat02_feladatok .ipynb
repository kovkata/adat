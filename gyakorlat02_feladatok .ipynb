{
    "metadata": {
        "kernelspec": {
            "name": "SQL",
            "display_name": "SQL",
            "language": "sql"
        },
        "language_info": {
            "name": "sql",
            "version": ""
        },
        "extensions": {
            "azuredatastudio": {
                "version": 1,
                "views": []
            }
        }
    },
    "nbformat_minor": 2,
    "nbformat": 4,
    "cells": [
        {
            "cell_type": "markdown",
            "source": [
                "1. <span style=\"color:rgb(36, 41, 47);font-family:-apple-system, BlinkMacSystemFont, &quot;Segoe UI&quot;, Helvetica, Arial, sans-serif, &quot;Apple Color Emoji&quot;, &quot;Segoe UI Emoji&quot;;font-size:16px;\">Készítsünk lekérdezést, amely listázza, hogy mely napokon hány db kölcsönzés történt!</span>\n",
                "\n",
                "<span style=\"font-size: 16px;\">a.&nbsp;</span> Az oszlopok neve legyen 'Dátum' és 'Kölcsönzések száma'  \n",
                "b. A listát rendezzük a kölcsönzés dátuma szerint csökkenő sorrendbe!"
            ],
            "metadata": {
                "azdata_cell_guid": "77f2d5b3-38e9-41cc-893f-f5afd02b97ef"
            },
            "attachments": {}
        },
        {
            "cell_type": "code",
            "source": [
                "SELECT ki_datum AS 'Dátum',\r\n",
                "        COUNT(ID) AS 'Kölcsönzések száma'\r\n",
                "FROM kolcsonzesek\r\n",
                "GROUP BY ki_datum\r\n",
                "ORDER BY ki_datum DESC"
            ],
            "metadata": {
                "azdata_cell_guid": "bd3cef1a-4e6e-4ece-9dc3-aaa9d2b5d66d",
                "language": "sql"
            },
            "outputs": [
                {
                    "output_type": "display_data",
                    "data": {
                        "text/html": "(3 rows affected)"
                    },
                    "metadata": {}
                },
                {
                    "output_type": "display_data",
                    "data": {
                        "text/html": "Total execution time: 00:00:00.062"
                    },
                    "metadata": {}
                },
                {
                    "output_type": "execute_result",
                    "execution_count": 2,
                    "data": {
                        "application/vnd.dataresource+json": {
                            "schema": {
                                "fields": [
                                    {
                                        "name": "Dátum"
                                    },
                                    {
                                        "name": "Kölcsönzések száma"
                                    }
                                ]
                            },
                            "data": [
                                {
                                    "Dátum": "2006-10-02",
                                    "Kölcsönzések száma": "1"
                                },
                                {
                                    "Dátum": "2006-10-01",
                                    "Kölcsönzések száma": "1"
                                },
                                {
                                    "Dátum": "2003-12-11",
                                    "Kölcsönzések száma": "3"
                                }
                            ]
                        },
                        "text/html": "<table><tr><th>Dátum</th><th>Kölcsönzések száma</th></tr><tr><td>2006-10-02</td><td>1</td></tr><tr><td>2006-10-01</td><td>1</td></tr><tr><td>2003-12-11</td><td>3</td></tr></table>"
                    },
                    "metadata": {}
                }
            ],
            "execution_count": 2
        },
        {
            "cell_type": "markdown",
            "source": [
                "2. <span style=\"font-weight: 600; color: rgb(36, 41, 47); font-family: -apple-system, BlinkMacSystemFont, &quot;Segoe UI&quot;, Helvetica, Arial, sans-serif, &quot;Apple Color Emoji&quot;, &quot;Segoe UI Emoji&quot;; font-size: 16px;\">Mennyi a dvd-k átlagos ára stílusonkénti bontásban?</span>\n",
                "\n",
                "1. Csak azokat a stílusokat vegyük figyelembe, ahol az átlagos ár 4500 Ft feletti!\n",
                "2. Az oszlopokat nevezzük el értelemszerűen!\n",
                "3. A listát rendezzük átlagos ár szerint csökkenő sorrendbe!"
            ],
            "metadata": {
                "azdata_cell_guid": "88f5b4bb-f4c1-4bad-a0c7-b2592687b422"
            },
            "attachments": {}
        },
        {
            "cell_type": "code",
            "source": [
                "SELECT stilus AS 'Stílus',\r\n",
                "        AVG(nettoar) AS 'Átlagos ár'\r\n",
                "FROM dvd\r\n",
                "GROUP BY stilus\r\n",
                "HAVING AVG(nettoar)>4500\r\n",
                "ORDER BY AVG(nettoar) DESC"
            ],
            "metadata": {
                "azdata_cell_guid": "e9de5726-f036-4fb9-8c33-a873955ed886",
                "language": "sql"
            },
            "outputs": [
                {
                    "output_type": "display_data",
                    "data": {
                        "text/html": "(30 rows affected)"
                    },
                    "metadata": {}
                },
                {
                    "output_type": "display_data",
                    "data": {
                        "text/html": "Total execution time: 00:00:00.027"
                    },
                    "metadata": {}
                },
                {
                    "output_type": "execute_result",
                    "execution_count": 3,
                    "data": {
                        "application/vnd.dataresource+json": {
                            "schema": {
                                "fields": [
                                    {
                                        "name": "Stílus"
                                    },
                                    {
                                        "name": "Átlagos ár"
                                    }
                                ]
                            },
                            "data": [
                                {
                                    "Stílus": "ásványtan",
                                    "Átlagos ár": "5624"
                                },
                                {
                                    "Stílus": "játék (rodeó)",
                                    "Átlagos ár": "5591"
                                },
                                {
                                    "Stílus": "humor",
                                    "Átlagos ár": "5573"
                                },
                                {
                                    "Stílus": "környezetvédelem",
                                    "Átlagos ár": "5508"
                                },
                                {
                                    "Stílus": "kresz",
                                    "Átlagos ár": "5476"
                                },
                                {
                                    "Stílus": "játék (jégkorong)",
                                    "Átlagos ár": "5242"
                                },
                                {
                                    "Stílus": "színház",
                                    "Átlagos ár": "5158"
                                },
                                {
                                    "Stílus": "múvészet",
                                    "Átlagos ár": "5118"
                                },
                                {
                                    "Stílus": "kémia",
                                    "Átlagos ár": "5094"
                                },
                                {
                                    "Stílus": "fordító program",
                                    "Átlagos ár": "5036"
                                },
                                {
                                    "Stílus": "kerttervező",
                                    "Átlagos ár": "4951"
                                },
                                {
                                    "Stílus": "művészet",
                                    "Átlagos ár": "4939,25"
                                },
                                {
                                    "Stílus": "festészet",
                                    "Átlagos ár": "4901"
                                },
                                {
                                    "Stílus": "zene",
                                    "Átlagos ár": "4855,333333333333"
                                },
                                {
                                    "Stílus": "játék",
                                    "Átlagos ár": "4850,466666666666"
                                },
                                {
                                    "Stílus": "játék (labdarúgás)",
                                    "Átlagos ár": "4817,333333333333"
                                },
                                {
                                    "Stílus": "állattan",
                                    "Átlagos ár": "4783,666666666667"
                                },
                                {
                                    "Stílus": "nyelvtan",
                                    "Átlagos ár": "4770,666666666667"
                                },
                                {
                                    "Stílus": "fizika",
                                    "Átlagos ár": "4769"
                                },
                                {
                                    "Stílus": "nyelvtanító",
                                    "Átlagos ár": "4759,476190476191"
                                },
                                {
                                    "Stílus": "csillagászat",
                                    "Átlagos ár": "4733,571428571428"
                                },
                                {
                                    "Stílus": "ismeretterjesztő",
                                    "Átlagos ár": "4726,673913043478"
                                },
                                {
                                    "Stílus": "irodalom, nyelv",
                                    "Átlagos ár": "4704"
                                },
                                {
                                    "Stílus": "gasztronómia",
                                    "Átlagos ár": "4691"
                                },
                                {
                                    "Stílus": "történelem",
                                    "Átlagos ár": "4655,731707317073"
                                },
                                {
                                    "Stílus": "szótár",
                                    "Átlagos ár": "4624,428571428572"
                                },
                                {
                                    "Stílus": "sport",
                                    "Átlagos ár": "4607"
                                },
                                {
                                    "Stílus": "földrajz",
                                    "Átlagos ár": "4580,0625"
                                },
                                {
                                    "Stílus": "matematika",
                                    "Átlagos ár": "4520,777777777777"
                                },
                                {
                                    "Stílus": "felvételi",
                                    "Átlagos ár": "4501,333333333333"
                                }
                            ]
                        },
                        "text/html": "<table><tr><th>Stílus</th><th>Átlagos ár</th></tr><tr><td>ásványtan</td><td>5624</td></tr><tr><td>játék (rodeó)</td><td>5591</td></tr><tr><td>humor</td><td>5573</td></tr><tr><td>környezetvédelem</td><td>5508</td></tr><tr><td>kresz</td><td>5476</td></tr><tr><td>játék (jégkorong)</td><td>5242</td></tr><tr><td>színház</td><td>5158</td></tr><tr><td>múvészet</td><td>5118</td></tr><tr><td>kémia</td><td>5094</td></tr><tr><td>fordító program</td><td>5036</td></tr><tr><td>kerttervező</td><td>4951</td></tr><tr><td>művészet</td><td>4939,25</td></tr><tr><td>festészet</td><td>4901</td></tr><tr><td>zene</td><td>4855,333333333333</td></tr><tr><td>játék</td><td>4850,466666666666</td></tr><tr><td>játék (labdarúgás)</td><td>4817,333333333333</td></tr><tr><td>állattan</td><td>4783,666666666667</td></tr><tr><td>nyelvtan</td><td>4770,666666666667</td></tr><tr><td>fizika</td><td>4769</td></tr><tr><td>nyelvtanító</td><td>4759,476190476191</td></tr><tr><td>csillagászat</td><td>4733,571428571428</td></tr><tr><td>ismeretterjesztő</td><td>4726,673913043478</td></tr><tr><td>irodalom, nyelv</td><td>4704</td></tr><tr><td>gasztronómia</td><td>4691</td></tr><tr><td>történelem</td><td>4655,731707317073</td></tr><tr><td>szótár</td><td>4624,428571428572</td></tr><tr><td>sport</td><td>4607</td></tr><tr><td>földrajz</td><td>4580,0625</td></tr><tr><td>matematika</td><td>4520,777777777777</td></tr><tr><td>felvételi</td><td>4501,333333333333</td></tr></table>"
                    },
                    "metadata": {}
                }
            ],
            "execution_count": 3
        },
        {
            "cell_type": "markdown",
            "source": [
                "3. <span style=\"color:rgb(36, 41, 47);font-family:-apple-system, BlinkMacSystemFont, &quot;Segoe UI&quot;, Helvetica, Arial, sans-serif, &quot;Apple Color Emoji&quot;, &quot;Segoe UI Emoji&quot;;font-size:16px;\">Listázzuk nyelvenkénti, azon belül stílusonkénti bontásban, hogy mennyi a dvd-k legkisebb és legnagyobb ára!&nbsp;</span> \n",
                "\n",
                "<span style=\"font-size: 16px;\">a. Az oszlopok neve legyen 'Nyelv', 'Stílus', 'MinÁr' és 'MaxÁr'!<br>b.&nbsp;</span> A listából hagyjuk ki azokat a sorokat, ahol a nyelv vagy a stílus nincs megadva!  \n",
                "c. Szintén hagyjuk ki azokat a csoportokat, ahol a csoport elemszáma 3-nál kisebb!"
            ],
            "metadata": {
                "azdata_cell_guid": "9e7249de-1b59-43d8-84b1-26fa7d81fc5a"
            },
            "attachments": {}
        },
        {
            "cell_type": "code",
            "source": [
                "SELECT lang AS 'Nyelv',\r\n",
                "        stilus AS 'Stílus',\r\n",
                "        MIN(nettoar) AS 'MinÁr',\r\n",
                "        MAX(nettoar) AS 'MaxÁr'\r\n",
                "FROM dvd\r\n",
                "WHERE lang IS NOT NULL AND stilus IS NOT NULL\r\n",
                "GROUP BY lang, stilus\r\n",
                "HAVING COUNT(*)>=3"
            ],
            "metadata": {
                "azdata_cell_guid": "6405d3e8-a9b1-45d7-aa76-3b1e785ef6cc",
                "language": "sql"
            },
            "outputs": [
                {
                    "output_type": "display_data",
                    "data": {
                        "text/html": "(25 rows affected)"
                    },
                    "metadata": {}
                },
                {
                    "output_type": "display_data",
                    "data": {
                        "text/html": "Total execution time: 00:00:00.072"
                    },
                    "metadata": {}
                },
                {
                    "output_type": "execute_result",
                    "execution_count": 1,
                    "data": {
                        "application/vnd.dataresource+json": {
                            "schema": {
                                "fields": [
                                    {
                                        "name": "Nyelv"
                                    },
                                    {
                                        "name": "Stílus"
                                    },
                                    {
                                        "name": "MinÁr"
                                    },
                                    {
                                        "name": "MaxÁr"
                                    }
                                ]
                            },
                            "data": [
                                {
                                    "Nyelv": "1",
                                    "Stílus": "állattan",
                                    "MinÁr": "4153",
                                    "MaxÁr": "5235"
                                },
                                {
                                    "Nyelv": "1",
                                    "Stílus": "biológia",
                                    "MinÁr": "3482",
                                    "MaxÁr": "5543"
                                },
                                {
                                    "Nyelv": "1",
                                    "Stílus": "csillagászat",
                                    "MinÁr": "3582",
                                    "MaxÁr": "5992"
                                },
                                {
                                    "Nyelv": "1",
                                    "Stílus": "felvételi",
                                    "MinÁr": "3215",
                                    "MaxÁr": "5955"
                                },
                                {
                                    "Nyelv": "1",
                                    "Stílus": "fizika",
                                    "MinÁr": "3734",
                                    "MaxÁr": "5763"
                                },
                                {
                                    "Nyelv": "1",
                                    "Stílus": "földrajz",
                                    "MinÁr": "3123",
                                    "MaxÁr": "6065"
                                },
                                {
                                    "Nyelv": "1",
                                    "Stílus": "gasztronómia",
                                    "MinÁr": "3258",
                                    "MaxÁr": "5706"
                                },
                                {
                                    "Nyelv": "1",
                                    "Stílus": "irodalom",
                                    "MinÁr": "3391",
                                    "MaxÁr": "5654"
                                },
                                {
                                    "Nyelv": "1",
                                    "Stílus": "ismeretterjesztő",
                                    "MinÁr": "3256",
                                    "MaxÁr": "6072"
                                },
                                {
                                    "Nyelv": "2",
                                    "Stílus": "ismeretterjesztő",
                                    "MinÁr": "5334",
                                    "MaxÁr": "5900"
                                },
                                {
                                    "Nyelv": "1",
                                    "Stílus": "játék",
                                    "MinÁr": "3110",
                                    "MaxÁr": "6078"
                                },
                                {
                                    "Nyelv": "2",
                                    "Stílus": "játék",
                                    "MinÁr": "3144",
                                    "MaxÁr": "6062"
                                },
                                {
                                    "Nyelv": "2",
                                    "Stílus": "játék (autóverseny)",
                                    "MinÁr": "3106",
                                    "MaxÁr": "5005"
                                },
                                {
                                    "Nyelv": "1",
                                    "Stílus": "matematika",
                                    "MinÁr": "3105",
                                    "MaxÁr": "5995"
                                },
                                {
                                    "Nyelv": "1",
                                    "Stílus": "művészet",
                                    "MinÁr": "3490",
                                    "MaxÁr": "6098"
                                },
                                {
                                    "Nyelv": "1",
                                    "Stílus": "nyelvtan",
                                    "MinÁr": "3688",
                                    "MaxÁr": "5845"
                                },
                                {
                                    "Nyelv": "2",
                                    "Stílus": "nyelvtanító",
                                    "MinÁr": "3115",
                                    "MaxÁr": "6068"
                                },
                                {
                                    "Nyelv": "3",
                                    "Stílus": "nyelvtanító",
                                    "MinÁr": "3313",
                                    "MaxÁr": "5990"
                                },
                                {
                                    "Nyelv": "4",
                                    "Stílus": "nyelvtanító",
                                    "MinÁr": "3419",
                                    "MaxÁr": "6082"
                                },
                                {
                                    "Nyelv": "6",
                                    "Stílus": "nyelvtanító",
                                    "MinÁr": "3775",
                                    "MaxÁr": "5882"
                                },
                                {
                                    "Nyelv": "7",
                                    "Stílus": "nyelvtanító",
                                    "MinÁr": "3770",
                                    "MaxÁr": "5619"
                                },
                                {
                                    "Nyelv": "1",
                                    "Stílus": "számítástechnika",
                                    "MinÁr": "3277",
                                    "MaxÁr": "5260"
                                },
                                {
                                    "Nyelv": "2",
                                    "Stílus": "szótár",
                                    "MinÁr": "3509",
                                    "MaxÁr": "5638"
                                },
                                {
                                    "Nyelv": "1",
                                    "Stílus": "történelem",
                                    "MinÁr": "3122",
                                    "MaxÁr": "6084"
                                },
                                {
                                    "Nyelv": "1",
                                    "Stílus": "zene",
                                    "MinÁr": "3391",
                                    "MaxÁr": "5730"
                                }
                            ]
                        },
                        "text/html": "<table><tr><th>Nyelv</th><th>Stílus</th><th>MinÁr</th><th>MaxÁr</th></tr><tr><td>1</td><td>állattan</td><td>4153</td><td>5235</td></tr><tr><td>1</td><td>biológia</td><td>3482</td><td>5543</td></tr><tr><td>1</td><td>csillagászat</td><td>3582</td><td>5992</td></tr><tr><td>1</td><td>felvételi</td><td>3215</td><td>5955</td></tr><tr><td>1</td><td>fizika</td><td>3734</td><td>5763</td></tr><tr><td>1</td><td>földrajz</td><td>3123</td><td>6065</td></tr><tr><td>1</td><td>gasztronómia</td><td>3258</td><td>5706</td></tr><tr><td>1</td><td>irodalom</td><td>3391</td><td>5654</td></tr><tr><td>1</td><td>ismeretterjesztő</td><td>3256</td><td>6072</td></tr><tr><td>2</td><td>ismeretterjesztő</td><td>5334</td><td>5900</td></tr><tr><td>1</td><td>játék</td><td>3110</td><td>6078</td></tr><tr><td>2</td><td>játék</td><td>3144</td><td>6062</td></tr><tr><td>2</td><td>játék (autóverseny)</td><td>3106</td><td>5005</td></tr><tr><td>1</td><td>matematika</td><td>3105</td><td>5995</td></tr><tr><td>1</td><td>művészet</td><td>3490</td><td>6098</td></tr><tr><td>1</td><td>nyelvtan</td><td>3688</td><td>5845</td></tr><tr><td>2</td><td>nyelvtanító</td><td>3115</td><td>6068</td></tr><tr><td>3</td><td>nyelvtanító</td><td>3313</td><td>5990</td></tr><tr><td>4</td><td>nyelvtanító</td><td>3419</td><td>6082</td></tr><tr><td>6</td><td>nyelvtanító</td><td>3775</td><td>5882</td></tr><tr><td>7</td><td>nyelvtanító</td><td>3770</td><td>5619</td></tr><tr><td>1</td><td>számítástechnika</td><td>3277</td><td>5260</td></tr><tr><td>2</td><td>szótár</td><td>3509</td><td>5638</td></tr><tr><td>1</td><td>történelem</td><td>3122</td><td>6084</td></tr><tr><td>1</td><td>zene</td><td>3391</td><td>5730</td></tr></table>"
                    },
                    "metadata": {}
                }
            ],
            "execution_count": 1
        },
        {
            "cell_type": "markdown",
            "source": [
                "4. <span style=\"color: rgb(36, 41, 47); font-family: -apple-system, BlinkMacSystemFont, &quot;Segoe UI&quot;, Helvetica, Arial, sans-serif, &quot;Apple Color Emoji&quot;, &quot;Segoe UI Emoji&quot;; font-size: 16px;\">Készítsünk listát, amely a csoportokat hoz létre aszerint, hogy a mai naptól számítva hány nap telt el a kölcsönzés kezdete óta. A lista jelenítse meg csoportonkénti bontásban a kikölcsönzött dvd-k számát!</span>\n",
                "\n",
                "1. Az oszlopokat nevezzük el értelemszerűen!\n",
                "2. A listát rendezzük az eltelt napok száma szerint csökkenő sorrendbe!"
            ],
            "metadata": {
                "azdata_cell_guid": "6478e469-c094-472c-a772-ccd5b5c61516"
            },
            "attachments": {}
        },
        {
            "cell_type": "code",
            "source": [
                "SELECT DATEDIFF(DAY,ki_datum,GETDATE()) AS 'Eltelt napok',\r\n",
                "        COUNT(ID) AS 'Darab'\r\n",
                "FROM kolcsonzesek\r\n",
                "GROUP BY DATEDIFF(DAY,ki_datum,GETDATE())\r\n",
                "ORDER BY DATEDIFF(DAY,ki_datum,GETDATE()) DESC"
            ],
            "metadata": {
                "azdata_cell_guid": "02031ea2-3838-458d-839c-228e3b362b61",
                "language": "sql"
            },
            "outputs": [
                {
                    "output_type": "display_data",
                    "data": {
                        "text/html": "(3 rows affected)"
                    },
                    "metadata": {}
                },
                {
                    "output_type": "display_data",
                    "data": {
                        "text/html": "Total execution time: 00:00:00.015"
                    },
                    "metadata": {}
                },
                {
                    "output_type": "execute_result",
                    "execution_count": 8,
                    "data": {
                        "application/vnd.dataresource+json": {
                            "schema": {
                                "fields": [
                                    {
                                        "name": "Eltelt napok"
                                    },
                                    {
                                        "name": "Darab"
                                    }
                                ]
                            },
                            "data": [
                                {
                                    "Eltelt napok": "7380",
                                    "Darab": "3"
                                },
                                {
                                    "Eltelt napok": "6355",
                                    "Darab": "1"
                                },
                                {
                                    "Eltelt napok": "6354",
                                    "Darab": "1"
                                }
                            ]
                        },
                        "text/html": "<table><tr><th>Eltelt napok</th><th>Darab</th></tr><tr><td>7380</td><td>3</td></tr><tr><td>6355</td><td>1</td></tr><tr><td>6354</td><td>1</td></tr></table>"
                    },
                    "metadata": {}
                }
            ],
            "execution_count": 8
        },
        {
            "cell_type": "markdown",
            "source": [
                "5. <span style=\"color: rgb(36, 41, 47); font-family: -apple-system, BlinkMacSystemFont, &quot;Segoe UI&quot;, Helvetica, Arial, sans-serif, &quot;Apple Color Emoji&quot;, &quot;Segoe UI Emoji&quot;; font-size: 16px;\">A kölcsönző tulajdonosa elhatározza, hogy ezentúl kerekebb árakat alkalmaz. Ezért minden dvd árát 1000 Ft-ra kerekíti. Készítsünk lekérdezést, amely megmutatja, hogy melyik 1000 Ft-ra kerekített ár szerint, azon belül stílus szerint hány db dvd összesen raktáron! **</span>\n",
                "\n",
                "1. Csak olyan csoportokat listázzunk, ahol a raktárkészlet legalább 30!\n",
                "2. A listát rendezzük kerekített ár szerint, azon belül raktárkészlet szerint növekvő sorrendbe!"
            ],
            "metadata": {
                "azdata_cell_guid": "9edbbaf9-c276-4898-9a01-e1b2993c089f"
            },
            "attachments": {}
        },
        {
            "cell_type": "code",
            "source": [
                "SELECT ROUND(nettoar,-3) AS 'Ár',\r\n",
                "        SUM([raktár készlet]) AS 'Darab'\r\n",
                "FROM dvd\r\n",
                "GROUP By ROUND(nettoar,-3)\r\n",
                "HAVING SUM([raktár készlet])>30\r\n",
                "ORDER BY ROUND(nettoar,-3), SUM([raktár készlet])"
            ],
            "metadata": {
                "azdata_cell_guid": "5ad5fdcb-2878-4111-861a-833bcd50e935",
                "language": "sql"
            },
            "outputs": [
                {
                    "output_type": "display_data",
                    "data": {
                        "text/html": "(4 rows affected)"
                    },
                    "metadata": {}
                },
                {
                    "output_type": "display_data",
                    "data": {
                        "text/html": "Total execution time: 00:00:00.022"
                    },
                    "metadata": {}
                },
                {
                    "output_type": "execute_result",
                    "execution_count": 3,
                    "data": {
                        "application/vnd.dataresource+json": {
                            "schema": {
                                "fields": [
                                    {
                                        "name": "Ár"
                                    },
                                    {
                                        "name": "Darab"
                                    }
                                ]
                            },
                            "data": [
                                {
                                    "Ár": "3000",
                                    "Darab": "350"
                                },
                                {
                                    "Ár": "4000",
                                    "Darab": "1070"
                                },
                                {
                                    "Ár": "5000",
                                    "Darab": "1050"
                                },
                                {
                                    "Ár": "6000",
                                    "Darab": "708"
                                }
                            ]
                        },
                        "text/html": "<table><tr><th>Ár</th><th>Darab</th></tr><tr><td>3000</td><td>350</td></tr><tr><td>4000</td><td>1070</td></tr><tr><td>5000</td><td>1050</td></tr><tr><td>6000</td><td>708</td></tr></table>"
                    },
                    "metadata": {}
                }
            ],
            "execution_count": 3
        },
        {
            "cell_type": "markdown",
            "source": [
                "6. <span style=\"font-weight: 600; color: rgb(36, 41, 47); font-family: -apple-system, BlinkMacSystemFont, &quot;Segoe UI&quot;, Helvetica, Arial, sans-serif, &quot;Apple Color Emoji&quot;, &quot;Segoe UI Emoji&quot;; font-size: 16px;\">A dvd-ket csoportosíthatjuk aszerint, hogy milyen hosszú a címük. Amelyiknél a cím hosszúsága 10 karakter alatt van, az legyen Rövid, 10-20-ig Átlagos, 20 felett Hosszú. Hány Rövid, Átlagos, illetve Hosszú dvd-van összesen raktáron?</span>\n",
                "\n",
                "1. Az oszlopok neve legyen 'Cím hosszúság' és 'Darabszám"
            ],
            "metadata": {
                "azdata_cell_guid": "5fe65c1c-2479-45ac-ad03-ec99d12eae21"
            },
            "attachments": {}
        },
        {
            "cell_type": "code",
            "source": [
                "SELECT \r\n",
                "    CASE \r\n",
                "        WHEN LEN(cim)<10 THEN 'Rövid'\r\n",
                "        WHEN 10<=LEN(cim) AND LEN(cim)<=20 THEN 'Átlagos'\r\n",
                "        ELSE 'Hosszú'\r\n",
                "    END AS 'Cím hosszúság',\r\n",
                "    SUM([raktár készlet]) AS 'Darabszám'\r\n",
                "FROM dvd\r\n",
                "GROUP BY CASE \r\n",
                "        WHEN LEN(cim)<10 THEN 'Rövid'\r\n",
                "        WHEN 10<=LEN(cim) AND LEN(cim)<=20 THEN 'Átlagos'\r\n",
                "        ELSE 'Hosszú'\r\n",
                "    END\r\n",
                "\r\n",
                ""
            ],
            "metadata": {
                "azdata_cell_guid": "924f2dde-f1c2-4def-a7f9-dbf4bace7735",
                "language": "sql"
            },
            "outputs": [
                {
                    "output_type": "display_data",
                    "data": {
                        "text/html": "(3 rows affected)"
                    },
                    "metadata": {}
                },
                {
                    "output_type": "display_data",
                    "data": {
                        "text/html": "Total execution time: 00:00:00.018"
                    },
                    "metadata": {}
                },
                {
                    "output_type": "execute_result",
                    "execution_count": 10,
                    "data": {
                        "application/vnd.dataresource+json": {
                            "schema": {
                                "fields": [
                                    {
                                        "name": "Cím hosszúság"
                                    },
                                    {
                                        "name": "Darabszám"
                                    }
                                ]
                            },
                            "data": [
                                {
                                    "Cím hosszúság": "Átlagos",
                                    "Darabszám": "93"
                                },
                                {
                                    "Cím hosszúság": "Hosszú",
                                    "Darabszám": "213"
                                },
                                {
                                    "Cím hosszúság": "Rövid",
                                    "Darabszám": "12"
                                }
                            ]
                        },
                        "text/html": "<table><tr><th>Cím hosszúság</th><th>Darabszám</th></tr><tr><td>Átlagos</td><td>93</td></tr><tr><td>Hosszú</td><td>213</td></tr><tr><td>Rövid</td><td>12</td></tr></table>"
                    },
                    "metadata": {}
                }
            ],
            "execution_count": 10
        },
        {
            "cell_type": "markdown",
            "source": [
                "7. <span style=\"color: rgb(36, 41, 47); font-family: -apple-system, BlinkMacSystemFont, &quot;Segoe UI&quot;, Helvetica, Arial, sans-serif, &quot;Apple Color Emoji&quot;, &quot;Segoe UI Emoji&quot;; font-size: 16px;\">Készítsünk listát arról, hogy melyik teremben hány óra van!</span>\n",
                "\n",
                "1. Jelenítsük meg a termek azonosítóit és a teremben tartott órák számát!\n",
                "2. Az oszlopokat nevezzük el értelemszerűen!\n",
                "3. Szűrjünk azokra a termekre, ahol az órák száma legalább 3!"
            ],
            "metadata": {
                "azdata_cell_guid": "3aeb6bf5-b111-40d5-92b2-9712ce335696"
            },
            "attachments": {}
        },
        {
            "cell_type": "code",
            "source": [
                "SELECT terem AS 'Terem kódja',\r\n",
                "        COUNT(ora_id) AS 'Darab'\r\n",
                "FROM Orak\r\n",
                "GROUP BY terem\r\n",
                "HAVING COUNT(ora_id)>2"
            ],
            "metadata": {
                "azdata_cell_guid": "3e89b651-f56f-4102-af52-30eb2bbe360d",
                "language": "sql"
            },
            "outputs": [
                {
                    "output_type": "display_data",
                    "data": {
                        "text/html": "(11 rows affected)"
                    },
                    "metadata": {}
                },
                {
                    "output_type": "display_data",
                    "data": {
                        "text/html": "Total execution time: 00:00:00.020"
                    },
                    "metadata": {}
                },
                {
                    "output_type": "execute_result",
                    "execution_count": 12,
                    "data": {
                        "application/vnd.dataresource+json": {
                            "schema": {
                                "fields": [
                                    {
                                        "name": "Terem kódja"
                                    },
                                    {
                                        "name": "Darab"
                                    }
                                ]
                            },
                            "data": [
                                {
                                    "Terem kódja": "2",
                                    "Darab": "5"
                                },
                                {
                                    "Terem kódja": "3",
                                    "Darab": "11"
                                },
                                {
                                    "Terem kódja": "4",
                                    "Darab": "8"
                                },
                                {
                                    "Terem kódja": "5",
                                    "Darab": "5"
                                },
                                {
                                    "Terem kódja": "6",
                                    "Darab": "6"
                                },
                                {
                                    "Terem kódja": "7",
                                    "Darab": "6"
                                },
                                {
                                    "Terem kódja": "8",
                                    "Darab": "6"
                                },
                                {
                                    "Terem kódja": "10",
                                    "Darab": "3"
                                },
                                {
                                    "Terem kódja": "12",
                                    "Darab": "3"
                                },
                                {
                                    "Terem kódja": "13",
                                    "Darab": "5"
                                },
                                {
                                    "Terem kódja": "14",
                                    "Darab": "3"
                                }
                            ]
                        },
                        "text/html": "<table><tr><th>Terem kódja</th><th>Darab</th></tr><tr><td>2</td><td>5</td></tr><tr><td>3</td><td>11</td></tr><tr><td>4</td><td>8</td></tr><tr><td>5</td><td>5</td></tr><tr><td>6</td><td>6</td></tr><tr><td>7</td><td>6</td></tr><tr><td>8</td><td>6</td></tr><tr><td>10</td><td>3</td></tr><tr><td>12</td><td>3</td></tr><tr><td>13</td><td>5</td></tr><tr><td>14</td><td>3</td></tr></table>"
                    },
                    "metadata": {}
                }
            ],
            "execution_count": 12
        },
        {
            "cell_type": "markdown",
            "source": [
                "8. <span style=\"color: rgb(36, 41, 47); font-family: -apple-system, BlinkMacSystemFont, &quot;Segoe UI&quot;, Helvetica, Arial, sans-serif, &quot;Apple Color Emoji&quot;, &quot;Segoe UI Emoji&quot;; font-size: 16px;\">Készítsünk lekérdezést, amely megadja, hogy minimálian és maximálisan hány kreditet ér egy tantárgy!</span>\n",
                "\n",
                "1. Az oszlopokat nevezzük el értelemszerűen!\n",
                "2. Ne vegyük figyelembe azokat a tantárgyakat, amelyek nevében az „alapjai” szó szerepel, vagy a tantárgy neve 10 karakternél rövidebb!"
            ],
            "metadata": {
                "azdata_cell_guid": "26a504dc-ff6a-439f-94c0-4580eca3eacf"
            },
            "attachments": {}
        },
        {
            "cell_type": "code",
            "source": [
                "SELECT MIN(Kredit) AS 'MinKre',\r\n",
                "        MAX(Kredit) AS 'MaxKre'\r\n",
                "FROM Tantárgyak \r\n",
                "WHERE Tantárgynév!='*alapjai*' AND LEN(Tantárgynév)>9"
            ],
            "metadata": {
                "azdata_cell_guid": "1cbb8aeb-78b5-4350-aa45-e3202fdab85b",
                "language": "sql"
            },
            "outputs": [
                {
                    "output_type": "display_data",
                    "data": {
                        "text/html": "(1 row affected)"
                    },
                    "metadata": {}
                },
                {
                    "output_type": "display_data",
                    "data": {
                        "text/html": "Total execution time: 00:00:00.027"
                    },
                    "metadata": {}
                },
                {
                    "output_type": "execute_result",
                    "execution_count": 14,
                    "data": {
                        "application/vnd.dataresource+json": {
                            "schema": {
                                "fields": [
                                    {
                                        "name": "MinKre"
                                    },
                                    {
                                        "name": "MaxKre"
                                    }
                                ]
                            },
                            "data": [
                                {
                                    "MinKre": "1",
                                    "MaxKre": "5"
                                }
                            ]
                        },
                        "text/html": "<table><tr><th>MinKre</th><th>MaxKre</th></tr><tr><td>1</td><td>5</td></tr></table>"
                    },
                    "metadata": {}
                }
            ],
            "execution_count": 14
        },
        {
            "cell_type": "markdown",
            "source": [
                "9. <span style=\"color: rgb(36, 41, 47); font-family: -apple-system, BlinkMacSystemFont, &quot;Segoe UI&quot;, Helvetica, Arial, sans-serif, &quot;Apple Color Emoji&quot;, &quot;Segoe UI Emoji&quot;; font-size: 16px;\">A tapasztalat alapján a tanársegédeknek 8, az óraadóknak 10 órájuk van egy héten. A többiek annyi órát tartanak, amennyi az elvárt óraszámuk. Készítsünk lekérdezést, amely minden beosztáshoz megjeleníti, hogy hetente hány túlóra tartozik hozzá!</span>\n",
                "\n",
                "1. A lekérdezés csak a beosztások nevét és a heti túlórák számát jelenítse meg!"
            ],
            "metadata": {
                "azdata_cell_guid": "435e2860-2dd5-4877-90f4-34a43baeb53c"
            },
            "attachments": {}
        },
        {
            "cell_type": "code",
            "source": [
                "SELECT beosztasnev,\r\n",
                "        CASE beosztasnev\r\n",
                "            WHEN 'Tanársegéd' THEN 8\r\n",
                "            WHEN 'Óraadó' THEN 10\r\n",
                "            ELSE elvart\r\n",
                "        END AS 'túlóra'\r\n",
                "FROM Beosztasok"
            ],
            "metadata": {
                "azdata_cell_guid": "ce846351-ddbe-4d8e-b8fb-2a92c73ac80b",
                "language": "sql",
                "tags": []
            },
            "outputs": [
                {
                    "output_type": "display_data",
                    "data": {
                        "text/html": "(7 rows affected)"
                    },
                    "metadata": {}
                },
                {
                    "output_type": "display_data",
                    "data": {
                        "text/html": "Total execution time: 00:00:00.014"
                    },
                    "metadata": {}
                },
                {
                    "output_type": "execute_result",
                    "execution_count": 5,
                    "data": {
                        "application/vnd.dataresource+json": {
                            "schema": {
                                "fields": [
                                    {
                                        "name": "beosztasnev"
                                    },
                                    {
                                        "name": "túlóra"
                                    }
                                ]
                            },
                            "data": [
                                {
                                    "beosztasnev": "Óraadó",
                                    "túlóra": "10"
                                },
                                {
                                    "beosztasnev": "Tanársegéd",
                                    "túlóra": "8"
                                },
                                {
                                    "beosztasnev": "Adjunktus",
                                    "túlóra": "5"
                                },
                                {
                                    "beosztasnev": "Docens",
                                    "túlóra": "4"
                                },
                                {
                                    "beosztasnev": "Professzor",
                                    "túlóra": "3"
                                },
                                {
                                    "beosztasnev": "Egyetemi tanár",
                                    "túlóra": "2"
                                },
                                {
                                    "beosztasnev": "Tudományos munkatárs",
                                    "túlóra": "4"
                                }
                            ]
                        },
                        "text/html": "<table><tr><th>beosztasnev</th><th>túlóra</th></tr><tr><td>Óraadó</td><td>10</td></tr><tr><td>Tanársegéd</td><td>8</td></tr><tr><td>Adjunktus</td><td>5</td></tr><tr><td>Docens</td><td>4</td></tr><tr><td>Professzor</td><td>3</td></tr><tr><td>Egyetemi tanár</td><td>2</td></tr><tr><td>Tudományos munkatárs</td><td>4</td></tr></table>"
                    },
                    "metadata": {}
                }
            ],
            "execution_count": 5
        },
        {
            "cell_type": "markdown",
            "source": [
                "10. <span style=\"font-weight: 600; color: rgb(36, 41, 47); font-family: -apple-system, BlinkMacSystemFont, &quot;Segoe UI&quot;, Helvetica, Arial, sans-serif, &quot;Apple Color Emoji&quot;, &quot;Segoe UI Emoji&quot;; font-size: 16px;\">Melyek azok az oktatók, akiknek nincs órájuk?</span>\n",
                "\n",
                "1. Csak az oktatók neve jelenjen meg!\n",
                "2. ÖTLET: használjunk LEFT JOIN-t, és szűrjünk azokra a rekordokra, ahol NULL érték van a JOIN utáni feltétel jobb oldalán!"
            ],
            "metadata": {
                "azdata_cell_guid": "217c5772-afe2-4a7c-b913-e3a3e09d6411"
            },
            "attachments": {}
        },
        {
            "cell_type": "code",
            "source": [
                "SELECT okt.nev\r\n",
                "FROM Oktatok okt LEFT JOIN Orak o ON okt.oktato_id = o.tanar\r\n",
                "WHERE o.tanar IS NULL"
            ],
            "metadata": {
                "azdata_cell_guid": "a9cc0926-3dbd-4ed8-8179-1c39d64a0762",
                "language": "sql"
            },
            "outputs": [
                {
                    "output_type": "display_data",
                    "data": {
                        "text/html": "(5 rows affected)"
                    },
                    "metadata": {}
                },
                {
                    "output_type": "display_data",
                    "data": {
                        "text/html": "Total execution time: 00:00:00.018"
                    },
                    "metadata": {}
                },
                {
                    "output_type": "execute_result",
                    "execution_count": 6,
                    "data": {
                        "application/vnd.dataresource+json": {
                            "schema": {
                                "fields": [
                                    {
                                        "name": "nev"
                                    }
                                ]
                            },
                            "data": [
                                {
                                    "nev": "Józsa Gábor"
                                },
                                {
                                    "nev": "Rácz András"
                                },
                                {
                                    "nev": "Kiss István"
                                },
                                {
                                    "nev": "Mészáros Kriszta"
                                },
                                {
                                    "nev": "Kovacs Istvan"
                                }
                            ]
                        },
                        "text/html": "<table><tr><th>nev</th></tr><tr><td>Józsa Gábor</td></tr><tr><td>Rácz András</td></tr><tr><td>Kiss István</td></tr><tr><td>Mészáros Kriszta</td></tr><tr><td>Kovacs Istvan</td></tr></table>"
                    },
                    "metadata": {}
                }
            ],
            "execution_count": 6
        },
        {
            "cell_type": "markdown",
            "source": [
                "11. <span style=\"font-weight: 600; color: rgb(36, 41, 47); font-family: -apple-system, BlinkMacSystemFont, &quot;Segoe UI&quot;, Helvetica, Arial, sans-serif, &quot;Apple Color Emoji&quot;, &quot;Segoe UI Emoji&quot;; font-size: 16px;\">Készítsünk lekérdezést, amely részletesen megjeleníti az egyes órák fontosabb adatait, azaz</span>\n",
                "\n",
                "1. Az órák azonosítóit, a tanár nevét, a tantárgy nevét, a terem nevét és a kezdési időpontot!\n",
                "2. Az oszlopokat nevezzük el értelemszerűen!"
            ],
            "metadata": {
                "azdata_cell_guid": "d2340f5f-1614-473c-b937-85740d67f7c1"
            },
            "attachments": {}
        },
        {
            "cell_type": "code",
            "source": [
                "SELECT Oktatok.nev AS 'Tanár',\r\n",
                "        Tantárgyak.Tantárgynév AS 'Tárgy',\r\n",
                "        Termek.Terem AS 'Terem',\r\n",
                "        Savok.Időpont AS 'Idő'\r\n",
                "FROM Orak JOIN Savok ON Orak.Sav = Savok.Sav_id\r\n",
                "            JOIN Oktatok ON Orak.tanar = Oktatok.oktato_id\r\n",
                "            JOIN Tantárgyak ON Orak.targy = Tantárgyak.Tkód\r\n",
                "            JOIN Termek ON Orak.terem = Termek.Tkód"
            ],
            "metadata": {
                "azdata_cell_guid": "e99c2c53-898f-4787-b0e6-182d106dc16f",
                "language": "sql"
            },
            "outputs": [
                {
                    "output_type": "display_data",
                    "data": {
                        "text/html": "(67 rows affected)"
                    },
                    "metadata": {}
                },
                {
                    "output_type": "display_data",
                    "data": {
                        "text/html": "Total execution time: 00:00:00.052"
                    },
                    "metadata": {}
                },
                {
                    "output_type": "execute_result",
                    "metadata": {},
                    "execution_count": 2,
                    "data": {
                        "application/vnd.dataresource+json": {
                            "schema": {
                                "fields": [
                                    {
                                        "name": "Tanár"
                                    },
                                    {
                                        "name": "Tárgy"
                                    },
                                    {
                                        "name": "Terem"
                                    },
                                    {
                                        "name": "Idő"
                                    }
                                ]
                            },
                            "data": [
                                {
                                    "Tanár": "Ujfalussi István",
                                    "Tárgy": "Az ürgeöntés alapjai",
                                    "Terem": "117",
                                    "Idő": "8.00"
                                },
                                {
                                    "Tanár": "Pelikán József",
                                    "Tárgy": "Az ürgeöntés alapjai",
                                    "Terem": "118",
                                    "Idő": "14.00"
                                },
                                {
                                    "Tanár": "Pelikán József",
                                    "Tárgy": "Az ürgeöntés alapjai",
                                    "Terem": "118",
                                    "Idő": "9.30"
                                },
                                {
                                    "Tanár": "Kovács András",
                                    "Tárgy": "Az ürgeöntés alapjai",
                                    "Terem": "119",
                                    "Idő": "12.30"
                                },
                                {
                                    "Tanár": "Szerb László",
                                    "Tárgy": "Az ürgeöntés alapjai",
                                    "Terem": "120",
                                    "Idő": "9.30"
                                },
                                {
                                    "Tanár": "Kiss János",
                                    "Tárgy": "Az ürgeöntés alapjai",
                                    "Terem": "119",
                                    "Idő": "11.00"
                                },
                                {
                                    "Tanár": "Szerb László",
                                    "Tárgy": "Az ürgeöntés alapjai",
                                    "Terem": "119",
                                    "Idő": "11.00"
                                },
                                {
                                    "Tanár": "Szerb László",
                                    "Tárgy": "Az ürgeöntés alapjai",
                                    "Terem": "119",
                                    "Idő": "12.30"
                                },
                                {
                                    "Tanár": "Szentágotai Istvás",
                                    "Tárgy": "Az ürgeöntés alapjai",
                                    "Terem": "120",
                                    "Idő": "12.30"
                                },
                                {
                                    "Tanár": "Ujfalussi István",
                                    "Tárgy": "Az ürgeöntés alapjai",
                                    "Terem": "217",
                                    "Idő": "11.00"
                                },
                                {
                                    "Tanár": "Kovács András",
                                    "Tárgy": "Az ürgeöntés alapjai",
                                    "Terem": "218",
                                    "Idő": "9.30"
                                },
                                {
                                    "Tanár": "Ludas Mátyás",
                                    "Tárgy": "Az ürgeöntés alapjai",
                                    "Terem": "120",
                                    "Idő": "9.30"
                                },
                                {
                                    "Tanár": "Szénási ászló",
                                    "Tárgy": "Az ürgeöntés alapjai",
                                    "Terem": "220",
                                    "Idő": "9.30"
                                },
                                {
                                    "Tanár": "Kiss János",
                                    "Tárgy": "Az ürgeöntés alapjai",
                                    "Terem": "119",
                                    "Idő": "9.30"
                                },
                                {
                                    "Tanár": "Kovács András",
                                    "Tárgy": "Az ürgeöntés alapjai",
                                    "Terem": "119",
                                    "Idő": "11.00"
                                },
                                {
                                    "Tanár": "Ludas Mátyás",
                                    "Tárgy": "Az ürgeöntés alapjai",
                                    "Terem": "219",
                                    "Idő": "11.00"
                                },
                                {
                                    "Tanár": "Szénási ászló",
                                    "Tárgy": "Az ürgeöntés alapjai",
                                    "Terem": "120",
                                    "Idő": "12.30"
                                },
                                {
                                    "Tanár": "Kovács András",
                                    "Tárgy": "Az ürgeöntés alapjai",
                                    "Terem": "118",
                                    "Idő": "12.30"
                                },
                                {
                                    "Tanár": "Szentágotai Istvás",
                                    "Tárgy": "Az ürgeöntés alapjai",
                                    "Terem": "119",
                                    "Idő": "14.00"
                                },
                                {
                                    "Tanár": "Vitéz János",
                                    "Tárgy": "Az ürgeöntés alapjai",
                                    "Terem": "220",
                                    "Idő": "14.00"
                                },
                                {
                                    "Tanár": "Szentágotai Istvás",
                                    "Tárgy": "Az ürgeöntés alapjai",
                                    "Terem": "120",
                                    "Idő": "15.30"
                                },
                                {
                                    "Tanár": "Vitéz János",
                                    "Tárgy": "Az ürgeöntés alapjai",
                                    "Terem": "119",
                                    "Idő": "15.30"
                                },
                                {
                                    "Tanár": "Szentágotai Istvás",
                                    "Tárgy": "Az ürgeöntés alapjai",
                                    "Terem": "118",
                                    "Idő": "8.00"
                                },
                                {
                                    "Tanár": "Vitéz János",
                                    "Tárgy": "Az ürgeöntés alapjai",
                                    "Terem": "219",
                                    "Idő": "8.00"
                                },
                                {
                                    "Tanár": "Szentágotai Istvás",
                                    "Tárgy": "Az ürgeöntés alapjai",
                                    "Terem": "220",
                                    "Idő": "9.30"
                                },
                                {
                                    "Tanár": "Vitéz János",
                                    "Tárgy": "Az ürgeöntés alapjai",
                                    "Terem": "218",
                                    "Idő": "9.30"
                                },
                                {
                                    "Tanár": "Szentágotai Istvás",
                                    "Tárgy": "Az ürgeöntés alapjai",
                                    "Terem": "120",
                                    "Idő": "11.00"
                                },
                                {
                                    "Tanár": "Nógrádi Kata",
                                    "Tárgy": "ü-business",
                                    "Terem": "219",
                                    "Idő": "12.30"
                                },
                                {
                                    "Tanár": "Balkán András",
                                    "Tárgy": "Bevezetés az ürgeöntésbe",
                                    "Terem": "217",
                                    "Idő": "9.30"
                                },
                                {
                                    "Tanár": "Farkasos Piroska",
                                    "Tárgy": "Bevezetés az ürgeöntésbe",
                                    "Terem": "VP 203.",
                                    "Idő": "15.30"
                                },
                                {
                                    "Tanár": "Farkasos Piroska",
                                    "Tárgy": "Bevezetés az ürgeöntésbe",
                                    "Terem": "VP 203.",
                                    "Idő": "9.30"
                                },
                                {
                                    "Tanár": "Farkasos Piroska",
                                    "Tárgy": "Bevezetés az ürgeöntésbe",
                                    "Terem": "E.2.238",
                                    "Idő": "11.00"
                                },
                                {
                                    "Tanár": "Varga Kata",
                                    "Tárgy": "Az ürgeöntés hydrológiai alapjai II.",
                                    "Terem": "220",
                                    "Idő": "14.00"
                                },
                                {
                                    "Tanár": "Varga Kata",
                                    "Tárgy": "Az ürgeöntés hydrológiai alapjai II.",
                                    "Terem": "119",
                                    "Idő": "15.30"
                                },
                                {
                                    "Tanár": "Farkasos Piroska",
                                    "Tárgy": "Az ürgeöntés hydrológiai alapjai II.",
                                    "Terem": "217",
                                    "Idő": "14.00"
                                },
                                {
                                    "Tanár": "Farkasos Piroska",
                                    "Tárgy": "Az ürgeöntés hydrológiai alapjai II.",
                                    "Terem": "E.fsz.I",
                                    "Idő": "15.30"
                                },
                                {
                                    "Tanár": "Balkán András",
                                    "Tárgy": "Az ürgeöntés hydrológiai alapjai II.",
                                    "Terem": "116",
                                    "Idő": "14.00"
                                },
                                {
                                    "Tanár": "Balkán András",
                                    "Tárgy": "Az ürgeöntés hydrológiai alapjai II.",
                                    "Terem": "218",
                                    "Idő": "15.30"
                                },
                                {
                                    "Tanár": "Farkasos Piroska",
                                    "Tárgy": "Az ürgeöntés hydrológiai alapjai II.",
                                    "Terem": "116",
                                    "Idő": "8.00"
                                },
                                {
                                    "Tanár": "Farkasos Piroska",
                                    "Tárgy": "Az ürgeöntés hydrológiai alapjai II.",
                                    "Terem": "119",
                                    "Idő": "9.30"
                                },
                                {
                                    "Tanár": "Szabó Andrera",
                                    "Tárgy": "Az ürgeöntés hydrológiai alapjai II.",
                                    "Terem": "218",
                                    "Idő": "8.00"
                                },
                                {
                                    "Tanár": "Szabó Andrera",
                                    "Tárgy": "Az ürgeöntés hydrológiai alapjai II.",
                                    "Terem": "220",
                                    "Idő": "9.30"
                                },
                                {
                                    "Tanár": "Juhász András",
                                    "Tárgy": "Öntési gyakorlat",
                                    "Terem": "E.2.238",
                                    "Idő": "12.30"
                                },
                                {
                                    "Tanár": "Juhász András",
                                    "Tárgy": "Öntési gyakorlat",
                                    "Terem": "E.3.332",
                                    "Idő": "14.00"
                                },
                                {
                                    "Tanár": "Aranyi Mária",
                                    "Tárgy": "Az ürgeöntés hydrológiai alapjai I.",
                                    "Terem": "S.Asor.S3",
                                    "Idő": "12.30"
                                },
                                {
                                    "Tanár": "Róbert Gida",
                                    "Tárgy": "Az ürgeöntés hydrológiai alapjai I.",
                                    "Terem": "120",
                                    "Idő": "14.00"
                                },
                                {
                                    "Tanár": "Ujfalussi István",
                                    "Tárgy": "Az öntés elmélete",
                                    "Terem": "220",
                                    "Idő": "12.30"
                                },
                                {
                                    "Tanár": "Varga Kata",
                                    "Tárgy": "Az öntés elmélete",
                                    "Terem": "S.Asor.S3",
                                    "Idő": "8.00"
                                },
                                {
                                    "Tanár": "Varga Kata",
                                    "Tárgy": "Az öntés elmélete",
                                    "Terem": "219",
                                    "Idő": "12.30"
                                },
                                {
                                    "Tanár": "Jogrerős Pál",
                                    "Tárgy": "Ürgevitel",
                                    "Terem": "VP 203.",
                                    "Idő": "8.00"
                                },
                                {
                                    "Tanár": "Jogrerős Pál",
                                    "Tárgy": "Ürgevitel",
                                    "Terem": "VP 203.",
                                    "Idő": "9.30"
                                },
                                {
                                    "Tanár": "Szép llonka",
                                    "Tárgy": "Ürgeöntés az EU-ban",
                                    "Terem": "E.2.238",
                                    "Idő": "15.30"
                                },
                                {
                                    "Tanár": "Szép llonka",
                                    "Tárgy": "Ürgeöntés az EU-ban",
                                    "Terem": "217",
                                    "Idő": "17.00"
                                },
                                {
                                    "Tanár": "Kiss János",
                                    "Tárgy": "Ürgeöntés az EU-ban",
                                    "Terem": "120",
                                    "Idő": "18.30"
                                },
                                {
                                    "Tanár": "Kiss János",
                                    "Tárgy": "Ürgeöntés az EU-ban",
                                    "Terem": "218",
                                    "Idő": "20.00"
                                },
                                {
                                    "Tanár": "Pelikán József",
                                    "Tárgy": "Az ürge anatómiája",
                                    "Terem": "219",
                                    "Idő": "11.00"
                                },
                                {
                                    "Tanár": "Pelikán József",
                                    "Tárgy": "Az ürge anatómiája",
                                    "Terem": "E.fsz.IV.",
                                    "Idő": "12.30"
                                },
                                {
                                    "Tanár": "Szép llonka",
                                    "Tárgy": "Az ürge anatómiája",
                                    "Terem": "218",
                                    "Idő": "11.00"
                                },
                                {
                                    "Tanár": "Szép llonka",
                                    "Tárgy": "Az ürge anatómiája",
                                    "Terem": "217",
                                    "Idő": "12.30"
                                },
                                {
                                    "Tanár": "Pelikán József",
                                    "Tárgy": "Az ürge anatómiája",
                                    "Terem": "118",
                                    "Idő": "15.30"
                                },
                                {
                                    "Tanár": "Pelikán József",
                                    "Tárgy": "Az ürge anatómiája",
                                    "Terem": "219",
                                    "Idő": "17.00"
                                },
                                {
                                    "Tanár": "Kovács László",
                                    "Tárgy": "Fejezetek az ürgék jogaiból",
                                    "Terem": "119",
                                    "Idő": "11.00"
                                },
                                {
                                    "Tanár": "Kovács László",
                                    "Tárgy": "Fejezetek az ürgék jogaiból",
                                    "Terem": "VP 203.",
                                    "Idő": "11.00"
                                },
                                {
                                    "Tanár": "Kovács László",
                                    "Tárgy": "Fejezetek az ürgék jogaiból",
                                    "Terem": "116",
                                    "Idő": "14.00"
                                },
                                {
                                    "Tanár": "Kovács László",
                                    "Tárgy": "Fejezetek az ürgék jogaiból",
                                    "Terem": "S.Asor.S3",
                                    "Idő": "8.00"
                                },
                                {
                                    "Tanár": "Szentágotai Istvás",
                                    "Tárgy": "ürgefőzés",
                                    "Terem": "117",
                                    "Idő": "11.00"
                                },
                                {
                                    "Tanár": "Szentágotai Istvás",
                                    "Tárgy": "Az ürgeöntés hydrológiai alapjai I.",
                                    "Terem": "116",
                                    "Idő": "14.00"
                                }
                            ]
                        },
                        "text/html": [
                            "<table>",
                            "<tr><th>Tanár</th><th>Tárgy</th><th>Terem</th><th>Idő</th></tr>",
                            "<tr><td>Ujfalussi István</td><td>Az ürgeöntés alapjai</td><td>117</td><td>8.00</td></tr>",
                            "<tr><td>Pelikán József</td><td>Az ürgeöntés alapjai</td><td>118</td><td>14.00</td></tr>",
                            "<tr><td>Pelikán József</td><td>Az ürgeöntés alapjai</td><td>118</td><td>9.30</td></tr>",
                            "<tr><td>Kovács András</td><td>Az ürgeöntés alapjai</td><td>119</td><td>12.30</td></tr>",
                            "<tr><td>Szerb László</td><td>Az ürgeöntés alapjai</td><td>120</td><td>9.30</td></tr>",
                            "<tr><td>Kiss János</td><td>Az ürgeöntés alapjai</td><td>119</td><td>11.00</td></tr>",
                            "<tr><td>Szerb László</td><td>Az ürgeöntés alapjai</td><td>119</td><td>11.00</td></tr>",
                            "<tr><td>Szerb László</td><td>Az ürgeöntés alapjai</td><td>119</td><td>12.30</td></tr>",
                            "<tr><td>Szentágotai Istvás</td><td>Az ürgeöntés alapjai</td><td>120</td><td>12.30</td></tr>",
                            "<tr><td>Ujfalussi István</td><td>Az ürgeöntés alapjai</td><td>217</td><td>11.00</td></tr>",
                            "<tr><td>Kovács András</td><td>Az ürgeöntés alapjai</td><td>218</td><td>9.30</td></tr>",
                            "<tr><td>Ludas Mátyás</td><td>Az ürgeöntés alapjai</td><td>120</td><td>9.30</td></tr>",
                            "<tr><td>Szénási ászló</td><td>Az ürgeöntés alapjai</td><td>220</td><td>9.30</td></tr>",
                            "<tr><td>Kiss János</td><td>Az ürgeöntés alapjai</td><td>119</td><td>9.30</td></tr>",
                            "<tr><td>Kovács András</td><td>Az ürgeöntés alapjai</td><td>119</td><td>11.00</td></tr>",
                            "<tr><td>Ludas Mátyás</td><td>Az ürgeöntés alapjai</td><td>219</td><td>11.00</td></tr>",
                            "<tr><td>Szénási ászló</td><td>Az ürgeöntés alapjai</td><td>120</td><td>12.30</td></tr>",
                            "<tr><td>Kovács András</td><td>Az ürgeöntés alapjai</td><td>118</td><td>12.30</td></tr>",
                            "<tr><td>Szentágotai Istvás</td><td>Az ürgeöntés alapjai</td><td>119</td><td>14.00</td></tr>",
                            "<tr><td>Vitéz János</td><td>Az ürgeöntés alapjai</td><td>220</td><td>14.00</td></tr>",
                            "<tr><td>Szentágotai Istvás</td><td>Az ürgeöntés alapjai</td><td>120</td><td>15.30</td></tr>",
                            "<tr><td>Vitéz János</td><td>Az ürgeöntés alapjai</td><td>119</td><td>15.30</td></tr>",
                            "<tr><td>Szentágotai Istvás</td><td>Az ürgeöntés alapjai</td><td>118</td><td>8.00</td></tr>",
                            "<tr><td>Vitéz János</td><td>Az ürgeöntés alapjai</td><td>219</td><td>8.00</td></tr>",
                            "<tr><td>Szentágotai Istvás</td><td>Az ürgeöntés alapjai</td><td>220</td><td>9.30</td></tr>",
                            "<tr><td>Vitéz János</td><td>Az ürgeöntés alapjai</td><td>218</td><td>9.30</td></tr>",
                            "<tr><td>Szentágotai Istvás</td><td>Az ürgeöntés alapjai</td><td>120</td><td>11.00</td></tr>",
                            "<tr><td>Nógrádi Kata</td><td>ü-business</td><td>219</td><td>12.30</td></tr>",
                            "<tr><td>Balkán András</td><td>Bevezetés az ürgeöntésbe</td><td>217</td><td>9.30</td></tr>",
                            "<tr><td>Farkasos Piroska</td><td>Bevezetés az ürgeöntésbe</td><td>VP 203.</td><td>15.30</td></tr>",
                            "<tr><td>Farkasos Piroska</td><td>Bevezetés az ürgeöntésbe</td><td>VP 203.</td><td>9.30</td></tr>",
                            "<tr><td>Farkasos Piroska</td><td>Bevezetés az ürgeöntésbe</td><td>E.2.238</td><td>11.00</td></tr>",
                            "<tr><td>Varga Kata</td><td>Az ürgeöntés hydrológiai alapjai II.</td><td>220</td><td>14.00</td></tr>",
                            "<tr><td>Varga Kata</td><td>Az ürgeöntés hydrológiai alapjai II.</td><td>119</td><td>15.30</td></tr>",
                            "<tr><td>Farkasos Piroska</td><td>Az ürgeöntés hydrológiai alapjai II.</td><td>217</td><td>14.00</td></tr>",
                            "<tr><td>Farkasos Piroska</td><td>Az ürgeöntés hydrológiai alapjai II.</td><td>E.fsz.I</td><td>15.30</td></tr>",
                            "<tr><td>Balkán András</td><td>Az ürgeöntés hydrológiai alapjai II.</td><td>116</td><td>14.00</td></tr>",
                            "<tr><td>Balkán András</td><td>Az ürgeöntés hydrológiai alapjai II.</td><td>218</td><td>15.30</td></tr>",
                            "<tr><td>Farkasos Piroska</td><td>Az ürgeöntés hydrológiai alapjai II.</td><td>116</td><td>8.00</td></tr>",
                            "<tr><td>Farkasos Piroska</td><td>Az ürgeöntés hydrológiai alapjai II.</td><td>119</td><td>9.30</td></tr>",
                            "<tr><td>Szabó Andrera</td><td>Az ürgeöntés hydrológiai alapjai II.</td><td>218</td><td>8.00</td></tr>",
                            "<tr><td>Szabó Andrera</td><td>Az ürgeöntés hydrológiai alapjai II.</td><td>220</td><td>9.30</td></tr>",
                            "<tr><td>Juhász András</td><td>Öntési gyakorlat</td><td>E.2.238</td><td>12.30</td></tr>",
                            "<tr><td>Juhász András</td><td>Öntési gyakorlat</td><td>E.3.332</td><td>14.00</td></tr>",
                            "<tr><td>Aranyi Mária</td><td>Az ürgeöntés hydrológiai alapjai I.</td><td>S.Asor.S3</td><td>12.30</td></tr>",
                            "<tr><td>Róbert Gida</td><td>Az ürgeöntés hydrológiai alapjai I.</td><td>120</td><td>14.00</td></tr>",
                            "<tr><td>Ujfalussi István</td><td>Az öntés elmélete</td><td>220</td><td>12.30</td></tr>",
                            "<tr><td>Varga Kata</td><td>Az öntés elmélete</td><td>S.Asor.S3</td><td>8.00</td></tr>",
                            "<tr><td>Varga Kata</td><td>Az öntés elmélete</td><td>219</td><td>12.30</td></tr>",
                            "<tr><td>Jogrerős Pál</td><td>Ürgevitel</td><td>VP 203.</td><td>8.00</td></tr>",
                            "<tr><td>Jogrerős Pál</td><td>Ürgevitel</td><td>VP 203.</td><td>9.30</td></tr>",
                            "<tr><td>Szép llonka</td><td>Ürgeöntés az EU-ban</td><td>E.2.238</td><td>15.30</td></tr>",
                            "<tr><td>Szép llonka</td><td>Ürgeöntés az EU-ban</td><td>217</td><td>17.00</td></tr>",
                            "<tr><td>Kiss János</td><td>Ürgeöntés az EU-ban</td><td>120</td><td>18.30</td></tr>",
                            "<tr><td>Kiss János</td><td>Ürgeöntés az EU-ban</td><td>218</td><td>20.00</td></tr>",
                            "<tr><td>Pelikán József</td><td>Az ürge anatómiája</td><td>219</td><td>11.00</td></tr>",
                            "<tr><td>Pelikán József</td><td>Az ürge anatómiája</td><td>E.fsz.IV.</td><td>12.30</td></tr>",
                            "<tr><td>Szép llonka</td><td>Az ürge anatómiája</td><td>218</td><td>11.00</td></tr>",
                            "<tr><td>Szép llonka</td><td>Az ürge anatómiája</td><td>217</td><td>12.30</td></tr>",
                            "<tr><td>Pelikán József</td><td>Az ürge anatómiája</td><td>118</td><td>15.30</td></tr>",
                            "<tr><td>Pelikán József</td><td>Az ürge anatómiája</td><td>219</td><td>17.00</td></tr>",
                            "<tr><td>Kovács László</td><td>Fejezetek az ürgék jogaiból</td><td>119</td><td>11.00</td></tr>",
                            "<tr><td>Kovács László</td><td>Fejezetek az ürgék jogaiból</td><td>VP 203.</td><td>11.00</td></tr>",
                            "<tr><td>Kovács László</td><td>Fejezetek az ürgék jogaiból</td><td>116</td><td>14.00</td></tr>",
                            "<tr><td>Kovács László</td><td>Fejezetek az ürgék jogaiból</td><td>S.Asor.S3</td><td>8.00</td></tr>",
                            "<tr><td>Szentágotai Istvás</td><td>ürgefőzés</td><td>117</td><td>11.00</td></tr>",
                            "<tr><td>Szentágotai Istvás</td><td>Az ürgeöntés hydrológiai alapjai I.</td><td>116</td><td>14.00</td></tr>",
                            "</table>"
                        ]
                    }
                }
            ],
            "execution_count": 2
        },
        {
            "cell_type": "markdown",
            "source": [
                "12. <span style=\"color: rgb(36, 41, 47); font-family: -apple-system, BlinkMacSystemFont, &quot;Segoe UI&quot;, Helvetica, Arial, sans-serif, &quot;Apple Color Emoji&quot;, &quot;Segoe UI Emoji&quot;; font-size: 16px;\">Készítsünk listát, amely tartalmazza az egyes órák azonosítóit, és az órán oktatott tantárgy felelősének nevét!</span>\n",
                "\n",
                "1. Rendezzük a listát a tantárgyfelelős neve szerint csökkenő sorrendbe!"
            ],
            "metadata": {
                "azdata_cell_guid": "a765e9d6-58b3-4171-872a-78f3118fd6e3"
            },
            "attachments": {}
        },
        {
            "cell_type": "code",
            "source": [
                "SELECT Orak.ora_id,\r\n",
                "        Tantárgyak.Tantárgyfelelős\r\n",
                "FROM Orak JOIN Tantárgyak On Orak.targy=Tantárgyak.Tkód\r\n",
                "ORDER BY Tantárgyak.Tantárgyfelelős DESC"
            ],
            "metadata": {
                "azdata_cell_guid": "422e8127-b652-4d3a-bfd7-9b1637b5781e",
                "language": "sql"
            },
            "outputs": [
                {
                    "output_type": "display_data",
                    "data": {
                        "text/html": "(67 rows affected)"
                    },
                    "metadata": {}
                },
                {
                    "output_type": "display_data",
                    "data": {
                        "text/html": "Total execution time: 00:00:00.019"
                    },
                    "metadata": {}
                },
                {
                    "output_type": "execute_result",
                    "metadata": {},
                    "execution_count": 12,
                    "data": {
                        "application/vnd.dataresource+json": {
                            "schema": {
                                "fields": [
                                    {
                                        "name": "ora_id"
                                    },
                                    {
                                        "name": "Tantárgyfelelős"
                                    }
                                ]
                            },
                            "data": [
                                {
                                    "ora_id": "208",
                                    "Tantárgyfelelős": "10"
                                },
                                {
                                    "ora_id": "209",
                                    "Tantárgyfelelős": "10"
                                },
                                {
                                    "ora_id": "210",
                                    "Tantárgyfelelős": "8"
                                },
                                {
                                    "ora_id": "211",
                                    "Tantárgyfelelős": "8"
                                },
                                {
                                    "ora_id": "212",
                                    "Tantárgyfelelős": "8"
                                },
                                {
                                    "ora_id": "213",
                                    "Tantárgyfelelős": "8"
                                },
                                {
                                    "ora_id": "214",
                                    "Tantárgyfelelős": "8"
                                },
                                {
                                    "ora_id": "215",
                                    "Tantárgyfelelős": "8"
                                },
                                {
                                    "ora_id": "216",
                                    "Tantárgyfelelős": "8"
                                },
                                {
                                    "ora_id": "217",
                                    "Tantárgyfelelős": "8"
                                },
                                {
                                    "ora_id": "218",
                                    "Tantárgyfelelős": "8"
                                },
                                {
                                    "ora_id": "219",
                                    "Tantárgyfelelős": "8"
                                },
                                {
                                    "ora_id": "201",
                                    "Tantárgyfelelős": "8"
                                },
                                {
                                    "ora_id": "202",
                                    "Tantárgyfelelős": "8"
                                },
                                {
                                    "ora_id": "191",
                                    "Tantárgyfelelős": "5"
                                },
                                {
                                    "ora_id": "192",
                                    "Tantárgyfelelős": "5"
                                },
                                {
                                    "ora_id": "193",
                                    "Tantárgyfelelős": "5"
                                },
                                {
                                    "ora_id": "194",
                                    "Tantárgyfelelős": "5"
                                },
                                {
                                    "ora_id": "195",
                                    "Tantárgyfelelős": "5"
                                },
                                {
                                    "ora_id": "196",
                                    "Tantárgyfelelős": "5"
                                },
                                {
                                    "ora_id": "197",
                                    "Tantárgyfelelős": "5"
                                },
                                {
                                    "ora_id": "198",
                                    "Tantárgyfelelős": "5"
                                },
                                {
                                    "ora_id": "199",
                                    "Tantárgyfelelős": "5"
                                },
                                {
                                    "ora_id": "200",
                                    "Tantárgyfelelős": "5"
                                },
                                {
                                    "ora_id": "159",
                                    "Tantárgyfelelős": "5"
                                },
                                {
                                    "ora_id": "160",
                                    "Tantárgyfelelős": "5"
                                },
                                {
                                    "ora_id": "161",
                                    "Tantárgyfelelős": "5"
                                },
                                {
                                    "ora_id": "162",
                                    "Tantárgyfelelős": "5"
                                },
                                {
                                    "ora_id": "163",
                                    "Tantárgyfelelős": "5"
                                },
                                {
                                    "ora_id": "164",
                                    "Tantárgyfelelős": "5"
                                },
                                {
                                    "ora_id": "165",
                                    "Tantárgyfelelős": "5"
                                },
                                {
                                    "ora_id": "166",
                                    "Tantárgyfelelős": "5"
                                },
                                {
                                    "ora_id": "167",
                                    "Tantárgyfelelős": "5"
                                },
                                {
                                    "ora_id": "168",
                                    "Tantárgyfelelős": "5"
                                },
                                {
                                    "ora_id": "169",
                                    "Tantárgyfelelős": "5"
                                },
                                {
                                    "ora_id": "170",
                                    "Tantárgyfelelős": "5"
                                },
                                {
                                    "ora_id": "171",
                                    "Tantárgyfelelős": "5"
                                },
                                {
                                    "ora_id": "172",
                                    "Tantárgyfelelős": "5"
                                },
                                {
                                    "ora_id": "173",
                                    "Tantárgyfelelős": "5"
                                },
                                {
                                    "ora_id": "174",
                                    "Tantárgyfelelős": "5"
                                },
                                {
                                    "ora_id": "175",
                                    "Tantárgyfelelős": "5"
                                },
                                {
                                    "ora_id": "176",
                                    "Tantárgyfelelős": "5"
                                },
                                {
                                    "ora_id": "177",
                                    "Tantárgyfelelős": "5"
                                },
                                {
                                    "ora_id": "178",
                                    "Tantárgyfelelős": "5"
                                },
                                {
                                    "ora_id": "179",
                                    "Tantárgyfelelős": "5"
                                },
                                {
                                    "ora_id": "180",
                                    "Tantárgyfelelős": "5"
                                },
                                {
                                    "ora_id": "181",
                                    "Tantárgyfelelős": "5"
                                },
                                {
                                    "ora_id": "182",
                                    "Tantárgyfelelős": "5"
                                },
                                {
                                    "ora_id": "183",
                                    "Tantárgyfelelős": "5"
                                },
                                {
                                    "ora_id": "184",
                                    "Tantárgyfelelős": "5"
                                },
                                {
                                    "ora_id": "185",
                                    "Tantárgyfelelős": "5"
                                },
                                {
                                    "ora_id": "187",
                                    "Tantárgyfelelős": "5"
                                },
                                {
                                    "ora_id": "188",
                                    "Tantárgyfelelős": "5"
                                },
                                {
                                    "ora_id": "189",
                                    "Tantárgyfelelős": "5"
                                },
                                {
                                    "ora_id": "190",
                                    "Tantárgyfelelős": "5"
                                },
                                {
                                    "ora_id": "203",
                                    "Tantárgyfelelős": "4"
                                },
                                {
                                    "ora_id": "204",
                                    "Tantárgyfelelős": "4"
                                },
                                {
                                    "ora_id": "227",
                                    "Tantárgyfelelős": "4"
                                },
                                {
                                    "ora_id": "220",
                                    "Tantárgyfelelős": "1"
                                },
                                {
                                    "ora_id": "221",
                                    "Tantárgyfelelős": "1"
                                },
                                {
                                    "ora_id": "222",
                                    "Tantárgyfelelős": "1"
                                },
                                {
                                    "ora_id": "223",
                                    "Tantárgyfelelős": "1"
                                },
                                {
                                    "ora_id": "186",
                                    "Tantárgyfelelős": "1"
                                },
                                {
                                    "ora_id": "205",
                                    "Tantárgyfelelős": "1"
                                },
                                {
                                    "ora_id": "206",
                                    "Tantárgyfelelős": "1"
                                },
                                {
                                    "ora_id": "207",
                                    "Tantárgyfelelős": "1"
                                },
                                {
                                    "ora_id": "226",
                                    "Tantárgyfelelős": "1"
                                }
                            ]
                        },
                        "text/html": [
                            "<table>",
                            "<tr><th>ora_id</th><th>Tantárgyfelelős</th></tr>",
                            "<tr><td>208</td><td>10</td></tr>",
                            "<tr><td>209</td><td>10</td></tr>",
                            "<tr><td>210</td><td>8</td></tr>",
                            "<tr><td>211</td><td>8</td></tr>",
                            "<tr><td>212</td><td>8</td></tr>",
                            "<tr><td>213</td><td>8</td></tr>",
                            "<tr><td>214</td><td>8</td></tr>",
                            "<tr><td>215</td><td>8</td></tr>",
                            "<tr><td>216</td><td>8</td></tr>",
                            "<tr><td>217</td><td>8</td></tr>",
                            "<tr><td>218</td><td>8</td></tr>",
                            "<tr><td>219</td><td>8</td></tr>",
                            "<tr><td>201</td><td>8</td></tr>",
                            "<tr><td>202</td><td>8</td></tr>",
                            "<tr><td>191</td><td>5</td></tr>",
                            "<tr><td>192</td><td>5</td></tr>",
                            "<tr><td>193</td><td>5</td></tr>",
                            "<tr><td>194</td><td>5</td></tr>",
                            "<tr><td>195</td><td>5</td></tr>",
                            "<tr><td>196</td><td>5</td></tr>",
                            "<tr><td>197</td><td>5</td></tr>",
                            "<tr><td>198</td><td>5</td></tr>",
                            "<tr><td>199</td><td>5</td></tr>",
                            "<tr><td>200</td><td>5</td></tr>",
                            "<tr><td>159</td><td>5</td></tr>",
                            "<tr><td>160</td><td>5</td></tr>",
                            "<tr><td>161</td><td>5</td></tr>",
                            "<tr><td>162</td><td>5</td></tr>",
                            "<tr><td>163</td><td>5</td></tr>",
                            "<tr><td>164</td><td>5</td></tr>",
                            "<tr><td>165</td><td>5</td></tr>",
                            "<tr><td>166</td><td>5</td></tr>",
                            "<tr><td>167</td><td>5</td></tr>",
                            "<tr><td>168</td><td>5</td></tr>",
                            "<tr><td>169</td><td>5</td></tr>",
                            "<tr><td>170</td><td>5</td></tr>",
                            "<tr><td>171</td><td>5</td></tr>",
                            "<tr><td>172</td><td>5</td></tr>",
                            "<tr><td>173</td><td>5</td></tr>",
                            "<tr><td>174</td><td>5</td></tr>",
                            "<tr><td>175</td><td>5</td></tr>",
                            "<tr><td>176</td><td>5</td></tr>",
                            "<tr><td>177</td><td>5</td></tr>",
                            "<tr><td>178</td><td>5</td></tr>",
                            "<tr><td>179</td><td>5</td></tr>",
                            "<tr><td>180</td><td>5</td></tr>",
                            "<tr><td>181</td><td>5</td></tr>",
                            "<tr><td>182</td><td>5</td></tr>",
                            "<tr><td>183</td><td>5</td></tr>",
                            "<tr><td>184</td><td>5</td></tr>",
                            "<tr><td>185</td><td>5</td></tr>",
                            "<tr><td>187</td><td>5</td></tr>",
                            "<tr><td>188</td><td>5</td></tr>",
                            "<tr><td>189</td><td>5</td></tr>",
                            "<tr><td>190</td><td>5</td></tr>",
                            "<tr><td>203</td><td>4</td></tr>",
                            "<tr><td>204</td><td>4</td></tr>",
                            "<tr><td>227</td><td>4</td></tr>",
                            "<tr><td>220</td><td>1</td></tr>",
                            "<tr><td>221</td><td>1</td></tr>",
                            "<tr><td>222</td><td>1</td></tr>",
                            "<tr><td>223</td><td>1</td></tr>",
                            "<tr><td>186</td><td>1</td></tr>",
                            "<tr><td>205</td><td>1</td></tr>",
                            "<tr><td>206</td><td>1</td></tr>",
                            "<tr><td>207</td><td>1</td></tr>",
                            "<tr><td>226</td><td>1</td></tr>",
                            "</table>"
                        ]
                    }
                }
            ],
            "execution_count": 12
        },
        {
            "cell_type": "markdown",
            "source": [
                "13. <span style=\"color: rgb(36, 41, 47); font-family: -apple-system, BlinkMacSystemFont, &quot;Segoe UI&quot;, Helvetica, Arial, sans-serif, &quot;Apple Color Emoji&quot;, &quot;Segoe UI Emoji&quot;; font-size: 16px;\">Készítsünk listát, amely megjeleníti, hogy az Orak táblában lévő órák közül hányat tart Dr., illetve nem Dr. titulusú tanár!</span>\n",
                "\n",
                "1. Az oszlopokat nevezzük el értelemszerűen!"
            ],
            "metadata": {
                "azdata_cell_guid": "3f9237ae-f109-401c-acb9-31d75e73331b"
            },
            "attachments": {}
        },
        {
            "cell_type": "code",
            "source": [
                "SELECT CASE Oktatok.titulus\r\n",
                "            WHEN 'Dr' THEN 'Dr'\r\n",
                "            ELSE 'Nem Dr'\r\n",
                "        END AS 'Titulus', COUNT(Orak.ora_id) as ' darab'\r\n",
                "FROM Orak JOIN Oktatok ON Orak.tanar=Oktatok.oktato_id\r\n",
                "GROUP BY ASE Oktatok.titulus\r\n",
                "            WHEN 'Dr' THEN 'Dr'\r\n",
                "            ELSE 'Nem Dr'\r\n",
                "        END"
            ],
            "metadata": {
                "azdata_cell_guid": "4b31bb89-cfbc-46b1-8639-85c462877786",
                "language": "sql",
                "tags": []
            },
            "outputs": [
                {
                    "output_type": "error",
                    "evalue": "Msg 102, Level 15, State 1, Line 6\r\nIncorrect syntax near '.'.",
                    "ename": "",
                    "traceback": []
                },
                {
                    "output_type": "display_data",
                    "data": {
                        "text/html": "Total execution time: 00:00:00.011"
                    },
                    "metadata": {}
                }
            ],
            "execution_count": 13
        },
        {
            "cell_type": "markdown",
            "source": [
                "14. <span style=\"color: rgb(36, 41, 47); font-family: -apple-system, BlinkMacSystemFont, &quot;Segoe UI&quot;, Helvetica, Arial, sans-serif, &quot;Apple Color Emoji&quot;, &quot;Segoe UI Emoji&quot;; font-size: 16px;\">Készítsünk listát arról, hogy beosztásonként hány óra szerepel az Orak táblában!</span>\n",
                "\n",
                "1. Jelenítsük meg a beosztások nevét és az órák számát!\n",
                "2. A listát szűrjük azokra a beosztásokra, ahol ez az óraszám 10 feletti!"
            ],
            "metadata": {
                "azdata_cell_guid": "f634e09a-85ef-4e70-8ec6-ef355dfddaa7"
            },
            "attachments": {}
        },
        {
            "cell_type": "code",
            "source": [
                "    SELECT Beosztasok.beosztasnev,\r\n",
                "            COUNT(ora_id)\r\n",
                "    FROM Oktatok JOIN Orak On Oktatok.oktato_id= Orak.tanar\r\n",
                "                    JOIN Beosztasok On Oktatok.titulus=Beosztasok.beosztas_id\r\n",
                "    GROUP BY Beosztasok.beosztasnev\r\n",
                "    HAVING COUNT(ora_id)>10"
            ],
            "metadata": {
                "azdata_cell_guid": "88abc55b-2c78-495b-a72f-3f8f4eb5fe70",
                "language": "sql"
            },
            "outputs": [
                {
                    "output_type": "display_data",
                    "data": {
                        "text/html": "Total execution time: 00:00:00.007"
                    },
                    "metadata": {}
                },
                {
                    "output_type": "execute_result",
                    "metadata": {},
                    "execution_count": 11,
                    "data": {
                        "application/vnd.dataresource+json": {
                            "schema": {
                                "fields": [
                                    {
                                        "name": "beosztasnev"
                                    },
                                    {
                                        "name": "(No column name)"
                                    }
                                ]
                            },
                            "data": []
                        },
                        "text/html": [
                            "<table>",
                            "<tr><th>beosztasnev</th><th>(No column name)</th></tr>",
                            "</table>"
                        ]
                    }
                },
                {
                    "output_type": "error",
                    "evalue": "Msg 245, Level 16, State 1, Line 1\r\nConversion failed when converting the nvarchar value 'Dr.' to data type int.",
                    "ename": "",
                    "traceback": []
                }
            ],
            "execution_count": 11
        },
        {
            "cell_type": "markdown",
            "source": [
                "15. <span style=\"color: rgb(36, 41, 47); font-family: -apple-system, BlinkMacSystemFont, &quot;Segoe UI&quot;, Helvetica, Arial, sans-serif, &quot;Apple Color Emoji&quot;, &quot;Segoe UI Emoji&quot;; font-size: 16px;\">Melyek azok az órák, amelyek kezdési időpontja olyan sávba esik, amely a mostani időpont (óra:perc) után van?</span>\n",
                "\n",
                "1. Listázzuk az órák azonosítóit, valamint az órakezdés napját és időpontját!\n",
                "2. A listát rendezzük az időpont szerint növekvő sorrendbe!"
            ],
            "metadata": {
                "azdata_cell_guid": "4cbf2f0d-a65d-480a-8186-ccdb24498443"
            },
            "attachments": {}
        },
        {
            "cell_type": "code",
            "source": [
                ""
            ],
            "metadata": {
                "azdata_cell_guid": "c148aee8-bc85-40bf-b80a-a4898a6c05cb",
                "language": "sql"
            },
            "outputs": [],
            "execution_count": null
        }
    ]
}