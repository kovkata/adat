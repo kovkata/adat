{
    "metadata": {
        "kernelspec": {
            "name": "SQL",
            "display_name": "SQL",
            "language": "sql"
        },
        "language_info": {
            "name": "sql",
            "version": ""
        },
        "extensions": {
            "azuredatastudio": {
                "version": 1,
                "views": []
            }
        }
    },
    "nbformat_minor": 2,
    "nbformat": 4,
    "cells": [
        {
            "cell_type": "markdown",
            "source": [
                "**Az első 5 feladat ismétlés (többtáblás lekérdezések) a tanulmányi adatbázisból**\n",
                "\n",
                "1. Készítsünk listát arról, hogy melyik óra melyik teremben van!\n",
                "    \n",
                "    1. Jelenítsük meg az óra azonosítóját és a terem nevét!\n",
                "    2. A listát szűrjük a 3 karakter hosszú, \\[100;199\\] zárt intervallumba eső termekre! Feltesszük, hogy a 3 karakter hosszú terem nevek csak számjegyeket tartalmaznak."
            ],
            "metadata": {
                "azdata_cell_guid": "77f2d5b3-38e9-41cc-893f-f5afd02b97ef"
            },
            "attachments": {}
        },
        {
            "cell_type": "code",
            "source": [
                "SELECT o.ora_id,\r\n",
                "        t.Terem\r\n",
                "FROM Orak o JOIN Termek t ON o.terem = t.Tkód\r\n",
                "WHERE LEN(t.Terem)=3 AND t.Terem BETWEEN 100 AND 199"
            ],
            "metadata": {
                "azdata_cell_guid": "bd3cef1a-4e6e-4ece-9dc3-aaa9d2b5d66d",
                "language": "sql",
                "tags": []
            },
            "outputs": [
                {
                    "output_type": "display_data",
                    "data": {
                        "text/html": "(30 rows affected)"
                    },
                    "metadata": {}
                },
                {
                    "output_type": "display_data",
                    "data": {
                        "text/html": "Total execution time: 00:00:00.046"
                    },
                    "metadata": {}
                },
                {
                    "output_type": "execute_result",
                    "metadata": {},
                    "execution_count": 1,
                    "data": {
                        "application/vnd.dataresource+json": {
                            "schema": {
                                "fields": [
                                    {
                                        "name": "ora_id"
                                    },
                                    {
                                        "name": "Terem"
                                    }
                                ]
                            },
                            "data": [
                                {
                                    "ora_id": "159",
                                    "Terem": "117"
                                },
                                {
                                    "ora_id": "160",
                                    "Terem": "118"
                                },
                                {
                                    "ora_id": "161",
                                    "Terem": "118"
                                },
                                {
                                    "ora_id": "162",
                                    "Terem": "119"
                                },
                                {
                                    "ora_id": "163",
                                    "Terem": "120"
                                },
                                {
                                    "ora_id": "164",
                                    "Terem": "119"
                                },
                                {
                                    "ora_id": "165",
                                    "Terem": "119"
                                },
                                {
                                    "ora_id": "166",
                                    "Terem": "119"
                                },
                                {
                                    "ora_id": "167",
                                    "Terem": "120"
                                },
                                {
                                    "ora_id": "170",
                                    "Terem": "120"
                                },
                                {
                                    "ora_id": "172",
                                    "Terem": "119"
                                },
                                {
                                    "ora_id": "173",
                                    "Terem": "119"
                                },
                                {
                                    "ora_id": "175",
                                    "Terem": "120"
                                },
                                {
                                    "ora_id": "176",
                                    "Terem": "118"
                                },
                                {
                                    "ora_id": "177",
                                    "Terem": "119"
                                },
                                {
                                    "ora_id": "179",
                                    "Terem": "120"
                                },
                                {
                                    "ora_id": "180",
                                    "Terem": "119"
                                },
                                {
                                    "ora_id": "181",
                                    "Terem": "118"
                                },
                                {
                                    "ora_id": "185",
                                    "Terem": "120"
                                },
                                {
                                    "ora_id": "192",
                                    "Terem": "119"
                                },
                                {
                                    "ora_id": "195",
                                    "Terem": "116"
                                },
                                {
                                    "ora_id": "197",
                                    "Terem": "116"
                                },
                                {
                                    "ora_id": "198",
                                    "Terem": "119"
                                },
                                {
                                    "ora_id": "204",
                                    "Terem": "120"
                                },
                                {
                                    "ora_id": "212",
                                    "Terem": "120"
                                },
                                {
                                    "ora_id": "218",
                                    "Terem": "118"
                                },
                                {
                                    "ora_id": "220",
                                    "Terem": "119"
                                },
                                {
                                    "ora_id": "222",
                                    "Terem": "116"
                                },
                                {
                                    "ora_id": "226",
                                    "Terem": "117"
                                },
                                {
                                    "ora_id": "227",
                                    "Terem": "116"
                                }
                            ]
                        },
                        "text/html": [
                            "<table>",
                            "<tr><th>ora_id</th><th>Terem</th></tr>",
                            "<tr><td>159</td><td>117</td></tr>",
                            "<tr><td>160</td><td>118</td></tr>",
                            "<tr><td>161</td><td>118</td></tr>",
                            "<tr><td>162</td><td>119</td></tr>",
                            "<tr><td>163</td><td>120</td></tr>",
                            "<tr><td>164</td><td>119</td></tr>",
                            "<tr><td>165</td><td>119</td></tr>",
                            "<tr><td>166</td><td>119</td></tr>",
                            "<tr><td>167</td><td>120</td></tr>",
                            "<tr><td>170</td><td>120</td></tr>",
                            "<tr><td>172</td><td>119</td></tr>",
                            "<tr><td>173</td><td>119</td></tr>",
                            "<tr><td>175</td><td>120</td></tr>",
                            "<tr><td>176</td><td>118</td></tr>",
                            "<tr><td>177</td><td>119</td></tr>",
                            "<tr><td>179</td><td>120</td></tr>",
                            "<tr><td>180</td><td>119</td></tr>",
                            "<tr><td>181</td><td>118</td></tr>",
                            "<tr><td>185</td><td>120</td></tr>",
                            "<tr><td>192</td><td>119</td></tr>",
                            "<tr><td>195</td><td>116</td></tr>",
                            "<tr><td>197</td><td>116</td></tr>",
                            "<tr><td>198</td><td>119</td></tr>",
                            "<tr><td>204</td><td>120</td></tr>",
                            "<tr><td>212</td><td>120</td></tr>",
                            "<tr><td>218</td><td>118</td></tr>",
                            "<tr><td>220</td><td>119</td></tr>",
                            "<tr><td>222</td><td>116</td></tr>",
                            "<tr><td>226</td><td>117</td></tr>",
                            "<tr><td>227</td><td>116</td></tr>",
                            "</table>"
                        ]
                    }
                }
            ],
            "execution_count": 1
        },
        {
            "cell_type": "markdown",
            "source": [
                "2. <span style=\"font-weight: 600; color: rgb(36, 41, 47); font-family: -apple-system, BlinkMacSystemFont, &quot;Segoe UI&quot;, Helvetica, Arial, sans-serif, &quot;Apple Color Emoji&quot;, &quot;Segoe UI Emoji&quot;; font-size: 16px;\">Hány óra van összesen az egyes napokon?</span>\n",
                "\n",
                "1. Jelenítsük meg a napok nevét és az órák számát az adott napon!\n",
                "2. Az oszlopokat nevezzük el értelemszerűen!\n",
                "3. A listát rendezzük óraszám szerint növekvő sorrendbe!"
            ],
            "metadata": {
                "azdata_cell_guid": "88f5b4bb-f4c1-4bad-a0c7-b2592687b422"
            },
            "attachments": {}
        },
        {
            "cell_type": "code",
            "source": [
                "SELECT n.nap AS 'Napok',\r\n",
                "        COUNT(o.ora_id) AS 'Darab'\r\n",
                "FROM Orak o JOIN Napok n ON o.nap = n.nap_id\r\n",
                "GROUP BY n.nap\r\n",
                "ORDER BY COUNT(o.ora_id) ASC"
            ],
            "metadata": {
                "azdata_cell_guid": "e9de5726-f036-4fb9-8c33-a873955ed886",
                "language": "sql"
            },
            "outputs": [
                {
                    "output_type": "display_data",
                    "data": {
                        "text/html": "(5 rows affected)"
                    },
                    "metadata": {}
                },
                {
                    "output_type": "display_data",
                    "data": {
                        "text/html": "Total execution time: 00:00:00.012"
                    },
                    "metadata": {}
                },
                {
                    "output_type": "execute_result",
                    "metadata": {},
                    "execution_count": 3,
                    "data": {
                        "application/vnd.dataresource+json": {
                            "schema": {
                                "fields": [
                                    {
                                        "name": "Napok"
                                    },
                                    {
                                        "name": "Darab"
                                    }
                                ]
                            },
                            "data": [
                                {
                                    "Napok": "Péntek",
                                    "Darab": "6"
                                },
                                {
                                    "Napok": "Szerda",
                                    "Darab": "6"
                                },
                                {
                                    "Napok": "Kedd",
                                    "Darab": "13"
                                },
                                {
                                    "Napok": "Csütörtök",
                                    "Darab": "19"
                                },
                                {
                                    "Napok": "Hétfő",
                                    "Darab": "23"
                                }
                            ]
                        },
                        "text/html": [
                            "<table>",
                            "<tr><th>Napok</th><th>Darab</th></tr>",
                            "<tr><td>Péntek</td><td>6</td></tr>",
                            "<tr><td>Szerda</td><td>6</td></tr>",
                            "<tr><td>Kedd</td><td>13</td></tr>",
                            "<tr><td>Csütörtök</td><td>19</td></tr>",
                            "<tr><td>Hétfő</td><td>23</td></tr>",
                            "</table>"
                        ]
                    }
                }
            ],
            "execution_count": 3
        },
        {
            "cell_type": "markdown",
            "source": [
                "3. <span style=\"font-weight: 600; color: rgb(36, 41, 47); font-family: -apple-system, BlinkMacSystemFont, &quot;Segoe UI&quot;, Helvetica, Arial, sans-serif, &quot;Apple Color Emoji&quot;, &quot;Segoe UI Emoji&quot;; font-size: 16px;\">Készítsünk listát arról, hogy melyik oktatónak hány órája van az Órák táblában!</span>\n",
                "\n",
                "1. A lista jelenítse meg az oktatók nevét, és az órák számát!\n",
                "2. Az oszlopokat nevezzük el értelemszerűen!\n",
                "3. A listából hagyjuk ki az óraadókat!"
            ],
            "metadata": {
                "azdata_cell_guid": "9e7249de-1b59-43d8-84b1-26fa7d81fc5a"
            },
            "attachments": {}
        },
        {
            "cell_type": "code",
            "source": [
                "SELECT ok.nev AS 'Név',\r\n",
                "        COUNT(o.ora_id) AS 'Darab'\r\n",
                "FROM Oktatok ok JOIN Orak o ON o.tanar = ok.oktato_id\r\n",
                "                JOIN Beosztasok b On ok.[status] = beosztas_id\r\n",
                "WHERE b.beosztasnev!='Óraadó'\r\n",
                "GROUP By ok.nev\r\n",
                ""
            ],
            "metadata": {
                "azdata_cell_guid": "6405d3e8-a9b1-45d7-aa76-3b1e785ef6cc",
                "language": "sql",
                "tags": []
            },
            "outputs": [
                {
                    "output_type": "display_data",
                    "data": {
                        "text/html": "(6 rows affected)"
                    },
                    "metadata": {}
                },
                {
                    "output_type": "display_data",
                    "data": {
                        "text/html": "Total execution time: 00:00:00.009"
                    },
                    "metadata": {}
                },
                {
                    "output_type": "execute_result",
                    "metadata": {},
                    "execution_count": 17,
                    "data": {
                        "application/vnd.dataresource+json": {
                            "schema": {
                                "fields": [
                                    {
                                        "name": "Név"
                                    },
                                    {
                                        "name": "Darab"
                                    }
                                ]
                            },
                            "data": [
                                {
                                    "Név": "Balkán András",
                                    "Darab": "3"
                                },
                                {
                                    "Név": "Farkasos Piroska",
                                    "Darab": "7"
                                },
                                {
                                    "Név": "Kovács László",
                                    "Darab": "4"
                                },
                                {
                                    "Név": "Pelikán József",
                                    "Darab": "6"
                                },
                                {
                                    "Név": "Szentágotai Istvás",
                                    "Darab": "8"
                                },
                                {
                                    "Név": "Ujfalussi István",
                                    "Darab": "3"
                                }
                            ]
                        },
                        "text/html": [
                            "<table>",
                            "<tr><th>Név</th><th>Darab</th></tr>",
                            "<tr><td>Balkán András</td><td>3</td></tr>",
                            "<tr><td>Farkasos Piroska</td><td>7</td></tr>",
                            "<tr><td>Kovács László</td><td>4</td></tr>",
                            "<tr><td>Pelikán József</td><td>6</td></tr>",
                            "<tr><td>Szentágotai Istvás</td><td>8</td></tr>",
                            "<tr><td>Ujfalussi István</td><td>3</td></tr>",
                            "</table>"
                        ]
                    }
                }
            ],
            "execution_count": 17
        },
        {
            "cell_type": "markdown",
            "source": [
                "4. <span style=\"color: rgb(36, 41, 47); font-family: -apple-system, BlinkMacSystemFont, &quot;Segoe UI&quot;, Helvetica, Arial, sans-serif, &quot;Apple Color Emoji&quot;, &quot;Segoe UI Emoji&quot;; font-size: 16px;\">Van-e olyan tantárgy, amelyből nincs óra?</span>\n",
                "\n",
                "1. Jelentsük meg a tantárgy nevét és a tantárgyfelelős nevét!"
            ],
            "metadata": {
                "azdata_cell_guid": "6478e469-c094-472c-a772-ccd5b5c61516"
            },
            "attachments": {}
        },
        {
            "cell_type": "code",
            "source": [
                "SELECT t.Tantárgynév,\r\n",
                "        ok.nev\r\n",
                "FROM Tantárgyak t Left JOIN Orak o ON t.Tkód= o.targy\r\n",
                "                        JOIN Oktatok ok On t.Tantárgyfelelős = ok.oktato_id\r\n",
                "WHERE o.targy IS NULL"
            ],
            "metadata": {
                "azdata_cell_guid": "02031ea2-3838-458d-839c-228e3b362b61",
                "language": "sql"
            },
            "outputs": [
                {
                    "output_type": "display_data",
                    "data": {
                        "text/html": "(1 row affected)"
                    },
                    "metadata": {}
                },
                {
                    "output_type": "display_data",
                    "data": {
                        "text/html": "Total execution time: 00:00:00.006"
                    },
                    "metadata": {}
                },
                {
                    "output_type": "execute_result",
                    "metadata": {},
                    "execution_count": 39,
                    "data": {
                        "application/vnd.dataresource+json": {
                            "schema": {
                                "fields": [
                                    {
                                        "name": "Tantárgynév"
                                    },
                                    {
                                        "name": "nev"
                                    }
                                ]
                            },
                            "data": [
                                {
                                    "Tantárgynév": "Folyami gáttan",
                                    "nev": "Varga Kata"
                                }
                            ]
                        },
                        "text/html": [
                            "<table>",
                            "<tr><th>Tantárgynév</th><th>nev</th></tr>",
                            "<tr><td>Folyami gáttan</td><td>Varga Kata</td></tr>",
                            "</table>"
                        ]
                    }
                }
            ],
            "execution_count": 39
        },
        {
            "cell_type": "markdown",
            "source": [
                "5. <span style=\"background-color: rgb(255, 255, 255); color: rgb(36, 41, 47); font-family: -apple-system, BlinkMacSystemFont, &quot;Segoe UI&quot;, Helvetica, Arial, sans-serif, &quot;Apple Color Emoji&quot;, &quot;Segoe UI Emoji&quot;; font-size: 16px;\">Hány óra van összesen a 120-as teremben?</span>"
            ],
            "metadata": {
                "azdata_cell_guid": "9edbbaf9-c276-4898-9a01-e1b2993c089f"
            },
            "attachments": {}
        },
        {
            "cell_type": "code",
            "source": [
                "SELECT COUNT(o.ora_id) AS 'Óraszám'\r\n",
                "FROM Orak o JOIN Termek t ON o.terem = t.Tkód\r\n",
                "GROUP BY t.Terem\r\n",
                "HAVING t.Terem=120"
            ],
            "metadata": {
                "azdata_cell_guid": "5ad5fdcb-2878-4111-861a-833bcd50e935",
                "language": "sql"
            },
            "outputs": [
                {
                    "output_type": "display_data",
                    "data": {
                        "text/html": "Total execution time: 00:00:00.010"
                    },
                    "metadata": {}
                },
                {
                    "output_type": "execute_result",
                    "metadata": {},
                    "execution_count": 23,
                    "data": {
                        "application/vnd.dataresource+json": {
                            "schema": {
                                "fields": [
                                    {
                                        "name": "Óraszám"
                                    }
                                ]
                            },
                            "data": [
                                {
                                    "Óraszám": "8"
                                }
                            ]
                        },
                        "text/html": [
                            "<table>",
                            "<tr><th>Óraszám</th></tr>",
                            "<tr><td>8</td></tr>",
                            "</table>"
                        ]
                    }
                },
                {
                    "output_type": "error",
                    "evalue": "Msg 245, Level 16, State 1, Line 1\r\nConversion failed when converting the nvarchar value 'E.2.238' to data type int.",
                    "ename": "",
                    "traceback": []
                }
            ],
            "execution_count": 23
        },
        {
            "cell_type": "markdown",
            "source": [
                "**A 6-10 feladatokat halmazműveletek segítségével oldjuk meg, szintén a tanulmányi adatbázison**\n",
                "\n",
                "6. <span style=\"background-color:rgb(255, 255, 255);color:rgb(36, 41, 47);font-family:-apple-system, BlinkMacSystemFont, &quot;Segoe UI&quot;, Helvetica, Arial, sans-serif, &quot;Apple Color Emoji&quot;, &quot;Segoe UI Emoji&quot;;font-size:16px;font-weight:600;\">Jelenítsük meg azon tanárok azonosítóját és nevét, akik hétfői vagy keddi napokon tanítanak!</span>"
            ],
            "metadata": {
                "azdata_cell_guid": "5fe65c1c-2479-45ac-ad03-ec99d12eae21"
            },
            "attachments": {}
        },
        {
            "cell_type": "code",
            "source": [
                "SELECT o.nev\r\n",
                "FROM Orak ora JOIN Oktatok o ON ora.tanar = o.oktato_id\r\n",
                "                JOIN Napok n ON ora.nap=n.nap_id\r\n",
                "WHERE n.nap='Kedd'\r\n",
                "\r\n",
                "\r\n",
                "UNION\r\n",
                "\r\n",
                "\r\n",
                "SELECT o.nev\r\n",
                "FROM Orak ora JOIN Oktatok o ON ora.tanar = o.oktato_id\r\n",
                "                JOIN Napok n ON ora.nap=n.nap_id\r\n",
                "WHERE n.nap='Hétfő'"
            ],
            "metadata": {
                "azdata_cell_guid": "924f2dde-f1c2-4def-a7f9-dbf4bace7735",
                "language": "sql"
            },
            "outputs": [
                {
                    "output_type": "display_data",
                    "data": {
                        "text/html": "(17 rows affected)"
                    },
                    "metadata": {}
                },
                {
                    "output_type": "display_data",
                    "data": {
                        "text/html": "Total execution time: 00:00:00.014"
                    },
                    "metadata": {}
                },
                {
                    "output_type": "execute_result",
                    "metadata": {},
                    "execution_count": 45,
                    "data": {
                        "application/vnd.dataresource+json": {
                            "schema": {
                                "fields": [
                                    {
                                        "name": "nev"
                                    }
                                ]
                            },
                            "data": [
                                {
                                    "nev": "Aranyi Mária"
                                },
                                {
                                    "nev": "Balkán András"
                                },
                                {
                                    "nev": "Farkasos Piroska"
                                },
                                {
                                    "nev": "Jogrerős Pál"
                                },
                                {
                                    "nev": "Kiss János"
                                },
                                {
                                    "nev": "Kovács András"
                                },
                                {
                                    "nev": "Kovács László"
                                },
                                {
                                    "nev": "Ludas Mátyás"
                                },
                                {
                                    "nev": "Nógrádi Kata"
                                },
                                {
                                    "nev": "Pelikán József"
                                },
                                {
                                    "nev": "Róbert Gida"
                                },
                                {
                                    "nev": "Szénási ászló"
                                },
                                {
                                    "nev": "Szentágotai Istvás"
                                },
                                {
                                    "nev": "Szép llonka"
                                },
                                {
                                    "nev": "Szerb László"
                                },
                                {
                                    "nev": "Ujfalussi István"
                                },
                                {
                                    "nev": "Varga Kata"
                                }
                            ]
                        },
                        "text/html": [
                            "<table>",
                            "<tr><th>nev</th></tr>",
                            "<tr><td>Aranyi Mária</td></tr>",
                            "<tr><td>Balkán András</td></tr>",
                            "<tr><td>Farkasos Piroska</td></tr>",
                            "<tr><td>Jogrerős Pál</td></tr>",
                            "<tr><td>Kiss János</td></tr>",
                            "<tr><td>Kovács András</td></tr>",
                            "<tr><td>Kovács László</td></tr>",
                            "<tr><td>Ludas Mátyás</td></tr>",
                            "<tr><td>Nógrádi Kata</td></tr>",
                            "<tr><td>Pelikán József</td></tr>",
                            "<tr><td>Róbert Gida</td></tr>",
                            "<tr><td>Szénási ászló</td></tr>",
                            "<tr><td>Szentágotai Istvás</td></tr>",
                            "<tr><td>Szép llonka</td></tr>",
                            "<tr><td>Szerb László</td></tr>",
                            "<tr><td>Ujfalussi István</td></tr>",
                            "<tr><td>Varga Kata</td></tr>",
                            "</table>"
                        ]
                    }
                }
            ],
            "execution_count": 45
        },
        {
            "cell_type": "markdown",
            "source": [
                "7. <span style=\"background-color: rgb(255, 255, 255); color: rgb(36, 41, 47); font-family: -apple-system, BlinkMacSystemFont, &quot;Segoe UI&quot;, Helvetica, Arial, sans-serif, &quot;Apple Color Emoji&quot;, &quot;Segoe UI Emoji&quot;; font-size: 16px; font-weight: 600;\">Melyek azok a tantárgyak, amelyek esetén van óra a 8.00-kor kezdődő sávban, de nincs a 12.30-kor kezdődő sávban?</span>"
            ],
            "metadata": {
                "azdata_cell_guid": "3aeb6bf5-b111-40d5-92b2-9712ce335696"
            },
            "attachments": {}
        },
        {
            "cell_type": "code",
            "source": [
                "SELECT t.Tantárgynév\r\n",
                "FROM Orak ora JOIN Savok s ON ora.Sav=s.Sav_id\r\n",
                "                JOIN Tantárgyak t ON ora.targy=t.Tkód\r\n",
                "WHERE s.Időpont='8.00'\r\n",
                "\r\n",
                "EXCEPT\r\n",
                "\r\n",
                "\r\n",
                "SELECT t.Tantárgynév\r\n",
                "FROM Orak ora JOIN Savok s ON ora.Sav=s.Sav_id\r\n",
                "                JOIN Tantárgyak t ON ora.targy=t.Tkód\r\n",
                "WHERE s.Időpont='12.30'"
            ],
            "metadata": {
                "azdata_cell_guid": "3e89b651-f56f-4102-af52-30eb2bbe360d",
                "language": "sql"
            },
            "outputs": [
                {
                    "output_type": "display_data",
                    "data": {
                        "text/html": "(3 rows affected)"
                    },
                    "metadata": {}
                },
                {
                    "output_type": "display_data",
                    "data": {
                        "text/html": "Total execution time: 00:00:00.020"
                    },
                    "metadata": {}
                },
                {
                    "output_type": "execute_result",
                    "metadata": {},
                    "execution_count": 47,
                    "data": {
                        "application/vnd.dataresource+json": {
                            "schema": {
                                "fields": [
                                    {
                                        "name": "Tantárgynév"
                                    }
                                ]
                            },
                            "data": [
                                {
                                    "Tantárgynév": "Az ürgeöntés hydrológiai alapjai II."
                                },
                                {
                                    "Tantárgynév": "Fejezetek az ürgék jogaiból"
                                },
                                {
                                    "Tantárgynév": "Ürgevitel"
                                }
                            ]
                        },
                        "text/html": [
                            "<table>",
                            "<tr><th>Tantárgynév</th></tr>",
                            "<tr><td>Az ürgeöntés hydrológiai alapjai II.</td></tr>",
                            "<tr><td>Fejezetek az ürgék jogaiból</td></tr>",
                            "<tr><td>Ürgevitel</td></tr>",
                            "</table>"
                        ]
                    }
                }
            ],
            "execution_count": 47
        },
        {
            "cell_type": "markdown",
            "source": [
                "8. <span style=\"background-color: rgb(255, 255, 255); color: rgb(36, 41, 47); font-family: -apple-system, BlinkMacSystemFont, &quot;Segoe UI&quot;, Helvetica, Arial, sans-serif, &quot;Apple Color Emoji&quot;, &quot;Segoe UI Emoji&quot;; font-size: 16px; font-weight: 600;\">Listázzuk azokat a termeket, amelyekben oktat Kovács László és van olyan tanóra a teremben, ahol a tantárgy nevében nem szerepel az 'ürge' szó!</span>"
            ],
            "metadata": {
                "azdata_cell_guid": "26a504dc-ff6a-439f-94c0-4580eca3eacf"
            },
            "attachments": {}
        },
        {
            "cell_type": "code",
            "source": [
                "SELECT t.Terem\r\n",
                "FROM Orak ora JOIN Oktatok o ON ora.tanar=o.oktato_id\r\n",
                "                JOIN Termek t ON ora.terem=t.Tkód\r\n",
                "WHERE o.nev='Kovács László'\r\n",
                "\r\n",
                "UNION\r\n",
                "\r\n",
                "SELECT t.Terem\r\n",
                "FROM Orak ora JOIN Termek t ON ora.terem=t.Tkód\r\n",
                "                JOIN Tantárgyak ta ON ora.targy=ta.Tkód\r\n",
                "WHERE ta.Tantárgynév='*ürge*'\r\n",
                "\r\n",
                ""
            ],
            "metadata": {
                "azdata_cell_guid": "1cbb8aeb-78b5-4350-aa45-e3202fdab85b",
                "language": "sql"
            },
            "outputs": [
                {
                    "output_type": "display_data",
                    "data": {
                        "text/html": "(0 rows affected)"
                    },
                    "metadata": {}
                },
                {
                    "output_type": "display_data",
                    "data": {
                        "text/html": "Total execution time: 00:00:00.006"
                    },
                    "metadata": {}
                },
                {
                    "output_type": "execute_result",
                    "metadata": {},
                    "execution_count": 56,
                    "data": {
                        "application/vnd.dataresource+json": {
                            "schema": {
                                "fields": [
                                    {
                                        "name": "Terem"
                                    }
                                ]
                            },
                            "data": []
                        },
                        "text/html": [
                            "<table>",
                            "<tr><th>Terem</th></tr>",
                            "</table>"
                        ]
                    }
                }
            ],
            "execution_count": 56
        },
        {
            "cell_type": "markdown",
            "source": [
                "9. <span style=\"font-weight: 600; color: rgb(36, 41, 47); font-family: -apple-system, BlinkMacSystemFont, &quot;Segoe UI&quot;, Helvetica, Arial, sans-serif, &quot;Apple Color Emoji&quot;, &quot;Segoe UI Emoji&quot;; font-size: 16px;\">Készítsünk listát arról, hogy melyik tanárnak hány órája van a (munka) hét elején (hétfőn), hét közben (kedd, szerda és csütörtök), illetve a hét végén (péntek)!</span>\n",
                "\n",
                "1. Jelenítsük meg a tanár azonosítóját, nevét, az időszakot (hét eleje - hét közben - hét vége), valamint az óraszámot!\n",
                "2. A három megjelölt időszakot külön kérdezzük le, majd fűzzük össze a lekérdezések eredményeit!\n",
                "3. Rendezzük a listát az oktató neve, azon belül időszak szerint!"
            ],
            "metadata": {
                "azdata_cell_guid": "435e2860-2dd5-4877-90f4-34a43baeb53c"
            },
            "attachments": {}
        },
        {
            "cell_type": "code",
            "source": [
                "SELECT *\r\n",
                "FROM Oktatok"
            ],
            "metadata": {
                "azdata_cell_guid": "ce846351-ddbe-4d8e-b8fb-2a92c73ac80b",
                "language": "sql"
            },
            "outputs": [
                {
                    "output_type": "display_data",
                    "data": {
                        "text/html": "(25 rows affected)"
                    },
                    "metadata": {}
                },
                {
                    "output_type": "display_data",
                    "data": {
                        "text/html": "Total execution time: 00:00:00.005"
                    },
                    "metadata": {}
                },
                {
                    "output_type": "execute_result",
                    "metadata": {},
                    "execution_count": 53,
                    "data": {
                        "application/vnd.dataresource+json": {
                            "schema": {
                                "fields": [
                                    {
                                        "name": "oktato_id"
                                    },
                                    {
                                        "name": "nev"
                                    },
                                    {
                                        "name": "titulus"
                                    },
                                    {
                                        "name": "beosztás"
                                    },
                                    {
                                        "name": "status"
                                    }
                                ]
                            },
                            "data": [
                                {
                                    "oktato_id": "1",
                                    "nev": "Kovács László",
                                    "titulus": "Dr.",
                                    "beosztás": "6",
                                    "status": "2"
                                },
                                {
                                    "oktato_id": "2",
                                    "nev": "Szentágotai Istvás",
                                    "titulus": "Dr.",
                                    "beosztás": "3",
                                    "status": "2"
                                },
                                {
                                    "oktato_id": "3",
                                    "nev": "Szerb László",
                                    "titulus": "NULL",
                                    "beosztás": "4",
                                    "status": "1"
                                },
                                {
                                    "oktato_id": "4",
                                    "nev": "Ujfalussi István",
                                    "titulus": "Prof, tanszékvezető",
                                    "beosztás": "6",
                                    "status": "2"
                                },
                                {
                                    "oktato_id": "5",
                                    "nev": "Balkán András",
                                    "titulus": "Dr.",
                                    "beosztás": "4",
                                    "status": "2"
                                },
                                {
                                    "oktato_id": "6",
                                    "nev": "Szép llonka",
                                    "titulus": "Dr.",
                                    "beosztás": "3",
                                    "status": "1"
                                },
                                {
                                    "oktato_id": "7",
                                    "nev": "Kiss János",
                                    "titulus": "NULL",
                                    "beosztás": "2",
                                    "status": "1"
                                },
                                {
                                    "oktato_id": "8",
                                    "nev": "Pelikán József",
                                    "titulus": "NULL",
                                    "beosztás": "2",
                                    "status": "3"
                                },
                                {
                                    "oktato_id": "9",
                                    "nev": "Farkasos Piroska",
                                    "titulus": "NULL",
                                    "beosztás": "2",
                                    "status": "3"
                                },
                                {
                                    "oktato_id": "10",
                                    "nev": "Jogrerős Pál",
                                    "titulus": "Prof.",
                                    "beosztás": "6",
                                    "status": "1"
                                },
                                {
                                    "oktato_id": "11",
                                    "nev": "Józsa Gábor",
                                    "titulus": "Dr.",
                                    "beosztás": "4",
                                    "status": "1"
                                },
                                {
                                    "oktato_id": "12",
                                    "nev": "Varga Kata",
                                    "titulus": "Dr.",
                                    "beosztás": "4",
                                    "status": "1"
                                },
                                {
                                    "oktato_id": "14",
                                    "nev": "Szénási ászló",
                                    "titulus": "NULL",
                                    "beosztás": "3",
                                    "status": "1"
                                },
                                {
                                    "oktato_id": "18",
                                    "nev": "Nógrádi Kata",
                                    "titulus": "NULL",
                                    "beosztás": "1",
                                    "status": "1"
                                },
                                {
                                    "oktato_id": "19",
                                    "nev": "Rácz András",
                                    "titulus": "NULL",
                                    "beosztás": "1",
                                    "status": "1"
                                },
                                {
                                    "oktato_id": "20",
                                    "nev": "Kovács András",
                                    "titulus": "NULL",
                                    "beosztás": "1",
                                    "status": "1"
                                },
                                {
                                    "oktato_id": "104",
                                    "nev": "Ludas Mátyás",
                                    "titulus": "NULL",
                                    "beosztás": "1",
                                    "status": "1"
                                },
                                {
                                    "oktato_id": "105",
                                    "nev": "Kiss István",
                                    "titulus": "NULL",
                                    "beosztás": "1",
                                    "status": "2"
                                },
                                {
                                    "oktato_id": "107",
                                    "nev": "Mészáros Kriszta",
                                    "titulus": "NULL",
                                    "beosztás": "1",
                                    "status": "2"
                                },
                                {
                                    "oktato_id": "108",
                                    "nev": "Róbert Gida",
                                    "titulus": "NULL",
                                    "beosztás": "2",
                                    "status": "1"
                                },
                                {
                                    "oktato_id": "111",
                                    "nev": "Vitéz János",
                                    "titulus": "NULL",
                                    "beosztás": "2",
                                    "status": "1"
                                },
                                {
                                    "oktato_id": "200",
                                    "nev": "Aranyi Mária",
                                    "titulus": "NULL",
                                    "beosztás": "1",
                                    "status": "1"
                                },
                                {
                                    "oktato_id": "300",
                                    "nev": "Szabó Andrera",
                                    "titulus": "NULL",
                                    "beosztás": "1",
                                    "status": "1"
                                },
                                {
                                    "oktato_id": "301",
                                    "nev": "Juhász András",
                                    "titulus": "Dr.",
                                    "beosztás": "6",
                                    "status": "1"
                                },
                                {
                                    "oktato_id": "302",
                                    "nev": "Kovacs Istvan",
                                    "titulus": "Dr.",
                                    "beosztás": "5",
                                    "status": "1"
                                }
                            ]
                        },
                        "text/html": [
                            "<table>",
                            "<tr><th>oktato_id</th><th>nev</th><th>titulus</th><th>beosztás</th><th>status</th></tr>",
                            "<tr><td>1</td><td>Kovács László</td><td>Dr.</td><td>6</td><td>2</td></tr>",
                            "<tr><td>2</td><td>Szentágotai Istvás</td><td>Dr.</td><td>3</td><td>2</td></tr>",
                            "<tr><td>3</td><td>Szerb László</td><td>NULL</td><td>4</td><td>1</td></tr>",
                            "<tr><td>4</td><td>Ujfalussi István</td><td>Prof, tanszékvezető</td><td>6</td><td>2</td></tr>",
                            "<tr><td>5</td><td>Balkán András</td><td>Dr.</td><td>4</td><td>2</td></tr>",
                            "<tr><td>6</td><td>Szép llonka</td><td>Dr.</td><td>3</td><td>1</td></tr>",
                            "<tr><td>7</td><td>Kiss János</td><td>NULL</td><td>2</td><td>1</td></tr>",
                            "<tr><td>8</td><td>Pelikán József</td><td>NULL</td><td>2</td><td>3</td></tr>",
                            "<tr><td>9</td><td>Farkasos Piroska</td><td>NULL</td><td>2</td><td>3</td></tr>",
                            "<tr><td>10</td><td>Jogrerős Pál</td><td>Prof.</td><td>6</td><td>1</td></tr>",
                            "<tr><td>11</td><td>Józsa Gábor</td><td>Dr.</td><td>4</td><td>1</td></tr>",
                            "<tr><td>12</td><td>Varga Kata</td><td>Dr.</td><td>4</td><td>1</td></tr>",
                            "<tr><td>14</td><td>Szénási ászló</td><td>NULL</td><td>3</td><td>1</td></tr>",
                            "<tr><td>18</td><td>Nógrádi Kata</td><td>NULL</td><td>1</td><td>1</td></tr>",
                            "<tr><td>19</td><td>Rácz András</td><td>NULL</td><td>1</td><td>1</td></tr>",
                            "<tr><td>20</td><td>Kovács András</td><td>NULL</td><td>1</td><td>1</td></tr>",
                            "<tr><td>104</td><td>Ludas Mátyás</td><td>NULL</td><td>1</td><td>1</td></tr>",
                            "<tr><td>105</td><td>Kiss István</td><td>NULL</td><td>1</td><td>2</td></tr>",
                            "<tr><td>107</td><td>Mészáros Kriszta</td><td>NULL</td><td>1</td><td>2</td></tr>",
                            "<tr><td>108</td><td>Róbert Gida</td><td>NULL</td><td>2</td><td>1</td></tr>",
                            "<tr><td>111</td><td>Vitéz János</td><td>NULL</td><td>2</td><td>1</td></tr>",
                            "<tr><td>200</td><td>Aranyi Mária</td><td>NULL</td><td>1</td><td>1</td></tr>",
                            "<tr><td>300</td><td>Szabó Andrera</td><td>NULL</td><td>1</td><td>1</td></tr>",
                            "<tr><td>301</td><td>Juhász András</td><td>Dr.</td><td>6</td><td>1</td></tr>",
                            "<tr><td>302</td><td>Kovacs Istvan</td><td>Dr.</td><td>5</td><td>1</td></tr>",
                            "</table>"
                        ]
                    }
                }
            ],
            "execution_count": 53
        },
        {
            "cell_type": "markdown",
            "source": [
                "10. <span style=\"background-color: rgb(255, 255, 255); color: rgb(36, 41, 47); font-family: -apple-system, BlinkMacSystemFont, &quot;Segoe UI&quot;, Helvetica, Arial, sans-serif, &quot;Apple Color Emoji&quot;, &quot;Segoe UI Emoji&quot;; font-size: 16px; font-weight: 600;\">Melyik napokon nincs órája Pelikán Józsefnek?</span>"
            ],
            "metadata": {
                "azdata_cell_guid": "217c5772-afe2-4a7c-b913-e3a3e09d6411"
            },
            "attachments": {}
        },
        {
            "cell_type": "code",
            "source": [
                "SELECT nap\r\n",
                "FRom Napok\r\n",
                "\r\n",
                "EXCEPT\r\n",
                "\r\n",
                "\r\n",
                "SELECT n.nap\r\n",
                "FROM Orak o JOIN Oktatok okt ON o.tanar=okt.oktato_id\r\n",
                "            JOIN Napok n ON o.nap = n.nap_id\r\n",
                "WHERE okt.nev = 'Pelikán József'"
            ],
            "metadata": {
                "azdata_cell_guid": "a9cc0926-3dbd-4ed8-8179-1c39d64a0762",
                "language": "sql"
            },
            "outputs": [
                {
                    "output_type": "display_data",
                    "data": {
                        "text/html": "(3 rows affected)"
                    },
                    "metadata": {}
                },
                {
                    "output_type": "display_data",
                    "data": {
                        "text/html": "Total execution time: 00:00:00.014"
                    },
                    "metadata": {}
                },
                {
                    "output_type": "execute_result",
                    "metadata": {},
                    "execution_count": 42,
                    "data": {
                        "application/vnd.dataresource+json": {
                            "schema": {
                                "fields": [
                                    {
                                        "name": "nap"
                                    }
                                ]
                            },
                            "data": [
                                {
                                    "nap": "Csütörtök"
                                },
                                {
                                    "nap": "Péntek"
                                },
                                {
                                    "nap": "Szerda"
                                }
                            ]
                        },
                        "text/html": [
                            "<table>",
                            "<tr><th>nap</th></tr>",
                            "<tr><td>Csütörtök</td></tr>",
                            "<tr><td>Péntek</td></tr>",
                            "<tr><td>Szerda</td></tr>",
                            "</table>"
                        ]
                    }
                }
            ],
            "execution_count": 42
        },
        {
            "cell_type": "markdown",
            "source": [
                "**A 11-15 feladatok gyakorlásra szolgálnak a közelgő zh-ra :-)**\n",
                "\n",
                "11. _Készítsünk listát az oktatók adatairól!_\n",
                "\n",
                "1. Az oktatók titulusa és neve összefűzve jelenjen meg, közöttük szóközzel!\n",
                "2. Ha valakinek nincs titulusa, akkor csak a neve jelenjen meg, szóköz nélkül!\n",
                "3. A listát rendezzük a beosztás kódja, azon belül a státusz kódja szerint növekvő sorrendbe!\n",
                "4. Az oszlopokat nevezzük el értelemszerűen!"
            ],
            "metadata": {
                "azdata_cell_guid": "d2340f5f-1614-473c-b937-85740d67f7c1"
            },
            "attachments": {}
        },
        {
            "cell_type": "code",
            "source": [
                ""
            ],
            "metadata": {
                "azdata_cell_guid": "e99c2c53-898f-4787-b0e6-182d106dc16f",
                "language": "sql"
            },
            "outputs": [],
            "execution_count": null
        },
        {
            "cell_type": "markdown",
            "source": [
                "<span style=\"color: #09885a;\">12</span>. Készítsünk listát, amely megmutatja, hogy összesen hány tantárgy van kreditenkénti csoportosításban!\n",
                "\n",
                "  \n",
                "\n",
                "A listából hagyjuk ki azokat a tételeket, ahol ez a darabszám <span style=\"color: #09885a;\">1</span>!\n",
                "\n",
                "A Folyami gáttan tantárgyat ne vegyük figyelembe!\n",
                "\n",
                "A listát rendezzük darabszám szerint csökkenő sorrendbe!\n",
                "\n",
                "Az oszlopokat nevezzük el értelemszerűen!"
            ],
            "metadata": {
                "azdata_cell_guid": "a765e9d6-58b3-4171-872a-78f3118fd6e3"
            },
            "attachments": {}
        },
        {
            "cell_type": "code",
            "source": [
                ""
            ],
            "metadata": {
                "azdata_cell_guid": "422e8127-b652-4d3a-bfd7-9b1637b5781e",
                "language": "sql"
            },
            "outputs": [],
            "execution_count": null
        },
        {
            "cell_type": "markdown",
            "source": [
                "13. _Készítsünk listát az oktatók nevéről, a beosztásuk alapján elvárt és a tényleges óraszámukról!_\n",
                "\n",
                "1. Az oszlopok neve legyen 'Oktató neve', 'Elvárt óraszám' és 'Tényleges óraszám'\n",
                "2. Szűrjük a listát azokra az oktatókra, ahol az elvárt és a tényleges óraszám azonos"
            ],
            "metadata": {
                "azdata_cell_guid": "3f9237ae-f109-401c-acb9-31d75e73331b"
            },
            "attachments": {}
        },
        {
            "cell_type": "code",
            "source": [
                ""
            ],
            "metadata": {
                "azdata_cell_guid": "4b31bb89-cfbc-46b1-8639-85c462877786",
                "language": "sql"
            },
            "outputs": [],
            "execution_count": null
        },
        {
            "cell_type": "markdown",
            "source": [
                "14. _Készítsünk listát, amely megmutatja, hogy mely tantárgyból nincs óra egyáltalán!_\n",
                "\n",
                "1. Csak a tantárgy neve jelenjen meg!"
            ],
            "metadata": {
                "azdata_cell_guid": "f634e09a-85ef-4e70-8ec6-ef355dfddaa7"
            },
            "attachments": {}
        },
        {
            "cell_type": "code",
            "source": [
                ""
            ],
            "metadata": {
                "azdata_cell_guid": "88abc55b-2c78-495b-a72f-3f8f4eb5fe70",
                "language": "sql"
            },
            "outputs": [],
            "execution_count": null
        },
        {
            "cell_type": "markdown",
            "source": [
                "15. _Hány órájuk van az óraadóknak napi bontásban?_\n",
                "\n",
                "1. Csak a napok nevét és az óraszámot jelenítsük meg!\n",
                "2. Rendezzük a listát óraszám szerint növekvő sorrendbe!"
            ],
            "metadata": {
                "azdata_cell_guid": "4cbf2f0d-a65d-480a-8186-ccdb24498443"
            },
            "attachments": {}
        },
        {
            "cell_type": "code",
            "source": [
                ""
            ],
            "metadata": {
                "azdata_cell_guid": "c148aee8-bc85-40bf-b80a-a4898a6c05cb",
                "language": "sql"
            },
            "outputs": [],
            "execution_count": null
        }
    ]
}