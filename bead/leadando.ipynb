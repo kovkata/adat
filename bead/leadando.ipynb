{
    "metadata": {
        "kernelspec": {
            "name": "SQL",
            "display_name": "SQL",
            "language": "sql"
        },
        "language_info": {
            "name": "sql",
            "version": ""
        }
    },
    "nbformat_minor": 2,
    "nbformat": 4,
    "cells": [
        {
            "cell_type": "markdown",
            "source": [
                "1\\. oszlop- termekek, LEIRAS"
            ],
            "metadata": {
                "language": "sql",
                "azdata_cell_guid": "85795bd0-0a7d-4507-b814-63a8c8f8dbc9"
            },
            "attachments": {}
        },
        {
            "cell_type": "code",
            "source": [
                "SELECT leiras,\r\n",
                "    COUNT(*) row_count\r\n",
                "FROM \r\n",
                "    (SELECT \r\n",
                "        CASE WHEN LEIRAS IS NULL THEN 'Null'\r\n",
                "            ELSE 'Non Empty' \r\n",
                "            END AS leiras\r\n",
                "        FROM Termek) rows\r\n",
                "GROUP BY leiras"
            ],
            "metadata": {
                "azdata_cell_guid": "667621bc-3392-4d70-8891-dfa3154835ff",
                "language": "sql"
            },
            "outputs": [
                {
                    "output_type": "display_data",
                    "data": {
                        "text/html": "(2 rows affected)"
                    },
                    "metadata": {}
                },
                {
                    "output_type": "display_data",
                    "data": {
                        "text/html": "Total execution time: 00:00:00.017"
                    },
                    "metadata": {}
                },
                {
                    "output_type": "execute_result",
                    "execution_count": 2,
                    "data": {
                        "application/vnd.dataresource+json": {
                            "schema": {
                                "fields": [
                                    {
                                        "name": "leiras"
                                    },
                                    {
                                        "name": "row_count"
                                    }
                                ]
                            },
                            "data": [
                                {
                                    "leiras": "Non Empty",
                                    "row_count": "24"
                                },
                                {
                                    "leiras": "Null",
                                    "row_count": "527"
                                }
                            ]
                        },
                        "text/html": "<table><tr><th>leiras</th><th>row_count</th></tr><tr><td>Non Empty</td><td>24</td></tr><tr><td>Null</td><td>527</td></tr></table>"
                    },
                    "metadata": {
                        "azdata_chartOptions": {
                            "type": "pie",
                            "dataDirection": "vertical",
                            "columnsAsLabels": true,
                            "labelFirstColumn": false,
                            "legendPosition": "top"
                        }
                    }
                }
            ],
            "execution_count": 2
        },
        {
            "cell_type": "code",
            "source": [
                "SELECT MIN(LEN(LEIRAS)) AS 'minimum', \r\n",
                "       MAX(LEN(LEIRAS)) AS 'maximum', \r\n",
                "       AVG(LEN(LEIRAS)) AS 'átlag', \r\n",
                "       ROUND(STDEV(LEN(LEIRAS)),0) AS 'szóras', \r\n",
                "       ROUND (VAR(LEN(LEIRAS)),0) AS 'eltérés'\r\n",
                "FROM Termek\r\n",
                "WHERE LEIRAS IS NOT NULL\r\n",
                "AND LEN(LEIRAS) > 0"
            ],
            "metadata": {
                "language": "sql",
                "azdata_cell_guid": "92cd6a1a-16a1-47fb-9911-472cca089031"
            },
            "outputs": [
                {
                    "output_type": "display_data",
                    "data": {
                        "text/html": "(1 row affected)"
                    },
                    "metadata": {}
                },
                {
                    "output_type": "display_data",
                    "data": {
                        "text/html": "Total execution time: 00:00:00.018"
                    },
                    "metadata": {}
                },
                {
                    "output_type": "execute_result",
                    "execution_count": 6,
                    "data": {
                        "application/vnd.dataresource+json": {
                            "schema": {
                                "fields": [
                                    {
                                        "name": "minimum"
                                    },
                                    {
                                        "name": "maximum"
                                    },
                                    {
                                        "name": "átlag"
                                    },
                                    {
                                        "name": "szóras"
                                    },
                                    {
                                        "name": "eltérés"
                                    }
                                ]
                            },
                            "data": [
                                {
                                    "minimum": "5",
                                    "maximum": "19",
                                    "átlag": "11",
                                    "szóras": "4",
                                    "eltérés": "17"
                                }
                            ]
                        },
                        "text/html": "<table><tr><th>minimum</th><th>maximum</th><th>átlag</th><th>szóras</th><th>eltérés</th></tr><tr><td>5</td><td>19</td><td>11</td><td>4</td><td>17</td></tr></table>"
                    },
                    "metadata": {
                        "azdata_chartOptions": {
                            "type": "bar",
                            "dataDirection": "horizontal",
                            "columnsAsLabels": true,
                            "labelFirstColumn": false,
                            "legendPosition": "top"
                        }
                    }
                }
            ],
            "execution_count": 6
        },
        {
            "cell_type": "code",
            "source": [
                "SELECT MIN(LEIRAS) AS 'Legrövidebb', \r\n",
                "       MAX(LEIRAS) AS 'Leghosszabb'\r\n",
                "FROM Termek\r\n",
                "WHERE LEIRAS IS NOT NULL\r\n",
                "AND LEN(LEIRAS) > 0"
            ],
            "metadata": {
                "azdata_cell_guid": "bcf08160-3301-447b-b1ff-e4cd5f446716",
                "language": "sql"
            },
            "outputs": [
                {
                    "output_type": "display_data",
                    "data": {
                        "text/html": "(1 row affected)"
                    },
                    "metadata": {}
                },
                {
                    "output_type": "display_data",
                    "data": {
                        "text/html": "Total execution time: 00:00:00.053"
                    },
                    "metadata": {}
                },
                {
                    "output_type": "execute_result",
                    "execution_count": 4,
                    "data": {
                        "application/vnd.dataresource+json": {
                            "schema": {
                                "fields": [
                                    {
                                        "name": "Legrövidebb"
                                    },
                                    {
                                        "name": "Leghosszabb"
                                    }
                                ]
                            },
                            "data": [
                                {
                                    "Legrövidebb": "barna (szövet) ",
                                    "Leghosszabb": "tört fehér  "
                                }
                            ]
                        },
                        "text/html": "<table><tr><th>Legrövidebb</th><th>Leghosszabb</th></tr><tr><td>barna (szövet) </td><td>tört fehér  </td></tr></table>"
                    },
                    "metadata": {}
                }
            ],
            "execution_count": 4
        },
        {
            "cell_type": "markdown",
            "source": [
                "2\\. oszlop- termek, LISTAAR"
            ],
            "metadata": {
                "azdata_cell_guid": "1fd281a1-cab8-4203-ad5b-608a9169f4e0"
            },
            "attachments": {}
        },
        {
            "cell_type": "code",
            "source": [
                "SELECT TOP 10\r\n",
                "     LISTAAR AS value, \r\n",
                "    COUNT(*) darab_sor\r\n",
                "from Termek\r\n",
                "WHERE LISTAAR IS NOT null\r\n",
                "GROUP BY LISTAAR\r\n",
                "ORDER BY COUNT(*) desc"
            ],
            "metadata": {
                "azdata_cell_guid": "92daca6a-6482-4713-a150-8051690db62a",
                "language": "sql"
            },
            "outputs": [
                {
                    "output_type": "display_data",
                    "data": {
                        "text/html": "(10 rows affected)"
                    },
                    "metadata": {}
                },
                {
                    "output_type": "display_data",
                    "data": {
                        "text/html": "Total execution time: 00:00:00.169"
                    },
                    "metadata": {}
                },
                {
                    "output_type": "execute_result",
                    "execution_count": 4,
                    "data": {
                        "application/vnd.dataresource+json": {
                            "schema": {
                                "fields": [
                                    {
                                        "name": "value"
                                    },
                                    {
                                        "name": "darab_sor"
                                    }
                                ]
                            },
                            "data": [
                                {
                                    "value": "30",
                                    "darab_sor": "16"
                                },
                                {
                                    "value": "44",
                                    "darab_sor": "16"
                                },
                                {
                                    "value": "89",
                                    "darab_sor": "15"
                                },
                                {
                                    "value": "15",
                                    "darab_sor": "14"
                                },
                                {
                                    "value": "103",
                                    "darab_sor": "12"
                                },
                                {
                                    "value": "161",
                                    "darab_sor": "12"
                                },
                                {
                                    "value": "36",
                                    "darab_sor": "10"
                                },
                                {
                                    "value": "23",
                                    "darab_sor": "9"
                                },
                                {
                                    "value": "40",
                                    "darab_sor": "9"
                                },
                                {
                                    "value": "81",
                                    "darab_sor": "9"
                                }
                            ]
                        },
                        "text/html": "<table><tr><th>value</th><th>darab_sor</th></tr><tr><td>30</td><td>16</td></tr><tr><td>44</td><td>16</td></tr><tr><td>89</td><td>15</td></tr><tr><td>15</td><td>14</td></tr><tr><td>103</td><td>12</td></tr><tr><td>161</td><td>12</td></tr><tr><td>36</td><td>10</td></tr><tr><td>23</td><td>9</td></tr><tr><td>40</td><td>9</td></tr><tr><td>81</td><td>9</td></tr></table>"
                    },
                    "metadata": {
                        "azdata_chartOptions": {
                            "type": "pie",
                            "dataDirection": "vertical",
                            "columnsAsLabels": true,
                            "labelFirstColumn": false,
                            "legendPosition": "top"
                        }
                    }
                }
            ],
            "execution_count": 4
        },
        {
            "cell_type": "code",
            "source": [
                "SELECT COUNT(DISTINCT LISTAAR) AS 'Különböző értékek száma'\r\n",
                "FROM Termek\r\n",
                "WHERE LISTAAR IS NOT NULL"
            ],
            "metadata": {
                "azdata_cell_guid": "91ed6931-9451-4a95-917e-3115821a1ec1",
                "language": "sql"
            },
            "outputs": [
                {
                    "output_type": "display_data",
                    "data": {
                        "text/html": "(1 row affected)"
                    },
                    "metadata": {}
                },
                {
                    "output_type": "display_data",
                    "data": {
                        "text/html": "Total execution time: 00:00:00.012"
                    },
                    "metadata": {}
                },
                {
                    "output_type": "execute_result",
                    "execution_count": 5,
                    "data": {
                        "application/vnd.dataresource+json": {
                            "schema": {
                                "fields": [
                                    {
                                        "name": "Különböző értékek száma"
                                    }
                                ]
                            },
                            "data": [
                                {
                                    "Különböző értékek száma": "220"
                                }
                            ]
                        },
                        "text/html": "<table><tr><th>Különböző értékek száma</th></tr><tr><td>220</td></tr></table>"
                    },
                    "metadata": {}
                }
            ],
            "execution_count": 5
        },
        {
            "cell_type": "code",
            "source": [
                "SELECT MIN(LISTAAR) AS 'Minimum', \r\n",
                "       MAX(LISTAAR) AS 'Maximum', \r\n",
                "       ROUND (AVG(LISTAAR),0) AS 'Átlag', \r\n",
                "       ROUND (STDEV(LISTAAR),0) AS 'Szórás'\r\n",
                "FROM Termek\r\n",
                "WHERE LISTAAR IS NOT NULL"
            ],
            "metadata": {
                "azdata_cell_guid": "50314da9-2043-49f8-bc16-8c580e8b1794",
                "language": "sql"
            },
            "outputs": [
                {
                    "output_type": "display_data",
                    "data": {
                        "text/html": "(1 row affected)"
                    },
                    "metadata": {}
                },
                {
                    "output_type": "display_data",
                    "data": {
                        "text/html": "Total execution time: 00:00:00.018"
                    },
                    "metadata": {}
                },
                {
                    "output_type": "execute_result",
                    "execution_count": 10,
                    "data": {
                        "application/vnd.dataresource+json": {
                            "schema": {
                                "fields": [
                                    {
                                        "name": "Minimum"
                                    },
                                    {
                                        "name": "Maximum"
                                    },
                                    {
                                        "name": "Átlag"
                                    },
                                    {
                                        "name": "Szórás"
                                    }
                                ]
                            },
                            "data": [
                                {
                                    "Minimum": "0",
                                    "Maximum": "46000",
                                    "Átlag": "786",
                                    "Szórás": "3602"
                                }
                            ]
                        },
                        "text/html": "<table><tr><th>Minimum</th><th>Maximum</th><th>Átlag</th><th>Szórás</th></tr><tr><td>0</td><td>46000</td><td>786</td><td>3602</td></tr></table>"
                    },
                    "metadata": {
                        "azdata_chartOptions": {
                            "type": "bar",
                            "dataDirection": "horizontal",
                            "columnsAsLabels": true,
                            "labelFirstColumn": false,
                            "legendPosition": "top"
                        }
                    }
                }
            ],
            "execution_count": 10
        }
    ]
}