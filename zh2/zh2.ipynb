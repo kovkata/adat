{
    "metadata": {
        "kernelspec": {
            "name": "SQL",
            "display_name": "SQL",
            "language": "sql"
        },
        "language_info": {
            "name": "sql",
            "version": ""
        }
    },
    "nbformat_minor": 2,
    "nbformat": 4,
    "cells": [
        {
            "cell_type": "markdown",
            "source": [
                "1.feladat"
            ],
            "metadata": {
                "azdata_cell_guid": "cb57f950-9f8f-4ac9-a82f-1b99aebc6238"
            },
            "attachments": {}
        },
        {
            "cell_type": "code",
            "source": [
                "SELECT IIF(SZOBA_FK is NULL, 'Végösszeg',CAST(SZOBA_FK AS NVARCHAR(3))) AS 'Szobaszám',COUNT(*) AS 'Darab'\r\n",
                "FROM Foglalas\r\n",
                "WHERE GYERMEK_SZAM < FELNOTT_SZAM\r\n",
                "GROUP BY ROLLUP (SZOBA_FK)\r\n",
                ""
            ],
            "metadata": {
                "azdata_cell_guid": "e7c7cce3-19c2-4935-866b-2b9550abedca",
                "language": "sql"
            },
            "outputs": [
                {
                    "output_type": "display_data",
                    "data": {
                        "text/html": "(190 rows affected)"
                    },
                    "metadata": {}
                },
                {
                    "output_type": "display_data",
                    "data": {
                        "text/html": "Total execution time: 00:00:00.012"
                    },
                    "metadata": {}
                },
                {
                    "output_type": "execute_result",
                    "metadata": {},
                    "execution_count": 10,
                    "data": {
                        "application/vnd.dataresource+json": {
                            "schema": {
                                "fields": [
                                    {
                                        "name": "Szobaszám"
                                    },
                                    {
                                        "name": "Darab"
                                    }
                                ]
                            },
                            "data": [
                                {
                                    "Szobaszám": "1",
                                    "Darab": "7"
                                },
                                {
                                    "Szobaszám": "2",
                                    "Darab": "2"
                                },
                                {
                                    "Szobaszám": "3",
                                    "Darab": "3"
                                },
                                {
                                    "Szobaszám": "4",
                                    "Darab": "5"
                                },
                                {
                                    "Szobaszám": "5",
                                    "Darab": "2"
                                },
                                {
                                    "Szobaszám": "6",
                                    "Darab": "5"
                                },
                                {
                                    "Szobaszám": "7",
                                    "Darab": "6"
                                },
                                {
                                    "Szobaszám": "8",
                                    "Darab": "5"
                                },
                                {
                                    "Szobaszám": "9",
                                    "Darab": "4"
                                },
                                {
                                    "Szobaszám": "10",
                                    "Darab": "4"
                                },
                                {
                                    "Szobaszám": "11",
                                    "Darab": "4"
                                },
                                {
                                    "Szobaszám": "12",
                                    "Darab": "7"
                                },
                                {
                                    "Szobaszám": "13",
                                    "Darab": "4"
                                },
                                {
                                    "Szobaszám": "14",
                                    "Darab": "3"
                                },
                                {
                                    "Szobaszám": "15",
                                    "Darab": "4"
                                },
                                {
                                    "Szobaszám": "16",
                                    "Darab": "1"
                                },
                                {
                                    "Szobaszám": "17",
                                    "Darab": "2"
                                },
                                {
                                    "Szobaszám": "18",
                                    "Darab": "3"
                                },
                                {
                                    "Szobaszám": "19",
                                    "Darab": "4"
                                },
                                {
                                    "Szobaszám": "20",
                                    "Darab": "5"
                                },
                                {
                                    "Szobaszám": "21",
                                    "Darab": "1"
                                },
                                {
                                    "Szobaszám": "22",
                                    "Darab": "2"
                                },
                                {
                                    "Szobaszám": "23",
                                    "Darab": "3"
                                },
                                {
                                    "Szobaszám": "24",
                                    "Darab": "3"
                                },
                                {
                                    "Szobaszám": "25",
                                    "Darab": "1"
                                },
                                {
                                    "Szobaszám": "27",
                                    "Darab": "5"
                                },
                                {
                                    "Szobaszám": "28",
                                    "Darab": "5"
                                },
                                {
                                    "Szobaszám": "29",
                                    "Darab": "3"
                                },
                                {
                                    "Szobaszám": "30",
                                    "Darab": "2"
                                },
                                {
                                    "Szobaszám": "31",
                                    "Darab": "1"
                                },
                                {
                                    "Szobaszám": "32",
                                    "Darab": "1"
                                },
                                {
                                    "Szobaszám": "33",
                                    "Darab": "3"
                                },
                                {
                                    "Szobaszám": "34",
                                    "Darab": "3"
                                },
                                {
                                    "Szobaszám": "35",
                                    "Darab": "6"
                                },
                                {
                                    "Szobaszám": "36",
                                    "Darab": "4"
                                },
                                {
                                    "Szobaszám": "37",
                                    "Darab": "2"
                                },
                                {
                                    "Szobaszám": "38",
                                    "Darab": "5"
                                },
                                {
                                    "Szobaszám": "39",
                                    "Darab": "4"
                                },
                                {
                                    "Szobaszám": "40",
                                    "Darab": "3"
                                },
                                {
                                    "Szobaszám": "41",
                                    "Darab": "1"
                                },
                                {
                                    "Szobaszám": "42",
                                    "Darab": "5"
                                },
                                {
                                    "Szobaszám": "43",
                                    "Darab": "4"
                                },
                                {
                                    "Szobaszám": "44",
                                    "Darab": "6"
                                },
                                {
                                    "Szobaszám": "45",
                                    "Darab": "4"
                                },
                                {
                                    "Szobaszám": "46",
                                    "Darab": "3"
                                },
                                {
                                    "Szobaszám": "47",
                                    "Darab": "2"
                                },
                                {
                                    "Szobaszám": "48",
                                    "Darab": "6"
                                },
                                {
                                    "Szobaszám": "49",
                                    "Darab": "5"
                                },
                                {
                                    "Szobaszám": "50",
                                    "Darab": "3"
                                },
                                {
                                    "Szobaszám": "51",
                                    "Darab": "3"
                                },
                                {
                                    "Szobaszám": "52",
                                    "Darab": "5"
                                },
                                {
                                    "Szobaszám": "54",
                                    "Darab": "4"
                                },
                                {
                                    "Szobaszám": "55",
                                    "Darab": "3"
                                },
                                {
                                    "Szobaszám": "56",
                                    "Darab": "1"
                                },
                                {
                                    "Szobaszám": "57",
                                    "Darab": "3"
                                },
                                {
                                    "Szobaszám": "58",
                                    "Darab": "8"
                                },
                                {
                                    "Szobaszám": "59",
                                    "Darab": "4"
                                },
                                {
                                    "Szobaszám": "60",
                                    "Darab": "1"
                                },
                                {
                                    "Szobaszám": "61",
                                    "Darab": "4"
                                },
                                {
                                    "Szobaszám": "62",
                                    "Darab": "3"
                                },
                                {
                                    "Szobaszám": "63",
                                    "Darab": "3"
                                },
                                {
                                    "Szobaszám": "64",
                                    "Darab": "5"
                                },
                                {
                                    "Szobaszám": "66",
                                    "Darab": "3"
                                },
                                {
                                    "Szobaszám": "67",
                                    "Darab": "2"
                                },
                                {
                                    "Szobaszám": "69",
                                    "Darab": "2"
                                },
                                {
                                    "Szobaszám": "70",
                                    "Darab": "8"
                                },
                                {
                                    "Szobaszám": "71",
                                    "Darab": "2"
                                },
                                {
                                    "Szobaszám": "72",
                                    "Darab": "2"
                                },
                                {
                                    "Szobaszám": "73",
                                    "Darab": "4"
                                },
                                {
                                    "Szobaszám": "74",
                                    "Darab": "8"
                                },
                                {
                                    "Szobaszám": "75",
                                    "Darab": "2"
                                },
                                {
                                    "Szobaszám": "76",
                                    "Darab": "2"
                                },
                                {
                                    "Szobaszám": "77",
                                    "Darab": "3"
                                },
                                {
                                    "Szobaszám": "78",
                                    "Darab": "3"
                                },
                                {
                                    "Szobaszám": "79",
                                    "Darab": "4"
                                },
                                {
                                    "Szobaszám": "80",
                                    "Darab": "5"
                                },
                                {
                                    "Szobaszám": "81",
                                    "Darab": "3"
                                },
                                {
                                    "Szobaszám": "82",
                                    "Darab": "5"
                                },
                                {
                                    "Szobaszám": "83",
                                    "Darab": "5"
                                },
                                {
                                    "Szobaszám": "84",
                                    "Darab": "3"
                                },
                                {
                                    "Szobaszám": "85",
                                    "Darab": "2"
                                },
                                {
                                    "Szobaszám": "86",
                                    "Darab": "4"
                                },
                                {
                                    "Szobaszám": "87",
                                    "Darab": "5"
                                },
                                {
                                    "Szobaszám": "88",
                                    "Darab": "5"
                                },
                                {
                                    "Szobaszám": "89",
                                    "Darab": "8"
                                },
                                {
                                    "Szobaszám": "90",
                                    "Darab": "3"
                                },
                                {
                                    "Szobaszám": "91",
                                    "Darab": "2"
                                },
                                {
                                    "Szobaszám": "92",
                                    "Darab": "5"
                                },
                                {
                                    "Szobaszám": "93",
                                    "Darab": "3"
                                },
                                {
                                    "Szobaszám": "94",
                                    "Darab": "6"
                                },
                                {
                                    "Szobaszám": "95",
                                    "Darab": "3"
                                },
                                {
                                    "Szobaszám": "96",
                                    "Darab": "6"
                                },
                                {
                                    "Szobaszám": "97",
                                    "Darab": "5"
                                },
                                {
                                    "Szobaszám": "98",
                                    "Darab": "4"
                                },
                                {
                                    "Szobaszám": "99",
                                    "Darab": "4"
                                },
                                {
                                    "Szobaszám": "100",
                                    "Darab": "2"
                                },
                                {
                                    "Szobaszám": "101",
                                    "Darab": "1"
                                },
                                {
                                    "Szobaszám": "102",
                                    "Darab": "1"
                                },
                                {
                                    "Szobaszám": "103",
                                    "Darab": "1"
                                },
                                {
                                    "Szobaszám": "104",
                                    "Darab": "3"
                                },
                                {
                                    "Szobaszám": "106",
                                    "Darab": "4"
                                },
                                {
                                    "Szobaszám": "107",
                                    "Darab": "4"
                                },
                                {
                                    "Szobaszám": "108",
                                    "Darab": "1"
                                },
                                {
                                    "Szobaszám": "109",
                                    "Darab": "2"
                                },
                                {
                                    "Szobaszám": "110",
                                    "Darab": "5"
                                },
                                {
                                    "Szobaszám": "111",
                                    "Darab": "1"
                                },
                                {
                                    "Szobaszám": "112",
                                    "Darab": "4"
                                },
                                {
                                    "Szobaszám": "113",
                                    "Darab": "2"
                                },
                                {
                                    "Szobaszám": "114",
                                    "Darab": "1"
                                },
                                {
                                    "Szobaszám": "115",
                                    "Darab": "5"
                                },
                                {
                                    "Szobaszám": "117",
                                    "Darab": "4"
                                },
                                {
                                    "Szobaszám": "118",
                                    "Darab": "2"
                                },
                                {
                                    "Szobaszám": "119",
                                    "Darab": "4"
                                },
                                {
                                    "Szobaszám": "120",
                                    "Darab": "2"
                                },
                                {
                                    "Szobaszám": "121",
                                    "Darab": "5"
                                },
                                {
                                    "Szobaszám": "122",
                                    "Darab": "3"
                                },
                                {
                                    "Szobaszám": "123",
                                    "Darab": "5"
                                },
                                {
                                    "Szobaszám": "124",
                                    "Darab": "4"
                                },
                                {
                                    "Szobaszám": "126",
                                    "Darab": "4"
                                },
                                {
                                    "Szobaszám": "127",
                                    "Darab": "5"
                                },
                                {
                                    "Szobaszám": "129",
                                    "Darab": "3"
                                },
                                {
                                    "Szobaszám": "130",
                                    "Darab": "5"
                                },
                                {
                                    "Szobaszám": "131",
                                    "Darab": "4"
                                },
                                {
                                    "Szobaszám": "132",
                                    "Darab": "4"
                                },
                                {
                                    "Szobaszám": "133",
                                    "Darab": "4"
                                },
                                {
                                    "Szobaszám": "134",
                                    "Darab": "4"
                                },
                                {
                                    "Szobaszám": "135",
                                    "Darab": "3"
                                },
                                {
                                    "Szobaszám": "136",
                                    "Darab": "2"
                                },
                                {
                                    "Szobaszám": "137",
                                    "Darab": "2"
                                },
                                {
                                    "Szobaszám": "138",
                                    "Darab": "5"
                                },
                                {
                                    "Szobaszám": "139",
                                    "Darab": "6"
                                },
                                {
                                    "Szobaszám": "140",
                                    "Darab": "5"
                                },
                                {
                                    "Szobaszám": "141",
                                    "Darab": "4"
                                },
                                {
                                    "Szobaszám": "142",
                                    "Darab": "1"
                                },
                                {
                                    "Szobaszám": "143",
                                    "Darab": "5"
                                },
                                {
                                    "Szobaszám": "144",
                                    "Darab": "2"
                                },
                                {
                                    "Szobaszám": "145",
                                    "Darab": "2"
                                },
                                {
                                    "Szobaszám": "146",
                                    "Darab": "3"
                                },
                                {
                                    "Szobaszám": "147",
                                    "Darab": "1"
                                },
                                {
                                    "Szobaszám": "148",
                                    "Darab": "5"
                                },
                                {
                                    "Szobaszám": "149",
                                    "Darab": "5"
                                },
                                {
                                    "Szobaszám": "150",
                                    "Darab": "6"
                                },
                                {
                                    "Szobaszám": "151",
                                    "Darab": "2"
                                },
                                {
                                    "Szobaszám": "152",
                                    "Darab": "3"
                                },
                                {
                                    "Szobaszám": "153",
                                    "Darab": "4"
                                },
                                {
                                    "Szobaszám": "154",
                                    "Darab": "3"
                                },
                                {
                                    "Szobaszám": "155",
                                    "Darab": "3"
                                },
                                {
                                    "Szobaszám": "156",
                                    "Darab": "2"
                                },
                                {
                                    "Szobaszám": "157",
                                    "Darab": "2"
                                },
                                {
                                    "Szobaszám": "158",
                                    "Darab": "3"
                                },
                                {
                                    "Szobaszám": "160",
                                    "Darab": "2"
                                },
                                {
                                    "Szobaszám": "161",
                                    "Darab": "3"
                                },
                                {
                                    "Szobaszám": "162",
                                    "Darab": "2"
                                },
                                {
                                    "Szobaszám": "163",
                                    "Darab": "5"
                                },
                                {
                                    "Szobaszám": "164",
                                    "Darab": "4"
                                },
                                {
                                    "Szobaszám": "165",
                                    "Darab": "5"
                                },
                                {
                                    "Szobaszám": "166",
                                    "Darab": "3"
                                },
                                {
                                    "Szobaszám": "167",
                                    "Darab": "2"
                                },
                                {
                                    "Szobaszám": "168",
                                    "Darab": "1"
                                },
                                {
                                    "Szobaszám": "169",
                                    "Darab": "3"
                                },
                                {
                                    "Szobaszám": "170",
                                    "Darab": "3"
                                },
                                {
                                    "Szobaszám": "171",
                                    "Darab": "5"
                                },
                                {
                                    "Szobaszám": "172",
                                    "Darab": "6"
                                },
                                {
                                    "Szobaszám": "173",
                                    "Darab": "3"
                                },
                                {
                                    "Szobaszám": "174",
                                    "Darab": "4"
                                },
                                {
                                    "Szobaszám": "175",
                                    "Darab": "3"
                                },
                                {
                                    "Szobaszám": "176",
                                    "Darab": "2"
                                },
                                {
                                    "Szobaszám": "177",
                                    "Darab": "1"
                                },
                                {
                                    "Szobaszám": "178",
                                    "Darab": "1"
                                },
                                {
                                    "Szobaszám": "179",
                                    "Darab": "2"
                                },
                                {
                                    "Szobaszám": "180",
                                    "Darab": "1"
                                },
                                {
                                    "Szobaszám": "181",
                                    "Darab": "5"
                                },
                                {
                                    "Szobaszám": "182",
                                    "Darab": "11"
                                },
                                {
                                    "Szobaszám": "183",
                                    "Darab": "3"
                                },
                                {
                                    "Szobaszám": "184",
                                    "Darab": "4"
                                },
                                {
                                    "Szobaszám": "185",
                                    "Darab": "10"
                                },
                                {
                                    "Szobaszám": "186",
                                    "Darab": "1"
                                },
                                {
                                    "Szobaszám": "187",
                                    "Darab": "6"
                                },
                                {
                                    "Szobaszám": "188",
                                    "Darab": "2"
                                },
                                {
                                    "Szobaszám": "189",
                                    "Darab": "1"
                                },
                                {
                                    "Szobaszám": "190",
                                    "Darab": "5"
                                },
                                {
                                    "Szobaszám": "191",
                                    "Darab": "3"
                                },
                                {
                                    "Szobaszám": "192",
                                    "Darab": "1"
                                },
                                {
                                    "Szobaszám": "193",
                                    "Darab": "2"
                                },
                                {
                                    "Szobaszám": "194",
                                    "Darab": "1"
                                },
                                {
                                    "Szobaszám": "195",
                                    "Darab": "5"
                                },
                                {
                                    "Szobaszám": "196",
                                    "Darab": "2"
                                },
                                {
                                    "Szobaszám": "197",
                                    "Darab": "6"
                                },
                                {
                                    "Szobaszám": "198",
                                    "Darab": "7"
                                },
                                {
                                    "Szobaszám": "Végösszeg",
                                    "Darab": "668"
                                }
                            ]
                        },
                        "text/html": [
                            "<table>",
                            "<tr><th>Szobaszám</th><th>Darab</th></tr>",
                            "<tr><td>1</td><td>7</td></tr>",
                            "<tr><td>2</td><td>2</td></tr>",
                            "<tr><td>3</td><td>3</td></tr>",
                            "<tr><td>4</td><td>5</td></tr>",
                            "<tr><td>5</td><td>2</td></tr>",
                            "<tr><td>6</td><td>5</td></tr>",
                            "<tr><td>7</td><td>6</td></tr>",
                            "<tr><td>8</td><td>5</td></tr>",
                            "<tr><td>9</td><td>4</td></tr>",
                            "<tr><td>10</td><td>4</td></tr>",
                            "<tr><td>11</td><td>4</td></tr>",
                            "<tr><td>12</td><td>7</td></tr>",
                            "<tr><td>13</td><td>4</td></tr>",
                            "<tr><td>14</td><td>3</td></tr>",
                            "<tr><td>15</td><td>4</td></tr>",
                            "<tr><td>16</td><td>1</td></tr>",
                            "<tr><td>17</td><td>2</td></tr>",
                            "<tr><td>18</td><td>3</td></tr>",
                            "<tr><td>19</td><td>4</td></tr>",
                            "<tr><td>20</td><td>5</td></tr>",
                            "<tr><td>21</td><td>1</td></tr>",
                            "<tr><td>22</td><td>2</td></tr>",
                            "<tr><td>23</td><td>3</td></tr>",
                            "<tr><td>24</td><td>3</td></tr>",
                            "<tr><td>25</td><td>1</td></tr>",
                            "<tr><td>27</td><td>5</td></tr>",
                            "<tr><td>28</td><td>5</td></tr>",
                            "<tr><td>29</td><td>3</td></tr>",
                            "<tr><td>30</td><td>2</td></tr>",
                            "<tr><td>31</td><td>1</td></tr>",
                            "<tr><td>32</td><td>1</td></tr>",
                            "<tr><td>33</td><td>3</td></tr>",
                            "<tr><td>34</td><td>3</td></tr>",
                            "<tr><td>35</td><td>6</td></tr>",
                            "<tr><td>36</td><td>4</td></tr>",
                            "<tr><td>37</td><td>2</td></tr>",
                            "<tr><td>38</td><td>5</td></tr>",
                            "<tr><td>39</td><td>4</td></tr>",
                            "<tr><td>40</td><td>3</td></tr>",
                            "<tr><td>41</td><td>1</td></tr>",
                            "<tr><td>42</td><td>5</td></tr>",
                            "<tr><td>43</td><td>4</td></tr>",
                            "<tr><td>44</td><td>6</td></tr>",
                            "<tr><td>45</td><td>4</td></tr>",
                            "<tr><td>46</td><td>3</td></tr>",
                            "<tr><td>47</td><td>2</td></tr>",
                            "<tr><td>48</td><td>6</td></tr>",
                            "<tr><td>49</td><td>5</td></tr>",
                            "<tr><td>50</td><td>3</td></tr>",
                            "<tr><td>51</td><td>3</td></tr>",
                            "<tr><td>52</td><td>5</td></tr>",
                            "<tr><td>54</td><td>4</td></tr>",
                            "<tr><td>55</td><td>3</td></tr>",
                            "<tr><td>56</td><td>1</td></tr>",
                            "<tr><td>57</td><td>3</td></tr>",
                            "<tr><td>58</td><td>8</td></tr>",
                            "<tr><td>59</td><td>4</td></tr>",
                            "<tr><td>60</td><td>1</td></tr>",
                            "<tr><td>61</td><td>4</td></tr>",
                            "<tr><td>62</td><td>3</td></tr>",
                            "<tr><td>63</td><td>3</td></tr>",
                            "<tr><td>64</td><td>5</td></tr>",
                            "<tr><td>66</td><td>3</td></tr>",
                            "<tr><td>67</td><td>2</td></tr>",
                            "<tr><td>69</td><td>2</td></tr>",
                            "<tr><td>70</td><td>8</td></tr>",
                            "<tr><td>71</td><td>2</td></tr>",
                            "<tr><td>72</td><td>2</td></tr>",
                            "<tr><td>73</td><td>4</td></tr>",
                            "<tr><td>74</td><td>8</td></tr>",
                            "<tr><td>75</td><td>2</td></tr>",
                            "<tr><td>76</td><td>2</td></tr>",
                            "<tr><td>77</td><td>3</td></tr>",
                            "<tr><td>78</td><td>3</td></tr>",
                            "<tr><td>79</td><td>4</td></tr>",
                            "<tr><td>80</td><td>5</td></tr>",
                            "<tr><td>81</td><td>3</td></tr>",
                            "<tr><td>82</td><td>5</td></tr>",
                            "<tr><td>83</td><td>5</td></tr>",
                            "<tr><td>84</td><td>3</td></tr>",
                            "<tr><td>85</td><td>2</td></tr>",
                            "<tr><td>86</td><td>4</td></tr>",
                            "<tr><td>87</td><td>5</td></tr>",
                            "<tr><td>88</td><td>5</td></tr>",
                            "<tr><td>89</td><td>8</td></tr>",
                            "<tr><td>90</td><td>3</td></tr>",
                            "<tr><td>91</td><td>2</td></tr>",
                            "<tr><td>92</td><td>5</td></tr>",
                            "<tr><td>93</td><td>3</td></tr>",
                            "<tr><td>94</td><td>6</td></tr>",
                            "<tr><td>95</td><td>3</td></tr>",
                            "<tr><td>96</td><td>6</td></tr>",
                            "<tr><td>97</td><td>5</td></tr>",
                            "<tr><td>98</td><td>4</td></tr>",
                            "<tr><td>99</td><td>4</td></tr>",
                            "<tr><td>100</td><td>2</td></tr>",
                            "<tr><td>101</td><td>1</td></tr>",
                            "<tr><td>102</td><td>1</td></tr>",
                            "<tr><td>103</td><td>1</td></tr>",
                            "<tr><td>104</td><td>3</td></tr>",
                            "<tr><td>106</td><td>4</td></tr>",
                            "<tr><td>107</td><td>4</td></tr>",
                            "<tr><td>108</td><td>1</td></tr>",
                            "<tr><td>109</td><td>2</td></tr>",
                            "<tr><td>110</td><td>5</td></tr>",
                            "<tr><td>111</td><td>1</td></tr>",
                            "<tr><td>112</td><td>4</td></tr>",
                            "<tr><td>113</td><td>2</td></tr>",
                            "<tr><td>114</td><td>1</td></tr>",
                            "<tr><td>115</td><td>5</td></tr>",
                            "<tr><td>117</td><td>4</td></tr>",
                            "<tr><td>118</td><td>2</td></tr>",
                            "<tr><td>119</td><td>4</td></tr>",
                            "<tr><td>120</td><td>2</td></tr>",
                            "<tr><td>121</td><td>5</td></tr>",
                            "<tr><td>122</td><td>3</td></tr>",
                            "<tr><td>123</td><td>5</td></tr>",
                            "<tr><td>124</td><td>4</td></tr>",
                            "<tr><td>126</td><td>4</td></tr>",
                            "<tr><td>127</td><td>5</td></tr>",
                            "<tr><td>129</td><td>3</td></tr>",
                            "<tr><td>130</td><td>5</td></tr>",
                            "<tr><td>131</td><td>4</td></tr>",
                            "<tr><td>132</td><td>4</td></tr>",
                            "<tr><td>133</td><td>4</td></tr>",
                            "<tr><td>134</td><td>4</td></tr>",
                            "<tr><td>135</td><td>3</td></tr>",
                            "<tr><td>136</td><td>2</td></tr>",
                            "<tr><td>137</td><td>2</td></tr>",
                            "<tr><td>138</td><td>5</td></tr>",
                            "<tr><td>139</td><td>6</td></tr>",
                            "<tr><td>140</td><td>5</td></tr>",
                            "<tr><td>141</td><td>4</td></tr>",
                            "<tr><td>142</td><td>1</td></tr>",
                            "<tr><td>143</td><td>5</td></tr>",
                            "<tr><td>144</td><td>2</td></tr>",
                            "<tr><td>145</td><td>2</td></tr>",
                            "<tr><td>146</td><td>3</td></tr>",
                            "<tr><td>147</td><td>1</td></tr>",
                            "<tr><td>148</td><td>5</td></tr>",
                            "<tr><td>149</td><td>5</td></tr>",
                            "<tr><td>150</td><td>6</td></tr>",
                            "<tr><td>151</td><td>2</td></tr>",
                            "<tr><td>152</td><td>3</td></tr>",
                            "<tr><td>153</td><td>4</td></tr>",
                            "<tr><td>154</td><td>3</td></tr>",
                            "<tr><td>155</td><td>3</td></tr>",
                            "<tr><td>156</td><td>2</td></tr>",
                            "<tr><td>157</td><td>2</td></tr>",
                            "<tr><td>158</td><td>3</td></tr>",
                            "<tr><td>160</td><td>2</td></tr>",
                            "<tr><td>161</td><td>3</td></tr>",
                            "<tr><td>162</td><td>2</td></tr>",
                            "<tr><td>163</td><td>5</td></tr>",
                            "<tr><td>164</td><td>4</td></tr>",
                            "<tr><td>165</td><td>5</td></tr>",
                            "<tr><td>166</td><td>3</td></tr>",
                            "<tr><td>167</td><td>2</td></tr>",
                            "<tr><td>168</td><td>1</td></tr>",
                            "<tr><td>169</td><td>3</td></tr>",
                            "<tr><td>170</td><td>3</td></tr>",
                            "<tr><td>171</td><td>5</td></tr>",
                            "<tr><td>172</td><td>6</td></tr>",
                            "<tr><td>173</td><td>3</td></tr>",
                            "<tr><td>174</td><td>4</td></tr>",
                            "<tr><td>175</td><td>3</td></tr>",
                            "<tr><td>176</td><td>2</td></tr>",
                            "<tr><td>177</td><td>1</td></tr>",
                            "<tr><td>178</td><td>1</td></tr>",
                            "<tr><td>179</td><td>2</td></tr>",
                            "<tr><td>180</td><td>1</td></tr>",
                            "<tr><td>181</td><td>5</td></tr>",
                            "<tr><td>182</td><td>11</td></tr>",
                            "<tr><td>183</td><td>3</td></tr>",
                            "<tr><td>184</td><td>4</td></tr>",
                            "<tr><td>185</td><td>10</td></tr>",
                            "<tr><td>186</td><td>1</td></tr>",
                            "<tr><td>187</td><td>6</td></tr>",
                            "<tr><td>188</td><td>2</td></tr>",
                            "<tr><td>189</td><td>1</td></tr>",
                            "<tr><td>190</td><td>5</td></tr>",
                            "<tr><td>191</td><td>3</td></tr>",
                            "<tr><td>192</td><td>1</td></tr>",
                            "<tr><td>193</td><td>2</td></tr>",
                            "<tr><td>194</td><td>1</td></tr>",
                            "<tr><td>195</td><td>5</td></tr>",
                            "<tr><td>196</td><td>2</td></tr>",
                            "<tr><td>197</td><td>6</td></tr>",
                            "<tr><td>198</td><td>7</td></tr>",
                            "<tr><td>Végösszeg</td><td>668</td></tr>",
                            "</table>"
                        ]
                    }
                }
            ],
            "execution_count": 10
        },
        {
            "cell_type": "markdown",
            "source": [
                "2\\. feladat"
            ],
            "metadata": {
                "azdata_cell_guid": "ea4ef1e7-b5c8-4b78-8ae8-7adfc23536d9"
            },
            "attachments": {}
        },
        {
            "cell_type": "code",
            "source": [
                "SELECT SZOBA_FK, FOGLALAS_PK, DATEDIFF(DAY, METTOL,MEDDIG) AS 'Időtartalom',\r\n",
                "       LAG(DATEDIFF(DAY, METTOL,MEDDIG),1,0)  OVER (PARTITION BY szoba_fk ORDER BY METTOL) AS 'Korábbi foglalás időtartalma'\r\n",
                "FROM Foglalas"
            ],
            "metadata": {
                "azdata_cell_guid": "c5c52ffa-3abf-4f0b-8cb9-58573415ce66",
                "language": "sql"
            },
            "outputs": [
                {
                    "output_type": "display_data",
                    "data": {
                        "text/html": "(1027 rows affected)"
                    },
                    "metadata": {}
                },
                {
                    "output_type": "display_data",
                    "data": {
                        "text/html": "Total execution time: 00:00:00.011"
                    },
                    "metadata": {}
                },
                {
                    "output_type": "execute_result",
                    "metadata": {},
                    "execution_count": 12,
                    "data": {
                        "application/vnd.dataresource+json": {
                            "schema": {
                                "fields": [
                                    {
                                        "name": "SZOBA_FK"
                                    },
                                    {
                                        "name": "FOGLALAS_PK"
                                    },
                                    {
                                        "name": "Időtartalom"
                                    },
                                    {
                                        "name": "Korábbi foglalás időtartalma"
                                    }
                                ]
                            },
                            "data": [
                                {
                                    "SZOBA_FK": "1",
                                    "FOGLALAS_PK": "620",
                                    "Időtartalom": "5",
                                    "Korábbi foglalás időtartalma": "0"
                                },
                                {
                                    "SZOBA_FK": "1",
                                    "FOGLALAS_PK": "949",
                                    "Időtartalom": "1",
                                    "Korábbi foglalás időtartalma": "5"
                                },
                                {
                                    "SZOBA_FK": "1",
                                    "FOGLALAS_PK": "738",
                                    "Időtartalom": "7",
                                    "Korábbi foglalás időtartalma": "1"
                                },
                                {
                                    "SZOBA_FK": "1",
                                    "FOGLALAS_PK": "803",
                                    "Időtartalom": "4",
                                    "Korábbi foglalás időtartalma": "7"
                                },
                                {
                                    "SZOBA_FK": "1",
                                    "FOGLALAS_PK": "1137",
                                    "Időtartalom": "2",
                                    "Korábbi foglalás időtartalma": "4"
                                },
                                {
                                    "SZOBA_FK": "1",
                                    "FOGLALAS_PK": "1152",
                                    "Időtartalom": "1",
                                    "Korábbi foglalás időtartalma": "2"
                                },
                                {
                                    "SZOBA_FK": "1",
                                    "FOGLALAS_PK": "1274",
                                    "Időtartalom": "1",
                                    "Korábbi foglalás időtartalma": "1"
                                },
                                {
                                    "SZOBA_FK": "1",
                                    "FOGLALAS_PK": "1334",
                                    "Időtartalom": "4",
                                    "Korábbi foglalás időtartalma": "1"
                                },
                                {
                                    "SZOBA_FK": "2",
                                    "FOGLALAS_PK": "828",
                                    "Időtartalom": "3",
                                    "Korábbi foglalás időtartalma": "0"
                                },
                                {
                                    "SZOBA_FK": "2",
                                    "FOGLALAS_PK": "1051",
                                    "Időtartalom": "1",
                                    "Korábbi foglalás időtartalma": "3"
                                },
                                {
                                    "SZOBA_FK": "2",
                                    "FOGLALAS_PK": "1069",
                                    "Időtartalom": "7",
                                    "Korábbi foglalás időtartalma": "1"
                                },
                                {
                                    "SZOBA_FK": "2",
                                    "FOGLALAS_PK": "1311",
                                    "Időtartalom": "7",
                                    "Korábbi foglalás időtartalma": "7"
                                },
                                {
                                    "SZOBA_FK": "3",
                                    "FOGLALAS_PK": "629",
                                    "Időtartalom": "4",
                                    "Korábbi foglalás időtartalma": "0"
                                },
                                {
                                    "SZOBA_FK": "3",
                                    "FOGLALAS_PK": "666",
                                    "Időtartalom": "6",
                                    "Korábbi foglalás időtartalma": "4"
                                },
                                {
                                    "SZOBA_FK": "3",
                                    "FOGLALAS_PK": "788",
                                    "Időtartalom": "6",
                                    "Korábbi foglalás időtartalma": "6"
                                },
                                {
                                    "SZOBA_FK": "3",
                                    "FOGLALAS_PK": "1038",
                                    "Időtartalom": "3",
                                    "Korábbi foglalás időtartalma": "6"
                                },
                                {
                                    "SZOBA_FK": "3",
                                    "FOGLALAS_PK": "1110",
                                    "Időtartalom": "7",
                                    "Korábbi foglalás időtartalma": "3"
                                },
                                {
                                    "SZOBA_FK": "3",
                                    "FOGLALAS_PK": "1151",
                                    "Időtartalom": "1",
                                    "Korábbi foglalás időtartalma": "7"
                                },
                                {
                                    "SZOBA_FK": "3",
                                    "FOGLALAS_PK": "1434",
                                    "Időtartalom": "5",
                                    "Korábbi foglalás időtartalma": "1"
                                },
                                {
                                    "SZOBA_FK": "3",
                                    "FOGLALAS_PK": "1544",
                                    "Időtartalom": "5",
                                    "Korábbi foglalás időtartalma": "5"
                                },
                                {
                                    "SZOBA_FK": "4",
                                    "FOGLALAS_PK": "651",
                                    "Időtartalom": "7",
                                    "Korábbi foglalás időtartalma": "0"
                                },
                                {
                                    "SZOBA_FK": "4",
                                    "FOGLALAS_PK": "946",
                                    "Időtartalom": "5",
                                    "Korábbi foglalás időtartalma": "7"
                                },
                                {
                                    "SZOBA_FK": "4",
                                    "FOGLALAS_PK": "1001",
                                    "Időtartalom": "7",
                                    "Korábbi foglalás időtartalma": "5"
                                },
                                {
                                    "SZOBA_FK": "4",
                                    "FOGLALAS_PK": "1127",
                                    "Időtartalom": "3",
                                    "Korábbi foglalás időtartalma": "7"
                                },
                                {
                                    "SZOBA_FK": "4",
                                    "FOGLALAS_PK": "1132",
                                    "Időtartalom": "6",
                                    "Korábbi foglalás időtartalma": "3"
                                },
                                {
                                    "SZOBA_FK": "4",
                                    "FOGLALAS_PK": "1492",
                                    "Időtartalom": "6",
                                    "Korábbi foglalás időtartalma": "6"
                                },
                                {
                                    "SZOBA_FK": "5",
                                    "FOGLALAS_PK": "564",
                                    "Időtartalom": "2",
                                    "Korábbi foglalás időtartalma": "0"
                                },
                                {
                                    "SZOBA_FK": "5",
                                    "FOGLALAS_PK": "965",
                                    "Időtartalom": "7",
                                    "Korábbi foglalás időtartalma": "2"
                                },
                                {
                                    "SZOBA_FK": "5",
                                    "FOGLALAS_PK": "1073",
                                    "Időtartalom": "5",
                                    "Korábbi foglalás időtartalma": "7"
                                },
                                {
                                    "SZOBA_FK": "5",
                                    "FOGLALAS_PK": "1257",
                                    "Időtartalom": "3",
                                    "Korábbi foglalás időtartalma": "5"
                                },
                                {
                                    "SZOBA_FK": "6",
                                    "FOGLALAS_PK": "560",
                                    "Időtartalom": "6",
                                    "Korábbi foglalás időtartalma": "0"
                                },
                                {
                                    "SZOBA_FK": "6",
                                    "FOGLALAS_PK": "873",
                                    "Időtartalom": "3",
                                    "Korábbi foglalás időtartalma": "6"
                                },
                                {
                                    "SZOBA_FK": "6",
                                    "FOGLALAS_PK": "990",
                                    "Időtartalom": "4",
                                    "Korábbi foglalás időtartalma": "3"
                                },
                                {
                                    "SZOBA_FK": "6",
                                    "FOGLALAS_PK": "772",
                                    "Időtartalom": "6",
                                    "Korábbi foglalás időtartalma": "4"
                                },
                                {
                                    "SZOBA_FK": "6",
                                    "FOGLALAS_PK": "850",
                                    "Időtartalom": "2",
                                    "Korábbi foglalás időtartalma": "6"
                                },
                                {
                                    "SZOBA_FK": "6",
                                    "FOGLALAS_PK": "1099",
                                    "Időtartalom": "4",
                                    "Korábbi foglalás időtartalma": "2"
                                },
                                {
                                    "SZOBA_FK": "7",
                                    "FOGLALAS_PK": "562",
                                    "Időtartalom": "4",
                                    "Korábbi foglalás időtartalma": "0"
                                },
                                {
                                    "SZOBA_FK": "7",
                                    "FOGLALAS_PK": "759",
                                    "Időtartalom": "7",
                                    "Korábbi foglalás időtartalma": "4"
                                },
                                {
                                    "SZOBA_FK": "7",
                                    "FOGLALAS_PK": "1131",
                                    "Időtartalom": "1",
                                    "Korábbi foglalás időtartalma": "7"
                                },
                                {
                                    "SZOBA_FK": "7",
                                    "FOGLALAS_PK": "1175",
                                    "Időtartalom": "4",
                                    "Korábbi foglalás időtartalma": "1"
                                },
                                {
                                    "SZOBA_FK": "7",
                                    "FOGLALAS_PK": "1182",
                                    "Időtartalom": "4",
                                    "Korábbi foglalás időtartalma": "4"
                                },
                                {
                                    "SZOBA_FK": "7",
                                    "FOGLALAS_PK": "1252",
                                    "Időtartalom": "2",
                                    "Korábbi foglalás időtartalma": "4"
                                },
                                {
                                    "SZOBA_FK": "8",
                                    "FOGLALAS_PK": "882",
                                    "Időtartalom": "1",
                                    "Korábbi foglalás időtartalma": "0"
                                },
                                {
                                    "SZOBA_FK": "8",
                                    "FOGLALAS_PK": "947",
                                    "Időtartalom": "3",
                                    "Korábbi foglalás időtartalma": "1"
                                },
                                {
                                    "SZOBA_FK": "8",
                                    "FOGLALAS_PK": "694",
                                    "Időtartalom": "4",
                                    "Korábbi foglalás időtartalma": "3"
                                },
                                {
                                    "SZOBA_FK": "8",
                                    "FOGLALAS_PK": "818",
                                    "Időtartalom": "4",
                                    "Korábbi foglalás időtartalma": "4"
                                },
                                {
                                    "SZOBA_FK": "8",
                                    "FOGLALAS_PK": "832",
                                    "Időtartalom": "4",
                                    "Korábbi foglalás időtartalma": "4"
                                },
                                {
                                    "SZOBA_FK": "9",
                                    "FOGLALAS_PK": "609",
                                    "Időtartalom": "2",
                                    "Korábbi foglalás időtartalma": "0"
                                },
                                {
                                    "SZOBA_FK": "9",
                                    "FOGLALAS_PK": "1157",
                                    "Időtartalom": "6",
                                    "Korábbi foglalás időtartalma": "2"
                                },
                                {
                                    "SZOBA_FK": "9",
                                    "FOGLALAS_PK": "1220",
                                    "Időtartalom": "3",
                                    "Korábbi foglalás időtartalma": "6"
                                },
                                {
                                    "SZOBA_FK": "9",
                                    "FOGLALAS_PK": "1260",
                                    "Időtartalom": "6",
                                    "Korábbi foglalás időtartalma": "3"
                                },
                                {
                                    "SZOBA_FK": "9",
                                    "FOGLALAS_PK": "1423",
                                    "Időtartalom": "3",
                                    "Korábbi foglalás időtartalma": "6"
                                },
                                {
                                    "SZOBA_FK": "9",
                                    "FOGLALAS_PK": "1537",
                                    "Időtartalom": "3",
                                    "Korábbi foglalás időtartalma": "3"
                                },
                                {
                                    "SZOBA_FK": "10",
                                    "FOGLALAS_PK": "569",
                                    "Időtartalom": "3",
                                    "Korábbi foglalás időtartalma": "0"
                                },
                                {
                                    "SZOBA_FK": "10",
                                    "FOGLALAS_PK": "790",
                                    "Időtartalom": "5",
                                    "Korábbi foglalás időtartalma": "3"
                                },
                                {
                                    "SZOBA_FK": "10",
                                    "FOGLALAS_PK": "795",
                                    "Időtartalom": "4",
                                    "Korábbi foglalás időtartalma": "5"
                                },
                                {
                                    "SZOBA_FK": "10",
                                    "FOGLALAS_PK": "1319",
                                    "Időtartalom": "6",
                                    "Korábbi foglalás időtartalma": "4"
                                },
                                {
                                    "SZOBA_FK": "11",
                                    "FOGLALAS_PK": "918",
                                    "Időtartalom": "6",
                                    "Korábbi foglalás időtartalma": "0"
                                },
                                {
                                    "SZOBA_FK": "11",
                                    "FOGLALAS_PK": "1123",
                                    "Időtartalom": "5",
                                    "Korábbi foglalás időtartalma": "6"
                                },
                                {
                                    "SZOBA_FK": "11",
                                    "FOGLALAS_PK": "1236",
                                    "Időtartalom": "1",
                                    "Korábbi foglalás időtartalma": "5"
                                },
                                {
                                    "SZOBA_FK": "11",
                                    "FOGLALAS_PK": "1523",
                                    "Időtartalom": "1",
                                    "Korábbi foglalás időtartalma": "1"
                                },
                                {
                                    "SZOBA_FK": "12",
                                    "FOGLALAS_PK": "876",
                                    "Időtartalom": "7",
                                    "Korábbi foglalás időtartalma": "0"
                                },
                                {
                                    "SZOBA_FK": "12",
                                    "FOGLALAS_PK": "951",
                                    "Időtartalom": "3",
                                    "Korábbi foglalás időtartalma": "7"
                                },
                                {
                                    "SZOBA_FK": "12",
                                    "FOGLALAS_PK": "970",
                                    "Időtartalom": "2",
                                    "Korábbi foglalás időtartalma": "3"
                                },
                                {
                                    "SZOBA_FK": "12",
                                    "FOGLALAS_PK": "1020",
                                    "Időtartalom": "5",
                                    "Korábbi foglalás időtartalma": "2"
                                },
                                {
                                    "SZOBA_FK": "12",
                                    "FOGLALAS_PK": "697",
                                    "Időtartalom": "2",
                                    "Korábbi foglalás időtartalma": "5"
                                },
                                {
                                    "SZOBA_FK": "12",
                                    "FOGLALAS_PK": "775",
                                    "Időtartalom": "4",
                                    "Korábbi foglalás időtartalma": "2"
                                },
                                {
                                    "SZOBA_FK": "12",
                                    "FOGLALAS_PK": "1140",
                                    "Időtartalom": "3",
                                    "Korábbi foglalás időtartalma": "4"
                                },
                                {
                                    "SZOBA_FK": "12",
                                    "FOGLALAS_PK": "1164",
                                    "Időtartalom": "5",
                                    "Korábbi foglalás időtartalma": "3"
                                },
                                {
                                    "SZOBA_FK": "12",
                                    "FOGLALAS_PK": "1430",
                                    "Időtartalom": "2",
                                    "Korábbi foglalás időtartalma": "5"
                                },
                                {
                                    "SZOBA_FK": "13",
                                    "FOGLALAS_PK": "763",
                                    "Időtartalom": "4",
                                    "Korábbi foglalás időtartalma": "0"
                                },
                                {
                                    "SZOBA_FK": "13",
                                    "FOGLALAS_PK": "1044",
                                    "Időtartalom": "6",
                                    "Korábbi foglalás időtartalma": "4"
                                },
                                {
                                    "SZOBA_FK": "13",
                                    "FOGLALAS_PK": "1347",
                                    "Időtartalom": "3",
                                    "Korábbi foglalás időtartalma": "6"
                                },
                                {
                                    "SZOBA_FK": "13",
                                    "FOGLALAS_PK": "1469",
                                    "Időtartalom": "2",
                                    "Korábbi foglalás időtartalma": "3"
                                },
                                {
                                    "SZOBA_FK": "14",
                                    "FOGLALAS_PK": "663",
                                    "Időtartalom": "1",
                                    "Korábbi foglalás időtartalma": "0"
                                },
                                {
                                    "SZOBA_FK": "14",
                                    "FOGLALAS_PK": "813",
                                    "Időtartalom": "3",
                                    "Korábbi foglalás időtartalma": "1"
                                },
                                {
                                    "SZOBA_FK": "14",
                                    "FOGLALAS_PK": "1542",
                                    "Időtartalom": "4",
                                    "Korábbi foglalás időtartalma": "3"
                                },
                                {
                                    "SZOBA_FK": "15",
                                    "FOGLALAS_PK": "1028",
                                    "Időtartalom": "2",
                                    "Korábbi foglalás időtartalma": "0"
                                },
                                {
                                    "SZOBA_FK": "15",
                                    "FOGLALAS_PK": "791",
                                    "Időtartalom": "5",
                                    "Korábbi foglalás időtartalma": "2"
                                },
                                {
                                    "SZOBA_FK": "15",
                                    "FOGLALAS_PK": "1129",
                                    "Időtartalom": "4",
                                    "Korábbi foglalás időtartalma": "5"
                                },
                                {
                                    "SZOBA_FK": "15",
                                    "FOGLALAS_PK": "1244",
                                    "Időtartalom": "1",
                                    "Korábbi foglalás időtartalma": "4"
                                },
                                {
                                    "SZOBA_FK": "15",
                                    "FOGLALAS_PK": "1418",
                                    "Időtartalom": "4",
                                    "Korábbi foglalás időtartalma": "1"
                                },
                                {
                                    "SZOBA_FK": "15",
                                    "FOGLALAS_PK": "1442",
                                    "Időtartalom": "3",
                                    "Korábbi foglalás időtartalma": "4"
                                },
                                {
                                    "SZOBA_FK": "16",
                                    "FOGLALAS_PK": "856",
                                    "Időtartalom": "6",
                                    "Korábbi foglalás időtartalma": "0"
                                },
                                {
                                    "SZOBA_FK": "16",
                                    "FOGLALAS_PK": "896",
                                    "Időtartalom": "1",
                                    "Korábbi foglalás időtartalma": "6"
                                },
                                {
                                    "SZOBA_FK": "16",
                                    "FOGLALAS_PK": "973",
                                    "Időtartalom": "1",
                                    "Korábbi foglalás időtartalma": "1"
                                },
                                {
                                    "SZOBA_FK": "16",
                                    "FOGLALAS_PK": "687",
                                    "Időtartalom": "3",
                                    "Korábbi foglalás időtartalma": "1"
                                },
                                {
                                    "SZOBA_FK": "16",
                                    "FOGLALAS_PK": "1498",
                                    "Időtartalom": "7",
                                    "Korábbi foglalás időtartalma": "3"
                                },
                                {
                                    "SZOBA_FK": "17",
                                    "FOGLALAS_PK": "602",
                                    "Időtartalom": "6",
                                    "Korábbi foglalás időtartalma": "0"
                                },
                                {
                                    "SZOBA_FK": "17",
                                    "FOGLALAS_PK": "916",
                                    "Időtartalom": "2",
                                    "Korábbi foglalás időtartalma": "6"
                                },
                                {
                                    "SZOBA_FK": "17",
                                    "FOGLALAS_PK": "713",
                                    "Időtartalom": "6",
                                    "Korábbi foglalás időtartalma": "2"
                                },
                                {
                                    "SZOBA_FK": "17",
                                    "FOGLALAS_PK": "744",
                                    "Időtartalom": "1",
                                    "Korábbi foglalás időtartalma": "6"
                                },
                                {
                                    "SZOBA_FK": "17",
                                    "FOGLALAS_PK": "1316",
                                    "Időtartalom": "5",
                                    "Korábbi foglalás időtartalma": "1"
                                },
                                {
                                    "SZOBA_FK": "17",
                                    "FOGLALAS_PK": "1549",
                                    "Időtartalom": "3",
                                    "Korábbi foglalás időtartalma": "5"
                                },
                                {
                                    "SZOBA_FK": "18",
                                    "FOGLALAS_PK": "626",
                                    "Időtartalom": "3",
                                    "Korábbi foglalás időtartalma": "0"
                                },
                                {
                                    "SZOBA_FK": "18",
                                    "FOGLALAS_PK": "767",
                                    "Időtartalom": "3",
                                    "Korábbi foglalás időtartalma": "3"
                                },
                                {
                                    "SZOBA_FK": "18",
                                    "FOGLALAS_PK": "1035",
                                    "Időtartalom": "6",
                                    "Korábbi foglalás időtartalma": "3"
                                },
                                {
                                    "SZOBA_FK": "18",
                                    "FOGLALAS_PK": "1173",
                                    "Időtartalom": "6",
                                    "Korábbi foglalás időtartalma": "6"
                                },
                                {
                                    "SZOBA_FK": "18",
                                    "FOGLALAS_PK": "1198",
                                    "Időtartalom": "4",
                                    "Korábbi foglalás időtartalma": "6"
                                },
                                {
                                    "SZOBA_FK": "18",
                                    "FOGLALAS_PK": "1505",
                                    "Időtartalom": "6",
                                    "Korábbi foglalás időtartalma": "4"
                                },
                                {
                                    "SZOBA_FK": "19",
                                    "FOGLALAS_PK": "948",
                                    "Időtartalom": "2",
                                    "Korábbi foglalás időtartalma": "0"
                                },
                                {
                                    "SZOBA_FK": "19",
                                    "FOGLALAS_PK": "696",
                                    "Időtartalom": "1",
                                    "Korábbi foglalás időtartalma": "2"
                                },
                                {
                                    "SZOBA_FK": "19",
                                    "FOGLALAS_PK": "778",
                                    "Időtartalom": "1",
                                    "Korábbi foglalás időtartalma": "1"
                                },
                                {
                                    "SZOBA_FK": "19",
                                    "FOGLALAS_PK": "1139",
                                    "Időtartalom": "7",
                                    "Korábbi foglalás időtartalma": "1"
                                },
                                {
                                    "SZOBA_FK": "19",
                                    "FOGLALAS_PK": "1237",
                                    "Időtartalom": "1",
                                    "Korábbi foglalás időtartalma": "7"
                                },
                                {
                                    "SZOBA_FK": "19",
                                    "FOGLALAS_PK": "1533",
                                    "Időtartalom": "1",
                                    "Korábbi foglalás időtartalma": "1"
                                },
                                {
                                    "SZOBA_FK": "20",
                                    "FOGLALAS_PK": "755",
                                    "Időtartalom": "6",
                                    "Korábbi foglalás időtartalma": "0"
                                },
                                {
                                    "SZOBA_FK": "20",
                                    "FOGLALAS_PK": "820",
                                    "Időtartalom": "1",
                                    "Korábbi foglalás időtartalma": "6"
                                },
                                {
                                    "SZOBA_FK": "20",
                                    "FOGLALAS_PK": "1070",
                                    "Időtartalom": "1",
                                    "Korábbi foglalás időtartalma": "1"
                                },
                                {
                                    "SZOBA_FK": "20",
                                    "FOGLALAS_PK": "1114",
                                    "Időtartalom": "5",
                                    "Korábbi foglalás időtartalma": "1"
                                },
                                {
                                    "SZOBA_FK": "20",
                                    "FOGLALAS_PK": "1106",
                                    "Időtartalom": "2",
                                    "Korábbi foglalás időtartalma": "5"
                                },
                                {
                                    "SZOBA_FK": "21",
                                    "FOGLALAS_PK": "566",
                                    "Időtartalom": "6",
                                    "Korábbi foglalás időtartalma": "0"
                                },
                                {
                                    "SZOBA_FK": "21",
                                    "FOGLALAS_PK": "660",
                                    "Időtartalom": "5",
                                    "Korábbi foglalás időtartalma": "6"
                                },
                                {
                                    "SZOBA_FK": "21",
                                    "FOGLALAS_PK": "805",
                                    "Időtartalom": "1",
                                    "Korábbi foglalás időtartalma": "5"
                                },
                                {
                                    "SZOBA_FK": "21",
                                    "FOGLALAS_PK": "1212",
                                    "Időtartalom": "6",
                                    "Korábbi foglalás időtartalma": "1"
                                },
                                {
                                    "SZOBA_FK": "22",
                                    "FOGLALAS_PK": "906",
                                    "Időtartalom": "1",
                                    "Korábbi foglalás időtartalma": "0"
                                },
                                {
                                    "SZOBA_FK": "22",
                                    "FOGLALAS_PK": "1005",
                                    "Időtartalom": "3",
                                    "Korábbi foglalás időtartalma": "1"
                                },
                                {
                                    "SZOBA_FK": "22",
                                    "FOGLALAS_PK": "1130",
                                    "Időtartalom": "1",
                                    "Korábbi foglalás időtartalma": "3"
                                },
                                {
                                    "SZOBA_FK": "22",
                                    "FOGLALAS_PK": "1195",
                                    "Időtartalom": "6",
                                    "Korábbi foglalás időtartalma": "1"
                                },
                                {
                                    "SZOBA_FK": "22",
                                    "FOGLALAS_PK": "1206",
                                    "Időtartalom": "7",
                                    "Korábbi foglalás időtartalma": "6"
                                },
                                {
                                    "SZOBA_FK": "22",
                                    "FOGLALAS_PK": "1287",
                                    "Időtartalom": "3",
                                    "Korábbi foglalás időtartalma": "7"
                                },
                                {
                                    "SZOBA_FK": "23",
                                    "FOGLALAS_PK": "934",
                                    "Időtartalom": "1",
                                    "Korábbi foglalás időtartalma": "0"
                                },
                                {
                                    "SZOBA_FK": "23",
                                    "FOGLALAS_PK": "945",
                                    "Időtartalom": "7",
                                    "Korábbi foglalás időtartalma": "1"
                                },
                                {
                                    "SZOBA_FK": "23",
                                    "FOGLALAS_PK": "848",
                                    "Időtartalom": "1",
                                    "Korábbi foglalás időtartalma": "7"
                                },
                                {
                                    "SZOBA_FK": "24",
                                    "FOGLALAS_PK": "852",
                                    "Időtartalom": "2",
                                    "Korábbi foglalás időtartalma": "0"
                                },
                                {
                                    "SZOBA_FK": "24",
                                    "FOGLALAS_PK": "1167",
                                    "Időtartalom": "1",
                                    "Korábbi foglalás időtartalma": "2"
                                },
                                {
                                    "SZOBA_FK": "24",
                                    "FOGLALAS_PK": "1415",
                                    "Időtartalom": "3",
                                    "Korábbi foglalás időtartalma": "1"
                                },
                                {
                                    "SZOBA_FK": "25",
                                    "FOGLALAS_PK": "1052",
                                    "Időtartalom": "3",
                                    "Korábbi foglalás időtartalma": "0"
                                },
                                {
                                    "SZOBA_FK": "25",
                                    "FOGLALAS_PK": "1362",
                                    "Időtartalom": "2",
                                    "Korábbi foglalás időtartalma": "3"
                                },
                                {
                                    "SZOBA_FK": "26",
                                    "FOGLALAS_PK": "1158",
                                    "Időtartalom": "2",
                                    "Korábbi foglalás időtartalma": "0"
                                },
                                {
                                    "SZOBA_FK": "26",
                                    "FOGLALAS_PK": "1388",
                                    "Időtartalom": "3",
                                    "Korábbi foglalás időtartalma": "2"
                                },
                                {
                                    "SZOBA_FK": "27",
                                    "FOGLALAS_PK": "758",
                                    "Időtartalom": "3",
                                    "Korábbi foglalás időtartalma": "0"
                                },
                                {
                                    "SZOBA_FK": "27",
                                    "FOGLALAS_PK": "807",
                                    "Időtartalom": "2",
                                    "Korábbi foglalás időtartalma": "3"
                                },
                                {
                                    "SZOBA_FK": "27",
                                    "FOGLALAS_PK": "1031",
                                    "Időtartalom": "2",
                                    "Korábbi foglalás időtartalma": "2"
                                },
                                {
                                    "SZOBA_FK": "27",
                                    "FOGLALAS_PK": "1082",
                                    "Időtartalom": "5",
                                    "Korábbi foglalás időtartalma": "2"
                                },
                                {
                                    "SZOBA_FK": "27",
                                    "FOGLALAS_PK": "1275",
                                    "Időtartalom": "6",
                                    "Korábbi foglalás időtartalma": "5"
                                },
                                {
                                    "SZOBA_FK": "27",
                                    "FOGLALAS_PK": "1377",
                                    "Időtartalom": "1",
                                    "Korábbi foglalás időtartalma": "6"
                                },
                                {
                                    "SZOBA_FK": "27",
                                    "FOGLALAS_PK": "1476",
                                    "Időtartalom": "1",
                                    "Korábbi foglalás időtartalma": "1"
                                },
                                {
                                    "SZOBA_FK": "28",
                                    "FOGLALAS_PK": "872",
                                    "Időtartalom": "5",
                                    "Korábbi foglalás időtartalma": "0"
                                },
                                {
                                    "SZOBA_FK": "28",
                                    "FOGLALAS_PK": "886",
                                    "Időtartalom": "4",
                                    "Korábbi foglalás időtartalma": "5"
                                },
                                {
                                    "SZOBA_FK": "28",
                                    "FOGLALAS_PK": "901",
                                    "Időtartalom": "4",
                                    "Korábbi foglalás időtartalma": "4"
                                },
                                {
                                    "SZOBA_FK": "28",
                                    "FOGLALAS_PK": "725",
                                    "Időtartalom": "5",
                                    "Korábbi foglalás időtartalma": "4"
                                },
                                {
                                    "SZOBA_FK": "28",
                                    "FOGLALAS_PK": "1150",
                                    "Időtartalom": "6",
                                    "Korábbi foglalás időtartalma": "5"
                                },
                                {
                                    "SZOBA_FK": "28",
                                    "FOGLALAS_PK": "1459",
                                    "Időtartalom": "2",
                                    "Korábbi foglalás időtartalma": "6"
                                },
                                {
                                    "SZOBA_FK": "29",
                                    "FOGLALAS_PK": "611",
                                    "Időtartalom": "5",
                                    "Korábbi foglalás időtartalma": "0"
                                },
                                {
                                    "SZOBA_FK": "29",
                                    "FOGLALAS_PK": "894",
                                    "Időtartalom": "1",
                                    "Korábbi foglalás időtartalma": "5"
                                },
                                {
                                    "SZOBA_FK": "29",
                                    "FOGLALAS_PK": "1076",
                                    "Időtartalom": "7",
                                    "Korábbi foglalás időtartalma": "1"
                                },
                                {
                                    "SZOBA_FK": "29",
                                    "FOGLALAS_PK": "1185",
                                    "Időtartalom": "5",
                                    "Korábbi foglalás időtartalma": "7"
                                },
                                {
                                    "SZOBA_FK": "29",
                                    "FOGLALAS_PK": "1235",
                                    "Időtartalom": "7",
                                    "Korábbi foglalás időtartalma": "5"
                                },
                                {
                                    "SZOBA_FK": "29",
                                    "FOGLALAS_PK": "1568",
                                    "Időtartalom": "7",
                                    "Korábbi foglalás időtartalma": "7"
                                },
                                {
                                    "SZOBA_FK": "30",
                                    "FOGLALAS_PK": "604",
                                    "Időtartalom": "2",
                                    "Korábbi foglalás időtartalma": "0"
                                },
                                {
                                    "SZOBA_FK": "30",
                                    "FOGLALAS_PK": "1023",
                                    "Időtartalom": "7",
                                    "Korábbi foglalás időtartalma": "2"
                                },
                                {
                                    "SZOBA_FK": "30",
                                    "FOGLALAS_PK": "1136",
                                    "Időtartalom": "5",
                                    "Korábbi foglalás időtartalma": "7"
                                },
                                {
                                    "SZOBA_FK": "31",
                                    "FOGLALAS_PK": "598",
                                    "Időtartalom": "2",
                                    "Korábbi foglalás időtartalma": "0"
                                },
                                {
                                    "SZOBA_FK": "31",
                                    "FOGLALAS_PK": "606",
                                    "Időtartalom": "1",
                                    "Korábbi foglalás időtartalma": "2"
                                },
                                {
                                    "SZOBA_FK": "31",
                                    "FOGLALAS_PK": "728",
                                    "Időtartalom": "4",
                                    "Korábbi foglalás időtartalma": "1"
                                },
                                {
                                    "SZOBA_FK": "32",
                                    "FOGLALAS_PK": "920",
                                    "Időtartalom": "4",
                                    "Korábbi foglalás időtartalma": "0"
                                },
                                {
                                    "SZOBA_FK": "33",
                                    "FOGLALAS_PK": "624",
                                    "Időtartalom": "6",
                                    "Korábbi foglalás időtartalma": "0"
                                },
                                {
                                    "SZOBA_FK": "33",
                                    "FOGLALAS_PK": "1012",
                                    "Időtartalom": "7",
                                    "Korábbi foglalás időtartalma": "6"
                                },
                                {
                                    "SZOBA_FK": "33",
                                    "FOGLALAS_PK": "1053",
                                    "Időtartalom": "1",
                                    "Korábbi foglalás időtartalma": "7"
                                },
                                {
                                    "SZOBA_FK": "33",
                                    "FOGLALAS_PK": "1321",
                                    "Időtartalom": "4",
                                    "Korábbi foglalás időtartalma": "1"
                                },
                                {
                                    "SZOBA_FK": "33",
                                    "FOGLALAS_PK": "1344",
                                    "Időtartalom": "5",
                                    "Korábbi foglalás időtartalma": "4"
                                },
                                {
                                    "SZOBA_FK": "33",
                                    "FOGLALAS_PK": "1381",
                                    "Időtartalom": "6",
                                    "Korábbi foglalás időtartalma": "5"
                                },
                                {
                                    "SZOBA_FK": "34",
                                    "FOGLALAS_PK": "870",
                                    "Időtartalom": "6",
                                    "Korábbi foglalás időtartalma": "0"
                                },
                                {
                                    "SZOBA_FK": "34",
                                    "FOGLALAS_PK": "904",
                                    "Időtartalom": "2",
                                    "Korábbi foglalás időtartalma": "6"
                                },
                                {
                                    "SZOBA_FK": "34",
                                    "FOGLALAS_PK": "777",
                                    "Időtartalom": "3",
                                    "Korábbi foglalás időtartalma": "2"
                                },
                                {
                                    "SZOBA_FK": "34",
                                    "FOGLALAS_PK": "821",
                                    "Időtartalom": "1",
                                    "Korábbi foglalás időtartalma": "3"
                                },
                                {
                                    "SZOBA_FK": "35",
                                    "FOGLALAS_PK": "971",
                                    "Időtartalom": "3",
                                    "Korábbi foglalás időtartalma": "0"
                                },
                                {
                                    "SZOBA_FK": "35",
                                    "FOGLALAS_PK": "979",
                                    "Időtartalom": "7",
                                    "Korábbi foglalás időtartalma": "3"
                                },
                                {
                                    "SZOBA_FK": "35",
                                    "FOGLALAS_PK": "686",
                                    "Időtartalom": "6",
                                    "Korábbi foglalás időtartalma": "7"
                                },
                                {
                                    "SZOBA_FK": "35",
                                    "FOGLALAS_PK": "707",
                                    "Időtartalom": "2",
                                    "Korábbi foglalás időtartalma": "6"
                                },
                                {
                                    "SZOBA_FK": "35",
                                    "FOGLALAS_PK": "829",
                                    "Időtartalom": "2",
                                    "Korábbi foglalás időtartalma": "2"
                                },
                                {
                                    "SZOBA_FK": "35",
                                    "FOGLALAS_PK": "1480",
                                    "Időtartalom": "37",
                                    "Korábbi foglalás időtartalma": "2"
                                },
                                {
                                    "SZOBA_FK": "35",
                                    "FOGLALAS_PK": "1411",
                                    "Időtartalom": "1",
                                    "Korábbi foglalás időtartalma": "37"
                                },
                                {
                                    "SZOBA_FK": "35",
                                    "FOGLALAS_PK": "1436",
                                    "Időtartalom": "1",
                                    "Korábbi foglalás időtartalma": "1"
                                },
                                {
                                    "SZOBA_FK": "35",
                                    "FOGLALAS_PK": "1529",
                                    "Időtartalom": "4",
                                    "Korábbi foglalás időtartalma": "1"
                                },
                                {
                                    "SZOBA_FK": "36",
                                    "FOGLALAS_PK": "895",
                                    "Időtartalom": "5",
                                    "Korábbi foglalás időtartalma": "0"
                                },
                                {
                                    "SZOBA_FK": "36",
                                    "FOGLALAS_PK": "919",
                                    "Időtartalom": "1",
                                    "Korábbi foglalás időtartalma": "5"
                                },
                                {
                                    "SZOBA_FK": "36",
                                    "FOGLALAS_PK": "985",
                                    "Időtartalom": "6",
                                    "Korábbi foglalás időtartalma": "1"
                                },
                                {
                                    "SZOBA_FK": "36",
                                    "FOGLALAS_PK": "1003",
                                    "Időtartalom": "4",
                                    "Korábbi foglalás időtartalma": "6"
                                },
                                {
                                    "SZOBA_FK": "36",
                                    "FOGLALAS_PK": "748",
                                    "Időtartalom": "2",
                                    "Korábbi foglalás időtartalma": "4"
                                },
                                {
                                    "SZOBA_FK": "36",
                                    "FOGLALAS_PK": "750",
                                    "Időtartalom": "6",
                                    "Korábbi foglalás időtartalma": "2"
                                },
                                {
                                    "SZOBA_FK": "37",
                                    "FOGLALAS_PK": "688",
                                    "Időtartalom": "2",
                                    "Korábbi foglalás időtartalma": "0"
                                },
                                {
                                    "SZOBA_FK": "37",
                                    "FOGLALAS_PK": "705",
                                    "Időtartalom": "4",
                                    "Korábbi foglalás időtartalma": "2"
                                },
                                {
                                    "SZOBA_FK": "37",
                                    "FOGLALAS_PK": "1335",
                                    "Időtartalom": "7",
                                    "Korábbi foglalás időtartalma": "4"
                                },
                                {
                                    "SZOBA_FK": "38",
                                    "FOGLALAS_PK": "627",
                                    "Időtartalom": "6",
                                    "Korábbi foglalás időtartalma": "0"
                                },
                                {
                                    "SZOBA_FK": "38",
                                    "FOGLALAS_PK": "1033",
                                    "Időtartalom": "2",
                                    "Korábbi foglalás időtartalma": "6"
                                },
                                {
                                    "SZOBA_FK": "38",
                                    "FOGLALAS_PK": "1060",
                                    "Időtartalom": "2",
                                    "Korábbi foglalás időtartalma": "2"
                                },
                                {
                                    "SZOBA_FK": "38",
                                    "FOGLALAS_PK": "1078",
                                    "Időtartalom": "7",
                                    "Korábbi foglalás időtartalma": "2"
                                },
                                {
                                    "SZOBA_FK": "38",
                                    "FOGLALAS_PK": "1351",
                                    "Időtartalom": "4",
                                    "Korábbi foglalás időtartalma": "7"
                                },
                                {
                                    "SZOBA_FK": "38",
                                    "FOGLALAS_PK": "1416",
                                    "Időtartalom": "5",
                                    "Korábbi foglalás időtartalma": "4"
                                },
                                {
                                    "SZOBA_FK": "38",
                                    "FOGLALAS_PK": "1478",
                                    "Időtartalom": "4",
                                    "Korábbi foglalás időtartalma": "5"
                                },
                                {
                                    "SZOBA_FK": "38",
                                    "FOGLALAS_PK": "1556",
                                    "Időtartalom": "6",
                                    "Korábbi foglalás időtartalma": "4"
                                },
                                {
                                    "SZOBA_FK": "39",
                                    "FOGLALAS_PK": "601",
                                    "Időtartalom": "6",
                                    "Korábbi foglalás időtartalma": "0"
                                },
                                {
                                    "SZOBA_FK": "39",
                                    "FOGLALAS_PK": "899",
                                    "Időtartalom": "6",
                                    "Korábbi foglalás időtartalma": "6"
                                },
                                {
                                    "SZOBA_FK": "39",
                                    "FOGLALAS_PK": "1214",
                                    "Időtartalom": "5",
                                    "Korábbi foglalás időtartalma": "6"
                                },
                                {
                                    "SZOBA_FK": "39",
                                    "FOGLALAS_PK": "1380",
                                    "Időtartalom": "5",
                                    "Korábbi foglalás időtartalma": "5"
                                },
                                {
                                    "SZOBA_FK": "39",
                                    "FOGLALAS_PK": "1435",
                                    "Időtartalom": "7",
                                    "Korábbi foglalás időtartalma": "5"
                                },
                                {
                                    "SZOBA_FK": "39",
                                    "FOGLALAS_PK": "1454",
                                    "Időtartalom": "1",
                                    "Korábbi foglalás időtartalma": "7"
                                },
                                {
                                    "SZOBA_FK": "39",
                                    "FOGLALAS_PK": "1538",
                                    "Időtartalom": "2",
                                    "Korábbi foglalás időtartalma": "1"
                                },
                                {
                                    "SZOBA_FK": "40",
                                    "FOGLALAS_PK": "924",
                                    "Időtartalom": "5",
                                    "Korábbi foglalás időtartalma": "0"
                                },
                                {
                                    "SZOBA_FK": "40",
                                    "FOGLALAS_PK": "932",
                                    "Időtartalom": "6",
                                    "Korábbi foglalás időtartalma": "5"
                                },
                                {
                                    "SZOBA_FK": "40",
                                    "FOGLALAS_PK": "1018",
                                    "Időtartalom": "5",
                                    "Korábbi foglalás időtartalma": "6"
                                },
                                {
                                    "SZOBA_FK": "40",
                                    "FOGLALAS_PK": "1118",
                                    "Időtartalom": "5",
                                    "Korábbi foglalás időtartalma": "5"
                                },
                                {
                                    "SZOBA_FK": "41",
                                    "FOGLALAS_PK": "960",
                                    "Időtartalom": "6",
                                    "Korábbi foglalás időtartalma": "0"
                                },
                                {
                                    "SZOBA_FK": "41",
                                    "FOGLALAS_PK": "1144",
                                    "Időtartalom": "1",
                                    "Korábbi foglalás időtartalma": "6"
                                },
                                {
                                    "SZOBA_FK": "42",
                                    "FOGLALAS_PK": "561",
                                    "Időtartalom": "4",
                                    "Korábbi foglalás időtartalma": "0"
                                },
                                {
                                    "SZOBA_FK": "42",
                                    "FOGLALAS_PK": "590",
                                    "Időtartalom": "5",
                                    "Korábbi foglalás időtartalma": "4"
                                },
                                {
                                    "SZOBA_FK": "42",
                                    "FOGLALAS_PK": "851",
                                    "Időtartalom": "7",
                                    "Korábbi foglalás időtartalma": "5"
                                },
                                {
                                    "SZOBA_FK": "42",
                                    "FOGLALAS_PK": "770",
                                    "Időtartalom": "3",
                                    "Korábbi foglalás időtartalma": "7"
                                },
                                {
                                    "SZOBA_FK": "42",
                                    "FOGLALAS_PK": "1309",
                                    "Időtartalom": "2",
                                    "Korábbi foglalás időtartalma": "3"
                                },
                                {
                                    "SZOBA_FK": "42",
                                    "FOGLALAS_PK": "1444",
                                    "Időtartalom": "6",
                                    "Korábbi foglalás időtartalma": "2"
                                },
                                {
                                    "SZOBA_FK": "43",
                                    "FOGLALAS_PK": "1019",
                                    "Időtartalom": "4",
                                    "Korábbi foglalás időtartalma": "0"
                                },
                                {
                                    "SZOBA_FK": "43",
                                    "FOGLALAS_PK": "670",
                                    "Időtartalom": "4",
                                    "Korábbi foglalás időtartalma": "4"
                                },
                                {
                                    "SZOBA_FK": "43",
                                    "FOGLALAS_PK": "1088",
                                    "Időtartalom": "2",
                                    "Korábbi foglalás időtartalma": "4"
                                },
                                {
                                    "SZOBA_FK": "43",
                                    "FOGLALAS_PK": "1207",
                                    "Időtartalom": "1",
                                    "Korábbi foglalás időtartalma": "2"
                                },
                                {
                                    "SZOBA_FK": "43",
                                    "FOGLALAS_PK": "1227",
                                    "Időtartalom": "5",
                                    "Korábbi foglalás időtartalma": "1"
                                },
                                {
                                    "SZOBA_FK": "43",
                                    "FOGLALAS_PK": "1270",
                                    "Időtartalom": "4",
                                    "Korábbi foglalás időtartalma": "5"
                                },
                                {
                                    "SZOBA_FK": "43",
                                    "FOGLALAS_PK": "1524",
                                    "Időtartalom": "1",
                                    "Korábbi foglalás időtartalma": "4"
                                },
                                {
                                    "SZOBA_FK": "43",
                                    "FOGLALAS_PK": "1553",
                                    "Időtartalom": "5",
                                    "Korábbi foglalás időtartalma": "1"
                                },
                                {
                                    "SZOBA_FK": "44",
                                    "FOGLALAS_PK": "589",
                                    "Időtartalom": "2",
                                    "Korábbi foglalás időtartalma": "0"
                                },
                                {
                                    "SZOBA_FK": "44",
                                    "FOGLALAS_PK": "658",
                                    "Időtartalom": "6",
                                    "Korábbi foglalás időtartalma": "2"
                                },
                                {
                                    "SZOBA_FK": "44",
                                    "FOGLALAS_PK": "823",
                                    "Időtartalom": "2",
                                    "Korábbi foglalás időtartalma": "6"
                                },
                                {
                                    "SZOBA_FK": "44",
                                    "FOGLALAS_PK": "1295",
                                    "Időtartalom": "2",
                                    "Korábbi foglalás időtartalma": "2"
                                },
                                {
                                    "SZOBA_FK": "44",
                                    "FOGLALAS_PK": "1425",
                                    "Időtartalom": "2",
                                    "Korábbi foglalás időtartalma": "2"
                                },
                                {
                                    "SZOBA_FK": "44",
                                    "FOGLALAS_PK": "1552",
                                    "Időtartalom": "2",
                                    "Korábbi foglalás időtartalma": "2"
                                },
                                {
                                    "SZOBA_FK": "45",
                                    "FOGLALAS_PK": "802",
                                    "Időtartalom": "7",
                                    "Korábbi foglalás időtartalma": "0"
                                },
                                {
                                    "SZOBA_FK": "45",
                                    "FOGLALAS_PK": "800",
                                    "Időtartalom": "5",
                                    "Korábbi foglalás időtartalma": "7"
                                },
                                {
                                    "SZOBA_FK": "45",
                                    "FOGLALAS_PK": "846",
                                    "Időtartalom": "3",
                                    "Korábbi foglalás időtartalma": "5"
                                },
                                {
                                    "SZOBA_FK": "45",
                                    "FOGLALAS_PK": "1135",
                                    "Időtartalom": "3",
                                    "Korábbi foglalás időtartalma": "3"
                                },
                                {
                                    "SZOBA_FK": "45",
                                    "FOGLALAS_PK": "1303",
                                    "Időtartalom": "2",
                                    "Korábbi foglalás időtartalma": "3"
                                },
                                {
                                    "SZOBA_FK": "46",
                                    "FOGLALAS_PK": "752",
                                    "Időtartalom": "5",
                                    "Korábbi foglalás időtartalma": "0"
                                },
                                {
                                    "SZOBA_FK": "46",
                                    "FOGLALAS_PK": "1187",
                                    "Időtartalom": "7",
                                    "Korábbi foglalás időtartalma": "5"
                                },
                                {
                                    "SZOBA_FK": "46",
                                    "FOGLALAS_PK": "1291",
                                    "Időtartalom": "3",
                                    "Korábbi foglalás időtartalma": "7"
                                },
                                {
                                    "SZOBA_FK": "46",
                                    "FOGLALAS_PK": "1515",
                                    "Időtartalom": "4",
                                    "Korábbi foglalás időtartalma": "3"
                                },
                                {
                                    "SZOBA_FK": "47",
                                    "FOGLALAS_PK": "955",
                                    "Időtartalom": "1",
                                    "Korábbi foglalás időtartalma": "0"
                                },
                                {
                                    "SZOBA_FK": "47",
                                    "FOGLALAS_PK": "1056",
                                    "Időtartalom": "7",
                                    "Korábbi foglalás időtartalma": "1"
                                },
                                {
                                    "SZOBA_FK": "48",
                                    "FOGLALAS_PK": "603",
                                    "Időtartalom": "3",
                                    "Korábbi foglalás időtartalma": "0"
                                },
                                {
                                    "SZOBA_FK": "48",
                                    "FOGLALAS_PK": "628",
                                    "Időtartalom": "2",
                                    "Korábbi foglalás időtartalma": "3"
                                },
                                {
                                    "SZOBA_FK": "48",
                                    "FOGLALAS_PK": "914",
                                    "Időtartalom": "5",
                                    "Korábbi foglalás időtartalma": "2"
                                },
                                {
                                    "SZOBA_FK": "48",
                                    "FOGLALAS_PK": "986",
                                    "Időtartalom": "5",
                                    "Korábbi foglalás időtartalma": "5"
                                },
                                {
                                    "SZOBA_FK": "48",
                                    "FOGLALAS_PK": "824",
                                    "Időtartalom": "2",
                                    "Korábbi foglalás időtartalma": "5"
                                },
                                {
                                    "SZOBA_FK": "48",
                                    "FOGLALAS_PK": "1243",
                                    "Időtartalom": "6",
                                    "Korábbi foglalás időtartalma": "2"
                                },
                                {
                                    "SZOBA_FK": "48",
                                    "FOGLALAS_PK": "1546",
                                    "Időtartalom": "3",
                                    "Korábbi foglalás időtartalma": "6"
                                },
                                {
                                    "SZOBA_FK": "48",
                                    "FOGLALAS_PK": "1547",
                                    "Időtartalom": "1",
                                    "Korábbi foglalás időtartalma": "3"
                                },
                                {
                                    "SZOBA_FK": "48",
                                    "FOGLALAS_PK": "1581",
                                    "Időtartalom": "5",
                                    "Korábbi foglalás időtartalma": "1"
                                },
                                {
                                    "SZOBA_FK": "49",
                                    "FOGLALAS_PK": "888",
                                    "Időtartalom": "7",
                                    "Korábbi foglalás időtartalma": "0"
                                },
                                {
                                    "SZOBA_FK": "49",
                                    "FOGLALAS_PK": "793",
                                    "Időtartalom": "6",
                                    "Korábbi foglalás időtartalma": "7"
                                },
                                {
                                    "SZOBA_FK": "49",
                                    "FOGLALAS_PK": "826",
                                    "Időtartalom": "4",
                                    "Korábbi foglalás időtartalma": "6"
                                },
                                {
                                    "SZOBA_FK": "49",
                                    "FOGLALAS_PK": "1066",
                                    "Időtartalom": "7",
                                    "Korábbi foglalás időtartalma": "4"
                                },
                                {
                                    "SZOBA_FK": "49",
                                    "FOGLALAS_PK": "1200",
                                    "Időtartalom": "7",
                                    "Korábbi foglalás időtartalma": "7"
                                },
                                {
                                    "SZOBA_FK": "49",
                                    "FOGLALAS_PK": "1221",
                                    "Időtartalom": "2",
                                    "Korábbi foglalás időtartalma": "7"
                                },
                                {
                                    "SZOBA_FK": "49",
                                    "FOGLALAS_PK": "1536",
                                    "Időtartalom": "6",
                                    "Korábbi foglalás időtartalma": "2"
                                },
                                {
                                    "SZOBA_FK": "50",
                                    "FOGLALAS_PK": "787",
                                    "Időtartalom": "3",
                                    "Korábbi foglalás időtartalma": "0"
                                },
                                {
                                    "SZOBA_FK": "50",
                                    "FOGLALAS_PK": "1063",
                                    "Időtartalom": "2",
                                    "Korábbi foglalás időtartalma": "3"
                                },
                                {
                                    "SZOBA_FK": "50",
                                    "FOGLALAS_PK": "1224",
                                    "Időtartalom": "1",
                                    "Korábbi foglalás időtartalma": "2"
                                },
                                {
                                    "SZOBA_FK": "50",
                                    "FOGLALAS_PK": "1272",
                                    "Időtartalom": "1",
                                    "Korábbi foglalás időtartalma": "1"
                                },
                                {
                                    "SZOBA_FK": "51",
                                    "FOGLALAS_PK": "865",
                                    "Időtartalom": "7",
                                    "Korábbi foglalás időtartalma": "0"
                                },
                                {
                                    "SZOBA_FK": "51",
                                    "FOGLALAS_PK": "811",
                                    "Időtartalom": "2",
                                    "Korábbi foglalás időtartalma": "7"
                                },
                                {
                                    "SZOBA_FK": "51",
                                    "FOGLALAS_PK": "1165",
                                    "Időtartalom": "5",
                                    "Korábbi foglalás időtartalma": "2"
                                },
                                {
                                    "SZOBA_FK": "51",
                                    "FOGLALAS_PK": "1477",
                                    "Időtartalom": "6",
                                    "Korábbi foglalás időtartalma": "5"
                                },
                                {
                                    "SZOBA_FK": "51",
                                    "FOGLALAS_PK": "1550",
                                    "Időtartalom": "1",
                                    "Korábbi foglalás időtartalma": "6"
                                },
                                {
                                    "SZOBA_FK": "52",
                                    "FOGLALAS_PK": "822",
                                    "Időtartalom": "7",
                                    "Korábbi foglalás időtartalma": "0"
                                },
                                {
                                    "SZOBA_FK": "52",
                                    "FOGLALAS_PK": "1202",
                                    "Időtartalom": "2",
                                    "Korábbi foglalás időtartalma": "7"
                                },
                                {
                                    "SZOBA_FK": "52",
                                    "FOGLALAS_PK": "1258",
                                    "Időtartalom": "5",
                                    "Korábbi foglalás időtartalma": "2"
                                },
                                {
                                    "SZOBA_FK": "52",
                                    "FOGLALAS_PK": "1431",
                                    "Időtartalom": "5",
                                    "Korábbi foglalás időtartalma": "5"
                                },
                                {
                                    "SZOBA_FK": "52",
                                    "FOGLALAS_PK": "1534",
                                    "Időtartalom": "5",
                                    "Korábbi foglalás időtartalma": "5"
                                },
                                {
                                    "SZOBA_FK": "53",
                                    "FOGLALAS_PK": "855",
                                    "Időtartalom": "1",
                                    "Korábbi foglalás időtartalma": "0"
                                },
                                {
                                    "SZOBA_FK": "53",
                                    "FOGLALAS_PK": "987",
                                    "Időtartalom": "4",
                                    "Korábbi foglalás időtartalma": "1"
                                },
                                {
                                    "SZOBA_FK": "54",
                                    "FOGLALAS_PK": "622",
                                    "Időtartalom": "7",
                                    "Korábbi foglalás időtartalma": "0"
                                },
                                {
                                    "SZOBA_FK": "54",
                                    "FOGLALAS_PK": "642",
                                    "Időtartalom": "5",
                                    "Korábbi foglalás időtartalma": "7"
                                },
                                {
                                    "SZOBA_FK": "54",
                                    "FOGLALAS_PK": "889",
                                    "Időtartalom": "2",
                                    "Korábbi foglalás időtartalma": "5"
                                },
                                {
                                    "SZOBA_FK": "54",
                                    "FOGLALAS_PK": "668",
                                    "Időtartalom": "1",
                                    "Korábbi foglalás időtartalma": "2"
                                },
                                {
                                    "SZOBA_FK": "54",
                                    "FOGLALAS_PK": "1096",
                                    "Időtartalom": "4",
                                    "Korábbi foglalás időtartalma": "1"
                                },
                                {
                                    "SZOBA_FK": "54",
                                    "FOGLALAS_PK": "1328",
                                    "Időtartalom": "4",
                                    "Korábbi foglalás időtartalma": "4"
                                },
                                {
                                    "SZOBA_FK": "55",
                                    "FOGLALAS_PK": "734",
                                    "Időtartalom": "6",
                                    "Korábbi foglalás időtartalma": "0"
                                },
                                {
                                    "SZOBA_FK": "55",
                                    "FOGLALAS_PK": "1086",
                                    "Időtartalom": "5",
                                    "Korábbi foglalás időtartalma": "6"
                                },
                                {
                                    "SZOBA_FK": "55",
                                    "FOGLALAS_PK": "1163",
                                    "Időtartalom": "2",
                                    "Korábbi foglalás időtartalma": "5"
                                },
                                {
                                    "SZOBA_FK": "55",
                                    "FOGLALAS_PK": "1232",
                                    "Időtartalom": "7",
                                    "Korábbi foglalás időtartalma": "2"
                                },
                                {
                                    "SZOBA_FK": "55",
                                    "FOGLALAS_PK": "1327",
                                    "Időtartalom": "6",
                                    "Korábbi foglalás időtartalma": "7"
                                },
                                {
                                    "SZOBA_FK": "55",
                                    "FOGLALAS_PK": "1386",
                                    "Időtartalom": "2",
                                    "Korábbi foglalás időtartalma": "6"
                                },
                                {
                                    "SZOBA_FK": "55",
                                    "FOGLALAS_PK": "1512",
                                    "Időtartalom": "1",
                                    "Korábbi foglalás időtartalma": "2"
                                },
                                {
                                    "SZOBA_FK": "55",
                                    "FOGLALAS_PK": "1520",
                                    "Időtartalom": "1",
                                    "Korábbi foglalás időtartalma": "1"
                                },
                                {
                                    "SZOBA_FK": "56",
                                    "FOGLALAS_PK": "935",
                                    "Időtartalom": "4",
                                    "Korábbi foglalás időtartalma": "0"
                                },
                                {
                                    "SZOBA_FK": "56",
                                    "FOGLALAS_PK": "838",
                                    "Időtartalom": "2",
                                    "Korábbi foglalás időtartalma": "4"
                                },
                                {
                                    "SZOBA_FK": "57",
                                    "FOGLALAS_PK": "1348",
                                    "Időtartalom": "1",
                                    "Korábbi foglalás időtartalma": "0"
                                },
                                {
                                    "SZOBA_FK": "57",
                                    "FOGLALAS_PK": "1389",
                                    "Időtartalom": "1",
                                    "Korábbi foglalás időtartalma": "1"
                                },
                                {
                                    "SZOBA_FK": "57",
                                    "FOGLALAS_PK": "1466",
                                    "Időtartalom": "7",
                                    "Korábbi foglalás időtartalma": "1"
                                },
                                {
                                    "SZOBA_FK": "57",
                                    "FOGLALAS_PK": "1504",
                                    "Időtartalom": "4",
                                    "Korábbi foglalás időtartalma": "7"
                                },
                                {
                                    "SZOBA_FK": "58",
                                    "FOGLALAS_PK": "883",
                                    "Időtartalom": "5",
                                    "Korábbi foglalás időtartalma": "0"
                                },
                                {
                                    "SZOBA_FK": "58",
                                    "FOGLALAS_PK": "719",
                                    "Időtartalom": "3",
                                    "Korábbi foglalás időtartalma": "5"
                                },
                                {
                                    "SZOBA_FK": "58",
                                    "FOGLALAS_PK": "773",
                                    "Időtartalom": "2",
                                    "Korábbi foglalás időtartalma": "3"
                                },
                                {
                                    "SZOBA_FK": "58",
                                    "FOGLALAS_PK": "1113",
                                    "Időtartalom": "3",
                                    "Korábbi foglalás időtartalma": "2"
                                },
                                {
                                    "SZOBA_FK": "58",
                                    "FOGLALAS_PK": "1186",
                                    "Időtartalom": "6",
                                    "Korábbi foglalás időtartalma": "3"
                                },
                                {
                                    "SZOBA_FK": "58",
                                    "FOGLALAS_PK": "1208",
                                    "Időtartalom": "6",
                                    "Korábbi foglalás időtartalma": "6"
                                },
                                {
                                    "SZOBA_FK": "58",
                                    "FOGLALAS_PK": "1255",
                                    "Időtartalom": "7",
                                    "Korábbi foglalás időtartalma": "6"
                                },
                                {
                                    "SZOBA_FK": "58",
                                    "FOGLALAS_PK": "1261",
                                    "Időtartalom": "6",
                                    "Korábbi foglalás időtartalma": "7"
                                },
                                {
                                    "SZOBA_FK": "58",
                                    "FOGLALAS_PK": "1285",
                                    "Időtartalom": "7",
                                    "Korábbi foglalás időtartalma": "6"
                                },
                                {
                                    "SZOBA_FK": "58",
                                    "FOGLALAS_PK": "1293",
                                    "Időtartalom": "3",
                                    "Korábbi foglalás időtartalma": "7"
                                },
                                {
                                    "SZOBA_FK": "58",
                                    "FOGLALAS_PK": "1307",
                                    "Időtartalom": "6",
                                    "Korábbi foglalás időtartalma": "3"
                                },
                                {
                                    "SZOBA_FK": "58",
                                    "FOGLALAS_PK": "1322",
                                    "Időtartalom": "3",
                                    "Korábbi foglalás időtartalma": "6"
                                },
                                {
                                    "SZOBA_FK": "58",
                                    "FOGLALAS_PK": "1451",
                                    "Időtartalom": "6",
                                    "Korábbi foglalás időtartalma": "3"
                                },
                                {
                                    "SZOBA_FK": "59",
                                    "FOGLALAS_PK": "1080",
                                    "Időtartalom": "1",
                                    "Korábbi foglalás időtartalma": "0"
                                },
                                {
                                    "SZOBA_FK": "59",
                                    "FOGLALAS_PK": "1084",
                                    "Időtartalom": "2",
                                    "Korábbi foglalás időtartalma": "1"
                                },
                                {
                                    "SZOBA_FK": "59",
                                    "FOGLALAS_PK": "1170",
                                    "Időtartalom": "5",
                                    "Korábbi foglalás időtartalma": "2"
                                },
                                {
                                    "SZOBA_FK": "59",
                                    "FOGLALAS_PK": "1191",
                                    "Időtartalom": "6",
                                    "Korábbi foglalás időtartalma": "5"
                                },
                                {
                                    "SZOBA_FK": "59",
                                    "FOGLALAS_PK": "1239",
                                    "Időtartalom": "2",
                                    "Korábbi foglalás időtartalma": "6"
                                },
                                {
                                    "SZOBA_FK": "59",
                                    "FOGLALAS_PK": "1288",
                                    "Időtartalom": "3",
                                    "Korábbi foglalás időtartalma": "2"
                                },
                                {
                                    "SZOBA_FK": "59",
                                    "FOGLALAS_PK": "1573",
                                    "Időtartalom": "1",
                                    "Korábbi foglalás időtartalma": "3"
                                },
                                {
                                    "SZOBA_FK": "60",
                                    "FOGLALAS_PK": "676",
                                    "Időtartalom": "2",
                                    "Korábbi foglalás időtartalma": "0"
                                },
                                {
                                    "SZOBA_FK": "61",
                                    "FOGLALAS_PK": "701",
                                    "Időtartalom": "2",
                                    "Korábbi foglalás időtartalma": "0"
                                },
                                {
                                    "SZOBA_FK": "61",
                                    "FOGLALAS_PK": "756",
                                    "Időtartalom": "6",
                                    "Korábbi foglalás időtartalma": "2"
                                },
                                {
                                    "SZOBA_FK": "61",
                                    "FOGLALAS_PK": "1148",
                                    "Időtartalom": "3",
                                    "Korábbi foglalás időtartalma": "6"
                                },
                                {
                                    "SZOBA_FK": "61",
                                    "FOGLALAS_PK": "1218",
                                    "Időtartalom": "2",
                                    "Korábbi foglalás időtartalma": "3"
                                },
                                {
                                    "SZOBA_FK": "61",
                                    "FOGLALAS_PK": "1496",
                                    "Időtartalom": "7",
                                    "Korábbi foglalás időtartalma": "2"
                                },
                                {
                                    "SZOBA_FK": "62",
                                    "FOGLALAS_PK": "936",
                                    "Időtartalom": "3",
                                    "Korábbi foglalás időtartalma": "0"
                                },
                                {
                                    "SZOBA_FK": "62",
                                    "FOGLALAS_PK": "938",
                                    "Időtartalom": "1",
                                    "Korábbi foglalás időtartalma": "3"
                                },
                                {
                                    "SZOBA_FK": "62",
                                    "FOGLALAS_PK": "702",
                                    "Időtartalom": "5",
                                    "Korábbi foglalás időtartalma": "1"
                                },
                                {
                                    "SZOBA_FK": "62",
                                    "FOGLALAS_PK": "1081",
                                    "Időtartalom": "7",
                                    "Korábbi foglalás időtartalma": "5"
                                },
                                {
                                    "SZOBA_FK": "62",
                                    "FOGLALAS_PK": "1426",
                                    "Időtartalom": "4",
                                    "Korábbi foglalás időtartalma": "7"
                                },
                                {
                                    "SZOBA_FK": "63",
                                    "FOGLALAS_PK": "625",
                                    "Időtartalom": "3",
                                    "Korábbi foglalás időtartalma": "0"
                                },
                                {
                                    "SZOBA_FK": "63",
                                    "FOGLALAS_PK": "891",
                                    "Időtartalom": "6",
                                    "Korábbi foglalás időtartalma": "3"
                                },
                                {
                                    "SZOBA_FK": "63",
                                    "FOGLALAS_PK": "769",
                                    "Időtartalom": "5",
                                    "Korábbi foglalás időtartalma": "6"
                                },
                                {
                                    "SZOBA_FK": "63",
                                    "FOGLALAS_PK": "845",
                                    "Időtartalom": "1",
                                    "Korábbi foglalás időtartalma": "5"
                                },
                                {
                                    "SZOBA_FK": "64",
                                    "FOGLALAS_PK": "875",
                                    "Időtartalom": "2",
                                    "Korábbi foglalás időtartalma": "0"
                                },
                                {
                                    "SZOBA_FK": "64",
                                    "FOGLALAS_PK": "1122",
                                    "Időtartalom": "4",
                                    "Korábbi foglalás időtartalma": "2"
                                },
                                {
                                    "SZOBA_FK": "64",
                                    "FOGLALAS_PK": "1233",
                                    "Időtartalom": "7",
                                    "Korábbi foglalás időtartalma": "4"
                                },
                                {
                                    "SZOBA_FK": "64",
                                    "FOGLALAS_PK": "1446",
                                    "Időtartalom": "6",
                                    "Korábbi foglalás időtartalma": "7"
                                },
                                {
                                    "SZOBA_FK": "64",
                                    "FOGLALAS_PK": "1465",
                                    "Időtartalom": "4",
                                    "Korábbi foglalás időtartalma": "6"
                                },
                                {
                                    "SZOBA_FK": "64",
                                    "FOGLALAS_PK": "1582",
                                    "Időtartalom": "1",
                                    "Korábbi foglalás időtartalma": "4"
                                },
                                {
                                    "SZOBA_FK": "65",
                                    "FOGLALAS_PK": "650",
                                    "Időtartalom": "6",
                                    "Korábbi foglalás időtartalma": "0"
                                },
                                {
                                    "SZOBA_FK": "66",
                                    "FOGLALAS_PK": "950",
                                    "Időtartalom": "3",
                                    "Korábbi foglalás időtartalma": "0"
                                },
                                {
                                    "SZOBA_FK": "66",
                                    "FOGLALAS_PK": "736",
                                    "Időtartalom": "3",
                                    "Korábbi foglalás időtartalma": "3"
                                },
                                {
                                    "SZOBA_FK": "66",
                                    "FOGLALAS_PK": "1234",
                                    "Időtartalom": "3",
                                    "Korábbi foglalás időtartalma": "3"
                                },
                                {
                                    "SZOBA_FK": "66",
                                    "FOGLALAS_PK": "1264",
                                    "Időtartalom": "4",
                                    "Korábbi foglalás időtartalma": "3"
                                },
                                {
                                    "SZOBA_FK": "67",
                                    "FOGLALAS_PK": "638",
                                    "Időtartalom": "5",
                                    "Korábbi foglalás időtartalma": "0"
                                },
                                {
                                    "SZOBA_FK": "67",
                                    "FOGLALAS_PK": "645",
                                    "Időtartalom": "6",
                                    "Korábbi foglalás időtartalma": "5"
                                },
                                {
                                    "SZOBA_FK": "67",
                                    "FOGLALAS_PK": "874",
                                    "Időtartalom": "6",
                                    "Korábbi foglalás időtartalma": "6"
                                },
                                {
                                    "SZOBA_FK": "67",
                                    "FOGLALAS_PK": "1382",
                                    "Időtartalom": "1",
                                    "Korábbi foglalás időtartalma": "6"
                                },
                                {
                                    "SZOBA_FK": "67",
                                    "FOGLALAS_PK": "1580",
                                    "Időtartalom": "5",
                                    "Korábbi foglalás időtartalma": "1"
                                },
                                {
                                    "SZOBA_FK": "67",
                                    "FOGLALAS_PK": "1584",
                                    "Időtartalom": "1",
                                    "Korábbi foglalás időtartalma": "5"
                                },
                                {
                                    "SZOBA_FK": "68",
                                    "FOGLALAS_PK": "563",
                                    "Időtartalom": "5",
                                    "Korábbi foglalás időtartalma": "0"
                                },
                                {
                                    "SZOBA_FK": "68",
                                    "FOGLALAS_PK": "1027",
                                    "Időtartalom": "7",
                                    "Korábbi foglalás időtartalma": "5"
                                },
                                {
                                    "SZOBA_FK": "68",
                                    "FOGLALAS_PK": "1324",
                                    "Időtartalom": "4",
                                    "Korábbi foglalás időtartalma": "7"
                                },
                                {
                                    "SZOBA_FK": "69",
                                    "FOGLALAS_PK": "885",
                                    "Időtartalom": "1",
                                    "Korábbi foglalás időtartalma": "0"
                                },
                                {
                                    "SZOBA_FK": "69",
                                    "FOGLALAS_PK": "1055",
                                    "Időtartalom": "5",
                                    "Korábbi foglalás időtartalma": "1"
                                },
                                {
                                    "SZOBA_FK": "69",
                                    "FOGLALAS_PK": "1225",
                                    "Időtartalom": "5",
                                    "Korábbi foglalás időtartalma": "5"
                                },
                                {
                                    "SZOBA_FK": "69",
                                    "FOGLALAS_PK": "1246",
                                    "Időtartalom": "7",
                                    "Korábbi foglalás időtartalma": "5"
                                },
                                {
                                    "SZOBA_FK": "70",
                                    "FOGLALAS_PK": "585",
                                    "Időtartalom": "5",
                                    "Korábbi foglalás időtartalma": "0"
                                },
                                {
                                    "SZOBA_FK": "70",
                                    "FOGLALAS_PK": "860",
                                    "Időtartalom": "2",
                                    "Korábbi foglalás időtartalma": "5"
                                },
                                {
                                    "SZOBA_FK": "70",
                                    "FOGLALAS_PK": "1006",
                                    "Időtartalom": "3",
                                    "Korábbi foglalás időtartalma": "2"
                                },
                                {
                                    "SZOBA_FK": "70",
                                    "FOGLALAS_PK": "704",
                                    "Időtartalom": "3",
                                    "Korábbi foglalás időtartalma": "3"
                                },
                                {
                                    "SZOBA_FK": "70",
                                    "FOGLALAS_PK": "814",
                                    "Időtartalom": "3",
                                    "Korábbi foglalás időtartalma": "3"
                                },
                                {
                                    "SZOBA_FK": "70",
                                    "FOGLALAS_PK": "1092",
                                    "Időtartalom": "3",
                                    "Korábbi foglalás időtartalma": "3"
                                },
                                {
                                    "SZOBA_FK": "70",
                                    "FOGLALAS_PK": "1126",
                                    "Időtartalom": "3",
                                    "Korábbi foglalás időtartalma": "3"
                                },
                                {
                                    "SZOBA_FK": "70",
                                    "FOGLALAS_PK": "1325",
                                    "Időtartalom": "7",
                                    "Korábbi foglalás időtartalma": "3"
                                },
                                {
                                    "SZOBA_FK": "70",
                                    "FOGLALAS_PK": "1333",
                                    "Időtartalom": "6",
                                    "Korábbi foglalás időtartalma": "7"
                                },
                                {
                                    "SZOBA_FK": "70",
                                    "FOGLALAS_PK": "1365",
                                    "Időtartalom": "3",
                                    "Korábbi foglalás időtartalma": "6"
                                },
                                {
                                    "SZOBA_FK": "70",
                                    "FOGLALAS_PK": "1457",
                                    "Időtartalom": "7",
                                    "Korábbi foglalás időtartalma": "3"
                                },
                                {
                                    "SZOBA_FK": "71",
                                    "FOGLALAS_PK": "1009",
                                    "Időtartalom": "1",
                                    "Korábbi foglalás időtartalma": "0"
                                },
                                {
                                    "SZOBA_FK": "71",
                                    "FOGLALAS_PK": "681",
                                    "Időtartalom": "3",
                                    "Korábbi foglalás időtartalma": "1"
                                },
                                {
                                    "SZOBA_FK": "71",
                                    "FOGLALAS_PK": "712",
                                    "Időtartalom": "1",
                                    "Korábbi foglalás időtartalma": "3"
                                },
                                {
                                    "SZOBA_FK": "72",
                                    "FOGLALAS_PK": "902",
                                    "Időtartalom": "5",
                                    "Korábbi foglalás időtartalma": "0"
                                },
                                {
                                    "SZOBA_FK": "72",
                                    "FOGLALAS_PK": "961",
                                    "Időtartalom": "6",
                                    "Korábbi foglalás időtartalma": "5"
                                },
                                {
                                    "SZOBA_FK": "72",
                                    "FOGLALAS_PK": "1318",
                                    "Időtartalom": "2",
                                    "Korábbi foglalás időtartalma": "6"
                                },
                                {
                                    "SZOBA_FK": "72",
                                    "FOGLALAS_PK": "1396",
                                    "Időtartalom": "3",
                                    "Korábbi foglalás időtartalma": "2"
                                },
                                {
                                    "SZOBA_FK": "73",
                                    "FOGLALAS_PK": "1000",
                                    "Időtartalom": "4",
                                    "Korábbi foglalás időtartalma": "0"
                                },
                                {
                                    "SZOBA_FK": "73",
                                    "FOGLALAS_PK": "714",
                                    "Időtartalom": "7",
                                    "Korábbi foglalás időtartalma": "4"
                                },
                                {
                                    "SZOBA_FK": "73",
                                    "FOGLALAS_PK": "1159",
                                    "Időtartalom": "5",
                                    "Korábbi foglalás időtartalma": "7"
                                },
                                {
                                    "SZOBA_FK": "73",
                                    "FOGLALAS_PK": "1331",
                                    "Időtartalom": "4",
                                    "Korábbi foglalás időtartalma": "5"
                                },
                                {
                                    "SZOBA_FK": "74",
                                    "FOGLALAS_PK": "595",
                                    "Időtartalom": "7",
                                    "Korábbi foglalás időtartalma": "0"
                                },
                                {
                                    "SZOBA_FK": "74",
                                    "FOGLALAS_PK": "877",
                                    "Időtartalom": "4",
                                    "Korábbi foglalás időtartalma": "7"
                                },
                                {
                                    "SZOBA_FK": "74",
                                    "FOGLALAS_PK": "940",
                                    "Időtartalom": "5",
                                    "Korábbi foglalás időtartalma": "4"
                                },
                                {
                                    "SZOBA_FK": "74",
                                    "FOGLALAS_PK": "963",
                                    "Időtartalom": "1",
                                    "Korábbi foglalás időtartalma": "5"
                                },
                                {
                                    "SZOBA_FK": "74",
                                    "FOGLALAS_PK": "797",
                                    "Időtartalom": "5",
                                    "Korábbi foglalás időtartalma": "1"
                                },
                                {
                                    "SZOBA_FK": "74",
                                    "FOGLALAS_PK": "830",
                                    "Időtartalom": "1",
                                    "Korábbi foglalás időtartalma": "5"
                                },
                                {
                                    "SZOBA_FK": "74",
                                    "FOGLALAS_PK": "847",
                                    "Időtartalom": "3",
                                    "Korábbi foglalás időtartalma": "1"
                                },
                                {
                                    "SZOBA_FK": "74",
                                    "FOGLALAS_PK": "1093",
                                    "Időtartalom": "6",
                                    "Korábbi foglalás időtartalma": "3"
                                },
                                {
                                    "SZOBA_FK": "74",
                                    "FOGLALAS_PK": "1179",
                                    "Időtartalom": "7",
                                    "Korábbi foglalás időtartalma": "6"
                                },
                                {
                                    "SZOBA_FK": "75",
                                    "FOGLALAS_PK": "1013",
                                    "Időtartalom": "5",
                                    "Korábbi foglalás időtartalma": "0"
                                },
                                {
                                    "SZOBA_FK": "75",
                                    "FOGLALAS_PK": "1412",
                                    "Időtartalom": "2",
                                    "Korábbi foglalás időtartalma": "5"
                                },
                                {
                                    "SZOBA_FK": "75",
                                    "FOGLALAS_PK": "1458",
                                    "Időtartalom": "1",
                                    "Korábbi foglalás időtartalma": "2"
                                },
                                {
                                    "SZOBA_FK": "76",
                                    "FOGLALAS_PK": "976",
                                    "Időtartalom": "2",
                                    "Korábbi foglalás időtartalma": "0"
                                },
                                {
                                    "SZOBA_FK": "76",
                                    "FOGLALAS_PK": "683",
                                    "Időtartalom": "7",
                                    "Korábbi foglalás időtartalma": "2"
                                },
                                {
                                    "SZOBA_FK": "76",
                                    "FOGLALAS_PK": "1557",
                                    "Időtartalom": "3",
                                    "Korábbi foglalás időtartalma": "7"
                                },
                                {
                                    "SZOBA_FK": "77",
                                    "FOGLALAS_PK": "593",
                                    "Időtartalom": "3",
                                    "Korábbi foglalás időtartalma": "0"
                                },
                                {
                                    "SZOBA_FK": "77",
                                    "FOGLALAS_PK": "982",
                                    "Időtartalom": "3",
                                    "Korábbi foglalás időtartalma": "3"
                                },
                                {
                                    "SZOBA_FK": "77",
                                    "FOGLALAS_PK": "698",
                                    "Időtartalom": "4",
                                    "Korábbi foglalás időtartalma": "3"
                                },
                                {
                                    "SZOBA_FK": "77",
                                    "FOGLALAS_PK": "1104",
                                    "Időtartalom": "1",
                                    "Korábbi foglalás időtartalma": "4"
                                },
                                {
                                    "SZOBA_FK": "77",
                                    "FOGLALAS_PK": "1439",
                                    "Időtartalom": "6",
                                    "Korábbi foglalás időtartalma": "1"
                                },
                                {
                                    "SZOBA_FK": "77",
                                    "FOGLALAS_PK": "1461",
                                    "Időtartalom": "4",
                                    "Korábbi foglalás időtartalma": "6"
                                },
                                {
                                    "SZOBA_FK": "78",
                                    "FOGLALAS_PK": "568",
                                    "Időtartalom": "1",
                                    "Korábbi foglalás időtartalma": "0"
                                },
                                {
                                    "SZOBA_FK": "78",
                                    "FOGLALAS_PK": "646",
                                    "Időtartalom": "3",
                                    "Korábbi foglalás időtartalma": "1"
                                },
                                {
                                    "SZOBA_FK": "78",
                                    "FOGLALAS_PK": "700",
                                    "Időtartalom": "5",
                                    "Korábbi foglalás időtartalma": "3"
                                },
                                {
                                    "SZOBA_FK": "78",
                                    "FOGLALAS_PK": "1268",
                                    "Időtartalom": "2",
                                    "Korábbi foglalás időtartalma": "5"
                                },
                                {
                                    "SZOBA_FK": "78",
                                    "FOGLALAS_PK": "1281",
                                    "Időtartalom": "3",
                                    "Korábbi foglalás időtartalma": "2"
                                },
                                {
                                    "SZOBA_FK": "78",
                                    "FOGLALAS_PK": "1577",
                                    "Időtartalom": "7",
                                    "Korábbi foglalás időtartalma": "3"
                                },
                                {
                                    "SZOBA_FK": "79",
                                    "FOGLALAS_PK": "583",
                                    "Időtartalom": "6",
                                    "Korábbi foglalás időtartalma": "0"
                                },
                                {
                                    "SZOBA_FK": "79",
                                    "FOGLALAS_PK": "1054",
                                    "Időtartalom": "1",
                                    "Korábbi foglalás időtartalma": "6"
                                },
                                {
                                    "SZOBA_FK": "79",
                                    "FOGLALAS_PK": "1229",
                                    "Időtartalom": "7",
                                    "Korábbi foglalás időtartalma": "1"
                                },
                                {
                                    "SZOBA_FK": "79",
                                    "FOGLALAS_PK": "1345",
                                    "Időtartalom": "3",
                                    "Korábbi foglalás időtartalma": "7"
                                },
                                {
                                    "SZOBA_FK": "79",
                                    "FOGLALAS_PK": "1447",
                                    "Időtartalom": "4",
                                    "Korábbi foglalás időtartalma": "3"
                                },
                                {
                                    "SZOBA_FK": "80",
                                    "FOGLALAS_PK": "887",
                                    "Időtartalom": "6",
                                    "Korábbi foglalás időtartalma": "0"
                                },
                                {
                                    "SZOBA_FK": "80",
                                    "FOGLALAS_PK": "929",
                                    "Időtartalom": "2",
                                    "Korábbi foglalás időtartalma": "6"
                                },
                                {
                                    "SZOBA_FK": "80",
                                    "FOGLALAS_PK": "983",
                                    "Időtartalom": "6",
                                    "Korábbi foglalás időtartalma": "2"
                                },
                                {
                                    "SZOBA_FK": "80",
                                    "FOGLALAS_PK": "667",
                                    "Időtartalom": "6",
                                    "Korábbi foglalás időtartalma": "6"
                                },
                                {
                                    "SZOBA_FK": "80",
                                    "FOGLALAS_PK": "1071",
                                    "Időtartalom": "4",
                                    "Korábbi foglalás időtartalma": "6"
                                },
                                {
                                    "SZOBA_FK": "80",
                                    "FOGLALAS_PK": "1279",
                                    "Időtartalom": "5",
                                    "Korábbi foglalás időtartalma": "4"
                                },
                                {
                                    "SZOBA_FK": "80",
                                    "FOGLALAS_PK": "1367",
                                    "Időtartalom": "3",
                                    "Korábbi foglalás időtartalma": "5"
                                },
                                {
                                    "SZOBA_FK": "81",
                                    "FOGLALAS_PK": "1366",
                                    "Időtartalom": "5",
                                    "Korábbi foglalás időtartalma": "0"
                                },
                                {
                                    "SZOBA_FK": "81",
                                    "FOGLALAS_PK": "1443",
                                    "Időtartalom": "7",
                                    "Korábbi foglalás időtartalma": "5"
                                },
                                {
                                    "SZOBA_FK": "81",
                                    "FOGLALAS_PK": "1464",
                                    "Időtartalom": "7",
                                    "Korábbi foglalás időtartalma": "7"
                                },
                                {
                                    "SZOBA_FK": "81",
                                    "FOGLALAS_PK": "1506",
                                    "Időtartalom": "3",
                                    "Korábbi foglalás időtartalma": "7"
                                },
                                {
                                    "SZOBA_FK": "81",
                                    "FOGLALAS_PK": "1562",
                                    "Időtartalom": "3",
                                    "Korábbi foglalás időtartalma": "3"
                                },
                                {
                                    "SZOBA_FK": "82",
                                    "FOGLALAS_PK": "862",
                                    "Időtartalom": "4",
                                    "Korábbi foglalás időtartalma": "0"
                                },
                                {
                                    "SZOBA_FK": "82",
                                    "FOGLALAS_PK": "871",
                                    "Időtartalom": "5",
                                    "Korábbi foglalás időtartalma": "4"
                                },
                                {
                                    "SZOBA_FK": "82",
                                    "FOGLALAS_PK": "997",
                                    "Időtartalom": "6",
                                    "Korábbi foglalás időtartalma": "5"
                                },
                                {
                                    "SZOBA_FK": "82",
                                    "FOGLALAS_PK": "1277",
                                    "Időtartalom": "5",
                                    "Korábbi foglalás időtartalma": "6"
                                },
                                {
                                    "SZOBA_FK": "82",
                                    "FOGLALAS_PK": "1341",
                                    "Időtartalom": "2",
                                    "Korábbi foglalás időtartalma": "5"
                                },
                                {
                                    "SZOBA_FK": "82",
                                    "FOGLALAS_PK": "1406",
                                    "Időtartalom": "1",
                                    "Korábbi foglalás időtartalma": "2"
                                },
                                {
                                    "SZOBA_FK": "83",
                                    "FOGLALAS_PK": "572",
                                    "Időtartalom": "7",
                                    "Korábbi foglalás időtartalma": "0"
                                },
                                {
                                    "SZOBA_FK": "83",
                                    "FOGLALAS_PK": "869",
                                    "Időtartalom": "6",
                                    "Korábbi foglalás időtartalma": "7"
                                },
                                {
                                    "SZOBA_FK": "83",
                                    "FOGLALAS_PK": "878",
                                    "Időtartalom": "6",
                                    "Korábbi foglalás időtartalma": "6"
                                },
                                {
                                    "SZOBA_FK": "83",
                                    "FOGLALAS_PK": "995",
                                    "Időtartalom": "5",
                                    "Korábbi foglalás időtartalma": "6"
                                },
                                {
                                    "SZOBA_FK": "83",
                                    "FOGLALAS_PK": "674",
                                    "Időtartalom": "4",
                                    "Korábbi foglalás időtartalma": "5"
                                },
                                {
                                    "SZOBA_FK": "83",
                                    "FOGLALAS_PK": "798",
                                    "Időtartalom": "4",
                                    "Korábbi foglalás időtartalma": "4"
                                },
                                {
                                    "SZOBA_FK": "83",
                                    "FOGLALAS_PK": "1119",
                                    "Időtartalom": "6",
                                    "Korábbi foglalás időtartalma": "4"
                                },
                                {
                                    "SZOBA_FK": "83",
                                    "FOGLALAS_PK": "1379",
                                    "Időtartalom": "7",
                                    "Korábbi foglalás időtartalma": "6"
                                },
                                {
                                    "SZOBA_FK": "84",
                                    "FOGLALAS_PK": "954",
                                    "Időtartalom": "5",
                                    "Korábbi foglalás időtartalma": "0"
                                },
                                {
                                    "SZOBA_FK": "84",
                                    "FOGLALAS_PK": "819",
                                    "Időtartalom": "2",
                                    "Korábbi foglalás időtartalma": "5"
                                },
                                {
                                    "SZOBA_FK": "84",
                                    "FOGLALAS_PK": "1376",
                                    "Időtartalom": "5",
                                    "Korábbi foglalás időtartalma": "2"
                                },
                                {
                                    "SZOBA_FK": "84",
                                    "FOGLALAS_PK": "1384",
                                    "Időtartalom": "7",
                                    "Korábbi foglalás időtartalma": "5"
                                },
                                {
                                    "SZOBA_FK": "85",
                                    "FOGLALAS_PK": "647",
                                    "Időtartalom": "3",
                                    "Korábbi foglalás időtartalma": "0"
                                },
                                {
                                    "SZOBA_FK": "85",
                                    "FOGLALAS_PK": "1059",
                                    "Időtartalom": "3",
                                    "Korábbi foglalás időtartalma": "3"
                                },
                                {
                                    "SZOBA_FK": "85",
                                    "FOGLALAS_PK": "1320",
                                    "Időtartalom": "1",
                                    "Korábbi foglalás időtartalma": "3"
                                },
                                {
                                    "SZOBA_FK": "85",
                                    "FOGLALAS_PK": "1513",
                                    "Időtartalom": "7",
                                    "Korábbi foglalás időtartalma": "1"
                                },
                                {
                                    "SZOBA_FK": "86",
                                    "FOGLALAS_PK": "859",
                                    "Időtartalom": "1",
                                    "Korábbi foglalás időtartalma": "0"
                                },
                                {
                                    "SZOBA_FK": "86",
                                    "FOGLALAS_PK": "1057",
                                    "Időtartalom": "5",
                                    "Korábbi foglalás időtartalma": "1"
                                },
                                {
                                    "SZOBA_FK": "86",
                                    "FOGLALAS_PK": "1079",
                                    "Időtartalom": "4",
                                    "Korábbi foglalás időtartalma": "5"
                                },
                                {
                                    "SZOBA_FK": "86",
                                    "FOGLALAS_PK": "1108",
                                    "Időtartalom": "1",
                                    "Korábbi foglalás időtartalma": "4"
                                },
                                {
                                    "SZOBA_FK": "86",
                                    "FOGLALAS_PK": "1453",
                                    "Időtartalom": "1",
                                    "Korábbi foglalás időtartalma": "1"
                                },
                                {
                                    "SZOBA_FK": "87",
                                    "FOGLALAS_PK": "558",
                                    "Időtartalom": "4",
                                    "Korábbi foglalás időtartalma": "0"
                                },
                                {
                                    "SZOBA_FK": "87",
                                    "FOGLALAS_PK": "844",
                                    "Időtartalom": "1",
                                    "Korábbi foglalás időtartalma": "4"
                                },
                                {
                                    "SZOBA_FK": "87",
                                    "FOGLALAS_PK": "1103",
                                    "Időtartalom": "3",
                                    "Korábbi foglalás időtartalma": "1"
                                },
                                {
                                    "SZOBA_FK": "87",
                                    "FOGLALAS_PK": "1349",
                                    "Időtartalom": "5",
                                    "Korábbi foglalás időtartalma": "3"
                                },
                                {
                                    "SZOBA_FK": "87",
                                    "FOGLALAS_PK": "1456",
                                    "Időtartalom": "5",
                                    "Korábbi foglalás időtartalma": "5"
                                },
                                {
                                    "SZOBA_FK": "88",
                                    "FOGLALAS_PK": "866",
                                    "Időtartalom": "2",
                                    "Korábbi foglalás időtartalma": "0"
                                },
                                {
                                    "SZOBA_FK": "88",
                                    "FOGLALAS_PK": "757",
                                    "Időtartalom": "7",
                                    "Korábbi foglalás időtartalma": "2"
                                },
                                {
                                    "SZOBA_FK": "88",
                                    "FOGLALAS_PK": "1196",
                                    "Időtartalom": "3",
                                    "Korábbi foglalás időtartalma": "7"
                                },
                                {
                                    "SZOBA_FK": "88",
                                    "FOGLALAS_PK": "1273",
                                    "Időtartalom": "7",
                                    "Korábbi foglalás időtartalma": "3"
                                },
                                {
                                    "SZOBA_FK": "88",
                                    "FOGLALAS_PK": "1300",
                                    "Időtartalom": "3",
                                    "Korábbi foglalás időtartalma": "7"
                                },
                                {
                                    "SZOBA_FK": "88",
                                    "FOGLALAS_PK": "1359",
                                    "Időtartalom": "2",
                                    "Korábbi foglalás időtartalma": "3"
                                },
                                {
                                    "SZOBA_FK": "88",
                                    "FOGLALAS_PK": "1548",
                                    "Időtartalom": "7",
                                    "Korábbi foglalás időtartalma": "2"
                                },
                                {
                                    "SZOBA_FK": "88",
                                    "FOGLALAS_PK": "1575",
                                    "Időtartalom": "6",
                                    "Korábbi foglalás időtartalma": "7"
                                },
                                {
                                    "SZOBA_FK": "89",
                                    "FOGLALAS_PK": "817",
                                    "Időtartalom": "3",
                                    "Korábbi foglalás időtartalma": "0"
                                },
                                {
                                    "SZOBA_FK": "89",
                                    "FOGLALAS_PK": "1037",
                                    "Időtartalom": "7",
                                    "Korábbi foglalás időtartalma": "3"
                                },
                                {
                                    "SZOBA_FK": "89",
                                    "FOGLALAS_PK": "1101",
                                    "Időtartalom": "5",
                                    "Korábbi foglalás időtartalma": "7"
                                },
                                {
                                    "SZOBA_FK": "89",
                                    "FOGLALAS_PK": "1189",
                                    "Időtartalom": "6",
                                    "Korábbi foglalás időtartalma": "5"
                                },
                                {
                                    "SZOBA_FK": "89",
                                    "FOGLALAS_PK": "1253",
                                    "Időtartalom": "2",
                                    "Korábbi foglalás időtartalma": "6"
                                },
                                {
                                    "SZOBA_FK": "89",
                                    "FOGLALAS_PK": "1269",
                                    "Időtartalom": "2",
                                    "Korábbi foglalás időtartalma": "2"
                                },
                                {
                                    "SZOBA_FK": "89",
                                    "FOGLALAS_PK": "1399",
                                    "Időtartalom": "2",
                                    "Korábbi foglalás időtartalma": "2"
                                },
                                {
                                    "SZOBA_FK": "89",
                                    "FOGLALAS_PK": "1521",
                                    "Időtartalom": "7",
                                    "Korábbi foglalás időtartalma": "2"
                                },
                                {
                                    "SZOBA_FK": "90",
                                    "FOGLALAS_PK": "729",
                                    "Időtartalom": "2",
                                    "Korábbi foglalás időtartalma": "0"
                                },
                                {
                                    "SZOBA_FK": "90",
                                    "FOGLALAS_PK": "1174",
                                    "Időtartalom": "7",
                                    "Korábbi foglalás időtartalma": "2"
                                },
                                {
                                    "SZOBA_FK": "90",
                                    "FOGLALAS_PK": "1299",
                                    "Időtartalom": "6",
                                    "Korábbi foglalás időtartalma": "7"
                                },
                                {
                                    "SZOBA_FK": "90",
                                    "FOGLALAS_PK": "1405",
                                    "Időtartalom": "5",
                                    "Korábbi foglalás időtartalma": "6"
                                },
                                {
                                    "SZOBA_FK": "91",
                                    "FOGLALAS_PK": "636",
                                    "Időtartalom": "6",
                                    "Korábbi foglalás időtartalma": "0"
                                },
                                {
                                    "SZOBA_FK": "91",
                                    "FOGLALAS_PK": "732",
                                    "Időtartalom": "4",
                                    "Korábbi foglalás időtartalma": "6"
                                },
                                {
                                    "SZOBA_FK": "91",
                                    "FOGLALAS_PK": "1213",
                                    "Időtartalom": "3",
                                    "Korábbi foglalás időtartalma": "4"
                                },
                                {
                                    "SZOBA_FK": "91",
                                    "FOGLALAS_PK": "1397",
                                    "Időtartalom": "4",
                                    "Korábbi foglalás időtartalma": "3"
                                },
                                {
                                    "SZOBA_FK": "92",
                                    "FOGLALAS_PK": "942",
                                    "Időtartalom": "6",
                                    "Korábbi foglalás időtartalma": "0"
                                },
                                {
                                    "SZOBA_FK": "92",
                                    "FOGLALAS_PK": "1016",
                                    "Időtartalom": "2",
                                    "Korábbi foglalás időtartalma": "6"
                                },
                                {
                                    "SZOBA_FK": "92",
                                    "FOGLALAS_PK": "809",
                                    "Időtartalom": "3",
                                    "Korábbi foglalás időtartalma": "2"
                                },
                                {
                                    "SZOBA_FK": "92",
                                    "FOGLALAS_PK": "841",
                                    "Időtartalom": "6",
                                    "Korábbi foglalás időtartalma": "3"
                                },
                                {
                                    "SZOBA_FK": "92",
                                    "FOGLALAS_PK": "1527",
                                    "Időtartalom": "2",
                                    "Korábbi foglalás időtartalma": "6"
                                },
                                {
                                    "SZOBA_FK": "92",
                                    "FOGLALAS_PK": "1555",
                                    "Időtartalom": "4",
                                    "Korábbi foglalás időtartalma": "2"
                                },
                                {
                                    "SZOBA_FK": "93",
                                    "FOGLALAS_PK": "741",
                                    "Időtartalom": "7",
                                    "Korábbi foglalás időtartalma": "0"
                                },
                                {
                                    "SZOBA_FK": "93",
                                    "FOGLALAS_PK": "1169",
                                    "Időtartalom": "4",
                                    "Korábbi foglalás időtartalma": "7"
                                },
                                {
                                    "SZOBA_FK": "93",
                                    "FOGLALAS_PK": "1217",
                                    "Időtartalom": "1",
                                    "Korábbi foglalás időtartalma": "4"
                                },
                                {
                                    "SZOBA_FK": "93",
                                    "FOGLALAS_PK": "1355",
                                    "Időtartalom": "2",
                                    "Korábbi foglalás időtartalma": "1"
                                },
                                {
                                    "SZOBA_FK": "93",
                                    "FOGLALAS_PK": "1391",
                                    "Időtartalom": "4",
                                    "Korábbi foglalás időtartalma": "2"
                                },
                                {
                                    "SZOBA_FK": "94",
                                    "FOGLALAS_PK": "616",
                                    "Időtartalom": "4",
                                    "Korábbi foglalás időtartalma": "0"
                                },
                                {
                                    "SZOBA_FK": "94",
                                    "FOGLALAS_PK": "975",
                                    "Időtartalom": "5",
                                    "Korábbi foglalás időtartalma": "4"
                                },
                                {
                                    "SZOBA_FK": "94",
                                    "FOGLALAS_PK": "665",
                                    "Időtartalom": "7",
                                    "Korábbi foglalás időtartalma": "5"
                                },
                                {
                                    "SZOBA_FK": "94",
                                    "FOGLALAS_PK": "727",
                                    "Időtartalom": "3",
                                    "Korábbi foglalás időtartalma": "7"
                                },
                                {
                                    "SZOBA_FK": "94",
                                    "FOGLALAS_PK": "1241",
                                    "Időtartalom": "7",
                                    "Korábbi foglalás időtartalma": "3"
                                },
                                {
                                    "SZOBA_FK": "94",
                                    "FOGLALAS_PK": "1305",
                                    "Időtartalom": "2",
                                    "Korábbi foglalás időtartalma": "7"
                                },
                                {
                                    "SZOBA_FK": "94",
                                    "FOGLALAS_PK": "1312",
                                    "Időtartalom": "3",
                                    "Korábbi foglalás időtartalma": "2"
                                },
                                {
                                    "SZOBA_FK": "94",
                                    "FOGLALAS_PK": "1368",
                                    "Időtartalom": "1",
                                    "Korábbi foglalás időtartalma": "3"
                                },
                                {
                                    "SZOBA_FK": "94",
                                    "FOGLALAS_PK": "1518",
                                    "Időtartalom": "2",
                                    "Korábbi foglalás időtartalma": "1"
                                },
                                {
                                    "SZOBA_FK": "94",
                                    "FOGLALAS_PK": "1564",
                                    "Időtartalom": "7",
                                    "Korábbi foglalás időtartalma": "2"
                                },
                                {
                                    "SZOBA_FK": "95",
                                    "FOGLALAS_PK": "656",
                                    "Időtartalom": "7",
                                    "Korábbi foglalás időtartalma": "0"
                                },
                                {
                                    "SZOBA_FK": "95",
                                    "FOGLALAS_PK": "1048",
                                    "Időtartalom": "3",
                                    "Korábbi foglalás időtartalma": "7"
                                },
                                {
                                    "SZOBA_FK": "95",
                                    "FOGLALAS_PK": "1097",
                                    "Időtartalom": "4",
                                    "Korábbi foglalás időtartalma": "3"
                                },
                                {
                                    "SZOBA_FK": "95",
                                    "FOGLALAS_PK": "1543",
                                    "Időtartalom": "7",
                                    "Korábbi foglalás időtartalma": "4"
                                },
                                {
                                    "SZOBA_FK": "96",
                                    "FOGLALAS_PK": "607",
                                    "Időtartalom": "4",
                                    "Korábbi foglalás időtartalma": "0"
                                },
                                {
                                    "SZOBA_FK": "96",
                                    "FOGLALAS_PK": "623",
                                    "Időtartalom": "7",
                                    "Korábbi foglalás időtartalma": "4"
                                },
                                {
                                    "SZOBA_FK": "96",
                                    "FOGLALAS_PK": "671",
                                    "Időtartalom": "4",
                                    "Korábbi foglalás időtartalma": "7"
                                },
                                {
                                    "SZOBA_FK": "96",
                                    "FOGLALAS_PK": "780",
                                    "Időtartalom": "1",
                                    "Korábbi foglalás időtartalma": "4"
                                },
                                {
                                    "SZOBA_FK": "96",
                                    "FOGLALAS_PK": "1378",
                                    "Időtartalom": "3",
                                    "Korábbi foglalás időtartalma": "1"
                                },
                                {
                                    "SZOBA_FK": "96",
                                    "FOGLALAS_PK": "1438",
                                    "Időtartalom": "2",
                                    "Korábbi foglalás időtartalma": "3"
                                },
                                {
                                    "SZOBA_FK": "96",
                                    "FOGLALAS_PK": "1569",
                                    "Időtartalom": "7",
                                    "Korábbi foglalás időtartalma": "2"
                                },
                                {
                                    "SZOBA_FK": "97",
                                    "FOGLALAS_PK": "635",
                                    "Időtartalom": "3",
                                    "Korábbi foglalás időtartalma": "0"
                                },
                                {
                                    "SZOBA_FK": "97",
                                    "FOGLALAS_PK": "726",
                                    "Időtartalom": "4",
                                    "Korábbi foglalás időtartalma": "3"
                                },
                                {
                                    "SZOBA_FK": "97",
                                    "FOGLALAS_PK": "718",
                                    "Időtartalom": "7",
                                    "Korábbi foglalás időtartalma": "4"
                                },
                                {
                                    "SZOBA_FK": "97",
                                    "FOGLALAS_PK": "836",
                                    "Időtartalom": "2",
                                    "Korábbi foglalás időtartalma": "7"
                                },
                                {
                                    "SZOBA_FK": "97",
                                    "FOGLALAS_PK": "1395",
                                    "Időtartalom": "1",
                                    "Korábbi foglalás időtartalma": "2"
                                },
                                {
                                    "SZOBA_FK": "97",
                                    "FOGLALAS_PK": "1417",
                                    "Időtartalom": "7",
                                    "Korábbi foglalás időtartalma": "1"
                                },
                                {
                                    "SZOBA_FK": "97",
                                    "FOGLALAS_PK": "1528",
                                    "Időtartalom": "2",
                                    "Korábbi foglalás időtartalma": "7"
                                },
                                {
                                    "SZOBA_FK": "98",
                                    "FOGLALAS_PK": "631",
                                    "Időtartalom": "6",
                                    "Korábbi foglalás időtartalma": "0"
                                },
                                {
                                    "SZOBA_FK": "98",
                                    "FOGLALAS_PK": "884",
                                    "Időtartalom": "5",
                                    "Korábbi foglalás időtartalma": "6"
                                },
                                {
                                    "SZOBA_FK": "98",
                                    "FOGLALAS_PK": "1050",
                                    "Időtartalom": "6",
                                    "Korábbi foglalás időtartalma": "5"
                                },
                                {
                                    "SZOBA_FK": "98",
                                    "FOGLALAS_PK": "1402",
                                    "Időtartalom": "2",
                                    "Korábbi foglalás időtartalma": "6"
                                },
                                {
                                    "SZOBA_FK": "99",
                                    "FOGLALAS_PK": "632",
                                    "Időtartalom": "1",
                                    "Korábbi foglalás időtartalma": "0"
                                },
                                {
                                    "SZOBA_FK": "99",
                                    "FOGLALAS_PK": "691",
                                    "Időtartalom": "5",
                                    "Korábbi foglalás időtartalma": "1"
                                },
                                {
                                    "SZOBA_FK": "99",
                                    "FOGLALAS_PK": "1072",
                                    "Időtartalom": "1",
                                    "Korábbi foglalás időtartalma": "5"
                                },
                                {
                                    "SZOBA_FK": "99",
                                    "FOGLALAS_PK": "1408",
                                    "Időtartalom": "1",
                                    "Korábbi foglalás időtartalma": "1"
                                },
                                {
                                    "SZOBA_FK": "99",
                                    "FOGLALAS_PK": "1486",
                                    "Időtartalom": "5",
                                    "Korábbi foglalás időtartalma": "1"
                                },
                                {
                                    "SZOBA_FK": "100",
                                    "FOGLALAS_PK": "597",
                                    "Időtartalom": "1",
                                    "Korábbi foglalás időtartalma": "0"
                                },
                                {
                                    "SZOBA_FK": "100",
                                    "FOGLALAS_PK": "637",
                                    "Időtartalom": "5",
                                    "Korábbi foglalás időtartalma": "1"
                                },
                                {
                                    "SZOBA_FK": "100",
                                    "FOGLALAS_PK": "1315",
                                    "Időtartalom": "5",
                                    "Korábbi foglalás időtartalma": "5"
                                },
                                {
                                    "SZOBA_FK": "100",
                                    "FOGLALAS_PK": "1482",
                                    "Időtartalom": "7",
                                    "Korábbi foglalás időtartalma": "5"
                                },
                                {
                                    "SZOBA_FK": "101",
                                    "FOGLALAS_PK": "715",
                                    "Időtartalom": "3",
                                    "Korábbi foglalás időtartalma": "0"
                                },
                                {
                                    "SZOBA_FK": "101",
                                    "FOGLALAS_PK": "1332",
                                    "Időtartalom": "6",
                                    "Korábbi foglalás időtartalma": "3"
                                },
                                {
                                    "SZOBA_FK": "101",
                                    "FOGLALAS_PK": "1516",
                                    "Időtartalom": "4",
                                    "Korábbi foglalás időtartalma": "6"
                                },
                                {
                                    "SZOBA_FK": "102",
                                    "FOGLALAS_PK": "689",
                                    "Időtartalom": "5",
                                    "Korábbi foglalás időtartalma": "0"
                                },
                                {
                                    "SZOBA_FK": "102",
                                    "FOGLALAS_PK": "1343",
                                    "Időtartalom": "2",
                                    "Korábbi foglalás időtartalma": "5"
                                },
                                {
                                    "SZOBA_FK": "103",
                                    "FOGLALAS_PK": "972",
                                    "Időtartalom": "2",
                                    "Korábbi foglalás időtartalma": "0"
                                },
                                {
                                    "SZOBA_FK": "103",
                                    "FOGLALAS_PK": "992",
                                    "Időtartalom": "7",
                                    "Korábbi foglalás időtartalma": "2"
                                },
                                {
                                    "SZOBA_FK": "103",
                                    "FOGLALAS_PK": "1398",
                                    "Időtartalom": "1",
                                    "Korábbi foglalás időtartalma": "7"
                                },
                                {
                                    "SZOBA_FK": "103",
                                    "FOGLALAS_PK": "1485",
                                    "Időtartalom": "4",
                                    "Korábbi foglalás időtartalma": "1"
                                },
                                {
                                    "SZOBA_FK": "104",
                                    "FOGLALAS_PK": "837",
                                    "Időtartalom": "4",
                                    "Korábbi foglalás időtartalma": "0"
                                },
                                {
                                    "SZOBA_FK": "104",
                                    "FOGLALAS_PK": "1180",
                                    "Időtartalom": "1",
                                    "Korábbi foglalás időtartalma": "4"
                                },
                                {
                                    "SZOBA_FK": "104",
                                    "FOGLALAS_PK": "1522",
                                    "Időtartalom": "2",
                                    "Korábbi foglalás időtartalma": "1"
                                },
                                {
                                    "SZOBA_FK": "104",
                                    "FOGLALAS_PK": "1532",
                                    "Időtartalom": "3",
                                    "Korábbi foglalás időtartalma": "2"
                                },
                                {
                                    "SZOBA_FK": "105",
                                    "FOGLALAS_PK": "618",
                                    "Időtartalom": "1",
                                    "Korábbi foglalás időtartalma": "0"
                                },
                                {
                                    "SZOBA_FK": "105",
                                    "FOGLALAS_PK": "1525",
                                    "Időtartalom": "5",
                                    "Korábbi foglalás időtartalma": "1"
                                },
                                {
                                    "SZOBA_FK": "106",
                                    "FOGLALAS_PK": "610",
                                    "Időtartalom": "3",
                                    "Korábbi foglalás időtartalma": "0"
                                },
                                {
                                    "SZOBA_FK": "106",
                                    "FOGLALAS_PK": "708",
                                    "Időtartalom": "7",
                                    "Korábbi foglalás időtartalma": "3"
                                },
                                {
                                    "SZOBA_FK": "106",
                                    "FOGLALAS_PK": "1228",
                                    "Időtartalom": "7",
                                    "Korábbi foglalás időtartalma": "7"
                                },
                                {
                                    "SZOBA_FK": "106",
                                    "FOGLALAS_PK": "1271",
                                    "Időtartalom": "5",
                                    "Korábbi foglalás időtartalma": "7"
                                },
                                {
                                    "SZOBA_FK": "106",
                                    "FOGLALAS_PK": "1372",
                                    "Időtartalom": "7",
                                    "Korábbi foglalás időtartalma": "5"
                                },
                                {
                                    "SZOBA_FK": "106",
                                    "FOGLALAS_PK": "1510",
                                    "Időtartalom": "6",
                                    "Korábbi foglalás időtartalma": "7"
                                },
                                {
                                    "SZOBA_FK": "107",
                                    "FOGLALAS_PK": "586",
                                    "Időtartalom": "6",
                                    "Korábbi foglalás időtartalma": "0"
                                },
                                {
                                    "SZOBA_FK": "107",
                                    "FOGLALAS_PK": "1250",
                                    "Időtartalom": "4",
                                    "Korábbi foglalás időtartalma": "6"
                                },
                                {
                                    "SZOBA_FK": "107",
                                    "FOGLALAS_PK": "1354",
                                    "Időtartalom": "1",
                                    "Korábbi foglalás időtartalma": "4"
                                },
                                {
                                    "SZOBA_FK": "107",
                                    "FOGLALAS_PK": "1452",
                                    "Időtartalom": "6",
                                    "Korábbi foglalás időtartalma": "1"
                                },
                                {
                                    "SZOBA_FK": "107",
                                    "FOGLALAS_PK": "1494",
                                    "Időtartalom": "2",
                                    "Korábbi foglalás időtartalma": "6"
                                },
                                {
                                    "SZOBA_FK": "108",
                                    "FOGLALAS_PK": "1102",
                                    "Időtartalom": "1",
                                    "Korábbi foglalás időtartalma": "0"
                                },
                                {
                                    "SZOBA_FK": "108",
                                    "FOGLALAS_PK": "1392",
                                    "Időtartalom": "6",
                                    "Korábbi foglalás időtartalma": "1"
                                },
                                {
                                    "SZOBA_FK": "109",
                                    "FOGLALAS_PK": "614",
                                    "Időtartalom": "4",
                                    "Korábbi foglalás időtartalma": "0"
                                },
                                {
                                    "SZOBA_FK": "109",
                                    "FOGLALAS_PK": "621",
                                    "Időtartalom": "7",
                                    "Korábbi foglalás időtartalma": "4"
                                },
                                {
                                    "SZOBA_FK": "109",
                                    "FOGLALAS_PK": "654",
                                    "Időtartalom": "5",
                                    "Korábbi foglalás időtartalma": "7"
                                },
                                {
                                    "SZOBA_FK": "109",
                                    "FOGLALAS_PK": "810",
                                    "Időtartalom": "2",
                                    "Korábbi foglalás időtartalma": "5"
                                },
                                {
                                    "SZOBA_FK": "109",
                                    "FOGLALAS_PK": "1083",
                                    "Időtartalom": "1",
                                    "Korábbi foglalás időtartalma": "2"
                                },
                                {
                                    "SZOBA_FK": "109",
                                    "FOGLALAS_PK": "1298",
                                    "Időtartalom": "4",
                                    "Korábbi foglalás időtartalma": "1"
                                },
                                {
                                    "SZOBA_FK": "109",
                                    "FOGLALAS_PK": "1560",
                                    "Időtartalom": "1",
                                    "Korábbi foglalás időtartalma": "4"
                                },
                                {
                                    "SZOBA_FK": "110",
                                    "FOGLALAS_PK": "931",
                                    "Időtartalom": "5",
                                    "Korábbi foglalás időtartalma": "0"
                                },
                                {
                                    "SZOBA_FK": "110",
                                    "FOGLALAS_PK": "964",
                                    "Időtartalom": "6",
                                    "Korábbi foglalás időtartalma": "5"
                                },
                                {
                                    "SZOBA_FK": "110",
                                    "FOGLALAS_PK": "685",
                                    "Időtartalom": "1",
                                    "Korábbi foglalás időtartalma": "6"
                                },
                                {
                                    "SZOBA_FK": "110",
                                    "FOGLALAS_PK": "1041",
                                    "Időtartalom": "3",
                                    "Korábbi foglalás időtartalma": "1"
                                },
                                {
                                    "SZOBA_FK": "110",
                                    "FOGLALAS_PK": "1109",
                                    "Időtartalom": "5",
                                    "Korábbi foglalás időtartalma": "3"
                                },
                                {
                                    "SZOBA_FK": "110",
                                    "FOGLALAS_PK": "1162",
                                    "Időtartalom": "2",
                                    "Korábbi foglalás időtartalma": "5"
                                },
                                {
                                    "SZOBA_FK": "110",
                                    "FOGLALAS_PK": "1424",
                                    "Időtartalom": "1",
                                    "Korábbi foglalás időtartalma": "2"
                                },
                                {
                                    "SZOBA_FK": "110",
                                    "FOGLALAS_PK": "1489",
                                    "Időtartalom": "6",
                                    "Korábbi foglalás időtartalma": "1"
                                },
                                {
                                    "SZOBA_FK": "111",
                                    "FOGLALAS_PK": "605",
                                    "Időtartalom": "7",
                                    "Korábbi foglalás időtartalma": "0"
                                },
                                {
                                    "SZOBA_FK": "111",
                                    "FOGLALAS_PK": "959",
                                    "Időtartalom": "7",
                                    "Korábbi foglalás időtartalma": "7"
                                },
                                {
                                    "SZOBA_FK": "111",
                                    "FOGLALAS_PK": "786",
                                    "Időtartalom": "4",
                                    "Korábbi foglalás időtartalma": "7"
                                },
                                {
                                    "SZOBA_FK": "111",
                                    "FOGLALAS_PK": "1296",
                                    "Időtartalom": "3",
                                    "Korábbi foglalás időtartalma": "4"
                                },
                                {
                                    "SZOBA_FK": "111",
                                    "FOGLALAS_PK": "1353",
                                    "Időtartalom": "5",
                                    "Korábbi foglalás időtartalma": "3"
                                },
                                {
                                    "SZOBA_FK": "112",
                                    "FOGLALAS_PK": "921",
                                    "Időtartalom": "1",
                                    "Korábbi foglalás időtartalma": "0"
                                },
                                {
                                    "SZOBA_FK": "112",
                                    "FOGLALAS_PK": "776",
                                    "Időtartalom": "4",
                                    "Korábbi foglalás időtartalma": "1"
                                },
                                {
                                    "SZOBA_FK": "112",
                                    "FOGLALAS_PK": "801",
                                    "Időtartalom": "5",
                                    "Korábbi foglalás időtartalma": "4"
                                },
                                {
                                    "SZOBA_FK": "112",
                                    "FOGLALAS_PK": "1124",
                                    "Időtartalom": "6",
                                    "Korábbi foglalás időtartalma": "5"
                                },
                                {
                                    "SZOBA_FK": "112",
                                    "FOGLALAS_PK": "1530",
                                    "Időtartalom": "6",
                                    "Korábbi foglalás időtartalma": "6"
                                },
                                {
                                    "SZOBA_FK": "113",
                                    "FOGLALAS_PK": "1029",
                                    "Időtartalom": "5",
                                    "Korábbi foglalás időtartalma": "0"
                                },
                                {
                                    "SZOBA_FK": "113",
                                    "FOGLALAS_PK": "1085",
                                    "Időtartalom": "4",
                                    "Korábbi foglalás időtartalma": "5"
                                },
                                {
                                    "SZOBA_FK": "113",
                                    "FOGLALAS_PK": "1263",
                                    "Időtartalom": "1",
                                    "Korábbi foglalás időtartalma": "4"
                                },
                                {
                                    "SZOBA_FK": "113",
                                    "FOGLALAS_PK": "1495",
                                    "Időtartalom": "7",
                                    "Korábbi foglalás időtartalma": "1"
                                },
                                {
                                    "SZOBA_FK": "113",
                                    "FOGLALAS_PK": "1499",
                                    "Időtartalom": "2",
                                    "Korábbi foglalás időtartalma": "7"
                                },
                                {
                                    "SZOBA_FK": "114",
                                    "FOGLALAS_PK": "966",
                                    "Időtartalom": "6",
                                    "Korábbi foglalás időtartalma": "0"
                                },
                                {
                                    "SZOBA_FK": "114",
                                    "FOGLALAS_PK": "737",
                                    "Időtartalom": "2",
                                    "Korábbi foglalás időtartalma": "6"
                                },
                                {
                                    "SZOBA_FK": "114",
                                    "FOGLALAS_PK": "827",
                                    "Időtartalom": "7",
                                    "Korábbi foglalás időtartalma": "2"
                                },
                                {
                                    "SZOBA_FK": "114",
                                    "FOGLALAS_PK": "1540",
                                    "Időtartalom": "3",
                                    "Korábbi foglalás időtartalma": "7"
                                },
                                {
                                    "SZOBA_FK": "115",
                                    "FOGLALAS_PK": "596",
                                    "Időtartalom": "7",
                                    "Korábbi foglalás időtartalma": "0"
                                },
                                {
                                    "SZOBA_FK": "115",
                                    "FOGLALAS_PK": "943",
                                    "Időtartalom": "7",
                                    "Korábbi foglalás időtartalma": "7"
                                },
                                {
                                    "SZOBA_FK": "115",
                                    "FOGLALAS_PK": "1121",
                                    "Időtartalom": "7",
                                    "Korábbi foglalás időtartalma": "7"
                                },
                                {
                                    "SZOBA_FK": "115",
                                    "FOGLALAS_PK": "1154",
                                    "Időtartalom": "4",
                                    "Korábbi foglalás időtartalma": "7"
                                },
                                {
                                    "SZOBA_FK": "115",
                                    "FOGLALAS_PK": "1352",
                                    "Időtartalom": "3",
                                    "Korábbi foglalás időtartalma": "4"
                                },
                                {
                                    "SZOBA_FK": "115",
                                    "FOGLALAS_PK": "1554",
                                    "Időtartalom": "3",
                                    "Korábbi foglalás időtartalma": "3"
                                },
                                {
                                    "SZOBA_FK": "115",
                                    "FOGLALAS_PK": "1566",
                                    "Időtartalom": "1",
                                    "Korábbi foglalás időtartalma": "3"
                                },
                                {
                                    "SZOBA_FK": "116",
                                    "FOGLALAS_PK": "1455",
                                    "Időtartalom": "2",
                                    "Korábbi foglalás időtartalma": "0"
                                },
                                {
                                    "SZOBA_FK": "116",
                                    "FOGLALAS_PK": "1501",
                                    "Időtartalom": "4",
                                    "Korábbi foglalás időtartalma": "2"
                                },
                                {
                                    "SZOBA_FK": "117",
                                    "FOGLALAS_PK": "612",
                                    "Időtartalom": "2",
                                    "Korábbi foglalás időtartalma": "0"
                                },
                                {
                                    "SZOBA_FK": "117",
                                    "FOGLALAS_PK": "617",
                                    "Időtartalom": "3",
                                    "Korábbi foglalás időtartalma": "2"
                                },
                                {
                                    "SZOBA_FK": "117",
                                    "FOGLALAS_PK": "953",
                                    "Időtartalom": "5",
                                    "Korábbi foglalás időtartalma": "3"
                                },
                                {
                                    "SZOBA_FK": "117",
                                    "FOGLALAS_PK": "962",
                                    "Időtartalom": "4",
                                    "Korábbi foglalás időtartalma": "5"
                                },
                                {
                                    "SZOBA_FK": "117",
                                    "FOGLALAS_PK": "1002",
                                    "Időtartalom": "1",
                                    "Korábbi foglalás időtartalma": "4"
                                },
                                {
                                    "SZOBA_FK": "117",
                                    "FOGLALAS_PK": "1192",
                                    "Időtartalom": "2",
                                    "Korábbi foglalás időtartalma": "1"
                                },
                                {
                                    "SZOBA_FK": "117",
                                    "FOGLALAS_PK": "1247",
                                    "Időtartalom": "3",
                                    "Korábbi foglalás időtartalma": "2"
                                },
                                {
                                    "SZOBA_FK": "117",
                                    "FOGLALAS_PK": "1468",
                                    "Időtartalom": "7",
                                    "Korábbi foglalás időtartalma": "3"
                                },
                                {
                                    "SZOBA_FK": "118",
                                    "FOGLALAS_PK": "864",
                                    "Időtartalom": "6",
                                    "Korábbi foglalás időtartalma": "0"
                                },
                                {
                                    "SZOBA_FK": "118",
                                    "FOGLALAS_PK": "994",
                                    "Időtartalom": "7",
                                    "Korábbi foglalás időtartalma": "6"
                                },
                                {
                                    "SZOBA_FK": "118",
                                    "FOGLALAS_PK": "996",
                                    "Időtartalom": "3",
                                    "Korábbi foglalás időtartalma": "7"
                                },
                                {
                                    "SZOBA_FK": "118",
                                    "FOGLALAS_PK": "716",
                                    "Időtartalom": "1",
                                    "Korábbi foglalás időtartalma": "3"
                                },
                                {
                                    "SZOBA_FK": "118",
                                    "FOGLALAS_PK": "1374",
                                    "Időtartalom": "5",
                                    "Korábbi foglalás időtartalma": "1"
                                },
                                {
                                    "SZOBA_FK": "118",
                                    "FOGLALAS_PK": "1472",
                                    "Időtartalom": "6",
                                    "Korábbi foglalás időtartalma": "5"
                                },
                                {
                                    "SZOBA_FK": "118",
                                    "FOGLALAS_PK": "1481",
                                    "Időtartalom": "3",
                                    "Korábbi foglalás időtartalma": "6"
                                },
                                {
                                    "SZOBA_FK": "119",
                                    "FOGLALAS_PK": "1026",
                                    "Időtartalom": "3",
                                    "Korábbi foglalás időtartalma": "0"
                                },
                                {
                                    "SZOBA_FK": "119",
                                    "FOGLALAS_PK": "706",
                                    "Időtartalom": "2",
                                    "Korábbi foglalás időtartalma": "3"
                                },
                                {
                                    "SZOBA_FK": "119",
                                    "FOGLALAS_PK": "722",
                                    "Időtartalom": "1",
                                    "Korábbi foglalás időtartalma": "2"
                                },
                                {
                                    "SZOBA_FK": "119",
                                    "FOGLALAS_PK": "1413",
                                    "Időtartalom": "3",
                                    "Korábbi foglalás időtartalma": "1"
                                },
                                {
                                    "SZOBA_FK": "119",
                                    "FOGLALAS_PK": "1488",
                                    "Időtartalom": "3",
                                    "Korábbi foglalás időtartalma": "3"
                                },
                                {
                                    "SZOBA_FK": "120",
                                    "FOGLALAS_PK": "998",
                                    "Időtartalom": "3",
                                    "Korábbi foglalás időtartalma": "0"
                                },
                                {
                                    "SZOBA_FK": "120",
                                    "FOGLALAS_PK": "762",
                                    "Időtartalom": "3",
                                    "Korábbi foglalás időtartalma": "3"
                                },
                                {
                                    "SZOBA_FK": "120",
                                    "FOGLALAS_PK": "1089",
                                    "Időtartalom": "6",
                                    "Korábbi foglalás időtartalma": "3"
                                },
                                {
                                    "SZOBA_FK": "120",
                                    "FOGLALAS_PK": "1339",
                                    "Időtartalom": "6",
                                    "Korábbi foglalás időtartalma": "6"
                                },
                                {
                                    "SZOBA_FK": "120",
                                    "FOGLALAS_PK": "1483",
                                    "Időtartalom": "1",
                                    "Korábbi foglalás időtartalma": "6"
                                },
                                {
                                    "SZOBA_FK": "120",
                                    "FOGLALAS_PK": "1493",
                                    "Időtartalom": "7",
                                    "Korábbi foglalás időtartalma": "1"
                                },
                                {
                                    "SZOBA_FK": "121",
                                    "FOGLALAS_PK": "858",
                                    "Időtartalom": "5",
                                    "Korábbi foglalás időtartalma": "0"
                                },
                                {
                                    "SZOBA_FK": "121",
                                    "FOGLALAS_PK": "735",
                                    "Időtartalom": "6",
                                    "Korábbi foglalás időtartalma": "5"
                                },
                                {
                                    "SZOBA_FK": "121",
                                    "FOGLALAS_PK": "739",
                                    "Időtartalom": "6",
                                    "Korábbi foglalás időtartalma": "6"
                                },
                                {
                                    "SZOBA_FK": "121",
                                    "FOGLALAS_PK": "1049",
                                    "Időtartalom": "3",
                                    "Korábbi foglalás időtartalma": "6"
                                },
                                {
                                    "SZOBA_FK": "121",
                                    "FOGLALAS_PK": "1128",
                                    "Időtartalom": "4",
                                    "Korábbi foglalás időtartalma": "3"
                                },
                                {
                                    "SZOBA_FK": "121",
                                    "FOGLALAS_PK": "1215",
                                    "Időtartalom": "4",
                                    "Korábbi foglalás időtartalma": "4"
                                },
                                {
                                    "SZOBA_FK": "121",
                                    "FOGLALAS_PK": "1373",
                                    "Időtartalom": "5",
                                    "Korábbi foglalás időtartalma": "4"
                                },
                                {
                                    "SZOBA_FK": "121",
                                    "FOGLALAS_PK": "1393",
                                    "Időtartalom": "6",
                                    "Korábbi foglalás időtartalma": "5"
                                },
                                {
                                    "SZOBA_FK": "122",
                                    "FOGLALAS_PK": "1007",
                                    "Időtartalom": "2",
                                    "Korábbi foglalás időtartalma": "0"
                                },
                                {
                                    "SZOBA_FK": "122",
                                    "FOGLALAS_PK": "1036",
                                    "Időtartalom": "2",
                                    "Korábbi foglalás időtartalma": "2"
                                },
                                {
                                    "SZOBA_FK": "122",
                                    "FOGLALAS_PK": "1062",
                                    "Időtartalom": "3",
                                    "Korábbi foglalás időtartalma": "2"
                                },
                                {
                                    "SZOBA_FK": "122",
                                    "FOGLALAS_PK": "1166",
                                    "Időtartalom": "4",
                                    "Korábbi foglalás időtartalma": "3"
                                },
                                {
                                    "SZOBA_FK": "122",
                                    "FOGLALAS_PK": "1209",
                                    "Időtartalom": "1",
                                    "Korábbi foglalás időtartalma": "4"
                                },
                                {
                                    "SZOBA_FK": "122",
                                    "FOGLALAS_PK": "1245",
                                    "Időtartalom": "2",
                                    "Korábbi foglalás időtartalma": "1"
                                },
                                {
                                    "SZOBA_FK": "122",
                                    "FOGLALAS_PK": "1337",
                                    "Időtartalom": "2",
                                    "Korábbi foglalás időtartalma": "2"
                                },
                                {
                                    "SZOBA_FK": "122",
                                    "FOGLALAS_PK": "1385",
                                    "Időtartalom": "5",
                                    "Korábbi foglalás időtartalma": "2"
                                },
                                {
                                    "SZOBA_FK": "122",
                                    "FOGLALAS_PK": "1440",
                                    "Időtartalom": "3",
                                    "Korábbi foglalás időtartalma": "5"
                                },
                                {
                                    "SZOBA_FK": "123",
                                    "FOGLALAS_PK": "587",
                                    "Időtartalom": "7",
                                    "Korábbi foglalás időtartalma": "0"
                                },
                                {
                                    "SZOBA_FK": "123",
                                    "FOGLALAS_PK": "923",
                                    "Időtartalom": "4",
                                    "Korábbi foglalás időtartalma": "7"
                                },
                                {
                                    "SZOBA_FK": "123",
                                    "FOGLALAS_PK": "967",
                                    "Időtartalom": "5",
                                    "Korábbi foglalás időtartalma": "4"
                                },
                                {
                                    "SZOBA_FK": "123",
                                    "FOGLALAS_PK": "1223",
                                    "Időtartalom": "1",
                                    "Korábbi foglalás időtartalma": "5"
                                },
                                {
                                    "SZOBA_FK": "123",
                                    "FOGLALAS_PK": "1282",
                                    "Időtartalom": "6",
                                    "Korábbi foglalás időtartalma": "1"
                                },
                                {
                                    "SZOBA_FK": "124",
                                    "FOGLALAS_PK": "861",
                                    "Időtartalom": "1",
                                    "Korábbi foglalás időtartalma": "0"
                                },
                                {
                                    "SZOBA_FK": "124",
                                    "FOGLALAS_PK": "1210",
                                    "Időtartalom": "4",
                                    "Korábbi foglalás időtartalma": "1"
                                },
                                {
                                    "SZOBA_FK": "124",
                                    "FOGLALAS_PK": "1330",
                                    "Időtartalom": "7",
                                    "Korábbi foglalás időtartalma": "4"
                                },
                                {
                                    "SZOBA_FK": "124",
                                    "FOGLALAS_PK": "1403",
                                    "Időtartalom": "6",
                                    "Korábbi foglalás időtartalma": "7"
                                },
                                {
                                    "SZOBA_FK": "124",
                                    "FOGLALAS_PK": "1419",
                                    "Időtartalom": "3",
                                    "Korábbi foglalás időtartalma": "6"
                                },
                                {
                                    "SZOBA_FK": "124",
                                    "FOGLALAS_PK": "1531",
                                    "Időtartalom": "6",
                                    "Korábbi foglalás időtartalma": "3"
                                },
                                {
                                    "SZOBA_FK": "125",
                                    "FOGLALAS_PK": "576",
                                    "Időtartalom": "1",
                                    "Korábbi foglalás időtartalma": "0"
                                },
                                {
                                    "SZOBA_FK": "126",
                                    "FOGLALAS_PK": "754",
                                    "Időtartalom": "4",
                                    "Korábbi foglalás időtartalma": "0"
                                },
                                {
                                    "SZOBA_FK": "126",
                                    "FOGLALAS_PK": "806",
                                    "Időtartalom": "6",
                                    "Korábbi foglalás időtartalma": "4"
                                },
                                {
                                    "SZOBA_FK": "126",
                                    "FOGLALAS_PK": "1134",
                                    "Időtartalom": "1",
                                    "Korábbi foglalás időtartalma": "6"
                                },
                                {
                                    "SZOBA_FK": "126",
                                    "FOGLALAS_PK": "1364",
                                    "Időtartalom": "6",
                                    "Korábbi foglalás időtartalma": "1"
                                },
                                {
                                    "SZOBA_FK": "126",
                                    "FOGLALAS_PK": "1428",
                                    "Időtartalom": "7",
                                    "Korábbi foglalás időtartalma": "6"
                                },
                                {
                                    "SZOBA_FK": "126",
                                    "FOGLALAS_PK": "1500",
                                    "Időtartalom": "4",
                                    "Korábbi foglalás időtartalma": "7"
                                },
                                {
                                    "SZOBA_FK": "127",
                                    "FOGLALAS_PK": "643",
                                    "Időtartalom": "2",
                                    "Korábbi foglalás időtartalma": "0"
                                },
                                {
                                    "SZOBA_FK": "127",
                                    "FOGLALAS_PK": "853",
                                    "Időtartalom": "5",
                                    "Korábbi foglalás időtartalma": "2"
                                },
                                {
                                    "SZOBA_FK": "127",
                                    "FOGLALAS_PK": "879",
                                    "Időtartalom": "2",
                                    "Korábbi foglalás időtartalma": "5"
                                },
                                {
                                    "SZOBA_FK": "127",
                                    "FOGLALAS_PK": "1034",
                                    "Időtartalom": "6",
                                    "Korábbi foglalás időtartalma": "2"
                                },
                                {
                                    "SZOBA_FK": "127",
                                    "FOGLALAS_PK": "1226",
                                    "Időtartalom": "5",
                                    "Korábbi foglalás időtartalma": "6"
                                },
                                {
                                    "SZOBA_FK": "127",
                                    "FOGLALAS_PK": "1286",
                                    "Időtartalom": "1",
                                    "Korábbi foglalás időtartalma": "5"
                                },
                                {
                                    "SZOBA_FK": "127",
                                    "FOGLALAS_PK": "1579",
                                    "Időtartalom": "5",
                                    "Korábbi foglalás időtartalma": "1"
                                },
                                {
                                    "SZOBA_FK": "128",
                                    "FOGLALAS_PK": "717",
                                    "Időtartalom": "2",
                                    "Korábbi foglalás időtartalma": "0"
                                },
                                {
                                    "SZOBA_FK": "128",
                                    "FOGLALAS_PK": "815",
                                    "Időtartalom": "1",
                                    "Korábbi foglalás időtartalma": "2"
                                },
                                {
                                    "SZOBA_FK": "128",
                                    "FOGLALAS_PK": "1290",
                                    "Időtartalom": "1",
                                    "Korábbi foglalás időtartalma": "1"
                                },
                                {
                                    "SZOBA_FK": "128",
                                    "FOGLALAS_PK": "1574",
                                    "Időtartalom": "1",
                                    "Korábbi foglalás időtartalma": "1"
                                },
                                {
                                    "SZOBA_FK": "128",
                                    "FOGLALAS_PK": "1583",
                                    "Időtartalom": "4",
                                    "Korábbi foglalás időtartalma": "1"
                                },
                                {
                                    "SZOBA_FK": "129",
                                    "FOGLALAS_PK": "723",
                                    "Időtartalom": "7",
                                    "Korábbi foglalás időtartalma": "0"
                                },
                                {
                                    "SZOBA_FK": "129",
                                    "FOGLALAS_PK": "1360",
                                    "Időtartalom": "6",
                                    "Korábbi foglalás időtartalma": "7"
                                },
                                {
                                    "SZOBA_FK": "129",
                                    "FOGLALAS_PK": "1445",
                                    "Időtartalom": "7",
                                    "Korábbi foglalás időtartalma": "6"
                                },
                                {
                                    "SZOBA_FK": "129",
                                    "FOGLALAS_PK": "1509",
                                    "Időtartalom": "6",
                                    "Korábbi foglalás időtartalma": "7"
                                },
                                {
                                    "SZOBA_FK": "130",
                                    "FOGLALAS_PK": "580",
                                    "Időtartalom": "3",
                                    "Korábbi foglalás időtartalma": "0"
                                },
                                {
                                    "SZOBA_FK": "130",
                                    "FOGLALAS_PK": "613",
                                    "Időtartalom": "3",
                                    "Korábbi foglalás időtartalma": "3"
                                },
                                {
                                    "SZOBA_FK": "130",
                                    "FOGLALAS_PK": "910",
                                    "Időtartalom": "2",
                                    "Korábbi foglalás időtartalma": "3"
                                },
                                {
                                    "SZOBA_FK": "130",
                                    "FOGLALAS_PK": "779",
                                    "Időtartalom": "6",
                                    "Korábbi foglalás időtartalma": "2"
                                },
                                {
                                    "SZOBA_FK": "130",
                                    "FOGLALAS_PK": "1040",
                                    "Időtartalom": "1",
                                    "Korábbi foglalás időtartalma": "6"
                                },
                                {
                                    "SZOBA_FK": "130",
                                    "FOGLALAS_PK": "1475",
                                    "Időtartalom": "7",
                                    "Korábbi foglalás időtartalma": "1"
                                },
                                {
                                    "SZOBA_FK": "131",
                                    "FOGLALAS_PK": "559",
                                    "Időtartalom": "2",
                                    "Korábbi foglalás időtartalma": "0"
                                },
                                {
                                    "SZOBA_FK": "131",
                                    "FOGLALAS_PK": "655",
                                    "Időtartalom": "1",
                                    "Korábbi foglalás időtartalma": "2"
                                },
                                {
                                    "SZOBA_FK": "131",
                                    "FOGLALAS_PK": "881",
                                    "Időtartalom": "6",
                                    "Korábbi foglalás időtartalma": "1"
                                },
                                {
                                    "SZOBA_FK": "131",
                                    "FOGLALAS_PK": "760",
                                    "Időtartalom": "4",
                                    "Korábbi foglalás időtartalma": "6"
                                },
                                {
                                    "SZOBA_FK": "131",
                                    "FOGLALAS_PK": "1474",
                                    "Időtartalom": "5",
                                    "Korábbi foglalás időtartalma": "4"
                                },
                                {
                                    "SZOBA_FK": "132",
                                    "FOGLALAS_PK": "619",
                                    "Időtartalom": "7",
                                    "Korábbi foglalás időtartalma": "0"
                                },
                                {
                                    "SZOBA_FK": "132",
                                    "FOGLALAS_PK": "999",
                                    "Időtartalom": "6",
                                    "Korábbi foglalás időtartalma": "7"
                                },
                                {
                                    "SZOBA_FK": "132",
                                    "FOGLALAS_PK": "1090",
                                    "Időtartalom": "7",
                                    "Korábbi foglalás időtartalma": "6"
                                },
                                {
                                    "SZOBA_FK": "132",
                                    "FOGLALAS_PK": "1111",
                                    "Időtartalom": "3",
                                    "Korábbi foglalás időtartalma": "7"
                                },
                                {
                                    "SZOBA_FK": "132",
                                    "FOGLALAS_PK": "1301",
                                    "Időtartalom": "2",
                                    "Korábbi foglalás időtartalma": "3"
                                },
                                {
                                    "SZOBA_FK": "132",
                                    "FOGLALAS_PK": "1519",
                                    "Időtartalom": "2",
                                    "Korábbi foglalás időtartalma": "2"
                                },
                                {
                                    "SZOBA_FK": "133",
                                    "FOGLALAS_PK": "909",
                                    "Időtartalom": "4",
                                    "Korábbi foglalás időtartalma": "0"
                                },
                                {
                                    "SZOBA_FK": "133",
                                    "FOGLALAS_PK": "988",
                                    "Időtartalom": "3",
                                    "Korábbi foglalás időtartalma": "4"
                                },
                                {
                                    "SZOBA_FK": "133",
                                    "FOGLALAS_PK": "1149",
                                    "Időtartalom": "7",
                                    "Korábbi foglalás időtartalma": "3"
                                },
                                {
                                    "SZOBA_FK": "133",
                                    "FOGLALAS_PK": "1306",
                                    "Időtartalom": "3",
                                    "Korábbi foglalás időtartalma": "7"
                                },
                                {
                                    "SZOBA_FK": "133",
                                    "FOGLALAS_PK": "1363",
                                    "Időtartalom": "5",
                                    "Korábbi foglalás időtartalma": "3"
                                },
                                {
                                    "SZOBA_FK": "133",
                                    "FOGLALAS_PK": "1409",
                                    "Időtartalom": "1",
                                    "Korábbi foglalás időtartalma": "5"
                                },
                                {
                                    "SZOBA_FK": "134",
                                    "FOGLALAS_PK": "1004",
                                    "Időtartalom": "5",
                                    "Korábbi foglalás időtartalma": "0"
                                },
                                {
                                    "SZOBA_FK": "134",
                                    "FOGLALAS_PK": "1024",
                                    "Időtartalom": "1",
                                    "Korábbi foglalás időtartalma": "5"
                                },
                                {
                                    "SZOBA_FK": "134",
                                    "FOGLALAS_PK": "1045",
                                    "Időtartalom": "2",
                                    "Korábbi foglalás időtartalma": "1"
                                },
                                {
                                    "SZOBA_FK": "134",
                                    "FOGLALAS_PK": "1178",
                                    "Időtartalom": "7",
                                    "Korábbi foglalás időtartalma": "2"
                                },
                                {
                                    "SZOBA_FK": "134",
                                    "FOGLALAS_PK": "1219",
                                    "Időtartalom": "6",
                                    "Korábbi foglalás időtartalma": "7"
                                },
                                {
                                    "SZOBA_FK": "134",
                                    "FOGLALAS_PK": "1535",
                                    "Időtartalom": "7",
                                    "Korábbi foglalás időtartalma": "6"
                                },
                                {
                                    "SZOBA_FK": "135",
                                    "FOGLALAS_PK": "724",
                                    "Időtartalom": "6",
                                    "Korábbi foglalás időtartalma": "0"
                                },
                                {
                                    "SZOBA_FK": "135",
                                    "FOGLALAS_PK": "849",
                                    "Időtartalom": "7",
                                    "Korábbi foglalás időtartalma": "6"
                                },
                                {
                                    "SZOBA_FK": "135",
                                    "FOGLALAS_PK": "1289",
                                    "Időtartalom": "3",
                                    "Korábbi foglalás időtartalma": "7"
                                },
                                {
                                    "SZOBA_FK": "136",
                                    "FOGLALAS_PK": "584",
                                    "Időtartalom": "2",
                                    "Korábbi foglalás időtartalma": "0"
                                },
                                {
                                    "SZOBA_FK": "136",
                                    "FOGLALAS_PK": "661",
                                    "Időtartalom": "5",
                                    "Korábbi foglalás időtartalma": "2"
                                },
                                {
                                    "SZOBA_FK": "136",
                                    "FOGLALAS_PK": "1046",
                                    "Időtartalom": "4",
                                    "Korábbi foglalás időtartalma": "5"
                                },
                                {
                                    "SZOBA_FK": "137",
                                    "FOGLALAS_PK": "582",
                                    "Időtartalom": "3",
                                    "Korábbi foglalás időtartalma": "0"
                                },
                                {
                                    "SZOBA_FK": "137",
                                    "FOGLALAS_PK": "649",
                                    "Időtartalom": "5",
                                    "Korábbi foglalás időtartalma": "3"
                                },
                                {
                                    "SZOBA_FK": "137",
                                    "FOGLALAS_PK": "657",
                                    "Időtartalom": "6",
                                    "Korábbi foglalás időtartalma": "5"
                                },
                                {
                                    "SZOBA_FK": "137",
                                    "FOGLALAS_PK": "1014",
                                    "Időtartalom": "1",
                                    "Korábbi foglalás időtartalma": "6"
                                },
                                {
                                    "SZOBA_FK": "137",
                                    "FOGLALAS_PK": "1201",
                                    "Időtartalom": "6",
                                    "Korábbi foglalás időtartalma": "1"
                                },
                                {
                                    "SZOBA_FK": "137",
                                    "FOGLALAS_PK": "1280",
                                    "Időtartalom": "3",
                                    "Korábbi foglalás időtartalma": "6"
                                },
                                {
                                    "SZOBA_FK": "138",
                                    "FOGLALAS_PK": "768",
                                    "Időtartalom": "6",
                                    "Korábbi foglalás időtartalma": "0"
                                },
                                {
                                    "SZOBA_FK": "138",
                                    "FOGLALAS_PK": "796",
                                    "Időtartalom": "4",
                                    "Korábbi foglalás időtartalma": "6"
                                },
                                {
                                    "SZOBA_FK": "138",
                                    "FOGLALAS_PK": "1256",
                                    "Időtartalom": "4",
                                    "Korábbi foglalás időtartalma": "4"
                                },
                                {
                                    "SZOBA_FK": "138",
                                    "FOGLALAS_PK": "1283",
                                    "Időtartalom": "2",
                                    "Korábbi foglalás időtartalma": "4"
                                },
                                {
                                    "SZOBA_FK": "138",
                                    "FOGLALAS_PK": "1294",
                                    "Időtartalom": "5",
                                    "Korábbi foglalás időtartalma": "2"
                                },
                                {
                                    "SZOBA_FK": "138",
                                    "FOGLALAS_PK": "1358",
                                    "Időtartalom": "7",
                                    "Korábbi foglalás időtartalma": "5"
                                },
                                {
                                    "SZOBA_FK": "138",
                                    "FOGLALAS_PK": "1370",
                                    "Időtartalom": "5",
                                    "Korábbi foglalás időtartalma": "7"
                                },
                                {
                                    "SZOBA_FK": "139",
                                    "FOGLALAS_PK": "579",
                                    "Időtartalom": "2",
                                    "Korábbi foglalás időtartalma": "0"
                                },
                                {
                                    "SZOBA_FK": "139",
                                    "FOGLALAS_PK": "745",
                                    "Időtartalom": "1",
                                    "Korábbi foglalás időtartalma": "2"
                                },
                                {
                                    "SZOBA_FK": "139",
                                    "FOGLALAS_PK": "751",
                                    "Időtartalom": "4",
                                    "Korábbi foglalás időtartalma": "1"
                                },
                                {
                                    "SZOBA_FK": "139",
                                    "FOGLALAS_PK": "1042",
                                    "Időtartalom": "2",
                                    "Korábbi foglalás időtartalma": "4"
                                },
                                {
                                    "SZOBA_FK": "139",
                                    "FOGLALAS_PK": "1064",
                                    "Időtartalom": "6",
                                    "Korábbi foglalás időtartalma": "2"
                                },
                                {
                                    "SZOBA_FK": "139",
                                    "FOGLALAS_PK": "1433",
                                    "Időtartalom": "6",
                                    "Korábbi foglalás időtartalma": "6"
                                },
                                {
                                    "SZOBA_FK": "139",
                                    "FOGLALAS_PK": "1450",
                                    "Időtartalom": "7",
                                    "Korábbi foglalás időtartalma": "6"
                                },
                                {
                                    "SZOBA_FK": "140",
                                    "FOGLALAS_PK": "915",
                                    "Időtartalom": "2",
                                    "Korábbi foglalás időtartalma": "0"
                                },
                                {
                                    "SZOBA_FK": "140",
                                    "FOGLALAS_PK": "733",
                                    "Időtartalom": "1",
                                    "Korábbi foglalás időtartalma": "2"
                                },
                                {
                                    "SZOBA_FK": "140",
                                    "FOGLALAS_PK": "1098",
                                    "Időtartalom": "2",
                                    "Korábbi foglalás időtartalma": "1"
                                },
                                {
                                    "SZOBA_FK": "140",
                                    "FOGLALAS_PK": "1156",
                                    "Időtartalom": "3",
                                    "Korábbi foglalás időtartalma": "2"
                                },
                                {
                                    "SZOBA_FK": "140",
                                    "FOGLALAS_PK": "1259",
                                    "Időtartalom": "7",
                                    "Korábbi foglalás időtartalma": "3"
                                },
                                {
                                    "SZOBA_FK": "140",
                                    "FOGLALAS_PK": "1357",
                                    "Időtartalom": "4",
                                    "Korábbi foglalás időtartalma": "7"
                                },
                                {
                                    "SZOBA_FK": "140",
                                    "FOGLALAS_PK": "1361",
                                    "Időtartalom": "3",
                                    "Korábbi foglalás időtartalma": "4"
                                },
                                {
                                    "SZOBA_FK": "140",
                                    "FOGLALAS_PK": "1371",
                                    "Időtartalom": "1",
                                    "Korábbi foglalás időtartalma": "3"
                                },
                                {
                                    "SZOBA_FK": "141",
                                    "FOGLALAS_PK": "565",
                                    "Időtartalom": "6",
                                    "Korábbi foglalás időtartalma": "0"
                                },
                                {
                                    "SZOBA_FK": "141",
                                    "FOGLALAS_PK": "908",
                                    "Időtartalom": "2",
                                    "Korábbi foglalás időtartalma": "6"
                                },
                                {
                                    "SZOBA_FK": "141",
                                    "FOGLALAS_PK": "761",
                                    "Időtartalom": "3",
                                    "Korábbi foglalás időtartalma": "2"
                                },
                                {
                                    "SZOBA_FK": "141",
                                    "FOGLALAS_PK": "784",
                                    "Időtartalom": "7",
                                    "Korábbi foglalás időtartalma": "3"
                                },
                                {
                                    "SZOBA_FK": "141",
                                    "FOGLALAS_PK": "1254",
                                    "Időtartalom": "4",
                                    "Korábbi foglalás időtartalma": "7"
                                },
                                {
                                    "SZOBA_FK": "141",
                                    "FOGLALAS_PK": "1401",
                                    "Időtartalom": "6",
                                    "Korábbi foglalás időtartalma": "4"
                                },
                                {
                                    "SZOBA_FK": "142",
                                    "FOGLALAS_PK": "1369",
                                    "Időtartalom": "6",
                                    "Korábbi foglalás időtartalma": "0"
                                },
                                {
                                    "SZOBA_FK": "142",
                                    "FOGLALAS_PK": "1545",
                                    "Időtartalom": "3",
                                    "Korábbi foglalás időtartalma": "6"
                                },
                                {
                                    "SZOBA_FK": "143",
                                    "FOGLALAS_PK": "980",
                                    "Időtartalom": "3",
                                    "Korábbi foglalás időtartalma": "0"
                                },
                                {
                                    "SZOBA_FK": "143",
                                    "FOGLALAS_PK": "1155",
                                    "Időtartalom": "7",
                                    "Korábbi foglalás időtartalma": "3"
                                },
                                {
                                    "SZOBA_FK": "143",
                                    "FOGLALAS_PK": "1193",
                                    "Időtartalom": "6",
                                    "Korábbi foglalás időtartalma": "7"
                                },
                                {
                                    "SZOBA_FK": "143",
                                    "FOGLALAS_PK": "1222",
                                    "Időtartalom": "2",
                                    "Korábbi foglalás időtartalma": "6"
                                },
                                {
                                    "SZOBA_FK": "143",
                                    "FOGLALAS_PK": "1313",
                                    "Időtartalom": "4",
                                    "Korábbi foglalás időtartalma": "2"
                                },
                                {
                                    "SZOBA_FK": "143",
                                    "FOGLALAS_PK": "1394",
                                    "Időtartalom": "3",
                                    "Korábbi foglalás időtartalma": "4"
                                },
                                {
                                    "SZOBA_FK": "143",
                                    "FOGLALAS_PK": "1448",
                                    "Időtartalom": "6",
                                    "Korábbi foglalás időtartalma": "3"
                                },
                                {
                                    "SZOBA_FK": "144",
                                    "FOGLALAS_PK": "581",
                                    "Időtartalom": "4",
                                    "Korábbi foglalás időtartalma": "0"
                                },
                                {
                                    "SZOBA_FK": "144",
                                    "FOGLALAS_PK": "1087",
                                    "Időtartalom": "2",
                                    "Korábbi foglalás időtartalma": "4"
                                },
                                {
                                    "SZOBA_FK": "144",
                                    "FOGLALAS_PK": "1199",
                                    "Időtartalom": "7",
                                    "Korábbi foglalás időtartalma": "2"
                                },
                                {
                                    "SZOBA_FK": "144",
                                    "FOGLALAS_PK": "1297",
                                    "Időtartalom": "1",
                                    "Korábbi foglalás időtartalma": "7"
                                },
                                {
                                    "SZOBA_FK": "144",
                                    "FOGLALAS_PK": "1572",
                                    "Időtartalom": "2",
                                    "Korábbi foglalás időtartalma": "1"
                                },
                                {
                                    "SZOBA_FK": "145",
                                    "FOGLALAS_PK": "703",
                                    "Időtartalom": "4",
                                    "Korábbi foglalás időtartalma": "0"
                                },
                                {
                                    "SZOBA_FK": "145",
                                    "FOGLALAS_PK": "1077",
                                    "Időtartalom": "1",
                                    "Korábbi foglalás időtartalma": "4"
                                },
                                {
                                    "SZOBA_FK": "145",
                                    "FOGLALAS_PK": "1120",
                                    "Időtartalom": "1",
                                    "Korábbi foglalás időtartalma": "1"
                                },
                                {
                                    "SZOBA_FK": "145",
                                    "FOGLALAS_PK": "1145",
                                    "Időtartalom": "4",
                                    "Korábbi foglalás időtartalma": "1"
                                },
                                {
                                    "SZOBA_FK": "145",
                                    "FOGLALAS_PK": "1338",
                                    "Időtartalom": "2",
                                    "Korábbi foglalás időtartalma": "4"
                                },
                                {
                                    "SZOBA_FK": "145",
                                    "FOGLALAS_PK": "1471",
                                    "Időtartalom": "1",
                                    "Korábbi foglalás időtartalma": "2"
                                },
                                {
                                    "SZOBA_FK": "146",
                                    "FOGLALAS_PK": "890",
                                    "Időtartalom": "3",
                                    "Korábbi foglalás időtartalma": "0"
                                },
                                {
                                    "SZOBA_FK": "146",
                                    "FOGLALAS_PK": "664",
                                    "Időtartalom": "3",
                                    "Korábbi foglalás időtartalma": "3"
                                },
                                {
                                    "SZOBA_FK": "146",
                                    "FOGLALAS_PK": "789",
                                    "Időtartalom": "7",
                                    "Korábbi foglalás időtartalma": "3"
                                },
                                {
                                    "SZOBA_FK": "146",
                                    "FOGLALAS_PK": "804",
                                    "Időtartalom": "7",
                                    "Korábbi foglalás időtartalma": "7"
                                },
                                {
                                    "SZOBA_FK": "146",
                                    "FOGLALAS_PK": "1032",
                                    "Időtartalom": "5",
                                    "Korábbi foglalás időtartalma": "7"
                                },
                                {
                                    "SZOBA_FK": "146",
                                    "FOGLALAS_PK": "1479",
                                    "Időtartalom": "6",
                                    "Korábbi foglalás időtartalma": "5"
                                },
                                {
                                    "SZOBA_FK": "147",
                                    "FOGLALAS_PK": "771",
                                    "Időtartalom": "4",
                                    "Korábbi foglalás időtartalma": "0"
                                },
                                {
                                    "SZOBA_FK": "148",
                                    "FOGLALAS_PK": "678",
                                    "Időtartalom": "4",
                                    "Korábbi foglalás időtartalma": "0"
                                },
                                {
                                    "SZOBA_FK": "148",
                                    "FOGLALAS_PK": "765",
                                    "Időtartalom": "3",
                                    "Korábbi foglalás időtartalma": "4"
                                },
                                {
                                    "SZOBA_FK": "148",
                                    "FOGLALAS_PK": "783",
                                    "Időtartalom": "7",
                                    "Korábbi foglalás időtartalma": "3"
                                },
                                {
                                    "SZOBA_FK": "148",
                                    "FOGLALAS_PK": "808",
                                    "Időtartalom": "2",
                                    "Korábbi foglalás időtartalma": "7"
                                },
                                {
                                    "SZOBA_FK": "148",
                                    "FOGLALAS_PK": "812",
                                    "Időtartalom": "6",
                                    "Korábbi foglalás időtartalma": "2"
                                },
                                {
                                    "SZOBA_FK": "148",
                                    "FOGLALAS_PK": "1578",
                                    "Időtartalom": "7",
                                    "Korábbi foglalás időtartalma": "6"
                                },
                                {
                                    "SZOBA_FK": "149",
                                    "FOGLALAS_PK": "591",
                                    "Időtartalom": "1",
                                    "Korábbi foglalás időtartalma": "0"
                                },
                                {
                                    "SZOBA_FK": "149",
                                    "FOGLALAS_PK": "652",
                                    "Időtartalom": "1",
                                    "Korábbi foglalás időtartalma": "1"
                                },
                                {
                                    "SZOBA_FK": "149",
                                    "FOGLALAS_PK": "833",
                                    "Időtartalom": "2",
                                    "Korábbi foglalás időtartalma": "1"
                                },
                                {
                                    "SZOBA_FK": "149",
                                    "FOGLALAS_PK": "834",
                                    "Időtartalom": "5",
                                    "Korábbi foglalás időtartalma": "2"
                                },
                                {
                                    "SZOBA_FK": "149",
                                    "FOGLALAS_PK": "843",
                                    "Időtartalom": "4",
                                    "Korábbi foglalás időtartalma": "5"
                                },
                                {
                                    "SZOBA_FK": "149",
                                    "FOGLALAS_PK": "1146",
                                    "Időtartalom": "6",
                                    "Korábbi foglalás időtartalma": "4"
                                },
                                {
                                    "SZOBA_FK": "149",
                                    "FOGLALAS_PK": "1514",
                                    "Időtartalom": "5",
                                    "Korábbi foglalás időtartalma": "6"
                                },
                                {
                                    "SZOBA_FK": "150",
                                    "FOGLALAS_PK": "641",
                                    "Időtartalom": "3",
                                    "Korábbi foglalás időtartalma": "0"
                                },
                                {
                                    "SZOBA_FK": "150",
                                    "FOGLALAS_PK": "1100",
                                    "Időtartalom": "5",
                                    "Korábbi foglalás időtartalma": "3"
                                },
                                {
                                    "SZOBA_FK": "150",
                                    "FOGLALAS_PK": "1105",
                                    "Időtartalom": "1",
                                    "Korábbi foglalás időtartalma": "5"
                                },
                                {
                                    "SZOBA_FK": "150",
                                    "FOGLALAS_PK": "1177",
                                    "Időtartalom": "1",
                                    "Korábbi foglalás időtartalma": "1"
                                },
                                {
                                    "SZOBA_FK": "150",
                                    "FOGLALAS_PK": "1203",
                                    "Időtartalom": "4",
                                    "Korábbi foglalás időtartalma": "1"
                                },
                                {
                                    "SZOBA_FK": "150",
                                    "FOGLALAS_PK": "1432",
                                    "Időtartalom": "3",
                                    "Korábbi foglalás időtartalma": "4"
                                },
                                {
                                    "SZOBA_FK": "151",
                                    "FOGLALAS_PK": "893",
                                    "Időtartalom": "3",
                                    "Korábbi foglalás időtartalma": "0"
                                },
                                {
                                    "SZOBA_FK": "151",
                                    "FOGLALAS_PK": "1058",
                                    "Időtartalom": "3",
                                    "Korábbi foglalás időtartalma": "3"
                                },
                                {
                                    "SZOBA_FK": "151",
                                    "FOGLALAS_PK": "1115",
                                    "Időtartalom": "3",
                                    "Korábbi foglalás időtartalma": "3"
                                },
                                {
                                    "SZOBA_FK": "152",
                                    "FOGLALAS_PK": "730",
                                    "Időtartalom": "2",
                                    "Korábbi foglalás időtartalma": "0"
                                },
                                {
                                    "SZOBA_FK": "152",
                                    "FOGLALAS_PK": "1160",
                                    "Időtartalom": "7",
                                    "Korábbi foglalás időtartalma": "2"
                                },
                                {
                                    "SZOBA_FK": "152",
                                    "FOGLALAS_PK": "1197",
                                    "Időtartalom": "6",
                                    "Korábbi foglalás időtartalma": "7"
                                },
                                {
                                    "SZOBA_FK": "152",
                                    "FOGLALAS_PK": "1558",
                                    "Időtartalom": "2",
                                    "Korábbi foglalás időtartalma": "6"
                                },
                                {
                                    "SZOBA_FK": "153",
                                    "FOGLALAS_PK": "594",
                                    "Időtartalom": "3",
                                    "Korábbi foglalás időtartalma": "0"
                                },
                                {
                                    "SZOBA_FK": "153",
                                    "FOGLALAS_PK": "969",
                                    "Időtartalom": "6",
                                    "Korábbi foglalás időtartalma": "3"
                                },
                                {
                                    "SZOBA_FK": "153",
                                    "FOGLALAS_PK": "1460",
                                    "Időtartalom": "3",
                                    "Korábbi foglalás időtartalma": "6"
                                },
                                {
                                    "SZOBA_FK": "153",
                                    "FOGLALAS_PK": "1470",
                                    "Időtartalom": "5",
                                    "Korábbi foglalás időtartalma": "3"
                                },
                                {
                                    "SZOBA_FK": "153",
                                    "FOGLALAS_PK": "1507",
                                    "Időtartalom": "3",
                                    "Korábbi foglalás időtartalma": "5"
                                },
                                {
                                    "SZOBA_FK": "154",
                                    "FOGLALAS_PK": "968",
                                    "Időtartalom": "1",
                                    "Korábbi foglalás időtartalma": "0"
                                },
                                {
                                    "SZOBA_FK": "154",
                                    "FOGLALAS_PK": "1061",
                                    "Időtartalom": "7",
                                    "Korábbi foglalás időtartalma": "1"
                                },
                                {
                                    "SZOBA_FK": "154",
                                    "FOGLALAS_PK": "1168",
                                    "Időtartalom": "6",
                                    "Korábbi foglalás időtartalma": "7"
                                },
                                {
                                    "SZOBA_FK": "154",
                                    "FOGLALAS_PK": "1262",
                                    "Időtartalom": "1",
                                    "Korábbi foglalás időtartalma": "6"
                                },
                                {
                                    "SZOBA_FK": "154",
                                    "FOGLALAS_PK": "1539",
                                    "Időtartalom": "2",
                                    "Korábbi foglalás időtartalma": "1"
                                },
                                {
                                    "SZOBA_FK": "155",
                                    "FOGLALAS_PK": "575",
                                    "Időtartalom": "1",
                                    "Korábbi foglalás időtartalma": "0"
                                },
                                {
                                    "SZOBA_FK": "155",
                                    "FOGLALAS_PK": "577",
                                    "Időtartalom": "3",
                                    "Korábbi foglalás időtartalma": "1"
                                },
                                {
                                    "SZOBA_FK": "155",
                                    "FOGLALAS_PK": "1112",
                                    "Időtartalom": "4",
                                    "Korábbi foglalás időtartalma": "3"
                                },
                                {
                                    "SZOBA_FK": "155",
                                    "FOGLALAS_PK": "1310",
                                    "Időtartalom": "1",
                                    "Korábbi foglalás időtartalma": "4"
                                },
                                {
                                    "SZOBA_FK": "155",
                                    "FOGLALAS_PK": "1541",
                                    "Időtartalom": "1",
                                    "Korábbi foglalás időtartalma": "1"
                                },
                                {
                                    "SZOBA_FK": "156",
                                    "FOGLALAS_PK": "588",
                                    "Időtartalom": "7",
                                    "Korábbi foglalás időtartalma": "0"
                                },
                                {
                                    "SZOBA_FK": "156",
                                    "FOGLALAS_PK": "907",
                                    "Időtartalom": "3",
                                    "Korábbi foglalás időtartalma": "7"
                                },
                                {
                                    "SZOBA_FK": "156",
                                    "FOGLALAS_PK": "956",
                                    "Időtartalom": "6",
                                    "Korábbi foglalás időtartalma": "3"
                                },
                                {
                                    "SZOBA_FK": "156",
                                    "FOGLALAS_PK": "692",
                                    "Időtartalom": "6",
                                    "Korábbi foglalás időtartalma": "6"
                                },
                                {
                                    "SZOBA_FK": "156",
                                    "FOGLALAS_PK": "1462",
                                    "Időtartalom": "7",
                                    "Korábbi foglalás időtartalma": "6"
                                },
                                {
                                    "SZOBA_FK": "156",
                                    "FOGLALAS_PK": "1490",
                                    "Időtartalom": "1",
                                    "Korábbi foglalás időtartalma": "7"
                                },
                                {
                                    "SZOBA_FK": "156",
                                    "FOGLALAS_PK": "1561",
                                    "Időtartalom": "4",
                                    "Korábbi foglalás időtartalma": "1"
                                },
                                {
                                    "SZOBA_FK": "157",
                                    "FOGLALAS_PK": "648",
                                    "Időtartalom": "4",
                                    "Korábbi foglalás időtartalma": "0"
                                },
                                {
                                    "SZOBA_FK": "157",
                                    "FOGLALAS_PK": "1025",
                                    "Időtartalom": "3",
                                    "Korábbi foglalás időtartalma": "4"
                                },
                                {
                                    "SZOBA_FK": "157",
                                    "FOGLALAS_PK": "1047",
                                    "Időtartalom": "4",
                                    "Korábbi foglalás időtartalma": "3"
                                },
                                {
                                    "SZOBA_FK": "157",
                                    "FOGLALAS_PK": "1240",
                                    "Időtartalom": "7",
                                    "Korábbi foglalás időtartalma": "4"
                                },
                                {
                                    "SZOBA_FK": "157",
                                    "FOGLALAS_PK": "1551",
                                    "Időtartalom": "3",
                                    "Korábbi foglalás időtartalma": "7"
                                },
                                {
                                    "SZOBA_FK": "158",
                                    "FOGLALAS_PK": "825",
                                    "Időtartalom": "4",
                                    "Korábbi foglalás időtartalma": "0"
                                },
                                {
                                    "SZOBA_FK": "158",
                                    "FOGLALAS_PK": "840",
                                    "Időtartalom": "4",
                                    "Korábbi foglalás időtartalma": "4"
                                },
                                {
                                    "SZOBA_FK": "158",
                                    "FOGLALAS_PK": "1117",
                                    "Időtartalom": "3",
                                    "Korábbi foglalás időtartalma": "4"
                                },
                                {
                                    "SZOBA_FK": "160",
                                    "FOGLALAS_PK": "922",
                                    "Időtartalom": "2",
                                    "Korábbi foglalás időtartalma": "0"
                                },
                                {
                                    "SZOBA_FK": "160",
                                    "FOGLALAS_PK": "927",
                                    "Időtartalom": "4",
                                    "Korábbi foglalás időtartalma": "2"
                                },
                                {
                                    "SZOBA_FK": "160",
                                    "FOGLALAS_PK": "933",
                                    "Időtartalom": "4",
                                    "Korábbi foglalás időtartalma": "4"
                                },
                                {
                                    "SZOBA_FK": "160",
                                    "FOGLALAS_PK": "720",
                                    "Időtartalom": "2",
                                    "Korábbi foglalás időtartalma": "4"
                                },
                                {
                                    "SZOBA_FK": "160",
                                    "FOGLALAS_PK": "1565",
                                    "Időtartalom": "3",
                                    "Korábbi foglalás időtartalma": "2"
                                },
                                {
                                    "SZOBA_FK": "161",
                                    "FOGLALAS_PK": "639",
                                    "Időtartalom": "4",
                                    "Korábbi foglalás időtartalma": "0"
                                },
                                {
                                    "SZOBA_FK": "161",
                                    "FOGLALAS_PK": "653",
                                    "Időtartalom": "7",
                                    "Korábbi foglalás időtartalma": "4"
                                },
                                {
                                    "SZOBA_FK": "161",
                                    "FOGLALAS_PK": "911",
                                    "Időtartalom": "4",
                                    "Korábbi foglalás időtartalma": "7"
                                },
                                {
                                    "SZOBA_FK": "161",
                                    "FOGLALAS_PK": "1068",
                                    "Időtartalom": "6",
                                    "Korábbi foglalás időtartalma": "4"
                                },
                                {
                                    "SZOBA_FK": "161",
                                    "FOGLALAS_PK": "1190",
                                    "Időtartalom": "7",
                                    "Korábbi foglalás időtartalma": "6"
                                },
                                {
                                    "SZOBA_FK": "161",
                                    "FOGLALAS_PK": "1571",
                                    "Időtartalom": "4",
                                    "Korábbi foglalás időtartalma": "7"
                                },
                                {
                                    "SZOBA_FK": "162",
                                    "FOGLALAS_PK": "599",
                                    "Időtartalom": "4",
                                    "Korábbi foglalás időtartalma": "0"
                                },
                                {
                                    "SZOBA_FK": "162",
                                    "FOGLALAS_PK": "1205",
                                    "Időtartalom": "6",
                                    "Korábbi foglalás időtartalma": "4"
                                },
                                {
                                    "SZOBA_FK": "162",
                                    "FOGLALAS_PK": "1400",
                                    "Időtartalom": "1",
                                    "Korábbi foglalás időtartalma": "6"
                                },
                                {
                                    "SZOBA_FK": "163",
                                    "FOGLALAS_PK": "630",
                                    "Időtartalom": "2",
                                    "Korábbi foglalás időtartalma": "0"
                                },
                                {
                                    "SZOBA_FK": "163",
                                    "FOGLALAS_PK": "941",
                                    "Időtartalom": "1",
                                    "Korábbi foglalás időtartalma": "2"
                                },
                                {
                                    "SZOBA_FK": "163",
                                    "FOGLALAS_PK": "782",
                                    "Időtartalom": "3",
                                    "Korábbi foglalás időtartalma": "1"
                                },
                                {
                                    "SZOBA_FK": "163",
                                    "FOGLALAS_PK": "1075",
                                    "Időtartalom": "4",
                                    "Korábbi foglalás időtartalma": "3"
                                },
                                {
                                    "SZOBA_FK": "163",
                                    "FOGLALAS_PK": "1107",
                                    "Időtartalom": "3",
                                    "Korábbi foglalás időtartalma": "4"
                                },
                                {
                                    "SZOBA_FK": "163",
                                    "FOGLALAS_PK": "1265",
                                    "Időtartalom": "5",
                                    "Korábbi foglalás időtartalma": "3"
                                },
                                {
                                    "SZOBA_FK": "163",
                                    "FOGLALAS_PK": "1487",
                                    "Időtartalom": "3",
                                    "Korábbi foglalás időtartalma": "5"
                                },
                                {
                                    "SZOBA_FK": "164",
                                    "FOGLALAS_PK": "570",
                                    "Időtartalom": "7",
                                    "Korábbi foglalás időtartalma": "0"
                                },
                                {
                                    "SZOBA_FK": "164",
                                    "FOGLALAS_PK": "1010",
                                    "Időtartalom": "2",
                                    "Korábbi foglalás időtartalma": "7"
                                },
                                {
                                    "SZOBA_FK": "164",
                                    "FOGLALAS_PK": "742",
                                    "Időtartalom": "6",
                                    "Korábbi foglalás időtartalma": "2"
                                },
                                {
                                    "SZOBA_FK": "164",
                                    "FOGLALAS_PK": "1284",
                                    "Időtartalom": "4",
                                    "Korábbi foglalás időtartalma": "6"
                                },
                                {
                                    "SZOBA_FK": "164",
                                    "FOGLALAS_PK": "1292",
                                    "Időtartalom": "2",
                                    "Korábbi foglalás időtartalma": "4"
                                },
                                {
                                    "SZOBA_FK": "165",
                                    "FOGLALAS_PK": "640",
                                    "Időtartalom": "3",
                                    "Korábbi foglalás időtartalma": "0"
                                },
                                {
                                    "SZOBA_FK": "165",
                                    "FOGLALAS_PK": "857",
                                    "Időtartalom": "5",
                                    "Korábbi foglalás időtartalma": "3"
                                },
                                {
                                    "SZOBA_FK": "165",
                                    "FOGLALAS_PK": "900",
                                    "Időtartalom": "6",
                                    "Korábbi foglalás időtartalma": "5"
                                },
                                {
                                    "SZOBA_FK": "165",
                                    "FOGLALAS_PK": "897",
                                    "Időtartalom": "6",
                                    "Korábbi foglalás időtartalma": "6"
                                },
                                {
                                    "SZOBA_FK": "165",
                                    "FOGLALAS_PK": "892",
                                    "Időtartalom": "3",
                                    "Korábbi foglalás időtartalma": "6"
                                },
                                {
                                    "SZOBA_FK": "165",
                                    "FOGLALAS_PK": "1141",
                                    "Időtartalom": "1",
                                    "Korábbi foglalás időtartalma": "3"
                                },
                                {
                                    "SZOBA_FK": "165",
                                    "FOGLALAS_PK": "1375",
                                    "Időtartalom": "4",
                                    "Korábbi foglalás időtartalma": "1"
                                },
                                {
                                    "SZOBA_FK": "166",
                                    "FOGLALAS_PK": "644",
                                    "Időtartalom": "7",
                                    "Korábbi foglalás időtartalma": "0"
                                },
                                {
                                    "SZOBA_FK": "166",
                                    "FOGLALAS_PK": "781",
                                    "Időtartalom": "7",
                                    "Korábbi foglalás időtartalma": "7"
                                },
                                {
                                    "SZOBA_FK": "166",
                                    "FOGLALAS_PK": "1526",
                                    "Időtartalom": "2",
                                    "Korábbi foglalás időtartalma": "7"
                                },
                                {
                                    "SZOBA_FK": "167",
                                    "FOGLALAS_PK": "854",
                                    "Időtartalom": "7",
                                    "Korábbi foglalás időtartalma": "0"
                                },
                                {
                                    "SZOBA_FK": "167",
                                    "FOGLALAS_PK": "1414",
                                    "Időtartalom": "3",
                                    "Korábbi foglalás időtartalma": "7"
                                },
                                {
                                    "SZOBA_FK": "168",
                                    "FOGLALAS_PK": "930",
                                    "Időtartalom": "3",
                                    "Korábbi foglalás időtartalma": "0"
                                },
                                {
                                    "SZOBA_FK": "168",
                                    "FOGLALAS_PK": "792",
                                    "Időtartalom": "3",
                                    "Korábbi foglalás időtartalma": "3"
                                },
                                {
                                    "SZOBA_FK": "168",
                                    "FOGLALAS_PK": "794",
                                    "Időtartalom": "4",
                                    "Korábbi foglalás időtartalma": "3"
                                },
                                {
                                    "SZOBA_FK": "168",
                                    "FOGLALAS_PK": "1249",
                                    "Időtartalom": "4",
                                    "Korábbi foglalás időtartalma": "4"
                                },
                                {
                                    "SZOBA_FK": "168",
                                    "FOGLALAS_PK": "1266",
                                    "Időtartalom": "4",
                                    "Korábbi foglalás időtartalma": "4"
                                },
                                {
                                    "SZOBA_FK": "169",
                                    "FOGLALAS_PK": "573",
                                    "Időtartalom": "5",
                                    "Korábbi foglalás időtartalma": "0"
                                },
                                {
                                    "SZOBA_FK": "169",
                                    "FOGLALAS_PK": "659",
                                    "Időtartalom": "6",
                                    "Korábbi foglalás időtartalma": "5"
                                },
                                {
                                    "SZOBA_FK": "169",
                                    "FOGLALAS_PK": "974",
                                    "Időtartalom": "1",
                                    "Korábbi foglalás időtartalma": "6"
                                },
                                {
                                    "SZOBA_FK": "169",
                                    "FOGLALAS_PK": "746",
                                    "Időtartalom": "7",
                                    "Korábbi foglalás időtartalma": "1"
                                },
                                {
                                    "SZOBA_FK": "169",
                                    "FOGLALAS_PK": "1356",
                                    "Időtartalom": "4",
                                    "Korábbi foglalás időtartalma": "7"
                                },
                                {
                                    "SZOBA_FK": "169",
                                    "FOGLALAS_PK": "1427",
                                    "Időtartalom": "1",
                                    "Korábbi foglalás időtartalma": "4"
                                },
                                {
                                    "SZOBA_FK": "170",
                                    "FOGLALAS_PK": "567",
                                    "Időtartalom": "7",
                                    "Korábbi foglalás időtartalma": "0"
                                },
                                {
                                    "SZOBA_FK": "170",
                                    "FOGLALAS_PK": "944",
                                    "Időtartalom": "4",
                                    "Korábbi foglalás időtartalma": "7"
                                },
                                {
                                    "SZOBA_FK": "170",
                                    "FOGLALAS_PK": "1194",
                                    "Időtartalom": "4",
                                    "Korábbi foglalás időtartalma": "4"
                                },
                                {
                                    "SZOBA_FK": "170",
                                    "FOGLALAS_PK": "1267",
                                    "Időtartalom": "7",
                                    "Korábbi foglalás időtartalma": "4"
                                },
                                {
                                    "SZOBA_FK": "170",
                                    "FOGLALAS_PK": "1342",
                                    "Időtartalom": "6",
                                    "Korábbi foglalás időtartalma": "7"
                                },
                                {
                                    "SZOBA_FK": "171",
                                    "FOGLALAS_PK": "574",
                                    "Időtartalom": "2",
                                    "Korábbi foglalás időtartalma": "0"
                                },
                                {
                                    "SZOBA_FK": "171",
                                    "FOGLALAS_PK": "981",
                                    "Időtartalom": "4",
                                    "Korábbi foglalás időtartalma": "2"
                                },
                                {
                                    "SZOBA_FK": "171",
                                    "FOGLALAS_PK": "1181",
                                    "Időtartalom": "6",
                                    "Korábbi foglalás időtartalma": "4"
                                },
                                {
                                    "SZOBA_FK": "171",
                                    "FOGLALAS_PK": "1329",
                                    "Időtartalom": "5",
                                    "Korábbi foglalás időtartalma": "6"
                                },
                                {
                                    "SZOBA_FK": "171",
                                    "FOGLALAS_PK": "1567",
                                    "Időtartalom": "6",
                                    "Korábbi foglalás időtartalma": "5"
                                },
                                {
                                    "SZOBA_FK": "172",
                                    "FOGLALAS_PK": "984",
                                    "Időtartalom": "4",
                                    "Korábbi foglalás időtartalma": "0"
                                },
                                {
                                    "SZOBA_FK": "172",
                                    "FOGLALAS_PK": "709",
                                    "Időtartalom": "5",
                                    "Korábbi foglalás időtartalma": "4"
                                },
                                {
                                    "SZOBA_FK": "172",
                                    "FOGLALAS_PK": "749",
                                    "Időtartalom": "6",
                                    "Korábbi foglalás időtartalma": "5"
                                },
                                {
                                    "SZOBA_FK": "172",
                                    "FOGLALAS_PK": "839",
                                    "Időtartalom": "5",
                                    "Korábbi foglalás időtartalma": "6"
                                },
                                {
                                    "SZOBA_FK": "172",
                                    "FOGLALAS_PK": "1142",
                                    "Időtartalom": "4",
                                    "Korábbi foglalás időtartalma": "5"
                                },
                                {
                                    "SZOBA_FK": "172",
                                    "FOGLALAS_PK": "1171",
                                    "Időtartalom": "5",
                                    "Korábbi foglalás időtartalma": "4"
                                },
                                {
                                    "SZOBA_FK": "172",
                                    "FOGLALAS_PK": "1336",
                                    "Időtartalom": "5",
                                    "Korábbi foglalás időtartalma": "5"
                                },
                                {
                                    "SZOBA_FK": "172",
                                    "FOGLALAS_PK": "1421",
                                    "Időtartalom": "5",
                                    "Korábbi foglalás időtartalma": "5"
                                },
                                {
                                    "SZOBA_FK": "172",
                                    "FOGLALAS_PK": "1491",
                                    "Időtartalom": "2",
                                    "Korábbi foglalás időtartalma": "5"
                                },
                                {
                                    "SZOBA_FK": "173",
                                    "FOGLALAS_PK": "913",
                                    "Időtartalom": "1",
                                    "Korábbi foglalás időtartalma": "0"
                                },
                                {
                                    "SZOBA_FK": "173",
                                    "FOGLALAS_PK": "669",
                                    "Időtartalom": "7",
                                    "Korábbi foglalás időtartalma": "1"
                                },
                                {
                                    "SZOBA_FK": "173",
                                    "FOGLALAS_PK": "1350",
                                    "Időtartalom": "3",
                                    "Korábbi foglalás időtartalma": "7"
                                },
                                {
                                    "SZOBA_FK": "173",
                                    "FOGLALAS_PK": "1429",
                                    "Időtartalom": "4",
                                    "Korábbi foglalás időtartalma": "3"
                                },
                                {
                                    "SZOBA_FK": "174",
                                    "FOGLALAS_PK": "917",
                                    "Időtartalom": "2",
                                    "Korábbi foglalás időtartalma": "0"
                                },
                                {
                                    "SZOBA_FK": "174",
                                    "FOGLALAS_PK": "1015",
                                    "Időtartalom": "5",
                                    "Korábbi foglalás időtartalma": "2"
                                },
                                {
                                    "SZOBA_FK": "174",
                                    "FOGLALAS_PK": "682",
                                    "Időtartalom": "3",
                                    "Korábbi foglalás időtartalma": "5"
                                },
                                {
                                    "SZOBA_FK": "174",
                                    "FOGLALAS_PK": "1276",
                                    "Időtartalom": "1",
                                    "Korábbi foglalás időtartalma": "3"
                                },
                                {
                                    "SZOBA_FK": "175",
                                    "FOGLALAS_PK": "867",
                                    "Időtartalom": "6",
                                    "Korábbi foglalás időtartalma": "0"
                                },
                                {
                                    "SZOBA_FK": "175",
                                    "FOGLALAS_PK": "799",
                                    "Időtartalom": "4",
                                    "Korábbi foglalás időtartalma": "6"
                                },
                                {
                                    "SZOBA_FK": "175",
                                    "FOGLALAS_PK": "1094",
                                    "Időtartalom": "5",
                                    "Korábbi foglalás időtartalma": "4"
                                },
                                {
                                    "SZOBA_FK": "175",
                                    "FOGLALAS_PK": "1133",
                                    "Időtartalom": "2",
                                    "Korábbi foglalás időtartalma": "5"
                                },
                                {
                                    "SZOBA_FK": "175",
                                    "FOGLALAS_PK": "1407",
                                    "Időtartalom": "7",
                                    "Korábbi foglalás időtartalma": "2"
                                },
                                {
                                    "SZOBA_FK": "176",
                                    "FOGLALAS_PK": "592",
                                    "Időtartalom": "5",
                                    "Korábbi foglalás időtartalma": "0"
                                },
                                {
                                    "SZOBA_FK": "176",
                                    "FOGLALAS_PK": "1143",
                                    "Időtartalom": "6",
                                    "Korábbi foglalás időtartalma": "5"
                                },
                                {
                                    "SZOBA_FK": "176",
                                    "FOGLALAS_PK": "1278",
                                    "Időtartalom": "6",
                                    "Korábbi foglalás időtartalma": "6"
                                },
                                {
                                    "SZOBA_FK": "176",
                                    "FOGLALAS_PK": "1383",
                                    "Időtartalom": "4",
                                    "Korábbi foglalás időtartalma": "6"
                                },
                                {
                                    "SZOBA_FK": "176",
                                    "FOGLALAS_PK": "1511",
                                    "Időtartalom": "2",
                                    "Korábbi foglalás időtartalma": "4"
                                },
                                {
                                    "SZOBA_FK": "176",
                                    "FOGLALAS_PK": "1570",
                                    "Időtartalom": "3",
                                    "Korábbi foglalás időtartalma": "2"
                                },
                                {
                                    "SZOBA_FK": "177",
                                    "FOGLALAS_PK": "785",
                                    "Időtartalom": "3",
                                    "Korábbi foglalás időtartalma": "0"
                                },
                                {
                                    "SZOBA_FK": "177",
                                    "FOGLALAS_PK": "831",
                                    "Időtartalom": "7",
                                    "Korábbi foglalás időtartalma": "3"
                                },
                                {
                                    "SZOBA_FK": "177",
                                    "FOGLALAS_PK": "1176",
                                    "Időtartalom": "3",
                                    "Korábbi foglalás időtartalma": "7"
                                },
                                {
                                    "SZOBA_FK": "177",
                                    "FOGLALAS_PK": "1503",
                                    "Időtartalom": "3",
                                    "Korábbi foglalás időtartalma": "3"
                                },
                                {
                                    "SZOBA_FK": "178",
                                    "FOGLALAS_PK": "991",
                                    "Időtartalom": "7",
                                    "Korábbi foglalás időtartalma": "0"
                                },
                                {
                                    "SZOBA_FK": "178",
                                    "FOGLALAS_PK": "816",
                                    "Időtartalom": "4",
                                    "Korábbi foglalás időtartalma": "7"
                                },
                                {
                                    "SZOBA_FK": "178",
                                    "FOGLALAS_PK": "1211",
                                    "Időtartalom": "3",
                                    "Korábbi foglalás időtartalma": "4"
                                },
                                {
                                    "SZOBA_FK": "178",
                                    "FOGLALAS_PK": "1242",
                                    "Időtartalom": "1",
                                    "Korábbi foglalás időtartalma": "3"
                                },
                                {
                                    "SZOBA_FK": "179",
                                    "FOGLALAS_PK": "662",
                                    "Időtartalom": "2",
                                    "Korábbi foglalás időtartalma": "0"
                                },
                                {
                                    "SZOBA_FK": "179",
                                    "FOGLALAS_PK": "1021",
                                    "Időtartalom": "1",
                                    "Korábbi foglalás időtartalma": "2"
                                },
                                {
                                    "SZOBA_FK": "179",
                                    "FOGLALAS_PK": "1497",
                                    "Időtartalom": "1",
                                    "Korábbi foglalás időtartalma": "1"
                                },
                                {
                                    "SZOBA_FK": "180",
                                    "FOGLALAS_PK": "905",
                                    "Időtartalom": "5",
                                    "Korábbi foglalás időtartalma": "0"
                                },
                                {
                                    "SZOBA_FK": "180",
                                    "FOGLALAS_PK": "1559",
                                    "Időtartalom": "3",
                                    "Korábbi foglalás időtartalma": "5"
                                },
                                {
                                    "SZOBA_FK": "180",
                                    "FOGLALAS_PK": "1563",
                                    "Időtartalom": "6",
                                    "Korábbi foglalás időtartalma": "3"
                                },
                                {
                                    "SZOBA_FK": "181",
                                    "FOGLALAS_PK": "937",
                                    "Időtartalom": "3",
                                    "Korábbi foglalás időtartalma": "0"
                                },
                                {
                                    "SZOBA_FK": "181",
                                    "FOGLALAS_PK": "958",
                                    "Időtartalom": "5",
                                    "Korábbi foglalás időtartalma": "3"
                                },
                                {
                                    "SZOBA_FK": "181",
                                    "FOGLALAS_PK": "1022",
                                    "Időtartalom": "1",
                                    "Korábbi foglalás időtartalma": "5"
                                },
                                {
                                    "SZOBA_FK": "181",
                                    "FOGLALAS_PK": "677",
                                    "Időtartalom": "4",
                                    "Korábbi foglalás időtartalma": "1"
                                },
                                {
                                    "SZOBA_FK": "181",
                                    "FOGLALAS_PK": "731",
                                    "Időtartalom": "6",
                                    "Korábbi foglalás időtartalma": "4"
                                },
                                {
                                    "SZOBA_FK": "181",
                                    "FOGLALAS_PK": "1346",
                                    "Időtartalom": "6",
                                    "Korábbi foglalás időtartalma": "6"
                                },
                                {
                                    "SZOBA_FK": "182",
                                    "FOGLALAS_PK": "571",
                                    "Időtartalom": "2",
                                    "Korábbi foglalás időtartalma": "0"
                                },
                                {
                                    "SZOBA_FK": "182",
                                    "FOGLALAS_PK": "928",
                                    "Időtartalom": "2",
                                    "Korábbi foglalás időtartalma": "2"
                                },
                                {
                                    "SZOBA_FK": "182",
                                    "FOGLALAS_PK": "1008",
                                    "Időtartalom": "6",
                                    "Korábbi foglalás időtartalma": "2"
                                },
                                {
                                    "SZOBA_FK": "182",
                                    "FOGLALAS_PK": "740",
                                    "Időtartalom": "3",
                                    "Korábbi foglalás időtartalma": "6"
                                },
                                {
                                    "SZOBA_FK": "182",
                                    "FOGLALAS_PK": "1188",
                                    "Időtartalom": "1",
                                    "Korábbi foglalás időtartalma": "3"
                                },
                                {
                                    "SZOBA_FK": "182",
                                    "FOGLALAS_PK": "1230",
                                    "Időtartalom": "7",
                                    "Korábbi foglalás időtartalma": "1"
                                },
                                {
                                    "SZOBA_FK": "182",
                                    "FOGLALAS_PK": "1231",
                                    "Időtartalom": "4",
                                    "Korábbi foglalás időtartalma": "7"
                                },
                                {
                                    "SZOBA_FK": "182",
                                    "FOGLALAS_PK": "1308",
                                    "Időtartalom": "1",
                                    "Korábbi foglalás időtartalma": "4"
                                },
                                {
                                    "SZOBA_FK": "182",
                                    "FOGLALAS_PK": "1317",
                                    "Időtartalom": "3",
                                    "Korábbi foglalás időtartalma": "1"
                                },
                                {
                                    "SZOBA_FK": "182",
                                    "FOGLALAS_PK": "1326",
                                    "Időtartalom": "4",
                                    "Korábbi foglalás időtartalma": "3"
                                },
                                {
                                    "SZOBA_FK": "182",
                                    "FOGLALAS_PK": "1410",
                                    "Időtartalom": "4",
                                    "Korábbi foglalás időtartalma": "4"
                                },
                                {
                                    "SZOBA_FK": "182",
                                    "FOGLALAS_PK": "1422",
                                    "Időtartalom": "3",
                                    "Korábbi foglalás időtartalma": "4"
                                },
                                {
                                    "SZOBA_FK": "183",
                                    "FOGLALAS_PK": "939",
                                    "Időtartalom": "4",
                                    "Korábbi foglalás időtartalma": "0"
                                },
                                {
                                    "SZOBA_FK": "183",
                                    "FOGLALAS_PK": "1067",
                                    "Időtartalom": "7",
                                    "Korábbi foglalás időtartalma": "4"
                                },
                                {
                                    "SZOBA_FK": "183",
                                    "FOGLALAS_PK": "1147",
                                    "Időtartalom": "4",
                                    "Korábbi foglalás időtartalma": "7"
                                },
                                {
                                    "SZOBA_FK": "183",
                                    "FOGLALAS_PK": "1437",
                                    "Időtartalom": "4",
                                    "Korábbi foglalás időtartalma": "4"
                                },
                                {
                                    "SZOBA_FK": "184",
                                    "FOGLALAS_PK": "608",
                                    "Időtartalom": "2",
                                    "Korábbi foglalás időtartalma": "0"
                                },
                                {
                                    "SZOBA_FK": "184",
                                    "FOGLALAS_PK": "880",
                                    "Időtartalom": "4",
                                    "Korábbi foglalás időtartalma": "2"
                                },
                                {
                                    "SZOBA_FK": "184",
                                    "FOGLALAS_PK": "684",
                                    "Időtartalom": "3",
                                    "Korábbi foglalás időtartalma": "4"
                                },
                                {
                                    "SZOBA_FK": "184",
                                    "FOGLALAS_PK": "1251",
                                    "Időtartalom": "4",
                                    "Korábbi foglalás időtartalma": "3"
                                },
                                {
                                    "SZOBA_FK": "185",
                                    "FOGLALAS_PK": "578",
                                    "Időtartalom": "6",
                                    "Korábbi foglalás időtartalma": "0"
                                },
                                {
                                    "SZOBA_FK": "185",
                                    "FOGLALAS_PK": "863",
                                    "Időtartalom": "4",
                                    "Korábbi foglalás időtartalma": "6"
                                },
                                {
                                    "SZOBA_FK": "185",
                                    "FOGLALAS_PK": "898",
                                    "Időtartalom": "4",
                                    "Korábbi foglalás időtartalma": "4"
                                },
                                {
                                    "SZOBA_FK": "185",
                                    "FOGLALAS_PK": "925",
                                    "Időtartalom": "6",
                                    "Korábbi foglalás időtartalma": "4"
                                },
                                {
                                    "SZOBA_FK": "185",
                                    "FOGLALAS_PK": "672",
                                    "Időtartalom": "3",
                                    "Korábbi foglalás időtartalma": "6"
                                },
                                {
                                    "SZOBA_FK": "185",
                                    "FOGLALAS_PK": "679",
                                    "Időtartalom": "5",
                                    "Korábbi foglalás időtartalma": "3"
                                },
                                {
                                    "SZOBA_FK": "185",
                                    "FOGLALAS_PK": "693",
                                    "Időtartalom": "2",
                                    "Korábbi foglalás időtartalma": "5"
                                },
                                {
                                    "SZOBA_FK": "185",
                                    "FOGLALAS_PK": "711",
                                    "Időtartalom": "3",
                                    "Korábbi foglalás időtartalma": "2"
                                },
                                {
                                    "SZOBA_FK": "185",
                                    "FOGLALAS_PK": "1125",
                                    "Időtartalom": "3",
                                    "Korábbi foglalás időtartalma": "3"
                                },
                                {
                                    "SZOBA_FK": "185",
                                    "FOGLALAS_PK": "1183",
                                    "Időtartalom": "5",
                                    "Korábbi foglalás időtartalma": "3"
                                },
                                {
                                    "SZOBA_FK": "185",
                                    "FOGLALAS_PK": "1441",
                                    "Időtartalom": "7",
                                    "Korábbi foglalás időtartalma": "5"
                                },
                                {
                                    "SZOBA_FK": "185",
                                    "FOGLALAS_PK": "1463",
                                    "Időtartalom": "7",
                                    "Korábbi foglalás időtartalma": "7"
                                },
                                {
                                    "SZOBA_FK": "186",
                                    "FOGLALAS_PK": "615",
                                    "Időtartalom": "3",
                                    "Korábbi foglalás időtartalma": "0"
                                },
                                {
                                    "SZOBA_FK": "186",
                                    "FOGLALAS_PK": "1153",
                                    "Időtartalom": "3",
                                    "Korábbi foglalás időtartalma": "3"
                                },
                                {
                                    "SZOBA_FK": "186",
                                    "FOGLALAS_PK": "1248",
                                    "Időtartalom": "2",
                                    "Korábbi foglalás időtartalma": "3"
                                },
                                {
                                    "SZOBA_FK": "186",
                                    "FOGLALAS_PK": "1467",
                                    "Időtartalom": "3",
                                    "Korábbi foglalás időtartalma": "2"
                                },
                                {
                                    "SZOBA_FK": "187",
                                    "FOGLALAS_PK": "633",
                                    "Időtartalom": "6",
                                    "Korábbi foglalás időtartalma": "0"
                                },
                                {
                                    "SZOBA_FK": "187",
                                    "FOGLALAS_PK": "868",
                                    "Időtartalom": "4",
                                    "Korábbi foglalás időtartalma": "6"
                                },
                                {
                                    "SZOBA_FK": "187",
                                    "FOGLALAS_PK": "957",
                                    "Időtartalom": "4",
                                    "Korábbi foglalás időtartalma": "4"
                                },
                                {
                                    "SZOBA_FK": "187",
                                    "FOGLALAS_PK": "695",
                                    "Időtartalom": "6",
                                    "Korábbi foglalás időtartalma": "4"
                                },
                                {
                                    "SZOBA_FK": "187",
                                    "FOGLALAS_PK": "743",
                                    "Időtartalom": "2",
                                    "Korábbi foglalás időtartalma": "6"
                                },
                                {
                                    "SZOBA_FK": "187",
                                    "FOGLALAS_PK": "766",
                                    "Időtartalom": "1",
                                    "Korábbi foglalás időtartalma": "2"
                                },
                                {
                                    "SZOBA_FK": "187",
                                    "FOGLALAS_PK": "1404",
                                    "Időtartalom": "2",
                                    "Korábbi foglalás időtartalma": "1"
                                },
                                {
                                    "SZOBA_FK": "188",
                                    "FOGLALAS_PK": "912",
                                    "Időtartalom": "1",
                                    "Korábbi foglalás időtartalma": "0"
                                },
                                {
                                    "SZOBA_FK": "188",
                                    "FOGLALAS_PK": "690",
                                    "Időtartalom": "4",
                                    "Korábbi foglalás időtartalma": "1"
                                },
                                {
                                    "SZOBA_FK": "188",
                                    "FOGLALAS_PK": "710",
                                    "Időtartalom": "7",
                                    "Korábbi foglalás időtartalma": "4"
                                },
                                {
                                    "SZOBA_FK": "188",
                                    "FOGLALAS_PK": "747",
                                    "Időtartalom": "3",
                                    "Korábbi foglalás időtartalma": "7"
                                },
                                {
                                    "SZOBA_FK": "188",
                                    "FOGLALAS_PK": "1030",
                                    "Időtartalom": "4",
                                    "Korábbi foglalás időtartalma": "3"
                                },
                                {
                                    "SZOBA_FK": "188",
                                    "FOGLALAS_PK": "1390",
                                    "Időtartalom": "5",
                                    "Korábbi foglalás időtartalma": "4"
                                },
                                {
                                    "SZOBA_FK": "189",
                                    "FOGLALAS_PK": "699",
                                    "Időtartalom": "2",
                                    "Korábbi foglalás időtartalma": "0"
                                },
                                {
                                    "SZOBA_FK": "189",
                                    "FOGLALAS_PK": "753",
                                    "Időtartalom": "1",
                                    "Korábbi foglalás időtartalma": "2"
                                },
                                {
                                    "SZOBA_FK": "189",
                                    "FOGLALAS_PK": "1204",
                                    "Időtartalom": "2",
                                    "Korábbi foglalás időtartalma": "1"
                                },
                                {
                                    "SZOBA_FK": "189",
                                    "FOGLALAS_PK": "1449",
                                    "Időtartalom": "2",
                                    "Korábbi foglalás időtartalma": "2"
                                },
                                {
                                    "SZOBA_FK": "189",
                                    "FOGLALAS_PK": "1576",
                                    "Időtartalom": "3",
                                    "Korábbi foglalás időtartalma": "2"
                                },
                                {
                                    "SZOBA_FK": "190",
                                    "FOGLALAS_PK": "600",
                                    "Időtartalom": "7",
                                    "Korábbi foglalás időtartalma": "0"
                                },
                                {
                                    "SZOBA_FK": "190",
                                    "FOGLALAS_PK": "989",
                                    "Időtartalom": "1",
                                    "Korábbi foglalás időtartalma": "7"
                                },
                                {
                                    "SZOBA_FK": "190",
                                    "FOGLALAS_PK": "1017",
                                    "Időtartalom": "1",
                                    "Korábbi foglalás időtartalma": "1"
                                },
                                {
                                    "SZOBA_FK": "190",
                                    "FOGLALAS_PK": "774",
                                    "Időtartalom": "5",
                                    "Korábbi foglalás időtartalma": "1"
                                },
                                {
                                    "SZOBA_FK": "190",
                                    "FOGLALAS_PK": "1517",
                                    "Időtartalom": "5",
                                    "Korábbi foglalás időtartalma": "5"
                                },
                                {
                                    "SZOBA_FK": "191",
                                    "FOGLALAS_PK": "1039",
                                    "Időtartalom": "6",
                                    "Korábbi foglalás időtartalma": "0"
                                },
                                {
                                    "SZOBA_FK": "191",
                                    "FOGLALAS_PK": "1302",
                                    "Időtartalom": "1",
                                    "Korábbi foglalás időtartalma": "6"
                                },
                                {
                                    "SZOBA_FK": "191",
                                    "FOGLALAS_PK": "1323",
                                    "Időtartalom": "7",
                                    "Korábbi foglalás időtartalma": "1"
                                },
                                {
                                    "SZOBA_FK": "191",
                                    "FOGLALAS_PK": "1502",
                                    "Időtartalom": "2",
                                    "Korábbi foglalás időtartalma": "7"
                                },
                                {
                                    "SZOBA_FK": "191",
                                    "FOGLALAS_PK": "1508",
                                    "Időtartalom": "7",
                                    "Korábbi foglalás időtartalma": "2"
                                },
                                {
                                    "SZOBA_FK": "192",
                                    "FOGLALAS_PK": "903",
                                    "Időtartalom": "7",
                                    "Korábbi foglalás időtartalma": "0"
                                },
                                {
                                    "SZOBA_FK": "192",
                                    "FOGLALAS_PK": "680",
                                    "Időtartalom": "4",
                                    "Korábbi foglalás időtartalma": "7"
                                },
                                {
                                    "SZOBA_FK": "193",
                                    "FOGLALAS_PK": "634",
                                    "Időtartalom": "6",
                                    "Korábbi foglalás időtartalma": "0"
                                },
                                {
                                    "SZOBA_FK": "193",
                                    "FOGLALAS_PK": "926",
                                    "Időtartalom": "1",
                                    "Korábbi foglalás időtartalma": "6"
                                },
                                {
                                    "SZOBA_FK": "193",
                                    "FOGLALAS_PK": "977",
                                    "Időtartalom": "2",
                                    "Korábbi foglalás időtartalma": "1"
                                },
                                {
                                    "SZOBA_FK": "193",
                                    "FOGLALAS_PK": "675",
                                    "Időtartalom": "2",
                                    "Korábbi foglalás időtartalma": "2"
                                },
                                {
                                    "SZOBA_FK": "193",
                                    "FOGLALAS_PK": "835",
                                    "Időtartalom": "2",
                                    "Korábbi foglalás időtartalma": "2"
                                },
                                {
                                    "SZOBA_FK": "193",
                                    "FOGLALAS_PK": "1043",
                                    "Időtartalom": "6",
                                    "Korábbi foglalás időtartalma": "2"
                                },
                                {
                                    "SZOBA_FK": "193",
                                    "FOGLALAS_PK": "1238",
                                    "Időtartalom": "6",
                                    "Korábbi foglalás időtartalma": "6"
                                },
                                {
                                    "SZOBA_FK": "194",
                                    "FOGLALAS_PK": "1095",
                                    "Időtartalom": "5",
                                    "Korábbi foglalás időtartalma": "0"
                                },
                                {
                                    "SZOBA_FK": "195",
                                    "FOGLALAS_PK": "721",
                                    "Időtartalom": "4",
                                    "Korábbi foglalás időtartalma": "0"
                                },
                                {
                                    "SZOBA_FK": "195",
                                    "FOGLALAS_PK": "842",
                                    "Időtartalom": "4",
                                    "Korábbi foglalás időtartalma": "4"
                                },
                                {
                                    "SZOBA_FK": "195",
                                    "FOGLALAS_PK": "1074",
                                    "Időtartalom": "7",
                                    "Korábbi foglalás időtartalma": "4"
                                },
                                {
                                    "SZOBA_FK": "195",
                                    "FOGLALAS_PK": "1184",
                                    "Időtartalom": "5",
                                    "Korábbi foglalás időtartalma": "7"
                                },
                                {
                                    "SZOBA_FK": "195",
                                    "FOGLALAS_PK": "1473",
                                    "Időtartalom": "7",
                                    "Korábbi foglalás időtartalma": "5"
                                },
                                {
                                    "SZOBA_FK": "195",
                                    "FOGLALAS_PK": "1484",
                                    "Időtartalom": "1",
                                    "Korábbi foglalás időtartalma": "7"
                                },
                                {
                                    "SZOBA_FK": "196",
                                    "FOGLALAS_PK": "952",
                                    "Időtartalom": "3",
                                    "Korábbi foglalás időtartalma": "0"
                                },
                                {
                                    "SZOBA_FK": "196",
                                    "FOGLALAS_PK": "673",
                                    "Időtartalom": "5",
                                    "Korábbi foglalás időtartalma": "3"
                                },
                                {
                                    "SZOBA_FK": "196",
                                    "FOGLALAS_PK": "1314",
                                    "Időtartalom": "5",
                                    "Korábbi foglalás időtartalma": "5"
                                },
                                {
                                    "SZOBA_FK": "196",
                                    "FOGLALAS_PK": "1340",
                                    "Időtartalom": "5",
                                    "Korábbi foglalás időtartalma": "5"
                                },
                                {
                                    "SZOBA_FK": "197",
                                    "FOGLALAS_PK": "993",
                                    "Időtartalom": "7",
                                    "Korábbi foglalás időtartalma": "0"
                                },
                                {
                                    "SZOBA_FK": "197",
                                    "FOGLALAS_PK": "764",
                                    "Időtartalom": "7",
                                    "Korábbi foglalás időtartalma": "7"
                                },
                                {
                                    "SZOBA_FK": "197",
                                    "FOGLALAS_PK": "1091",
                                    "Időtartalom": "7",
                                    "Korábbi foglalás időtartalma": "7"
                                },
                                {
                                    "SZOBA_FK": "197",
                                    "FOGLALAS_PK": "1172",
                                    "Időtartalom": "7",
                                    "Korábbi foglalás időtartalma": "7"
                                },
                                {
                                    "SZOBA_FK": "197",
                                    "FOGLALAS_PK": "1304",
                                    "Időtartalom": "7",
                                    "Korábbi foglalás időtartalma": "7"
                                },
                                {
                                    "SZOBA_FK": "197",
                                    "FOGLALAS_PK": "1387",
                                    "Időtartalom": "3",
                                    "Korábbi foglalás időtartalma": "7"
                                },
                                {
                                    "SZOBA_FK": "198",
                                    "FOGLALAS_PK": "978",
                                    "Időtartalom": "1",
                                    "Korábbi foglalás időtartalma": "0"
                                },
                                {
                                    "SZOBA_FK": "198",
                                    "FOGLALAS_PK": "1011",
                                    "Időtartalom": "7",
                                    "Korábbi foglalás időtartalma": "1"
                                },
                                {
                                    "SZOBA_FK": "198",
                                    "FOGLALAS_PK": "1065",
                                    "Időtartalom": "3",
                                    "Korábbi foglalás időtartalma": "7"
                                },
                                {
                                    "SZOBA_FK": "198",
                                    "FOGLALAS_PK": "1116",
                                    "Időtartalom": "1",
                                    "Korábbi foglalás időtartalma": "3"
                                },
                                {
                                    "SZOBA_FK": "198",
                                    "FOGLALAS_PK": "1138",
                                    "Időtartalom": "5",
                                    "Korábbi foglalás időtartalma": "1"
                                },
                                {
                                    "SZOBA_FK": "198",
                                    "FOGLALAS_PK": "1161",
                                    "Időtartalom": "5",
                                    "Korábbi foglalás időtartalma": "5"
                                },
                                {
                                    "SZOBA_FK": "198",
                                    "FOGLALAS_PK": "1216",
                                    "Időtartalom": "7",
                                    "Korábbi foglalás időtartalma": "5"
                                },
                                {
                                    "SZOBA_FK": "198",
                                    "FOGLALAS_PK": "1420",
                                    "Időtartalom": "5",
                                    "Korábbi foglalás időtartalma": "7"
                                }
                            ]
                        },
                        "text/html": [
                            "<table>",
                            "<tr><th>SZOBA_FK</th><th>FOGLALAS_PK</th><th>Időtartalom</th><th>Korábbi foglalás időtartalma</th></tr>",
                            "<tr><td>1</td><td>620</td><td>5</td><td>0</td></tr>",
                            "<tr><td>1</td><td>949</td><td>1</td><td>5</td></tr>",
                            "<tr><td>1</td><td>738</td><td>7</td><td>1</td></tr>",
                            "<tr><td>1</td><td>803</td><td>4</td><td>7</td></tr>",
                            "<tr><td>1</td><td>1137</td><td>2</td><td>4</td></tr>",
                            "<tr><td>1</td><td>1152</td><td>1</td><td>2</td></tr>",
                            "<tr><td>1</td><td>1274</td><td>1</td><td>1</td></tr>",
                            "<tr><td>1</td><td>1334</td><td>4</td><td>1</td></tr>",
                            "<tr><td>2</td><td>828</td><td>3</td><td>0</td></tr>",
                            "<tr><td>2</td><td>1051</td><td>1</td><td>3</td></tr>",
                            "<tr><td>2</td><td>1069</td><td>7</td><td>1</td></tr>",
                            "<tr><td>2</td><td>1311</td><td>7</td><td>7</td></tr>",
                            "<tr><td>3</td><td>629</td><td>4</td><td>0</td></tr>",
                            "<tr><td>3</td><td>666</td><td>6</td><td>4</td></tr>",
                            "<tr><td>3</td><td>788</td><td>6</td><td>6</td></tr>",
                            "<tr><td>3</td><td>1038</td><td>3</td><td>6</td></tr>",
                            "<tr><td>3</td><td>1110</td><td>7</td><td>3</td></tr>",
                            "<tr><td>3</td><td>1151</td><td>1</td><td>7</td></tr>",
                            "<tr><td>3</td><td>1434</td><td>5</td><td>1</td></tr>",
                            "<tr><td>3</td><td>1544</td><td>5</td><td>5</td></tr>",
                            "<tr><td>4</td><td>651</td><td>7</td><td>0</td></tr>",
                            "<tr><td>4</td><td>946</td><td>5</td><td>7</td></tr>",
                            "<tr><td>4</td><td>1001</td><td>7</td><td>5</td></tr>",
                            "<tr><td>4</td><td>1127</td><td>3</td><td>7</td></tr>",
                            "<tr><td>4</td><td>1132</td><td>6</td><td>3</td></tr>",
                            "<tr><td>4</td><td>1492</td><td>6</td><td>6</td></tr>",
                            "<tr><td>5</td><td>564</td><td>2</td><td>0</td></tr>",
                            "<tr><td>5</td><td>965</td><td>7</td><td>2</td></tr>",
                            "<tr><td>5</td><td>1073</td><td>5</td><td>7</td></tr>",
                            "<tr><td>5</td><td>1257</td><td>3</td><td>5</td></tr>",
                            "<tr><td>6</td><td>560</td><td>6</td><td>0</td></tr>",
                            "<tr><td>6</td><td>873</td><td>3</td><td>6</td></tr>",
                            "<tr><td>6</td><td>990</td><td>4</td><td>3</td></tr>",
                            "<tr><td>6</td><td>772</td><td>6</td><td>4</td></tr>",
                            "<tr><td>6</td><td>850</td><td>2</td><td>6</td></tr>",
                            "<tr><td>6</td><td>1099</td><td>4</td><td>2</td></tr>",
                            "<tr><td>7</td><td>562</td><td>4</td><td>0</td></tr>",
                            "<tr><td>7</td><td>759</td><td>7</td><td>4</td></tr>",
                            "<tr><td>7</td><td>1131</td><td>1</td><td>7</td></tr>",
                            "<tr><td>7</td><td>1175</td><td>4</td><td>1</td></tr>",
                            "<tr><td>7</td><td>1182</td><td>4</td><td>4</td></tr>",
                            "<tr><td>7</td><td>1252</td><td>2</td><td>4</td></tr>",
                            "<tr><td>8</td><td>882</td><td>1</td><td>0</td></tr>",
                            "<tr><td>8</td><td>947</td><td>3</td><td>1</td></tr>",
                            "<tr><td>8</td><td>694</td><td>4</td><td>3</td></tr>",
                            "<tr><td>8</td><td>818</td><td>4</td><td>4</td></tr>",
                            "<tr><td>8</td><td>832</td><td>4</td><td>4</td></tr>",
                            "<tr><td>9</td><td>609</td><td>2</td><td>0</td></tr>",
                            "<tr><td>9</td><td>1157</td><td>6</td><td>2</td></tr>",
                            "<tr><td>9</td><td>1220</td><td>3</td><td>6</td></tr>",
                            "<tr><td>9</td><td>1260</td><td>6</td><td>3</td></tr>",
                            "<tr><td>9</td><td>1423</td><td>3</td><td>6</td></tr>",
                            "<tr><td>9</td><td>1537</td><td>3</td><td>3</td></tr>",
                            "<tr><td>10</td><td>569</td><td>3</td><td>0</td></tr>",
                            "<tr><td>10</td><td>790</td><td>5</td><td>3</td></tr>",
                            "<tr><td>10</td><td>795</td><td>4</td><td>5</td></tr>",
                            "<tr><td>10</td><td>1319</td><td>6</td><td>4</td></tr>",
                            "<tr><td>11</td><td>918</td><td>6</td><td>0</td></tr>",
                            "<tr><td>11</td><td>1123</td><td>5</td><td>6</td></tr>",
                            "<tr><td>11</td><td>1236</td><td>1</td><td>5</td></tr>",
                            "<tr><td>11</td><td>1523</td><td>1</td><td>1</td></tr>",
                            "<tr><td>12</td><td>876</td><td>7</td><td>0</td></tr>",
                            "<tr><td>12</td><td>951</td><td>3</td><td>7</td></tr>",
                            "<tr><td>12</td><td>970</td><td>2</td><td>3</td></tr>",
                            "<tr><td>12</td><td>1020</td><td>5</td><td>2</td></tr>",
                            "<tr><td>12</td><td>697</td><td>2</td><td>5</td></tr>",
                            "<tr><td>12</td><td>775</td><td>4</td><td>2</td></tr>",
                            "<tr><td>12</td><td>1140</td><td>3</td><td>4</td></tr>",
                            "<tr><td>12</td><td>1164</td><td>5</td><td>3</td></tr>",
                            "<tr><td>12</td><td>1430</td><td>2</td><td>5</td></tr>",
                            "<tr><td>13</td><td>763</td><td>4</td><td>0</td></tr>",
                            "<tr><td>13</td><td>1044</td><td>6</td><td>4</td></tr>",
                            "<tr><td>13</td><td>1347</td><td>3</td><td>6</td></tr>",
                            "<tr><td>13</td><td>1469</td><td>2</td><td>3</td></tr>",
                            "<tr><td>14</td><td>663</td><td>1</td><td>0</td></tr>",
                            "<tr><td>14</td><td>813</td><td>3</td><td>1</td></tr>",
                            "<tr><td>14</td><td>1542</td><td>4</td><td>3</td></tr>",
                            "<tr><td>15</td><td>1028</td><td>2</td><td>0</td></tr>",
                            "<tr><td>15</td><td>791</td><td>5</td><td>2</td></tr>",
                            "<tr><td>15</td><td>1129</td><td>4</td><td>5</td></tr>",
                            "<tr><td>15</td><td>1244</td><td>1</td><td>4</td></tr>",
                            "<tr><td>15</td><td>1418</td><td>4</td><td>1</td></tr>",
                            "<tr><td>15</td><td>1442</td><td>3</td><td>4</td></tr>",
                            "<tr><td>16</td><td>856</td><td>6</td><td>0</td></tr>",
                            "<tr><td>16</td><td>896</td><td>1</td><td>6</td></tr>",
                            "<tr><td>16</td><td>973</td><td>1</td><td>1</td></tr>",
                            "<tr><td>16</td><td>687</td><td>3</td><td>1</td></tr>",
                            "<tr><td>16</td><td>1498</td><td>7</td><td>3</td></tr>",
                            "<tr><td>17</td><td>602</td><td>6</td><td>0</td></tr>",
                            "<tr><td>17</td><td>916</td><td>2</td><td>6</td></tr>",
                            "<tr><td>17</td><td>713</td><td>6</td><td>2</td></tr>",
                            "<tr><td>17</td><td>744</td><td>1</td><td>6</td></tr>",
                            "<tr><td>17</td><td>1316</td><td>5</td><td>1</td></tr>",
                            "<tr><td>17</td><td>1549</td><td>3</td><td>5</td></tr>",
                            "<tr><td>18</td><td>626</td><td>3</td><td>0</td></tr>",
                            "<tr><td>18</td><td>767</td><td>3</td><td>3</td></tr>",
                            "<tr><td>18</td><td>1035</td><td>6</td><td>3</td></tr>",
                            "<tr><td>18</td><td>1173</td><td>6</td><td>6</td></tr>",
                            "<tr><td>18</td><td>1198</td><td>4</td><td>6</td></tr>",
                            "<tr><td>18</td><td>1505</td><td>6</td><td>4</td></tr>",
                            "<tr><td>19</td><td>948</td><td>2</td><td>0</td></tr>",
                            "<tr><td>19</td><td>696</td><td>1</td><td>2</td></tr>",
                            "<tr><td>19</td><td>778</td><td>1</td><td>1</td></tr>",
                            "<tr><td>19</td><td>1139</td><td>7</td><td>1</td></tr>",
                            "<tr><td>19</td><td>1237</td><td>1</td><td>7</td></tr>",
                            "<tr><td>19</td><td>1533</td><td>1</td><td>1</td></tr>",
                            "<tr><td>20</td><td>755</td><td>6</td><td>0</td></tr>",
                            "<tr><td>20</td><td>820</td><td>1</td><td>6</td></tr>",
                            "<tr><td>20</td><td>1070</td><td>1</td><td>1</td></tr>",
                            "<tr><td>20</td><td>1114</td><td>5</td><td>1</td></tr>",
                            "<tr><td>20</td><td>1106</td><td>2</td><td>5</td></tr>",
                            "<tr><td>21</td><td>566</td><td>6</td><td>0</td></tr>",
                            "<tr><td>21</td><td>660</td><td>5</td><td>6</td></tr>",
                            "<tr><td>21</td><td>805</td><td>1</td><td>5</td></tr>",
                            "<tr><td>21</td><td>1212</td><td>6</td><td>1</td></tr>",
                            "<tr><td>22</td><td>906</td><td>1</td><td>0</td></tr>",
                            "<tr><td>22</td><td>1005</td><td>3</td><td>1</td></tr>",
                            "<tr><td>22</td><td>1130</td><td>1</td><td>3</td></tr>",
                            "<tr><td>22</td><td>1195</td><td>6</td><td>1</td></tr>",
                            "<tr><td>22</td><td>1206</td><td>7</td><td>6</td></tr>",
                            "<tr><td>22</td><td>1287</td><td>3</td><td>7</td></tr>",
                            "<tr><td>23</td><td>934</td><td>1</td><td>0</td></tr>",
                            "<tr><td>23</td><td>945</td><td>7</td><td>1</td></tr>",
                            "<tr><td>23</td><td>848</td><td>1</td><td>7</td></tr>",
                            "<tr><td>24</td><td>852</td><td>2</td><td>0</td></tr>",
                            "<tr><td>24</td><td>1167</td><td>1</td><td>2</td></tr>",
                            "<tr><td>24</td><td>1415</td><td>3</td><td>1</td></tr>",
                            "<tr><td>25</td><td>1052</td><td>3</td><td>0</td></tr>",
                            "<tr><td>25</td><td>1362</td><td>2</td><td>3</td></tr>",
                            "<tr><td>26</td><td>1158</td><td>2</td><td>0</td></tr>",
                            "<tr><td>26</td><td>1388</td><td>3</td><td>2</td></tr>",
                            "<tr><td>27</td><td>758</td><td>3</td><td>0</td></tr>",
                            "<tr><td>27</td><td>807</td><td>2</td><td>3</td></tr>",
                            "<tr><td>27</td><td>1031</td><td>2</td><td>2</td></tr>",
                            "<tr><td>27</td><td>1082</td><td>5</td><td>2</td></tr>",
                            "<tr><td>27</td><td>1275</td><td>6</td><td>5</td></tr>",
                            "<tr><td>27</td><td>1377</td><td>1</td><td>6</td></tr>",
                            "<tr><td>27</td><td>1476</td><td>1</td><td>1</td></tr>",
                            "<tr><td>28</td><td>872</td><td>5</td><td>0</td></tr>",
                            "<tr><td>28</td><td>886</td><td>4</td><td>5</td></tr>",
                            "<tr><td>28</td><td>901</td><td>4</td><td>4</td></tr>",
                            "<tr><td>28</td><td>725</td><td>5</td><td>4</td></tr>",
                            "<tr><td>28</td><td>1150</td><td>6</td><td>5</td></tr>",
                            "<tr><td>28</td><td>1459</td><td>2</td><td>6</td></tr>",
                            "<tr><td>29</td><td>611</td><td>5</td><td>0</td></tr>",
                            "<tr><td>29</td><td>894</td><td>1</td><td>5</td></tr>",
                            "<tr><td>29</td><td>1076</td><td>7</td><td>1</td></tr>",
                            "<tr><td>29</td><td>1185</td><td>5</td><td>7</td></tr>",
                            "<tr><td>29</td><td>1235</td><td>7</td><td>5</td></tr>",
                            "<tr><td>29</td><td>1568</td><td>7</td><td>7</td></tr>",
                            "<tr><td>30</td><td>604</td><td>2</td><td>0</td></tr>",
                            "<tr><td>30</td><td>1023</td><td>7</td><td>2</td></tr>",
                            "<tr><td>30</td><td>1136</td><td>5</td><td>7</td></tr>",
                            "<tr><td>31</td><td>598</td><td>2</td><td>0</td></tr>",
                            "<tr><td>31</td><td>606</td><td>1</td><td>2</td></tr>",
                            "<tr><td>31</td><td>728</td><td>4</td><td>1</td></tr>",
                            "<tr><td>32</td><td>920</td><td>4</td><td>0</td></tr>",
                            "<tr><td>33</td><td>624</td><td>6</td><td>0</td></tr>",
                            "<tr><td>33</td><td>1012</td><td>7</td><td>6</td></tr>",
                            "<tr><td>33</td><td>1053</td><td>1</td><td>7</td></tr>",
                            "<tr><td>33</td><td>1321</td><td>4</td><td>1</td></tr>",
                            "<tr><td>33</td><td>1344</td><td>5</td><td>4</td></tr>",
                            "<tr><td>33</td><td>1381</td><td>6</td><td>5</td></tr>",
                            "<tr><td>34</td><td>870</td><td>6</td><td>0</td></tr>",
                            "<tr><td>34</td><td>904</td><td>2</td><td>6</td></tr>",
                            "<tr><td>34</td><td>777</td><td>3</td><td>2</td></tr>",
                            "<tr><td>34</td><td>821</td><td>1</td><td>3</td></tr>",
                            "<tr><td>35</td><td>971</td><td>3</td><td>0</td></tr>",
                            "<tr><td>35</td><td>979</td><td>7</td><td>3</td></tr>",
                            "<tr><td>35</td><td>686</td><td>6</td><td>7</td></tr>",
                            "<tr><td>35</td><td>707</td><td>2</td><td>6</td></tr>",
                            "<tr><td>35</td><td>829</td><td>2</td><td>2</td></tr>",
                            "<tr><td>35</td><td>1480</td><td>37</td><td>2</td></tr>",
                            "<tr><td>35</td><td>1411</td><td>1</td><td>37</td></tr>",
                            "<tr><td>35</td><td>1436</td><td>1</td><td>1</td></tr>",
                            "<tr><td>35</td><td>1529</td><td>4</td><td>1</td></tr>",
                            "<tr><td>36</td><td>895</td><td>5</td><td>0</td></tr>",
                            "<tr><td>36</td><td>919</td><td>1</td><td>5</td></tr>",
                            "<tr><td>36</td><td>985</td><td>6</td><td>1</td></tr>",
                            "<tr><td>36</td><td>1003</td><td>4</td><td>6</td></tr>",
                            "<tr><td>36</td><td>748</td><td>2</td><td>4</td></tr>",
                            "<tr><td>36</td><td>750</td><td>6</td><td>2</td></tr>",
                            "<tr><td>37</td><td>688</td><td>2</td><td>0</td></tr>",
                            "<tr><td>37</td><td>705</td><td>4</td><td>2</td></tr>",
                            "<tr><td>37</td><td>1335</td><td>7</td><td>4</td></tr>",
                            "<tr><td>38</td><td>627</td><td>6</td><td>0</td></tr>",
                            "<tr><td>38</td><td>1033</td><td>2</td><td>6</td></tr>",
                            "<tr><td>38</td><td>1060</td><td>2</td><td>2</td></tr>",
                            "<tr><td>38</td><td>1078</td><td>7</td><td>2</td></tr>",
                            "<tr><td>38</td><td>1351</td><td>4</td><td>7</td></tr>",
                            "<tr><td>38</td><td>1416</td><td>5</td><td>4</td></tr>",
                            "<tr><td>38</td><td>1478</td><td>4</td><td>5</td></tr>",
                            "<tr><td>38</td><td>1556</td><td>6</td><td>4</td></tr>",
                            "<tr><td>39</td><td>601</td><td>6</td><td>0</td></tr>",
                            "<tr><td>39</td><td>899</td><td>6</td><td>6</td></tr>",
                            "<tr><td>39</td><td>1214</td><td>5</td><td>6</td></tr>",
                            "<tr><td>39</td><td>1380</td><td>5</td><td>5</td></tr>",
                            "<tr><td>39</td><td>1435</td><td>7</td><td>5</td></tr>",
                            "<tr><td>39</td><td>1454</td><td>1</td><td>7</td></tr>",
                            "<tr><td>39</td><td>1538</td><td>2</td><td>1</td></tr>",
                            "<tr><td>40</td><td>924</td><td>5</td><td>0</td></tr>",
                            "<tr><td>40</td><td>932</td><td>6</td><td>5</td></tr>",
                            "<tr><td>40</td><td>1018</td><td>5</td><td>6</td></tr>",
                            "<tr><td>40</td><td>1118</td><td>5</td><td>5</td></tr>",
                            "<tr><td>41</td><td>960</td><td>6</td><td>0</td></tr>",
                            "<tr><td>41</td><td>1144</td><td>1</td><td>6</td></tr>",
                            "<tr><td>42</td><td>561</td><td>4</td><td>0</td></tr>",
                            "<tr><td>42</td><td>590</td><td>5</td><td>4</td></tr>",
                            "<tr><td>42</td><td>851</td><td>7</td><td>5</td></tr>",
                            "<tr><td>42</td><td>770</td><td>3</td><td>7</td></tr>",
                            "<tr><td>42</td><td>1309</td><td>2</td><td>3</td></tr>",
                            "<tr><td>42</td><td>1444</td><td>6</td><td>2</td></tr>",
                            "<tr><td>43</td><td>1019</td><td>4</td><td>0</td></tr>",
                            "<tr><td>43</td><td>670</td><td>4</td><td>4</td></tr>",
                            "<tr><td>43</td><td>1088</td><td>2</td><td>4</td></tr>",
                            "<tr><td>43</td><td>1207</td><td>1</td><td>2</td></tr>",
                            "<tr><td>43</td><td>1227</td><td>5</td><td>1</td></tr>",
                            "<tr><td>43</td><td>1270</td><td>4</td><td>5</td></tr>",
                            "<tr><td>43</td><td>1524</td><td>1</td><td>4</td></tr>",
                            "<tr><td>43</td><td>1553</td><td>5</td><td>1</td></tr>",
                            "<tr><td>44</td><td>589</td><td>2</td><td>0</td></tr>",
                            "<tr><td>44</td><td>658</td><td>6</td><td>2</td></tr>",
                            "<tr><td>44</td><td>823</td><td>2</td><td>6</td></tr>",
                            "<tr><td>44</td><td>1295</td><td>2</td><td>2</td></tr>",
                            "<tr><td>44</td><td>1425</td><td>2</td><td>2</td></tr>",
                            "<tr><td>44</td><td>1552</td><td>2</td><td>2</td></tr>",
                            "<tr><td>45</td><td>802</td><td>7</td><td>0</td></tr>",
                            "<tr><td>45</td><td>800</td><td>5</td><td>7</td></tr>",
                            "<tr><td>45</td><td>846</td><td>3</td><td>5</td></tr>",
                            "<tr><td>45</td><td>1135</td><td>3</td><td>3</td></tr>",
                            "<tr><td>45</td><td>1303</td><td>2</td><td>3</td></tr>",
                            "<tr><td>46</td><td>752</td><td>5</td><td>0</td></tr>",
                            "<tr><td>46</td><td>1187</td><td>7</td><td>5</td></tr>",
                            "<tr><td>46</td><td>1291</td><td>3</td><td>7</td></tr>",
                            "<tr><td>46</td><td>1515</td><td>4</td><td>3</td></tr>",
                            "<tr><td>47</td><td>955</td><td>1</td><td>0</td></tr>",
                            "<tr><td>47</td><td>1056</td><td>7</td><td>1</td></tr>",
                            "<tr><td>48</td><td>603</td><td>3</td><td>0</td></tr>",
                            "<tr><td>48</td><td>628</td><td>2</td><td>3</td></tr>",
                            "<tr><td>48</td><td>914</td><td>5</td><td>2</td></tr>",
                            "<tr><td>48</td><td>986</td><td>5</td><td>5</td></tr>",
                            "<tr><td>48</td><td>824</td><td>2</td><td>5</td></tr>",
                            "<tr><td>48</td><td>1243</td><td>6</td><td>2</td></tr>",
                            "<tr><td>48</td><td>1546</td><td>3</td><td>6</td></tr>",
                            "<tr><td>48</td><td>1547</td><td>1</td><td>3</td></tr>",
                            "<tr><td>48</td><td>1581</td><td>5</td><td>1</td></tr>",
                            "<tr><td>49</td><td>888</td><td>7</td><td>0</td></tr>",
                            "<tr><td>49</td><td>793</td><td>6</td><td>7</td></tr>",
                            "<tr><td>49</td><td>826</td><td>4</td><td>6</td></tr>",
                            "<tr><td>49</td><td>1066</td><td>7</td><td>4</td></tr>",
                            "<tr><td>49</td><td>1200</td><td>7</td><td>7</td></tr>",
                            "<tr><td>49</td><td>1221</td><td>2</td><td>7</td></tr>",
                            "<tr><td>49</td><td>1536</td><td>6</td><td>2</td></tr>",
                            "<tr><td>50</td><td>787</td><td>3</td><td>0</td></tr>",
                            "<tr><td>50</td><td>1063</td><td>2</td><td>3</td></tr>",
                            "<tr><td>50</td><td>1224</td><td>1</td><td>2</td></tr>",
                            "<tr><td>50</td><td>1272</td><td>1</td><td>1</td></tr>",
                            "<tr><td>51</td><td>865</td><td>7</td><td>0</td></tr>",
                            "<tr><td>51</td><td>811</td><td>2</td><td>7</td></tr>",
                            "<tr><td>51</td><td>1165</td><td>5</td><td>2</td></tr>",
                            "<tr><td>51</td><td>1477</td><td>6</td><td>5</td></tr>",
                            "<tr><td>51</td><td>1550</td><td>1</td><td>6</td></tr>",
                            "<tr><td>52</td><td>822</td><td>7</td><td>0</td></tr>",
                            "<tr><td>52</td><td>1202</td><td>2</td><td>7</td></tr>",
                            "<tr><td>52</td><td>1258</td><td>5</td><td>2</td></tr>",
                            "<tr><td>52</td><td>1431</td><td>5</td><td>5</td></tr>",
                            "<tr><td>52</td><td>1534</td><td>5</td><td>5</td></tr>",
                            "<tr><td>53</td><td>855</td><td>1</td><td>0</td></tr>",
                            "<tr><td>53</td><td>987</td><td>4</td><td>1</td></tr>",
                            "<tr><td>54</td><td>622</td><td>7</td><td>0</td></tr>",
                            "<tr><td>54</td><td>642</td><td>5</td><td>7</td></tr>",
                            "<tr><td>54</td><td>889</td><td>2</td><td>5</td></tr>",
                            "<tr><td>54</td><td>668</td><td>1</td><td>2</td></tr>",
                            "<tr><td>54</td><td>1096</td><td>4</td><td>1</td></tr>",
                            "<tr><td>54</td><td>1328</td><td>4</td><td>4</td></tr>",
                            "<tr><td>55</td><td>734</td><td>6</td><td>0</td></tr>",
                            "<tr><td>55</td><td>1086</td><td>5</td><td>6</td></tr>",
                            "<tr><td>55</td><td>1163</td><td>2</td><td>5</td></tr>",
                            "<tr><td>55</td><td>1232</td><td>7</td><td>2</td></tr>",
                            "<tr><td>55</td><td>1327</td><td>6</td><td>7</td></tr>",
                            "<tr><td>55</td><td>1386</td><td>2</td><td>6</td></tr>",
                            "<tr><td>55</td><td>1512</td><td>1</td><td>2</td></tr>",
                            "<tr><td>55</td><td>1520</td><td>1</td><td>1</td></tr>",
                            "<tr><td>56</td><td>935</td><td>4</td><td>0</td></tr>",
                            "<tr><td>56</td><td>838</td><td>2</td><td>4</td></tr>",
                            "<tr><td>57</td><td>1348</td><td>1</td><td>0</td></tr>",
                            "<tr><td>57</td><td>1389</td><td>1</td><td>1</td></tr>",
                            "<tr><td>57</td><td>1466</td><td>7</td><td>1</td></tr>",
                            "<tr><td>57</td><td>1504</td><td>4</td><td>7</td></tr>",
                            "<tr><td>58</td><td>883</td><td>5</td><td>0</td></tr>",
                            "<tr><td>58</td><td>719</td><td>3</td><td>5</td></tr>",
                            "<tr><td>58</td><td>773</td><td>2</td><td>3</td></tr>",
                            "<tr><td>58</td><td>1113</td><td>3</td><td>2</td></tr>",
                            "<tr><td>58</td><td>1186</td><td>6</td><td>3</td></tr>",
                            "<tr><td>58</td><td>1208</td><td>6</td><td>6</td></tr>",
                            "<tr><td>58</td><td>1255</td><td>7</td><td>6</td></tr>",
                            "<tr><td>58</td><td>1261</td><td>6</td><td>7</td></tr>",
                            "<tr><td>58</td><td>1285</td><td>7</td><td>6</td></tr>",
                            "<tr><td>58</td><td>1293</td><td>3</td><td>7</td></tr>",
                            "<tr><td>58</td><td>1307</td><td>6</td><td>3</td></tr>",
                            "<tr><td>58</td><td>1322</td><td>3</td><td>6</td></tr>",
                            "<tr><td>58</td><td>1451</td><td>6</td><td>3</td></tr>",
                            "<tr><td>59</td><td>1080</td><td>1</td><td>0</td></tr>",
                            "<tr><td>59</td><td>1084</td><td>2</td><td>1</td></tr>",
                            "<tr><td>59</td><td>1170</td><td>5</td><td>2</td></tr>",
                            "<tr><td>59</td><td>1191</td><td>6</td><td>5</td></tr>",
                            "<tr><td>59</td><td>1239</td><td>2</td><td>6</td></tr>",
                            "<tr><td>59</td><td>1288</td><td>3</td><td>2</td></tr>",
                            "<tr><td>59</td><td>1573</td><td>1</td><td>3</td></tr>",
                            "<tr><td>60</td><td>676</td><td>2</td><td>0</td></tr>",
                            "<tr><td>61</td><td>701</td><td>2</td><td>0</td></tr>",
                            "<tr><td>61</td><td>756</td><td>6</td><td>2</td></tr>",
                            "<tr><td>61</td><td>1148</td><td>3</td><td>6</td></tr>",
                            "<tr><td>61</td><td>1218</td><td>2</td><td>3</td></tr>",
                            "<tr><td>61</td><td>1496</td><td>7</td><td>2</td></tr>",
                            "<tr><td>62</td><td>936</td><td>3</td><td>0</td></tr>",
                            "<tr><td>62</td><td>938</td><td>1</td><td>3</td></tr>",
                            "<tr><td>62</td><td>702</td><td>5</td><td>1</td></tr>",
                            "<tr><td>62</td><td>1081</td><td>7</td><td>5</td></tr>",
                            "<tr><td>62</td><td>1426</td><td>4</td><td>7</td></tr>",
                            "<tr><td>63</td><td>625</td><td>3</td><td>0</td></tr>",
                            "<tr><td>63</td><td>891</td><td>6</td><td>3</td></tr>",
                            "<tr><td>63</td><td>769</td><td>5</td><td>6</td></tr>",
                            "<tr><td>63</td><td>845</td><td>1</td><td>5</td></tr>",
                            "<tr><td>64</td><td>875</td><td>2</td><td>0</td></tr>",
                            "<tr><td>64</td><td>1122</td><td>4</td><td>2</td></tr>",
                            "<tr><td>64</td><td>1233</td><td>7</td><td>4</td></tr>",
                            "<tr><td>64</td><td>1446</td><td>6</td><td>7</td></tr>",
                            "<tr><td>64</td><td>1465</td><td>4</td><td>6</td></tr>",
                            "<tr><td>64</td><td>1582</td><td>1</td><td>4</td></tr>",
                            "<tr><td>65</td><td>650</td><td>6</td><td>0</td></tr>",
                            "<tr><td>66</td><td>950</td><td>3</td><td>0</td></tr>",
                            "<tr><td>66</td><td>736</td><td>3</td><td>3</td></tr>",
                            "<tr><td>66</td><td>1234</td><td>3</td><td>3</td></tr>",
                            "<tr><td>66</td><td>1264</td><td>4</td><td>3</td></tr>",
                            "<tr><td>67</td><td>638</td><td>5</td><td>0</td></tr>",
                            "<tr><td>67</td><td>645</td><td>6</td><td>5</td></tr>",
                            "<tr><td>67</td><td>874</td><td>6</td><td>6</td></tr>",
                            "<tr><td>67</td><td>1382</td><td>1</td><td>6</td></tr>",
                            "<tr><td>67</td><td>1580</td><td>5</td><td>1</td></tr>",
                            "<tr><td>67</td><td>1584</td><td>1</td><td>5</td></tr>",
                            "<tr><td>68</td><td>563</td><td>5</td><td>0</td></tr>",
                            "<tr><td>68</td><td>1027</td><td>7</td><td>5</td></tr>",
                            "<tr><td>68</td><td>1324</td><td>4</td><td>7</td></tr>",
                            "<tr><td>69</td><td>885</td><td>1</td><td>0</td></tr>",
                            "<tr><td>69</td><td>1055</td><td>5</td><td>1</td></tr>",
                            "<tr><td>69</td><td>1225</td><td>5</td><td>5</td></tr>",
                            "<tr><td>69</td><td>1246</td><td>7</td><td>5</td></tr>",
                            "<tr><td>70</td><td>585</td><td>5</td><td>0</td></tr>",
                            "<tr><td>70</td><td>860</td><td>2</td><td>5</td></tr>",
                            "<tr><td>70</td><td>1006</td><td>3</td><td>2</td></tr>",
                            "<tr><td>70</td><td>704</td><td>3</td><td>3</td></tr>",
                            "<tr><td>70</td><td>814</td><td>3</td><td>3</td></tr>",
                            "<tr><td>70</td><td>1092</td><td>3</td><td>3</td></tr>",
                            "<tr><td>70</td><td>1126</td><td>3</td><td>3</td></tr>",
                            "<tr><td>70</td><td>1325</td><td>7</td><td>3</td></tr>",
                            "<tr><td>70</td><td>1333</td><td>6</td><td>7</td></tr>",
                            "<tr><td>70</td><td>1365</td><td>3</td><td>6</td></tr>",
                            "<tr><td>70</td><td>1457</td><td>7</td><td>3</td></tr>",
                            "<tr><td>71</td><td>1009</td><td>1</td><td>0</td></tr>",
                            "<tr><td>71</td><td>681</td><td>3</td><td>1</td></tr>",
                            "<tr><td>71</td><td>712</td><td>1</td><td>3</td></tr>",
                            "<tr><td>72</td><td>902</td><td>5</td><td>0</td></tr>",
                            "<tr><td>72</td><td>961</td><td>6</td><td>5</td></tr>",
                            "<tr><td>72</td><td>1318</td><td>2</td><td>6</td></tr>",
                            "<tr><td>72</td><td>1396</td><td>3</td><td>2</td></tr>",
                            "<tr><td>73</td><td>1000</td><td>4</td><td>0</td></tr>",
                            "<tr><td>73</td><td>714</td><td>7</td><td>4</td></tr>",
                            "<tr><td>73</td><td>1159</td><td>5</td><td>7</td></tr>",
                            "<tr><td>73</td><td>1331</td><td>4</td><td>5</td></tr>",
                            "<tr><td>74</td><td>595</td><td>7</td><td>0</td></tr>",
                            "<tr><td>74</td><td>877</td><td>4</td><td>7</td></tr>",
                            "<tr><td>74</td><td>940</td><td>5</td><td>4</td></tr>",
                            "<tr><td>74</td><td>963</td><td>1</td><td>5</td></tr>",
                            "<tr><td>74</td><td>797</td><td>5</td><td>1</td></tr>",
                            "<tr><td>74</td><td>830</td><td>1</td><td>5</td></tr>",
                            "<tr><td>74</td><td>847</td><td>3</td><td>1</td></tr>",
                            "<tr><td>74</td><td>1093</td><td>6</td><td>3</td></tr>",
                            "<tr><td>74</td><td>1179</td><td>7</td><td>6</td></tr>",
                            "<tr><td>75</td><td>1013</td><td>5</td><td>0</td></tr>",
                            "<tr><td>75</td><td>1412</td><td>2</td><td>5</td></tr>",
                            "<tr><td>75</td><td>1458</td><td>1</td><td>2</td></tr>",
                            "<tr><td>76</td><td>976</td><td>2</td><td>0</td></tr>",
                            "<tr><td>76</td><td>683</td><td>7</td><td>2</td></tr>",
                            "<tr><td>76</td><td>1557</td><td>3</td><td>7</td></tr>",
                            "<tr><td>77</td><td>593</td><td>3</td><td>0</td></tr>",
                            "<tr><td>77</td><td>982</td><td>3</td><td>3</td></tr>",
                            "<tr><td>77</td><td>698</td><td>4</td><td>3</td></tr>",
                            "<tr><td>77</td><td>1104</td><td>1</td><td>4</td></tr>",
                            "<tr><td>77</td><td>1439</td><td>6</td><td>1</td></tr>",
                            "<tr><td>77</td><td>1461</td><td>4</td><td>6</td></tr>",
                            "<tr><td>78</td><td>568</td><td>1</td><td>0</td></tr>",
                            "<tr><td>78</td><td>646</td><td>3</td><td>1</td></tr>",
                            "<tr><td>78</td><td>700</td><td>5</td><td>3</td></tr>",
                            "<tr><td>78</td><td>1268</td><td>2</td><td>5</td></tr>",
                            "<tr><td>78</td><td>1281</td><td>3</td><td>2</td></tr>",
                            "<tr><td>78</td><td>1577</td><td>7</td><td>3</td></tr>",
                            "<tr><td>79</td><td>583</td><td>6</td><td>0</td></tr>",
                            "<tr><td>79</td><td>1054</td><td>1</td><td>6</td></tr>",
                            "<tr><td>79</td><td>1229</td><td>7</td><td>1</td></tr>",
                            "<tr><td>79</td><td>1345</td><td>3</td><td>7</td></tr>",
                            "<tr><td>79</td><td>1447</td><td>4</td><td>3</td></tr>",
                            "<tr><td>80</td><td>887</td><td>6</td><td>0</td></tr>",
                            "<tr><td>80</td><td>929</td><td>2</td><td>6</td></tr>",
                            "<tr><td>80</td><td>983</td><td>6</td><td>2</td></tr>",
                            "<tr><td>80</td><td>667</td><td>6</td><td>6</td></tr>",
                            "<tr><td>80</td><td>1071</td><td>4</td><td>6</td></tr>",
                            "<tr><td>80</td><td>1279</td><td>5</td><td>4</td></tr>",
                            "<tr><td>80</td><td>1367</td><td>3</td><td>5</td></tr>",
                            "<tr><td>81</td><td>1366</td><td>5</td><td>0</td></tr>",
                            "<tr><td>81</td><td>1443</td><td>7</td><td>5</td></tr>",
                            "<tr><td>81</td><td>1464</td><td>7</td><td>7</td></tr>",
                            "<tr><td>81</td><td>1506</td><td>3</td><td>7</td></tr>",
                            "<tr><td>81</td><td>1562</td><td>3</td><td>3</td></tr>",
                            "<tr><td>82</td><td>862</td><td>4</td><td>0</td></tr>",
                            "<tr><td>82</td><td>871</td><td>5</td><td>4</td></tr>",
                            "<tr><td>82</td><td>997</td><td>6</td><td>5</td></tr>",
                            "<tr><td>82</td><td>1277</td><td>5</td><td>6</td></tr>",
                            "<tr><td>82</td><td>1341</td><td>2</td><td>5</td></tr>",
                            "<tr><td>82</td><td>1406</td><td>1</td><td>2</td></tr>",
                            "<tr><td>83</td><td>572</td><td>7</td><td>0</td></tr>",
                            "<tr><td>83</td><td>869</td><td>6</td><td>7</td></tr>",
                            "<tr><td>83</td><td>878</td><td>6</td><td>6</td></tr>",
                            "<tr><td>83</td><td>995</td><td>5</td><td>6</td></tr>",
                            "<tr><td>83</td><td>674</td><td>4</td><td>5</td></tr>",
                            "<tr><td>83</td><td>798</td><td>4</td><td>4</td></tr>",
                            "<tr><td>83</td><td>1119</td><td>6</td><td>4</td></tr>",
                            "<tr><td>83</td><td>1379</td><td>7</td><td>6</td></tr>",
                            "<tr><td>84</td><td>954</td><td>5</td><td>0</td></tr>",
                            "<tr><td>84</td><td>819</td><td>2</td><td>5</td></tr>",
                            "<tr><td>84</td><td>1376</td><td>5</td><td>2</td></tr>",
                            "<tr><td>84</td><td>1384</td><td>7</td><td>5</td></tr>",
                            "<tr><td>85</td><td>647</td><td>3</td><td>0</td></tr>",
                            "<tr><td>85</td><td>1059</td><td>3</td><td>3</td></tr>",
                            "<tr><td>85</td><td>1320</td><td>1</td><td>3</td></tr>",
                            "<tr><td>85</td><td>1513</td><td>7</td><td>1</td></tr>",
                            "<tr><td>86</td><td>859</td><td>1</td><td>0</td></tr>",
                            "<tr><td>86</td><td>1057</td><td>5</td><td>1</td></tr>",
                            "<tr><td>86</td><td>1079</td><td>4</td><td>5</td></tr>",
                            "<tr><td>86</td><td>1108</td><td>1</td><td>4</td></tr>",
                            "<tr><td>86</td><td>1453</td><td>1</td><td>1</td></tr>",
                            "<tr><td>87</td><td>558</td><td>4</td><td>0</td></tr>",
                            "<tr><td>87</td><td>844</td><td>1</td><td>4</td></tr>",
                            "<tr><td>87</td><td>1103</td><td>3</td><td>1</td></tr>",
                            "<tr><td>87</td><td>1349</td><td>5</td><td>3</td></tr>",
                            "<tr><td>87</td><td>1456</td><td>5</td><td>5</td></tr>",
                            "<tr><td>88</td><td>866</td><td>2</td><td>0</td></tr>",
                            "<tr><td>88</td><td>757</td><td>7</td><td>2</td></tr>",
                            "<tr><td>88</td><td>1196</td><td>3</td><td>7</td></tr>",
                            "<tr><td>88</td><td>1273</td><td>7</td><td>3</td></tr>",
                            "<tr><td>88</td><td>1300</td><td>3</td><td>7</td></tr>",
                            "<tr><td>88</td><td>1359</td><td>2</td><td>3</td></tr>",
                            "<tr><td>88</td><td>1548</td><td>7</td><td>2</td></tr>",
                            "<tr><td>88</td><td>1575</td><td>6</td><td>7</td></tr>",
                            "<tr><td>89</td><td>817</td><td>3</td><td>0</td></tr>",
                            "<tr><td>89</td><td>1037</td><td>7</td><td>3</td></tr>",
                            "<tr><td>89</td><td>1101</td><td>5</td><td>7</td></tr>",
                            "<tr><td>89</td><td>1189</td><td>6</td><td>5</td></tr>",
                            "<tr><td>89</td><td>1253</td><td>2</td><td>6</td></tr>",
                            "<tr><td>89</td><td>1269</td><td>2</td><td>2</td></tr>",
                            "<tr><td>89</td><td>1399</td><td>2</td><td>2</td></tr>",
                            "<tr><td>89</td><td>1521</td><td>7</td><td>2</td></tr>",
                            "<tr><td>90</td><td>729</td><td>2</td><td>0</td></tr>",
                            "<tr><td>90</td><td>1174</td><td>7</td><td>2</td></tr>",
                            "<tr><td>90</td><td>1299</td><td>6</td><td>7</td></tr>",
                            "<tr><td>90</td><td>1405</td><td>5</td><td>6</td></tr>",
                            "<tr><td>91</td><td>636</td><td>6</td><td>0</td></tr>",
                            "<tr><td>91</td><td>732</td><td>4</td><td>6</td></tr>",
                            "<tr><td>91</td><td>1213</td><td>3</td><td>4</td></tr>",
                            "<tr><td>91</td><td>1397</td><td>4</td><td>3</td></tr>",
                            "<tr><td>92</td><td>942</td><td>6</td><td>0</td></tr>",
                            "<tr><td>92</td><td>1016</td><td>2</td><td>6</td></tr>",
                            "<tr><td>92</td><td>809</td><td>3</td><td>2</td></tr>",
                            "<tr><td>92</td><td>841</td><td>6</td><td>3</td></tr>",
                            "<tr><td>92</td><td>1527</td><td>2</td><td>6</td></tr>",
                            "<tr><td>92</td><td>1555</td><td>4</td><td>2</td></tr>",
                            "<tr><td>93</td><td>741</td><td>7</td><td>0</td></tr>",
                            "<tr><td>93</td><td>1169</td><td>4</td><td>7</td></tr>",
                            "<tr><td>93</td><td>1217</td><td>1</td><td>4</td></tr>",
                            "<tr><td>93</td><td>1355</td><td>2</td><td>1</td></tr>",
                            "<tr><td>93</td><td>1391</td><td>4</td><td>2</td></tr>",
                            "<tr><td>94</td><td>616</td><td>4</td><td>0</td></tr>",
                            "<tr><td>94</td><td>975</td><td>5</td><td>4</td></tr>",
                            "<tr><td>94</td><td>665</td><td>7</td><td>5</td></tr>",
                            "<tr><td>94</td><td>727</td><td>3</td><td>7</td></tr>",
                            "<tr><td>94</td><td>1241</td><td>7</td><td>3</td></tr>",
                            "<tr><td>94</td><td>1305</td><td>2</td><td>7</td></tr>",
                            "<tr><td>94</td><td>1312</td><td>3</td><td>2</td></tr>",
                            "<tr><td>94</td><td>1368</td><td>1</td><td>3</td></tr>",
                            "<tr><td>94</td><td>1518</td><td>2</td><td>1</td></tr>",
                            "<tr><td>94</td><td>1564</td><td>7</td><td>2</td></tr>",
                            "<tr><td>95</td><td>656</td><td>7</td><td>0</td></tr>",
                            "<tr><td>95</td><td>1048</td><td>3</td><td>7</td></tr>",
                            "<tr><td>95</td><td>1097</td><td>4</td><td>3</td></tr>",
                            "<tr><td>95</td><td>1543</td><td>7</td><td>4</td></tr>",
                            "<tr><td>96</td><td>607</td><td>4</td><td>0</td></tr>",
                            "<tr><td>96</td><td>623</td><td>7</td><td>4</td></tr>",
                            "<tr><td>96</td><td>671</td><td>4</td><td>7</td></tr>",
                            "<tr><td>96</td><td>780</td><td>1</td><td>4</td></tr>",
                            "<tr><td>96</td><td>1378</td><td>3</td><td>1</td></tr>",
                            "<tr><td>96</td><td>1438</td><td>2</td><td>3</td></tr>",
                            "<tr><td>96</td><td>1569</td><td>7</td><td>2</td></tr>",
                            "<tr><td>97</td><td>635</td><td>3</td><td>0</td></tr>",
                            "<tr><td>97</td><td>726</td><td>4</td><td>3</td></tr>",
                            "<tr><td>97</td><td>718</td><td>7</td><td>4</td></tr>",
                            "<tr><td>97</td><td>836</td><td>2</td><td>7</td></tr>",
                            "<tr><td>97</td><td>1395</td><td>1</td><td>2</td></tr>",
                            "<tr><td>97</td><td>1417</td><td>7</td><td>1</td></tr>",
                            "<tr><td>97</td><td>1528</td><td>2</td><td>7</td></tr>",
                            "<tr><td>98</td><td>631</td><td>6</td><td>0</td></tr>",
                            "<tr><td>98</td><td>884</td><td>5</td><td>6</td></tr>",
                            "<tr><td>98</td><td>1050</td><td>6</td><td>5</td></tr>",
                            "<tr><td>98</td><td>1402</td><td>2</td><td>6</td></tr>",
                            "<tr><td>99</td><td>632</td><td>1</td><td>0</td></tr>",
                            "<tr><td>99</td><td>691</td><td>5</td><td>1</td></tr>",
                            "<tr><td>99</td><td>1072</td><td>1</td><td>5</td></tr>",
                            "<tr><td>99</td><td>1408</td><td>1</td><td>1</td></tr>",
                            "<tr><td>99</td><td>1486</td><td>5</td><td>1</td></tr>",
                            "<tr><td>100</td><td>597</td><td>1</td><td>0</td></tr>",
                            "<tr><td>100</td><td>637</td><td>5</td><td>1</td></tr>",
                            "<tr><td>100</td><td>1315</td><td>5</td><td>5</td></tr>",
                            "<tr><td>100</td><td>1482</td><td>7</td><td>5</td></tr>",
                            "<tr><td>101</td><td>715</td><td>3</td><td>0</td></tr>",
                            "<tr><td>101</td><td>1332</td><td>6</td><td>3</td></tr>",
                            "<tr><td>101</td><td>1516</td><td>4</td><td>6</td></tr>",
                            "<tr><td>102</td><td>689</td><td>5</td><td>0</td></tr>",
                            "<tr><td>102</td><td>1343</td><td>2</td><td>5</td></tr>",
                            "<tr><td>103</td><td>972</td><td>2</td><td>0</td></tr>",
                            "<tr><td>103</td><td>992</td><td>7</td><td>2</td></tr>",
                            "<tr><td>103</td><td>1398</td><td>1</td><td>7</td></tr>",
                            "<tr><td>103</td><td>1485</td><td>4</td><td>1</td></tr>",
                            "<tr><td>104</td><td>837</td><td>4</td><td>0</td></tr>",
                            "<tr><td>104</td><td>1180</td><td>1</td><td>4</td></tr>",
                            "<tr><td>104</td><td>1522</td><td>2</td><td>1</td></tr>",
                            "<tr><td>104</td><td>1532</td><td>3</td><td>2</td></tr>",
                            "<tr><td>105</td><td>618</td><td>1</td><td>0</td></tr>",
                            "<tr><td>105</td><td>1525</td><td>5</td><td>1</td></tr>",
                            "<tr><td>106</td><td>610</td><td>3</td><td>0</td></tr>",
                            "<tr><td>106</td><td>708</td><td>7</td><td>3</td></tr>",
                            "<tr><td>106</td><td>1228</td><td>7</td><td>7</td></tr>",
                            "<tr><td>106</td><td>1271</td><td>5</td><td>7</td></tr>",
                            "<tr><td>106</td><td>1372</td><td>7</td><td>5</td></tr>",
                            "<tr><td>106</td><td>1510</td><td>6</td><td>7</td></tr>",
                            "<tr><td>107</td><td>586</td><td>6</td><td>0</td></tr>",
                            "<tr><td>107</td><td>1250</td><td>4</td><td>6</td></tr>",
                            "<tr><td>107</td><td>1354</td><td>1</td><td>4</td></tr>",
                            "<tr><td>107</td><td>1452</td><td>6</td><td>1</td></tr>",
                            "<tr><td>107</td><td>1494</td><td>2</td><td>6</td></tr>",
                            "<tr><td>108</td><td>1102</td><td>1</td><td>0</td></tr>",
                            "<tr><td>108</td><td>1392</td><td>6</td><td>1</td></tr>",
                            "<tr><td>109</td><td>614</td><td>4</td><td>0</td></tr>",
                            "<tr><td>109</td><td>621</td><td>7</td><td>4</td></tr>",
                            "<tr><td>109</td><td>654</td><td>5</td><td>7</td></tr>",
                            "<tr><td>109</td><td>810</td><td>2</td><td>5</td></tr>",
                            "<tr><td>109</td><td>1083</td><td>1</td><td>2</td></tr>",
                            "<tr><td>109</td><td>1298</td><td>4</td><td>1</td></tr>",
                            "<tr><td>109</td><td>1560</td><td>1</td><td>4</td></tr>",
                            "<tr><td>110</td><td>931</td><td>5</td><td>0</td></tr>",
                            "<tr><td>110</td><td>964</td><td>6</td><td>5</td></tr>",
                            "<tr><td>110</td><td>685</td><td>1</td><td>6</td></tr>",
                            "<tr><td>110</td><td>1041</td><td>3</td><td>1</td></tr>",
                            "<tr><td>110</td><td>1109</td><td>5</td><td>3</td></tr>",
                            "<tr><td>110</td><td>1162</td><td>2</td><td>5</td></tr>",
                            "<tr><td>110</td><td>1424</td><td>1</td><td>2</td></tr>",
                            "<tr><td>110</td><td>1489</td><td>6</td><td>1</td></tr>",
                            "<tr><td>111</td><td>605</td><td>7</td><td>0</td></tr>",
                            "<tr><td>111</td><td>959</td><td>7</td><td>7</td></tr>",
                            "<tr><td>111</td><td>786</td><td>4</td><td>7</td></tr>",
                            "<tr><td>111</td><td>1296</td><td>3</td><td>4</td></tr>",
                            "<tr><td>111</td><td>1353</td><td>5</td><td>3</td></tr>",
                            "<tr><td>112</td><td>921</td><td>1</td><td>0</td></tr>",
                            "<tr><td>112</td><td>776</td><td>4</td><td>1</td></tr>",
                            "<tr><td>112</td><td>801</td><td>5</td><td>4</td></tr>",
                            "<tr><td>112</td><td>1124</td><td>6</td><td>5</td></tr>",
                            "<tr><td>112</td><td>1530</td><td>6</td><td>6</td></tr>",
                            "<tr><td>113</td><td>1029</td><td>5</td><td>0</td></tr>",
                            "<tr><td>113</td><td>1085</td><td>4</td><td>5</td></tr>",
                            "<tr><td>113</td><td>1263</td><td>1</td><td>4</td></tr>",
                            "<tr><td>113</td><td>1495</td><td>7</td><td>1</td></tr>",
                            "<tr><td>113</td><td>1499</td><td>2</td><td>7</td></tr>",
                            "<tr><td>114</td><td>966</td><td>6</td><td>0</td></tr>",
                            "<tr><td>114</td><td>737</td><td>2</td><td>6</td></tr>",
                            "<tr><td>114</td><td>827</td><td>7</td><td>2</td></tr>",
                            "<tr><td>114</td><td>1540</td><td>3</td><td>7</td></tr>",
                            "<tr><td>115</td><td>596</td><td>7</td><td>0</td></tr>",
                            "<tr><td>115</td><td>943</td><td>7</td><td>7</td></tr>",
                            "<tr><td>115</td><td>1121</td><td>7</td><td>7</td></tr>",
                            "<tr><td>115</td><td>1154</td><td>4</td><td>7</td></tr>",
                            "<tr><td>115</td><td>1352</td><td>3</td><td>4</td></tr>",
                            "<tr><td>115</td><td>1554</td><td>3</td><td>3</td></tr>",
                            "<tr><td>115</td><td>1566</td><td>1</td><td>3</td></tr>",
                            "<tr><td>116</td><td>1455</td><td>2</td><td>0</td></tr>",
                            "<tr><td>116</td><td>1501</td><td>4</td><td>2</td></tr>",
                            "<tr><td>117</td><td>612</td><td>2</td><td>0</td></tr>",
                            "<tr><td>117</td><td>617</td><td>3</td><td>2</td></tr>",
                            "<tr><td>117</td><td>953</td><td>5</td><td>3</td></tr>",
                            "<tr><td>117</td><td>962</td><td>4</td><td>5</td></tr>",
                            "<tr><td>117</td><td>1002</td><td>1</td><td>4</td></tr>",
                            "<tr><td>117</td><td>1192</td><td>2</td><td>1</td></tr>",
                            "<tr><td>117</td><td>1247</td><td>3</td><td>2</td></tr>",
                            "<tr><td>117</td><td>1468</td><td>7</td><td>3</td></tr>",
                            "<tr><td>118</td><td>864</td><td>6</td><td>0</td></tr>",
                            "<tr><td>118</td><td>994</td><td>7</td><td>6</td></tr>",
                            "<tr><td>118</td><td>996</td><td>3</td><td>7</td></tr>",
                            "<tr><td>118</td><td>716</td><td>1</td><td>3</td></tr>",
                            "<tr><td>118</td><td>1374</td><td>5</td><td>1</td></tr>",
                            "<tr><td>118</td><td>1472</td><td>6</td><td>5</td></tr>",
                            "<tr><td>118</td><td>1481</td><td>3</td><td>6</td></tr>",
                            "<tr><td>119</td><td>1026</td><td>3</td><td>0</td></tr>",
                            "<tr><td>119</td><td>706</td><td>2</td><td>3</td></tr>",
                            "<tr><td>119</td><td>722</td><td>1</td><td>2</td></tr>",
                            "<tr><td>119</td><td>1413</td><td>3</td><td>1</td></tr>",
                            "<tr><td>119</td><td>1488</td><td>3</td><td>3</td></tr>",
                            "<tr><td>120</td><td>998</td><td>3</td><td>0</td></tr>",
                            "<tr><td>120</td><td>762</td><td>3</td><td>3</td></tr>",
                            "<tr><td>120</td><td>1089</td><td>6</td><td>3</td></tr>",
                            "<tr><td>120</td><td>1339</td><td>6</td><td>6</td></tr>",
                            "<tr><td>120</td><td>1483</td><td>1</td><td>6</td></tr>",
                            "<tr><td>120</td><td>1493</td><td>7</td><td>1</td></tr>",
                            "<tr><td>121</td><td>858</td><td>5</td><td>0</td></tr>",
                            "<tr><td>121</td><td>735</td><td>6</td><td>5</td></tr>",
                            "<tr><td>121</td><td>739</td><td>6</td><td>6</td></tr>",
                            "<tr><td>121</td><td>1049</td><td>3</td><td>6</td></tr>",
                            "<tr><td>121</td><td>1128</td><td>4</td><td>3</td></tr>",
                            "<tr><td>121</td><td>1215</td><td>4</td><td>4</td></tr>",
                            "<tr><td>121</td><td>1373</td><td>5</td><td>4</td></tr>",
                            "<tr><td>121</td><td>1393</td><td>6</td><td>5</td></tr>",
                            "<tr><td>122</td><td>1007</td><td>2</td><td>0</td></tr>",
                            "<tr><td>122</td><td>1036</td><td>2</td><td>2</td></tr>",
                            "<tr><td>122</td><td>1062</td><td>3</td><td>2</td></tr>",
                            "<tr><td>122</td><td>1166</td><td>4</td><td>3</td></tr>",
                            "<tr><td>122</td><td>1209</td><td>1</td><td>4</td></tr>",
                            "<tr><td>122</td><td>1245</td><td>2</td><td>1</td></tr>",
                            "<tr><td>122</td><td>1337</td><td>2</td><td>2</td></tr>",
                            "<tr><td>122</td><td>1385</td><td>5</td><td>2</td></tr>",
                            "<tr><td>122</td><td>1440</td><td>3</td><td>5</td></tr>",
                            "<tr><td>123</td><td>587</td><td>7</td><td>0</td></tr>",
                            "<tr><td>123</td><td>923</td><td>4</td><td>7</td></tr>",
                            "<tr><td>123</td><td>967</td><td>5</td><td>4</td></tr>",
                            "<tr><td>123</td><td>1223</td><td>1</td><td>5</td></tr>",
                            "<tr><td>123</td><td>1282</td><td>6</td><td>1</td></tr>",
                            "<tr><td>124</td><td>861</td><td>1</td><td>0</td></tr>",
                            "<tr><td>124</td><td>1210</td><td>4</td><td>1</td></tr>",
                            "<tr><td>124</td><td>1330</td><td>7</td><td>4</td></tr>",
                            "<tr><td>124</td><td>1403</td><td>6</td><td>7</td></tr>",
                            "<tr><td>124</td><td>1419</td><td>3</td><td>6</td></tr>",
                            "<tr><td>124</td><td>1531</td><td>6</td><td>3</td></tr>",
                            "<tr><td>125</td><td>576</td><td>1</td><td>0</td></tr>",
                            "<tr><td>126</td><td>754</td><td>4</td><td>0</td></tr>",
                            "<tr><td>126</td><td>806</td><td>6</td><td>4</td></tr>",
                            "<tr><td>126</td><td>1134</td><td>1</td><td>6</td></tr>",
                            "<tr><td>126</td><td>1364</td><td>6</td><td>1</td></tr>",
                            "<tr><td>126</td><td>1428</td><td>7</td><td>6</td></tr>",
                            "<tr><td>126</td><td>1500</td><td>4</td><td>7</td></tr>",
                            "<tr><td>127</td><td>643</td><td>2</td><td>0</td></tr>",
                            "<tr><td>127</td><td>853</td><td>5</td><td>2</td></tr>",
                            "<tr><td>127</td><td>879</td><td>2</td><td>5</td></tr>",
                            "<tr><td>127</td><td>1034</td><td>6</td><td>2</td></tr>",
                            "<tr><td>127</td><td>1226</td><td>5</td><td>6</td></tr>",
                            "<tr><td>127</td><td>1286</td><td>1</td><td>5</td></tr>",
                            "<tr><td>127</td><td>1579</td><td>5</td><td>1</td></tr>",
                            "<tr><td>128</td><td>717</td><td>2</td><td>0</td></tr>",
                            "<tr><td>128</td><td>815</td><td>1</td><td>2</td></tr>",
                            "<tr><td>128</td><td>1290</td><td>1</td><td>1</td></tr>",
                            "<tr><td>128</td><td>1574</td><td>1</td><td>1</td></tr>",
                            "<tr><td>128</td><td>1583</td><td>4</td><td>1</td></tr>",
                            "<tr><td>129</td><td>723</td><td>7</td><td>0</td></tr>",
                            "<tr><td>129</td><td>1360</td><td>6</td><td>7</td></tr>",
                            "<tr><td>129</td><td>1445</td><td>7</td><td>6</td></tr>",
                            "<tr><td>129</td><td>1509</td><td>6</td><td>7</td></tr>",
                            "<tr><td>130</td><td>580</td><td>3</td><td>0</td></tr>",
                            "<tr><td>130</td><td>613</td><td>3</td><td>3</td></tr>",
                            "<tr><td>130</td><td>910</td><td>2</td><td>3</td></tr>",
                            "<tr><td>130</td><td>779</td><td>6</td><td>2</td></tr>",
                            "<tr><td>130</td><td>1040</td><td>1</td><td>6</td></tr>",
                            "<tr><td>130</td><td>1475</td><td>7</td><td>1</td></tr>",
                            "<tr><td>131</td><td>559</td><td>2</td><td>0</td></tr>",
                            "<tr><td>131</td><td>655</td><td>1</td><td>2</td></tr>",
                            "<tr><td>131</td><td>881</td><td>6</td><td>1</td></tr>",
                            "<tr><td>131</td><td>760</td><td>4</td><td>6</td></tr>",
                            "<tr><td>131</td><td>1474</td><td>5</td><td>4</td></tr>",
                            "<tr><td>132</td><td>619</td><td>7</td><td>0</td></tr>",
                            "<tr><td>132</td><td>999</td><td>6</td><td>7</td></tr>",
                            "<tr><td>132</td><td>1090</td><td>7</td><td>6</td></tr>",
                            "<tr><td>132</td><td>1111</td><td>3</td><td>7</td></tr>",
                            "<tr><td>132</td><td>1301</td><td>2</td><td>3</td></tr>",
                            "<tr><td>132</td><td>1519</td><td>2</td><td>2</td></tr>",
                            "<tr><td>133</td><td>909</td><td>4</td><td>0</td></tr>",
                            "<tr><td>133</td><td>988</td><td>3</td><td>4</td></tr>",
                            "<tr><td>133</td><td>1149</td><td>7</td><td>3</td></tr>",
                            "<tr><td>133</td><td>1306</td><td>3</td><td>7</td></tr>",
                            "<tr><td>133</td><td>1363</td><td>5</td><td>3</td></tr>",
                            "<tr><td>133</td><td>1409</td><td>1</td><td>5</td></tr>",
                            "<tr><td>134</td><td>1004</td><td>5</td><td>0</td></tr>",
                            "<tr><td>134</td><td>1024</td><td>1</td><td>5</td></tr>",
                            "<tr><td>134</td><td>1045</td><td>2</td><td>1</td></tr>",
                            "<tr><td>134</td><td>1178</td><td>7</td><td>2</td></tr>",
                            "<tr><td>134</td><td>1219</td><td>6</td><td>7</td></tr>",
                            "<tr><td>134</td><td>1535</td><td>7</td><td>6</td></tr>",
                            "<tr><td>135</td><td>724</td><td>6</td><td>0</td></tr>",
                            "<tr><td>135</td><td>849</td><td>7</td><td>6</td></tr>",
                            "<tr><td>135</td><td>1289</td><td>3</td><td>7</td></tr>",
                            "<tr><td>136</td><td>584</td><td>2</td><td>0</td></tr>",
                            "<tr><td>136</td><td>661</td><td>5</td><td>2</td></tr>",
                            "<tr><td>136</td><td>1046</td><td>4</td><td>5</td></tr>",
                            "<tr><td>137</td><td>582</td><td>3</td><td>0</td></tr>",
                            "<tr><td>137</td><td>649</td><td>5</td><td>3</td></tr>",
                            "<tr><td>137</td><td>657</td><td>6</td><td>5</td></tr>",
                            "<tr><td>137</td><td>1014</td><td>1</td><td>6</td></tr>",
                            "<tr><td>137</td><td>1201</td><td>6</td><td>1</td></tr>",
                            "<tr><td>137</td><td>1280</td><td>3</td><td>6</td></tr>",
                            "<tr><td>138</td><td>768</td><td>6</td><td>0</td></tr>",
                            "<tr><td>138</td><td>796</td><td>4</td><td>6</td></tr>",
                            "<tr><td>138</td><td>1256</td><td>4</td><td>4</td></tr>",
                            "<tr><td>138</td><td>1283</td><td>2</td><td>4</td></tr>",
                            "<tr><td>138</td><td>1294</td><td>5</td><td>2</td></tr>",
                            "<tr><td>138</td><td>1358</td><td>7</td><td>5</td></tr>",
                            "<tr><td>138</td><td>1370</td><td>5</td><td>7</td></tr>",
                            "<tr><td>139</td><td>579</td><td>2</td><td>0</td></tr>",
                            "<tr><td>139</td><td>745</td><td>1</td><td>2</td></tr>",
                            "<tr><td>139</td><td>751</td><td>4</td><td>1</td></tr>",
                            "<tr><td>139</td><td>1042</td><td>2</td><td>4</td></tr>",
                            "<tr><td>139</td><td>1064</td><td>6</td><td>2</td></tr>",
                            "<tr><td>139</td><td>1433</td><td>6</td><td>6</td></tr>",
                            "<tr><td>139</td><td>1450</td><td>7</td><td>6</td></tr>",
                            "<tr><td>140</td><td>915</td><td>2</td><td>0</td></tr>",
                            "<tr><td>140</td><td>733</td><td>1</td><td>2</td></tr>",
                            "<tr><td>140</td><td>1098</td><td>2</td><td>1</td></tr>",
                            "<tr><td>140</td><td>1156</td><td>3</td><td>2</td></tr>",
                            "<tr><td>140</td><td>1259</td><td>7</td><td>3</td></tr>",
                            "<tr><td>140</td><td>1357</td><td>4</td><td>7</td></tr>",
                            "<tr><td>140</td><td>1361</td><td>3</td><td>4</td></tr>",
                            "<tr><td>140</td><td>1371</td><td>1</td><td>3</td></tr>",
                            "<tr><td>141</td><td>565</td><td>6</td><td>0</td></tr>",
                            "<tr><td>141</td><td>908</td><td>2</td><td>6</td></tr>",
                            "<tr><td>141</td><td>761</td><td>3</td><td>2</td></tr>",
                            "<tr><td>141</td><td>784</td><td>7</td><td>3</td></tr>",
                            "<tr><td>141</td><td>1254</td><td>4</td><td>7</td></tr>",
                            "<tr><td>141</td><td>1401</td><td>6</td><td>4</td></tr>",
                            "<tr><td>142</td><td>1369</td><td>6</td><td>0</td></tr>",
                            "<tr><td>142</td><td>1545</td><td>3</td><td>6</td></tr>",
                            "<tr><td>143</td><td>980</td><td>3</td><td>0</td></tr>",
                            "<tr><td>143</td><td>1155</td><td>7</td><td>3</td></tr>",
                            "<tr><td>143</td><td>1193</td><td>6</td><td>7</td></tr>",
                            "<tr><td>143</td><td>1222</td><td>2</td><td>6</td></tr>",
                            "<tr><td>143</td><td>1313</td><td>4</td><td>2</td></tr>",
                            "<tr><td>143</td><td>1394</td><td>3</td><td>4</td></tr>",
                            "<tr><td>143</td><td>1448</td><td>6</td><td>3</td></tr>",
                            "<tr><td>144</td><td>581</td><td>4</td><td>0</td></tr>",
                            "<tr><td>144</td><td>1087</td><td>2</td><td>4</td></tr>",
                            "<tr><td>144</td><td>1199</td><td>7</td><td>2</td></tr>",
                            "<tr><td>144</td><td>1297</td><td>1</td><td>7</td></tr>",
                            "<tr><td>144</td><td>1572</td><td>2</td><td>1</td></tr>",
                            "<tr><td>145</td><td>703</td><td>4</td><td>0</td></tr>",
                            "<tr><td>145</td><td>1077</td><td>1</td><td>4</td></tr>",
                            "<tr><td>145</td><td>1120</td><td>1</td><td>1</td></tr>",
                            "<tr><td>145</td><td>1145</td><td>4</td><td>1</td></tr>",
                            "<tr><td>145</td><td>1338</td><td>2</td><td>4</td></tr>",
                            "<tr><td>145</td><td>1471</td><td>1</td><td>2</td></tr>",
                            "<tr><td>146</td><td>890</td><td>3</td><td>0</td></tr>",
                            "<tr><td>146</td><td>664</td><td>3</td><td>3</td></tr>",
                            "<tr><td>146</td><td>789</td><td>7</td><td>3</td></tr>",
                            "<tr><td>146</td><td>804</td><td>7</td><td>7</td></tr>",
                            "<tr><td>146</td><td>1032</td><td>5</td><td>7</td></tr>",
                            "<tr><td>146</td><td>1479</td><td>6</td><td>5</td></tr>",
                            "<tr><td>147</td><td>771</td><td>4</td><td>0</td></tr>",
                            "<tr><td>148</td><td>678</td><td>4</td><td>0</td></tr>",
                            "<tr><td>148</td><td>765</td><td>3</td><td>4</td></tr>",
                            "<tr><td>148</td><td>783</td><td>7</td><td>3</td></tr>",
                            "<tr><td>148</td><td>808</td><td>2</td><td>7</td></tr>",
                            "<tr><td>148</td><td>812</td><td>6</td><td>2</td></tr>",
                            "<tr><td>148</td><td>1578</td><td>7</td><td>6</td></tr>",
                            "<tr><td>149</td><td>591</td><td>1</td><td>0</td></tr>",
                            "<tr><td>149</td><td>652</td><td>1</td><td>1</td></tr>",
                            "<tr><td>149</td><td>833</td><td>2</td><td>1</td></tr>",
                            "<tr><td>149</td><td>834</td><td>5</td><td>2</td></tr>",
                            "<tr><td>149</td><td>843</td><td>4</td><td>5</td></tr>",
                            "<tr><td>149</td><td>1146</td><td>6</td><td>4</td></tr>",
                            "<tr><td>149</td><td>1514</td><td>5</td><td>6</td></tr>",
                            "<tr><td>150</td><td>641</td><td>3</td><td>0</td></tr>",
                            "<tr><td>150</td><td>1100</td><td>5</td><td>3</td></tr>",
                            "<tr><td>150</td><td>1105</td><td>1</td><td>5</td></tr>",
                            "<tr><td>150</td><td>1177</td><td>1</td><td>1</td></tr>",
                            "<tr><td>150</td><td>1203</td><td>4</td><td>1</td></tr>",
                            "<tr><td>150</td><td>1432</td><td>3</td><td>4</td></tr>",
                            "<tr><td>151</td><td>893</td><td>3</td><td>0</td></tr>",
                            "<tr><td>151</td><td>1058</td><td>3</td><td>3</td></tr>",
                            "<tr><td>151</td><td>1115</td><td>3</td><td>3</td></tr>",
                            "<tr><td>152</td><td>730</td><td>2</td><td>0</td></tr>",
                            "<tr><td>152</td><td>1160</td><td>7</td><td>2</td></tr>",
                            "<tr><td>152</td><td>1197</td><td>6</td><td>7</td></tr>",
                            "<tr><td>152</td><td>1558</td><td>2</td><td>6</td></tr>",
                            "<tr><td>153</td><td>594</td><td>3</td><td>0</td></tr>",
                            "<tr><td>153</td><td>969</td><td>6</td><td>3</td></tr>",
                            "<tr><td>153</td><td>1460</td><td>3</td><td>6</td></tr>",
                            "<tr><td>153</td><td>1470</td><td>5</td><td>3</td></tr>",
                            "<tr><td>153</td><td>1507</td><td>3</td><td>5</td></tr>",
                            "<tr><td>154</td><td>968</td><td>1</td><td>0</td></tr>",
                            "<tr><td>154</td><td>1061</td><td>7</td><td>1</td></tr>",
                            "<tr><td>154</td><td>1168</td><td>6</td><td>7</td></tr>",
                            "<tr><td>154</td><td>1262</td><td>1</td><td>6</td></tr>",
                            "<tr><td>154</td><td>1539</td><td>2</td><td>1</td></tr>",
                            "<tr><td>155</td><td>575</td><td>1</td><td>0</td></tr>",
                            "<tr><td>155</td><td>577</td><td>3</td><td>1</td></tr>",
                            "<tr><td>155</td><td>1112</td><td>4</td><td>3</td></tr>",
                            "<tr><td>155</td><td>1310</td><td>1</td><td>4</td></tr>",
                            "<tr><td>155</td><td>1541</td><td>1</td><td>1</td></tr>",
                            "<tr><td>156</td><td>588</td><td>7</td><td>0</td></tr>",
                            "<tr><td>156</td><td>907</td><td>3</td><td>7</td></tr>",
                            "<tr><td>156</td><td>956</td><td>6</td><td>3</td></tr>",
                            "<tr><td>156</td><td>692</td><td>6</td><td>6</td></tr>",
                            "<tr><td>156</td><td>1462</td><td>7</td><td>6</td></tr>",
                            "<tr><td>156</td><td>1490</td><td>1</td><td>7</td></tr>",
                            "<tr><td>156</td><td>1561</td><td>4</td><td>1</td></tr>",
                            "<tr><td>157</td><td>648</td><td>4</td><td>0</td></tr>",
                            "<tr><td>157</td><td>1025</td><td>3</td><td>4</td></tr>",
                            "<tr><td>157</td><td>1047</td><td>4</td><td>3</td></tr>",
                            "<tr><td>157</td><td>1240</td><td>7</td><td>4</td></tr>",
                            "<tr><td>157</td><td>1551</td><td>3</td><td>7</td></tr>",
                            "<tr><td>158</td><td>825</td><td>4</td><td>0</td></tr>",
                            "<tr><td>158</td><td>840</td><td>4</td><td>4</td></tr>",
                            "<tr><td>158</td><td>1117</td><td>3</td><td>4</td></tr>",
                            "<tr><td>160</td><td>922</td><td>2</td><td>0</td></tr>",
                            "<tr><td>160</td><td>927</td><td>4</td><td>2</td></tr>",
                            "<tr><td>160</td><td>933</td><td>4</td><td>4</td></tr>",
                            "<tr><td>160</td><td>720</td><td>2</td><td>4</td></tr>",
                            "<tr><td>160</td><td>1565</td><td>3</td><td>2</td></tr>",
                            "<tr><td>161</td><td>639</td><td>4</td><td>0</td></tr>",
                            "<tr><td>161</td><td>653</td><td>7</td><td>4</td></tr>",
                            "<tr><td>161</td><td>911</td><td>4</td><td>7</td></tr>",
                            "<tr><td>161</td><td>1068</td><td>6</td><td>4</td></tr>",
                            "<tr><td>161</td><td>1190</td><td>7</td><td>6</td></tr>",
                            "<tr><td>161</td><td>1571</td><td>4</td><td>7</td></tr>",
                            "<tr><td>162</td><td>599</td><td>4</td><td>0</td></tr>",
                            "<tr><td>162</td><td>1205</td><td>6</td><td>4</td></tr>",
                            "<tr><td>162</td><td>1400</td><td>1</td><td>6</td></tr>",
                            "<tr><td>163</td><td>630</td><td>2</td><td>0</td></tr>",
                            "<tr><td>163</td><td>941</td><td>1</td><td>2</td></tr>",
                            "<tr><td>163</td><td>782</td><td>3</td><td>1</td></tr>",
                            "<tr><td>163</td><td>1075</td><td>4</td><td>3</td></tr>",
                            "<tr><td>163</td><td>1107</td><td>3</td><td>4</td></tr>",
                            "<tr><td>163</td><td>1265</td><td>5</td><td>3</td></tr>",
                            "<tr><td>163</td><td>1487</td><td>3</td><td>5</td></tr>",
                            "<tr><td>164</td><td>570</td><td>7</td><td>0</td></tr>",
                            "<tr><td>164</td><td>1010</td><td>2</td><td>7</td></tr>",
                            "<tr><td>164</td><td>742</td><td>6</td><td>2</td></tr>",
                            "<tr><td>164</td><td>1284</td><td>4</td><td>6</td></tr>",
                            "<tr><td>164</td><td>1292</td><td>2</td><td>4</td></tr>",
                            "<tr><td>165</td><td>640</td><td>3</td><td>0</td></tr>",
                            "<tr><td>165</td><td>857</td><td>5</td><td>3</td></tr>",
                            "<tr><td>165</td><td>900</td><td>6</td><td>5</td></tr>",
                            "<tr><td>165</td><td>897</td><td>6</td><td>6</td></tr>",
                            "<tr><td>165</td><td>892</td><td>3</td><td>6</td></tr>",
                            "<tr><td>165</td><td>1141</td><td>1</td><td>3</td></tr>",
                            "<tr><td>165</td><td>1375</td><td>4</td><td>1</td></tr>",
                            "<tr><td>166</td><td>644</td><td>7</td><td>0</td></tr>",
                            "<tr><td>166</td><td>781</td><td>7</td><td>7</td></tr>",
                            "<tr><td>166</td><td>1526</td><td>2</td><td>7</td></tr>",
                            "<tr><td>167</td><td>854</td><td>7</td><td>0</td></tr>",
                            "<tr><td>167</td><td>1414</td><td>3</td><td>7</td></tr>",
                            "<tr><td>168</td><td>930</td><td>3</td><td>0</td></tr>",
                            "<tr><td>168</td><td>792</td><td>3</td><td>3</td></tr>",
                            "<tr><td>168</td><td>794</td><td>4</td><td>3</td></tr>",
                            "<tr><td>168</td><td>1249</td><td>4</td><td>4</td></tr>",
                            "<tr><td>168</td><td>1266</td><td>4</td><td>4</td></tr>",
                            "<tr><td>169</td><td>573</td><td>5</td><td>0</td></tr>",
                            "<tr><td>169</td><td>659</td><td>6</td><td>5</td></tr>",
                            "<tr><td>169</td><td>974</td><td>1</td><td>6</td></tr>",
                            "<tr><td>169</td><td>746</td><td>7</td><td>1</td></tr>",
                            "<tr><td>169</td><td>1356</td><td>4</td><td>7</td></tr>",
                            "<tr><td>169</td><td>1427</td><td>1</td><td>4</td></tr>",
                            "<tr><td>170</td><td>567</td><td>7</td><td>0</td></tr>",
                            "<tr><td>170</td><td>944</td><td>4</td><td>7</td></tr>",
                            "<tr><td>170</td><td>1194</td><td>4</td><td>4</td></tr>",
                            "<tr><td>170</td><td>1267</td><td>7</td><td>4</td></tr>",
                            "<tr><td>170</td><td>1342</td><td>6</td><td>7</td></tr>",
                            "<tr><td>171</td><td>574</td><td>2</td><td>0</td></tr>",
                            "<tr><td>171</td><td>981</td><td>4</td><td>2</td></tr>",
                            "<tr><td>171</td><td>1181</td><td>6</td><td>4</td></tr>",
                            "<tr><td>171</td><td>1329</td><td>5</td><td>6</td></tr>",
                            "<tr><td>171</td><td>1567</td><td>6</td><td>5</td></tr>",
                            "<tr><td>172</td><td>984</td><td>4</td><td>0</td></tr>",
                            "<tr><td>172</td><td>709</td><td>5</td><td>4</td></tr>",
                            "<tr><td>172</td><td>749</td><td>6</td><td>5</td></tr>",
                            "<tr><td>172</td><td>839</td><td>5</td><td>6</td></tr>",
                            "<tr><td>172</td><td>1142</td><td>4</td><td>5</td></tr>",
                            "<tr><td>172</td><td>1171</td><td>5</td><td>4</td></tr>",
                            "<tr><td>172</td><td>1336</td><td>5</td><td>5</td></tr>",
                            "<tr><td>172</td><td>1421</td><td>5</td><td>5</td></tr>",
                            "<tr><td>172</td><td>1491</td><td>2</td><td>5</td></tr>",
                            "<tr><td>173</td><td>913</td><td>1</td><td>0</td></tr>",
                            "<tr><td>173</td><td>669</td><td>7</td><td>1</td></tr>",
                            "<tr><td>173</td><td>1350</td><td>3</td><td>7</td></tr>",
                            "<tr><td>173</td><td>1429</td><td>4</td><td>3</td></tr>",
                            "<tr><td>174</td><td>917</td><td>2</td><td>0</td></tr>",
                            "<tr><td>174</td><td>1015</td><td>5</td><td>2</td></tr>",
                            "<tr><td>174</td><td>682</td><td>3</td><td>5</td></tr>",
                            "<tr><td>174</td><td>1276</td><td>1</td><td>3</td></tr>",
                            "<tr><td>175</td><td>867</td><td>6</td><td>0</td></tr>",
                            "<tr><td>175</td><td>799</td><td>4</td><td>6</td></tr>",
                            "<tr><td>175</td><td>1094</td><td>5</td><td>4</td></tr>",
                            "<tr><td>175</td><td>1133</td><td>2</td><td>5</td></tr>",
                            "<tr><td>175</td><td>1407</td><td>7</td><td>2</td></tr>",
                            "<tr><td>176</td><td>592</td><td>5</td><td>0</td></tr>",
                            "<tr><td>176</td><td>1143</td><td>6</td><td>5</td></tr>",
                            "<tr><td>176</td><td>1278</td><td>6</td><td>6</td></tr>",
                            "<tr><td>176</td><td>1383</td><td>4</td><td>6</td></tr>",
                            "<tr><td>176</td><td>1511</td><td>2</td><td>4</td></tr>",
                            "<tr><td>176</td><td>1570</td><td>3</td><td>2</td></tr>",
                            "<tr><td>177</td><td>785</td><td>3</td><td>0</td></tr>",
                            "<tr><td>177</td><td>831</td><td>7</td><td>3</td></tr>",
                            "<tr><td>177</td><td>1176</td><td>3</td><td>7</td></tr>",
                            "<tr><td>177</td><td>1503</td><td>3</td><td>3</td></tr>",
                            "<tr><td>178</td><td>991</td><td>7</td><td>0</td></tr>",
                            "<tr><td>178</td><td>816</td><td>4</td><td>7</td></tr>",
                            "<tr><td>178</td><td>1211</td><td>3</td><td>4</td></tr>",
                            "<tr><td>178</td><td>1242</td><td>1</td><td>3</td></tr>",
                            "<tr><td>179</td><td>662</td><td>2</td><td>0</td></tr>",
                            "<tr><td>179</td><td>1021</td><td>1</td><td>2</td></tr>",
                            "<tr><td>179</td><td>1497</td><td>1</td><td>1</td></tr>",
                            "<tr><td>180</td><td>905</td><td>5</td><td>0</td></tr>",
                            "<tr><td>180</td><td>1559</td><td>3</td><td>5</td></tr>",
                            "<tr><td>180</td><td>1563</td><td>6</td><td>3</td></tr>",
                            "<tr><td>181</td><td>937</td><td>3</td><td>0</td></tr>",
                            "<tr><td>181</td><td>958</td><td>5</td><td>3</td></tr>",
                            "<tr><td>181</td><td>1022</td><td>1</td><td>5</td></tr>",
                            "<tr><td>181</td><td>677</td><td>4</td><td>1</td></tr>",
                            "<tr><td>181</td><td>731</td><td>6</td><td>4</td></tr>",
                            "<tr><td>181</td><td>1346</td><td>6</td><td>6</td></tr>",
                            "<tr><td>182</td><td>571</td><td>2</td><td>0</td></tr>",
                            "<tr><td>182</td><td>928</td><td>2</td><td>2</td></tr>",
                            "<tr><td>182</td><td>1008</td><td>6</td><td>2</td></tr>",
                            "<tr><td>182</td><td>740</td><td>3</td><td>6</td></tr>",
                            "<tr><td>182</td><td>1188</td><td>1</td><td>3</td></tr>",
                            "<tr><td>182</td><td>1230</td><td>7</td><td>1</td></tr>",
                            "<tr><td>182</td><td>1231</td><td>4</td><td>7</td></tr>",
                            "<tr><td>182</td><td>1308</td><td>1</td><td>4</td></tr>",
                            "<tr><td>182</td><td>1317</td><td>3</td><td>1</td></tr>",
                            "<tr><td>182</td><td>1326</td><td>4</td><td>3</td></tr>",
                            "<tr><td>182</td><td>1410</td><td>4</td><td>4</td></tr>",
                            "<tr><td>182</td><td>1422</td><td>3</td><td>4</td></tr>",
                            "<tr><td>183</td><td>939</td><td>4</td><td>0</td></tr>",
                            "<tr><td>183</td><td>1067</td><td>7</td><td>4</td></tr>",
                            "<tr><td>183</td><td>1147</td><td>4</td><td>7</td></tr>",
                            "<tr><td>183</td><td>1437</td><td>4</td><td>4</td></tr>",
                            "<tr><td>184</td><td>608</td><td>2</td><td>0</td></tr>",
                            "<tr><td>184</td><td>880</td><td>4</td><td>2</td></tr>",
                            "<tr><td>184</td><td>684</td><td>3</td><td>4</td></tr>",
                            "<tr><td>184</td><td>1251</td><td>4</td><td>3</td></tr>",
                            "<tr><td>185</td><td>578</td><td>6</td><td>0</td></tr>",
                            "<tr><td>185</td><td>863</td><td>4</td><td>6</td></tr>",
                            "<tr><td>185</td><td>898</td><td>4</td><td>4</td></tr>",
                            "<tr><td>185</td><td>925</td><td>6</td><td>4</td></tr>",
                            "<tr><td>185</td><td>672</td><td>3</td><td>6</td></tr>",
                            "<tr><td>185</td><td>679</td><td>5</td><td>3</td></tr>",
                            "<tr><td>185</td><td>693</td><td>2</td><td>5</td></tr>",
                            "<tr><td>185</td><td>711</td><td>3</td><td>2</td></tr>",
                            "<tr><td>185</td><td>1125</td><td>3</td><td>3</td></tr>",
                            "<tr><td>185</td><td>1183</td><td>5</td><td>3</td></tr>",
                            "<tr><td>185</td><td>1441</td><td>7</td><td>5</td></tr>",
                            "<tr><td>185</td><td>1463</td><td>7</td><td>7</td></tr>",
                            "<tr><td>186</td><td>615</td><td>3</td><td>0</td></tr>",
                            "<tr><td>186</td><td>1153</td><td>3</td><td>3</td></tr>",
                            "<tr><td>186</td><td>1248</td><td>2</td><td>3</td></tr>",
                            "<tr><td>186</td><td>1467</td><td>3</td><td>2</td></tr>",
                            "<tr><td>187</td><td>633</td><td>6</td><td>0</td></tr>",
                            "<tr><td>187</td><td>868</td><td>4</td><td>6</td></tr>",
                            "<tr><td>187</td><td>957</td><td>4</td><td>4</td></tr>",
                            "<tr><td>187</td><td>695</td><td>6</td><td>4</td></tr>",
                            "<tr><td>187</td><td>743</td><td>2</td><td>6</td></tr>",
                            "<tr><td>187</td><td>766</td><td>1</td><td>2</td></tr>",
                            "<tr><td>187</td><td>1404</td><td>2</td><td>1</td></tr>",
                            "<tr><td>188</td><td>912</td><td>1</td><td>0</td></tr>",
                            "<tr><td>188</td><td>690</td><td>4</td><td>1</td></tr>",
                            "<tr><td>188</td><td>710</td><td>7</td><td>4</td></tr>",
                            "<tr><td>188</td><td>747</td><td>3</td><td>7</td></tr>",
                            "<tr><td>188</td><td>1030</td><td>4</td><td>3</td></tr>",
                            "<tr><td>188</td><td>1390</td><td>5</td><td>4</td></tr>",
                            "<tr><td>189</td><td>699</td><td>2</td><td>0</td></tr>",
                            "<tr><td>189</td><td>753</td><td>1</td><td>2</td></tr>",
                            "<tr><td>189</td><td>1204</td><td>2</td><td>1</td></tr>",
                            "<tr><td>189</td><td>1449</td><td>2</td><td>2</td></tr>",
                            "<tr><td>189</td><td>1576</td><td>3</td><td>2</td></tr>",
                            "<tr><td>190</td><td>600</td><td>7</td><td>0</td></tr>",
                            "<tr><td>190</td><td>989</td><td>1</td><td>7</td></tr>",
                            "<tr><td>190</td><td>1017</td><td>1</td><td>1</td></tr>",
                            "<tr><td>190</td><td>774</td><td>5</td><td>1</td></tr>",
                            "<tr><td>190</td><td>1517</td><td>5</td><td>5</td></tr>",
                            "<tr><td>191</td><td>1039</td><td>6</td><td>0</td></tr>",
                            "<tr><td>191</td><td>1302</td><td>1</td><td>6</td></tr>",
                            "<tr><td>191</td><td>1323</td><td>7</td><td>1</td></tr>",
                            "<tr><td>191</td><td>1502</td><td>2</td><td>7</td></tr>",
                            "<tr><td>191</td><td>1508</td><td>7</td><td>2</td></tr>",
                            "<tr><td>192</td><td>903</td><td>7</td><td>0</td></tr>",
                            "<tr><td>192</td><td>680</td><td>4</td><td>7</td></tr>",
                            "<tr><td>193</td><td>634</td><td>6</td><td>0</td></tr>",
                            "<tr><td>193</td><td>926</td><td>1</td><td>6</td></tr>",
                            "<tr><td>193</td><td>977</td><td>2</td><td>1</td></tr>",
                            "<tr><td>193</td><td>675</td><td>2</td><td>2</td></tr>",
                            "<tr><td>193</td><td>835</td><td>2</td><td>2</td></tr>",
                            "<tr><td>193</td><td>1043</td><td>6</td><td>2</td></tr>",
                            "<tr><td>193</td><td>1238</td><td>6</td><td>6</td></tr>",
                            "<tr><td>194</td><td>1095</td><td>5</td><td>0</td></tr>",
                            "<tr><td>195</td><td>721</td><td>4</td><td>0</td></tr>",
                            "<tr><td>195</td><td>842</td><td>4</td><td>4</td></tr>",
                            "<tr><td>195</td><td>1074</td><td>7</td><td>4</td></tr>",
                            "<tr><td>195</td><td>1184</td><td>5</td><td>7</td></tr>",
                            "<tr><td>195</td><td>1473</td><td>7</td><td>5</td></tr>",
                            "<tr><td>195</td><td>1484</td><td>1</td><td>7</td></tr>",
                            "<tr><td>196</td><td>952</td><td>3</td><td>0</td></tr>",
                            "<tr><td>196</td><td>673</td><td>5</td><td>3</td></tr>",
                            "<tr><td>196</td><td>1314</td><td>5</td><td>5</td></tr>",
                            "<tr><td>196</td><td>1340</td><td>5</td><td>5</td></tr>",
                            "<tr><td>197</td><td>993</td><td>7</td><td>0</td></tr>",
                            "<tr><td>197</td><td>764</td><td>7</td><td>7</td></tr>",
                            "<tr><td>197</td><td>1091</td><td>7</td><td>7</td></tr>",
                            "<tr><td>197</td><td>1172</td><td>7</td><td>7</td></tr>",
                            "<tr><td>197</td><td>1304</td><td>7</td><td>7</td></tr>",
                            "<tr><td>197</td><td>1387</td><td>3</td><td>7</td></tr>",
                            "<tr><td>198</td><td>978</td><td>1</td><td>0</td></tr>",
                            "<tr><td>198</td><td>1011</td><td>7</td><td>1</td></tr>",
                            "<tr><td>198</td><td>1065</td><td>3</td><td>7</td></tr>",
                            "<tr><td>198</td><td>1116</td><td>1</td><td>3</td></tr>",
                            "<tr><td>198</td><td>1138</td><td>5</td><td>1</td></tr>",
                            "<tr><td>198</td><td>1161</td><td>5</td><td>5</td></tr>",
                            "<tr><td>198</td><td>1216</td><td>7</td><td>5</td></tr>",
                            "<tr><td>198</td><td>1420</td><td>5</td><td>7</td></tr>",
                            "</table>"
                        ]
                    }
                }
            ],
            "execution_count": 12
        },
        {
            "cell_type": "markdown",
            "source": [
                "3\\. feladat"
            ],
            "metadata": {
                "azdata_cell_guid": "acbc7d4e-603b-472f-a82e-9b440ab2825f"
            },
            "attachments": {}
        },
        {
            "cell_type": "code",
            "source": [
                ""
            ],
            "metadata": {
                "azdata_cell_guid": "ba2691af-10e1-4982-a32b-e77d5a3a2ebf",
                "language": "sql"
            },
            "outputs": [],
            "execution_count": null
        }
    ]
}