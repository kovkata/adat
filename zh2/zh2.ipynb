{
    "metadata": {
        "kernelspec": {
            "name": "SQL",
            "display_name": "SQL",
            "language": "sql"
        },
        "language_info": {
            "name": "sql",
            "version": ""
        }
    },
    "nbformat_minor": 2,
    "nbformat": 4,
    "cells": [
        {
            "cell_type": "markdown",
            "source": [
                "1.feladat"
            ],
            "metadata": {
                "azdata_cell_guid": "cb57f950-9f8f-4ac9-a82f-1b99aebc6238"
            },
            "attachments": {}
        },
        {
            "cell_type": "code",
            "source": [
                ""
            ],
            "metadata": {
                "azdata_cell_guid": "e7c7cce3-19c2-4935-866b-2b9550abedca",
                "language": "sql"
            },
            "outputs": [],
            "execution_count": null
        },
        {
            "cell_type": "markdown",
            "source": [
                "2\\. feladat"
            ],
            "metadata": {
                "azdata_cell_guid": "ea4ef1e7-b5c8-4b78-8ae8-7adfc23536d9"
            },
            "attachments": {}
        },
        {
            "cell_type": "code",
            "source": [
                ""
            ],
            "metadata": {
                "azdata_cell_guid": "c5c52ffa-3abf-4f0b-8cb9-58573415ce66",
                "language": "sql"
            },
            "outputs": [],
            "execution_count": null
        },
        {
            "cell_type": "markdown",
            "source": [
                "3\\. feladat"
            ],
            "metadata": {
                "azdata_cell_guid": "acbc7d4e-603b-472f-a82e-9b440ab2825f"
            },
            "attachments": {}
        },
        {
            "cell_type": "code",
            "source": [
                ""
            ],
            "metadata": {
                "azdata_cell_guid": "ba2691af-10e1-4982-a32b-e77d5a3a2ebf",
                "language": "sql"
            },
            "outputs": [],
            "execution_count": null
        }
    ]
}