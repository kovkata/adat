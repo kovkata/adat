{
    "metadata": {
        "kernelspec": {
            "name": "SQL",
            "display_name": "SQL",
            "language": "sql"
        },
        "language_info": {
            "name": "sql",
            "version": ""
        }
    },
    "nbformat_minor": 2,
    "nbformat": 4,
    "cells": [
        {
            "cell_type": "markdown",
            "source": [
                "1. <span style=\"color: rgb(36, 41, 47); font-family: -apple-system, BlinkMacSystemFont, &quot;Segoe UI&quot;, Helvetica, Arial, sans-serif, &quot;Apple Color Emoji&quot;, &quot;Segoe UI Emoji&quot;; font-size: 16px;\">Készítsünk listát éves bontásban norbert2 azonosítójú ügyfél rendeléseinek értékéről!</span>\n",
                "\n",
                "1. A lista megfelelően jelölve tartalmazza a végösszeget is!"
            ],
            "metadata": {
                "azdata_cell_guid": "363cd270-6577-449b-9c89-d4b7c7972d52"
            },
            "attachments": {}
        },
        {
            "cell_type": "code",
            "source": [
                "SELECT IIf(YEAR(r.REND_DATUM) IS NULL, 'Összesen', Cast(YEAR(r.REND_DATUM) AS NVARCHAR(4))),\r\n",
                "        SUM(rt.EGYSEGAR*rt.MENNYISEG)\r\n",
                "FROM Rendeles r JOIN Rendeles_tetel rt On r.SORSZAM=rt.SORSZAM\r\n",
                "WHERE [LOGIN] LIKE 'norbert2'\r\n",
                "GROUP BY  ROLLUP (YEAR(r.REND_DATUM))"
            ],
            "metadata": {
                "azdata_cell_guid": "6ab9f633-a3b5-48c9-a1dc-4fb8235ae85b",
                "language": "sql"
            },
            "outputs": [
                {
                    "output_type": "display_data",
                    "data": {
                        "text/html": "(3 rows affected)"
                    },
                    "metadata": {}
                },
                {
                    "output_type": "display_data",
                    "data": {
                        "text/html": "Total execution time: 00:00:00.075"
                    },
                    "metadata": {}
                },
                {
                    "output_type": "execute_result",
                    "metadata": {},
                    "execution_count": 1,
                    "data": {
                        "application/vnd.dataresource+json": {
                            "schema": {
                                "fields": [
                                    {
                                        "name": "(No column name)"
                                    },
                                    {
                                        "name": "(No column name)"
                                    }
                                ]
                            },
                            "data": [
                                {
                                    "(No column name)": "483473"
                                },
                                {
                                    "(No column name)": "614340"
                                },
                                {
                                    "(No column name)": "1097813"
                                }
                            ]
                        },
                        "text/html": [
                            "<table>",
                            "<tr><th>(No column name)</th><th>(No column name)</th></tr>",
                            "<tr><td>2015</td><td>483473</td></tr>",
                            "<tr><td>2017</td><td>614340</td></tr>",
                            "<tr><td>Összesen</td><td>1097813</td></tr>",
                            "</table>"
                        ]
                    }
                }
            ],
            "execution_count": 1
        },
        {
            "cell_type": "markdown",
            "source": [
                "2. <span style=\"color: rgb(36, 41, 47); font-family: -apple-system, BlinkMacSystemFont, &quot;Segoe UI&quot;, Helvetica, Arial, sans-serif, &quot;Apple Color Emoji&quot;, &quot;Segoe UI Emoji&quot;; font-size: 16px;\">Készítsünk listát szállítási dátumonként, azon belül szállítási módonként az egyes rendelések összmennyiségéről!</span>\n",
                "\n",
                "1. Csak azokat a termékeket vegyük figyelembe, amelyek mennyiségi egysége db!\n",
                "2. A listát szűrjük úgy, hogy az csak a részösszeg sorokat és a végösszeget tartalmazza!"
            ],
            "metadata": {
                "azdata_cell_guid": "ea75c103-911f-41a3-a32c-3d40fb3e4e4a"
            },
            "attachments": {}
        },
        {
            "cell_type": "code",
            "source": [
                "SELECT r.REND_DATUM,\r\n",
                "        r.SZALL_MOD,\r\n",
                "        SUM(rt.EGYSEGAR*rt.MENNYISEG)\r\n",
                "FROM Rendeles r JOIN Rendeles_tetel rt On r.SORSZAM=rt.SORSZAM\r\n",
                "                JOIN Termek t On rt.TERMEKKOD=t.TERMEKKOD\r\n",
                "WHERE t.MEGYS LIKE 'db'\r\n",
                "GROUP BY  ROLLUP (r.REND_DATUM,r.SZALL_MOD)\r\n",
                "HAVING SZALL_MOD Is NULL or r.SZALL_DATUM is NULL"
            ],
            "metadata": {
                "azdata_cell_guid": "222b9618-a8e8-42b4-a8e8-d002257122b7",
                "language": "sql"
            },
            "outputs": [
                {
                    "output_type": "display_data",
                    "data": {
                        "text/html": "Warning: Null value is eliminated by an aggregate or other SET operation."
                    },
                    "metadata": {}
                },
                {
                    "output_type": "display_data",
                    "data": {
                        "text/html": "(703 rows affected)"
                    },
                    "metadata": {}
                },
                {
                    "output_type": "display_data",
                    "data": {
                        "text/html": "Total execution time: 00:00:00.264"
                    },
                    "metadata": {}
                },
                {
                    "output_type": "execute_result",
                    "metadata": {},
                    "execution_count": 2,
                    "data": {
                        "application/vnd.dataresource+json": {
                            "schema": {
                                "fields": [
                                    {
                                        "name": "REND_DATUM"
                                    },
                                    {
                                        "name": "SZALL_MOD"
                                    },
                                    {
                                        "name": "(No column name)"
                                    }
                                ]
                            },
                            "data": [
                                {
                                    "REND_DATUM": "2015-05-01",
                                    "SZALL_MOD": "NULL",
                                    "(No column name)": "2279415"
                                },
                                {
                                    "REND_DATUM": "2015-05-02",
                                    "SZALL_MOD": "NULL",
                                    "(No column name)": "3580718"
                                },
                                {
                                    "REND_DATUM": "2015-05-03",
                                    "SZALL_MOD": "NULL",
                                    "(No column name)": "2812695"
                                },
                                {
                                    "REND_DATUM": "2015-05-04",
                                    "SZALL_MOD": "NULL",
                                    "(No column name)": "2772950"
                                },
                                {
                                    "REND_DATUM": "2015-05-05",
                                    "SZALL_MOD": "NULL",
                                    "(No column name)": "3485649"
                                },
                                {
                                    "REND_DATUM": "2015-05-06",
                                    "SZALL_MOD": "NULL",
                                    "(No column name)": "3382873"
                                },
                                {
                                    "REND_DATUM": "2015-05-07",
                                    "SZALL_MOD": "NULL",
                                    "(No column name)": "3426361"
                                },
                                {
                                    "REND_DATUM": "2015-05-08",
                                    "SZALL_MOD": "NULL",
                                    "(No column name)": "4359636"
                                },
                                {
                                    "REND_DATUM": "2015-05-09",
                                    "SZALL_MOD": "NULL",
                                    "(No column name)": "2849930"
                                },
                                {
                                    "REND_DATUM": "2015-05-10",
                                    "SZALL_MOD": "NULL",
                                    "(No column name)": "4228829"
                                },
                                {
                                    "REND_DATUM": "2015-05-11",
                                    "SZALL_MOD": "NULL",
                                    "(No column name)": "2379426"
                                },
                                {
                                    "REND_DATUM": "2015-05-12",
                                    "SZALL_MOD": "NULL",
                                    "(No column name)": "3736901"
                                },
                                {
                                    "REND_DATUM": "2015-05-13",
                                    "SZALL_MOD": "NULL",
                                    "(No column name)": "5337596"
                                },
                                {
                                    "REND_DATUM": "2015-05-14",
                                    "SZALL_MOD": "NULL",
                                    "(No column name)": "2472862"
                                },
                                {
                                    "REND_DATUM": "2015-05-15",
                                    "SZALL_MOD": "NULL",
                                    "(No column name)": "3708772"
                                },
                                {
                                    "REND_DATUM": "2015-05-16",
                                    "SZALL_MOD": "NULL",
                                    "(No column name)": "2043315"
                                },
                                {
                                    "REND_DATUM": "2015-05-17",
                                    "SZALL_MOD": "NULL",
                                    "(No column name)": "2896002"
                                },
                                {
                                    "REND_DATUM": "2015-05-18",
                                    "SZALL_MOD": "NULL",
                                    "(No column name)": "3138099"
                                },
                                {
                                    "REND_DATUM": "2015-05-19",
                                    "SZALL_MOD": "NULL",
                                    "(No column name)": "3757350"
                                },
                                {
                                    "REND_DATUM": "2015-05-20",
                                    "SZALL_MOD": "NULL",
                                    "(No column name)": "4256931"
                                },
                                {
                                    "REND_DATUM": "2015-05-21",
                                    "SZALL_MOD": "NULL",
                                    "(No column name)": "2623545"
                                },
                                {
                                    "REND_DATUM": "2015-05-22",
                                    "SZALL_MOD": "NULL",
                                    "(No column name)": "3311306"
                                },
                                {
                                    "REND_DATUM": "2015-05-23",
                                    "SZALL_MOD": "NULL",
                                    "(No column name)": "3707229"
                                },
                                {
                                    "REND_DATUM": "2015-05-24",
                                    "SZALL_MOD": "NULL",
                                    "(No column name)": "3469333"
                                },
                                {
                                    "REND_DATUM": "2015-05-25",
                                    "SZALL_MOD": "NULL",
                                    "(No column name)": "5086306"
                                },
                                {
                                    "REND_DATUM": "2015-05-26",
                                    "SZALL_MOD": "NULL",
                                    "(No column name)": "4483064"
                                },
                                {
                                    "REND_DATUM": "2015-05-27",
                                    "SZALL_MOD": "NULL",
                                    "(No column name)": "3446967"
                                },
                                {
                                    "REND_DATUM": "2015-05-28",
                                    "SZALL_MOD": "NULL",
                                    "(No column name)": "4207823"
                                },
                                {
                                    "REND_DATUM": "2015-05-29",
                                    "SZALL_MOD": "NULL",
                                    "(No column name)": "3898877"
                                },
                                {
                                    "REND_DATUM": "2015-05-30",
                                    "SZALL_MOD": "NULL",
                                    "(No column name)": "4686786"
                                },
                                {
                                    "REND_DATUM": "2015-05-31",
                                    "SZALL_MOD": "NULL",
                                    "(No column name)": "3113844"
                                },
                                {
                                    "REND_DATUM": "2015-06-01",
                                    "SZALL_MOD": "NULL",
                                    "(No column name)": "4279329"
                                },
                                {
                                    "REND_DATUM": "2015-06-02",
                                    "SZALL_MOD": "NULL",
                                    "(No column name)": "3042970"
                                },
                                {
                                    "REND_DATUM": "2015-06-03",
                                    "SZALL_MOD": "NULL",
                                    "(No column name)": "2883237"
                                },
                                {
                                    "REND_DATUM": "2015-06-04",
                                    "SZALL_MOD": "NULL",
                                    "(No column name)": "4333851"
                                },
                                {
                                    "REND_DATUM": "2015-06-05",
                                    "SZALL_MOD": "NULL",
                                    "(No column name)": "3018811"
                                },
                                {
                                    "REND_DATUM": "2015-06-06",
                                    "SZALL_MOD": "NULL",
                                    "(No column name)": "4426703"
                                },
                                {
                                    "REND_DATUM": "2015-06-07",
                                    "SZALL_MOD": "NULL",
                                    "(No column name)": "3669678"
                                },
                                {
                                    "REND_DATUM": "2015-06-08",
                                    "SZALL_MOD": "NULL",
                                    "(No column name)": "2609941"
                                },
                                {
                                    "REND_DATUM": "2015-06-09",
                                    "SZALL_MOD": "NULL",
                                    "(No column name)": "1806618"
                                },
                                {
                                    "REND_DATUM": "2015-06-10",
                                    "SZALL_MOD": "NULL",
                                    "(No column name)": "5877852"
                                },
                                {
                                    "REND_DATUM": "2015-06-11",
                                    "SZALL_MOD": "NULL",
                                    "(No column name)": "2894153"
                                },
                                {
                                    "REND_DATUM": "2015-06-12",
                                    "SZALL_MOD": "NULL",
                                    "(No column name)": "2720092"
                                },
                                {
                                    "REND_DATUM": "2015-06-13",
                                    "SZALL_MOD": "NULL",
                                    "(No column name)": "3799415"
                                },
                                {
                                    "REND_DATUM": "2015-06-14",
                                    "SZALL_MOD": "NULL",
                                    "(No column name)": "2909648"
                                },
                                {
                                    "REND_DATUM": "2015-06-15",
                                    "SZALL_MOD": "NULL",
                                    "(No column name)": "2810870"
                                },
                                {
                                    "REND_DATUM": "2015-06-16",
                                    "SZALL_MOD": "NULL",
                                    "(No column name)": "3778323"
                                },
                                {
                                    "REND_DATUM": "2015-06-17",
                                    "SZALL_MOD": "NULL",
                                    "(No column name)": "2756853"
                                },
                                {
                                    "REND_DATUM": "2015-06-18",
                                    "SZALL_MOD": "NULL",
                                    "(No column name)": "3190411"
                                },
                                {
                                    "REND_DATUM": "2015-06-19",
                                    "SZALL_MOD": "NULL",
                                    "(No column name)": "2923276"
                                },
                                {
                                    "REND_DATUM": "2015-06-20",
                                    "SZALL_MOD": "NULL",
                                    "(No column name)": "2871905"
                                },
                                {
                                    "REND_DATUM": "2015-06-21",
                                    "SZALL_MOD": "NULL",
                                    "(No column name)": "4386623"
                                },
                                {
                                    "REND_DATUM": "2015-06-22",
                                    "SZALL_MOD": "NULL",
                                    "(No column name)": "1917370"
                                },
                                {
                                    "REND_DATUM": "2015-06-23",
                                    "SZALL_MOD": "NULL",
                                    "(No column name)": "5572063"
                                },
                                {
                                    "REND_DATUM": "2015-06-24",
                                    "SZALL_MOD": "NULL",
                                    "(No column name)": "3303546"
                                },
                                {
                                    "REND_DATUM": "2015-06-25",
                                    "SZALL_MOD": "NULL",
                                    "(No column name)": "1917903"
                                },
                                {
                                    "REND_DATUM": "2015-06-26",
                                    "SZALL_MOD": "NULL",
                                    "(No column name)": "2767873"
                                },
                                {
                                    "REND_DATUM": "2015-06-27",
                                    "SZALL_MOD": "NULL",
                                    "(No column name)": "2391802"
                                },
                                {
                                    "REND_DATUM": "2015-06-28",
                                    "SZALL_MOD": "NULL",
                                    "(No column name)": "2894066"
                                },
                                {
                                    "REND_DATUM": "2015-06-29",
                                    "SZALL_MOD": "NULL",
                                    "(No column name)": "2879834"
                                },
                                {
                                    "REND_DATUM": "2015-06-30",
                                    "SZALL_MOD": "NULL",
                                    "(No column name)": "4408170"
                                },
                                {
                                    "REND_DATUM": "2015-07-01",
                                    "SZALL_MOD": "NULL",
                                    "(No column name)": "2999741"
                                },
                                {
                                    "REND_DATUM": "2015-07-02",
                                    "SZALL_MOD": "NULL",
                                    "(No column name)": "2381370"
                                },
                                {
                                    "REND_DATUM": "2015-07-03",
                                    "SZALL_MOD": "NULL",
                                    "(No column name)": "2346769"
                                },
                                {
                                    "REND_DATUM": "2015-07-04",
                                    "SZALL_MOD": "NULL",
                                    "(No column name)": "3073024"
                                },
                                {
                                    "REND_DATUM": "2015-07-05",
                                    "SZALL_MOD": "NULL",
                                    "(No column name)": "4275556"
                                },
                                {
                                    "REND_DATUM": "2015-07-06",
                                    "SZALL_MOD": "NULL",
                                    "(No column name)": "2596683"
                                },
                                {
                                    "REND_DATUM": "2015-07-07",
                                    "SZALL_MOD": "NULL",
                                    "(No column name)": "1852944"
                                },
                                {
                                    "REND_DATUM": "2015-07-08",
                                    "SZALL_MOD": "NULL",
                                    "(No column name)": "3680495"
                                },
                                {
                                    "REND_DATUM": "2015-07-09",
                                    "SZALL_MOD": "NULL",
                                    "(No column name)": "2788299"
                                },
                                {
                                    "REND_DATUM": "2015-07-10",
                                    "SZALL_MOD": "NULL",
                                    "(No column name)": "3128704"
                                },
                                {
                                    "REND_DATUM": "2015-07-11",
                                    "SZALL_MOD": "NULL",
                                    "(No column name)": "2547574"
                                },
                                {
                                    "REND_DATUM": "2015-07-12",
                                    "SZALL_MOD": "NULL",
                                    "(No column name)": "4236864"
                                },
                                {
                                    "REND_DATUM": "2015-07-13",
                                    "SZALL_MOD": "NULL",
                                    "(No column name)": "4039393"
                                },
                                {
                                    "REND_DATUM": "2015-07-14",
                                    "SZALL_MOD": "NULL",
                                    "(No column name)": "2506145"
                                },
                                {
                                    "REND_DATUM": "2015-07-15",
                                    "SZALL_MOD": "NULL",
                                    "(No column name)": "4857981"
                                },
                                {
                                    "REND_DATUM": "2015-07-16",
                                    "SZALL_MOD": "NULL",
                                    "(No column name)": "2361972"
                                },
                                {
                                    "REND_DATUM": "2015-07-17",
                                    "SZALL_MOD": "NULL",
                                    "(No column name)": "2336263"
                                },
                                {
                                    "REND_DATUM": "2015-07-18",
                                    "SZALL_MOD": "NULL",
                                    "(No column name)": "1782195"
                                },
                                {
                                    "REND_DATUM": "2015-07-19",
                                    "SZALL_MOD": "NULL",
                                    "(No column name)": "3214783"
                                },
                                {
                                    "REND_DATUM": "2015-07-20",
                                    "SZALL_MOD": "NULL",
                                    "(No column name)": "3913966"
                                },
                                {
                                    "REND_DATUM": "2015-07-21",
                                    "SZALL_MOD": "NULL",
                                    "(No column name)": "4561837"
                                },
                                {
                                    "REND_DATUM": "2015-07-22",
                                    "SZALL_MOD": "NULL",
                                    "(No column name)": "3525031"
                                },
                                {
                                    "REND_DATUM": "2015-07-23",
                                    "SZALL_MOD": "NULL",
                                    "(No column name)": "2317783"
                                },
                                {
                                    "REND_DATUM": "2015-07-24",
                                    "SZALL_MOD": "NULL",
                                    "(No column name)": "2023300"
                                },
                                {
                                    "REND_DATUM": "2015-07-25",
                                    "SZALL_MOD": "NULL",
                                    "(No column name)": "3161727"
                                },
                                {
                                    "REND_DATUM": "2015-07-26",
                                    "SZALL_MOD": "NULL",
                                    "(No column name)": "3931566"
                                },
                                {
                                    "REND_DATUM": "2015-07-27",
                                    "SZALL_MOD": "NULL",
                                    "(No column name)": "3897124"
                                },
                                {
                                    "REND_DATUM": "2015-07-28",
                                    "SZALL_MOD": "NULL",
                                    "(No column name)": "3367677"
                                },
                                {
                                    "REND_DATUM": "2015-07-29",
                                    "SZALL_MOD": "NULL",
                                    "(No column name)": "3797585"
                                },
                                {
                                    "REND_DATUM": "2015-07-30",
                                    "SZALL_MOD": "NULL",
                                    "(No column name)": "4093614"
                                },
                                {
                                    "REND_DATUM": "2015-07-31",
                                    "SZALL_MOD": "NULL",
                                    "(No column name)": "3255050"
                                },
                                {
                                    "REND_DATUM": "2015-08-01",
                                    "SZALL_MOD": "NULL",
                                    "(No column name)": "3001556"
                                },
                                {
                                    "REND_DATUM": "2015-08-02",
                                    "SZALL_MOD": "NULL",
                                    "(No column name)": "2212505"
                                },
                                {
                                    "REND_DATUM": "2015-08-03",
                                    "SZALL_MOD": "NULL",
                                    "(No column name)": "4028406"
                                },
                                {
                                    "REND_DATUM": "2015-08-04",
                                    "SZALL_MOD": "NULL",
                                    "(No column name)": "4863339"
                                },
                                {
                                    "REND_DATUM": "2015-08-05",
                                    "SZALL_MOD": "NULL",
                                    "(No column name)": "5888832"
                                },
                                {
                                    "REND_DATUM": "2015-08-06",
                                    "SZALL_MOD": "NULL",
                                    "(No column name)": "5770619"
                                },
                                {
                                    "REND_DATUM": "2015-08-07",
                                    "SZALL_MOD": "NULL",
                                    "(No column name)": "3904203"
                                },
                                {
                                    "REND_DATUM": "2015-08-08",
                                    "SZALL_MOD": "NULL",
                                    "(No column name)": "5950093"
                                },
                                {
                                    "REND_DATUM": "2015-08-09",
                                    "SZALL_MOD": "NULL",
                                    "(No column name)": "4771276"
                                },
                                {
                                    "REND_DATUM": "2015-08-10",
                                    "SZALL_MOD": "NULL",
                                    "(No column name)": "2536402"
                                },
                                {
                                    "REND_DATUM": "2015-08-11",
                                    "SZALL_MOD": "NULL",
                                    "(No column name)": "4443880"
                                },
                                {
                                    "REND_DATUM": "2015-08-12",
                                    "SZALL_MOD": "NULL",
                                    "(No column name)": "4291815"
                                },
                                {
                                    "REND_DATUM": "2015-08-13",
                                    "SZALL_MOD": "NULL",
                                    "(No column name)": "3070458"
                                },
                                {
                                    "REND_DATUM": "2015-08-14",
                                    "SZALL_MOD": "NULL",
                                    "(No column name)": "2845966"
                                },
                                {
                                    "REND_DATUM": "2015-08-15",
                                    "SZALL_MOD": "NULL",
                                    "(No column name)": "2251807"
                                },
                                {
                                    "REND_DATUM": "2015-08-16",
                                    "SZALL_MOD": "NULL",
                                    "(No column name)": "2681572"
                                },
                                {
                                    "REND_DATUM": "2015-08-17",
                                    "SZALL_MOD": "NULL",
                                    "(No column name)": "5153897"
                                },
                                {
                                    "REND_DATUM": "2015-08-18",
                                    "SZALL_MOD": "NULL",
                                    "(No column name)": "4124260"
                                },
                                {
                                    "REND_DATUM": "2015-08-19",
                                    "SZALL_MOD": "NULL",
                                    "(No column name)": "2261471"
                                },
                                {
                                    "REND_DATUM": "2015-08-20",
                                    "SZALL_MOD": "NULL",
                                    "(No column name)": "5677653"
                                },
                                {
                                    "REND_DATUM": "2015-08-21",
                                    "SZALL_MOD": "NULL",
                                    "(No column name)": "2866708"
                                },
                                {
                                    "REND_DATUM": "2015-08-22",
                                    "SZALL_MOD": "NULL",
                                    "(No column name)": "2825943"
                                },
                                {
                                    "REND_DATUM": "2015-08-23",
                                    "SZALL_MOD": "NULL",
                                    "(No column name)": "2822778"
                                },
                                {
                                    "REND_DATUM": "2015-08-24",
                                    "SZALL_MOD": "NULL",
                                    "(No column name)": "2719276"
                                },
                                {
                                    "REND_DATUM": "2015-08-25",
                                    "SZALL_MOD": "NULL",
                                    "(No column name)": "4160435"
                                },
                                {
                                    "REND_DATUM": "2015-08-26",
                                    "SZALL_MOD": "NULL",
                                    "(No column name)": "4600189"
                                },
                                {
                                    "REND_DATUM": "2015-08-27",
                                    "SZALL_MOD": "NULL",
                                    "(No column name)": "2493732"
                                },
                                {
                                    "REND_DATUM": "2015-08-28",
                                    "SZALL_MOD": "NULL",
                                    "(No column name)": "3085344"
                                },
                                {
                                    "REND_DATUM": "2015-08-29",
                                    "SZALL_MOD": "NULL",
                                    "(No column name)": "5929944"
                                },
                                {
                                    "REND_DATUM": "2015-08-30",
                                    "SZALL_MOD": "NULL",
                                    "(No column name)": "4701063"
                                },
                                {
                                    "REND_DATUM": "2015-08-31",
                                    "SZALL_MOD": "NULL",
                                    "(No column name)": "4657091"
                                },
                                {
                                    "REND_DATUM": "2015-09-01",
                                    "SZALL_MOD": "NULL",
                                    "(No column name)": "3206685"
                                },
                                {
                                    "REND_DATUM": "2015-09-02",
                                    "SZALL_MOD": "NULL",
                                    "(No column name)": "5692527"
                                },
                                {
                                    "REND_DATUM": "2015-09-03",
                                    "SZALL_MOD": "NULL",
                                    "(No column name)": "3450427"
                                },
                                {
                                    "REND_DATUM": "2015-09-04",
                                    "SZALL_MOD": "NULL",
                                    "(No column name)": "3738193"
                                },
                                {
                                    "REND_DATUM": "2015-09-05",
                                    "SZALL_MOD": "NULL",
                                    "(No column name)": "3867059"
                                },
                                {
                                    "REND_DATUM": "2015-09-06",
                                    "SZALL_MOD": "NULL",
                                    "(No column name)": "6132853"
                                },
                                {
                                    "REND_DATUM": "2015-09-07",
                                    "SZALL_MOD": "NULL",
                                    "(No column name)": "4179837"
                                },
                                {
                                    "REND_DATUM": "2015-09-08",
                                    "SZALL_MOD": "NULL",
                                    "(No column name)": "4703011"
                                },
                                {
                                    "REND_DATUM": "2015-09-09",
                                    "SZALL_MOD": "NULL",
                                    "(No column name)": "2885792"
                                },
                                {
                                    "REND_DATUM": "2015-09-10",
                                    "SZALL_MOD": "NULL",
                                    "(No column name)": "3060710"
                                },
                                {
                                    "REND_DATUM": "2015-09-11",
                                    "SZALL_MOD": "NULL",
                                    "(No column name)": "4788101"
                                },
                                {
                                    "REND_DATUM": "2015-09-12",
                                    "SZALL_MOD": "NULL",
                                    "(No column name)": "5532283"
                                },
                                {
                                    "REND_DATUM": "2015-09-13",
                                    "SZALL_MOD": "NULL",
                                    "(No column name)": "2559121"
                                },
                                {
                                    "REND_DATUM": "2015-09-14",
                                    "SZALL_MOD": "NULL",
                                    "(No column name)": "2724651"
                                },
                                {
                                    "REND_DATUM": "2015-09-15",
                                    "SZALL_MOD": "NULL",
                                    "(No column name)": "2896517"
                                },
                                {
                                    "REND_DATUM": "2015-09-16",
                                    "SZALL_MOD": "NULL",
                                    "(No column name)": "5343119"
                                },
                                {
                                    "REND_DATUM": "2015-09-17",
                                    "SZALL_MOD": "NULL",
                                    "(No column name)": "5479338"
                                },
                                {
                                    "REND_DATUM": "2015-09-18",
                                    "SZALL_MOD": "NULL",
                                    "(No column name)": "3428808"
                                },
                                {
                                    "REND_DATUM": "2015-09-19",
                                    "SZALL_MOD": "NULL",
                                    "(No column name)": "2134407"
                                },
                                {
                                    "REND_DATUM": "2015-09-20",
                                    "SZALL_MOD": "NULL",
                                    "(No column name)": "2756524"
                                },
                                {
                                    "REND_DATUM": "2015-09-21",
                                    "SZALL_MOD": "NULL",
                                    "(No column name)": "3557548"
                                },
                                {
                                    "REND_DATUM": "2015-09-22",
                                    "SZALL_MOD": "NULL",
                                    "(No column name)": "2153551"
                                },
                                {
                                    "REND_DATUM": "2015-09-23",
                                    "SZALL_MOD": "NULL",
                                    "(No column name)": "3427710"
                                },
                                {
                                    "REND_DATUM": "2015-09-24",
                                    "SZALL_MOD": "NULL",
                                    "(No column name)": "2664585"
                                },
                                {
                                    "REND_DATUM": "2015-09-25",
                                    "SZALL_MOD": "NULL",
                                    "(No column name)": "4539248"
                                },
                                {
                                    "REND_DATUM": "2015-09-26",
                                    "SZALL_MOD": "NULL",
                                    "(No column name)": "2365926"
                                },
                                {
                                    "REND_DATUM": "2015-09-27",
                                    "SZALL_MOD": "NULL",
                                    "(No column name)": "3096292"
                                },
                                {
                                    "REND_DATUM": "2015-09-28",
                                    "SZALL_MOD": "NULL",
                                    "(No column name)": "2975916"
                                },
                                {
                                    "REND_DATUM": "2015-09-29",
                                    "SZALL_MOD": "NULL",
                                    "(No column name)": "3384018"
                                },
                                {
                                    "REND_DATUM": "2015-09-30",
                                    "SZALL_MOD": "NULL",
                                    "(No column name)": "3256064"
                                },
                                {
                                    "REND_DATUM": "2015-10-01",
                                    "SZALL_MOD": "NULL",
                                    "(No column name)": "1997289"
                                },
                                {
                                    "REND_DATUM": "2015-10-02",
                                    "SZALL_MOD": "NULL",
                                    "(No column name)": "6371689"
                                },
                                {
                                    "REND_DATUM": "2015-10-03",
                                    "SZALL_MOD": "NULL",
                                    "(No column name)": "4258221"
                                },
                                {
                                    "REND_DATUM": "2015-10-04",
                                    "SZALL_MOD": "NULL",
                                    "(No column name)": "2744918"
                                },
                                {
                                    "REND_DATUM": "2015-10-05",
                                    "SZALL_MOD": "NULL",
                                    "(No column name)": "3877931"
                                },
                                {
                                    "REND_DATUM": "2015-10-06",
                                    "SZALL_MOD": "NULL",
                                    "(No column name)": "4831650"
                                },
                                {
                                    "REND_DATUM": "2015-10-07",
                                    "SZALL_MOD": "NULL",
                                    "(No column name)": "1976753"
                                },
                                {
                                    "REND_DATUM": "2015-10-08",
                                    "SZALL_MOD": "NULL",
                                    "(No column name)": "2139374"
                                },
                                {
                                    "REND_DATUM": "2015-10-09",
                                    "SZALL_MOD": "NULL",
                                    "(No column name)": "2710345"
                                },
                                {
                                    "REND_DATUM": "2015-10-10",
                                    "SZALL_MOD": "NULL",
                                    "(No column name)": "3738885"
                                },
                                {
                                    "REND_DATUM": "2015-10-11",
                                    "SZALL_MOD": "NULL",
                                    "(No column name)": "4164026"
                                },
                                {
                                    "REND_DATUM": "2015-10-12",
                                    "SZALL_MOD": "NULL",
                                    "(No column name)": "3263024"
                                },
                                {
                                    "REND_DATUM": "2015-10-13",
                                    "SZALL_MOD": "NULL",
                                    "(No column name)": "3293890"
                                },
                                {
                                    "REND_DATUM": "2015-10-14",
                                    "SZALL_MOD": "NULL",
                                    "(No column name)": "7348229"
                                },
                                {
                                    "REND_DATUM": "2015-10-15",
                                    "SZALL_MOD": "NULL",
                                    "(No column name)": "1806169"
                                },
                                {
                                    "REND_DATUM": "2015-10-16",
                                    "SZALL_MOD": "NULL",
                                    "(No column name)": "2672064"
                                },
                                {
                                    "REND_DATUM": "2015-10-17",
                                    "SZALL_MOD": "NULL",
                                    "(No column name)": "3686925"
                                },
                                {
                                    "REND_DATUM": "2015-10-18",
                                    "SZALL_MOD": "NULL",
                                    "(No column name)": "3477076"
                                },
                                {
                                    "REND_DATUM": "2015-10-19",
                                    "SZALL_MOD": "NULL",
                                    "(No column name)": "3596584"
                                },
                                {
                                    "REND_DATUM": "2015-10-20",
                                    "SZALL_MOD": "NULL",
                                    "(No column name)": "3000046"
                                },
                                {
                                    "REND_DATUM": "2015-10-21",
                                    "SZALL_MOD": "NULL",
                                    "(No column name)": "3113765"
                                },
                                {
                                    "REND_DATUM": "2015-10-22",
                                    "SZALL_MOD": "NULL",
                                    "(No column name)": "5093076"
                                },
                                {
                                    "REND_DATUM": "2015-10-23",
                                    "SZALL_MOD": "NULL",
                                    "(No column name)": "3101428"
                                },
                                {
                                    "REND_DATUM": "2015-10-24",
                                    "SZALL_MOD": "NULL",
                                    "(No column name)": "1970788"
                                },
                                {
                                    "REND_DATUM": "2015-10-25",
                                    "SZALL_MOD": "NULL",
                                    "(No column name)": "4758691"
                                },
                                {
                                    "REND_DATUM": "2015-10-26",
                                    "SZALL_MOD": "NULL",
                                    "(No column name)": "4389832"
                                },
                                {
                                    "REND_DATUM": "2015-10-27",
                                    "SZALL_MOD": "NULL",
                                    "(No column name)": "2078584"
                                },
                                {
                                    "REND_DATUM": "2015-10-28",
                                    "SZALL_MOD": "NULL",
                                    "(No column name)": "3919723"
                                },
                                {
                                    "REND_DATUM": "2015-10-29",
                                    "SZALL_MOD": "NULL",
                                    "(No column name)": "4532293"
                                },
                                {
                                    "REND_DATUM": "2015-10-30",
                                    "SZALL_MOD": "NULL",
                                    "(No column name)": "3165654"
                                },
                                {
                                    "REND_DATUM": "2015-10-31",
                                    "SZALL_MOD": "NULL",
                                    "(No column name)": "4900367"
                                },
                                {
                                    "REND_DATUM": "2015-11-01",
                                    "SZALL_MOD": "NULL",
                                    "(No column name)": "2382124"
                                },
                                {
                                    "REND_DATUM": "2015-11-02",
                                    "SZALL_MOD": "NULL",
                                    "(No column name)": "1857540"
                                },
                                {
                                    "REND_DATUM": "2015-11-03",
                                    "SZALL_MOD": "NULL",
                                    "(No column name)": "3833497"
                                },
                                {
                                    "REND_DATUM": "2015-11-04",
                                    "SZALL_MOD": "NULL",
                                    "(No column name)": "2509178"
                                },
                                {
                                    "REND_DATUM": "2015-11-05",
                                    "SZALL_MOD": "NULL",
                                    "(No column name)": "3448541"
                                },
                                {
                                    "REND_DATUM": "2015-11-06",
                                    "SZALL_MOD": "NULL",
                                    "(No column name)": "2055942"
                                },
                                {
                                    "REND_DATUM": "2015-11-07",
                                    "SZALL_MOD": "NULL",
                                    "(No column name)": "5183525"
                                },
                                {
                                    "REND_DATUM": "2015-11-08",
                                    "SZALL_MOD": "NULL",
                                    "(No column name)": "3538582"
                                },
                                {
                                    "REND_DATUM": "2015-11-09",
                                    "SZALL_MOD": "NULL",
                                    "(No column name)": "4696078"
                                },
                                {
                                    "REND_DATUM": "2015-11-10",
                                    "SZALL_MOD": "NULL",
                                    "(No column name)": "4465010"
                                },
                                {
                                    "REND_DATUM": "2015-11-11",
                                    "SZALL_MOD": "NULL",
                                    "(No column name)": "3870693"
                                },
                                {
                                    "REND_DATUM": "2015-11-12",
                                    "SZALL_MOD": "NULL",
                                    "(No column name)": "3265153"
                                },
                                {
                                    "REND_DATUM": "2015-11-13",
                                    "SZALL_MOD": "NULL",
                                    "(No column name)": "2709865"
                                },
                                {
                                    "REND_DATUM": "2015-11-14",
                                    "SZALL_MOD": "NULL",
                                    "(No column name)": "2793744"
                                },
                                {
                                    "REND_DATUM": "2015-11-15",
                                    "SZALL_MOD": "NULL",
                                    "(No column name)": "3394374"
                                },
                                {
                                    "REND_DATUM": "2015-11-16",
                                    "SZALL_MOD": "NULL",
                                    "(No column name)": "3137435"
                                },
                                {
                                    "REND_DATUM": "2015-11-17",
                                    "SZALL_MOD": "NULL",
                                    "(No column name)": "4366964"
                                },
                                {
                                    "REND_DATUM": "2015-11-18",
                                    "SZALL_MOD": "NULL",
                                    "(No column name)": "4145235"
                                },
                                {
                                    "REND_DATUM": "2015-11-19",
                                    "SZALL_MOD": "NULL",
                                    "(No column name)": "4252642"
                                },
                                {
                                    "REND_DATUM": "2015-11-20",
                                    "SZALL_MOD": "NULL",
                                    "(No column name)": "4014225"
                                },
                                {
                                    "REND_DATUM": "2015-11-21",
                                    "SZALL_MOD": "NULL",
                                    "(No column name)": "2379783"
                                },
                                {
                                    "REND_DATUM": "2015-11-22",
                                    "SZALL_MOD": "NULL",
                                    "(No column name)": "2387426"
                                },
                                {
                                    "REND_DATUM": "2015-11-23",
                                    "SZALL_MOD": "NULL",
                                    "(No column name)": "3634916"
                                },
                                {
                                    "REND_DATUM": "2015-11-24",
                                    "SZALL_MOD": "NULL",
                                    "(No column name)": "5560935"
                                },
                                {
                                    "REND_DATUM": "2015-11-25",
                                    "SZALL_MOD": "NULL",
                                    "(No column name)": "2709489"
                                },
                                {
                                    "REND_DATUM": "2015-11-26",
                                    "SZALL_MOD": "NULL",
                                    "(No column name)": "2825105"
                                },
                                {
                                    "REND_DATUM": "2015-11-27",
                                    "SZALL_MOD": "NULL",
                                    "(No column name)": "2619870"
                                },
                                {
                                    "REND_DATUM": "2015-11-28",
                                    "SZALL_MOD": "NULL",
                                    "(No column name)": "4078799"
                                },
                                {
                                    "REND_DATUM": "2015-11-29",
                                    "SZALL_MOD": "NULL",
                                    "(No column name)": "2306036"
                                },
                                {
                                    "REND_DATUM": "2015-11-30",
                                    "SZALL_MOD": "NULL",
                                    "(No column name)": "4532668"
                                },
                                {
                                    "REND_DATUM": "2015-12-01",
                                    "SZALL_MOD": "NULL",
                                    "(No column name)": "5635906"
                                },
                                {
                                    "REND_DATUM": "2015-12-02",
                                    "SZALL_MOD": "NULL",
                                    "(No column name)": "4325044"
                                },
                                {
                                    "REND_DATUM": "2015-12-03",
                                    "SZALL_MOD": "NULL",
                                    "(No column name)": "2509604"
                                },
                                {
                                    "REND_DATUM": "2015-12-04",
                                    "SZALL_MOD": "NULL",
                                    "(No column name)": "3945029"
                                },
                                {
                                    "REND_DATUM": "2015-12-05",
                                    "SZALL_MOD": "NULL",
                                    "(No column name)": "3969446"
                                },
                                {
                                    "REND_DATUM": "2015-12-06",
                                    "SZALL_MOD": "NULL",
                                    "(No column name)": "6008928"
                                },
                                {
                                    "REND_DATUM": "2015-12-07",
                                    "SZALL_MOD": "NULL",
                                    "(No column name)": "1712207"
                                },
                                {
                                    "REND_DATUM": "2015-12-08",
                                    "SZALL_MOD": "NULL",
                                    "(No column name)": "2559965"
                                },
                                {
                                    "REND_DATUM": "2015-12-09",
                                    "SZALL_MOD": "NULL",
                                    "(No column name)": "3292306"
                                },
                                {
                                    "REND_DATUM": "2015-12-10",
                                    "SZALL_MOD": "NULL",
                                    "(No column name)": "3779196"
                                },
                                {
                                    "REND_DATUM": "2015-12-11",
                                    "SZALL_MOD": "NULL",
                                    "(No column name)": "3068164"
                                },
                                {
                                    "REND_DATUM": "2015-12-12",
                                    "SZALL_MOD": "NULL",
                                    "(No column name)": "1647635"
                                },
                                {
                                    "REND_DATUM": "2015-12-13",
                                    "SZALL_MOD": "NULL",
                                    "(No column name)": "3312667"
                                },
                                {
                                    "REND_DATUM": "2015-12-14",
                                    "SZALL_MOD": "NULL",
                                    "(No column name)": "2459003"
                                },
                                {
                                    "REND_DATUM": "2015-12-15",
                                    "SZALL_MOD": "NULL",
                                    "(No column name)": "2736820"
                                },
                                {
                                    "REND_DATUM": "2015-12-16",
                                    "SZALL_MOD": "NULL",
                                    "(No column name)": "2387901"
                                },
                                {
                                    "REND_DATUM": "2015-12-17",
                                    "SZALL_MOD": "NULL",
                                    "(No column name)": "4227136"
                                },
                                {
                                    "REND_DATUM": "2015-12-18",
                                    "SZALL_MOD": "NULL",
                                    "(No column name)": "2281208"
                                },
                                {
                                    "REND_DATUM": "2015-12-19",
                                    "SZALL_MOD": "NULL",
                                    "(No column name)": "2612221"
                                },
                                {
                                    "REND_DATUM": "2015-12-20",
                                    "SZALL_MOD": "NULL",
                                    "(No column name)": "3931589"
                                },
                                {
                                    "REND_DATUM": "2015-12-21",
                                    "SZALL_MOD": "NULL",
                                    "(No column name)": "2894997"
                                },
                                {
                                    "REND_DATUM": "2015-12-22",
                                    "SZALL_MOD": "NULL",
                                    "(No column name)": "4230329"
                                },
                                {
                                    "REND_DATUM": "2015-12-23",
                                    "SZALL_MOD": "NULL",
                                    "(No column name)": "2300043"
                                },
                                {
                                    "REND_DATUM": "2015-12-24",
                                    "SZALL_MOD": "NULL",
                                    "(No column name)": "2968482"
                                },
                                {
                                    "REND_DATUM": "2015-12-25",
                                    "SZALL_MOD": "NULL",
                                    "(No column name)": "3611304"
                                },
                                {
                                    "REND_DATUM": "2015-12-26",
                                    "SZALL_MOD": "NULL",
                                    "(No column name)": "3101276"
                                },
                                {
                                    "REND_DATUM": "2015-12-27",
                                    "SZALL_MOD": "NULL",
                                    "(No column name)": "2087875"
                                },
                                {
                                    "REND_DATUM": "2015-12-28",
                                    "SZALL_MOD": "NULL",
                                    "(No column name)": "2158528"
                                },
                                {
                                    "REND_DATUM": "2015-12-29",
                                    "SZALL_MOD": "NULL",
                                    "(No column name)": "3751261"
                                },
                                {
                                    "REND_DATUM": "2015-12-30",
                                    "SZALL_MOD": "NULL",
                                    "(No column name)": "4797443"
                                },
                                {
                                    "REND_DATUM": "2015-12-31",
                                    "SZALL_MOD": "NULL",
                                    "(No column name)": "4063267"
                                },
                                {
                                    "REND_DATUM": "2016-01-01",
                                    "SZALL_MOD": "NULL",
                                    "(No column name)": "5030480"
                                },
                                {
                                    "REND_DATUM": "2016-01-02",
                                    "SZALL_MOD": "NULL",
                                    "(No column name)": "3068660"
                                },
                                {
                                    "REND_DATUM": "2016-01-03",
                                    "SZALL_MOD": "NULL",
                                    "(No column name)": "3520100"
                                },
                                {
                                    "REND_DATUM": "2016-01-04",
                                    "SZALL_MOD": "NULL",
                                    "(No column name)": "3094040"
                                },
                                {
                                    "REND_DATUM": "2016-01-05",
                                    "SZALL_MOD": "NULL",
                                    "(No column name)": "5143200"
                                },
                                {
                                    "REND_DATUM": "2016-01-06",
                                    "SZALL_MOD": "NULL",
                                    "(No column name)": "4551470"
                                },
                                {
                                    "REND_DATUM": "2016-01-07",
                                    "SZALL_MOD": "NULL",
                                    "(No column name)": "3544050"
                                },
                                {
                                    "REND_DATUM": "2016-01-08",
                                    "SZALL_MOD": "NULL",
                                    "(No column name)": "5599270"
                                },
                                {
                                    "REND_DATUM": "2016-01-09",
                                    "SZALL_MOD": "NULL",
                                    "(No column name)": "2401880"
                                },
                                {
                                    "REND_DATUM": "2016-01-10",
                                    "SZALL_MOD": "NULL",
                                    "(No column name)": "3192840"
                                },
                                {
                                    "REND_DATUM": "2016-01-11",
                                    "SZALL_MOD": "NULL",
                                    "(No column name)": "3483380"
                                },
                                {
                                    "REND_DATUM": "2016-01-12",
                                    "SZALL_MOD": "NULL",
                                    "(No column name)": "3832960"
                                },
                                {
                                    "REND_DATUM": "2016-01-13",
                                    "SZALL_MOD": "NULL",
                                    "(No column name)": "4325540"
                                },
                                {
                                    "REND_DATUM": "2016-01-14",
                                    "SZALL_MOD": "NULL",
                                    "(No column name)": "3957320"
                                },
                                {
                                    "REND_DATUM": "2016-01-15",
                                    "SZALL_MOD": "NULL",
                                    "(No column name)": "3139500"
                                },
                                {
                                    "REND_DATUM": "2016-01-16",
                                    "SZALL_MOD": "NULL",
                                    "(No column name)": "2932130"
                                },
                                {
                                    "REND_DATUM": "2016-01-17",
                                    "SZALL_MOD": "NULL",
                                    "(No column name)": "2345630"
                                },
                                {
                                    "REND_DATUM": "2016-01-18",
                                    "SZALL_MOD": "NULL",
                                    "(No column name)": "5524280"
                                },
                                {
                                    "REND_DATUM": "2016-01-19",
                                    "SZALL_MOD": "NULL",
                                    "(No column name)": "3852890"
                                },
                                {
                                    "REND_DATUM": "2016-01-20",
                                    "SZALL_MOD": "NULL",
                                    "(No column name)": "5755970"
                                },
                                {
                                    "REND_DATUM": "2016-01-21",
                                    "SZALL_MOD": "NULL",
                                    "(No column name)": "6049940"
                                },
                                {
                                    "REND_DATUM": "2016-01-22",
                                    "SZALL_MOD": "NULL",
                                    "(No column name)": "3172930"
                                },
                                {
                                    "REND_DATUM": "2016-01-23",
                                    "SZALL_MOD": "NULL",
                                    "(No column name)": "4222390"
                                },
                                {
                                    "REND_DATUM": "2016-01-24",
                                    "SZALL_MOD": "NULL",
                                    "(No column name)": "4554680"
                                },
                                {
                                    "REND_DATUM": "2016-01-25",
                                    "SZALL_MOD": "NULL",
                                    "(No column name)": "2879060"
                                },
                                {
                                    "REND_DATUM": "2016-01-26",
                                    "SZALL_MOD": "NULL",
                                    "(No column name)": "5031710"
                                },
                                {
                                    "REND_DATUM": "2016-01-27",
                                    "SZALL_MOD": "NULL",
                                    "(No column name)": "4527100"
                                },
                                {
                                    "REND_DATUM": "2016-01-28",
                                    "SZALL_MOD": "NULL",
                                    "(No column name)": "3415550"
                                },
                                {
                                    "REND_DATUM": "2016-01-29",
                                    "SZALL_MOD": "NULL",
                                    "(No column name)": "4352660"
                                },
                                {
                                    "REND_DATUM": "2016-01-30",
                                    "SZALL_MOD": "NULL",
                                    "(No column name)": "4606680"
                                },
                                {
                                    "REND_DATUM": "2016-01-31",
                                    "SZALL_MOD": "NULL",
                                    "(No column name)": "2129250"
                                },
                                {
                                    "REND_DATUM": "2016-02-01",
                                    "SZALL_MOD": "NULL",
                                    "(No column name)": "3854930"
                                },
                                {
                                    "REND_DATUM": "2016-02-02",
                                    "SZALL_MOD": "NULL",
                                    "(No column name)": "3704110"
                                },
                                {
                                    "REND_DATUM": "2016-02-03",
                                    "SZALL_MOD": "NULL",
                                    "(No column name)": "5305860"
                                },
                                {
                                    "REND_DATUM": "2016-02-04",
                                    "SZALL_MOD": "NULL",
                                    "(No column name)": "4689980"
                                },
                                {
                                    "REND_DATUM": "2016-02-05",
                                    "SZALL_MOD": "NULL",
                                    "(No column name)": "4666330"
                                },
                                {
                                    "REND_DATUM": "2016-02-06",
                                    "SZALL_MOD": "NULL",
                                    "(No column name)": "2328250"
                                },
                                {
                                    "REND_DATUM": "2016-02-07",
                                    "SZALL_MOD": "NULL",
                                    "(No column name)": "4171390"
                                },
                                {
                                    "REND_DATUM": "2016-02-08",
                                    "SZALL_MOD": "NULL",
                                    "(No column name)": "5521240"
                                },
                                {
                                    "REND_DATUM": "2016-02-09",
                                    "SZALL_MOD": "NULL",
                                    "(No column name)": "4429490"
                                },
                                {
                                    "REND_DATUM": "2016-02-10",
                                    "SZALL_MOD": "NULL",
                                    "(No column name)": "2643650"
                                },
                                {
                                    "REND_DATUM": "2016-02-11",
                                    "SZALL_MOD": "NULL",
                                    "(No column name)": "4375480"
                                },
                                {
                                    "REND_DATUM": "2016-02-12",
                                    "SZALL_MOD": "NULL",
                                    "(No column name)": "5422215"
                                },
                                {
                                    "REND_DATUM": "2016-02-13",
                                    "SZALL_MOD": "NULL",
                                    "(No column name)": "6953530"
                                },
                                {
                                    "REND_DATUM": "2016-02-14",
                                    "SZALL_MOD": "NULL",
                                    "(No column name)": "6367760"
                                },
                                {
                                    "REND_DATUM": "2016-02-15",
                                    "SZALL_MOD": "NULL",
                                    "(No column name)": "3598410"
                                },
                                {
                                    "REND_DATUM": "2016-02-16",
                                    "SZALL_MOD": "NULL",
                                    "(No column name)": "1703360"
                                },
                                {
                                    "REND_DATUM": "2016-02-17",
                                    "SZALL_MOD": "NULL",
                                    "(No column name)": "8006740"
                                },
                                {
                                    "REND_DATUM": "2016-02-18",
                                    "SZALL_MOD": "NULL",
                                    "(No column name)": "3828020"
                                },
                                {
                                    "REND_DATUM": "2016-02-19",
                                    "SZALL_MOD": "NULL",
                                    "(No column name)": "4125360"
                                },
                                {
                                    "REND_DATUM": "2016-02-20",
                                    "SZALL_MOD": "NULL",
                                    "(No column name)": "4192140"
                                },
                                {
                                    "REND_DATUM": "2016-02-21",
                                    "SZALL_MOD": "NULL",
                                    "(No column name)": "5090530"
                                },
                                {
                                    "REND_DATUM": "2016-02-22",
                                    "SZALL_MOD": "NULL",
                                    "(No column name)": "5003360"
                                },
                                {
                                    "REND_DATUM": "2016-02-23",
                                    "SZALL_MOD": "NULL",
                                    "(No column name)": "5548320"
                                },
                                {
                                    "REND_DATUM": "2016-02-24",
                                    "SZALL_MOD": "NULL",
                                    "(No column name)": "4131490"
                                },
                                {
                                    "REND_DATUM": "2016-02-25",
                                    "SZALL_MOD": "NULL",
                                    "(No column name)": "2243060"
                                },
                                {
                                    "REND_DATUM": "2016-02-26",
                                    "SZALL_MOD": "NULL",
                                    "(No column name)": "5007140"
                                },
                                {
                                    "REND_DATUM": "2016-02-27",
                                    "SZALL_MOD": "NULL",
                                    "(No column name)": "4711070"
                                },
                                {
                                    "REND_DATUM": "2016-02-28",
                                    "SZALL_MOD": "NULL",
                                    "(No column name)": "5702270"
                                },
                                {
                                    "REND_DATUM": "2016-02-29",
                                    "SZALL_MOD": "NULL",
                                    "(No column name)": "4062020"
                                },
                                {
                                    "REND_DATUM": "2016-03-01",
                                    "SZALL_MOD": "NULL",
                                    "(No column name)": "2722790"
                                },
                                {
                                    "REND_DATUM": "2016-03-02",
                                    "SZALL_MOD": "NULL",
                                    "(No column name)": "3088390"
                                },
                                {
                                    "REND_DATUM": "2016-03-03",
                                    "SZALL_MOD": "NULL",
                                    "(No column name)": "4901560"
                                },
                                {
                                    "REND_DATUM": "2016-03-04",
                                    "SZALL_MOD": "NULL",
                                    "(No column name)": "3210630"
                                },
                                {
                                    "REND_DATUM": "2016-03-05",
                                    "SZALL_MOD": "NULL",
                                    "(No column name)": "2508360"
                                },
                                {
                                    "REND_DATUM": "2016-03-06",
                                    "SZALL_MOD": "NULL",
                                    "(No column name)": "2868670"
                                },
                                {
                                    "REND_DATUM": "2016-03-07",
                                    "SZALL_MOD": "NULL",
                                    "(No column name)": "6382670"
                                },
                                {
                                    "REND_DATUM": "2016-03-08",
                                    "SZALL_MOD": "NULL",
                                    "(No column name)": "2974690"
                                },
                                {
                                    "REND_DATUM": "2016-03-09",
                                    "SZALL_MOD": "NULL",
                                    "(No column name)": "3443790"
                                },
                                {
                                    "REND_DATUM": "2016-03-10",
                                    "SZALL_MOD": "NULL",
                                    "(No column name)": "3981330"
                                },
                                {
                                    "REND_DATUM": "2016-03-11",
                                    "SZALL_MOD": "NULL",
                                    "(No column name)": "3427360"
                                },
                                {
                                    "REND_DATUM": "2016-03-12",
                                    "SZALL_MOD": "NULL",
                                    "(No column name)": "3955500"
                                },
                                {
                                    "REND_DATUM": "2016-03-13",
                                    "SZALL_MOD": "NULL",
                                    "(No column name)": "4285210"
                                },
                                {
                                    "REND_DATUM": "2016-03-14",
                                    "SZALL_MOD": "NULL",
                                    "(No column name)": "4039930"
                                },
                                {
                                    "REND_DATUM": "2016-03-15",
                                    "SZALL_MOD": "NULL",
                                    "(No column name)": "2949150"
                                },
                                {
                                    "REND_DATUM": "2016-03-16",
                                    "SZALL_MOD": "NULL",
                                    "(No column name)": "3554350"
                                },
                                {
                                    "REND_DATUM": "2016-03-17",
                                    "SZALL_MOD": "NULL",
                                    "(No column name)": "4329390"
                                },
                                {
                                    "REND_DATUM": "2016-03-18",
                                    "SZALL_MOD": "NULL",
                                    "(No column name)": "3432310"
                                },
                                {
                                    "REND_DATUM": "2016-03-19",
                                    "SZALL_MOD": "NULL",
                                    "(No column name)": "3783340"
                                },
                                {
                                    "REND_DATUM": "2016-03-20",
                                    "SZALL_MOD": "NULL",
                                    "(No column name)": "3928035"
                                },
                                {
                                    "REND_DATUM": "2016-03-21",
                                    "SZALL_MOD": "NULL",
                                    "(No column name)": "4638550"
                                },
                                {
                                    "REND_DATUM": "2016-03-22",
                                    "SZALL_MOD": "NULL",
                                    "(No column name)": "3483200"
                                },
                                {
                                    "REND_DATUM": "2016-03-23",
                                    "SZALL_MOD": "NULL",
                                    "(No column name)": "2021610"
                                },
                                {
                                    "REND_DATUM": "2016-03-24",
                                    "SZALL_MOD": "NULL",
                                    "(No column name)": "4387210"
                                },
                                {
                                    "REND_DATUM": "2016-03-25",
                                    "SZALL_MOD": "NULL",
                                    "(No column name)": "2753250"
                                },
                                {
                                    "REND_DATUM": "2016-03-26",
                                    "SZALL_MOD": "NULL",
                                    "(No column name)": "3024420"
                                },
                                {
                                    "REND_DATUM": "2016-03-27",
                                    "SZALL_MOD": "NULL",
                                    "(No column name)": "5555880"
                                },
                                {
                                    "REND_DATUM": "2016-03-28",
                                    "SZALL_MOD": "NULL",
                                    "(No column name)": "5169580"
                                },
                                {
                                    "REND_DATUM": "2016-03-29",
                                    "SZALL_MOD": "NULL",
                                    "(No column name)": "4055210"
                                },
                                {
                                    "REND_DATUM": "2016-03-30",
                                    "SZALL_MOD": "NULL",
                                    "(No column name)": "3786330"
                                },
                                {
                                    "REND_DATUM": "2016-03-31",
                                    "SZALL_MOD": "NULL",
                                    "(No column name)": "3082690"
                                },
                                {
                                    "REND_DATUM": "2016-04-01",
                                    "SZALL_MOD": "NULL",
                                    "(No column name)": "3306650"
                                },
                                {
                                    "REND_DATUM": "2016-04-02",
                                    "SZALL_MOD": "NULL",
                                    "(No column name)": "3412610"
                                },
                                {
                                    "REND_DATUM": "2016-04-03",
                                    "SZALL_MOD": "NULL",
                                    "(No column name)": "3592680"
                                },
                                {
                                    "REND_DATUM": "2016-04-04",
                                    "SZALL_MOD": "NULL",
                                    "(No column name)": "6800170"
                                },
                                {
                                    "REND_DATUM": "2016-04-05",
                                    "SZALL_MOD": "NULL",
                                    "(No column name)": "3180810"
                                },
                                {
                                    "REND_DATUM": "2016-04-06",
                                    "SZALL_MOD": "NULL",
                                    "(No column name)": "4450520"
                                },
                                {
                                    "REND_DATUM": "2016-04-07",
                                    "SZALL_MOD": "NULL",
                                    "(No column name)": "4476330"
                                },
                                {
                                    "REND_DATUM": "2016-04-08",
                                    "SZALL_MOD": "NULL",
                                    "(No column name)": "4551850"
                                },
                                {
                                    "REND_DATUM": "2016-04-09",
                                    "SZALL_MOD": "NULL",
                                    "(No column name)": "3692290"
                                },
                                {
                                    "REND_DATUM": "2016-04-10",
                                    "SZALL_MOD": "NULL",
                                    "(No column name)": "3295330"
                                },
                                {
                                    "REND_DATUM": "2016-04-11",
                                    "SZALL_MOD": "NULL",
                                    "(No column name)": "4279830"
                                },
                                {
                                    "REND_DATUM": "2016-04-12",
                                    "SZALL_MOD": "NULL",
                                    "(No column name)": "2860600"
                                },
                                {
                                    "REND_DATUM": "2016-04-13",
                                    "SZALL_MOD": "NULL",
                                    "(No column name)": "2883880"
                                },
                                {
                                    "REND_DATUM": "2016-04-14",
                                    "SZALL_MOD": "NULL",
                                    "(No column name)": "4694350"
                                },
                                {
                                    "REND_DATUM": "2016-04-15",
                                    "SZALL_MOD": "NULL",
                                    "(No column name)": "2607260"
                                },
                                {
                                    "REND_DATUM": "2016-04-16",
                                    "SZALL_MOD": "NULL",
                                    "(No column name)": "5826970"
                                },
                                {
                                    "REND_DATUM": "2016-04-17",
                                    "SZALL_MOD": "NULL",
                                    "(No column name)": "2419010"
                                },
                                {
                                    "REND_DATUM": "2016-04-18",
                                    "SZALL_MOD": "NULL",
                                    "(No column name)": "5328450"
                                },
                                {
                                    "REND_DATUM": "2016-04-19",
                                    "SZALL_MOD": "NULL",
                                    "(No column name)": "4631880"
                                },
                                {
                                    "REND_DATUM": "2016-04-20",
                                    "SZALL_MOD": "NULL",
                                    "(No column name)": "3788760"
                                },
                                {
                                    "REND_DATUM": "2016-04-21",
                                    "SZALL_MOD": "NULL",
                                    "(No column name)": "2174100"
                                },
                                {
                                    "REND_DATUM": "2016-04-22",
                                    "SZALL_MOD": "NULL",
                                    "(No column name)": "5151720"
                                },
                                {
                                    "REND_DATUM": "2016-04-23",
                                    "SZALL_MOD": "NULL",
                                    "(No column name)": "3825090"
                                },
                                {
                                    "REND_DATUM": "2016-04-24",
                                    "SZALL_MOD": "NULL",
                                    "(No column name)": "5384200"
                                },
                                {
                                    "REND_DATUM": "2016-04-25",
                                    "SZALL_MOD": "NULL",
                                    "(No column name)": "6807540"
                                },
                                {
                                    "REND_DATUM": "2016-04-26",
                                    "SZALL_MOD": "NULL",
                                    "(No column name)": "6011750"
                                },
                                {
                                    "REND_DATUM": "2016-04-27",
                                    "SZALL_MOD": "NULL",
                                    "(No column name)": "3856170"
                                },
                                {
                                    "REND_DATUM": "2016-04-28",
                                    "SZALL_MOD": "NULL",
                                    "(No column name)": "4204860"
                                },
                                {
                                    "REND_DATUM": "2016-04-29",
                                    "SZALL_MOD": "NULL",
                                    "(No column name)": "4482680"
                                },
                                {
                                    "REND_DATUM": "2016-04-30",
                                    "SZALL_MOD": "NULL",
                                    "(No column name)": "2979440"
                                },
                                {
                                    "REND_DATUM": "2016-05-01",
                                    "SZALL_MOD": "NULL",
                                    "(No column name)": "2293680"
                                },
                                {
                                    "REND_DATUM": "2016-05-02",
                                    "SZALL_MOD": "NULL",
                                    "(No column name)": "3918350"
                                },
                                {
                                    "REND_DATUM": "2016-05-03",
                                    "SZALL_MOD": "NULL",
                                    "(No column name)": "3628420"
                                },
                                {
                                    "REND_DATUM": "2016-05-04",
                                    "SZALL_MOD": "NULL",
                                    "(No column name)": "4370490"
                                },
                                {
                                    "REND_DATUM": "2016-05-05",
                                    "SZALL_MOD": "NULL",
                                    "(No column name)": "2998610"
                                },
                                {
                                    "REND_DATUM": "2016-05-06",
                                    "SZALL_MOD": "NULL",
                                    "(No column name)": "3479790"
                                },
                                {
                                    "REND_DATUM": "2016-05-07",
                                    "SZALL_MOD": "NULL",
                                    "(No column name)": "4802390"
                                },
                                {
                                    "REND_DATUM": "2016-05-08",
                                    "SZALL_MOD": "NULL",
                                    "(No column name)": "4336200"
                                },
                                {
                                    "REND_DATUM": "2016-05-09",
                                    "SZALL_MOD": "NULL",
                                    "(No column name)": "4149360"
                                },
                                {
                                    "REND_DATUM": "2016-05-10",
                                    "SZALL_MOD": "NULL",
                                    "(No column name)": "3968580"
                                },
                                {
                                    "REND_DATUM": "2016-05-11",
                                    "SZALL_MOD": "NULL",
                                    "(No column name)": "4380820"
                                },
                                {
                                    "REND_DATUM": "2016-05-12",
                                    "SZALL_MOD": "NULL",
                                    "(No column name)": "5935710"
                                },
                                {
                                    "REND_DATUM": "2016-05-13",
                                    "SZALL_MOD": "NULL",
                                    "(No column name)": "3034090"
                                },
                                {
                                    "REND_DATUM": "2016-05-14",
                                    "SZALL_MOD": "NULL",
                                    "(No column name)": "3058270"
                                },
                                {
                                    "REND_DATUM": "2016-05-15",
                                    "SZALL_MOD": "NULL",
                                    "(No column name)": "3803500"
                                },
                                {
                                    "REND_DATUM": "2016-05-16",
                                    "SZALL_MOD": "NULL",
                                    "(No column name)": "3550980"
                                },
                                {
                                    "REND_DATUM": "2016-05-17",
                                    "SZALL_MOD": "NULL",
                                    "(No column name)": "4300410"
                                },
                                {
                                    "REND_DATUM": "2016-05-18",
                                    "SZALL_MOD": "NULL",
                                    "(No column name)": "3043880"
                                },
                                {
                                    "REND_DATUM": "2016-05-19",
                                    "SZALL_MOD": "NULL",
                                    "(No column name)": "2787020"
                                },
                                {
                                    "REND_DATUM": "2016-05-20",
                                    "SZALL_MOD": "NULL",
                                    "(No column name)": "2967570"
                                },
                                {
                                    "REND_DATUM": "2016-05-21",
                                    "SZALL_MOD": "NULL",
                                    "(No column name)": "3034050"
                                },
                                {
                                    "REND_DATUM": "2016-05-22",
                                    "SZALL_MOD": "NULL",
                                    "(No column name)": "3956770"
                                },
                                {
                                    "REND_DATUM": "2016-05-23",
                                    "SZALL_MOD": "NULL",
                                    "(No column name)": "4874065"
                                },
                                {
                                    "REND_DATUM": "2016-05-24",
                                    "SZALL_MOD": "NULL",
                                    "(No column name)": "1395460"
                                },
                                {
                                    "REND_DATUM": "2016-05-25",
                                    "SZALL_MOD": "NULL",
                                    "(No column name)": "2226600"
                                },
                                {
                                    "REND_DATUM": "2016-05-26",
                                    "SZALL_MOD": "NULL",
                                    "(No column name)": "1942760"
                                },
                                {
                                    "REND_DATUM": "2016-05-27",
                                    "SZALL_MOD": "NULL",
                                    "(No column name)": "3741660"
                                },
                                {
                                    "REND_DATUM": "2016-05-28",
                                    "SZALL_MOD": "NULL",
                                    "(No column name)": "3364000"
                                },
                                {
                                    "REND_DATUM": "2016-05-29",
                                    "SZALL_MOD": "NULL",
                                    "(No column name)": "3132810"
                                },
                                {
                                    "REND_DATUM": "2016-05-30",
                                    "SZALL_MOD": "NULL",
                                    "(No column name)": "3719580"
                                },
                                {
                                    "REND_DATUM": "2016-05-31",
                                    "SZALL_MOD": "NULL",
                                    "(No column name)": "3975700"
                                },
                                {
                                    "REND_DATUM": "2016-06-01",
                                    "SZALL_MOD": "NULL",
                                    "(No column name)": "5036510"
                                },
                                {
                                    "REND_DATUM": "2016-06-02",
                                    "SZALL_MOD": "NULL",
                                    "(No column name)": "3453860"
                                },
                                {
                                    "REND_DATUM": "2016-06-03",
                                    "SZALL_MOD": "NULL",
                                    "(No column name)": "2945650"
                                },
                                {
                                    "REND_DATUM": "2016-06-04",
                                    "SZALL_MOD": "NULL",
                                    "(No column name)": "5691630"
                                },
                                {
                                    "REND_DATUM": "2016-06-05",
                                    "SZALL_MOD": "NULL",
                                    "(No column name)": "2779010"
                                },
                                {
                                    "REND_DATUM": "2016-06-06",
                                    "SZALL_MOD": "NULL",
                                    "(No column name)": "2941290"
                                },
                                {
                                    "REND_DATUM": "2016-06-07",
                                    "SZALL_MOD": "NULL",
                                    "(No column name)": "3706180"
                                },
                                {
                                    "REND_DATUM": "2016-06-08",
                                    "SZALL_MOD": "NULL",
                                    "(No column name)": "4959630"
                                },
                                {
                                    "REND_DATUM": "2016-06-09",
                                    "SZALL_MOD": "NULL",
                                    "(No column name)": "5129750"
                                },
                                {
                                    "REND_DATUM": "2016-06-10",
                                    "SZALL_MOD": "NULL",
                                    "(No column name)": "2295190"
                                },
                                {
                                    "REND_DATUM": "2016-06-11",
                                    "SZALL_MOD": "NULL",
                                    "(No column name)": "2306260"
                                },
                                {
                                    "REND_DATUM": "2016-06-12",
                                    "SZALL_MOD": "NULL",
                                    "(No column name)": "6920770"
                                },
                                {
                                    "REND_DATUM": "2016-06-13",
                                    "SZALL_MOD": "NULL",
                                    "(No column name)": "3467450"
                                },
                                {
                                    "REND_DATUM": "2016-06-14",
                                    "SZALL_MOD": "NULL",
                                    "(No column name)": "3455120"
                                },
                                {
                                    "REND_DATUM": "2016-06-15",
                                    "SZALL_MOD": "NULL",
                                    "(No column name)": "3287980"
                                },
                                {
                                    "REND_DATUM": "2016-06-16",
                                    "SZALL_MOD": "NULL",
                                    "(No column name)": "3607860"
                                },
                                {
                                    "REND_DATUM": "2016-06-17",
                                    "SZALL_MOD": "NULL",
                                    "(No column name)": "3937495"
                                },
                                {
                                    "REND_DATUM": "2016-06-18",
                                    "SZALL_MOD": "NULL",
                                    "(No column name)": "4126910"
                                },
                                {
                                    "REND_DATUM": "2016-06-19",
                                    "SZALL_MOD": "NULL",
                                    "(No column name)": "2782175"
                                },
                                {
                                    "REND_DATUM": "2016-06-20",
                                    "SZALL_MOD": "NULL",
                                    "(No column name)": "2819270"
                                },
                                {
                                    "REND_DATUM": "2016-06-21",
                                    "SZALL_MOD": "NULL",
                                    "(No column name)": "4079830"
                                },
                                {
                                    "REND_DATUM": "2016-06-22",
                                    "SZALL_MOD": "NULL",
                                    "(No column name)": "3871260"
                                },
                                {
                                    "REND_DATUM": "2016-06-23",
                                    "SZALL_MOD": "NULL",
                                    "(No column name)": "3123280"
                                },
                                {
                                    "REND_DATUM": "2016-06-24",
                                    "SZALL_MOD": "NULL",
                                    "(No column name)": "4701270"
                                },
                                {
                                    "REND_DATUM": "2016-06-25",
                                    "SZALL_MOD": "NULL",
                                    "(No column name)": "5602990"
                                },
                                {
                                    "REND_DATUM": "2016-06-26",
                                    "SZALL_MOD": "NULL",
                                    "(No column name)": "3921100"
                                },
                                {
                                    "REND_DATUM": "2016-06-27",
                                    "SZALL_MOD": "NULL",
                                    "(No column name)": "4251000"
                                },
                                {
                                    "REND_DATUM": "2016-06-28",
                                    "SZALL_MOD": "NULL",
                                    "(No column name)": "3311360"
                                },
                                {
                                    "REND_DATUM": "2016-06-29",
                                    "SZALL_MOD": "NULL",
                                    "(No column name)": "3511800"
                                },
                                {
                                    "REND_DATUM": "2016-06-30",
                                    "SZALL_MOD": "NULL",
                                    "(No column name)": "4070860"
                                },
                                {
                                    "REND_DATUM": "2016-07-01",
                                    "SZALL_MOD": "NULL",
                                    "(No column name)": "3317100"
                                },
                                {
                                    "REND_DATUM": "2016-07-02",
                                    "SZALL_MOD": "NULL",
                                    "(No column name)": "4600570"
                                },
                                {
                                    "REND_DATUM": "2016-07-03",
                                    "SZALL_MOD": "NULL",
                                    "(No column name)": "5444060"
                                },
                                {
                                    "REND_DATUM": "2016-07-04",
                                    "SZALL_MOD": "NULL",
                                    "(No column name)": "4756480"
                                },
                                {
                                    "REND_DATUM": "2016-07-05",
                                    "SZALL_MOD": "NULL",
                                    "(No column name)": "4043950"
                                },
                                {
                                    "REND_DATUM": "2016-07-06",
                                    "SZALL_MOD": "NULL",
                                    "(No column name)": "3108900"
                                },
                                {
                                    "REND_DATUM": "2016-07-07",
                                    "SZALL_MOD": "NULL",
                                    "(No column name)": "2938855"
                                },
                                {
                                    "REND_DATUM": "2016-07-08",
                                    "SZALL_MOD": "NULL",
                                    "(No column name)": "4348870"
                                },
                                {
                                    "REND_DATUM": "2016-07-09",
                                    "SZALL_MOD": "NULL",
                                    "(No column name)": "3147400"
                                },
                                {
                                    "REND_DATUM": "2016-07-10",
                                    "SZALL_MOD": "NULL",
                                    "(No column name)": "1886240"
                                },
                                {
                                    "REND_DATUM": "2016-07-11",
                                    "SZALL_MOD": "NULL",
                                    "(No column name)": "4839760"
                                },
                                {
                                    "REND_DATUM": "2016-07-12",
                                    "SZALL_MOD": "NULL",
                                    "(No column name)": "3860690"
                                },
                                {
                                    "REND_DATUM": "2016-07-13",
                                    "SZALL_MOD": "NULL",
                                    "(No column name)": "3195330"
                                },
                                {
                                    "REND_DATUM": "2016-07-14",
                                    "SZALL_MOD": "NULL",
                                    "(No column name)": "4294090"
                                },
                                {
                                    "REND_DATUM": "2016-07-15",
                                    "SZALL_MOD": "NULL",
                                    "(No column name)": "4450830"
                                },
                                {
                                    "REND_DATUM": "2016-07-16",
                                    "SZALL_MOD": "NULL",
                                    "(No column name)": "6548830"
                                },
                                {
                                    "REND_DATUM": "2016-07-17",
                                    "SZALL_MOD": "NULL",
                                    "(No column name)": "2148990"
                                },
                                {
                                    "REND_DATUM": "2016-07-18",
                                    "SZALL_MOD": "NULL",
                                    "(No column name)": "3667830"
                                },
                                {
                                    "REND_DATUM": "2016-07-19",
                                    "SZALL_MOD": "NULL",
                                    "(No column name)": "6477250"
                                },
                                {
                                    "REND_DATUM": "2016-07-20",
                                    "SZALL_MOD": "NULL",
                                    "(No column name)": "2935850"
                                },
                                {
                                    "REND_DATUM": "2016-07-21",
                                    "SZALL_MOD": "NULL",
                                    "(No column name)": "4563250"
                                },
                                {
                                    "REND_DATUM": "2016-07-22",
                                    "SZALL_MOD": "NULL",
                                    "(No column name)": "2710320"
                                },
                                {
                                    "REND_DATUM": "2016-07-23",
                                    "SZALL_MOD": "NULL",
                                    "(No column name)": "2075990"
                                },
                                {
                                    "REND_DATUM": "2016-07-24",
                                    "SZALL_MOD": "NULL",
                                    "(No column name)": "3637400"
                                },
                                {
                                    "REND_DATUM": "2016-07-25",
                                    "SZALL_MOD": "NULL",
                                    "(No column name)": "3057190"
                                },
                                {
                                    "REND_DATUM": "2016-07-26",
                                    "SZALL_MOD": "NULL",
                                    "(No column name)": "3535080"
                                },
                                {
                                    "REND_DATUM": "2016-07-27",
                                    "SZALL_MOD": "NULL",
                                    "(No column name)": "3501880"
                                },
                                {
                                    "REND_DATUM": "2016-07-28",
                                    "SZALL_MOD": "NULL",
                                    "(No column name)": "3414510"
                                },
                                {
                                    "REND_DATUM": "2016-07-29",
                                    "SZALL_MOD": "NULL",
                                    "(No column name)": "4318670"
                                },
                                {
                                    "REND_DATUM": "2016-07-30",
                                    "SZALL_MOD": "NULL",
                                    "(No column name)": "3094480"
                                },
                                {
                                    "REND_DATUM": "2016-07-31",
                                    "SZALL_MOD": "NULL",
                                    "(No column name)": "4049830"
                                },
                                {
                                    "REND_DATUM": "2016-08-01",
                                    "SZALL_MOD": "NULL",
                                    "(No column name)": "3714550"
                                },
                                {
                                    "REND_DATUM": "2016-08-02",
                                    "SZALL_MOD": "NULL",
                                    "(No column name)": "2823170"
                                },
                                {
                                    "REND_DATUM": "2016-08-03",
                                    "SZALL_MOD": "NULL",
                                    "(No column name)": "4405360"
                                },
                                {
                                    "REND_DATUM": "2016-08-04",
                                    "SZALL_MOD": "NULL",
                                    "(No column name)": "5143210"
                                },
                                {
                                    "REND_DATUM": "2016-08-05",
                                    "SZALL_MOD": "NULL",
                                    "(No column name)": "6344325"
                                },
                                {
                                    "REND_DATUM": "2016-08-06",
                                    "SZALL_MOD": "NULL",
                                    "(No column name)": "4461710"
                                },
                                {
                                    "REND_DATUM": "2016-08-07",
                                    "SZALL_MOD": "NULL",
                                    "(No column name)": "3172660"
                                },
                                {
                                    "REND_DATUM": "2016-08-08",
                                    "SZALL_MOD": "NULL",
                                    "(No column name)": "6024240"
                                },
                                {
                                    "REND_DATUM": "2016-08-09",
                                    "SZALL_MOD": "NULL",
                                    "(No column name)": "2974140"
                                },
                                {
                                    "REND_DATUM": "2016-08-10",
                                    "SZALL_MOD": "NULL",
                                    "(No column name)": "4711370"
                                },
                                {
                                    "REND_DATUM": "2016-08-11",
                                    "SZALL_MOD": "NULL",
                                    "(No column name)": "2939950"
                                },
                                {
                                    "REND_DATUM": "2016-08-12",
                                    "SZALL_MOD": "NULL",
                                    "(No column name)": "2676445"
                                },
                                {
                                    "REND_DATUM": "2016-08-13",
                                    "SZALL_MOD": "NULL",
                                    "(No column name)": "3581600"
                                },
                                {
                                    "REND_DATUM": "2016-08-14",
                                    "SZALL_MOD": "NULL",
                                    "(No column name)": "6249145"
                                },
                                {
                                    "REND_DATUM": "2016-08-15",
                                    "SZALL_MOD": "NULL",
                                    "(No column name)": "3878090"
                                },
                                {
                                    "REND_DATUM": "2016-08-16",
                                    "SZALL_MOD": "NULL",
                                    "(No column name)": "2978685"
                                },
                                {
                                    "REND_DATUM": "2016-08-17",
                                    "SZALL_MOD": "NULL",
                                    "(No column name)": "3824130"
                                },
                                {
                                    "REND_DATUM": "2016-08-18",
                                    "SZALL_MOD": "NULL",
                                    "(No column name)": "3610485"
                                },
                                {
                                    "REND_DATUM": "2016-08-19",
                                    "SZALL_MOD": "NULL",
                                    "(No column name)": "4219950"
                                },
                                {
                                    "REND_DATUM": "2016-08-20",
                                    "SZALL_MOD": "NULL",
                                    "(No column name)": "4412110"
                                },
                                {
                                    "REND_DATUM": "2016-08-21",
                                    "SZALL_MOD": "NULL",
                                    "(No column name)": "3168900"
                                },
                                {
                                    "REND_DATUM": "2016-08-22",
                                    "SZALL_MOD": "NULL",
                                    "(No column name)": "4581880"
                                },
                                {
                                    "REND_DATUM": "2016-08-23",
                                    "SZALL_MOD": "NULL",
                                    "(No column name)": "4155090"
                                },
                                {
                                    "REND_DATUM": "2016-08-24",
                                    "SZALL_MOD": "NULL",
                                    "(No column name)": "3428670"
                                },
                                {
                                    "REND_DATUM": "2016-08-25",
                                    "SZALL_MOD": "NULL",
                                    "(No column name)": "5158350"
                                },
                                {
                                    "REND_DATUM": "2016-08-26",
                                    "SZALL_MOD": "NULL",
                                    "(No column name)": "2664520"
                                },
                                {
                                    "REND_DATUM": "2016-08-27",
                                    "SZALL_MOD": "NULL",
                                    "(No column name)": "2614860"
                                },
                                {
                                    "REND_DATUM": "2016-08-28",
                                    "SZALL_MOD": "NULL",
                                    "(No column name)": "4317420"
                                },
                                {
                                    "REND_DATUM": "2016-08-29",
                                    "SZALL_MOD": "NULL",
                                    "(No column name)": "6548300"
                                },
                                {
                                    "REND_DATUM": "2016-08-30",
                                    "SZALL_MOD": "NULL",
                                    "(No column name)": "5068580"
                                },
                                {
                                    "REND_DATUM": "2016-08-31",
                                    "SZALL_MOD": "NULL",
                                    "(No column name)": "4123350"
                                },
                                {
                                    "REND_DATUM": "2016-09-01",
                                    "SZALL_MOD": "NULL",
                                    "(No column name)": "3148220"
                                },
                                {
                                    "REND_DATUM": "2016-09-02",
                                    "SZALL_MOD": "NULL",
                                    "(No column name)": "5254130"
                                },
                                {
                                    "REND_DATUM": "2016-09-03",
                                    "SZALL_MOD": "NULL",
                                    "(No column name)": "4476700"
                                },
                                {
                                    "REND_DATUM": "2016-09-04",
                                    "SZALL_MOD": "NULL",
                                    "(No column name)": "4217920"
                                },
                                {
                                    "REND_DATUM": "2016-09-05",
                                    "SZALL_MOD": "NULL",
                                    "(No column name)": "2793940"
                                },
                                {
                                    "REND_DATUM": "2016-09-06",
                                    "SZALL_MOD": "NULL",
                                    "(No column name)": "5497420"
                                },
                                {
                                    "REND_DATUM": "2016-09-07",
                                    "SZALL_MOD": "NULL",
                                    "(No column name)": "3324940"
                                },
                                {
                                    "REND_DATUM": "2016-09-08",
                                    "SZALL_MOD": "NULL",
                                    "(No column name)": "4160480"
                                },
                                {
                                    "REND_DATUM": "2016-09-09",
                                    "SZALL_MOD": "NULL",
                                    "(No column name)": "4977540"
                                },
                                {
                                    "REND_DATUM": "2016-09-10",
                                    "SZALL_MOD": "NULL",
                                    "(No column name)": "3750970"
                                },
                                {
                                    "REND_DATUM": "2016-09-11",
                                    "SZALL_MOD": "NULL",
                                    "(No column name)": "3970890"
                                },
                                {
                                    "REND_DATUM": "2016-09-12",
                                    "SZALL_MOD": "NULL",
                                    "(No column name)": "1827140"
                                },
                                {
                                    "REND_DATUM": "2016-09-13",
                                    "SZALL_MOD": "NULL",
                                    "(No column name)": "3378290"
                                },
                                {
                                    "REND_DATUM": "2016-09-14",
                                    "SZALL_MOD": "NULL",
                                    "(No column name)": "3275790"
                                },
                                {
                                    "REND_DATUM": "2016-09-15",
                                    "SZALL_MOD": "NULL",
                                    "(No column name)": "2904820"
                                },
                                {
                                    "REND_DATUM": "2016-09-16",
                                    "SZALL_MOD": "NULL",
                                    "(No column name)": "3143690"
                                },
                                {
                                    "REND_DATUM": "2016-09-17",
                                    "SZALL_MOD": "NULL",
                                    "(No column name)": "3588830"
                                },
                                {
                                    "REND_DATUM": "2016-09-18",
                                    "SZALL_MOD": "NULL",
                                    "(No column name)": "3626170"
                                },
                                {
                                    "REND_DATUM": "2016-09-19",
                                    "SZALL_MOD": "NULL",
                                    "(No column name)": "3612840"
                                },
                                {
                                    "REND_DATUM": "2016-09-20",
                                    "SZALL_MOD": "NULL",
                                    "(No column name)": "2857140"
                                },
                                {
                                    "REND_DATUM": "2016-09-21",
                                    "SZALL_MOD": "NULL",
                                    "(No column name)": "3382990"
                                },
                                {
                                    "REND_DATUM": "2016-09-22",
                                    "SZALL_MOD": "NULL",
                                    "(No column name)": "3225910"
                                },
                                {
                                    "REND_DATUM": "2016-09-23",
                                    "SZALL_MOD": "NULL",
                                    "(No column name)": "5785540"
                                },
                                {
                                    "REND_DATUM": "2016-09-24",
                                    "SZALL_MOD": "NULL",
                                    "(No column name)": "4130750"
                                },
                                {
                                    "REND_DATUM": "2016-09-25",
                                    "SZALL_MOD": "NULL",
                                    "(No column name)": "2735230"
                                },
                                {
                                    "REND_DATUM": "2016-09-26",
                                    "SZALL_MOD": "NULL",
                                    "(No column name)": "3598470"
                                },
                                {
                                    "REND_DATUM": "2016-09-27",
                                    "SZALL_MOD": "NULL",
                                    "(No column name)": "4192050"
                                },
                                {
                                    "REND_DATUM": "2016-09-28",
                                    "SZALL_MOD": "NULL",
                                    "(No column name)": "3822220"
                                },
                                {
                                    "REND_DATUM": "2016-09-29",
                                    "SZALL_MOD": "NULL",
                                    "(No column name)": "3610090"
                                },
                                {
                                    "REND_DATUM": "2016-09-30",
                                    "SZALL_MOD": "NULL",
                                    "(No column name)": "4433110"
                                },
                                {
                                    "REND_DATUM": "2016-10-01",
                                    "SZALL_MOD": "NULL",
                                    "(No column name)": "4321100"
                                },
                                {
                                    "REND_DATUM": "2016-10-02",
                                    "SZALL_MOD": "NULL",
                                    "(No column name)": "7342180"
                                },
                                {
                                    "REND_DATUM": "2016-10-03",
                                    "SZALL_MOD": "NULL",
                                    "(No column name)": "2530600"
                                },
                                {
                                    "REND_DATUM": "2016-10-04",
                                    "SZALL_MOD": "NULL",
                                    "(No column name)": "3178120"
                                },
                                {
                                    "REND_DATUM": "2016-10-05",
                                    "SZALL_MOD": "NULL",
                                    "(No column name)": "3415600"
                                },
                                {
                                    "REND_DATUM": "2016-10-06",
                                    "SZALL_MOD": "NULL",
                                    "(No column name)": "4094340"
                                },
                                {
                                    "REND_DATUM": "2016-10-07",
                                    "SZALL_MOD": "NULL",
                                    "(No column name)": "3170460"
                                },
                                {
                                    "REND_DATUM": "2016-10-08",
                                    "SZALL_MOD": "NULL",
                                    "(No column name)": "3047790"
                                },
                                {
                                    "REND_DATUM": "2016-10-09",
                                    "SZALL_MOD": "NULL",
                                    "(No column name)": "4145430"
                                },
                                {
                                    "REND_DATUM": "2016-10-10",
                                    "SZALL_MOD": "NULL",
                                    "(No column name)": "3907950"
                                },
                                {
                                    "REND_DATUM": "2016-10-11",
                                    "SZALL_MOD": "NULL",
                                    "(No column name)": "2903360"
                                },
                                {
                                    "REND_DATUM": "2016-10-12",
                                    "SZALL_MOD": "NULL",
                                    "(No column name)": "3427980"
                                },
                                {
                                    "REND_DATUM": "2016-10-13",
                                    "SZALL_MOD": "NULL",
                                    "(No column name)": "4736260"
                                },
                                {
                                    "REND_DATUM": "2016-10-14",
                                    "SZALL_MOD": "NULL",
                                    "(No column name)": "2779700"
                                },
                                {
                                    "REND_DATUM": "2016-10-15",
                                    "SZALL_MOD": "NULL",
                                    "(No column name)": "2961100"
                                },
                                {
                                    "REND_DATUM": "2016-10-16",
                                    "SZALL_MOD": "NULL",
                                    "(No column name)": "4068640"
                                },
                                {
                                    "REND_DATUM": "2016-10-17",
                                    "SZALL_MOD": "NULL",
                                    "(No column name)": "3379770"
                                },
                                {
                                    "REND_DATUM": "2016-10-18",
                                    "SZALL_MOD": "NULL",
                                    "(No column name)": "4760830"
                                },
                                {
                                    "REND_DATUM": "2016-10-19",
                                    "SZALL_MOD": "NULL",
                                    "(No column name)": "5218770"
                                },
                                {
                                    "REND_DATUM": "2016-10-20",
                                    "SZALL_MOD": "NULL",
                                    "(No column name)": "1934860"
                                },
                                {
                                    "REND_DATUM": "2016-10-21",
                                    "SZALL_MOD": "NULL",
                                    "(No column name)": "5621130"
                                },
                                {
                                    "REND_DATUM": "2016-10-22",
                                    "SZALL_MOD": "NULL",
                                    "(No column name)": "4802190"
                                },
                                {
                                    "REND_DATUM": "2016-10-23",
                                    "SZALL_MOD": "NULL",
                                    "(No column name)": "2995490"
                                },
                                {
                                    "REND_DATUM": "2016-10-24",
                                    "SZALL_MOD": "NULL",
                                    "(No column name)": "3054150"
                                },
                                {
                                    "REND_DATUM": "2016-10-25",
                                    "SZALL_MOD": "NULL",
                                    "(No column name)": "6130350"
                                },
                                {
                                    "REND_DATUM": "2016-10-26",
                                    "SZALL_MOD": "NULL",
                                    "(No column name)": "4774060"
                                },
                                {
                                    "REND_DATUM": "2016-10-27",
                                    "SZALL_MOD": "NULL",
                                    "(No column name)": "4028510"
                                },
                                {
                                    "REND_DATUM": "2016-10-28",
                                    "SZALL_MOD": "NULL",
                                    "(No column name)": "3398470"
                                },
                                {
                                    "REND_DATUM": "2016-10-29",
                                    "SZALL_MOD": "NULL",
                                    "(No column name)": "3168010"
                                },
                                {
                                    "REND_DATUM": "2016-10-30",
                                    "SZALL_MOD": "NULL",
                                    "(No column name)": "2601270"
                                },
                                {
                                    "REND_DATUM": "2016-10-31",
                                    "SZALL_MOD": "NULL",
                                    "(No column name)": "2338070"
                                },
                                {
                                    "REND_DATUM": "2016-11-01",
                                    "SZALL_MOD": "NULL",
                                    "(No column name)": "2875130"
                                },
                                {
                                    "REND_DATUM": "2016-11-02",
                                    "SZALL_MOD": "NULL",
                                    "(No column name)": "4181470"
                                },
                                {
                                    "REND_DATUM": "2016-11-03",
                                    "SZALL_MOD": "NULL",
                                    "(No column name)": "3334900"
                                },
                                {
                                    "REND_DATUM": "2016-11-04",
                                    "SZALL_MOD": "NULL",
                                    "(No column name)": "3422690"
                                },
                                {
                                    "REND_DATUM": "2016-11-05",
                                    "SZALL_MOD": "NULL",
                                    "(No column name)": "3039900"
                                },
                                {
                                    "REND_DATUM": "2016-11-06",
                                    "SZALL_MOD": "NULL",
                                    "(No column name)": "4431910"
                                },
                                {
                                    "REND_DATUM": "2016-11-07",
                                    "SZALL_MOD": "NULL",
                                    "(No column name)": "2868620"
                                },
                                {
                                    "REND_DATUM": "2016-11-08",
                                    "SZALL_MOD": "NULL",
                                    "(No column name)": "2232110"
                                },
                                {
                                    "REND_DATUM": "2016-11-09",
                                    "SZALL_MOD": "NULL",
                                    "(No column name)": "3303580"
                                },
                                {
                                    "REND_DATUM": "2016-11-10",
                                    "SZALL_MOD": "NULL",
                                    "(No column name)": "4697010"
                                },
                                {
                                    "REND_DATUM": "2016-11-11",
                                    "SZALL_MOD": "NULL",
                                    "(No column name)": "3564280"
                                },
                                {
                                    "REND_DATUM": "2016-11-12",
                                    "SZALL_MOD": "NULL",
                                    "(No column name)": "5283320"
                                },
                                {
                                    "REND_DATUM": "2016-11-13",
                                    "SZALL_MOD": "NULL",
                                    "(No column name)": "3270450"
                                },
                                {
                                    "REND_DATUM": "2016-11-14",
                                    "SZALL_MOD": "NULL",
                                    "(No column name)": "4083840"
                                },
                                {
                                    "REND_DATUM": "2016-11-15",
                                    "SZALL_MOD": "NULL",
                                    "(No column name)": "2665170"
                                },
                                {
                                    "REND_DATUM": "2016-11-16",
                                    "SZALL_MOD": "NULL",
                                    "(No column name)": "4497520"
                                },
                                {
                                    "REND_DATUM": "2016-11-17",
                                    "SZALL_MOD": "NULL",
                                    "(No column name)": "3302290"
                                },
                                {
                                    "REND_DATUM": "2016-11-18",
                                    "SZALL_MOD": "NULL",
                                    "(No column name)": "4500590"
                                },
                                {
                                    "REND_DATUM": "2016-11-19",
                                    "SZALL_MOD": "NULL",
                                    "(No column name)": "3939770"
                                },
                                {
                                    "REND_DATUM": "2016-11-20",
                                    "SZALL_MOD": "NULL",
                                    "(No column name)": "5313420"
                                },
                                {
                                    "REND_DATUM": "2016-11-21",
                                    "SZALL_MOD": "NULL",
                                    "(No column name)": "2400580"
                                },
                                {
                                    "REND_DATUM": "2016-11-22",
                                    "SZALL_MOD": "NULL",
                                    "(No column name)": "4556750"
                                },
                                {
                                    "REND_DATUM": "2016-11-23",
                                    "SZALL_MOD": "NULL",
                                    "(No column name)": "4040950"
                                },
                                {
                                    "REND_DATUM": "2016-11-24",
                                    "SZALL_MOD": "NULL",
                                    "(No column name)": "3759700"
                                },
                                {
                                    "REND_DATUM": "2016-11-25",
                                    "SZALL_MOD": "NULL",
                                    "(No column name)": "4965290"
                                },
                                {
                                    "REND_DATUM": "2016-11-26",
                                    "SZALL_MOD": "NULL",
                                    "(No column name)": "2566110"
                                },
                                {
                                    "REND_DATUM": "2016-11-27",
                                    "SZALL_MOD": "NULL",
                                    "(No column name)": "3563890"
                                },
                                {
                                    "REND_DATUM": "2016-11-28",
                                    "SZALL_MOD": "NULL",
                                    "(No column name)": "3787690"
                                },
                                {
                                    "REND_DATUM": "2016-11-29",
                                    "SZALL_MOD": "NULL",
                                    "(No column name)": "3205630"
                                },
                                {
                                    "REND_DATUM": "2016-11-30",
                                    "SZALL_MOD": "NULL",
                                    "(No column name)": "3644870"
                                },
                                {
                                    "REND_DATUM": "2016-12-01",
                                    "SZALL_MOD": "NULL",
                                    "(No column name)": "4393330"
                                },
                                {
                                    "REND_DATUM": "2016-12-02",
                                    "SZALL_MOD": "NULL",
                                    "(No column name)": "3242300"
                                },
                                {
                                    "REND_DATUM": "2016-12-03",
                                    "SZALL_MOD": "NULL",
                                    "(No column name)": "3196260"
                                },
                                {
                                    "REND_DATUM": "2016-12-04",
                                    "SZALL_MOD": "NULL",
                                    "(No column name)": "3408340"
                                },
                                {
                                    "REND_DATUM": "2016-12-05",
                                    "SZALL_MOD": "NULL",
                                    "(No column name)": "4717410"
                                },
                                {
                                    "REND_DATUM": "2016-12-06",
                                    "SZALL_MOD": "NULL",
                                    "(No column name)": "3214060"
                                },
                                {
                                    "REND_DATUM": "2016-12-07",
                                    "SZALL_MOD": "NULL",
                                    "(No column name)": "3385000"
                                },
                                {
                                    "REND_DATUM": "2016-12-08",
                                    "SZALL_MOD": "NULL",
                                    "(No column name)": "4202120"
                                },
                                {
                                    "REND_DATUM": "2016-12-09",
                                    "SZALL_MOD": "NULL",
                                    "(No column name)": "2295280"
                                },
                                {
                                    "REND_DATUM": "2016-12-10",
                                    "SZALL_MOD": "NULL",
                                    "(No column name)": "4154800"
                                },
                                {
                                    "REND_DATUM": "2016-12-11",
                                    "SZALL_MOD": "NULL",
                                    "(No column name)": "2032560"
                                },
                                {
                                    "REND_DATUM": "2016-12-12",
                                    "SZALL_MOD": "NULL",
                                    "(No column name)": "3108120"
                                },
                                {
                                    "REND_DATUM": "2016-12-13",
                                    "SZALL_MOD": "NULL",
                                    "(No column name)": "2313940"
                                },
                                {
                                    "REND_DATUM": "2016-12-14",
                                    "SZALL_MOD": "NULL",
                                    "(No column name)": "4041580"
                                },
                                {
                                    "REND_DATUM": "2016-12-15",
                                    "SZALL_MOD": "NULL",
                                    "(No column name)": "4884290"
                                },
                                {
                                    "REND_DATUM": "2016-12-16",
                                    "SZALL_MOD": "NULL",
                                    "(No column name)": "5632750"
                                },
                                {
                                    "REND_DATUM": "2016-12-17",
                                    "SZALL_MOD": "NULL",
                                    "(No column name)": "3798290"
                                },
                                {
                                    "REND_DATUM": "2016-12-18",
                                    "SZALL_MOD": "NULL",
                                    "(No column name)": "4082880"
                                },
                                {
                                    "REND_DATUM": "2016-12-19",
                                    "SZALL_MOD": "NULL",
                                    "(No column name)": "3582270"
                                },
                                {
                                    "REND_DATUM": "2016-12-20",
                                    "SZALL_MOD": "NULL",
                                    "(No column name)": "3065260"
                                },
                                {
                                    "REND_DATUM": "2016-12-21",
                                    "SZALL_MOD": "NULL",
                                    "(No column name)": "5383360"
                                },
                                {
                                    "REND_DATUM": "2016-12-22",
                                    "SZALL_MOD": "NULL",
                                    "(No column name)": "4236830"
                                },
                                {
                                    "REND_DATUM": "2016-12-23",
                                    "SZALL_MOD": "NULL",
                                    "(No column name)": "3755530"
                                },
                                {
                                    "REND_DATUM": "2016-12-24",
                                    "SZALL_MOD": "NULL",
                                    "(No column name)": "3608240"
                                },
                                {
                                    "REND_DATUM": "2016-12-25",
                                    "SZALL_MOD": "NULL",
                                    "(No column name)": "4379490"
                                },
                                {
                                    "REND_DATUM": "2016-12-26",
                                    "SZALL_MOD": "NULL",
                                    "(No column name)": "3793400"
                                },
                                {
                                    "REND_DATUM": "2016-12-27",
                                    "SZALL_MOD": "NULL",
                                    "(No column name)": "3892740"
                                },
                                {
                                    "REND_DATUM": "2016-12-28",
                                    "SZALL_MOD": "NULL",
                                    "(No column name)": "3476600"
                                },
                                {
                                    "REND_DATUM": "2016-12-29",
                                    "SZALL_MOD": "NULL",
                                    "(No column name)": "2518720"
                                },
                                {
                                    "REND_DATUM": "2016-12-30",
                                    "SZALL_MOD": "NULL",
                                    "(No column name)": "3586260"
                                },
                                {
                                    "REND_DATUM": "2016-12-31",
                                    "SZALL_MOD": "NULL",
                                    "(No column name)": "4490450"
                                },
                                {
                                    "REND_DATUM": "2017-01-01",
                                    "SZALL_MOD": "NULL",
                                    "(No column name)": "3601710"
                                },
                                {
                                    "REND_DATUM": "2017-01-02",
                                    "SZALL_MOD": "NULL",
                                    "(No column name)": "5217600"
                                },
                                {
                                    "REND_DATUM": "2017-01-03",
                                    "SZALL_MOD": "NULL",
                                    "(No column name)": "4064370"
                                },
                                {
                                    "REND_DATUM": "2017-01-04",
                                    "SZALL_MOD": "NULL",
                                    "(No column name)": "6012500"
                                },
                                {
                                    "REND_DATUM": "2017-01-05",
                                    "SZALL_MOD": "NULL",
                                    "(No column name)": "2741300"
                                },
                                {
                                    "REND_DATUM": "2017-01-06",
                                    "SZALL_MOD": "NULL",
                                    "(No column name)": "3833150"
                                },
                                {
                                    "REND_DATUM": "2017-01-07",
                                    "SZALL_MOD": "NULL",
                                    "(No column name)": "2939780"
                                },
                                {
                                    "REND_DATUM": "2017-01-08",
                                    "SZALL_MOD": "NULL",
                                    "(No column name)": "5840520"
                                },
                                {
                                    "REND_DATUM": "2017-01-09",
                                    "SZALL_MOD": "NULL",
                                    "(No column name)": "3938610"
                                },
                                {
                                    "REND_DATUM": "2017-01-10",
                                    "SZALL_MOD": "NULL",
                                    "(No column name)": "4249080"
                                },
                                {
                                    "REND_DATUM": "2017-01-11",
                                    "SZALL_MOD": "NULL",
                                    "(No column name)": "2958860"
                                },
                                {
                                    "REND_DATUM": "2017-01-12",
                                    "SZALL_MOD": "NULL",
                                    "(No column name)": "3849580"
                                },
                                {
                                    "REND_DATUM": "2017-01-13",
                                    "SZALL_MOD": "NULL",
                                    "(No column name)": "3832960"
                                },
                                {
                                    "REND_DATUM": "2017-01-14",
                                    "SZALL_MOD": "NULL",
                                    "(No column name)": "3731100"
                                },
                                {
                                    "REND_DATUM": "2017-01-15",
                                    "SZALL_MOD": "NULL",
                                    "(No column name)": "4163670"
                                },
                                {
                                    "REND_DATUM": "2017-01-16",
                                    "SZALL_MOD": "NULL",
                                    "(No column name)": "2845880"
                                },
                                {
                                    "REND_DATUM": "2017-01-17",
                                    "SZALL_MOD": "NULL",
                                    "(No column name)": "3896510"
                                },
                                {
                                    "REND_DATUM": "2017-01-18",
                                    "SZALL_MOD": "NULL",
                                    "(No column name)": "3357220"
                                },
                                {
                                    "REND_DATUM": "2017-01-19",
                                    "SZALL_MOD": "NULL",
                                    "(No column name)": "1889990"
                                },
                                {
                                    "REND_DATUM": "2017-01-20",
                                    "SZALL_MOD": "NULL",
                                    "(No column name)": "2404240"
                                },
                                {
                                    "REND_DATUM": "2017-01-21",
                                    "SZALL_MOD": "NULL",
                                    "(No column name)": "3393680"
                                },
                                {
                                    "REND_DATUM": "2017-01-22",
                                    "SZALL_MOD": "NULL",
                                    "(No column name)": "2289550"
                                },
                                {
                                    "REND_DATUM": "2017-01-23",
                                    "SZALL_MOD": "NULL",
                                    "(No column name)": "1884150"
                                },
                                {
                                    "REND_DATUM": "2017-01-24",
                                    "SZALL_MOD": "NULL",
                                    "(No column name)": "4160770"
                                },
                                {
                                    "REND_DATUM": "2017-01-25",
                                    "SZALL_MOD": "NULL",
                                    "(No column name)": "3866560"
                                },
                                {
                                    "REND_DATUM": "2017-01-26",
                                    "SZALL_MOD": "NULL",
                                    "(No column name)": "4782440"
                                },
                                {
                                    "REND_DATUM": "2017-01-27",
                                    "SZALL_MOD": "NULL",
                                    "(No column name)": "2372640"
                                },
                                {
                                    "REND_DATUM": "2017-01-28",
                                    "SZALL_MOD": "NULL",
                                    "(No column name)": "4862070"
                                },
                                {
                                    "REND_DATUM": "2017-01-29",
                                    "SZALL_MOD": "NULL",
                                    "(No column name)": "3652430"
                                },
                                {
                                    "REND_DATUM": "2017-01-30",
                                    "SZALL_MOD": "NULL",
                                    "(No column name)": "4042190"
                                },
                                {
                                    "REND_DATUM": "2017-01-31",
                                    "SZALL_MOD": "NULL",
                                    "(No column name)": "5015940"
                                },
                                {
                                    "REND_DATUM": "2017-02-01",
                                    "SZALL_MOD": "NULL",
                                    "(No column name)": "2929700"
                                },
                                {
                                    "REND_DATUM": "2017-02-02",
                                    "SZALL_MOD": "NULL",
                                    "(No column name)": "2452980"
                                },
                                {
                                    "REND_DATUM": "2017-02-03",
                                    "SZALL_MOD": "NULL",
                                    "(No column name)": "2600740"
                                },
                                {
                                    "REND_DATUM": "2017-02-04",
                                    "SZALL_MOD": "NULL",
                                    "(No column name)": "5315450"
                                },
                                {
                                    "REND_DATUM": "2017-02-05",
                                    "SZALL_MOD": "NULL",
                                    "(No column name)": "3086150"
                                },
                                {
                                    "REND_DATUM": "2017-02-06",
                                    "SZALL_MOD": "NULL",
                                    "(No column name)": "2654880"
                                },
                                {
                                    "REND_DATUM": "2017-02-07",
                                    "SZALL_MOD": "NULL",
                                    "(No column name)": "2870360"
                                },
                                {
                                    "REND_DATUM": "2017-02-08",
                                    "SZALL_MOD": "NULL",
                                    "(No column name)": "3459880"
                                },
                                {
                                    "REND_DATUM": "2017-02-09",
                                    "SZALL_MOD": "NULL",
                                    "(No column name)": "5037310"
                                },
                                {
                                    "REND_DATUM": "2017-02-10",
                                    "SZALL_MOD": "NULL",
                                    "(No column name)": "5412030"
                                },
                                {
                                    "REND_DATUM": "2017-02-11",
                                    "SZALL_MOD": "NULL",
                                    "(No column name)": "4074030"
                                },
                                {
                                    "REND_DATUM": "2017-02-12",
                                    "SZALL_MOD": "NULL",
                                    "(No column name)": "2801740"
                                },
                                {
                                    "REND_DATUM": "2017-02-13",
                                    "SZALL_MOD": "NULL",
                                    "(No column name)": "2741040"
                                },
                                {
                                    "REND_DATUM": "2017-02-14",
                                    "SZALL_MOD": "NULL",
                                    "(No column name)": "3699690"
                                },
                                {
                                    "REND_DATUM": "2017-02-15",
                                    "SZALL_MOD": "NULL",
                                    "(No column name)": "2104860"
                                },
                                {
                                    "REND_DATUM": "2017-02-16",
                                    "SZALL_MOD": "NULL",
                                    "(No column name)": "3517480"
                                },
                                {
                                    "REND_DATUM": "2017-02-17",
                                    "SZALL_MOD": "NULL",
                                    "(No column name)": "1939040"
                                },
                                {
                                    "REND_DATUM": "2017-02-18",
                                    "SZALL_MOD": "NULL",
                                    "(No column name)": "2786700"
                                },
                                {
                                    "REND_DATUM": "2017-02-19",
                                    "SZALL_MOD": "NULL",
                                    "(No column name)": "2625700"
                                },
                                {
                                    "REND_DATUM": "2017-02-20",
                                    "SZALL_MOD": "NULL",
                                    "(No column name)": "4275670"
                                },
                                {
                                    "REND_DATUM": "2017-02-21",
                                    "SZALL_MOD": "NULL",
                                    "(No column name)": "3127730"
                                },
                                {
                                    "REND_DATUM": "2017-02-22",
                                    "SZALL_MOD": "NULL",
                                    "(No column name)": "4193920"
                                },
                                {
                                    "REND_DATUM": "2017-02-23",
                                    "SZALL_MOD": "NULL",
                                    "(No column name)": "3409800"
                                },
                                {
                                    "REND_DATUM": "2017-02-24",
                                    "SZALL_MOD": "NULL",
                                    "(No column name)": "4899420"
                                },
                                {
                                    "REND_DATUM": "2017-02-25",
                                    "SZALL_MOD": "NULL",
                                    "(No column name)": "3958860"
                                },
                                {
                                    "REND_DATUM": "2017-02-26",
                                    "SZALL_MOD": "NULL",
                                    "(No column name)": "3773590"
                                },
                                {
                                    "REND_DATUM": "2017-02-27",
                                    "SZALL_MOD": "NULL",
                                    "(No column name)": "2029670"
                                },
                                {
                                    "REND_DATUM": "2017-02-28",
                                    "SZALL_MOD": "NULL",
                                    "(No column name)": "3754880"
                                },
                                {
                                    "REND_DATUM": "2017-03-01",
                                    "SZALL_MOD": "NULL",
                                    "(No column name)": "3681510"
                                },
                                {
                                    "REND_DATUM": "2017-03-02",
                                    "SZALL_MOD": "NULL",
                                    "(No column name)": "5208610"
                                },
                                {
                                    "REND_DATUM": "2017-03-03",
                                    "SZALL_MOD": "NULL",
                                    "(No column name)": "4532110"
                                },
                                {
                                    "REND_DATUM": "2017-03-04",
                                    "SZALL_MOD": "NULL",
                                    "(No column name)": "3850040"
                                },
                                {
                                    "REND_DATUM": "2017-03-05",
                                    "SZALL_MOD": "NULL",
                                    "(No column name)": "3090460"
                                },
                                {
                                    "REND_DATUM": "2017-03-06",
                                    "SZALL_MOD": "NULL",
                                    "(No column name)": "4501220"
                                },
                                {
                                    "REND_DATUM": "2017-03-07",
                                    "SZALL_MOD": "NULL",
                                    "(No column name)": "2225340"
                                },
                                {
                                    "REND_DATUM": "2017-03-08",
                                    "SZALL_MOD": "NULL",
                                    "(No column name)": "3550470"
                                },
                                {
                                    "REND_DATUM": "2017-03-09",
                                    "SZALL_MOD": "NULL",
                                    "(No column name)": "4433900"
                                },
                                {
                                    "REND_DATUM": "2017-03-10",
                                    "SZALL_MOD": "NULL",
                                    "(No column name)": "5208220"
                                },
                                {
                                    "REND_DATUM": "2017-03-11",
                                    "SZALL_MOD": "NULL",
                                    "(No column name)": "3063510"
                                },
                                {
                                    "REND_DATUM": "2017-03-12",
                                    "SZALL_MOD": "NULL",
                                    "(No column name)": "2926190"
                                },
                                {
                                    "REND_DATUM": "2017-03-13",
                                    "SZALL_MOD": "NULL",
                                    "(No column name)": "2988080"
                                },
                                {
                                    "REND_DATUM": "2017-03-14",
                                    "SZALL_MOD": "NULL",
                                    "(No column name)": "4542680"
                                },
                                {
                                    "REND_DATUM": "2017-03-15",
                                    "SZALL_MOD": "NULL",
                                    "(No column name)": "2809140"
                                },
                                {
                                    "REND_DATUM": "2017-03-16",
                                    "SZALL_MOD": "NULL",
                                    "(No column name)": "3643340"
                                },
                                {
                                    "REND_DATUM": "2017-03-17",
                                    "SZALL_MOD": "NULL",
                                    "(No column name)": "4272070"
                                },
                                {
                                    "REND_DATUM": "2017-03-18",
                                    "SZALL_MOD": "NULL",
                                    "(No column name)": "3143080"
                                },
                                {
                                    "REND_DATUM": "2017-03-19",
                                    "SZALL_MOD": "NULL",
                                    "(No column name)": "4095320"
                                },
                                {
                                    "REND_DATUM": "2017-03-20",
                                    "SZALL_MOD": "NULL",
                                    "(No column name)": "5144400"
                                },
                                {
                                    "REND_DATUM": "2017-03-21",
                                    "SZALL_MOD": "NULL",
                                    "(No column name)": "3196200"
                                },
                                {
                                    "REND_DATUM": "2017-03-22",
                                    "SZALL_MOD": "NULL",
                                    "(No column name)": "5278330"
                                },
                                {
                                    "REND_DATUM": "2017-03-23",
                                    "SZALL_MOD": "NULL",
                                    "(No column name)": "5034310"
                                },
                                {
                                    "REND_DATUM": "2017-03-24",
                                    "SZALL_MOD": "NULL",
                                    "(No column name)": "4697020"
                                },
                                {
                                    "REND_DATUM": "2017-03-25",
                                    "SZALL_MOD": "NULL",
                                    "(No column name)": "3279520"
                                },
                                {
                                    "REND_DATUM": "2017-03-26",
                                    "SZALL_MOD": "NULL",
                                    "(No column name)": "2729970"
                                },
                                {
                                    "REND_DATUM": "2017-03-27",
                                    "SZALL_MOD": "NULL",
                                    "(No column name)": "2577060"
                                },
                                {
                                    "REND_DATUM": "2017-03-28",
                                    "SZALL_MOD": "NULL",
                                    "(No column name)": "2687540"
                                },
                                {
                                    "REND_DATUM": "2017-03-29",
                                    "SZALL_MOD": "NULL",
                                    "(No column name)": "2715840"
                                },
                                {
                                    "REND_DATUM": "2017-03-30",
                                    "SZALL_MOD": "NULL",
                                    "(No column name)": "4541530"
                                },
                                {
                                    "REND_DATUM": "2017-03-31",
                                    "SZALL_MOD": "NULL",
                                    "(No column name)": "2825610"
                                },
                                {
                                    "REND_DATUM": "2017-04-01",
                                    "SZALL_MOD": "NULL",
                                    "(No column name)": "3592370"
                                },
                                {
                                    "REND_DATUM": "NULL",
                                    "SZALL_MOD": "NULL",
                                    "(No column name)": "2611634603"
                                }
                            ]
                        },
                        "text/html": [
                            "<table>",
                            "<tr><th>REND_DATUM</th><th>SZALL_MOD</th><th>(No column name)</th></tr>",
                            "<tr><td>2015-05-01</td><td>NULL</td><td>2279415</td></tr>",
                            "<tr><td>2015-05-02</td><td>NULL</td><td>3580718</td></tr>",
                            "<tr><td>2015-05-03</td><td>NULL</td><td>2812695</td></tr>",
                            "<tr><td>2015-05-04</td><td>NULL</td><td>2772950</td></tr>",
                            "<tr><td>2015-05-05</td><td>NULL</td><td>3485649</td></tr>",
                            "<tr><td>2015-05-06</td><td>NULL</td><td>3382873</td></tr>",
                            "<tr><td>2015-05-07</td><td>NULL</td><td>3426361</td></tr>",
                            "<tr><td>2015-05-08</td><td>NULL</td><td>4359636</td></tr>",
                            "<tr><td>2015-05-09</td><td>NULL</td><td>2849930</td></tr>",
                            "<tr><td>2015-05-10</td><td>NULL</td><td>4228829</td></tr>",
                            "<tr><td>2015-05-11</td><td>NULL</td><td>2379426</td></tr>",
                            "<tr><td>2015-05-12</td><td>NULL</td><td>3736901</td></tr>",
                            "<tr><td>2015-05-13</td><td>NULL</td><td>5337596</td></tr>",
                            "<tr><td>2015-05-14</td><td>NULL</td><td>2472862</td></tr>",
                            "<tr><td>2015-05-15</td><td>NULL</td><td>3708772</td></tr>",
                            "<tr><td>2015-05-16</td><td>NULL</td><td>2043315</td></tr>",
                            "<tr><td>2015-05-17</td><td>NULL</td><td>2896002</td></tr>",
                            "<tr><td>2015-05-18</td><td>NULL</td><td>3138099</td></tr>",
                            "<tr><td>2015-05-19</td><td>NULL</td><td>3757350</td></tr>",
                            "<tr><td>2015-05-20</td><td>NULL</td><td>4256931</td></tr>",
                            "<tr><td>2015-05-21</td><td>NULL</td><td>2623545</td></tr>",
                            "<tr><td>2015-05-22</td><td>NULL</td><td>3311306</td></tr>",
                            "<tr><td>2015-05-23</td><td>NULL</td><td>3707229</td></tr>",
                            "<tr><td>2015-05-24</td><td>NULL</td><td>3469333</td></tr>",
                            "<tr><td>2015-05-25</td><td>NULL</td><td>5086306</td></tr>",
                            "<tr><td>2015-05-26</td><td>NULL</td><td>4483064</td></tr>",
                            "<tr><td>2015-05-27</td><td>NULL</td><td>3446967</td></tr>",
                            "<tr><td>2015-05-28</td><td>NULL</td><td>4207823</td></tr>",
                            "<tr><td>2015-05-29</td><td>NULL</td><td>3898877</td></tr>",
                            "<tr><td>2015-05-30</td><td>NULL</td><td>4686786</td></tr>",
                            "<tr><td>2015-05-31</td><td>NULL</td><td>3113844</td></tr>",
                            "<tr><td>2015-06-01</td><td>NULL</td><td>4279329</td></tr>",
                            "<tr><td>2015-06-02</td><td>NULL</td><td>3042970</td></tr>",
                            "<tr><td>2015-06-03</td><td>NULL</td><td>2883237</td></tr>",
                            "<tr><td>2015-06-04</td><td>NULL</td><td>4333851</td></tr>",
                            "<tr><td>2015-06-05</td><td>NULL</td><td>3018811</td></tr>",
                            "<tr><td>2015-06-06</td><td>NULL</td><td>4426703</td></tr>",
                            "<tr><td>2015-06-07</td><td>NULL</td><td>3669678</td></tr>",
                            "<tr><td>2015-06-08</td><td>NULL</td><td>2609941</td></tr>",
                            "<tr><td>2015-06-09</td><td>NULL</td><td>1806618</td></tr>",
                            "<tr><td>2015-06-10</td><td>NULL</td><td>5877852</td></tr>",
                            "<tr><td>2015-06-11</td><td>NULL</td><td>2894153</td></tr>",
                            "<tr><td>2015-06-12</td><td>NULL</td><td>2720092</td></tr>",
                            "<tr><td>2015-06-13</td><td>NULL</td><td>3799415</td></tr>",
                            "<tr><td>2015-06-14</td><td>NULL</td><td>2909648</td></tr>",
                            "<tr><td>2015-06-15</td><td>NULL</td><td>2810870</td></tr>",
                            "<tr><td>2015-06-16</td><td>NULL</td><td>3778323</td></tr>",
                            "<tr><td>2015-06-17</td><td>NULL</td><td>2756853</td></tr>",
                            "<tr><td>2015-06-18</td><td>NULL</td><td>3190411</td></tr>",
                            "<tr><td>2015-06-19</td><td>NULL</td><td>2923276</td></tr>",
                            "<tr><td>2015-06-20</td><td>NULL</td><td>2871905</td></tr>",
                            "<tr><td>2015-06-21</td><td>NULL</td><td>4386623</td></tr>",
                            "<tr><td>2015-06-22</td><td>NULL</td><td>1917370</td></tr>",
                            "<tr><td>2015-06-23</td><td>NULL</td><td>5572063</td></tr>",
                            "<tr><td>2015-06-24</td><td>NULL</td><td>3303546</td></tr>",
                            "<tr><td>2015-06-25</td><td>NULL</td><td>1917903</td></tr>",
                            "<tr><td>2015-06-26</td><td>NULL</td><td>2767873</td></tr>",
                            "<tr><td>2015-06-27</td><td>NULL</td><td>2391802</td></tr>",
                            "<tr><td>2015-06-28</td><td>NULL</td><td>2894066</td></tr>",
                            "<tr><td>2015-06-29</td><td>NULL</td><td>2879834</td></tr>",
                            "<tr><td>2015-06-30</td><td>NULL</td><td>4408170</td></tr>",
                            "<tr><td>2015-07-01</td><td>NULL</td><td>2999741</td></tr>",
                            "<tr><td>2015-07-02</td><td>NULL</td><td>2381370</td></tr>",
                            "<tr><td>2015-07-03</td><td>NULL</td><td>2346769</td></tr>",
                            "<tr><td>2015-07-04</td><td>NULL</td><td>3073024</td></tr>",
                            "<tr><td>2015-07-05</td><td>NULL</td><td>4275556</td></tr>",
                            "<tr><td>2015-07-06</td><td>NULL</td><td>2596683</td></tr>",
                            "<tr><td>2015-07-07</td><td>NULL</td><td>1852944</td></tr>",
                            "<tr><td>2015-07-08</td><td>NULL</td><td>3680495</td></tr>",
                            "<tr><td>2015-07-09</td><td>NULL</td><td>2788299</td></tr>",
                            "<tr><td>2015-07-10</td><td>NULL</td><td>3128704</td></tr>",
                            "<tr><td>2015-07-11</td><td>NULL</td><td>2547574</td></tr>",
                            "<tr><td>2015-07-12</td><td>NULL</td><td>4236864</td></tr>",
                            "<tr><td>2015-07-13</td><td>NULL</td><td>4039393</td></tr>",
                            "<tr><td>2015-07-14</td><td>NULL</td><td>2506145</td></tr>",
                            "<tr><td>2015-07-15</td><td>NULL</td><td>4857981</td></tr>",
                            "<tr><td>2015-07-16</td><td>NULL</td><td>2361972</td></tr>",
                            "<tr><td>2015-07-17</td><td>NULL</td><td>2336263</td></tr>",
                            "<tr><td>2015-07-18</td><td>NULL</td><td>1782195</td></tr>",
                            "<tr><td>2015-07-19</td><td>NULL</td><td>3214783</td></tr>",
                            "<tr><td>2015-07-20</td><td>NULL</td><td>3913966</td></tr>",
                            "<tr><td>2015-07-21</td><td>NULL</td><td>4561837</td></tr>",
                            "<tr><td>2015-07-22</td><td>NULL</td><td>3525031</td></tr>",
                            "<tr><td>2015-07-23</td><td>NULL</td><td>2317783</td></tr>",
                            "<tr><td>2015-07-24</td><td>NULL</td><td>2023300</td></tr>",
                            "<tr><td>2015-07-25</td><td>NULL</td><td>3161727</td></tr>",
                            "<tr><td>2015-07-26</td><td>NULL</td><td>3931566</td></tr>",
                            "<tr><td>2015-07-27</td><td>NULL</td><td>3897124</td></tr>",
                            "<tr><td>2015-07-28</td><td>NULL</td><td>3367677</td></tr>",
                            "<tr><td>2015-07-29</td><td>NULL</td><td>3797585</td></tr>",
                            "<tr><td>2015-07-30</td><td>NULL</td><td>4093614</td></tr>",
                            "<tr><td>2015-07-31</td><td>NULL</td><td>3255050</td></tr>",
                            "<tr><td>2015-08-01</td><td>NULL</td><td>3001556</td></tr>",
                            "<tr><td>2015-08-02</td><td>NULL</td><td>2212505</td></tr>",
                            "<tr><td>2015-08-03</td><td>NULL</td><td>4028406</td></tr>",
                            "<tr><td>2015-08-04</td><td>NULL</td><td>4863339</td></tr>",
                            "<tr><td>2015-08-05</td><td>NULL</td><td>5888832</td></tr>",
                            "<tr><td>2015-08-06</td><td>NULL</td><td>5770619</td></tr>",
                            "<tr><td>2015-08-07</td><td>NULL</td><td>3904203</td></tr>",
                            "<tr><td>2015-08-08</td><td>NULL</td><td>5950093</td></tr>",
                            "<tr><td>2015-08-09</td><td>NULL</td><td>4771276</td></tr>",
                            "<tr><td>2015-08-10</td><td>NULL</td><td>2536402</td></tr>",
                            "<tr><td>2015-08-11</td><td>NULL</td><td>4443880</td></tr>",
                            "<tr><td>2015-08-12</td><td>NULL</td><td>4291815</td></tr>",
                            "<tr><td>2015-08-13</td><td>NULL</td><td>3070458</td></tr>",
                            "<tr><td>2015-08-14</td><td>NULL</td><td>2845966</td></tr>",
                            "<tr><td>2015-08-15</td><td>NULL</td><td>2251807</td></tr>",
                            "<tr><td>2015-08-16</td><td>NULL</td><td>2681572</td></tr>",
                            "<tr><td>2015-08-17</td><td>NULL</td><td>5153897</td></tr>",
                            "<tr><td>2015-08-18</td><td>NULL</td><td>4124260</td></tr>",
                            "<tr><td>2015-08-19</td><td>NULL</td><td>2261471</td></tr>",
                            "<tr><td>2015-08-20</td><td>NULL</td><td>5677653</td></tr>",
                            "<tr><td>2015-08-21</td><td>NULL</td><td>2866708</td></tr>",
                            "<tr><td>2015-08-22</td><td>NULL</td><td>2825943</td></tr>",
                            "<tr><td>2015-08-23</td><td>NULL</td><td>2822778</td></tr>",
                            "<tr><td>2015-08-24</td><td>NULL</td><td>2719276</td></tr>",
                            "<tr><td>2015-08-25</td><td>NULL</td><td>4160435</td></tr>",
                            "<tr><td>2015-08-26</td><td>NULL</td><td>4600189</td></tr>",
                            "<tr><td>2015-08-27</td><td>NULL</td><td>2493732</td></tr>",
                            "<tr><td>2015-08-28</td><td>NULL</td><td>3085344</td></tr>",
                            "<tr><td>2015-08-29</td><td>NULL</td><td>5929944</td></tr>",
                            "<tr><td>2015-08-30</td><td>NULL</td><td>4701063</td></tr>",
                            "<tr><td>2015-08-31</td><td>NULL</td><td>4657091</td></tr>",
                            "<tr><td>2015-09-01</td><td>NULL</td><td>3206685</td></tr>",
                            "<tr><td>2015-09-02</td><td>NULL</td><td>5692527</td></tr>",
                            "<tr><td>2015-09-03</td><td>NULL</td><td>3450427</td></tr>",
                            "<tr><td>2015-09-04</td><td>NULL</td><td>3738193</td></tr>",
                            "<tr><td>2015-09-05</td><td>NULL</td><td>3867059</td></tr>",
                            "<tr><td>2015-09-06</td><td>NULL</td><td>6132853</td></tr>",
                            "<tr><td>2015-09-07</td><td>NULL</td><td>4179837</td></tr>",
                            "<tr><td>2015-09-08</td><td>NULL</td><td>4703011</td></tr>",
                            "<tr><td>2015-09-09</td><td>NULL</td><td>2885792</td></tr>",
                            "<tr><td>2015-09-10</td><td>NULL</td><td>3060710</td></tr>",
                            "<tr><td>2015-09-11</td><td>NULL</td><td>4788101</td></tr>",
                            "<tr><td>2015-09-12</td><td>NULL</td><td>5532283</td></tr>",
                            "<tr><td>2015-09-13</td><td>NULL</td><td>2559121</td></tr>",
                            "<tr><td>2015-09-14</td><td>NULL</td><td>2724651</td></tr>",
                            "<tr><td>2015-09-15</td><td>NULL</td><td>2896517</td></tr>",
                            "<tr><td>2015-09-16</td><td>NULL</td><td>5343119</td></tr>",
                            "<tr><td>2015-09-17</td><td>NULL</td><td>5479338</td></tr>",
                            "<tr><td>2015-09-18</td><td>NULL</td><td>3428808</td></tr>",
                            "<tr><td>2015-09-19</td><td>NULL</td><td>2134407</td></tr>",
                            "<tr><td>2015-09-20</td><td>NULL</td><td>2756524</td></tr>",
                            "<tr><td>2015-09-21</td><td>NULL</td><td>3557548</td></tr>",
                            "<tr><td>2015-09-22</td><td>NULL</td><td>2153551</td></tr>",
                            "<tr><td>2015-09-23</td><td>NULL</td><td>3427710</td></tr>",
                            "<tr><td>2015-09-24</td><td>NULL</td><td>2664585</td></tr>",
                            "<tr><td>2015-09-25</td><td>NULL</td><td>4539248</td></tr>",
                            "<tr><td>2015-09-26</td><td>NULL</td><td>2365926</td></tr>",
                            "<tr><td>2015-09-27</td><td>NULL</td><td>3096292</td></tr>",
                            "<tr><td>2015-09-28</td><td>NULL</td><td>2975916</td></tr>",
                            "<tr><td>2015-09-29</td><td>NULL</td><td>3384018</td></tr>",
                            "<tr><td>2015-09-30</td><td>NULL</td><td>3256064</td></tr>",
                            "<tr><td>2015-10-01</td><td>NULL</td><td>1997289</td></tr>",
                            "<tr><td>2015-10-02</td><td>NULL</td><td>6371689</td></tr>",
                            "<tr><td>2015-10-03</td><td>NULL</td><td>4258221</td></tr>",
                            "<tr><td>2015-10-04</td><td>NULL</td><td>2744918</td></tr>",
                            "<tr><td>2015-10-05</td><td>NULL</td><td>3877931</td></tr>",
                            "<tr><td>2015-10-06</td><td>NULL</td><td>4831650</td></tr>",
                            "<tr><td>2015-10-07</td><td>NULL</td><td>1976753</td></tr>",
                            "<tr><td>2015-10-08</td><td>NULL</td><td>2139374</td></tr>",
                            "<tr><td>2015-10-09</td><td>NULL</td><td>2710345</td></tr>",
                            "<tr><td>2015-10-10</td><td>NULL</td><td>3738885</td></tr>",
                            "<tr><td>2015-10-11</td><td>NULL</td><td>4164026</td></tr>",
                            "<tr><td>2015-10-12</td><td>NULL</td><td>3263024</td></tr>",
                            "<tr><td>2015-10-13</td><td>NULL</td><td>3293890</td></tr>",
                            "<tr><td>2015-10-14</td><td>NULL</td><td>7348229</td></tr>",
                            "<tr><td>2015-10-15</td><td>NULL</td><td>1806169</td></tr>",
                            "<tr><td>2015-10-16</td><td>NULL</td><td>2672064</td></tr>",
                            "<tr><td>2015-10-17</td><td>NULL</td><td>3686925</td></tr>",
                            "<tr><td>2015-10-18</td><td>NULL</td><td>3477076</td></tr>",
                            "<tr><td>2015-10-19</td><td>NULL</td><td>3596584</td></tr>",
                            "<tr><td>2015-10-20</td><td>NULL</td><td>3000046</td></tr>",
                            "<tr><td>2015-10-21</td><td>NULL</td><td>3113765</td></tr>",
                            "<tr><td>2015-10-22</td><td>NULL</td><td>5093076</td></tr>",
                            "<tr><td>2015-10-23</td><td>NULL</td><td>3101428</td></tr>",
                            "<tr><td>2015-10-24</td><td>NULL</td><td>1970788</td></tr>",
                            "<tr><td>2015-10-25</td><td>NULL</td><td>4758691</td></tr>",
                            "<tr><td>2015-10-26</td><td>NULL</td><td>4389832</td></tr>",
                            "<tr><td>2015-10-27</td><td>NULL</td><td>2078584</td></tr>",
                            "<tr><td>2015-10-28</td><td>NULL</td><td>3919723</td></tr>",
                            "<tr><td>2015-10-29</td><td>NULL</td><td>4532293</td></tr>",
                            "<tr><td>2015-10-30</td><td>NULL</td><td>3165654</td></tr>",
                            "<tr><td>2015-10-31</td><td>NULL</td><td>4900367</td></tr>",
                            "<tr><td>2015-11-01</td><td>NULL</td><td>2382124</td></tr>",
                            "<tr><td>2015-11-02</td><td>NULL</td><td>1857540</td></tr>",
                            "<tr><td>2015-11-03</td><td>NULL</td><td>3833497</td></tr>",
                            "<tr><td>2015-11-04</td><td>NULL</td><td>2509178</td></tr>",
                            "<tr><td>2015-11-05</td><td>NULL</td><td>3448541</td></tr>",
                            "<tr><td>2015-11-06</td><td>NULL</td><td>2055942</td></tr>",
                            "<tr><td>2015-11-07</td><td>NULL</td><td>5183525</td></tr>",
                            "<tr><td>2015-11-08</td><td>NULL</td><td>3538582</td></tr>",
                            "<tr><td>2015-11-09</td><td>NULL</td><td>4696078</td></tr>",
                            "<tr><td>2015-11-10</td><td>NULL</td><td>4465010</td></tr>",
                            "<tr><td>2015-11-11</td><td>NULL</td><td>3870693</td></tr>",
                            "<tr><td>2015-11-12</td><td>NULL</td><td>3265153</td></tr>",
                            "<tr><td>2015-11-13</td><td>NULL</td><td>2709865</td></tr>",
                            "<tr><td>2015-11-14</td><td>NULL</td><td>2793744</td></tr>",
                            "<tr><td>2015-11-15</td><td>NULL</td><td>3394374</td></tr>",
                            "<tr><td>2015-11-16</td><td>NULL</td><td>3137435</td></tr>",
                            "<tr><td>2015-11-17</td><td>NULL</td><td>4366964</td></tr>",
                            "<tr><td>2015-11-18</td><td>NULL</td><td>4145235</td></tr>",
                            "<tr><td>2015-11-19</td><td>NULL</td><td>4252642</td></tr>",
                            "<tr><td>2015-11-20</td><td>NULL</td><td>4014225</td></tr>",
                            "<tr><td>2015-11-21</td><td>NULL</td><td>2379783</td></tr>",
                            "<tr><td>2015-11-22</td><td>NULL</td><td>2387426</td></tr>",
                            "<tr><td>2015-11-23</td><td>NULL</td><td>3634916</td></tr>",
                            "<tr><td>2015-11-24</td><td>NULL</td><td>5560935</td></tr>",
                            "<tr><td>2015-11-25</td><td>NULL</td><td>2709489</td></tr>",
                            "<tr><td>2015-11-26</td><td>NULL</td><td>2825105</td></tr>",
                            "<tr><td>2015-11-27</td><td>NULL</td><td>2619870</td></tr>",
                            "<tr><td>2015-11-28</td><td>NULL</td><td>4078799</td></tr>",
                            "<tr><td>2015-11-29</td><td>NULL</td><td>2306036</td></tr>",
                            "<tr><td>2015-11-30</td><td>NULL</td><td>4532668</td></tr>",
                            "<tr><td>2015-12-01</td><td>NULL</td><td>5635906</td></tr>",
                            "<tr><td>2015-12-02</td><td>NULL</td><td>4325044</td></tr>",
                            "<tr><td>2015-12-03</td><td>NULL</td><td>2509604</td></tr>",
                            "<tr><td>2015-12-04</td><td>NULL</td><td>3945029</td></tr>",
                            "<tr><td>2015-12-05</td><td>NULL</td><td>3969446</td></tr>",
                            "<tr><td>2015-12-06</td><td>NULL</td><td>6008928</td></tr>",
                            "<tr><td>2015-12-07</td><td>NULL</td><td>1712207</td></tr>",
                            "<tr><td>2015-12-08</td><td>NULL</td><td>2559965</td></tr>",
                            "<tr><td>2015-12-09</td><td>NULL</td><td>3292306</td></tr>",
                            "<tr><td>2015-12-10</td><td>NULL</td><td>3779196</td></tr>",
                            "<tr><td>2015-12-11</td><td>NULL</td><td>3068164</td></tr>",
                            "<tr><td>2015-12-12</td><td>NULL</td><td>1647635</td></tr>",
                            "<tr><td>2015-12-13</td><td>NULL</td><td>3312667</td></tr>",
                            "<tr><td>2015-12-14</td><td>NULL</td><td>2459003</td></tr>",
                            "<tr><td>2015-12-15</td><td>NULL</td><td>2736820</td></tr>",
                            "<tr><td>2015-12-16</td><td>NULL</td><td>2387901</td></tr>",
                            "<tr><td>2015-12-17</td><td>NULL</td><td>4227136</td></tr>",
                            "<tr><td>2015-12-18</td><td>NULL</td><td>2281208</td></tr>",
                            "<tr><td>2015-12-19</td><td>NULL</td><td>2612221</td></tr>",
                            "<tr><td>2015-12-20</td><td>NULL</td><td>3931589</td></tr>",
                            "<tr><td>2015-12-21</td><td>NULL</td><td>2894997</td></tr>",
                            "<tr><td>2015-12-22</td><td>NULL</td><td>4230329</td></tr>",
                            "<tr><td>2015-12-23</td><td>NULL</td><td>2300043</td></tr>",
                            "<tr><td>2015-12-24</td><td>NULL</td><td>2968482</td></tr>",
                            "<tr><td>2015-12-25</td><td>NULL</td><td>3611304</td></tr>",
                            "<tr><td>2015-12-26</td><td>NULL</td><td>3101276</td></tr>",
                            "<tr><td>2015-12-27</td><td>NULL</td><td>2087875</td></tr>",
                            "<tr><td>2015-12-28</td><td>NULL</td><td>2158528</td></tr>",
                            "<tr><td>2015-12-29</td><td>NULL</td><td>3751261</td></tr>",
                            "<tr><td>2015-12-30</td><td>NULL</td><td>4797443</td></tr>",
                            "<tr><td>2015-12-31</td><td>NULL</td><td>4063267</td></tr>",
                            "<tr><td>2016-01-01</td><td>NULL</td><td>5030480</td></tr>",
                            "<tr><td>2016-01-02</td><td>NULL</td><td>3068660</td></tr>",
                            "<tr><td>2016-01-03</td><td>NULL</td><td>3520100</td></tr>",
                            "<tr><td>2016-01-04</td><td>NULL</td><td>3094040</td></tr>",
                            "<tr><td>2016-01-05</td><td>NULL</td><td>5143200</td></tr>",
                            "<tr><td>2016-01-06</td><td>NULL</td><td>4551470</td></tr>",
                            "<tr><td>2016-01-07</td><td>NULL</td><td>3544050</td></tr>",
                            "<tr><td>2016-01-08</td><td>NULL</td><td>5599270</td></tr>",
                            "<tr><td>2016-01-09</td><td>NULL</td><td>2401880</td></tr>",
                            "<tr><td>2016-01-10</td><td>NULL</td><td>3192840</td></tr>",
                            "<tr><td>2016-01-11</td><td>NULL</td><td>3483380</td></tr>",
                            "<tr><td>2016-01-12</td><td>NULL</td><td>3832960</td></tr>",
                            "<tr><td>2016-01-13</td><td>NULL</td><td>4325540</td></tr>",
                            "<tr><td>2016-01-14</td><td>NULL</td><td>3957320</td></tr>",
                            "<tr><td>2016-01-15</td><td>NULL</td><td>3139500</td></tr>",
                            "<tr><td>2016-01-16</td><td>NULL</td><td>2932130</td></tr>",
                            "<tr><td>2016-01-17</td><td>NULL</td><td>2345630</td></tr>",
                            "<tr><td>2016-01-18</td><td>NULL</td><td>5524280</td></tr>",
                            "<tr><td>2016-01-19</td><td>NULL</td><td>3852890</td></tr>",
                            "<tr><td>2016-01-20</td><td>NULL</td><td>5755970</td></tr>",
                            "<tr><td>2016-01-21</td><td>NULL</td><td>6049940</td></tr>",
                            "<tr><td>2016-01-22</td><td>NULL</td><td>3172930</td></tr>",
                            "<tr><td>2016-01-23</td><td>NULL</td><td>4222390</td></tr>",
                            "<tr><td>2016-01-24</td><td>NULL</td><td>4554680</td></tr>",
                            "<tr><td>2016-01-25</td><td>NULL</td><td>2879060</td></tr>",
                            "<tr><td>2016-01-26</td><td>NULL</td><td>5031710</td></tr>",
                            "<tr><td>2016-01-27</td><td>NULL</td><td>4527100</td></tr>",
                            "<tr><td>2016-01-28</td><td>NULL</td><td>3415550</td></tr>",
                            "<tr><td>2016-01-29</td><td>NULL</td><td>4352660</td></tr>",
                            "<tr><td>2016-01-30</td><td>NULL</td><td>4606680</td></tr>",
                            "<tr><td>2016-01-31</td><td>NULL</td><td>2129250</td></tr>",
                            "<tr><td>2016-02-01</td><td>NULL</td><td>3854930</td></tr>",
                            "<tr><td>2016-02-02</td><td>NULL</td><td>3704110</td></tr>",
                            "<tr><td>2016-02-03</td><td>NULL</td><td>5305860</td></tr>",
                            "<tr><td>2016-02-04</td><td>NULL</td><td>4689980</td></tr>",
                            "<tr><td>2016-02-05</td><td>NULL</td><td>4666330</td></tr>",
                            "<tr><td>2016-02-06</td><td>NULL</td><td>2328250</td></tr>",
                            "<tr><td>2016-02-07</td><td>NULL</td><td>4171390</td></tr>",
                            "<tr><td>2016-02-08</td><td>NULL</td><td>5521240</td></tr>",
                            "<tr><td>2016-02-09</td><td>NULL</td><td>4429490</td></tr>",
                            "<tr><td>2016-02-10</td><td>NULL</td><td>2643650</td></tr>",
                            "<tr><td>2016-02-11</td><td>NULL</td><td>4375480</td></tr>",
                            "<tr><td>2016-02-12</td><td>NULL</td><td>5422215</td></tr>",
                            "<tr><td>2016-02-13</td><td>NULL</td><td>6953530</td></tr>",
                            "<tr><td>2016-02-14</td><td>NULL</td><td>6367760</td></tr>",
                            "<tr><td>2016-02-15</td><td>NULL</td><td>3598410</td></tr>",
                            "<tr><td>2016-02-16</td><td>NULL</td><td>1703360</td></tr>",
                            "<tr><td>2016-02-17</td><td>NULL</td><td>8006740</td></tr>",
                            "<tr><td>2016-02-18</td><td>NULL</td><td>3828020</td></tr>",
                            "<tr><td>2016-02-19</td><td>NULL</td><td>4125360</td></tr>",
                            "<tr><td>2016-02-20</td><td>NULL</td><td>4192140</td></tr>",
                            "<tr><td>2016-02-21</td><td>NULL</td><td>5090530</td></tr>",
                            "<tr><td>2016-02-22</td><td>NULL</td><td>5003360</td></tr>",
                            "<tr><td>2016-02-23</td><td>NULL</td><td>5548320</td></tr>",
                            "<tr><td>2016-02-24</td><td>NULL</td><td>4131490</td></tr>",
                            "<tr><td>2016-02-25</td><td>NULL</td><td>2243060</td></tr>",
                            "<tr><td>2016-02-26</td><td>NULL</td><td>5007140</td></tr>",
                            "<tr><td>2016-02-27</td><td>NULL</td><td>4711070</td></tr>",
                            "<tr><td>2016-02-28</td><td>NULL</td><td>5702270</td></tr>",
                            "<tr><td>2016-02-29</td><td>NULL</td><td>4062020</td></tr>",
                            "<tr><td>2016-03-01</td><td>NULL</td><td>2722790</td></tr>",
                            "<tr><td>2016-03-02</td><td>NULL</td><td>3088390</td></tr>",
                            "<tr><td>2016-03-03</td><td>NULL</td><td>4901560</td></tr>",
                            "<tr><td>2016-03-04</td><td>NULL</td><td>3210630</td></tr>",
                            "<tr><td>2016-03-05</td><td>NULL</td><td>2508360</td></tr>",
                            "<tr><td>2016-03-06</td><td>NULL</td><td>2868670</td></tr>",
                            "<tr><td>2016-03-07</td><td>NULL</td><td>6382670</td></tr>",
                            "<tr><td>2016-03-08</td><td>NULL</td><td>2974690</td></tr>",
                            "<tr><td>2016-03-09</td><td>NULL</td><td>3443790</td></tr>",
                            "<tr><td>2016-03-10</td><td>NULL</td><td>3981330</td></tr>",
                            "<tr><td>2016-03-11</td><td>NULL</td><td>3427360</td></tr>",
                            "<tr><td>2016-03-12</td><td>NULL</td><td>3955500</td></tr>",
                            "<tr><td>2016-03-13</td><td>NULL</td><td>4285210</td></tr>",
                            "<tr><td>2016-03-14</td><td>NULL</td><td>4039930</td></tr>",
                            "<tr><td>2016-03-15</td><td>NULL</td><td>2949150</td></tr>",
                            "<tr><td>2016-03-16</td><td>NULL</td><td>3554350</td></tr>",
                            "<tr><td>2016-03-17</td><td>NULL</td><td>4329390</td></tr>",
                            "<tr><td>2016-03-18</td><td>NULL</td><td>3432310</td></tr>",
                            "<tr><td>2016-03-19</td><td>NULL</td><td>3783340</td></tr>",
                            "<tr><td>2016-03-20</td><td>NULL</td><td>3928035</td></tr>",
                            "<tr><td>2016-03-21</td><td>NULL</td><td>4638550</td></tr>",
                            "<tr><td>2016-03-22</td><td>NULL</td><td>3483200</td></tr>",
                            "<tr><td>2016-03-23</td><td>NULL</td><td>2021610</td></tr>",
                            "<tr><td>2016-03-24</td><td>NULL</td><td>4387210</td></tr>",
                            "<tr><td>2016-03-25</td><td>NULL</td><td>2753250</td></tr>",
                            "<tr><td>2016-03-26</td><td>NULL</td><td>3024420</td></tr>",
                            "<tr><td>2016-03-27</td><td>NULL</td><td>5555880</td></tr>",
                            "<tr><td>2016-03-28</td><td>NULL</td><td>5169580</td></tr>",
                            "<tr><td>2016-03-29</td><td>NULL</td><td>4055210</td></tr>",
                            "<tr><td>2016-03-30</td><td>NULL</td><td>3786330</td></tr>",
                            "<tr><td>2016-03-31</td><td>NULL</td><td>3082690</td></tr>",
                            "<tr><td>2016-04-01</td><td>NULL</td><td>3306650</td></tr>",
                            "<tr><td>2016-04-02</td><td>NULL</td><td>3412610</td></tr>",
                            "<tr><td>2016-04-03</td><td>NULL</td><td>3592680</td></tr>",
                            "<tr><td>2016-04-04</td><td>NULL</td><td>6800170</td></tr>",
                            "<tr><td>2016-04-05</td><td>NULL</td><td>3180810</td></tr>",
                            "<tr><td>2016-04-06</td><td>NULL</td><td>4450520</td></tr>",
                            "<tr><td>2016-04-07</td><td>NULL</td><td>4476330</td></tr>",
                            "<tr><td>2016-04-08</td><td>NULL</td><td>4551850</td></tr>",
                            "<tr><td>2016-04-09</td><td>NULL</td><td>3692290</td></tr>",
                            "<tr><td>2016-04-10</td><td>NULL</td><td>3295330</td></tr>",
                            "<tr><td>2016-04-11</td><td>NULL</td><td>4279830</td></tr>",
                            "<tr><td>2016-04-12</td><td>NULL</td><td>2860600</td></tr>",
                            "<tr><td>2016-04-13</td><td>NULL</td><td>2883880</td></tr>",
                            "<tr><td>2016-04-14</td><td>NULL</td><td>4694350</td></tr>",
                            "<tr><td>2016-04-15</td><td>NULL</td><td>2607260</td></tr>",
                            "<tr><td>2016-04-16</td><td>NULL</td><td>5826970</td></tr>",
                            "<tr><td>2016-04-17</td><td>NULL</td><td>2419010</td></tr>",
                            "<tr><td>2016-04-18</td><td>NULL</td><td>5328450</td></tr>",
                            "<tr><td>2016-04-19</td><td>NULL</td><td>4631880</td></tr>",
                            "<tr><td>2016-04-20</td><td>NULL</td><td>3788760</td></tr>",
                            "<tr><td>2016-04-21</td><td>NULL</td><td>2174100</td></tr>",
                            "<tr><td>2016-04-22</td><td>NULL</td><td>5151720</td></tr>",
                            "<tr><td>2016-04-23</td><td>NULL</td><td>3825090</td></tr>",
                            "<tr><td>2016-04-24</td><td>NULL</td><td>5384200</td></tr>",
                            "<tr><td>2016-04-25</td><td>NULL</td><td>6807540</td></tr>",
                            "<tr><td>2016-04-26</td><td>NULL</td><td>6011750</td></tr>",
                            "<tr><td>2016-04-27</td><td>NULL</td><td>3856170</td></tr>",
                            "<tr><td>2016-04-28</td><td>NULL</td><td>4204860</td></tr>",
                            "<tr><td>2016-04-29</td><td>NULL</td><td>4482680</td></tr>",
                            "<tr><td>2016-04-30</td><td>NULL</td><td>2979440</td></tr>",
                            "<tr><td>2016-05-01</td><td>NULL</td><td>2293680</td></tr>",
                            "<tr><td>2016-05-02</td><td>NULL</td><td>3918350</td></tr>",
                            "<tr><td>2016-05-03</td><td>NULL</td><td>3628420</td></tr>",
                            "<tr><td>2016-05-04</td><td>NULL</td><td>4370490</td></tr>",
                            "<tr><td>2016-05-05</td><td>NULL</td><td>2998610</td></tr>",
                            "<tr><td>2016-05-06</td><td>NULL</td><td>3479790</td></tr>",
                            "<tr><td>2016-05-07</td><td>NULL</td><td>4802390</td></tr>",
                            "<tr><td>2016-05-08</td><td>NULL</td><td>4336200</td></tr>",
                            "<tr><td>2016-05-09</td><td>NULL</td><td>4149360</td></tr>",
                            "<tr><td>2016-05-10</td><td>NULL</td><td>3968580</td></tr>",
                            "<tr><td>2016-05-11</td><td>NULL</td><td>4380820</td></tr>",
                            "<tr><td>2016-05-12</td><td>NULL</td><td>5935710</td></tr>",
                            "<tr><td>2016-05-13</td><td>NULL</td><td>3034090</td></tr>",
                            "<tr><td>2016-05-14</td><td>NULL</td><td>3058270</td></tr>",
                            "<tr><td>2016-05-15</td><td>NULL</td><td>3803500</td></tr>",
                            "<tr><td>2016-05-16</td><td>NULL</td><td>3550980</td></tr>",
                            "<tr><td>2016-05-17</td><td>NULL</td><td>4300410</td></tr>",
                            "<tr><td>2016-05-18</td><td>NULL</td><td>3043880</td></tr>",
                            "<tr><td>2016-05-19</td><td>NULL</td><td>2787020</td></tr>",
                            "<tr><td>2016-05-20</td><td>NULL</td><td>2967570</td></tr>",
                            "<tr><td>2016-05-21</td><td>NULL</td><td>3034050</td></tr>",
                            "<tr><td>2016-05-22</td><td>NULL</td><td>3956770</td></tr>",
                            "<tr><td>2016-05-23</td><td>NULL</td><td>4874065</td></tr>",
                            "<tr><td>2016-05-24</td><td>NULL</td><td>1395460</td></tr>",
                            "<tr><td>2016-05-25</td><td>NULL</td><td>2226600</td></tr>",
                            "<tr><td>2016-05-26</td><td>NULL</td><td>1942760</td></tr>",
                            "<tr><td>2016-05-27</td><td>NULL</td><td>3741660</td></tr>",
                            "<tr><td>2016-05-28</td><td>NULL</td><td>3364000</td></tr>",
                            "<tr><td>2016-05-29</td><td>NULL</td><td>3132810</td></tr>",
                            "<tr><td>2016-05-30</td><td>NULL</td><td>3719580</td></tr>",
                            "<tr><td>2016-05-31</td><td>NULL</td><td>3975700</td></tr>",
                            "<tr><td>2016-06-01</td><td>NULL</td><td>5036510</td></tr>",
                            "<tr><td>2016-06-02</td><td>NULL</td><td>3453860</td></tr>",
                            "<tr><td>2016-06-03</td><td>NULL</td><td>2945650</td></tr>",
                            "<tr><td>2016-06-04</td><td>NULL</td><td>5691630</td></tr>",
                            "<tr><td>2016-06-05</td><td>NULL</td><td>2779010</td></tr>",
                            "<tr><td>2016-06-06</td><td>NULL</td><td>2941290</td></tr>",
                            "<tr><td>2016-06-07</td><td>NULL</td><td>3706180</td></tr>",
                            "<tr><td>2016-06-08</td><td>NULL</td><td>4959630</td></tr>",
                            "<tr><td>2016-06-09</td><td>NULL</td><td>5129750</td></tr>",
                            "<tr><td>2016-06-10</td><td>NULL</td><td>2295190</td></tr>",
                            "<tr><td>2016-06-11</td><td>NULL</td><td>2306260</td></tr>",
                            "<tr><td>2016-06-12</td><td>NULL</td><td>6920770</td></tr>",
                            "<tr><td>2016-06-13</td><td>NULL</td><td>3467450</td></tr>",
                            "<tr><td>2016-06-14</td><td>NULL</td><td>3455120</td></tr>",
                            "<tr><td>2016-06-15</td><td>NULL</td><td>3287980</td></tr>",
                            "<tr><td>2016-06-16</td><td>NULL</td><td>3607860</td></tr>",
                            "<tr><td>2016-06-17</td><td>NULL</td><td>3937495</td></tr>",
                            "<tr><td>2016-06-18</td><td>NULL</td><td>4126910</td></tr>",
                            "<tr><td>2016-06-19</td><td>NULL</td><td>2782175</td></tr>",
                            "<tr><td>2016-06-20</td><td>NULL</td><td>2819270</td></tr>",
                            "<tr><td>2016-06-21</td><td>NULL</td><td>4079830</td></tr>",
                            "<tr><td>2016-06-22</td><td>NULL</td><td>3871260</td></tr>",
                            "<tr><td>2016-06-23</td><td>NULL</td><td>3123280</td></tr>",
                            "<tr><td>2016-06-24</td><td>NULL</td><td>4701270</td></tr>",
                            "<tr><td>2016-06-25</td><td>NULL</td><td>5602990</td></tr>",
                            "<tr><td>2016-06-26</td><td>NULL</td><td>3921100</td></tr>",
                            "<tr><td>2016-06-27</td><td>NULL</td><td>4251000</td></tr>",
                            "<tr><td>2016-06-28</td><td>NULL</td><td>3311360</td></tr>",
                            "<tr><td>2016-06-29</td><td>NULL</td><td>3511800</td></tr>",
                            "<tr><td>2016-06-30</td><td>NULL</td><td>4070860</td></tr>",
                            "<tr><td>2016-07-01</td><td>NULL</td><td>3317100</td></tr>",
                            "<tr><td>2016-07-02</td><td>NULL</td><td>4600570</td></tr>",
                            "<tr><td>2016-07-03</td><td>NULL</td><td>5444060</td></tr>",
                            "<tr><td>2016-07-04</td><td>NULL</td><td>4756480</td></tr>",
                            "<tr><td>2016-07-05</td><td>NULL</td><td>4043950</td></tr>",
                            "<tr><td>2016-07-06</td><td>NULL</td><td>3108900</td></tr>",
                            "<tr><td>2016-07-07</td><td>NULL</td><td>2938855</td></tr>",
                            "<tr><td>2016-07-08</td><td>NULL</td><td>4348870</td></tr>",
                            "<tr><td>2016-07-09</td><td>NULL</td><td>3147400</td></tr>",
                            "<tr><td>2016-07-10</td><td>NULL</td><td>1886240</td></tr>",
                            "<tr><td>2016-07-11</td><td>NULL</td><td>4839760</td></tr>",
                            "<tr><td>2016-07-12</td><td>NULL</td><td>3860690</td></tr>",
                            "<tr><td>2016-07-13</td><td>NULL</td><td>3195330</td></tr>",
                            "<tr><td>2016-07-14</td><td>NULL</td><td>4294090</td></tr>",
                            "<tr><td>2016-07-15</td><td>NULL</td><td>4450830</td></tr>",
                            "<tr><td>2016-07-16</td><td>NULL</td><td>6548830</td></tr>",
                            "<tr><td>2016-07-17</td><td>NULL</td><td>2148990</td></tr>",
                            "<tr><td>2016-07-18</td><td>NULL</td><td>3667830</td></tr>",
                            "<tr><td>2016-07-19</td><td>NULL</td><td>6477250</td></tr>",
                            "<tr><td>2016-07-20</td><td>NULL</td><td>2935850</td></tr>",
                            "<tr><td>2016-07-21</td><td>NULL</td><td>4563250</td></tr>",
                            "<tr><td>2016-07-22</td><td>NULL</td><td>2710320</td></tr>",
                            "<tr><td>2016-07-23</td><td>NULL</td><td>2075990</td></tr>",
                            "<tr><td>2016-07-24</td><td>NULL</td><td>3637400</td></tr>",
                            "<tr><td>2016-07-25</td><td>NULL</td><td>3057190</td></tr>",
                            "<tr><td>2016-07-26</td><td>NULL</td><td>3535080</td></tr>",
                            "<tr><td>2016-07-27</td><td>NULL</td><td>3501880</td></tr>",
                            "<tr><td>2016-07-28</td><td>NULL</td><td>3414510</td></tr>",
                            "<tr><td>2016-07-29</td><td>NULL</td><td>4318670</td></tr>",
                            "<tr><td>2016-07-30</td><td>NULL</td><td>3094480</td></tr>",
                            "<tr><td>2016-07-31</td><td>NULL</td><td>4049830</td></tr>",
                            "<tr><td>2016-08-01</td><td>NULL</td><td>3714550</td></tr>",
                            "<tr><td>2016-08-02</td><td>NULL</td><td>2823170</td></tr>",
                            "<tr><td>2016-08-03</td><td>NULL</td><td>4405360</td></tr>",
                            "<tr><td>2016-08-04</td><td>NULL</td><td>5143210</td></tr>",
                            "<tr><td>2016-08-05</td><td>NULL</td><td>6344325</td></tr>",
                            "<tr><td>2016-08-06</td><td>NULL</td><td>4461710</td></tr>",
                            "<tr><td>2016-08-07</td><td>NULL</td><td>3172660</td></tr>",
                            "<tr><td>2016-08-08</td><td>NULL</td><td>6024240</td></tr>",
                            "<tr><td>2016-08-09</td><td>NULL</td><td>2974140</td></tr>",
                            "<tr><td>2016-08-10</td><td>NULL</td><td>4711370</td></tr>",
                            "<tr><td>2016-08-11</td><td>NULL</td><td>2939950</td></tr>",
                            "<tr><td>2016-08-12</td><td>NULL</td><td>2676445</td></tr>",
                            "<tr><td>2016-08-13</td><td>NULL</td><td>3581600</td></tr>",
                            "<tr><td>2016-08-14</td><td>NULL</td><td>6249145</td></tr>",
                            "<tr><td>2016-08-15</td><td>NULL</td><td>3878090</td></tr>",
                            "<tr><td>2016-08-16</td><td>NULL</td><td>2978685</td></tr>",
                            "<tr><td>2016-08-17</td><td>NULL</td><td>3824130</td></tr>",
                            "<tr><td>2016-08-18</td><td>NULL</td><td>3610485</td></tr>",
                            "<tr><td>2016-08-19</td><td>NULL</td><td>4219950</td></tr>",
                            "<tr><td>2016-08-20</td><td>NULL</td><td>4412110</td></tr>",
                            "<tr><td>2016-08-21</td><td>NULL</td><td>3168900</td></tr>",
                            "<tr><td>2016-08-22</td><td>NULL</td><td>4581880</td></tr>",
                            "<tr><td>2016-08-23</td><td>NULL</td><td>4155090</td></tr>",
                            "<tr><td>2016-08-24</td><td>NULL</td><td>3428670</td></tr>",
                            "<tr><td>2016-08-25</td><td>NULL</td><td>5158350</td></tr>",
                            "<tr><td>2016-08-26</td><td>NULL</td><td>2664520</td></tr>",
                            "<tr><td>2016-08-27</td><td>NULL</td><td>2614860</td></tr>",
                            "<tr><td>2016-08-28</td><td>NULL</td><td>4317420</td></tr>",
                            "<tr><td>2016-08-29</td><td>NULL</td><td>6548300</td></tr>",
                            "<tr><td>2016-08-30</td><td>NULL</td><td>5068580</td></tr>",
                            "<tr><td>2016-08-31</td><td>NULL</td><td>4123350</td></tr>",
                            "<tr><td>2016-09-01</td><td>NULL</td><td>3148220</td></tr>",
                            "<tr><td>2016-09-02</td><td>NULL</td><td>5254130</td></tr>",
                            "<tr><td>2016-09-03</td><td>NULL</td><td>4476700</td></tr>",
                            "<tr><td>2016-09-04</td><td>NULL</td><td>4217920</td></tr>",
                            "<tr><td>2016-09-05</td><td>NULL</td><td>2793940</td></tr>",
                            "<tr><td>2016-09-06</td><td>NULL</td><td>5497420</td></tr>",
                            "<tr><td>2016-09-07</td><td>NULL</td><td>3324940</td></tr>",
                            "<tr><td>2016-09-08</td><td>NULL</td><td>4160480</td></tr>",
                            "<tr><td>2016-09-09</td><td>NULL</td><td>4977540</td></tr>",
                            "<tr><td>2016-09-10</td><td>NULL</td><td>3750970</td></tr>",
                            "<tr><td>2016-09-11</td><td>NULL</td><td>3970890</td></tr>",
                            "<tr><td>2016-09-12</td><td>NULL</td><td>1827140</td></tr>",
                            "<tr><td>2016-09-13</td><td>NULL</td><td>3378290</td></tr>",
                            "<tr><td>2016-09-14</td><td>NULL</td><td>3275790</td></tr>",
                            "<tr><td>2016-09-15</td><td>NULL</td><td>2904820</td></tr>",
                            "<tr><td>2016-09-16</td><td>NULL</td><td>3143690</td></tr>",
                            "<tr><td>2016-09-17</td><td>NULL</td><td>3588830</td></tr>",
                            "<tr><td>2016-09-18</td><td>NULL</td><td>3626170</td></tr>",
                            "<tr><td>2016-09-19</td><td>NULL</td><td>3612840</td></tr>",
                            "<tr><td>2016-09-20</td><td>NULL</td><td>2857140</td></tr>",
                            "<tr><td>2016-09-21</td><td>NULL</td><td>3382990</td></tr>",
                            "<tr><td>2016-09-22</td><td>NULL</td><td>3225910</td></tr>",
                            "<tr><td>2016-09-23</td><td>NULL</td><td>5785540</td></tr>",
                            "<tr><td>2016-09-24</td><td>NULL</td><td>4130750</td></tr>",
                            "<tr><td>2016-09-25</td><td>NULL</td><td>2735230</td></tr>",
                            "<tr><td>2016-09-26</td><td>NULL</td><td>3598470</td></tr>",
                            "<tr><td>2016-09-27</td><td>NULL</td><td>4192050</td></tr>",
                            "<tr><td>2016-09-28</td><td>NULL</td><td>3822220</td></tr>",
                            "<tr><td>2016-09-29</td><td>NULL</td><td>3610090</td></tr>",
                            "<tr><td>2016-09-30</td><td>NULL</td><td>4433110</td></tr>",
                            "<tr><td>2016-10-01</td><td>NULL</td><td>4321100</td></tr>",
                            "<tr><td>2016-10-02</td><td>NULL</td><td>7342180</td></tr>",
                            "<tr><td>2016-10-03</td><td>NULL</td><td>2530600</td></tr>",
                            "<tr><td>2016-10-04</td><td>NULL</td><td>3178120</td></tr>",
                            "<tr><td>2016-10-05</td><td>NULL</td><td>3415600</td></tr>",
                            "<tr><td>2016-10-06</td><td>NULL</td><td>4094340</td></tr>",
                            "<tr><td>2016-10-07</td><td>NULL</td><td>3170460</td></tr>",
                            "<tr><td>2016-10-08</td><td>NULL</td><td>3047790</td></tr>",
                            "<tr><td>2016-10-09</td><td>NULL</td><td>4145430</td></tr>",
                            "<tr><td>2016-10-10</td><td>NULL</td><td>3907950</td></tr>",
                            "<tr><td>2016-10-11</td><td>NULL</td><td>2903360</td></tr>",
                            "<tr><td>2016-10-12</td><td>NULL</td><td>3427980</td></tr>",
                            "<tr><td>2016-10-13</td><td>NULL</td><td>4736260</td></tr>",
                            "<tr><td>2016-10-14</td><td>NULL</td><td>2779700</td></tr>",
                            "<tr><td>2016-10-15</td><td>NULL</td><td>2961100</td></tr>",
                            "<tr><td>2016-10-16</td><td>NULL</td><td>4068640</td></tr>",
                            "<tr><td>2016-10-17</td><td>NULL</td><td>3379770</td></tr>",
                            "<tr><td>2016-10-18</td><td>NULL</td><td>4760830</td></tr>",
                            "<tr><td>2016-10-19</td><td>NULL</td><td>5218770</td></tr>",
                            "<tr><td>2016-10-20</td><td>NULL</td><td>1934860</td></tr>",
                            "<tr><td>2016-10-21</td><td>NULL</td><td>5621130</td></tr>",
                            "<tr><td>2016-10-22</td><td>NULL</td><td>4802190</td></tr>",
                            "<tr><td>2016-10-23</td><td>NULL</td><td>2995490</td></tr>",
                            "<tr><td>2016-10-24</td><td>NULL</td><td>3054150</td></tr>",
                            "<tr><td>2016-10-25</td><td>NULL</td><td>6130350</td></tr>",
                            "<tr><td>2016-10-26</td><td>NULL</td><td>4774060</td></tr>",
                            "<tr><td>2016-10-27</td><td>NULL</td><td>4028510</td></tr>",
                            "<tr><td>2016-10-28</td><td>NULL</td><td>3398470</td></tr>",
                            "<tr><td>2016-10-29</td><td>NULL</td><td>3168010</td></tr>",
                            "<tr><td>2016-10-30</td><td>NULL</td><td>2601270</td></tr>",
                            "<tr><td>2016-10-31</td><td>NULL</td><td>2338070</td></tr>",
                            "<tr><td>2016-11-01</td><td>NULL</td><td>2875130</td></tr>",
                            "<tr><td>2016-11-02</td><td>NULL</td><td>4181470</td></tr>",
                            "<tr><td>2016-11-03</td><td>NULL</td><td>3334900</td></tr>",
                            "<tr><td>2016-11-04</td><td>NULL</td><td>3422690</td></tr>",
                            "<tr><td>2016-11-05</td><td>NULL</td><td>3039900</td></tr>",
                            "<tr><td>2016-11-06</td><td>NULL</td><td>4431910</td></tr>",
                            "<tr><td>2016-11-07</td><td>NULL</td><td>2868620</td></tr>",
                            "<tr><td>2016-11-08</td><td>NULL</td><td>2232110</td></tr>",
                            "<tr><td>2016-11-09</td><td>NULL</td><td>3303580</td></tr>",
                            "<tr><td>2016-11-10</td><td>NULL</td><td>4697010</td></tr>",
                            "<tr><td>2016-11-11</td><td>NULL</td><td>3564280</td></tr>",
                            "<tr><td>2016-11-12</td><td>NULL</td><td>5283320</td></tr>",
                            "<tr><td>2016-11-13</td><td>NULL</td><td>3270450</td></tr>",
                            "<tr><td>2016-11-14</td><td>NULL</td><td>4083840</td></tr>",
                            "<tr><td>2016-11-15</td><td>NULL</td><td>2665170</td></tr>",
                            "<tr><td>2016-11-16</td><td>NULL</td><td>4497520</td></tr>",
                            "<tr><td>2016-11-17</td><td>NULL</td><td>3302290</td></tr>",
                            "<tr><td>2016-11-18</td><td>NULL</td><td>4500590</td></tr>",
                            "<tr><td>2016-11-19</td><td>NULL</td><td>3939770</td></tr>",
                            "<tr><td>2016-11-20</td><td>NULL</td><td>5313420</td></tr>",
                            "<tr><td>2016-11-21</td><td>NULL</td><td>2400580</td></tr>",
                            "<tr><td>2016-11-22</td><td>NULL</td><td>4556750</td></tr>",
                            "<tr><td>2016-11-23</td><td>NULL</td><td>4040950</td></tr>",
                            "<tr><td>2016-11-24</td><td>NULL</td><td>3759700</td></tr>",
                            "<tr><td>2016-11-25</td><td>NULL</td><td>4965290</td></tr>",
                            "<tr><td>2016-11-26</td><td>NULL</td><td>2566110</td></tr>",
                            "<tr><td>2016-11-27</td><td>NULL</td><td>3563890</td></tr>",
                            "<tr><td>2016-11-28</td><td>NULL</td><td>3787690</td></tr>",
                            "<tr><td>2016-11-29</td><td>NULL</td><td>3205630</td></tr>",
                            "<tr><td>2016-11-30</td><td>NULL</td><td>3644870</td></tr>",
                            "<tr><td>2016-12-01</td><td>NULL</td><td>4393330</td></tr>",
                            "<tr><td>2016-12-02</td><td>NULL</td><td>3242300</td></tr>",
                            "<tr><td>2016-12-03</td><td>NULL</td><td>3196260</td></tr>",
                            "<tr><td>2016-12-04</td><td>NULL</td><td>3408340</td></tr>",
                            "<tr><td>2016-12-05</td><td>NULL</td><td>4717410</td></tr>",
                            "<tr><td>2016-12-06</td><td>NULL</td><td>3214060</td></tr>",
                            "<tr><td>2016-12-07</td><td>NULL</td><td>3385000</td></tr>",
                            "<tr><td>2016-12-08</td><td>NULL</td><td>4202120</td></tr>",
                            "<tr><td>2016-12-09</td><td>NULL</td><td>2295280</td></tr>",
                            "<tr><td>2016-12-10</td><td>NULL</td><td>4154800</td></tr>",
                            "<tr><td>2016-12-11</td><td>NULL</td><td>2032560</td></tr>",
                            "<tr><td>2016-12-12</td><td>NULL</td><td>3108120</td></tr>",
                            "<tr><td>2016-12-13</td><td>NULL</td><td>2313940</td></tr>",
                            "<tr><td>2016-12-14</td><td>NULL</td><td>4041580</td></tr>",
                            "<tr><td>2016-12-15</td><td>NULL</td><td>4884290</td></tr>",
                            "<tr><td>2016-12-16</td><td>NULL</td><td>5632750</td></tr>",
                            "<tr><td>2016-12-17</td><td>NULL</td><td>3798290</td></tr>",
                            "<tr><td>2016-12-18</td><td>NULL</td><td>4082880</td></tr>",
                            "<tr><td>2016-12-19</td><td>NULL</td><td>3582270</td></tr>",
                            "<tr><td>2016-12-20</td><td>NULL</td><td>3065260</td></tr>",
                            "<tr><td>2016-12-21</td><td>NULL</td><td>5383360</td></tr>",
                            "<tr><td>2016-12-22</td><td>NULL</td><td>4236830</td></tr>",
                            "<tr><td>2016-12-23</td><td>NULL</td><td>3755530</td></tr>",
                            "<tr><td>2016-12-24</td><td>NULL</td><td>3608240</td></tr>",
                            "<tr><td>2016-12-25</td><td>NULL</td><td>4379490</td></tr>",
                            "<tr><td>2016-12-26</td><td>NULL</td><td>3793400</td></tr>",
                            "<tr><td>2016-12-27</td><td>NULL</td><td>3892740</td></tr>",
                            "<tr><td>2016-12-28</td><td>NULL</td><td>3476600</td></tr>",
                            "<tr><td>2016-12-29</td><td>NULL</td><td>2518720</td></tr>",
                            "<tr><td>2016-12-30</td><td>NULL</td><td>3586260</td></tr>",
                            "<tr><td>2016-12-31</td><td>NULL</td><td>4490450</td></tr>",
                            "<tr><td>2017-01-01</td><td>NULL</td><td>3601710</td></tr>",
                            "<tr><td>2017-01-02</td><td>NULL</td><td>5217600</td></tr>",
                            "<tr><td>2017-01-03</td><td>NULL</td><td>4064370</td></tr>",
                            "<tr><td>2017-01-04</td><td>NULL</td><td>6012500</td></tr>",
                            "<tr><td>2017-01-05</td><td>NULL</td><td>2741300</td></tr>",
                            "<tr><td>2017-01-06</td><td>NULL</td><td>3833150</td></tr>",
                            "<tr><td>2017-01-07</td><td>NULL</td><td>2939780</td></tr>",
                            "<tr><td>2017-01-08</td><td>NULL</td><td>5840520</td></tr>",
                            "<tr><td>2017-01-09</td><td>NULL</td><td>3938610</td></tr>",
                            "<tr><td>2017-01-10</td><td>NULL</td><td>4249080</td></tr>",
                            "<tr><td>2017-01-11</td><td>NULL</td><td>2958860</td></tr>",
                            "<tr><td>2017-01-12</td><td>NULL</td><td>3849580</td></tr>",
                            "<tr><td>2017-01-13</td><td>NULL</td><td>3832960</td></tr>",
                            "<tr><td>2017-01-14</td><td>NULL</td><td>3731100</td></tr>",
                            "<tr><td>2017-01-15</td><td>NULL</td><td>4163670</td></tr>",
                            "<tr><td>2017-01-16</td><td>NULL</td><td>2845880</td></tr>",
                            "<tr><td>2017-01-17</td><td>NULL</td><td>3896510</td></tr>",
                            "<tr><td>2017-01-18</td><td>NULL</td><td>3357220</td></tr>",
                            "<tr><td>2017-01-19</td><td>NULL</td><td>1889990</td></tr>",
                            "<tr><td>2017-01-20</td><td>NULL</td><td>2404240</td></tr>",
                            "<tr><td>2017-01-21</td><td>NULL</td><td>3393680</td></tr>",
                            "<tr><td>2017-01-22</td><td>NULL</td><td>2289550</td></tr>",
                            "<tr><td>2017-01-23</td><td>NULL</td><td>1884150</td></tr>",
                            "<tr><td>2017-01-24</td><td>NULL</td><td>4160770</td></tr>",
                            "<tr><td>2017-01-25</td><td>NULL</td><td>3866560</td></tr>",
                            "<tr><td>2017-01-26</td><td>NULL</td><td>4782440</td></tr>",
                            "<tr><td>2017-01-27</td><td>NULL</td><td>2372640</td></tr>",
                            "<tr><td>2017-01-28</td><td>NULL</td><td>4862070</td></tr>",
                            "<tr><td>2017-01-29</td><td>NULL</td><td>3652430</td></tr>",
                            "<tr><td>2017-01-30</td><td>NULL</td><td>4042190</td></tr>",
                            "<tr><td>2017-01-31</td><td>NULL</td><td>5015940</td></tr>",
                            "<tr><td>2017-02-01</td><td>NULL</td><td>2929700</td></tr>",
                            "<tr><td>2017-02-02</td><td>NULL</td><td>2452980</td></tr>",
                            "<tr><td>2017-02-03</td><td>NULL</td><td>2600740</td></tr>",
                            "<tr><td>2017-02-04</td><td>NULL</td><td>5315450</td></tr>",
                            "<tr><td>2017-02-05</td><td>NULL</td><td>3086150</td></tr>",
                            "<tr><td>2017-02-06</td><td>NULL</td><td>2654880</td></tr>",
                            "<tr><td>2017-02-07</td><td>NULL</td><td>2870360</td></tr>",
                            "<tr><td>2017-02-08</td><td>NULL</td><td>3459880</td></tr>",
                            "<tr><td>2017-02-09</td><td>NULL</td><td>5037310</td></tr>",
                            "<tr><td>2017-02-10</td><td>NULL</td><td>5412030</td></tr>",
                            "<tr><td>2017-02-11</td><td>NULL</td><td>4074030</td></tr>",
                            "<tr><td>2017-02-12</td><td>NULL</td><td>2801740</td></tr>",
                            "<tr><td>2017-02-13</td><td>NULL</td><td>2741040</td></tr>",
                            "<tr><td>2017-02-14</td><td>NULL</td><td>3699690</td></tr>",
                            "<tr><td>2017-02-15</td><td>NULL</td><td>2104860</td></tr>",
                            "<tr><td>2017-02-16</td><td>NULL</td><td>3517480</td></tr>",
                            "<tr><td>2017-02-17</td><td>NULL</td><td>1939040</td></tr>",
                            "<tr><td>2017-02-18</td><td>NULL</td><td>2786700</td></tr>",
                            "<tr><td>2017-02-19</td><td>NULL</td><td>2625700</td></tr>",
                            "<tr><td>2017-02-20</td><td>NULL</td><td>4275670</td></tr>",
                            "<tr><td>2017-02-21</td><td>NULL</td><td>3127730</td></tr>",
                            "<tr><td>2017-02-22</td><td>NULL</td><td>4193920</td></tr>",
                            "<tr><td>2017-02-23</td><td>NULL</td><td>3409800</td></tr>",
                            "<tr><td>2017-02-24</td><td>NULL</td><td>4899420</td></tr>",
                            "<tr><td>2017-02-25</td><td>NULL</td><td>3958860</td></tr>",
                            "<tr><td>2017-02-26</td><td>NULL</td><td>3773590</td></tr>",
                            "<tr><td>2017-02-27</td><td>NULL</td><td>2029670</td></tr>",
                            "<tr><td>2017-02-28</td><td>NULL</td><td>3754880</td></tr>",
                            "<tr><td>2017-03-01</td><td>NULL</td><td>3681510</td></tr>",
                            "<tr><td>2017-03-02</td><td>NULL</td><td>5208610</td></tr>",
                            "<tr><td>2017-03-03</td><td>NULL</td><td>4532110</td></tr>",
                            "<tr><td>2017-03-04</td><td>NULL</td><td>3850040</td></tr>",
                            "<tr><td>2017-03-05</td><td>NULL</td><td>3090460</td></tr>",
                            "<tr><td>2017-03-06</td><td>NULL</td><td>4501220</td></tr>",
                            "<tr><td>2017-03-07</td><td>NULL</td><td>2225340</td></tr>",
                            "<tr><td>2017-03-08</td><td>NULL</td><td>3550470</td></tr>",
                            "<tr><td>2017-03-09</td><td>NULL</td><td>4433900</td></tr>",
                            "<tr><td>2017-03-10</td><td>NULL</td><td>5208220</td></tr>",
                            "<tr><td>2017-03-11</td><td>NULL</td><td>3063510</td></tr>",
                            "<tr><td>2017-03-12</td><td>NULL</td><td>2926190</td></tr>",
                            "<tr><td>2017-03-13</td><td>NULL</td><td>2988080</td></tr>",
                            "<tr><td>2017-03-14</td><td>NULL</td><td>4542680</td></tr>",
                            "<tr><td>2017-03-15</td><td>NULL</td><td>2809140</td></tr>",
                            "<tr><td>2017-03-16</td><td>NULL</td><td>3643340</td></tr>",
                            "<tr><td>2017-03-17</td><td>NULL</td><td>4272070</td></tr>",
                            "<tr><td>2017-03-18</td><td>NULL</td><td>3143080</td></tr>",
                            "<tr><td>2017-03-19</td><td>NULL</td><td>4095320</td></tr>",
                            "<tr><td>2017-03-20</td><td>NULL</td><td>5144400</td></tr>",
                            "<tr><td>2017-03-21</td><td>NULL</td><td>3196200</td></tr>",
                            "<tr><td>2017-03-22</td><td>NULL</td><td>5278330</td></tr>",
                            "<tr><td>2017-03-23</td><td>NULL</td><td>5034310</td></tr>",
                            "<tr><td>2017-03-24</td><td>NULL</td><td>4697020</td></tr>",
                            "<tr><td>2017-03-25</td><td>NULL</td><td>3279520</td></tr>",
                            "<tr><td>2017-03-26</td><td>NULL</td><td>2729970</td></tr>",
                            "<tr><td>2017-03-27</td><td>NULL</td><td>2577060</td></tr>",
                            "<tr><td>2017-03-28</td><td>NULL</td><td>2687540</td></tr>",
                            "<tr><td>2017-03-29</td><td>NULL</td><td>2715840</td></tr>",
                            "<tr><td>2017-03-30</td><td>NULL</td><td>4541530</td></tr>",
                            "<tr><td>2017-03-31</td><td>NULL</td><td>2825610</td></tr>",
                            "<tr><td>2017-04-01</td><td>NULL</td><td>3592370</td></tr>",
                            "<tr><td>NULL</td><td>NULL</td><td>2611634603</td></tr>",
                            "</table>"
                        ]
                    }
                }
            ],
            "execution_count": 2
        },
        {
            "cell_type": "markdown",
            "source": [
                "```\n",
                "3. Hány olyan ügyfél van, aki még nem rendelt semmit?\n",
                "```\n",
                "\n",
                "1. Csoportosítsuk őket nem szerint, azon belül életkor szerint!\n",
                "2. A lista tartalmazza a részösszegeket és a végösszeget is!\n",
                "\n",
                "![](https://moodle.uni-corvinus.hu/theme/image.php/adaptable/atto_h5p/1709548862/icon)"
            ],
            "metadata": {
                "azdata_cell_guid": "d7876bb9-76d0-4d07-baed-3cb17b2f96c3"
            },
            "attachments": {}
        },
        {
            "cell_type": "code",
            "source": [
                ""
            ],
            "metadata": {
                "azdata_cell_guid": "56ec19ce-e249-4551-b2a8-f17569765acc",
                "language": "sql"
            },
            "outputs": [
                {
                    "output_type": "display_data",
                    "data": {
                        "text/html": "Commands completed successfully."
                    },
                    "metadata": {}
                },
                {
                    "output_type": "display_data",
                    "data": {
                        "text/html": "Total execution time: 00:00:00"
                    },
                    "metadata": {}
                }
            ],
            "execution_count": 3
        },
        {
            "cell_type": "markdown",
            "source": [
                "4. <span style=\"color: rgb(36, 41, 47); font-family: -apple-system, BlinkMacSystemFont, &quot;Segoe UI&quot;, Helvetica, Arial, sans-serif, &quot;Apple Color Emoji&quot;, &quot;Segoe UI Emoji&quot;; font-size: 16px;\">Készítsünk listát a megrendelt termékek legkisebb és legnagyobb egységáráról szállítási dátum, azon belül szállítási mód szerinti bontásban!</span>\n",
                "\n",
                "1. A lista csak a 2015 májusi szállításokat tartalmazza!\n",
                "2. Jelenítsük meg a részösszegeket és a végösszeget is!"
            ],
            "metadata": {
                "azdata_cell_guid": "8e7fef82-8022-49a0-8255-fc2846c2134b"
            },
            "attachments": {}
        },
        {
            "cell_type": "code",
            "source": [
                ""
            ],
            "metadata": {
                "azdata_cell_guid": "36f7b396-4a1f-45e5-8720-2302537c91bc",
                "language": "sql"
            },
            "outputs": [
                {
                    "output_type": "display_data",
                    "data": {
                        "text/html": "Commands completed successfully."
                    },
                    "metadata": {}
                },
                {
                    "output_type": "display_data",
                    "data": {
                        "text/html": "Total execution time: 00:00:00"
                    },
                    "metadata": {}
                }
            ],
            "execution_count": 4
        },
        {
            "cell_type": "markdown",
            "source": [
                "5. <span style=\"color: rgb(36, 41, 47); font-family: -apple-system, BlinkMacSystemFont, &quot;Segoe UI&quot;, Helvetica, Arial, sans-serif, &quot;Apple Color Emoji&quot;, &quot;Segoe UI Emoji&quot;; font-size: 16px;\">Készítsünk csoportot a termékek listaára alapján a következők szerint:&nbsp;<br></span> <span style=\"color: rgb(36, 41, 47); font-family: -apple-system, BlinkMacSystemFont, &quot;Segoe UI&quot;, Helvetica, Arial, sans-serif, &quot;Apple Color Emoji&quot;, &quot;Segoe UI Emoji&quot;; font-size: 16px;\">Az \"olcsó\" termékek legyenek azok, amelyek listaára 3000 alatt van.<br>&nbsp;A \"drága\" termékek legyenek az 5000 felettiek, a többi legyen \"közepes\".</span>\n",
                "\n",
                "1. Listázzuk az egyes csoportokat, és a csoportokba tartozó termékek darabszámát!\n",
                "2. A lista jelenítse meg a végösszeget is!"
            ],
            "metadata": {
                "azdata_cell_guid": "84239ca2-6b5e-49f5-9860-d44c11d6de32"
            },
            "attachments": {}
        },
        {
            "cell_type": "code",
            "source": [
                ""
            ],
            "metadata": {
                "azdata_cell_guid": "06d9a62b-9430-424b-a135-d80e675f0eb3",
                "language": "sql"
            },
            "outputs": [
                {
                    "output_type": "display_data",
                    "data": {
                        "text/html": "Commands completed successfully."
                    },
                    "metadata": {}
                },
                {
                    "output_type": "display_data",
                    "data": {
                        "text/html": "Total execution time: 00:00:00"
                    },
                    "metadata": {}
                }
            ],
            "execution_count": 5
        },
        {
            "cell_type": "markdown",
            "source": [
                "6. <span style=\"font-weight: 600; color: rgb(36, 41, 47); font-family: -apple-system, BlinkMacSystemFont, &quot;Segoe UI&quot;, Helvetica, Arial, sans-serif, &quot;Apple Color Emoji&quot;, &quot;Segoe UI Emoji&quot;; font-size: 16px;\">Készítsünk listát az ügyfelek adatairól név szerinti sorrendben.</span>\n",
                "\n",
                "1. Minden sorban jelenjen meg a sorrend szerint előző, illetve következő ügyfél neve is.\n",
                "2. Ha nincs előző vagy következő ügyfél, akkor a 'Nincs' jelenjen meg!"
            ],
            "metadata": {
                "azdata_cell_guid": "b0d15045-3c43-4f3a-b8d4-76b4f24e5546"
            },
            "attachments": {}
        },
        {
            "cell_type": "code",
            "source": [
                "SELECT NEV,\r\n",
                "        LEAD(Nev ,2, 'Nincs') OVER ( Order BY Nev),\r\n",
                "        LAG(Nev, 5 , 'Nem') OVER ( Order BY Nev)\r\n",
                "FROM Ugyfel"
            ],
            "metadata": {
                "azdata_cell_guid": "f2b7400d-1255-40ac-9250-4d57f9da5357",
                "language": "sql",
                "tags": []
            },
            "outputs": [
                {
                    "output_type": "display_data",
                    "data": {
                        "text/html": "(200 rows affected)"
                    },
                    "metadata": {}
                },
                {
                    "output_type": "display_data",
                    "data": {
                        "text/html": "Total execution time: 00:00:00.043"
                    },
                    "metadata": {}
                },
                {
                    "output_type": "execute_result",
                    "metadata": {},
                    "execution_count": 32,
                    "data": {
                        "application/vnd.dataresource+json": {
                            "schema": {
                                "fields": [
                                    {
                                        "name": "NEV"
                                    },
                                    {
                                        "name": "(No column name)"
                                    },
                                    {
                                        "name": "(No column name)"
                                    }
                                ]
                            },
                            "data": [
                                {
                                    "NEV": "Ambrus Dávid",
                                    "(No column name)": "Nem"
                                },
                                {
                                    "NEV": "Andor Ibolya",
                                    "(No column name)": "Nem"
                                },
                                {
                                    "NEV": "Antal László",
                                    "(No column name)": "Nem"
                                },
                                {
                                    "NEV": "Antal Tamás",
                                    "(No column name)": "Nem"
                                },
                                {
                                    "NEV": "Back András",
                                    "(No column name)": "Nem"
                                },
                                {
                                    "NEV": "Bagi Beáta",
                                    "(No column name)": "Ambrus Dávid"
                                },
                                {
                                    "NEV": "Bagóczki Alexandra",
                                    "(No column name)": "Andor Ibolya"
                                },
                                {
                                    "NEV": "Bajusz Bence",
                                    "(No column name)": "Antal László"
                                },
                                {
                                    "NEV": "Bakó Klaudia",
                                    "(No column name)": "Antal Tamás"
                                },
                                {
                                    "NEV": "Bakódy Balázs",
                                    "(No column name)": "Back András"
                                },
                                {
                                    "NEV": "Balla Miklós",
                                    "(No column name)": "Bagi Beáta"
                                },
                                {
                                    "NEV": "Balogh Eszter",
                                    "(No column name)": "Bagóczki Alexandra"
                                },
                                {
                                    "NEV": "Barabás Pál",
                                    "(No column name)": "Bajusz Bence"
                                },
                                {
                                    "NEV": "Baráth Mária",
                                    "(No column name)": "Bakó Klaudia"
                                },
                                {
                                    "NEV": "Bárci Gusztáv",
                                    "(No column name)": "Bakódy Balázs"
                                },
                                {
                                    "NEV": "Barkóci Ádám",
                                    "(No column name)": "Balla Miklós"
                                },
                                {
                                    "NEV": "Barna Debóra",
                                    "(No column name)": "Balogh Eszter"
                                },
                                {
                                    "NEV": "Barna Zoltán",
                                    "(No column name)": "Barabás Pál"
                                },
                                {
                                    "NEV": "Baróti Attila",
                                    "(No column name)": "Baráth Mária"
                                },
                                {
                                    "NEV": "Barta Zsuzsanna",
                                    "(No column name)": "Bárci Gusztáv"
                                },
                                {
                                    "NEV": "Berendi Péter",
                                    "(No column name)": "Barkóci Ádám"
                                },
                                {
                                    "NEV": "Béres Norbert",
                                    "(No column name)": "Barna Debóra"
                                },
                                {
                                    "NEV": "Berta Dávid",
                                    "(No column name)": "Barna Zoltán"
                                },
                                {
                                    "NEV": "Bieniek Ádám",
                                    "(No column name)": "Baróti Attila"
                                },
                                {
                                    "NEV": "Bíró Ákos",
                                    "(No column name)": "Barta Zsuzsanna"
                                },
                                {
                                    "NEV": "Biró Alexander",
                                    "(No column name)": "Berendi Péter"
                                },
                                {
                                    "NEV": "Bíró Péter",
                                    "(No column name)": "Béres Norbert"
                                },
                                {
                                    "NEV": "Bittmann Edit",
                                    "(No column name)": "Berta Dávid"
                                },
                                {
                                    "NEV": "Bodor Szabolcs",
                                    "(No column name)": "Bieniek Ádám"
                                },
                                {
                                    "NEV": "Bori Krisztina",
                                    "(No column name)": "Bíró Ákos"
                                },
                                {
                                    "NEV": "Boros Vivien",
                                    "(No column name)": "Biró Alexander"
                                },
                                {
                                    "NEV": "Bosnyák Ilona",
                                    "(No column name)": "Bíró Péter"
                                },
                                {
                                    "NEV": "Botka Mátyás",
                                    "(No column name)": "Bittmann Edit"
                                },
                                {
                                    "NEV": "Bozsik Balázs",
                                    "(No column name)": "Bodor Szabolcs"
                                },
                                {
                                    "NEV": "Bozsó Péter",
                                    "(No column name)": "Bori Krisztina"
                                },
                                {
                                    "NEV": "Böröcz Anikó",
                                    "(No column name)": "Boros Vivien"
                                },
                                {
                                    "NEV": "Bucskó Róza",
                                    "(No column name)": "Bosnyák Ilona"
                                },
                                {
                                    "NEV": "Búza Imre",
                                    "(No column name)": "Botka Mátyás"
                                },
                                {
                                    "NEV": "Czérna Krisztián",
                                    "(No column name)": "Bozsik Balázs"
                                },
                                {
                                    "NEV": "Csiger Bertalan",
                                    "(No column name)": "Bozsó Péter"
                                },
                                {
                                    "NEV": "Csóti Attila",
                                    "(No column name)": "Böröcz Anikó"
                                },
                                {
                                    "NEV": "Dániel Tibor",
                                    "(No column name)": "Bucskó Róza"
                                },
                                {
                                    "NEV": "Dunai Aladár",
                                    "(No column name)": "Búza Imre"
                                },
                                {
                                    "NEV": "Dusha Tímea",
                                    "(No column name)": "Czérna Krisztián"
                                },
                                {
                                    "NEV": "Endresz Bálint",
                                    "(No column name)": "Csiger Bertalan"
                                },
                                {
                                    "NEV": "Enyedi Éva",
                                    "(No column name)": "Csóti Attila"
                                },
                                {
                                    "NEV": "Erdei András",
                                    "(No column name)": "Dániel Tibor"
                                },
                                {
                                    "NEV": "Érsek Eszter",
                                    "(No column name)": "Dunai Aladár"
                                },
                                {
                                    "NEV": "Farkas Béla",
                                    "(No column name)": "Dusha Tímea"
                                },
                                {
                                    "NEV": "Farkas László",
                                    "(No column name)": "Endresz Bálint"
                                },
                                {
                                    "NEV": "Farkas Sándor",
                                    "(No column name)": "Enyedi Éva"
                                },
                                {
                                    "NEV": "Farkas Sára",
                                    "(No column name)": "Erdei András"
                                },
                                {
                                    "NEV": "Fényes Tamás",
                                    "(No column name)": "Érsek Eszter"
                                },
                                {
                                    "NEV": "Ferencz Roland",
                                    "(No column name)": "Farkas Béla"
                                },
                                {
                                    "NEV": "Feró Valentin",
                                    "(No column name)": "Farkas László"
                                },
                                {
                                    "NEV": "Fodor Zoltán",
                                    "(No column name)": "Farkas Sándor"
                                },
                                {
                                    "NEV": "Foltényi Sebastián",
                                    "(No column name)": "Farkas Sára"
                                },
                                {
                                    "NEV": "Fő Nándor",
                                    "(No column name)": "Fényes Tamás"
                                },
                                {
                                    "NEV": "Frank Fruzsina",
                                    "(No column name)": "Ferencz Roland"
                                },
                                {
                                    "NEV": "Fülöp Eszter",
                                    "(No column name)": "Feró Valentin"
                                },
                                {
                                    "NEV": "Gergely József",
                                    "(No column name)": "Fodor Zoltán"
                                },
                                {
                                    "NEV": "Giliga János",
                                    "(No column name)": "Foltényi Sebastián"
                                },
                                {
                                    "NEV": "Gombos Tibor",
                                    "(No column name)": "Fő Nándor"
                                },
                                {
                                    "NEV": "Gondos Katalin",
                                    "(No column name)": "Frank Fruzsina"
                                },
                                {
                                    "NEV": "Gondos Miklós",
                                    "(No column name)": "Fülöp Eszter"
                                },
                                {
                                    "NEV": "Gulyás Attila",
                                    "(No column name)": "Gergely József"
                                },
                                {
                                    "NEV": "Gyárfás Krisztina",
                                    "(No column name)": "Giliga János"
                                },
                                {
                                    "NEV": "Győrffy Bence",
                                    "(No column name)": "Gombos Tibor"
                                },
                                {
                                    "NEV": "Gyuris József",
                                    "(No column name)": "Gondos Katalin"
                                },
                                {
                                    "NEV": "Hamvay-Kovács Anita",
                                    "(No column name)": "Gondos Miklós"
                                },
                                {
                                    "NEV": "Harangozó János",
                                    "(No column name)": "Gulyás Attila"
                                },
                                {
                                    "NEV": "Hartyánszky Ágnes",
                                    "(No column name)": "Gyárfás Krisztina"
                                },
                                {
                                    "NEV": "Hegedűs Norbert",
                                    "(No column name)": "Győrffy Bence"
                                },
                                {
                                    "NEV": "Hídasi Judit",
                                    "(No column name)": "Gyuris József"
                                },
                                {
                                    "NEV": "Horváth Ágnes",
                                    "(No column name)": "Hamvay-Kovács Anita"
                                },
                                {
                                    "NEV": "Horváth Árpád",
                                    "(No column name)": "Harangozó János"
                                },
                                {
                                    "NEV": "Horváth Bálint",
                                    "(No column name)": "Hartyánszky Ágnes"
                                },
                                {
                                    "NEV": "Horváth Katalin",
                                    "(No column name)": "Hegedűs Norbert"
                                },
                                {
                                    "NEV": "Horváth Krisztina",
                                    "(No column name)": "Hídasi Judit"
                                },
                                {
                                    "NEV": "Horváth Márk",
                                    "(No column name)": "Horváth Ágnes"
                                },
                                {
                                    "NEV": "Horváth Nikolett",
                                    "(No column name)": "Horváth Árpád"
                                },
                                {
                                    "NEV": "Iván Róbert",
                                    "(No column name)": "Horváth Bálint"
                                },
                                {
                                    "NEV": "Jakab Áron",
                                    "(No column name)": "Horváth Katalin"
                                },
                                {
                                    "NEV": "Józsa Zsolt",
                                    "(No column name)": "Horváth Krisztina"
                                },
                                {
                                    "NEV": "Juhász Mihály",
                                    "(No column name)": "Horváth Márk"
                                },
                                {
                                    "NEV": "Kalacsi Márton",
                                    "(No column name)": "Horváth Nikolett"
                                },
                                {
                                    "NEV": "Karasz Sándor",
                                    "(No column name)": "Iván Róbert"
                                },
                                {
                                    "NEV": "Kardos Renáta",
                                    "(No column name)": "Jakab Áron"
                                },
                                {
                                    "NEV": "Kazy Tihamér",
                                    "(No column name)": "Józsa Zsolt"
                                },
                                {
                                    "NEV": "Kelemen Áron",
                                    "(No column name)": "Juhász Mihály"
                                },
                                {
                                    "NEV": "Kerényi Beatrix",
                                    "(No column name)": "Kalacsi Márton"
                                },
                                {
                                    "NEV": "Keresztúri Viktor",
                                    "(No column name)": "Karasz Sándor"
                                },
                                {
                                    "NEV": "Kertész Katalin",
                                    "(No column name)": "Kardos Renáta"
                                },
                                {
                                    "NEV": "Keszler Dániel",
                                    "(No column name)": "Kazy Tihamér"
                                },
                                {
                                    "NEV": "Kispál Márk",
                                    "(No column name)": "Kelemen Áron"
                                },
                                {
                                    "NEV": "Kiss Ádám",
                                    "(No column name)": "Kerényi Beatrix"
                                },
                                {
                                    "NEV": "Kiss Andrea",
                                    "(No column name)": "Keresztúri Viktor"
                                },
                                {
                                    "NEV": "Kiss Anita",
                                    "(No column name)": "Kertész Katalin"
                                },
                                {
                                    "NEV": "Kiss Lajos",
                                    "(No column name)": "Keszler Dániel"
                                },
                                {
                                    "NEV": "Komjáti András",
                                    "(No column name)": "Kispál Márk"
                                },
                                {
                                    "NEV": "Kornseé Gyöngyi",
                                    "(No column name)": "Kiss Ádám"
                                },
                                {
                                    "NEV": "Kovács Ágnes",
                                    "(No column name)": "Kiss Andrea"
                                },
                                {
                                    "NEV": "Kovács Bernadett",
                                    "(No column name)": "Kiss Anita"
                                },
                                {
                                    "NEV": "Kovács Katalin",
                                    "(No column name)": "Kiss Lajos"
                                },
                                {
                                    "NEV": "Koza Máté",
                                    "(No column name)": "Komjáti András"
                                },
                                {
                                    "NEV": "Kozma Péter",
                                    "(No column name)": "Kornseé Gyöngyi"
                                },
                                {
                                    "NEV": "Kő Nikoletta",
                                    "(No column name)": "Kovács Ágnes"
                                },
                                {
                                    "NEV": "Köves Gábor",
                                    "(No column name)": "Kovács Bernadett"
                                },
                                {
                                    "NEV": "Kuruc Emese",
                                    "(No column name)": "Kovács Katalin"
                                },
                                {
                                    "NEV": "Lengyel Ágnes",
                                    "(No column name)": "Koza Máté"
                                },
                                {
                                    "NEV": "Lukács Kornél",
                                    "(No column name)": "Kozma Péter"
                                },
                                {
                                    "NEV": "Maródi Andrea",
                                    "(No column name)": "Kő Nikoletta"
                                },
                                {
                                    "NEV": "Miklós Szabolcs",
                                    "(No column name)": "Köves Gábor"
                                },
                                {
                                    "NEV": "Miklós Tamara",
                                    "(No column name)": "Kuruc Emese"
                                },
                                {
                                    "NEV": "Mile Norbert",
                                    "(No column name)": "Lengyel Ágnes"
                                },
                                {
                                    "NEV": "Mogyródi Krisztián",
                                    "(No column name)": "Lukács Kornél"
                                },
                                {
                                    "NEV": "Mohos Mónika",
                                    "(No column name)": "Maródi Andrea"
                                },
                                {
                                    "NEV": "Molnár András",
                                    "(No column name)": "Miklós Szabolcs"
                                },
                                {
                                    "NEV": "Molnár Bálint",
                                    "(No column name)": "Miklós Tamara"
                                },
                                {
                                    "NEV": "Molnár Eszter",
                                    "(No column name)": "Mile Norbert"
                                },
                                {
                                    "NEV": "Molnár Zsófi",
                                    "(No column name)": "Mogyródi Krisztián"
                                },
                                {
                                    "NEV": "Mór Ottó",
                                    "(No column name)": "Mohos Mónika"
                                },
                                {
                                    "NEV": "Móra László",
                                    "(No column name)": "Molnár András"
                                },
                                {
                                    "NEV": "Móricz Árpád",
                                    "(No column name)": "Molnár Bálint"
                                },
                                {
                                    "NEV": "Nádudvari Henrik",
                                    "(No column name)": "Molnár Eszter"
                                },
                                {
                                    "NEV": "Nagy András",
                                    "(No column name)": "Molnár Zsófi"
                                },
                                {
                                    "NEV": "Nagy Gabriella",
                                    "(No column name)": "Mór Ottó"
                                },
                                {
                                    "NEV": "Nagy Júlia",
                                    "(No column name)": "Móra László"
                                },
                                {
                                    "NEV": "Nagy László",
                                    "(No column name)": "Móricz Árpád"
                                },
                                {
                                    "NEV": "Nagy Péter",
                                    "(No column name)": "Nádudvari Henrik"
                                },
                                {
                                    "NEV": "Nagy Sándor",
                                    "(No column name)": "Nagy András"
                                },
                                {
                                    "NEV": "Nagymihály Csongor",
                                    "(No column name)": "Nagy Gabriella"
                                },
                                {
                                    "NEV": "Nagymihály Lajos",
                                    "(No column name)": "Nagy Júlia"
                                },
                                {
                                    "NEV": "Neizer Andrea",
                                    "(No column name)": "Nagy László"
                                },
                                {
                                    "NEV": "Nyíri Georgij",
                                    "(No column name)": "Nagy Péter"
                                },
                                {
                                    "NEV": "Opra Attila",
                                    "(No column name)": "Nagy Sándor"
                                },
                                {
                                    "NEV": "Orbán Bernadett",
                                    "(No column name)": "Nagymihály Csongor"
                                },
                                {
                                    "NEV": "Orosz Ferenc",
                                    "(No column name)": "Nagymihály Lajos"
                                },
                                {
                                    "NEV": "Oroszi György",
                                    "(No column name)": "Neizer Andrea"
                                },
                                {
                                    "NEV": "Ötvös Árpád",
                                    "(No column name)": "Nyíri Georgij"
                                },
                                {
                                    "NEV": "Palágyi Polla",
                                    "(No column name)": "Opra Attila"
                                },
                                {
                                    "NEV": "Pálinkás János",
                                    "(No column name)": "Orbán Bernadett"
                                },
                                {
                                    "NEV": "Papós Tímea",
                                    "(No column name)": "Orosz Ferenc"
                                },
                                {
                                    "NEV": "Papp Imre",
                                    "(No column name)": "Oroszi György"
                                },
                                {
                                    "NEV": "Pásztor Róbert",
                                    "(No column name)": "Ötvös Árpád"
                                },
                                {
                                    "NEV": "Pataki Brigitta",
                                    "(No column name)": "Palágyi Polla"
                                },
                                {
                                    "NEV": "Patay Róbert",
                                    "(No column name)": "Pálinkás János"
                                },
                                {
                                    "NEV": "Perlinger Éva",
                                    "(No column name)": "Papós Tímea"
                                },
                                {
                                    "NEV": "Pintér Zoltán",
                                    "(No column name)": "Papp Imre"
                                },
                                {
                                    "NEV": "Pivarcsi Anett",
                                    "(No column name)": "Pásztor Róbert"
                                },
                                {
                                    "NEV": "Poprádi Kristóf",
                                    "(No column name)": "Pataki Brigitta"
                                },
                                {
                                    "NEV": "Pulai Zsolt",
                                    "(No column name)": "Patay Róbert"
                                },
                                {
                                    "NEV": "Pusztai Zsuzsanna",
                                    "(No column name)": "Perlinger Éva"
                                },
                                {
                                    "NEV": "Rab Sebestyén",
                                    "(No column name)": "Pintér Zoltán"
                                },
                                {
                                    "NEV": "Rácz Dániel",
                                    "(No column name)": "Pivarcsi Anett"
                                },
                                {
                                    "NEV": "Rácz Rajmond",
                                    "(No column name)": "Poprádi Kristóf"
                                },
                                {
                                    "NEV": "Regős Annamária",
                                    "(No column name)": "Pulai Zsolt"
                                },
                                {
                                    "NEV": "Sarodi Dóra",
                                    "(No column name)": "Pusztai Zsuzsanna"
                                },
                                {
                                    "NEV": "Simon Anikó",
                                    "(No column name)": "Rab Sebestyén"
                                },
                                {
                                    "NEV": "Simon Bernadett",
                                    "(No column name)": "Rácz Dániel"
                                },
                                {
                                    "NEV": "Sobják Dávid",
                                    "(No column name)": "Rácz Rajmond"
                                },
                                {
                                    "NEV": "Soós István",
                                    "(No column name)": "Regős Annamária"
                                },
                                {
                                    "NEV": "Szabó Julianna",
                                    "(No column name)": "Sarodi Dóra"
                                },
                                {
                                    "NEV": "Szalai Péter",
                                    "(No column name)": "Simon Anikó"
                                },
                                {
                                    "NEV": "Szalai Szilárd",
                                    "(No column name)": "Simon Bernadett"
                                },
                                {
                                    "NEV": "Szedlár Krisztina",
                                    "(No column name)": "Sobják Dávid"
                                },
                                {
                                    "NEV": "Székely Brigitta",
                                    "(No column name)": "Soós István"
                                },
                                {
                                    "NEV": "Szekendi Beatrix",
                                    "(No column name)": "Szabó Julianna"
                                },
                                {
                                    "NEV": "Szikszai Réka",
                                    "(No column name)": "Szalai Péter"
                                },
                                {
                                    "NEV": "Szilágyi Mátyás",
                                    "(No column name)": "Szalai Szilárd"
                                },
                                {
                                    "NEV": "Szirmai Renáta",
                                    "(No column name)": "Szedlár Krisztina"
                                },
                                {
                                    "NEV": "Szomor Andrea",
                                    "(No column name)": "Székely Brigitta"
                                },
                                {
                                    "NEV": "Szöllősi Gábor",
                                    "(No column name)": "Szekendi Beatrix"
                                },
                                {
                                    "NEV": "Szűcs Annamária",
                                    "(No column name)": "Szikszai Réka"
                                },
                                {
                                    "NEV": "Szűcs Balázs",
                                    "(No column name)": "Szilágyi Mátyás"
                                },
                                {
                                    "NEV": "Szűcs Norbert",
                                    "(No column name)": "Szirmai Renáta"
                                },
                                {
                                    "NEV": "Tankó Veronika",
                                    "(No column name)": "Szomor Andrea"
                                },
                                {
                                    "NEV": "Tari Szilvia",
                                    "(No column name)": "Szöllősi Gábor"
                                },
                                {
                                    "NEV": "Tatár Nikoletta",
                                    "(No column name)": "Szűcs Annamária"
                                },
                                {
                                    "NEV": "Telek Gábor",
                                    "(No column name)": "Szűcs Balázs"
                                },
                                {
                                    "NEV": "Tornyos Andrea",
                                    "(No column name)": "Szűcs Norbert"
                                },
                                {
                                    "NEV": "Tóth András",
                                    "(No column name)": "Tankó Veronika"
                                },
                                {
                                    "NEV": "Tóth Anikó",
                                    "(No column name)": "Tari Szilvia"
                                },
                                {
                                    "NEV": "Tóth Júlia",
                                    "(No column name)": "Tatár Nikoletta"
                                },
                                {
                                    "NEV": "Tóth Roland",
                                    "(No column name)": "Telek Gábor"
                                },
                                {
                                    "NEV": "Tóth Zoltán",
                                    "(No column name)": "Tornyos Andrea"
                                },
                                {
                                    "NEV": "Tömböly Dénes",
                                    "(No column name)": "Tóth András"
                                },
                                {
                                    "NEV": "Turcsik Tünde",
                                    "(No column name)": "Tóth Anikó"
                                },
                                {
                                    "NEV": "Urbán Viktoria",
                                    "(No column name)": "Tóth Júlia"
                                },
                                {
                                    "NEV": "Vajda József",
                                    "(No column name)": "Tóth Roland"
                                },
                                {
                                    "NEV": "Vajda Zsuzsa",
                                    "(No column name)": "Tóth Zoltán"
                                },
                                {
                                    "NEV": "Varga István",
                                    "(No column name)": "Tömböly Dénes"
                                },
                                {
                                    "NEV": "Varsányi Zsuzsa",
                                    "(No column name)": "Turcsik Tünde"
                                },
                                {
                                    "NEV": "Vida Gabriella",
                                    "(No column name)": "Urbán Viktoria"
                                },
                                {
                                    "NEV": "Vígh András",
                                    "(No column name)": "Vajda József"
                                },
                                {
                                    "NEV": "Viktor Éva",
                                    "(No column name)": "Vajda Zsuzsa"
                                },
                                {
                                    "NEV": "Vizi István",
                                    "(No column name)": "Varga István"
                                },
                                {
                                    "NEV": "Vörös Dániel",
                                    "(No column name)": "Varsányi Zsuzsa"
                                },
                                {
                                    "NEV": "Vukasinovity Bálint",
                                    "(No column name)": "Vida Gabriella"
                                },
                                {
                                    "NEV": "Zatykó Katalin",
                                    "(No column name)": "Vígh András"
                                }
                            ]
                        },
                        "text/html": [
                            "<table>",
                            "<tr><th>NEV</th><th>(No column name)</th><th>(No column name)</th></tr>",
                            "<tr><td>Ambrus Dávid</td><td>Antal László</td><td>Nem</td></tr>",
                            "<tr><td>Andor Ibolya</td><td>Antal Tamás</td><td>Nem</td></tr>",
                            "<tr><td>Antal László</td><td>Back András</td><td>Nem</td></tr>",
                            "<tr><td>Antal Tamás</td><td>Bagi Beáta</td><td>Nem</td></tr>",
                            "<tr><td>Back András</td><td>Bagóczki Alexandra</td><td>Nem</td></tr>",
                            "<tr><td>Bagi Beáta</td><td>Bajusz Bence</td><td>Ambrus Dávid</td></tr>",
                            "<tr><td>Bagóczki Alexandra</td><td>Bakó Klaudia</td><td>Andor Ibolya</td></tr>",
                            "<tr><td>Bajusz Bence</td><td>Bakódy Balázs</td><td>Antal László</td></tr>",
                            "<tr><td>Bakó Klaudia</td><td>Balla Miklós</td><td>Antal Tamás</td></tr>",
                            "<tr><td>Bakódy Balázs</td><td>Balogh Eszter</td><td>Back András</td></tr>",
                            "<tr><td>Balla Miklós</td><td>Barabás Pál</td><td>Bagi Beáta</td></tr>",
                            "<tr><td>Balogh Eszter</td><td>Baráth Mária</td><td>Bagóczki Alexandra</td></tr>",
                            "<tr><td>Barabás Pál</td><td>Bárci Gusztáv</td><td>Bajusz Bence</td></tr>",
                            "<tr><td>Baráth Mária</td><td>Barkóci Ádám</td><td>Bakó Klaudia</td></tr>",
                            "<tr><td>Bárci Gusztáv</td><td>Barna Debóra</td><td>Bakódy Balázs</td></tr>",
                            "<tr><td>Barkóci Ádám</td><td>Barna Zoltán</td><td>Balla Miklós</td></tr>",
                            "<tr><td>Barna Debóra</td><td>Baróti Attila</td><td>Balogh Eszter</td></tr>",
                            "<tr><td>Barna Zoltán</td><td>Barta Zsuzsanna</td><td>Barabás Pál</td></tr>",
                            "<tr><td>Baróti Attila</td><td>Berendi Péter</td><td>Baráth Mária</td></tr>",
                            "<tr><td>Barta Zsuzsanna</td><td>Béres Norbert</td><td>Bárci Gusztáv</td></tr>",
                            "<tr><td>Berendi Péter</td><td>Berta Dávid</td><td>Barkóci Ádám</td></tr>",
                            "<tr><td>Béres Norbert</td><td>Bieniek Ádám</td><td>Barna Debóra</td></tr>",
                            "<tr><td>Berta Dávid</td><td>Bíró Ákos</td><td>Barna Zoltán</td></tr>",
                            "<tr><td>Bieniek Ádám</td><td>Biró Alexander</td><td>Baróti Attila</td></tr>",
                            "<tr><td>Bíró Ákos</td><td>Bíró Péter</td><td>Barta Zsuzsanna</td></tr>",
                            "<tr><td>Biró Alexander</td><td>Bittmann Edit</td><td>Berendi Péter</td></tr>",
                            "<tr><td>Bíró Péter</td><td>Bodor Szabolcs</td><td>Béres Norbert</td></tr>",
                            "<tr><td>Bittmann Edit</td><td>Bori Krisztina</td><td>Berta Dávid</td></tr>",
                            "<tr><td>Bodor Szabolcs</td><td>Boros Vivien</td><td>Bieniek Ádám</td></tr>",
                            "<tr><td>Bori Krisztina</td><td>Bosnyák Ilona</td><td>Bíró Ákos</td></tr>",
                            "<tr><td>Boros Vivien</td><td>Botka Mátyás</td><td>Biró Alexander</td></tr>",
                            "<tr><td>Bosnyák Ilona</td><td>Bozsik Balázs</td><td>Bíró Péter</td></tr>",
                            "<tr><td>Botka Mátyás</td><td>Bozsó Péter</td><td>Bittmann Edit</td></tr>",
                            "<tr><td>Bozsik Balázs</td><td>Böröcz Anikó</td><td>Bodor Szabolcs</td></tr>",
                            "<tr><td>Bozsó Péter</td><td>Bucskó Róza</td><td>Bori Krisztina</td></tr>",
                            "<tr><td>Böröcz Anikó</td><td>Búza Imre</td><td>Boros Vivien</td></tr>",
                            "<tr><td>Bucskó Róza</td><td>Czérna Krisztián</td><td>Bosnyák Ilona</td></tr>",
                            "<tr><td>Búza Imre</td><td>Csiger Bertalan</td><td>Botka Mátyás</td></tr>",
                            "<tr><td>Czérna Krisztián</td><td>Csóti Attila</td><td>Bozsik Balázs</td></tr>",
                            "<tr><td>Csiger Bertalan</td><td>Dániel Tibor</td><td>Bozsó Péter</td></tr>",
                            "<tr><td>Csóti Attila</td><td>Dunai Aladár</td><td>Böröcz Anikó</td></tr>",
                            "<tr><td>Dániel Tibor</td><td>Dusha Tímea</td><td>Bucskó Róza</td></tr>",
                            "<tr><td>Dunai Aladár</td><td>Endresz Bálint</td><td>Búza Imre</td></tr>",
                            "<tr><td>Dusha Tímea</td><td>Enyedi Éva</td><td>Czérna Krisztián</td></tr>",
                            "<tr><td>Endresz Bálint</td><td>Erdei András</td><td>Csiger Bertalan</td></tr>",
                            "<tr><td>Enyedi Éva</td><td>Érsek Eszter</td><td>Csóti Attila</td></tr>",
                            "<tr><td>Erdei András</td><td>Farkas Béla</td><td>Dániel Tibor</td></tr>",
                            "<tr><td>Érsek Eszter</td><td>Farkas László</td><td>Dunai Aladár</td></tr>",
                            "<tr><td>Farkas Béla</td><td>Farkas Sándor</td><td>Dusha Tímea</td></tr>",
                            "<tr><td>Farkas László</td><td>Farkas Sára</td><td>Endresz Bálint</td></tr>",
                            "<tr><td>Farkas Sándor</td><td>Fényes Tamás</td><td>Enyedi Éva</td></tr>",
                            "<tr><td>Farkas Sára</td><td>Ferencz Roland</td><td>Erdei András</td></tr>",
                            "<tr><td>Fényes Tamás</td><td>Feró Valentin</td><td>Érsek Eszter</td></tr>",
                            "<tr><td>Ferencz Roland</td><td>Fodor Zoltán</td><td>Farkas Béla</td></tr>",
                            "<tr><td>Feró Valentin</td><td>Foltényi Sebastián</td><td>Farkas László</td></tr>",
                            "<tr><td>Fodor Zoltán</td><td>Fő Nándor</td><td>Farkas Sándor</td></tr>",
                            "<tr><td>Foltényi Sebastián</td><td>Frank Fruzsina</td><td>Farkas Sára</td></tr>",
                            "<tr><td>Fő Nándor</td><td>Fülöp Eszter</td><td>Fényes Tamás</td></tr>",
                            "<tr><td>Frank Fruzsina</td><td>Gergely József</td><td>Ferencz Roland</td></tr>",
                            "<tr><td>Fülöp Eszter</td><td>Giliga János</td><td>Feró Valentin</td></tr>",
                            "<tr><td>Gergely József</td><td>Gombos Tibor</td><td>Fodor Zoltán</td></tr>",
                            "<tr><td>Giliga János</td><td>Gondos Katalin</td><td>Foltényi Sebastián</td></tr>",
                            "<tr><td>Gombos Tibor</td><td>Gondos Miklós</td><td>Fő Nándor</td></tr>",
                            "<tr><td>Gondos Katalin</td><td>Gulyás Attila</td><td>Frank Fruzsina</td></tr>",
                            "<tr><td>Gondos Miklós</td><td>Gyárfás Krisztina</td><td>Fülöp Eszter</td></tr>",
                            "<tr><td>Gulyás Attila</td><td>Győrffy Bence</td><td>Gergely József</td></tr>",
                            "<tr><td>Gyárfás Krisztina</td><td>Gyuris József</td><td>Giliga János</td></tr>",
                            "<tr><td>Győrffy Bence</td><td>Hamvay-Kovács Anita</td><td>Gombos Tibor</td></tr>",
                            "<tr><td>Gyuris József</td><td>Harangozó János</td><td>Gondos Katalin</td></tr>",
                            "<tr><td>Hamvay-Kovács Anita</td><td>Hartyánszky Ágnes</td><td>Gondos Miklós</td></tr>",
                            "<tr><td>Harangozó János</td><td>Hegedűs Norbert</td><td>Gulyás Attila</td></tr>",
                            "<tr><td>Hartyánszky Ágnes</td><td>Hídasi Judit</td><td>Gyárfás Krisztina</td></tr>",
                            "<tr><td>Hegedűs Norbert</td><td>Horváth Ágnes</td><td>Győrffy Bence</td></tr>",
                            "<tr><td>Hídasi Judit</td><td>Horváth Árpád</td><td>Gyuris József</td></tr>",
                            "<tr><td>Horváth Ágnes</td><td>Horváth Bálint</td><td>Hamvay-Kovács Anita</td></tr>",
                            "<tr><td>Horváth Árpád</td><td>Horváth Katalin</td><td>Harangozó János</td></tr>",
                            "<tr><td>Horváth Bálint</td><td>Horváth Krisztina</td><td>Hartyánszky Ágnes</td></tr>",
                            "<tr><td>Horváth Katalin</td><td>Horváth Márk</td><td>Hegedűs Norbert</td></tr>",
                            "<tr><td>Horváth Krisztina</td><td>Horváth Nikolett</td><td>Hídasi Judit</td></tr>",
                            "<tr><td>Horváth Márk</td><td>Iván Róbert</td><td>Horváth Ágnes</td></tr>",
                            "<tr><td>Horváth Nikolett</td><td>Jakab Áron</td><td>Horváth Árpád</td></tr>",
                            "<tr><td>Iván Róbert</td><td>Józsa Zsolt</td><td>Horváth Bálint</td></tr>",
                            "<tr><td>Jakab Áron</td><td>Juhász Mihály</td><td>Horváth Katalin</td></tr>",
                            "<tr><td>Józsa Zsolt</td><td>Kalacsi Márton</td><td>Horváth Krisztina</td></tr>",
                            "<tr><td>Juhász Mihály</td><td>Karasz Sándor</td><td>Horváth Márk</td></tr>",
                            "<tr><td>Kalacsi Márton</td><td>Kardos Renáta</td><td>Horváth Nikolett</td></tr>",
                            "<tr><td>Karasz Sándor</td><td>Kazy Tihamér</td><td>Iván Róbert</td></tr>",
                            "<tr><td>Kardos Renáta</td><td>Kelemen Áron</td><td>Jakab Áron</td></tr>",
                            "<tr><td>Kazy Tihamér</td><td>Kerényi Beatrix</td><td>Józsa Zsolt</td></tr>",
                            "<tr><td>Kelemen Áron</td><td>Keresztúri Viktor</td><td>Juhász Mihály</td></tr>",
                            "<tr><td>Kerényi Beatrix</td><td>Kertész Katalin</td><td>Kalacsi Márton</td></tr>",
                            "<tr><td>Keresztúri Viktor</td><td>Keszler Dániel</td><td>Karasz Sándor</td></tr>",
                            "<tr><td>Kertész Katalin</td><td>Kispál Márk</td><td>Kardos Renáta</td></tr>",
                            "<tr><td>Keszler Dániel</td><td>Kiss Ádám</td><td>Kazy Tihamér</td></tr>",
                            "<tr><td>Kispál Márk</td><td>Kiss Andrea</td><td>Kelemen Áron</td></tr>",
                            "<tr><td>Kiss Ádám</td><td>Kiss Anita</td><td>Kerényi Beatrix</td></tr>",
                            "<tr><td>Kiss Andrea</td><td>Kiss Lajos</td><td>Keresztúri Viktor</td></tr>",
                            "<tr><td>Kiss Anita</td><td>Komjáti András</td><td>Kertész Katalin</td></tr>",
                            "<tr><td>Kiss Lajos</td><td>Kornseé Gyöngyi</td><td>Keszler Dániel</td></tr>",
                            "<tr><td>Komjáti András</td><td>Kovács Ágnes</td><td>Kispál Márk</td></tr>",
                            "<tr><td>Kornseé Gyöngyi</td><td>Kovács Bernadett</td><td>Kiss Ádám</td></tr>",
                            "<tr><td>Kovács Ágnes</td><td>Kovács Katalin</td><td>Kiss Andrea</td></tr>",
                            "<tr><td>Kovács Bernadett</td><td>Koza Máté</td><td>Kiss Anita</td></tr>",
                            "<tr><td>Kovács Katalin</td><td>Kozma Péter</td><td>Kiss Lajos</td></tr>",
                            "<tr><td>Koza Máté</td><td>Kő Nikoletta</td><td>Komjáti András</td></tr>",
                            "<tr><td>Kozma Péter</td><td>Köves Gábor</td><td>Kornseé Gyöngyi</td></tr>",
                            "<tr><td>Kő Nikoletta</td><td>Kuruc Emese</td><td>Kovács Ágnes</td></tr>",
                            "<tr><td>Köves Gábor</td><td>Lengyel Ágnes</td><td>Kovács Bernadett</td></tr>",
                            "<tr><td>Kuruc Emese</td><td>Lukács Kornél</td><td>Kovács Katalin</td></tr>",
                            "<tr><td>Lengyel Ágnes</td><td>Maródi Andrea</td><td>Koza Máté</td></tr>",
                            "<tr><td>Lukács Kornél</td><td>Miklós Szabolcs</td><td>Kozma Péter</td></tr>",
                            "<tr><td>Maródi Andrea</td><td>Miklós Tamara</td><td>Kő Nikoletta</td></tr>",
                            "<tr><td>Miklós Szabolcs</td><td>Mile Norbert</td><td>Köves Gábor</td></tr>",
                            "<tr><td>Miklós Tamara</td><td>Mogyródi Krisztián</td><td>Kuruc Emese</td></tr>",
                            "<tr><td>Mile Norbert</td><td>Mohos Mónika</td><td>Lengyel Ágnes</td></tr>",
                            "<tr><td>Mogyródi Krisztián</td><td>Molnár András</td><td>Lukács Kornél</td></tr>",
                            "<tr><td>Mohos Mónika</td><td>Molnár Bálint</td><td>Maródi Andrea</td></tr>",
                            "<tr><td>Molnár András</td><td>Molnár Eszter</td><td>Miklós Szabolcs</td></tr>",
                            "<tr><td>Molnár Bálint</td><td>Molnár Zsófi</td><td>Miklós Tamara</td></tr>",
                            "<tr><td>Molnár Eszter</td><td>Mór Ottó</td><td>Mile Norbert</td></tr>",
                            "<tr><td>Molnár Zsófi</td><td>Móra László</td><td>Mogyródi Krisztián</td></tr>",
                            "<tr><td>Mór Ottó</td><td>Móricz Árpád</td><td>Mohos Mónika</td></tr>",
                            "<tr><td>Móra László</td><td>Nádudvari Henrik</td><td>Molnár András</td></tr>",
                            "<tr><td>Móricz Árpád</td><td>Nagy András</td><td>Molnár Bálint</td></tr>",
                            "<tr><td>Nádudvari Henrik</td><td>Nagy Gabriella</td><td>Molnár Eszter</td></tr>",
                            "<tr><td>Nagy András</td><td>Nagy Júlia</td><td>Molnár Zsófi</td></tr>",
                            "<tr><td>Nagy Gabriella</td><td>Nagy László</td><td>Mór Ottó</td></tr>",
                            "<tr><td>Nagy Júlia</td><td>Nagy Péter</td><td>Móra László</td></tr>",
                            "<tr><td>Nagy László</td><td>Nagy Sándor</td><td>Móricz Árpád</td></tr>",
                            "<tr><td>Nagy Péter</td><td>Nagymihály Csongor</td><td>Nádudvari Henrik</td></tr>",
                            "<tr><td>Nagy Sándor</td><td>Nagymihály Lajos</td><td>Nagy András</td></tr>",
                            "<tr><td>Nagymihály Csongor</td><td>Neizer Andrea</td><td>Nagy Gabriella</td></tr>",
                            "<tr><td>Nagymihály Lajos</td><td>Nyíri Georgij</td><td>Nagy Júlia</td></tr>",
                            "<tr><td>Neizer Andrea</td><td>Opra Attila</td><td>Nagy László</td></tr>",
                            "<tr><td>Nyíri Georgij</td><td>Orbán Bernadett</td><td>Nagy Péter</td></tr>",
                            "<tr><td>Opra Attila</td><td>Orosz Ferenc</td><td>Nagy Sándor</td></tr>",
                            "<tr><td>Orbán Bernadett</td><td>Oroszi György</td><td>Nagymihály Csongor</td></tr>",
                            "<tr><td>Orosz Ferenc</td><td>Ötvös Árpád</td><td>Nagymihály Lajos</td></tr>",
                            "<tr><td>Oroszi György</td><td>Palágyi Polla</td><td>Neizer Andrea</td></tr>",
                            "<tr><td>Ötvös Árpád</td><td>Pálinkás János</td><td>Nyíri Georgij</td></tr>",
                            "<tr><td>Palágyi Polla</td><td>Papós Tímea</td><td>Opra Attila</td></tr>",
                            "<tr><td>Pálinkás János</td><td>Papp Imre</td><td>Orbán Bernadett</td></tr>",
                            "<tr><td>Papós Tímea</td><td>Pásztor Róbert</td><td>Orosz Ferenc</td></tr>",
                            "<tr><td>Papp Imre</td><td>Pataki Brigitta</td><td>Oroszi György</td></tr>",
                            "<tr><td>Pásztor Róbert</td><td>Patay Róbert</td><td>Ötvös Árpád</td></tr>",
                            "<tr><td>Pataki Brigitta</td><td>Perlinger Éva</td><td>Palágyi Polla</td></tr>",
                            "<tr><td>Patay Róbert</td><td>Pintér Zoltán</td><td>Pálinkás János</td></tr>",
                            "<tr><td>Perlinger Éva</td><td>Pivarcsi Anett</td><td>Papós Tímea</td></tr>",
                            "<tr><td>Pintér Zoltán</td><td>Poprádi Kristóf</td><td>Papp Imre</td></tr>",
                            "<tr><td>Pivarcsi Anett</td><td>Pulai Zsolt</td><td>Pásztor Róbert</td></tr>",
                            "<tr><td>Poprádi Kristóf</td><td>Pusztai Zsuzsanna</td><td>Pataki Brigitta</td></tr>",
                            "<tr><td>Pulai Zsolt</td><td>Rab Sebestyén</td><td>Patay Róbert</td></tr>",
                            "<tr><td>Pusztai Zsuzsanna</td><td>Rácz Dániel</td><td>Perlinger Éva</td></tr>",
                            "<tr><td>Rab Sebestyén</td><td>Rácz Rajmond</td><td>Pintér Zoltán</td></tr>",
                            "<tr><td>Rácz Dániel</td><td>Regős Annamária</td><td>Pivarcsi Anett</td></tr>",
                            "<tr><td>Rácz Rajmond</td><td>Sarodi Dóra</td><td>Poprádi Kristóf</td></tr>",
                            "<tr><td>Regős Annamária</td><td>Simon Anikó</td><td>Pulai Zsolt</td></tr>",
                            "<tr><td>Sarodi Dóra</td><td>Simon Bernadett</td><td>Pusztai Zsuzsanna</td></tr>",
                            "<tr><td>Simon Anikó</td><td>Sobják Dávid</td><td>Rab Sebestyén</td></tr>",
                            "<tr><td>Simon Bernadett</td><td>Soós István</td><td>Rácz Dániel</td></tr>",
                            "<tr><td>Sobják Dávid</td><td>Szabó Julianna</td><td>Rácz Rajmond</td></tr>",
                            "<tr><td>Soós István</td><td>Szalai Péter</td><td>Regős Annamária</td></tr>",
                            "<tr><td>Szabó Julianna</td><td>Szalai Szilárd</td><td>Sarodi Dóra</td></tr>",
                            "<tr><td>Szalai Péter</td><td>Szedlár Krisztina</td><td>Simon Anikó</td></tr>",
                            "<tr><td>Szalai Szilárd</td><td>Székely Brigitta</td><td>Simon Bernadett</td></tr>",
                            "<tr><td>Szedlár Krisztina</td><td>Szekendi Beatrix</td><td>Sobják Dávid</td></tr>",
                            "<tr><td>Székely Brigitta</td><td>Szikszai Réka</td><td>Soós István</td></tr>",
                            "<tr><td>Szekendi Beatrix</td><td>Szilágyi Mátyás</td><td>Szabó Julianna</td></tr>",
                            "<tr><td>Szikszai Réka</td><td>Szirmai Renáta</td><td>Szalai Péter</td></tr>",
                            "<tr><td>Szilágyi Mátyás</td><td>Szomor Andrea</td><td>Szalai Szilárd</td></tr>",
                            "<tr><td>Szirmai Renáta</td><td>Szöllősi Gábor</td><td>Szedlár Krisztina</td></tr>",
                            "<tr><td>Szomor Andrea</td><td>Szűcs Annamária</td><td>Székely Brigitta</td></tr>",
                            "<tr><td>Szöllősi Gábor</td><td>Szűcs Balázs</td><td>Szekendi Beatrix</td></tr>",
                            "<tr><td>Szűcs Annamária</td><td>Szűcs Norbert</td><td>Szikszai Réka</td></tr>",
                            "<tr><td>Szűcs Balázs</td><td>Tankó Veronika</td><td>Szilágyi Mátyás</td></tr>",
                            "<tr><td>Szűcs Norbert</td><td>Tari Szilvia</td><td>Szirmai Renáta</td></tr>",
                            "<tr><td>Tankó Veronika</td><td>Tatár Nikoletta</td><td>Szomor Andrea</td></tr>",
                            "<tr><td>Tari Szilvia</td><td>Telek Gábor</td><td>Szöllősi Gábor</td></tr>",
                            "<tr><td>Tatár Nikoletta</td><td>Tornyos Andrea</td><td>Szűcs Annamária</td></tr>",
                            "<tr><td>Telek Gábor</td><td>Tóth András</td><td>Szűcs Balázs</td></tr>",
                            "<tr><td>Tornyos Andrea</td><td>Tóth Anikó</td><td>Szűcs Norbert</td></tr>",
                            "<tr><td>Tóth András</td><td>Tóth Júlia</td><td>Tankó Veronika</td></tr>",
                            "<tr><td>Tóth Anikó</td><td>Tóth Roland</td><td>Tari Szilvia</td></tr>",
                            "<tr><td>Tóth Júlia</td><td>Tóth Zoltán</td><td>Tatár Nikoletta</td></tr>",
                            "<tr><td>Tóth Roland</td><td>Tömböly Dénes</td><td>Telek Gábor</td></tr>",
                            "<tr><td>Tóth Zoltán</td><td>Turcsik Tünde</td><td>Tornyos Andrea</td></tr>",
                            "<tr><td>Tömböly Dénes</td><td>Urbán Viktoria</td><td>Tóth András</td></tr>",
                            "<tr><td>Turcsik Tünde</td><td>Vajda József</td><td>Tóth Anikó</td></tr>",
                            "<tr><td>Urbán Viktoria</td><td>Vajda Zsuzsa</td><td>Tóth Júlia</td></tr>",
                            "<tr><td>Vajda József</td><td>Varga István</td><td>Tóth Roland</td></tr>",
                            "<tr><td>Vajda Zsuzsa</td><td>Varsányi Zsuzsa</td><td>Tóth Zoltán</td></tr>",
                            "<tr><td>Varga István</td><td>Vida Gabriella</td><td>Tömböly Dénes</td></tr>",
                            "<tr><td>Varsányi Zsuzsa</td><td>Vígh András</td><td>Turcsik Tünde</td></tr>",
                            "<tr><td>Vida Gabriella</td><td>Viktor Éva</td><td>Urbán Viktoria</td></tr>",
                            "<tr><td>Vígh András</td><td>Vizi István</td><td>Vajda József</td></tr>",
                            "<tr><td>Viktor Éva</td><td>Vörös Dániel</td><td>Vajda Zsuzsa</td></tr>",
                            "<tr><td>Vizi István</td><td>Vukasinovity Bálint</td><td>Varga István</td></tr>",
                            "<tr><td>Vörös Dániel</td><td>Zatykó Katalin</td><td>Varsányi Zsuzsa</td></tr>",
                            "<tr><td>Vukasinovity Bálint</td><td>Nincs</td><td>Vida Gabriella</td></tr>",
                            "<tr><td>Zatykó Katalin</td><td>Nincs</td><td>Vígh András</td></tr>",
                            "</table>"
                        ]
                    }
                }
            ],
            "execution_count": 32
        },
        {
            "cell_type": "markdown",
            "source": [
                "7. <span style=\"font-weight: 600; color: rgb(36, 41, 47); font-family: -apple-system, BlinkMacSystemFont, &quot;Segoe UI&quot;, Helvetica, Arial, sans-serif, &quot;Apple Color Emoji&quot;, &quot;Segoe UI Emoji&quot;; font-size: 16px;\">Készítsünk lekérdezést, amely megmutatja, hogy melyik termékkategóriába hány termék tartozik. A lista a kategória nevét és a darabszámot jelenítse meg.</span>\n",
                "\n",
                "1. A lista ne tartalmazzon duplikált sorokat.\n",
                "2. A feladatot partíciók segítségével oldjuk meg!"
            ],
            "metadata": {
                "azdata_cell_guid": "7ebf7ddd-1bd2-4246-815a-be8ae37e3b5b"
            },
            "attachments": {}
        },
        {
            "cell_type": "code",
            "source": [
                "SELECT distinct tk.KAT_NEV,\r\n",
                "        COUNT(*) OVER(PARTITION BY tk.KAT_NEV)\r\n",
                "FROM Termek t JOIN Termekkategoria tk On t.KAT_ID=tk.KAT_ID\r\n",
                ""
            ],
            "metadata": {
                "azdata_cell_guid": "84b7e896-f36e-4985-88f5-e0f706494fef",
                "language": "sql"
            },
            "outputs": [
                {
                    "output_type": "display_data",
                    "data": {
                        "text/html": "(143 rows affected)"
                    },
                    "metadata": {}
                },
                {
                    "output_type": "display_data",
                    "data": {
                        "text/html": "Total execution time: 00:00:00.015"
                    },
                    "metadata": {}
                },
                {
                    "output_type": "execute_result",
                    "metadata": {},
                    "execution_count": 22,
                    "data": {
                        "application/vnd.dataresource+json": {
                            "schema": {
                                "fields": [
                                    {
                                        "name": "KAT_NEV"
                                    },
                                    {
                                        "name": "(No column name)"
                                    }
                                ]
                            },
                            "data": [
                                {
                                    "KAT_NEV": "ajándék tárgy",
                                    "(No column name)": "3"
                                },
                                {
                                    "KAT_NEV": "ajándék tasak",
                                    "(No column name)": "20"
                                },
                                {
                                    "KAT_NEV": "álarc",
                                    "(No column name)": "3"
                                },
                                {
                                    "KAT_NEV": "alkalmi",
                                    "(No column name)": "3"
                                },
                                {
                                    "KAT_NEV": "alufólia",
                                    "(No column name)": "2"
                                },
                                {
                                    "KAT_NEV": "árazószalag",
                                    "(No column name)": "1"
                                },
                                {
                                    "KAT_NEV": "átírótömb",
                                    "(No column name)": "1"
                                },
                                {
                                    "KAT_NEV": "beíró",
                                    "(No column name)": "1"
                                },
                                {
                                    "KAT_NEV": "beírókönyv",
                                    "(No column name)": "2"
                                },
                                {
                                    "KAT_NEV": "bélyegző",
                                    "(No column name)": "4"
                                },
                                {
                                    "KAT_NEV": "bélyegzőfesték",
                                    "(No column name)": "1"
                                },
                                {
                                    "KAT_NEV": "boríték",
                                    "(No column name)": "7"
                                },
                                {
                                    "KAT_NEV": "cd tok",
                                    "(No column name)": "1"
                                },
                                {
                                    "KAT_NEV": "celofán",
                                    "(No column name)": "2"
                                },
                                {
                                    "KAT_NEV": "ceruza",
                                    "(No column name)": "19"
                                },
                                {
                                    "KAT_NEV": "címke",
                                    "(No column name)": "3"
                                },
                                {
                                    "KAT_NEV": "color copy",
                                    "(No column name)": "5"
                                },
                                {
                                    "KAT_NEV": "csomagoló",
                                    "(No column name)": "2"
                                },
                                {
                                    "KAT_NEV": "csomagoló papír",
                                    "(No column name)": "7"
                                },
                                {
                                    "KAT_NEV": "dekor",
                                    "(No column name)": "4"
                                },
                                {
                                    "KAT_NEV": "dipa",
                                    "(No column name)": "1"
                                },
                                {
                                    "KAT_NEV": "díszdoboz",
                                    "(No column name)": "3"
                                },
                                {
                                    "KAT_NEV": "díszkötöző",
                                    "(No column name)": "5"
                                },
                                {
                                    "KAT_NEV": "dvd",
                                    "(No column name)": "1"
                                },
                                {
                                    "KAT_NEV": "ecset",
                                    "(No column name)": "7"
                                },
                                {
                                    "KAT_NEV": "előlap",
                                    "(No column name)": "1"
                                },
                                {
                                    "KAT_NEV": "emlékkönyv",
                                    "(No column name)": "3"
                                },
                                {
                                    "KAT_NEV": "emléklap",
                                    "(No column name)": "1"
                                },
                                {
                                    "KAT_NEV": "fax papír",
                                    "(No column name)": "1"
                                },
                                {
                                    "KAT_NEV": "fehérnemű",
                                    "(No column name)": "7"
                                },
                                {
                                    "KAT_NEV": "fénymásoló papír",
                                    "(No column name)": "5"
                                },
                                {
                                    "KAT_NEV": "férfi ing",
                                    "(No column name)": "1"
                                },
                                {
                                    "KAT_NEV": "férfi kabát",
                                    "(No column name)": "1"
                                },
                                {
                                    "KAT_NEV": "férfi nadrág",
                                    "(No column name)": "2"
                                },
                                {
                                    "KAT_NEV": "festékpatron",
                                    "(No column name)": "1"
                                },
                                {
                                    "KAT_NEV": "filctoll",
                                    "(No column name)": "13"
                                },
                                {
                                    "KAT_NEV": "floppy",
                                    "(No column name)": "1"
                                },
                                {
                                    "KAT_NEV": "fólia",
                                    "(No column name)": "3"
                                },
                                {
                                    "KAT_NEV": "fotópapír",
                                    "(No column name)": "1"
                                },
                                {
                                    "KAT_NEV": "füzet",
                                    "(No column name)": "11"
                                },
                                {
                                    "KAT_NEV": "füzetborító",
                                    "(No column name)": "7"
                                },
                                {
                                    "KAT_NEV": "füzettartó",
                                    "(No column name)": "4"
                                },
                                {
                                    "KAT_NEV": "gemkapocs",
                                    "(No column name)": "2"
                                },
                                {
                                    "KAT_NEV": "gémkapocs",
                                    "(No column name)": "2"
                                },
                                {
                                    "KAT_NEV": "genoterm",
                                    "(No column name)": "1"
                                },
                                {
                                    "KAT_NEV": "genotherm",
                                    "(No column name)": "3"
                                },
                                {
                                    "KAT_NEV": "golyóstoll",
                                    "(No column name)": "26"
                                },
                                {
                                    "KAT_NEV": "gumigyűrű",
                                    "(No column name)": "1"
                                },
                                {
                                    "KAT_NEV": "gyermek cipő",
                                    "(No column name)": "6"
                                },
                                {
                                    "KAT_NEV": "gyermek kabát",
                                    "(No column name)": "2"
                                },
                                {
                                    "KAT_NEV": "gyermek nadrág",
                                    "(No column name)": "4"
                                },
                                {
                                    "KAT_NEV": "gyermek póló",
                                    "(No column name)": "2"
                                },
                                {
                                    "KAT_NEV": "gyorsfűző",
                                    "(No column name)": "3"
                                },
                                {
                                    "KAT_NEV": "gyurma",
                                    "(No column name)": "4"
                                },
                                {
                                    "KAT_NEV": "gyűrűskönyv",
                                    "(No column name)": "5"
                                },
                                {
                                    "KAT_NEV": "hajgumi",
                                    "(No column name)": "1"
                                },
                                {
                                    "KAT_NEV": "határidő napló",
                                    "(No column name)": "2"
                                },
                                {
                                    "KAT_NEV": "hegyező",
                                    "(No column name)": "4"
                                },
                                {
                                    "KAT_NEV": "hegyző",
                                    "(No column name)": "2"
                                },
                                {
                                    "KAT_NEV": "hibajavító",
                                    "(No column name)": "7"
                                },
                                {
                                    "KAT_NEV": "hűtőmágnes",
                                    "(No column name)": "2"
                                },
                                {
                                    "KAT_NEV": "indigó",
                                    "(No column name)": "2"
                                },
                                {
                                    "KAT_NEV": "írásvetítő fólia",
                                    "(No column name)": "1"
                                },
                                {
                                    "KAT_NEV": "iratgyűjtő",
                                    "(No column name)": "3"
                                },
                                {
                                    "KAT_NEV": "iratrendező",
                                    "(No column name)": "2"
                                },
                                {
                                    "KAT_NEV": "iratsín",
                                    "(No column name)": "2"
                                },
                                {
                                    "KAT_NEV": "irattartó",
                                    "(No column name)": "2"
                                },
                                {
                                    "KAT_NEV": "irodaszer",
                                    "(No column name)": "1"
                                },
                                {
                                    "KAT_NEV": "írólap",
                                    "(No column name)": "2"
                                },
                                {
                                    "KAT_NEV": "ironbél",
                                    "(No column name)": "5"
                                },
                                {
                                    "KAT_NEV": "iskolaszer",
                                    "(No column name)": "24"
                                },
                                {
                                    "KAT_NEV": "játékautó",
                                    "(No column name)": "4"
                                },
                                {
                                    "KAT_NEV": "jelzőkréta",
                                    "(No column name)": "1"
                                },
                                {
                                    "KAT_NEV": "kapocskiszedő",
                                    "(No column name)": "1"
                                },
                                {
                                    "KAT_NEV": "karton",
                                    "(No column name)": "6"
                                },
                                {
                                    "KAT_NEV": "kártya",
                                    "(No column name)": "1"
                                },
                                {
                                    "KAT_NEV": "képeslap",
                                    "(No column name)": "16"
                                },
                                {
                                    "KAT_NEV": "képkirakó",
                                    "(No column name)": "1"
                                },
                                {
                                    "KAT_NEV": "kosztüm",
                                    "(No column name)": "2"
                                },
                                {
                                    "KAT_NEV": "könyv",
                                    "(No column name)": "15"
                                },
                                {
                                    "KAT_NEV": "körző",
                                    "(No column name)": "3"
                                },
                                {
                                    "KAT_NEV": "kreatív",
                                    "(No column name)": "2"
                                },
                                {
                                    "KAT_NEV": "kulcstartó",
                                    "(No column name)": "7"
                                },
                                {
                                    "KAT_NEV": "labda",
                                    "(No column name)": "2"
                                },
                                {
                                    "KAT_NEV": "levélpapír",
                                    "(No column name)": "7"
                                },
                                {
                                    "KAT_NEV": "lufi",
                                    "(No column name)": "2"
                                },
                                {
                                    "KAT_NEV": "lyukasztó",
                                    "(No column name)": "2"
                                },
                                {
                                    "KAT_NEV": "mappa",
                                    "(No column name)": "9"
                                },
                                {
                                    "KAT_NEV": "matrica",
                                    "(No column name)": "10"
                                },
                                {
                                    "KAT_NEV": "meghívó",
                                    "(No column name)": "4"
                                },
                                {
                                    "KAT_NEV": "miliméterpapír",
                                    "(No column name)": "1"
                                },
                                {
                                    "KAT_NEV": "munkafüzet",
                                    "(No column name)": "9"
                                },
                                {
                                    "KAT_NEV": "műnyomó",
                                    "(No column name)": "1"
                                },
                                {
                                    "KAT_NEV": "naptár",
                                    "(No column name)": "1"
                                },
                                {
                                    "KAT_NEV": "naptárhát",
                                    "(No column name)": "2"
                                },
                                {
                                    "KAT_NEV": "névjegytartó",
                                    "(No column name)": "1"
                                },
                                {
                                    "KAT_NEV": "notesz",
                                    "(No column name)": "5"
                                },
                                {
                                    "KAT_NEV": "női kabát",
                                    "(No column name)": "1"
                                },
                                {
                                    "KAT_NEV": "női nadrág",
                                    "(No column name)": "1"
                                },
                                {
                                    "KAT_NEV": "ofszet",
                                    "(No column name)": "1"
                                },
                                {
                                    "KAT_NEV": "oklevél",
                                    "(No column name)": "2"
                                },
                                {
                                    "KAT_NEV": "olló",
                                    "(No column name)": "3"
                                },
                                {
                                    "KAT_NEV": "öntapadó",
                                    "(No column name)": "2"
                                },
                                {
                                    "KAT_NEV": "papízsebkendő",
                                    "(No column name)": "1"
                                },
                                {
                                    "KAT_NEV": "pausz",
                                    "(No column name)": "1"
                                },
                                {
                                    "KAT_NEV": "pénztárbizonylat",
                                    "(No column name)": "2"
                                },
                                {
                                    "KAT_NEV": "pénztárgépszalag",
                                    "(No column name)": "2"
                                },
                                {
                                    "KAT_NEV": "pixiron",
                                    "(No column name)": "9"
                                },
                                {
                                    "KAT_NEV": "plüss",
                                    "(No column name)": "3"
                                },
                                {
                                    "KAT_NEV": "post-it",
                                    "(No column name)": "2"
                                },
                                {
                                    "KAT_NEV": "radír",
                                    "(No column name)": "7"
                                },
                                {
                                    "KAT_NEV": "radírtoll",
                                    "(No column name)": "2"
                                },
                                {
                                    "KAT_NEV": "ragasztó",
                                    "(No column name)": "10"
                                },
                                {
                                    "KAT_NEV": "ragasztószalag",
                                    "(No column name)": "4"
                                },
                                {
                                    "KAT_NEV": "rágógumi",
                                    "(No column name)": "1"
                                },
                                {
                                    "KAT_NEV": "rajzlap",
                                    "(No column name)": "2"
                                },
                                {
                                    "KAT_NEV": "rajzszeg",
                                    "(No column name)": "2"
                                },
                                {
                                    "KAT_NEV": "regiszteres füzet",
                                    "(No column name)": "2"
                                },
                                {
                                    "KAT_NEV": "sál",
                                    "(No column name)": "1"
                                },
                                {
                                    "KAT_NEV": "spirál",
                                    "(No column name)": "1"
                                },
                                {
                                    "KAT_NEV": "strandlabda",
                                    "(No column name)": "1"
                                },
                                {
                                    "KAT_NEV": "szalvéta",
                                    "(No column name)": "6"
                                },
                                {
                                    "KAT_NEV": "számológép",
                                    "(No column name)": "2"
                                },
                                {
                                    "KAT_NEV": "szemetes",
                                    "(No column name)": "1"
                                },
                                {
                                    "KAT_NEV": "színes",
                                    "(No column name)": "2"
                                },
                                {
                                    "KAT_NEV": "szögmérő",
                                    "(No column name)": "3"
                                },
                                {
                                    "KAT_NEV": "szövegkiemelő",
                                    "(No column name)": "5"
                                },
                                {
                                    "KAT_NEV": "táblafilc",
                                    "(No column name)": "1"
                                },
                                {
                                    "KAT_NEV": "tapétavágó",
                                    "(No column name)": "1"
                                },
                                {
                                    "KAT_NEV": "tempera",
                                    "(No column name)": "2"
                                },
                                {
                                    "KAT_NEV": "térképtű",
                                    "(No column name)": "1"
                                },
                                {
                                    "KAT_NEV": "tintapatron",
                                    "(No column name)": "3"
                                },
                                {
                                    "KAT_NEV": "toll",
                                    "(No column name)": "2"
                                },
                                {
                                    "KAT_NEV": "tollbetét",
                                    "(No column name)": "18"
                                },
                                {
                                    "KAT_NEV": "tolltartó",
                                    "(No column name)": "7"
                                },
                                {
                                    "KAT_NEV": "toner",
                                    "(No column name)": "1"
                                },
                                {
                                    "KAT_NEV": "töltőtoll",
                                    "(No column name)": "1"
                                },
                                {
                                    "KAT_NEV": "tűzőgép",
                                    "(No column name)": "6"
                                },
                                {
                                    "KAT_NEV": "tűzőkapocs",
                                    "(No column name)": "2"
                                },
                                {
                                    "KAT_NEV": "vízfesték",
                                    "(No column name)": "4"
                                },
                                {
                                    "KAT_NEV": "vonalzó",
                                    "(No column name)": "6"
                                },
                                {
                                    "KAT_NEV": "zászló",
                                    "(No column name)": "1"
                                },
                                {
                                    "KAT_NEV": "zseléstoll",
                                    "(No column name)": "4"
                                }
                            ]
                        },
                        "text/html": [
                            "<table>",
                            "<tr><th>KAT_NEV</th><th>(No column name)</th></tr>",
                            "<tr><td>ajándék tárgy</td><td>3</td></tr>",
                            "<tr><td>ajándék tasak</td><td>20</td></tr>",
                            "<tr><td>álarc</td><td>3</td></tr>",
                            "<tr><td>alkalmi</td><td>3</td></tr>",
                            "<tr><td>alufólia</td><td>2</td></tr>",
                            "<tr><td>árazószalag</td><td>1</td></tr>",
                            "<tr><td>átírótömb</td><td>1</td></tr>",
                            "<tr><td>beíró</td><td>1</td></tr>",
                            "<tr><td>beírókönyv</td><td>2</td></tr>",
                            "<tr><td>bélyegző</td><td>4</td></tr>",
                            "<tr><td>bélyegzőfesték</td><td>1</td></tr>",
                            "<tr><td>boríték</td><td>7</td></tr>",
                            "<tr><td>cd tok</td><td>1</td></tr>",
                            "<tr><td>celofán</td><td>2</td></tr>",
                            "<tr><td>ceruza</td><td>19</td></tr>",
                            "<tr><td>címke</td><td>3</td></tr>",
                            "<tr><td>color copy</td><td>5</td></tr>",
                            "<tr><td>csomagoló</td><td>2</td></tr>",
                            "<tr><td>csomagoló papír</td><td>7</td></tr>",
                            "<tr><td>dekor</td><td>4</td></tr>",
                            "<tr><td>dipa</td><td>1</td></tr>",
                            "<tr><td>díszdoboz</td><td>3</td></tr>",
                            "<tr><td>díszkötöző</td><td>5</td></tr>",
                            "<tr><td>dvd</td><td>1</td></tr>",
                            "<tr><td>ecset</td><td>7</td></tr>",
                            "<tr><td>előlap</td><td>1</td></tr>",
                            "<tr><td>emlékkönyv</td><td>3</td></tr>",
                            "<tr><td>emléklap</td><td>1</td></tr>",
                            "<tr><td>fax papír</td><td>1</td></tr>",
                            "<tr><td>fehérnemű</td><td>7</td></tr>",
                            "<tr><td>fénymásoló papír</td><td>5</td></tr>",
                            "<tr><td>férfi ing</td><td>1</td></tr>",
                            "<tr><td>férfi kabát</td><td>1</td></tr>",
                            "<tr><td>férfi nadrág</td><td>2</td></tr>",
                            "<tr><td>festékpatron</td><td>1</td></tr>",
                            "<tr><td>filctoll</td><td>13</td></tr>",
                            "<tr><td>floppy</td><td>1</td></tr>",
                            "<tr><td>fólia</td><td>3</td></tr>",
                            "<tr><td>fotópapír</td><td>1</td></tr>",
                            "<tr><td>füzet</td><td>11</td></tr>",
                            "<tr><td>füzetborító</td><td>7</td></tr>",
                            "<tr><td>füzettartó</td><td>4</td></tr>",
                            "<tr><td>gemkapocs</td><td>2</td></tr>",
                            "<tr><td>gémkapocs</td><td>2</td></tr>",
                            "<tr><td>genoterm</td><td>1</td></tr>",
                            "<tr><td>genotherm</td><td>3</td></tr>",
                            "<tr><td>golyóstoll</td><td>26</td></tr>",
                            "<tr><td>gumigyűrű</td><td>1</td></tr>",
                            "<tr><td>gyermek cipő</td><td>6</td></tr>",
                            "<tr><td>gyermek kabát</td><td>2</td></tr>",
                            "<tr><td>gyermek nadrág</td><td>4</td></tr>",
                            "<tr><td>gyermek póló</td><td>2</td></tr>",
                            "<tr><td>gyorsfűző</td><td>3</td></tr>",
                            "<tr><td>gyurma</td><td>4</td></tr>",
                            "<tr><td>gyűrűskönyv</td><td>5</td></tr>",
                            "<tr><td>hajgumi</td><td>1</td></tr>",
                            "<tr><td>határidő napló</td><td>2</td></tr>",
                            "<tr><td>hegyező</td><td>4</td></tr>",
                            "<tr><td>hegyző</td><td>2</td></tr>",
                            "<tr><td>hibajavító</td><td>7</td></tr>",
                            "<tr><td>hűtőmágnes</td><td>2</td></tr>",
                            "<tr><td>indigó</td><td>2</td></tr>",
                            "<tr><td>írásvetítő fólia</td><td>1</td></tr>",
                            "<tr><td>iratgyűjtő</td><td>3</td></tr>",
                            "<tr><td>iratrendező</td><td>2</td></tr>",
                            "<tr><td>iratsín</td><td>2</td></tr>",
                            "<tr><td>irattartó</td><td>2</td></tr>",
                            "<tr><td>irodaszer</td><td>1</td></tr>",
                            "<tr><td>írólap</td><td>2</td></tr>",
                            "<tr><td>ironbél</td><td>5</td></tr>",
                            "<tr><td>iskolaszer</td><td>24</td></tr>",
                            "<tr><td>játékautó</td><td>4</td></tr>",
                            "<tr><td>jelzőkréta</td><td>1</td></tr>",
                            "<tr><td>kapocskiszedő</td><td>1</td></tr>",
                            "<tr><td>karton</td><td>6</td></tr>",
                            "<tr><td>kártya</td><td>1</td></tr>",
                            "<tr><td>képeslap</td><td>16</td></tr>",
                            "<tr><td>képkirakó</td><td>1</td></tr>",
                            "<tr><td>kosztüm</td><td>2</td></tr>",
                            "<tr><td>könyv</td><td>15</td></tr>",
                            "<tr><td>körző</td><td>3</td></tr>",
                            "<tr><td>kreatív</td><td>2</td></tr>",
                            "<tr><td>kulcstartó</td><td>7</td></tr>",
                            "<tr><td>labda</td><td>2</td></tr>",
                            "<tr><td>levélpapír</td><td>7</td></tr>",
                            "<tr><td>lufi</td><td>2</td></tr>",
                            "<tr><td>lyukasztó</td><td>2</td></tr>",
                            "<tr><td>mappa</td><td>9</td></tr>",
                            "<tr><td>matrica</td><td>10</td></tr>",
                            "<tr><td>meghívó</td><td>4</td></tr>",
                            "<tr><td>miliméterpapír</td><td>1</td></tr>",
                            "<tr><td>munkafüzet</td><td>9</td></tr>",
                            "<tr><td>műnyomó</td><td>1</td></tr>",
                            "<tr><td>naptár</td><td>1</td></tr>",
                            "<tr><td>naptárhát</td><td>2</td></tr>",
                            "<tr><td>névjegytartó</td><td>1</td></tr>",
                            "<tr><td>notesz</td><td>5</td></tr>",
                            "<tr><td>női kabát</td><td>1</td></tr>",
                            "<tr><td>női nadrág</td><td>1</td></tr>",
                            "<tr><td>ofszet</td><td>1</td></tr>",
                            "<tr><td>oklevél</td><td>2</td></tr>",
                            "<tr><td>olló</td><td>3</td></tr>",
                            "<tr><td>öntapadó</td><td>2</td></tr>",
                            "<tr><td>papízsebkendő</td><td>1</td></tr>",
                            "<tr><td>pausz</td><td>1</td></tr>",
                            "<tr><td>pénztárbizonylat</td><td>2</td></tr>",
                            "<tr><td>pénztárgépszalag</td><td>2</td></tr>",
                            "<tr><td>pixiron</td><td>9</td></tr>",
                            "<tr><td>plüss</td><td>3</td></tr>",
                            "<tr><td>post-it</td><td>2</td></tr>",
                            "<tr><td>radír</td><td>7</td></tr>",
                            "<tr><td>radírtoll</td><td>2</td></tr>",
                            "<tr><td>ragasztó</td><td>10</td></tr>",
                            "<tr><td>ragasztószalag</td><td>4</td></tr>",
                            "<tr><td>rágógumi</td><td>1</td></tr>",
                            "<tr><td>rajzlap</td><td>2</td></tr>",
                            "<tr><td>rajzszeg</td><td>2</td></tr>",
                            "<tr><td>regiszteres füzet</td><td>2</td></tr>",
                            "<tr><td>sál</td><td>1</td></tr>",
                            "<tr><td>spirál</td><td>1</td></tr>",
                            "<tr><td>strandlabda</td><td>1</td></tr>",
                            "<tr><td>szalvéta</td><td>6</td></tr>",
                            "<tr><td>számológép</td><td>2</td></tr>",
                            "<tr><td>szemetes</td><td>1</td></tr>",
                            "<tr><td>színes</td><td>2</td></tr>",
                            "<tr><td>szögmérő</td><td>3</td></tr>",
                            "<tr><td>szövegkiemelő</td><td>5</td></tr>",
                            "<tr><td>táblafilc</td><td>1</td></tr>",
                            "<tr><td>tapétavágó</td><td>1</td></tr>",
                            "<tr><td>tempera</td><td>2</td></tr>",
                            "<tr><td>térképtű</td><td>1</td></tr>",
                            "<tr><td>tintapatron</td><td>3</td></tr>",
                            "<tr><td>toll</td><td>2</td></tr>",
                            "<tr><td>tollbetét</td><td>18</td></tr>",
                            "<tr><td>tolltartó</td><td>7</td></tr>",
                            "<tr><td>toner</td><td>1</td></tr>",
                            "<tr><td>töltőtoll</td><td>1</td></tr>",
                            "<tr><td>tűzőgép</td><td>6</td></tr>",
                            "<tr><td>tűzőkapocs</td><td>2</td></tr>",
                            "<tr><td>vízfesték</td><td>4</td></tr>",
                            "<tr><td>vonalzó</td><td>6</td></tr>",
                            "<tr><td>zászló</td><td>1</td></tr>",
                            "<tr><td>zseléstoll</td><td>4</td></tr>",
                            "</table>"
                        ]
                    }
                }
            ],
            "execution_count": 22
        },
        {
            "cell_type": "markdown",
            "source": [
                "8. <span style=\"font-weight: 600; color: rgb(36, 41, 47); font-family: -apple-system, BlinkMacSystemFont, &quot;Segoe UI&quot;, Helvetica, Arial, sans-serif, &quot;Apple Color Emoji&quot;, &quot;Segoe UI Emoji&quot;; font-size: 16px;\">Készítsünk listát a rendelési tételekről. Az egyes rendelési tételeket termékenként soroljuk be 4 osztályba a rendelés mennyisége alapján. Jelenítsük meg ezt az információt is egy új oszlopban, az oszlop neve legyen 'Mennyiségi kategória'.</span>\n",
                "\n",
                "1. A lista csak a 100 Ft feletti egységárú rendelési tételeket vegye figyelembe!"
            ],
            "metadata": {
                "azdata_cell_guid": "27a3d3dc-eafb-4a5e-b103-9f465b9eda8f"
            },
            "attachments": {}
        },
        {
            "cell_type": "code",
            "source": [
                ""
            ],
            "metadata": {
                "azdata_cell_guid": "f09edb3f-649b-4a96-958e-9e12774ae8b7",
                "language": "sql"
            },
            "outputs": [
                {
                    "output_type": "display_data",
                    "data": {
                        "text/html": "Commands completed successfully."
                    },
                    "metadata": {}
                },
                {
                    "output_type": "display_data",
                    "data": {
                        "text/html": "Total execution time: 00:00:00"
                    },
                    "metadata": {}
                }
            ],
            "execution_count": 8
        },
        {
            "cell_type": "markdown",
            "source": [
                "9. <span style=\"font-weight: 600; color: rgb(36, 41, 47); font-family: -apple-system, BlinkMacSystemFont, &quot;Segoe UI&quot;, Helvetica, Arial, sans-serif, &quot;Apple Color Emoji&quot;, &quot;Segoe UI Emoji&quot;; font-size: 16px;\">Listázzuk a termékek kódját, megnevezését, kategóriájának nevét, és listaárát.</span>\n",
                "\n",
                "1. A listát egészítsük ki két új oszloppal, amelyek a kategória legolcsóbb, illetve legdrágább termékének árát tartalmazzák.\n",
                "2. A két új oszlop létrehozásánál partíciókkal dolgozzunk!"
            ],
            "metadata": {
                "azdata_cell_guid": "f12a331a-0e26-4d3d-9c68-812316286577"
            },
            "attachments": {}
        },
        {
            "cell_type": "code",
            "source": [
                ""
            ],
            "metadata": {
                "azdata_cell_guid": "10a77fc9-e61a-46fc-a401-59720d82bc50",
                "language": "sql"
            },
            "outputs": [
                {
                    "output_type": "display_data",
                    "data": {
                        "text/html": "Commands completed successfully."
                    },
                    "metadata": {}
                },
                {
                    "output_type": "display_data",
                    "data": {
                        "text/html": "Total execution time: 00:00:00"
                    },
                    "metadata": {}
                }
            ],
            "execution_count": 9
        },
        {
            "cell_type": "markdown",
            "source": [
                "10. <span style=\"font-weight: 600; color: rgb(36, 41, 47); font-family: -apple-system, BlinkMacSystemFont, &quot;Segoe UI&quot;, Helvetica, Arial, sans-serif, &quot;Apple Color Emoji&quot;, &quot;Segoe UI Emoji&quot;; font-size: 16px;\">Készítsünk listát a rendelésekről. A lista legyen rendezve ügyfelenként (LOGIN), azon belül a rendelés dátuma szerint. A listához készítsünk sorszámozást is. A sorszám a következő formában jelenjen meg: sorszám_év_login. Pl: 1_2015_adam1</span>\n",
                "\n",
                "1. A számozás login-onként, azon belül rendelési évenként kezdődjön újra.\n",
                "2. A sorszám oszlop neve legyen Azonosító"
            ],
            "metadata": {
                "azdata_cell_guid": "9229e2b6-e200-4499-b95b-2d0222149831"
            },
            "attachments": {}
        },
        {
            "cell_type": "code",
            "source": [
                ""
            ],
            "metadata": {
                "azdata_cell_guid": "8b49ed67-28c6-4880-82a8-cd369e5bba99",
                "language": "sql"
            },
            "outputs": [
                {
                    "output_type": "display_data",
                    "data": {
                        "text/html": "Commands completed successfully."
                    },
                    "metadata": {}
                },
                {
                    "output_type": "display_data",
                    "data": {
                        "text/html": "Total execution time: 00:00:00"
                    },
                    "metadata": {}
                }
            ],
            "execution_count": 10
        },
        {
            "cell_type": "markdown",
            "source": [
                "11. <span style=\"color: rgb(36, 41, 47); font-family: -apple-system, BlinkMacSystemFont, &quot;Segoe UI&quot;, Helvetica, Arial, sans-serif, &quot;Apple Color Emoji&quot;, &quot;Segoe UI Emoji&quot;; font-size: 16px;\">Készítsünk listát a termékek adatairól listaár szerint növekvő sorrendben! A lista jelenítse meg két új oszlopban a sorrend szerint előző, illetve következő termék listaárát is a termék saját kategóriájában és raktárában!</span>\n",
                "\n",
                "1. Ahol nincs előző vagy következő érték, ott 0 jelenjen meg!\n",
                "2. Az oszlopokat nevezzük el értelemszerűen!"
            ],
            "metadata": {
                "azdata_cell_guid": "7f5fc7a7-3b6a-4d89-b292-490830afb0c6"
            },
            "attachments": {}
        },
        {
            "cell_type": "code",
            "source": [
                ""
            ],
            "metadata": {
                "azdata_cell_guid": "4a9ece40-f782-4c0d-92cd-9c21969067ed",
                "language": "sql"
            },
            "outputs": [
                {
                    "output_type": "display_data",
                    "data": {
                        "text/html": "Commands completed successfully."
                    },
                    "metadata": {}
                },
                {
                    "output_type": "display_data",
                    "data": {
                        "text/html": "Total execution time: 00:00:00"
                    },
                    "metadata": {}
                }
            ],
            "execution_count": 11
        },
        {
            "cell_type": "markdown",
            "source": [
                "12. <span style=\"color: rgb(36, 41, 47); font-family: -apple-system, BlinkMacSystemFont, &quot;Segoe UI&quot;, Helvetica, Arial, sans-serif, &quot;Apple Color Emoji&quot;, &quot;Segoe UI Emoji&quot;; font-size: 16px;\">Listázzuk a termékek kódját, nevét és listaárát listaár szerinti sorrendben!</span>\n",
                "\n",
                "1. Vegyünk fel egy új oszlopot Mozgóátlag néven, amely minden esetben az aktuális termék, az előző, és a következő termék átlagárát tartalmazza!\n",
                "2. A mozgóátlagot kerekítsük két tizedesre!"
            ],
            "metadata": {
                "azdata_cell_guid": "5a483c52-bb98-44bb-bd03-1146d4b0abfa"
            },
            "attachments": {}
        },
        {
            "cell_type": "code",
            "source": [
                "SELECT TERMEKKOD,\r\n",
                "        MEGNEVEZES,\r\n",
                "        LISTAAR,\r\n",
                "        AVG(LISTAAR) OVER(Order BY LISTAAR Rows Between 1 preceding And 1 Following)\r\n",
                "FROM Termek"
            ],
            "metadata": {
                "azdata_cell_guid": "dd6e89bd-08f9-4b18-8460-03c45b503df0",
                "language": "sql"
            },
            "outputs": [
                {
                    "output_type": "display_data",
                    "data": {
                        "text/html": "(551 rows affected)"
                    },
                    "metadata": {}
                },
                {
                    "output_type": "display_data",
                    "data": {
                        "text/html": "Total execution time: 00:00:00.013"
                    },
                    "metadata": {}
                },
                {
                    "output_type": "execute_result",
                    "metadata": {},
                    "execution_count": 33,
                    "data": {
                        "application/vnd.dataresource+json": {
                            "schema": {
                                "fields": [
                                    {
                                        "name": "TERMEKKOD"
                                    },
                                    {
                                        "name": "MEGNEVEZES"
                                    },
                                    {
                                        "name": "LISTAAR"
                                    },
                                    {
                                        "name": "(No column name)"
                                    }
                                ]
                            },
                            "data": [
                                {
                                    "TERMEKKOD": "07030108T",
                                    "MEGNEVEZES": "Filctoll CD író",
                                    "LISTAAR": "0",
                                    "(No column name)": "1,5"
                                },
                                {
                                    "TERMEKKOD": "01090498T",
                                    "MEGNEVEZES": "Műnyomó 300g 17,5*20",
                                    "LISTAAR": "3",
                                    "(No column name)": "2"
                                },
                                {
                                    "TERMEKKOD": "02030042T",
                                    "MEGNEVEZES": "Boríték LC 6",
                                    "LISTAAR": "3",
                                    "(No column name)": "3"
                                },
                                {
                                    "TERMEKKOD": "04030288T",
                                    "MEGNEVEZES": "Műanyag pohár 1 dl-es",
                                    "LISTAAR": "3",
                                    "(No column name)": "3,3333333333333335"
                                },
                                {
                                    "TERMEKKOD": "01090501T",
                                    "MEGNEVEZES": "Kreatív A/4 300g ",
                                    "LISTAAR": "4",
                                    "(No column name)": "3,6666666666666665"
                                },
                                {
                                    "TERMEKKOD": "01090517T",
                                    "MEGNEVEZES": "Színes ofszet B/4",
                                    "LISTAAR": "4",
                                    "(No column name)": "4,333333333333333"
                                },
                                {
                                    "TERMEKKOD": "06040089T",
                                    "MEGNEVEZES": "Ellenőrzőborító",
                                    "LISTAAR": "5",
                                    "(No column name)": "5"
                                },
                                {
                                    "TERMEKKOD": "02030040T",
                                    "MEGNEVEZES": "Boríték LA 4 francia",
                                    "LISTAAR": "6",
                                    "(No column name)": "5,666666666666667"
                                },
                                {
                                    "TERMEKKOD": "02030041T",
                                    "MEGNEVEZES": "Boríték LC 5",
                                    "LISTAAR": "6",
                                    "(No column name)": "6,666666666666667"
                                },
                                {
                                    "TERMEKKOD": "02040147T",
                                    "MEGNEVEZES": "Genotherm lefűzhető A/5",
                                    "LISTAAR": "8",
                                    "(No column name)": "7,333333333333333"
                                },
                                {
                                    "TERMEKKOD": "06010377T",
                                    "MEGNEVEZES": "Szögmérő színes",
                                    "LISTAAR": "8",
                                    "(No column name)": "8"
                                },
                                {
                                    "TERMEKKOD": "06080425T",
                                    "MEGNEVEZES": "Miliméterpapír",
                                    "LISTAAR": "8",
                                    "(No column name)": "8"
                                },
                                {
                                    "TERMEKKOD": "06040181T",
                                    "MEGNEVEZES": "Gyűjtőlap A/4",
                                    "LISTAAR": "8",
                                    "(No column name)": "8"
                                },
                                {
                                    "TERMEKKOD": "06040353T",
                                    "MEGNEVEZES": "Sorvezető",
                                    "LISTAAR": "8",
                                    "(No column name)": "8"
                                },
                                {
                                    "TERMEKKOD": "06080118T",
                                    "MEGNEVEZES": "Füzetborító átlátszó A5",
                                    "LISTAAR": "8",
                                    "(No column name)": "8,333333333333334"
                                },
                                {
                                    "TERMEKKOD": "07040388T",
                                    "MEGNEVEZES": "Tintapatron /kék/",
                                    "LISTAAR": "9",
                                    "(No column name)": "8,666666666666666"
                                },
                                {
                                    "TERMEKKOD": "06010305T",
                                    "MEGNEVEZES": "Papírcenti 100 cm-es",
                                    "LISTAAR": "9",
                                    "(No column name)": "9"
                                },
                                {
                                    "TERMEKKOD": "01100072T",
                                    "MEGNEVEZES": "Dipa A/4 keretezett",
                                    "LISTAAR": "9",
                                    "(No column name)": "9,333333333333334"
                                },
                                {
                                    "TERMEKKOD": "01100503T",
                                    "MEGNEVEZES": "Color Copy A4 120 g",
                                    "LISTAAR": "10",
                                    "(No column name)": "9,666666666666666"
                                },
                                {
                                    "TERMEKKOD": "06080117T",
                                    "MEGNEVEZES": "Füzetborító A/4 átlátszó",
                                    "LISTAAR": "10",
                                    "(No column name)": "10,333333333333334"
                                },
                                {
                                    "TERMEKKOD": "07040058T",
                                    "MEGNEVEZES": "Ceruza radíros kínai",
                                    "LISTAAR": "11",
                                    "(No column name)": "10,666666666666666"
                                },
                                {
                                    "TERMEKKOD": "07040390T",
                                    "MEGNEVEZES": "Tintapatron színes",
                                    "LISTAAR": "11",
                                    "(No column name)": "11"
                                },
                                {
                                    "TERMEKKOD": "07080065T",
                                    "MEGNEVEZES": "Ceruza kínai",
                                    "LISTAAR": "11",
                                    "(No column name)": "11"
                                },
                                {
                                    "TERMEKKOD": "01090515T",
                                    "MEGNEVEZES": "Színes A/3 160 gr IQ",
                                    "LISTAAR": "11",
                                    "(No column name)": "11"
                                },
                                {
                                    "TERMEKKOD": "06010376T",
                                    "MEGNEVEZES": "Szögmérő papír",
                                    "LISTAAR": "11",
                                    "(No column name)": "11"
                                },
                                {
                                    "TERMEKKOD": "04030285T",
                                    "MEGNEVEZES": "Mikulás zacskó",
                                    "LISTAAR": "11",
                                    "(No column name)": "11"
                                },
                                {
                                    "TERMEKKOD": "04050269T",
                                    "MEGNEVEZES": "Lufi hullámos",
                                    "LISTAAR": "11",
                                    "(No column name)": "11,333333333333334"
                                },
                                {
                                    "TERMEKKOD": "06040206T",
                                    "MEGNEVEZES": "kék indigó",
                                    "LISTAAR": "12",
                                    "(No column name)": "12"
                                },
                                {
                                    "TERMEKKOD": "01100510T",
                                    "MEGNEVEZES": "Kreatív A/4 120g ",
                                    "LISTAAR": "13",
                                    "(No column name)": "13"
                                },
                                {
                                    "TERMEKKOD": "01090500T",
                                    "MEGNEVEZES": "Color Copy A4 200 g",
                                    "LISTAAR": "14",
                                    "(No column name)": "13,666666666666666"
                                },
                                {
                                    "TERMEKKOD": "01100497T",
                                    "MEGNEVEZES": "Color Copy 160 g-os ",
                                    "LISTAAR": "14",
                                    "(No column name)": "14"
                                },
                                {
                                    "TERMEKKOD": "04030240T",
                                    "MEGNEVEZES": "Képeslap virágos",
                                    "LISTAAR": "14",
                                    "(No column name)": "14,333333333333334"
                                },
                                {
                                    "TERMEKKOD": "04030236T",
                                    "MEGNEVEZES": "Képeslap karácsonyi WD",
                                    "LISTAAR": "15",
                                    "(No column name)": "14,666666666666666"
                                },
                                {
                                    "TERMEKKOD": "04030289T",
                                    "MEGNEVEZES": "Műanyag pohár 5 cl-es",
                                    "LISTAAR": "15",
                                    "(No column name)": "15"
                                },
                                {
                                    "TERMEKKOD": "04030260T",
                                    "MEGNEVEZES": "Levélpapír A/4",
                                    "LISTAAR": "15",
                                    "(No column name)": "15"
                                },
                                {
                                    "TERMEKKOD": "04050268T",
                                    "MEGNEVEZES": "Lufi formázható",
                                    "LISTAAR": "15",
                                    "(No column name)": "15"
                                },
                                {
                                    "TERMEKKOD": "01090499T",
                                    "MEGNEVEZES": "Color Copy A/4 250 g",
                                    "LISTAAR": "15",
                                    "(No column name)": "15"
                                },
                                {
                                    "TERMEKKOD": "01040307T",
                                    "MEGNEVEZES": "Pausz papír A/4",
                                    "LISTAAR": "15",
                                    "(No column name)": "15"
                                },
                                {
                                    "TERMEKKOD": "02040291T",
                                    "MEGNEVEZES": "Naptárhát kicsi",
                                    "LISTAAR": "15",
                                    "(No column name)": "15"
                                },
                                {
                                    "TERMEKKOD": "02030044T",
                                    "MEGNEVEZES": "Boríték mintás",
                                    "LISTAAR": "15",
                                    "(No column name)": "15"
                                },
                                {
                                    "TERMEKKOD": "02050460T",
                                    "MEGNEVEZES": "Boríték C/4-es",
                                    "LISTAAR": "15",
                                    "(No column name)": "15"
                                },
                                {
                                    "TERMEKKOD": "03010342T",
                                    "MEGNEVEZES": "Ragasztószalag  TIXO",
                                    "LISTAAR": "15",
                                    "(No column name)": "15"
                                },
                                {
                                    "TERMEKKOD": "03050078T",
                                    "MEGNEVEZES": "Díszkötöző szalag metál kicsi",
                                    "LISTAAR": "15",
                                    "(No column name)": "15"
                                },
                                {
                                    "TERMEKKOD": "03050079T",
                                    "MEGNEVEZES": "Díszkötöző szalag vékony",
                                    "LISTAAR": "15",
                                    "(No column name)": "15"
                                },
                                {
                                    "TERMEKKOD": "06040205T",
                                    "MEGNEVEZES": "Indigó Pelikán",
                                    "LISTAAR": "15",
                                    "(No column name)": "15"
                                },
                                {
                                    "TERMEKKOD": "07010141T",
                                    "MEGNEVEZES": "G.toll betét X20",
                                    "LISTAAR": "15",
                                    "(No column name)": "16"
                                },
                                {
                                    "TERMEKKOD": "02050461T",
                                    "MEGNEVEZES": "Boríték B/4-es",
                                    "LISTAAR": "18",
                                    "(No column name)": "17"
                                },
                                {
                                    "TERMEKKOD": "02040176T",
                                    "MEGNEVEZES": "Gyorsfűző dosszié fehér",
                                    "LISTAAR": "18",
                                    "(No column name)": "18,333333333333332"
                                },
                                {
                                    "TERMEKKOD": "02040207T",
                                    "MEGNEVEZES": "Iratgyűjtő ESSELTE ablakos",
                                    "LISTAAR": "19",
                                    "(No column name)": "18,666666666666668"
                                },
                                {
                                    "TERMEKKOD": "02040208T",
                                    "MEGNEVEZES": "Iratgyűjtő fehér",
                                    "LISTAAR": "19",
                                    "(No column name)": "19"
                                },
                                {
                                    "TERMEKKOD": "03080004T",
                                    "MEGNEVEZES": "Ajándék cs. tasak italos, fólia",
                                    "LISTAAR": "19",
                                    "(No column name)": "19"
                                },
                                {
                                    "TERMEKKOD": "05050170T",
                                    "MEGNEVEZES": "Gumigyűrű",
                                    "LISTAAR": "19",
                                    "(No column name)": "19"
                                },
                                {
                                    "TERMEKKOD": "06040326T",
                                    "MEGNEVEZES": "Radír KOH-I-NOR 80",
                                    "LISTAAR": "19",
                                    "(No column name)": "19"
                                },
                                {
                                    "TERMEKKOD": "06080122T",
                                    "MEGNEVEZES": "Füzetborító öntapadós nagy",
                                    "LISTAAR": "19",
                                    "(No column name)": "19"
                                },
                                {
                                    "TERMEKKOD": "06080119T",
                                    "MEGNEVEZES": "Füzetborító mesefig.",
                                    "LISTAAR": "19",
                                    "(No column name)": "19"
                                },
                                {
                                    "TERMEKKOD": "06040383T",
                                    "MEGNEVEZES": "Taffet papír",
                                    "LISTAAR": "19",
                                    "(No column name)": "19,333333333333332"
                                },
                                {
                                    "TERMEKKOD": "06080417T",
                                    "MEGNEVEZES": "Zászló papír",
                                    "LISTAAR": "20",
                                    "(No column name)": "19,666666666666668"
                                },
                                {
                                    "TERMEKKOD": "04110068T",
                                    "MEGNEVEZES": "Címke egyszínű",
                                    "LISTAAR": "20",
                                    "(No column name)": "20"
                                },
                                {
                                    "TERMEKKOD": "05010306T",
                                    "MEGNEVEZES": "Papízsebkendő,10db Szindy",
                                    "LISTAAR": "20",
                                    "(No column name)": "21"
                                },
                                {
                                    "TERMEKKOD": "06010202T",
                                    "MEGNEVEZES": "Hurkapálca 10 db-os",
                                    "LISTAAR": "23",
                                    "(No column name)": "22"
                                },
                                {
                                    "TERMEKKOD": "03080021T",
                                    "MEGNEVEZES": "Ajándék csom. vékony",
                                    "LISTAAR": "23",
                                    "(No column name)": "23"
                                },
                                {
                                    "TERMEKKOD": "04030287T",
                                    "MEGNEVEZES": "Műanyag foszforeszkáló állat",
                                    "LISTAAR": "23",
                                    "(No column name)": "23"
                                },
                                {
                                    "TERMEKKOD": "06080190T",
                                    "MEGNEVEZES": "Hegyező műanyag egyes",
                                    "LISTAAR": "23",
                                    "(No column name)": "23"
                                },
                                {
                                    "TERMEKKOD": "07010140T",
                                    "MEGNEVEZES": "G.toll betét Stabilo",
                                    "LISTAAR": "23",
                                    "(No column name)": "23"
                                },
                                {
                                    "TERMEKKOD": "07040053T",
                                    "MEGNEVEZES": "Ceruza HB radiros",
                                    "LISTAAR": "23",
                                    "(No column name)": "23"
                                },
                                {
                                    "TERMEKKOD": "06080120T",
                                    "MEGNEVEZES": "Füzetborító öntapadó kicsi",
                                    "LISTAAR": "23",
                                    "(No column name)": "23"
                                },
                                {
                                    "TERMEKKOD": "07040218T",
                                    "MEGNEVEZES": "Ironbél HB 0,5",
                                    "LISTAAR": "23",
                                    "(No column name)": "23"
                                },
                                {
                                    "TERMEKKOD": "07080156T",
                                    "MEGNEVEZES": "Golyóstoll kupakos piros",
                                    "LISTAAR": "23",
                                    "(No column name)": "23,333333333333332"
                                },
                                {
                                    "TERMEKKOD": "06080424T",
                                    "MEGNEVEZES": "Füzetborító A/4 mintás",
                                    "LISTAAR": "24",
                                    "(No column name)": "23,666666666666668"
                                },
                                {
                                    "TERMEKKOD": "04050203T",
                                    "MEGNEVEZES": "Hűtőmágnes",
                                    "LISTAAR": "24",
                                    "(No column name)": "24"
                                },
                                {
                                    "TERMEKKOD": "04050035T",
                                    "MEGNEVEZES": "Bérlet tok",
                                    "LISTAAR": "24",
                                    "(No column name)": "24"
                                },
                                {
                                    "TERMEKKOD": "06010375T",
                                    "MEGNEVEZES": "Szögmérő 180 fokos műa.",
                                    "LISTAAR": "24",
                                    "(No column name)": "24,333333333333332"
                                },
                                {
                                    "TERMEKKOD": "01040502T",
                                    "MEGNEVEZES": "Előlap spirálhoz",
                                    "LISTAAR": "25",
                                    "(No column name)": "24,666666666666668"
                                },
                                {
                                    "TERMEKKOD": "01090516T",
                                    "MEGNEVEZES": "Színes karton A4",
                                    "LISTAAR": "25",
                                    "(No column name)": "25,333333333333332"
                                },
                                {
                                    "TERMEKKOD": "01030091T",
                                    "MEGNEVEZES": "Emléklap A/5",
                                    "LISTAAR": "26",
                                    "(No column name)": "25,666666666666668"
                                },
                                {
                                    "TERMEKKOD": "03080006T",
                                    "MEGNEVEZES": "Ajándék cs. tasak mintás kicsi",
                                    "LISTAAR": "26",
                                    "(No column name)": "26"
                                },
                                {
                                    "TERMEKKOD": "03050457T",
                                    "MEGNEVEZES": "Ajándék cs. tasak kicsi",
                                    "LISTAAR": "26",
                                    "(No column name)": "26"
                                },
                                {
                                    "TERMEKKOD": "03050076T",
                                    "MEGNEVEZES": "Díszkötöző szalag metál nagy",
                                    "LISTAAR": "26",
                                    "(No column name)": "26"
                                },
                                {
                                    "TERMEKKOD": "04110066T",
                                    "MEGNEVEZES": "Címke 8 db-os",
                                    "LISTAAR": "26",
                                    "(No column name)": "26"
                                },
                                {
                                    "TERMEKKOD": "07040097T",
                                    "MEGNEVEZES": "Filctoll ",
                                    "LISTAAR": "26",
                                    "(No column name)": "26,666666666666668"
                                },
                                {
                                    "TERMEKKOD": "06040347T",
                                    "MEGNEVEZES": "Rajzlap A/4 10db ffam.",
                                    "LISTAAR": "28",
                                    "(No column name)": "27,666666666666668"
                                },
                                {
                                    "TERMEKKOD": "06040212T",
                                    "MEGNEVEZES": "Írólap 10-50 ffam.",
                                    "LISTAAR": "29",
                                    "(No column name)": "29"
                                },
                                {
                                    "TERMEKKOD": "06040247T",
                                    "MEGNEVEZES": "Körzőhegy grafit",
                                    "LISTAAR": "30",
                                    "(No column name)": "29,666666666666668"
                                },
                                {
                                    "TERMEKKOD": "06080189T",
                                    "MEGNEVEZES": "Hegyező műanyag dupla",
                                    "LISTAAR": "30",
                                    "(No column name)": "30"
                                },
                                {
                                    "TERMEKKOD": "07040050T",
                                    "MEGNEVEZES": "Ceruza Cseh",
                                    "LISTAAR": "30",
                                    "(No column name)": "30"
                                },
                                {
                                    "TERMEKKOD": "06080191T",
                                    "MEGNEVEZES": "Hegyező tartályos egyes",
                                    "LISTAAR": "30",
                                    "(No column name)": "30"
                                },
                                {
                                    "TERMEKKOD": "06080412T",
                                    "MEGNEVEZES": "Vonalzó 16 cm-es LIZZY",
                                    "LISTAAR": "30",
                                    "(No column name)": "30"
                                },
                                {
                                    "TERMEKKOD": "06080413T",
                                    "MEGNEVEZES": "Vonalzó 30 cm",
                                    "LISTAAR": "30",
                                    "(No column name)": "30"
                                },
                                {
                                    "TERMEKKOD": "06080414T",
                                    "MEGNEVEZES": "Vonalzó 20 cm-es ",
                                    "LISTAAR": "30",
                                    "(No column name)": "30"
                                },
                                {
                                    "TERMEKKOD": "06080415T",
                                    "MEGNEVEZES": "Vonalzó 45 fokos",
                                    "LISTAAR": "30",
                                    "(No column name)": "30"
                                },
                                {
                                    "TERMEKKOD": "07040127T",
                                    "MEGNEVEZES": "G. toll betét mini",
                                    "LISTAAR": "30",
                                    "(No column name)": "30"
                                },
                                {
                                    "TERMEKKOD": "07040129T",
                                    "MEGNEVEZES": "G. toll betét réz",
                                    "LISTAAR": "30",
                                    "(No column name)": "30"
                                },
                                {
                                    "TERMEKKOD": "04030234T",
                                    "MEGNEVEZES": "Képeslap karácsonyi",
                                    "LISTAAR": "30",
                                    "(No column name)": "30"
                                },
                                {
                                    "TERMEKKOD": "06010114T",
                                    "MEGNEVEZES": "Füzet A/5 hangjegy 36/16",
                                    "LISTAAR": "30",
                                    "(No column name)": "30"
                                },
                                {
                                    "TERMEKKOD": "02080069T",
                                    "MEGNEVEZES": "CD tartó tok",
                                    "LISTAAR": "30",
                                    "(No column name)": "30"
                                },
                                {
                                    "TERMEKKOD": "01010110T",
                                    "MEGNEVEZES": "Fotópapír A/4 fényes",
                                    "LISTAAR": "30",
                                    "(No column name)": "30"
                                },
                                {
                                    "TERMEKKOD": "02040177T",
                                    "MEGNEVEZES": "Gyorsfűző műa.",
                                    "LISTAAR": "30",
                                    "(No column name)": "30"
                                },
                                {
                                    "TERMEKKOD": "02040145T",
                                    "MEGNEVEZES": "Gemkapocs 28 mm",
                                    "LISTAAR": "30",
                                    "(No column name)": "30,333333333333332"
                                },
                                {
                                    "TERMEKKOD": "04110067T",
                                    "MEGNEVEZES": "Címke WD. állat",
                                    "LISTAAR": "31",
                                    "(No column name)": "31,333333333333332"
                                },
                                {
                                    "TERMEKKOD": "06010083T",
                                    "MEGNEVEZES": "Ecset Centrum 7,8,9",
                                    "LISTAAR": "33",
                                    "(No column name)": "32,333333333333336"
                                },
                                {
                                    "TERMEKKOD": "06010036T",
                                    "MEGNEVEZES": "Betűtartó sin",
                                    "LISTAAR": "33",
                                    "(No column name)": "33"
                                },
                                {
                                    "TERMEKKOD": "04110227T",
                                    "MEGNEVEZES": "Képeslap  borítékos",
                                    "LISTAAR": "33",
                                    "(No column name)": "33"
                                },
                                {
                                    "TERMEKKOD": "04110229T",
                                    "MEGNEVEZES": "Képeslap \"Részvét\"",
                                    "LISTAAR": "33",
                                    "(No column name)": "33"
                                },
                                {
                                    "TERMEKKOD": "07080155T",
                                    "MEGNEVEZES": "Golyóstoll",
                                    "LISTAAR": "33",
                                    "(No column name)": "33"
                                },
                                {
                                    "TERMEKKOD": "06080416T",
                                    "MEGNEVEZES": "Vonalzó 60 fokos",
                                    "LISTAAR": "33",
                                    "(No column name)": "33"
                                },
                                {
                                    "TERMEKKOD": "07010138T",
                                    "MEGNEVEZES": "G.toll betét jumbo",
                                    "LISTAAR": "33",
                                    "(No column name)": "33,333333333333336"
                                },
                                {
                                    "TERMEKKOD": "06080116T",
                                    "MEGNEVEZES": "Füzet A5 1-8 osz.-ig",
                                    "LISTAAR": "34",
                                    "(No column name)": "33,666666666666664"
                                },
                                {
                                    "TERMEKKOD": "06040213T",
                                    "MEGNEVEZES": "Írólap 20-50 ",
                                    "LISTAAR": "34",
                                    "(No column name)": "34"
                                },
                                {
                                    "TERMEKKOD": "06010113T",
                                    "MEGNEVEZES": "Füzet 31-32 szótár",
                                    "LISTAAR": "34",
                                    "(No column name)": "34"
                                },
                                {
                                    "TERMEKKOD": "02040406T",
                                    "MEGNEVEZES": "Tűzőkapocs 24/6",
                                    "LISTAAR": "34",
                                    "(No column name)": "34,333333333333336"
                                },
                                {
                                    "TERMEKKOD": "02040178T",
                                    "MEGNEVEZES": "Gyorsfűző műa.",
                                    "LISTAAR": "35",
                                    "(No column name)": "34,666666666666664"
                                },
                                {
                                    "TERMEKKOD": "06010367T",
                                    "MEGNEVEZES": "Számolókorong",
                                    "LISTAAR": "35",
                                    "(No column name)": "35"
                                },
                                {
                                    "TERMEKKOD": "07080063T",
                                    "MEGNEVEZES": "Ceruza szorzótáblás",
                                    "LISTAAR": "35",
                                    "(No column name)": "35,333333333333336"
                                },
                                {
                                    "TERMEKKOD": "07050463T",
                                    "MEGNEVEZES": "Ceruzafogó",
                                    "LISTAAR": "36",
                                    "(No column name)": "35,666666666666664"
                                },
                                {
                                    "TERMEKKOD": "07040216T",
                                    "MEGNEVEZES": "Ironbél B 0,5",
                                    "LISTAAR": "36",
                                    "(No column name)": "36"
                                },
                                {
                                    "TERMEKKOD": "06040327T",
                                    "MEGNEVEZES": "Radír Koh-i-nor 40",
                                    "LISTAAR": "36",
                                    "(No column name)": "36"
                                },
                                {
                                    "TERMEKKOD": "06040323T",
                                    "MEGNEVEZES": "Post-it 51×38 100 lapos",
                                    "LISTAAR": "36",
                                    "(No column name)": "36"
                                },
                                {
                                    "TERMEKKOD": "07040060T",
                                    "MEGNEVEZES": "Ceruza stabilo swano",
                                    "LISTAAR": "36",
                                    "(No column name)": "36"
                                },
                                {
                                    "TERMEKKOD": "06010365T",
                                    "MEGNEVEZES": "Számegyenes",
                                    "LISTAAR": "36",
                                    "(No column name)": "36"
                                },
                                {
                                    "TERMEKKOD": "06010201T",
                                    "MEGNEVEZES": "Hőmérő, műa.",
                                    "LISTAAR": "36",
                                    "(No column name)": "36"
                                },
                                {
                                    "TERMEKKOD": "06010086T",
                                    "MEGNEVEZES": "Ecset Nebulo 4-es",
                                    "LISTAAR": "36",
                                    "(No column name)": "36"
                                },
                                {
                                    "TERMEKKOD": "04050255T",
                                    "MEGNEVEZES": "Kulcstartó mesefigurás",
                                    "LISTAAR": "36",
                                    "(No column name)": "36"
                                },
                                {
                                    "TERMEKKOD": "04030237T",
                                    "MEGNEVEZES": "Képeslap kerek",
                                    "LISTAAR": "36",
                                    "(No column name)": "36,666666666666664"
                                },
                                {
                                    "TERMEKKOD": "01080513T",
                                    "MEGNEVEZES": "Selyemfényű karton A/4",
                                    "LISTAAR": "38",
                                    "(No column name)": "37,666666666666664"
                                },
                                {
                                    "TERMEKKOD": "02030043T",
                                    "MEGNEVEZES": "Boríték légp. kicsi",
                                    "LISTAAR": "39",
                                    "(No column name)": "38,666666666666664"
                                },
                                {
                                    "TERMEKKOD": "07040051T",
                                    "MEGNEVEZES": "Ceruza háromszög ",
                                    "LISTAAR": "39",
                                    "(No column name)": "39"
                                },
                                {
                                    "TERMEKKOD": "07040047T",
                                    "MEGNEVEZES": "Ceruza 2H-4B",
                                    "LISTAAR": "39",
                                    "(No column name)": "39"
                                },
                                {
                                    "TERMEKKOD": "07040133T",
                                    "MEGNEVEZES": "G.toll betét görbe hegyű",
                                    "LISTAAR": "39",
                                    "(No column name)": "39,333333333333336"
                                },
                                {
                                    "TERMEKKOD": "07080064T",
                                    "MEGNEVEZES": "Ceruza zöld színű",
                                    "LISTAAR": "40",
                                    "(No column name)": "39,666666666666664"
                                },
                                {
                                    "TERMEKKOD": "07040049T",
                                    "MEGNEVEZES": "Ceruza Conté zöld",
                                    "LISTAAR": "40",
                                    "(No column name)": "40"
                                },
                                {
                                    "TERMEKKOD": "07040056T",
                                    "MEGNEVEZES": "Ceruza piros-kék vékony",
                                    "LISTAAR": "40",
                                    "(No column name)": "40"
                                },
                                {
                                    "TERMEKKOD": "06040325T",
                                    "MEGNEVEZES": "Radír gyümölcsös",
                                    "LISTAAR": "40",
                                    "(No column name)": "40"
                                },
                                {
                                    "TERMEKKOD": "01100509T",
                                    "MEGNEVEZES": "Márványos A/4",
                                    "LISTAAR": "40",
                                    "(No column name)": "40"
                                },
                                {
                                    "TERMEKKOD": "02040507T",
                                    "MEGNEVEZES": "Fólia tasakos A4 80 mik.",
                                    "LISTAAR": "40",
                                    "(No column name)": "40"
                                },
                                {
                                    "TERMEKKOD": "03050459T",
                                    "MEGNEVEZES": "Talpas tasak",
                                    "LISTAAR": "40",
                                    "(No column name)": "40"
                                },
                                {
                                    "TERMEKKOD": "06010082T",
                                    "MEGNEVEZES": "Ecset Centrum 10,11,12",
                                    "LISTAAR": "40",
                                    "(No column name)": "40"
                                },
                                {
                                    "TERMEKKOD": "05050465T",
                                    "MEGNEVEZES": "Tapétavágó kés",
                                    "LISTAAR": "40",
                                    "(No column name)": "40,333333333333336"
                                },
                                {
                                    "TERMEKKOD": "07080153T",
                                    "MEGNEVEZES": "Golyóstoll illatos ICO",
                                    "LISTAAR": "41",
                                    "(No column name)": "41,333333333333336"
                                },
                                {
                                    "TERMEKKOD": "06010373T",
                                    "MEGNEVEZES": "Színes papír I.II-IV.V-VIII-ig",
                                    "LISTAAR": "43",
                                    "(No column name)": "42,666666666666664"
                                },
                                {
                                    "TERMEKKOD": "04030241T",
                                    "MEGNEVEZES": "Képeslap virágos +boríték",
                                    "LISTAAR": "44",
                                    "(No column name)": "43,666666666666664"
                                },
                                {
                                    "TERMEKKOD": "03080020T",
                                    "MEGNEVEZES": "Ajándék csom. nagy  ",
                                    "LISTAAR": "44",
                                    "(No column name)": "44"
                                },
                                {
                                    "TERMEKKOD": "04030286T",
                                    "MEGNEVEZES": "Műanyag állatok",
                                    "LISTAAR": "44",
                                    "(No column name)": "44"
                                },
                                {
                                    "TERMEKKOD": "04050075T",
                                    "MEGNEVEZES": "Díszdoboz tollnak 2 db-os keskeny",
                                    "LISTAAR": "44",
                                    "(No column name)": "44"
                                },
                                {
                                    "TERMEKKOD": "03050077T",
                                    "MEGNEVEZES": "Diszkötöző szalag arany",
                                    "LISTAAR": "44",
                                    "(No column name)": "44"
                                },
                                {
                                    "TERMEKKOD": "02080450T",
                                    "MEGNEVEZES": "Gémkapocs 28-as színes",
                                    "LISTAAR": "44",
                                    "(No column name)": "44"
                                },
                                {
                                    "TERMEKKOD": "02040508T",
                                    "MEGNEVEZES": "Fólia tasakos A4100 mik.",
                                    "LISTAAR": "44",
                                    "(No column name)": "44"
                                },
                                {
                                    "TERMEKKOD": "02040506T",
                                    "MEGNEVEZES": "Fólia tasakos A4 125 mik.",
                                    "LISTAAR": "44",
                                    "(No column name)": "44"
                                },
                                {
                                    "TERMEKKOD": "02040405T",
                                    "MEGNEVEZES": "Tűzőkapocs 10-es",
                                    "LISTAAR": "44",
                                    "(No column name)": "44"
                                },
                                {
                                    "TERMEKKOD": "02040298T",
                                    "MEGNEVEZES": "Notesz mintás",
                                    "LISTAAR": "44",
                                    "(No column name)": "44"
                                },
                                {
                                    "TERMEKKOD": "02040209T",
                                    "MEGNEVEZES": "Iratsín fehér",
                                    "LISTAAR": "44",
                                    "(No column name)": "44"
                                },
                                {
                                    "TERMEKKOD": "07040134T",
                                    "MEGNEVEZES": "G.toll betét illatos",
                                    "LISTAAR": "44",
                                    "(No column name)": "44"
                                },
                                {
                                    "TERMEKKOD": "07080161T",
                                    "MEGNEVEZES": "Golyóstoll kétszínű",
                                    "LISTAAR": "44",
                                    "(No column name)": "44"
                                },
                                {
                                    "TERMEKKOD": "06040328T",
                                    "MEGNEVEZES": "Radír Maped",
                                    "LISTAAR": "44",
                                    "(No column name)": "44"
                                },
                                {
                                    "TERMEKKOD": "06040329T",
                                    "MEGNEVEZES": "Radír stabilo",
                                    "LISTAAR": "44",
                                    "(No column name)": "44"
                                },
                                {
                                    "TERMEKKOD": "07040061T",
                                    "MEGNEVEZES": "Ceruza stabilo opera",
                                    "LISTAAR": "44",
                                    "(No column name)": "44,333333333333336"
                                },
                                {
                                    "TERMEKKOD": "02080514T",
                                    "MEGNEVEZES": "Spirál 1/4 ",
                                    "LISTAAR": "45",
                                    "(No column name)": "44,666666666666664"
                                },
                                {
                                    "TERMEKKOD": "06010374T",
                                    "MEGNEVEZES": "Szorzótábla műanyag",
                                    "LISTAAR": "45",
                                    "(No column name)": "45,333333333333336"
                                },
                                {
                                    "TERMEKKOD": "05050045T",
                                    "MEGNEVEZES": "Celofán",
                                    "LISTAAR": "46",
                                    "(No column name)": "45,666666666666664"
                                },
                                {
                                    "TERMEKKOD": "07040102T",
                                    "MEGNEVEZES": "Filctoll supra fine",
                                    "LISTAAR": "46",
                                    "(No column name)": "46,666666666666664"
                                },
                                {
                                    "TERMEKKOD": "07010137T",
                                    "MEGNEVEZES": "G.toll betét PAX tip.",
                                    "LISTAAR": "48",
                                    "(No column name)": "47,333333333333336"
                                },
                                {
                                    "TERMEKKOD": "06040386T",
                                    "MEGNEVEZES": "Tempera szóló színes",
                                    "LISTAAR": "48",
                                    "(No column name)": "48"
                                },
                                {
                                    "TERMEKKOD": "06010115T",
                                    "MEGNEVEZES": "Füzet A/5, mintás",
                                    "LISTAAR": "48",
                                    "(No column name)": "48"
                                },
                                {
                                    "TERMEKKOD": "04050224T",
                                    "MEGNEVEZES": "Jelzőkréta",
                                    "LISTAAR": "48",
                                    "(No column name)": "48"
                                },
                                {
                                    "TERMEKKOD": "04030239T",
                                    "MEGNEVEZES": "Képeslap stancolt szív",
                                    "LISTAAR": "48",
                                    "(No column name)": "48"
                                },
                                {
                                    "TERMEKKOD": "02040146T",
                                    "MEGNEVEZES": "Gemkapocs ICO",
                                    "LISTAAR": "48",
                                    "(No column name)": "48"
                                },
                                {
                                    "TERMEKKOD": "01020299T",
                                    "MEGNEVEZES": "Oklevél A/4 egyszínű",
                                    "LISTAAR": "48",
                                    "(No column name)": "48,333333333333336"
                                },
                                {
                                    "TERMEKKOD": "04110274T",
                                    "MEGNEVEZES": "Matrica autóra H",
                                    "LISTAAR": "49",
                                    "(No column name)": "48,666666666666664"
                                },
                                {
                                    "TERMEKKOD": "04110275T",
                                    "MEGNEVEZES": "Matrica motoros kicsi",
                                    "LISTAAR": "49",
                                    "(No column name)": "49"
                                },
                                {
                                    "TERMEKKOD": "06040331T",
                                    "MEGNEVEZES": "Radír Tikky 40 ",
                                    "LISTAAR": "49",
                                    "(No column name)": "49,333333333333336"
                                },
                                {
                                    "TERMEKKOD": "06040330T",
                                    "MEGNEVEZES": "Radír Tikky 30 ",
                                    "LISTAAR": "50",
                                    "(No column name)": "50"
                                },
                                {
                                    "TERMEKKOD": "07080150T",
                                    "MEGNEVEZES": "Golyóstoll",
                                    "LISTAAR": "51",
                                    "(No column name)": "50,666666666666664"
                                },
                                {
                                    "TERMEKKOD": "04110232T",
                                    "MEGNEVEZES": "Képeslap humoros kaparós",
                                    "LISTAAR": "51",
                                    "(No column name)": "51"
                                },
                                {
                                    "TERMEKKOD": "06040088T",
                                    "MEGNEVEZES": "Egészségügyi könyv",
                                    "LISTAAR": "51",
                                    "(No column name)": "51"
                                },
                                {
                                    "TERMEKKOD": "02080109T",
                                    "MEGNEVEZES": "Floppy lemez",
                                    "LISTAAR": "51",
                                    "(No column name)": "51,666666666666664"
                                },
                                {
                                    "TERMEKKOD": "07030103T",
                                    "MEGNEVEZES": "Filctoll TINTEN PEN",
                                    "LISTAAR": "53",
                                    "(No column name)": "52,333333333333336"
                                },
                                {
                                    "TERMEKKOD": "07040052T",
                                    "MEGNEVEZES": "Ceruza 2H-3B Koh-i-nor",
                                    "LISTAAR": "53",
                                    "(No column name)": "53,666666666666664"
                                },
                                {
                                    "TERMEKKOD": "07040054T",
                                    "MEGNEVEZES": "Ceruza kártyás",
                                    "LISTAAR": "55",
                                    "(No column name)": "54,333333333333336"
                                },
                                {
                                    "TERMEKKOD": "07040048T",
                                    "MEGNEVEZES": "Ceruza arany, ezüst",
                                    "LISTAAR": "55",
                                    "(No column name)": "55"
                                },
                                {
                                    "TERMEKKOD": "07040132T",
                                    "MEGNEVEZES": "G.toll betét csavaros",
                                    "LISTAAR": "55",
                                    "(No column name)": "55"
                                },
                                {
                                    "TERMEKKOD": "07040128T",
                                    "MEGNEVEZES": "G. toll betét mini fém",
                                    "LISTAAR": "55",
                                    "(No column name)": "55"
                                },
                                {
                                    "TERMEKKOD": "02080433T",
                                    "MEGNEVEZES": "Ragasztószalag 19 mm-es",
                                    "LISTAAR": "55",
                                    "(No column name)": "55"
                                },
                                {
                                    "TERMEKKOD": "01020300T",
                                    "MEGNEVEZES": "Oklevél A/4 színes",
                                    "LISTAAR": "55",
                                    "(No column name)": "55"
                                },
                                {
                                    "TERMEKKOD": "04110230T",
                                    "MEGNEVEZES": "Képeslap humoros ",
                                    "LISTAAR": "55",
                                    "(No column name)": "55"
                                },
                                {
                                    "TERMEKKOD": "04110273T",
                                    "MEGNEVEZES": "Matrica állatos",
                                    "LISTAAR": "55",
                                    "(No column name)": "55,333333333333336"
                                },
                                {
                                    "TERMEKKOD": "04110282T",
                                    "MEGNEVEZES": "Matrica WD kicsi",
                                    "LISTAAR": "56",
                                    "(No column name)": "55,666666666666664"
                                },
                                {
                                    "TERMEKKOD": "04030262T",
                                    "MEGNEVEZES": "Levélpapír sima",
                                    "LISTAAR": "56",
                                    "(No column name)": "56"
                                },
                                {
                                    "TERMEKKOD": "03080019T",
                                    "MEGNEVEZES": "Ajándék csom. Krepp",
                                    "LISTAAR": "56",
                                    "(No column name)": "56"
                                },
                                {
                                    "TERMEKKOD": "02040296T",
                                    "MEGNEVEZES": "Notesz A/6 College",
                                    "LISTAAR": "56",
                                    "(No column name)": "56,666666666666664"
                                },
                                {
                                    "TERMEKKOD": "07040059T",
                                    "MEGNEVEZES": "Ceruza smaragd",
                                    "LISTAAR": "58",
                                    "(No column name)": "57,333333333333336"
                                },
                                {
                                    "TERMEKKOD": "06080411T",
                                    "MEGNEVEZES": "Vonalzó 15 cm-es ESSELTE",
                                    "LISTAAR": "58",
                                    "(No column name)": "58"
                                },
                                {
                                    "TERMEKKOD": "06040384T",
                                    "MEGNEVEZES": "Technika cs. I-II-III-IV",
                                    "LISTAAR": "58",
                                    "(No column name)": "58,333333333333336"
                                },
                                {
                                    "TERMEKKOD": "07040055T",
                                    "MEGNEVEZES": "Ceruza piros-kék",
                                    "LISTAAR": "59",
                                    "(No column name)": "58,666666666666664"
                                },
                                {
                                    "TERMEKKOD": "07040217T",
                                    "MEGNEVEZES": "Ironbél H 0,5",
                                    "LISTAAR": "59",
                                    "(No column name)": "59"
                                },
                                {
                                    "TERMEKKOD": "07080313T",
                                    "MEGNEVEZES": "Pixiron Centrum",
                                    "LISTAAR": "59",
                                    "(No column name)": "59"
                                },
                                {
                                    "TERMEKKOD": "07080317T",
                                    "MEGNEVEZES": "Pixiron mini ",
                                    "LISTAAR": "59",
                                    "(No column name)": "59"
                                },
                                {
                                    "TERMEKKOD": "01010304T",
                                    "MEGNEVEZES": "Öntapadós hologramos papír A/4",
                                    "LISTAAR": "59",
                                    "(No column name)": "59"
                                },
                                {
                                    "TERMEKKOD": "01030092T",
                                    "MEGNEVEZES": "Esküvői meghívó",
                                    "LISTAAR": "59",
                                    "(No column name)": "59"
                                },
                                {
                                    "TERMEKKOD": "02040214T",
                                    "MEGNEVEZES": "Iromány fedél feles",
                                    "LISTAAR": "59",
                                    "(No column name)": "59"
                                },
                                {
                                    "TERMEKKOD": "04030238T",
                                    "MEGNEVEZES": "Képeslap stancolt",
                                    "LISTAAR": "59",
                                    "(No column name)": "59,333333333333336"
                                },
                                {
                                    "TERMEKKOD": "06010084T",
                                    "MEGNEVEZES": "Ecset Deák 2-es",
                                    "LISTAAR": "60",
                                    "(No column name)": "60"
                                },
                                {
                                    "TERMEKKOD": "06010368T",
                                    "MEGNEVEZES": "Számolópálca",
                                    "LISTAAR": "61",
                                    "(No column name)": "60,666666666666664"
                                },
                                {
                                    "TERMEKKOD": "04050073T",
                                    "MEGNEVEZES": "Díszdoboz kar.",
                                    "LISTAAR": "61",
                                    "(No column name)": "61,666666666666664"
                                },
                                {
                                    "TERMEKKOD": "05040349T",
                                    "MEGNEVEZES": "Rajzszeg",
                                    "LISTAAR": "63",
                                    "(No column name)": "62,333333333333336"
                                },
                                {
                                    "TERMEKKOD": "02040148T",
                                    "MEGNEVEZES": "Genotherm lefűzhető A4 10db-os",
                                    "LISTAAR": "63",
                                    "(No column name)": "63"
                                },
                                {
                                    "TERMEKKOD": "03010344T",
                                    "MEGNEVEZES": "Ragasztószalag nagy 12 mm",
                                    "LISTAAR": "63",
                                    "(No column name)": "63"
                                },
                                {
                                    "TERMEKKOD": "07080159T",
                                    "MEGNEVEZES": "Golyóstoll Pax tip.",
                                    "LISTAAR": "63",
                                    "(No column name)": "63"
                                },
                                {
                                    "TERMEKKOD": "06080429T",
                                    "MEGNEVEZES": "Meghívó ballagási",
                                    "LISTAAR": "63",
                                    "(No column name)": "63,333333333333336"
                                },
                                {
                                    "TERMEKKOD": "03080013T",
                                    "MEGNEVEZES": "Ajándék csom. 50x70 húsvéti",
                                    "LISTAAR": "64",
                                    "(No column name)": "64"
                                },
                                {
                                    "TERMEKKOD": "06010085T",
                                    "MEGNEVEZES": "Ecset Lizzy 10-es",
                                    "LISTAAR": "65",
                                    "(No column name)": "64,66666666666667"
                                },
                                {
                                    "TERMEKKOD": "04050220T",
                                    "MEGNEVEZES": "Játék autó",
                                    "LISTAAR": "65",
                                    "(No column name)": "65,33333333333333"
                                },
                                {
                                    "TERMEKKOD": "04050074T",
                                    "MEGNEVEZES": "Díszdoboz tollnak 2 db-os",
                                    "LISTAAR": "66",
                                    "(No column name)": "65,66666666666667"
                                },
                                {
                                    "TERMEKKOD": "04050187T",
                                    "MEGNEVEZES": "Hajgumi macis",
                                    "LISTAAR": "66",
                                    "(No column name)": "66"
                                },
                                {
                                    "TERMEKKOD": "02080436T",
                                    "MEGNEVEZES": "Irattartó müa. boríték A/4",
                                    "LISTAAR": "66",
                                    "(No column name)": "66"
                                },
                                {
                                    "TERMEKKOD": "07080419T",
                                    "MEGNEVEZES": "Zselés toll MICRO",
                                    "LISTAAR": "66",
                                    "(No column name)": "66,66666666666667"
                                },
                                {
                                    "TERMEKKOD": "06010111T",
                                    "MEGNEVEZES": "Füzet  A/4 ",
                                    "LISTAAR": "68",
                                    "(No column name)": "68"
                                },
                                {
                                    "TERMEKKOD": "06080192T",
                                    "MEGNEVEZES": "Hegyző fém 1 lyukú",
                                    "LISTAAR": "70",
                                    "(No column name)": "70,33333333333333"
                                },
                                {
                                    "TERMEKKOD": "06050249T",
                                    "MEGNEVEZES": "Krepp papír",
                                    "LISTAAR": "73",
                                    "(No column name)": "72"
                                },
                                {
                                    "TERMEKKOD": "05050046T",
                                    "MEGNEVEZES": "Celofán 50 db-os",
                                    "LISTAAR": "73",
                                    "(No column name)": "73"
                                },
                                {
                                    "TERMEKKOD": "04110258T",
                                    "MEGNEVEZES": "Lampion",
                                    "LISTAAR": "73",
                                    "(No column name)": "73"
                                },
                                {
                                    "TERMEKKOD": "04050223T",
                                    "MEGNEVEZES": "Játékautó mini",
                                    "LISTAAR": "73",
                                    "(No column name)": "73"
                                },
                                {
                                    "TERMEKKOD": "04030235T",
                                    "MEGNEVEZES": "Képeslap karácsonyi borítékos",
                                    "LISTAAR": "73",
                                    "(No column name)": "73"
                                },
                                {
                                    "TERMEKKOD": "01100070T",
                                    "MEGNEVEZES": "Dekorációs karton",
                                    "LISTAAR": "73",
                                    "(No column name)": "73,33333333333333"
                                },
                                {
                                    "TERMEKKOD": "04030264T",
                                    "MEGNEVEZES": "Levélpapír szett ",
                                    "LISTAAR": "74",
                                    "(No column name)": "73,66666666666667"
                                },
                                {
                                    "TERMEKKOD": "06080332T",
                                    "MEGNEVEZES": "Radírtoll betét ER100",
                                    "LISTAAR": "74",
                                    "(No column name)": "74"
                                },
                                {
                                    "TERMEKKOD": "06080430T",
                                    "MEGNEVEZES": "Öntapadős betűk",
                                    "LISTAAR": "74",
                                    "(No column name)": "74"
                                },
                                {
                                    "TERMEKKOD": "07010244T",
                                    "MEGNEVEZES": "Kerámiatoll",
                                    "LISTAAR": "74",
                                    "(No column name)": "74"
                                },
                                {
                                    "TERMEKKOD": "07040215T",
                                    "MEGNEVEZES": "Ironbél  2B ICO",
                                    "LISTAAR": "74",
                                    "(No column name)": "74,66666666666667"
                                },
                                {
                                    "TERMEKKOD": "07030104T",
                                    "MEGNEVEZES": "Filctoll vastag ARTIP",
                                    "LISTAAR": "76",
                                    "(No column name)": "76"
                                },
                                {
                                    "TERMEKKOD": "07010143T",
                                    "MEGNEVEZES": "G.toll betét Zebra H-0,7",
                                    "LISTAAR": "78",
                                    "(No column name)": "77,33333333333333"
                                },
                                {
                                    "TERMEKKOD": "06040380T",
                                    "MEGNEVEZES": "Szövegkiemelő",
                                    "LISTAAR": "78",
                                    "(No column name)": "78"
                                },
                                {
                                    "TERMEKKOD": "07040219T",
                                    "MEGNEVEZES": "Ironbél HI-POLIMER HB 0,7",
                                    "LISTAAR": "78",
                                    "(No column name)": "78"
                                },
                                {
                                    "TERMEKKOD": "06010112T",
                                    "MEGNEVEZES": "Füzet  A4 mintás",
                                    "LISTAAR": "78",
                                    "(No column name)": "78"
                                },
                                {
                                    "TERMEKKOD": "02040292T",
                                    "MEGNEVEZES": "Naptárhát nagy",
                                    "LISTAAR": "78",
                                    "(No column name)": "78,33333333333333"
                                },
                                {
                                    "TERMEKKOD": "06040087T",
                                    "MEGNEVEZES": "Ecset Nebuló 10-es",
                                    "LISTAAR": "79",
                                    "(No column name)": "79"
                                },
                                {
                                    "TERMEKKOD": "07040130T",
                                    "MEGNEVEZES": "G. toll betét S7S",
                                    "LISTAAR": "80",
                                    "(No column name)": "79,66666666666667"
                                },
                                {
                                    "TERMEKKOD": "07040391T",
                                    "MEGNEVEZES": "Toll Centropen roller",
                                    "LISTAAR": "80",
                                    "(No column name)": "80,33333333333333"
                                },
                                {
                                    "TERMEKKOD": "07080466T",
                                    "MEGNEVEZES": "Golyóstoll Stabiló 308",
                                    "LISTAAR": "81",
                                    "(No column name)": "80,66666666666667"
                                },
                                {
                                    "TERMEKKOD": "06080336T",
                                    "MEGNEVEZES": "Ragasztó 8 g Pritt",
                                    "LISTAAR": "81",
                                    "(No column name)": "81"
                                },
                                {
                                    "TERMEKKOD": "04110231T",
                                    "MEGNEVEZES": "Képeslap humoros borítékos",
                                    "LISTAAR": "81",
                                    "(No column name)": "81"
                                },
                                {
                                    "TERMEKKOD": "04040387T",
                                    "MEGNEVEZES": "Tenisz labda",
                                    "LISTAAR": "81",
                                    "(No column name)": "81"
                                },
                                {
                                    "TERMEKKOD": "02040197T",
                                    "MEGNEVEZES": "Hibajavító lap ",
                                    "LISTAAR": "81",
                                    "(No column name)": "81"
                                },
                                {
                                    "TERMEKKOD": "02040206T",
                                    "MEGNEVEZES": "Írásvetítő fólia",
                                    "LISTAAR": "81",
                                    "(No column name)": "81"
                                },
                                {
                                    "TERMEKKOD": "03050080T",
                                    "MEGNEVEZES": "Diszkötöző széles szalag",
                                    "LISTAAR": "81",
                                    "(No column name)": "81"
                                },
                                {
                                    "TERMEKKOD": "03080014T",
                                    "MEGNEVEZES": "Ajándék csom. 70x50 metál",
                                    "LISTAAR": "81",
                                    "(No column name)": "81"
                                },
                                {
                                    "TERMEKKOD": "02040308T",
                                    "MEGNEVEZES": "Pénztárgépsz. 2 pl. nem öníró",
                                    "LISTAAR": "81",
                                    "(No column name)": "82,33333333333333"
                                },
                                {
                                    "TERMEKKOD": "07040131T",
                                    "MEGNEVEZES": "G. toll betét UNI lachnok Fine SA-7C",
                                    "LISTAAR": "85",
                                    "(No column name)": "85"
                                },
                                {
                                    "TERMEKKOD": "06080339T",
                                    "MEGNEVEZES": "Ragasztó kores",
                                    "LISTAAR": "89",
                                    "(No column name)": "87,66666666666667"
                                },
                                {
                                    "TERMEKKOD": "07010144T",
                                    "MEGNEVEZES": "G.toll betét Zebra K-0,7",
                                    "LISTAAR": "89",
                                    "(No column name)": "89"
                                },
                                {
                                    "TERMEKKOD": "06040357T",
                                    "MEGNEVEZES": "Sp.Füzet A/5 70-es",
                                    "LISTAAR": "89",
                                    "(No column name)": "89"
                                },
                                {
                                    "TERMEKKOD": "06040378T",
                                    "MEGNEVEZES": "Szövegkiemelő vékony",
                                    "LISTAAR": "89",
                                    "(No column name)": "89"
                                },
                                {
                                    "TERMEKKOD": "06040324T",
                                    "MEGNEVEZES": "Post-it 75×75 100 lapos",
                                    "LISTAAR": "89",
                                    "(No column name)": "89"
                                },
                                {
                                    "TERMEKKOD": "02040295T",
                                    "MEGNEVEZES": "Notesz A/5 sima spirál",
                                    "LISTAAR": "89",
                                    "(No column name)": "89"
                                },
                                {
                                    "TERMEKKOD": "02080456T",
                                    "MEGNEVEZES": "Genoterm HERLITZ 10-es",
                                    "LISTAAR": "89",
                                    "(No column name)": "89"
                                },
                                {
                                    "TERMEKKOD": "02040290T",
                                    "MEGNEVEZES": "Naptár 24-es",
                                    "LISTAAR": "89",
                                    "(No column name)": "89"
                                },
                                {
                                    "TERMEKKOD": "02040210T",
                                    "MEGNEVEZES": "Iratsín kék",
                                    "LISTAAR": "89",
                                    "(No column name)": "89"
                                },
                                {
                                    "TERMEKKOD": "01100071T",
                                    "MEGNEVEZES": "Dekorációs karton arany, ezüst",
                                    "LISTAAR": "89",
                                    "(No column name)": "89"
                                },
                                {
                                    "TERMEKKOD": "04050022T",
                                    "MEGNEVEZES": "Álarc",
                                    "LISTAAR": "89",
                                    "(No column name)": "89"
                                },
                                {
                                    "TERMEKKOD": "04030263T",
                                    "MEGNEVEZES": "Levélpapír szett",
                                    "LISTAAR": "89",
                                    "(No column name)": "89"
                                },
                                {
                                    "TERMEKKOD": "04110233T",
                                    "MEGNEVEZES": "Képeslap humoros",
                                    "LISTAAR": "89",
                                    "(No column name)": "89"
                                },
                                {
                                    "TERMEKKOD": "05010370T",
                                    "MEGNEVEZES": "Szilvia csomagoló",
                                    "LISTAAR": "89",
                                    "(No column name)": "89"
                                },
                                {
                                    "TERMEKKOD": "05050346T",
                                    "MEGNEVEZES": "Rágógumi Orbit",
                                    "LISTAAR": "89",
                                    "(No column name)": "89,66666666666667"
                                },
                                {
                                    "TERMEKKOD": "07010139T",
                                    "MEGNEVEZES": "G.toll betét S7L ",
                                    "LISTAAR": "91",
                                    "(No column name)": "91"
                                },
                                {
                                    "TERMEKKOD": "06040379T",
                                    "MEGNEVEZES": "Szövegkiemelő ",
                                    "LISTAAR": "93",
                                    "(No column name)": "92,33333333333333"
                                },
                                {
                                    "TERMEKKOD": "07080157T",
                                    "MEGNEVEZES": "Golyóstoll Montex Hytone",
                                    "LISTAAR": "93",
                                    "(No column name)": "93"
                                },
                                {
                                    "TERMEKKOD": "04110277T",
                                    "MEGNEVEZES": "Matrica Stickers szíves",
                                    "LISTAAR": "93",
                                    "(No column name)": "93"
                                },
                                {
                                    "TERMEKKOD": "02040309T",
                                    "MEGNEVEZES": "Pénztárgépszalag 2pl SC 57.5/60",
                                    "LISTAAR": "93",
                                    "(No column name)": "93,33333333333333"
                                },
                                {
                                    "TERMEKKOD": "07080315T",
                                    "MEGNEVEZES": "Pixiron Handy műanyag",
                                    "LISTAAR": "94",
                                    "(No column name)": "93,66666666666667"
                                },
                                {
                                    "TERMEKKOD": "07040169T",
                                    "MEGNEVEZES": "Golyóstoll Zodiák",
                                    "LISTAAR": "94",
                                    "(No column name)": "94,33333333333333"
                                },
                                {
                                    "TERMEKKOD": "07080418T",
                                    "MEGNEVEZES": "Zselés toll ",
                                    "LISTAAR": "95",
                                    "(No column name)": "94,66666666666667"
                                },
                                {
                                    "TERMEKKOD": "06040183T",
                                    "MEGNEVEZES": "Gyűrűskönyv bet. A/5",
                                    "LISTAAR": "95",
                                    "(No column name)": "95,33333333333333"
                                },
                                {
                                    "TERMEKKOD": "06040385T",
                                    "MEGNEVEZES": "Tempera szóló ezüst",
                                    "LISTAAR": "96",
                                    "(No column name)": "96,66666666666667"
                                },
                                {
                                    "TERMEKKOD": "07010371T",
                                    "MEGNEVEZES": "Színes ceruza 6-os",
                                    "LISTAAR": "99",
                                    "(No column name)": "98,66666666666667"
                                },
                                {
                                    "TERMEKKOD": "06080338T",
                                    "MEGNEVEZES": "Ragasztó kenőfejes Nebuló",
                                    "LISTAAR": "101",
                                    "(No column name)": "100,33333333333333"
                                },
                                {
                                    "TERMEKKOD": "07080162T",
                                    "MEGNEVEZES": "Golyóstoll Stabilo piros",
                                    "LISTAAR": "101",
                                    "(No column name)": "101,66666666666667"
                                },
                                {
                                    "TERMEKKOD": "07030106T",
                                    "MEGNEVEZES": "Filctoll, alkoholosOHP F-M-C",
                                    "LISTAAR": "103",
                                    "(No column name)": "102,33333333333333"
                                },
                                {
                                    "TERMEKKOD": "06040381T",
                                    "MEGNEVEZES": "Szövegkiemelő Videotip",
                                    "LISTAAR": "103",
                                    "(No column name)": "103"
                                },
                                {
                                    "TERMEKKOD": "06040352T",
                                    "MEGNEVEZES": "Rovatolt papír 20 íves",
                                    "LISTAAR": "103",
                                    "(No column name)": "103"
                                },
                                {
                                    "TERMEKKOD": "02040294T",
                                    "MEGNEVEZES": "Notesz A/5 sima",
                                    "LISTAAR": "103",
                                    "(No column name)": "103"
                                },
                                {
                                    "TERMEKKOD": "02040297T",
                                    "MEGNEVEZES": "Notesz sima spirál College",
                                    "LISTAAR": "103",
                                    "(No column name)": "103"
                                },
                                {
                                    "TERMEKKOD": "02080449T",
                                    "MEGNEVEZES": "Térképtű színes",
                                    "LISTAAR": "103",
                                    "(No column name)": "103"
                                },
                                {
                                    "TERMEKKOD": "02080451T",
                                    "MEGNEVEZES": "Gémkapocs 50-es",
                                    "LISTAAR": "103",
                                    "(No column name)": "103"
                                },
                                {
                                    "TERMEKKOD": "03080008T",
                                    "MEGNEVEZES": "Ajándék cs. tasak kicsi",
                                    "LISTAAR": "103",
                                    "(No column name)": "103"
                                },
                                {
                                    "TERMEKKOD": "02020245T",
                                    "MEGNEVEZES": "Kiadási pénztárbizonylat 2×25",
                                    "LISTAAR": "103",
                                    "(No column name)": "103"
                                },
                                {
                                    "TERMEKKOD": "05040310T",
                                    "MEGNEVEZES": "Pill.ragasztó",
                                    "LISTAAR": "103",
                                    "(No column name)": "103"
                                },
                                {
                                    "TERMEKKOD": "04030265T",
                                    "MEGNEVEZES": "Levélpapír szett natur, mintás",
                                    "LISTAAR": "103",
                                    "(No column name)": "103"
                                },
                                {
                                    "TERMEKKOD": "04050253T",
                                    "MEGNEVEZES": "Kulcstartó figurás",
                                    "LISTAAR": "103",
                                    "(No column name)": "104"
                                },
                                {
                                    "TERMEKKOD": "03080031T",
                                    "MEGNEVEZES": "Ajándék cs. húsvéti",
                                    "LISTAAR": "106",
                                    "(No column name)": "105"
                                },
                                {
                                    "TERMEKKOD": "05040348T",
                                    "MEGNEVEZES": "Rajzszeg színes",
                                    "LISTAAR": "106",
                                    "(No column name)": "106"
                                },
                                {
                                    "TERMEKKOD": "02010028T",
                                    "MEGNEVEZES": "Árazószalag ",
                                    "LISTAAR": "106",
                                    "(No column name)": "106"
                                },
                                {
                                    "TERMEKKOD": "02080226T",
                                    "MEGNEVEZES": "Kapocskiszedő",
                                    "LISTAAR": "106",
                                    "(No column name)": "106"
                                },
                                {
                                    "TERMEKKOD": "07040057T",
                                    "MEGNEVEZES": "Ceruza Progresso",
                                    "LISTAAR": "106",
                                    "(No column name)": "107"
                                },
                                {
                                    "TERMEKKOD": "04110276T",
                                    "MEGNEVEZES": "Matrica Stickers nagy állatos",
                                    "LISTAAR": "109",
                                    "(No column name)": "108,33333333333333"
                                },
                                {
                                    "TERMEKKOD": "04050171T",
                                    "MEGNEVEZES": "Gumilabda közepes",
                                    "LISTAAR": "110",
                                    "(No column name)": "109,66666666666667"
                                },
                                {
                                    "TERMEKKOD": "03080016T",
                                    "MEGNEVEZES": "házt.csom.  5 ív",
                                    "LISTAAR": "110",
                                    "(No column name)": "110"
                                },
                                {
                                    "TERMEKKOD": "02040149T",
                                    "MEGNEVEZES": "Genotherm A4 10db-os",
                                    "LISTAAR": "110",
                                    "(No column name)": "110"
                                },
                                {
                                    "TERMEKKOD": "06080335T",
                                    "MEGNEVEZES": "Ragasztó 9 g Pax",
                                    "LISTAAR": "110",
                                    "(No column name)": "110"
                                },
                                {
                                    "TERMEKKOD": "07080468T",
                                    "MEGNEVEZES": "Golyóstoll háromfunkciós",
                                    "LISTAAR": "110",
                                    "(No column name)": "111,33333333333333"
                                },
                                {
                                    "TERMEKKOD": "07030105T",
                                    "MEGNEVEZES": "Filctoll, alkoholos Centropen",
                                    "LISTAAR": "114",
                                    "(No column name)": "112,66666666666667"
                                },
                                {
                                    "TERMEKKOD": "03080439T",
                                    "MEGNEVEZES": "Italtartó doboz",
                                    "LISTAAR": "114",
                                    "(No column name)": "114,33333333333333"
                                },
                                {
                                    "TERMEKKOD": "04050250T",
                                    "MEGNEVEZES": "Kulcstartó autós",
                                    "LISTAAR": "115",
                                    "(No column name)": "114,66666666666667"
                                },
                                {
                                    "TERMEKKOD": "02020029T",
                                    "MEGNEVEZES": "Átírótömb A/6",
                                    "LISTAAR": "115",
                                    "(No column name)": "116"
                                },
                                {
                                    "TERMEKKOD": "04030242T",
                                    "MEGNEVEZES": "Képeslap WD +boríték",
                                    "LISTAAR": "118",
                                    "(No column name)": "117"
                                },
                                {
                                    "TERMEKKOD": "05010026T",
                                    "MEGNEVEZES": "Alufólia 10 m-es",
                                    "LISTAAR": "118",
                                    "(No column name)": "118"
                                },
                                {
                                    "TERMEKKOD": "05110360T",
                                    "MEGNEVEZES": "Szalvéta egyszínű",
                                    "LISTAAR": "118",
                                    "(No column name)": "118,33333333333333"
                                },
                                {
                                    "TERMEKKOD": "06080333T",
                                    "MEGNEVEZES": "Radírtoll betét vastag",
                                    "LISTAAR": "119",
                                    "(No column name)": "119,33333333333333"
                                },
                                {
                                    "TERMEKKOD": "06080441T",
                                    "MEGNEVEZES": "Gyurmakés",
                                    "LISTAAR": "121",
                                    "(No column name)": "120,33333333333333"
                                },
                                {
                                    "TERMEKKOD": "03080018T",
                                    "MEGNEVEZES": "Ajándék csom. gyűrt 50x70 ",
                                    "LISTAAR": "121",
                                    "(No column name)": "121,66666666666667"
                                },
                                {
                                    "TERMEKKOD": "07010136T",
                                    "MEGNEVEZES": "G.toll betét PAX",
                                    "LISTAAR": "123",
                                    "(No column name)": "122,66666666666667"
                                },
                                {
                                    "TERMEKKOD": "04050252T",
                                    "MEGNEVEZES": "Kulcstartó Csőrikés",
                                    "LISTAAR": "124",
                                    "(No column name)": "124"
                                },
                                {
                                    "TERMEKKOD": "03080012T",
                                    "MEGNEVEZES": "Ajándék csom. 200x70",
                                    "LISTAAR": "125",
                                    "(No column name)": "124,66666666666667"
                                },
                                {
                                    "TERMEKKOD": "06040399T",
                                    "MEGNEVEZES": "Tombola tömb",
                                    "LISTAAR": "125",
                                    "(No column name)": "125"
                                },
                                {
                                    "TERMEKKOD": "07080312T",
                                    "MEGNEVEZES": "Pixiron 0,7 Handy",
                                    "LISTAAR": "125",
                                    "(No column name)": "126,33333333333333"
                                },
                                {
                                    "TERMEKKOD": "04050256T",
                                    "MEGNEVEZES": "Kulcstartó nagyítós",
                                    "LISTAAR": "129",
                                    "(No column name)": "127,66666666666667"
                                },
                                {
                                    "TERMEKKOD": "04050267T",
                                    "MEGNEVEZES": "Logikai készlet",
                                    "LISTAAR": "129",
                                    "(No column name)": "129"
                                },
                                {
                                    "TERMEKKOD": "05010369T",
                                    "MEGNEVEZES": "Szemetes zsák 60 literes",
                                    "LISTAAR": "129",
                                    "(No column name)": "129,66666666666666"
                                },
                                {
                                    "TERMEKKOD": "04050225T",
                                    "MEGNEVEZES": "Kártya mini Magyar",
                                    "LISTAAR": "131",
                                    "(No column name)": "131"
                                },
                                {
                                    "TERMEKKOD": "04050221T",
                                    "MEGNEVEZES": "Játékautó Blisteres",
                                    "LISTAAR": "133",
                                    "(No column name)": "132,33333333333334"
                                },
                                {
                                    "TERMEKKOD": "05110363T",
                                    "MEGNEVEZES": "Szalvéta dekor",
                                    "LISTAAR": "133",
                                    "(No column name)": "133"
                                },
                                {
                                    "TERMEKKOD": "02080081T",
                                    "MEGNEVEZES": "Dvd",
                                    "LISTAAR": "133",
                                    "(No column name)": "133"
                                },
                                {
                                    "TERMEKKOD": "02020032T",
                                    "MEGNEVEZES": "Beírókönyv A5 ",
                                    "LISTAAR": "133",
                                    "(No column name)": "133"
                                },
                                {
                                    "TERMEKKOD": "02040198T",
                                    "MEGNEVEZES": "Hibajavító roller 5 mm",
                                    "LISTAAR": "133",
                                    "(No column name)": "133"
                                },
                                {
                                    "TERMEKKOD": "02040025T",
                                    "MEGNEVEZES": "Álló irattartó karton",
                                    "LISTAAR": "133",
                                    "(No column name)": "133"
                                },
                                {
                                    "TERMEKKOD": "07080314T",
                                    "MEGNEVEZES": "Pixiron Handy fém",
                                    "LISTAAR": "133",
                                    "(No column name)": "133"
                                },
                                {
                                    "TERMEKKOD": "06050301T",
                                    "MEGNEVEZES": "Olló gyerek ",
                                    "LISTAAR": "133",
                                    "(No column name)": "133"
                                },
                                {
                                    "TERMEKKOD": "06080334T",
                                    "MEGNEVEZES": "Ragasztó szalag KORES ",
                                    "LISTAAR": "133",
                                    "(No column name)": "135,33333333333334"
                                },
                                {
                                    "TERMEKKOD": "07040101T",
                                    "MEGNEVEZES": "Filctoll permanent vastag",
                                    "LISTAAR": "140",
                                    "(No column name)": "137,66666666666666"
                                },
                                {
                                    "TERMEKKOD": "07050464T",
                                    "MEGNEVEZES": "Szövegkiemelő Staedtler",
                                    "LISTAAR": "140",
                                    "(No column name)": "140"
                                },
                                {
                                    "TERMEKKOD": "04030261T",
                                    "MEGNEVEZES": "Levélpapír állatos",
                                    "LISTAAR": "140",
                                    "(No column name)": "141,33333333333334"
                                },
                                {
                                    "TERMEKKOD": "04050023T",
                                    "MEGNEVEZES": "Álarc fejdísz",
                                    "LISTAAR": "144",
                                    "(No column name)": "142,66666666666666"
                                },
                                {
                                    "TERMEKKOD": "04050024T",
                                    "MEGNEVEZES": "Álarc szemüveg",
                                    "LISTAAR": "144",
                                    "(No column name)": "144"
                                },
                                {
                                    "TERMEKKOD": "05080340T",
                                    "MEGNEVEZES": "Ragasztó, Technokol 35g kék",
                                    "LISTAAR": "144",
                                    "(No column name)": "144"
                                },
                                {
                                    "TERMEKKOD": "05080341T",
                                    "MEGNEVEZES": "Ragasztó, Technokol 35g piros",
                                    "LISTAAR": "144",
                                    "(No column name)": "144"
                                },
                                {
                                    "TERMEKKOD": "02020037T",
                                    "MEGNEVEZES": "Bevételi pénztárbizonylat 3×25",
                                    "LISTAAR": "144",
                                    "(No column name)": "144"
                                },
                                {
                                    "TERMEKKOD": "06040356T",
                                    "MEGNEVEZES": "Sp.Füzet A/4  70es",
                                    "LISTAAR": "144",
                                    "(No column name)": "144,66666666666666"
                                },
                                {
                                    "TERMEKKOD": "07080062T",
                                    "MEGNEVEZES": "Ceruza szén",
                                    "LISTAAR": "146",
                                    "(No column name)": "146"
                                },
                                {
                                    "TERMEKKOD": "06040174T",
                                    "MEGNEVEZES": "Gumis mappa ",
                                    "LISTAAR": "148",
                                    "(No column name)": "147,33333333333334"
                                },
                                {
                                    "TERMEKKOD": "03080011T",
                                    "MEGNEVEZES": "Ajándék cs. tasak közepes",
                                    "LISTAAR": "148",
                                    "(No column name)": "148"
                                },
                                {
                                    "TERMEKKOD": "03080009T",
                                    "MEGNEVEZES": "Ajándék csom. 100x70 metál",
                                    "LISTAAR": "148",
                                    "(No column name)": "148"
                                },
                                {
                                    "TERMEKKOD": "03080017T",
                                    "MEGNEVEZES": "iskolai csomagoló papír",
                                    "LISTAAR": "148",
                                    "(No column name)": "148"
                                },
                                {
                                    "TERMEKKOD": "03050458T",
                                    "MEGNEVEZES": "Ajándék cs. 2×100×70",
                                    "LISTAAR": "148",
                                    "(No column name)": "148"
                                },
                                {
                                    "TERMEKKOD": "04110280T",
                                    "MEGNEVEZES": "Matrica tetoválós kicsi",
                                    "LISTAAR": "148",
                                    "(No column name)": "148"
                                },
                                {
                                    "TERMEKKOD": "04050251T",
                                    "MEGNEVEZES": "Kulcstartó billiárd golyós",
                                    "LISTAAR": "148",
                                    "(No column name)": "150,33333333333334"
                                },
                                {
                                    "TERMEKKOD": "04050254T",
                                    "MEGNEVEZES": "Kulcstartó intarziás állatos",
                                    "LISTAAR": "155",
                                    "(No column name)": "152,66666666666666"
                                },
                                {
                                    "TERMEKKOD": "04110283T",
                                    "MEGNEVEZES": "Meghívó állatos",
                                    "LISTAAR": "155",
                                    "(No column name)": "155"
                                },
                                {
                                    "TERMEKKOD": "06040355T",
                                    "MEGNEVEZES": "Sp.Füzet A/4 70-as",
                                    "LISTAAR": "155",
                                    "(No column name)": "157"
                                },
                                {
                                    "TERMEKKOD": "06040246T",
                                    "MEGNEVEZES": "Körző",
                                    "LISTAAR": "161",
                                    "(No column name)": "159"
                                },
                                {
                                    "TERMEKKOD": "06050303T",
                                    "MEGNEVEZES": "Olló, iskolai",
                                    "LISTAAR": "161",
                                    "(No column name)": "161"
                                },
                                {
                                    "TERMEKKOD": "07010372T",
                                    "MEGNEVEZES": "Színes ceruza 12 szín",
                                    "LISTAAR": "161",
                                    "(No column name)": "161"
                                },
                                {
                                    "TERMEKKOD": "06080259T",
                                    "MEGNEVEZES": "Leckefüzet",
                                    "LISTAAR": "161",
                                    "(No column name)": "161"
                                },
                                {
                                    "TERMEKKOD": "06080440T",
                                    "MEGNEVEZES": "Gyurma 12 szinű",
                                    "LISTAAR": "161",
                                    "(No column name)": "161"
                                },
                                {
                                    "TERMEKKOD": "06080426T",
                                    "MEGNEVEZES": "Szótárfüzet Lizzy",
                                    "LISTAAR": "161",
                                    "(No column name)": "161"
                                },
                                {
                                    "TERMEKKOD": "06080427T",
                                    "MEGNEVEZES": "Ablakkréta",
                                    "LISTAAR": "161",
                                    "(No column name)": "161"
                                },
                                {
                                    "TERMEKKOD": "07080420T",
                                    "MEGNEVEZES": "Zselés toll Muhnwa",
                                    "LISTAAR": "161",
                                    "(No column name)": "161"
                                },
                                {
                                    "TERMEKKOD": "04110278T",
                                    "MEGNEVEZES": "Matrica Test ékszer tattoo",
                                    "LISTAAR": "161",
                                    "(No column name)": "161"
                                },
                                {
                                    "TERMEKKOD": "05110364T",
                                    "MEGNEVEZES": "Szalvéta kicsi virágos",
                                    "LISTAAR": "161",
                                    "(No column name)": "161"
                                },
                                {
                                    "TERMEKKOD": "04050321T",
                                    "MEGNEVEZES": "Plüss kicsi",
                                    "LISTAAR": "161",
                                    "(No column name)": "161"
                                },
                                {
                                    "TERMEKKOD": "01080093T",
                                    "MEGNEVEZES": "Fax papír 15 m",
                                    "LISTAAR": "161",
                                    "(No column name)": "162,33333333333334"
                                },
                                {
                                    "TERMEKKOD": "04050222T",
                                    "MEGNEVEZES": "Játékautó elemes",
                                    "LISTAAR": "165",
                                    "(No column name)": "164"
                                },
                                {
                                    "TERMEKKOD": "03010345T",
                                    "MEGNEVEZES": "Ragasztószalag széles barna",
                                    "LISTAAR": "166",
                                    "(No column name)": "166,33333333333334"
                                },
                                {
                                    "TERMEKKOD": "04110279T",
                                    "MEGNEVEZES": "Matrica tetoválás",
                                    "LISTAAR": "168",
                                    "(No column name)": "167,66666666666666"
                                },
                                {
                                    "TERMEKKOD": "04110284T",
                                    "MEGNEVEZES": "Meghívó borítékos",
                                    "LISTAAR": "169",
                                    "(No column name)": "168,66666666666666"
                                },
                                {
                                    "TERMEKKOD": "04050204T",
                                    "MEGNEVEZES": "Hűtőmágnes WD",
                                    "LISTAAR": "169",
                                    "(No column name)": "169"
                                },
                                {
                                    "TERMEKKOD": "04030266T",
                                    "MEGNEVEZES": "Levélpapír szett virágos",
                                    "LISTAAR": "169",
                                    "(No column name)": "169"
                                },
                                {
                                    "TERMEKKOD": "03080015T",
                                    "MEGNEVEZES": "Ajándék csom. gyűrt",
                                    "LISTAAR": "169",
                                    "(No column name)": "170,33333333333334"
                                },
                                {
                                    "TERMEKKOD": "04050320T",
                                    "MEGNEVEZES": "Plüss  QX állatok",
                                    "LISTAAR": "173",
                                    "(No column name)": "172,33333333333334"
                                },
                                {
                                    "TERMEKKOD": "04110281T",
                                    "MEGNEVEZES": "Matrica világítós ",
                                    "LISTAAR": "175",
                                    "(No column name)": "174,33333333333334"
                                },
                                {
                                    "TERMEKKOD": "05110361T",
                                    "MEGNEVEZES": "Szalvéta Goma húsvéti",
                                    "LISTAAR": "175",
                                    "(No column name)": "175,33333333333334"
                                },
                                {
                                    "TERMEKKOD": "05110359T",
                                    "MEGNEVEZES": "Szalvéta ",
                                    "LISTAAR": "176",
                                    "(No column name)": "175,66666666666666"
                                },
                                {
                                    "TERMEKKOD": "06080410T",
                                    "MEGNEVEZES": "Vízfesték 12db-os kínai",
                                    "LISTAAR": "176",
                                    "(No column name)": "176"
                                },
                                {
                                    "TERMEKKOD": "06050302T",
                                    "MEGNEVEZES": "Olló Tagit 18 cm-es",
                                    "LISTAAR": "176",
                                    "(No column name)": "177,33333333333334"
                                },
                                {
                                    "TERMEKKOD": "06040179T",
                                    "MEGNEVEZES": "Gyurma színes 200 g-os",
                                    "LISTAAR": "180",
                                    "(No column name)": "178,66666666666666"
                                },
                                {
                                    "TERMEKKOD": "06080409T",
                                    "MEGNEVEZES": "Vízfesték 12 színű kerek",
                                    "LISTAAR": "180",
                                    "(No column name)": "180"
                                },
                                {
                                    "TERMEKKOD": "06080193T",
                                    "MEGNEVEZES": "Hegyző fém 2 lyukú",
                                    "LISTAAR": "180",
                                    "(No column name)": "180"
                                },
                                {
                                    "TERMEKKOD": "06080428T",
                                    "MEGNEVEZES": "Ecsetkészlet",
                                    "LISTAAR": "180",
                                    "(No column name)": "181"
                                },
                                {
                                    "TERMEKKOD": "04110362T",
                                    "MEGNEVEZES": "Szalvéta gyűjtőknek",
                                    "LISTAAR": "183",
                                    "(No column name)": "182,33333333333334"
                                },
                                {
                                    "TERMEKKOD": "04110228T",
                                    "MEGNEVEZES": "Képeslap \"Nászajándék\"",
                                    "LISTAAR": "184",
                                    "(No column name)": "183,66666666666666"
                                },
                                {
                                    "TERMEKKOD": "02080435T",
                                    "MEGNEVEZES": "Mappa bemutató",
                                    "LISTAAR": "184",
                                    "(No column name)": "184"
                                },
                                {
                                    "TERMEKKOD": "06040182T",
                                    "MEGNEVEZES": "Gyűrűskönyv bet. A/4",
                                    "LISTAAR": "184",
                                    "(No column name)": "184,33333333333334"
                                },
                                {
                                    "TERMEKKOD": "03080003T",
                                    "MEGNEVEZES": "Ajándék cs. tasak italos",
                                    "LISTAAR": "185",
                                    "(No column name)": "184,66666666666666"
                                },
                                {
                                    "TERMEKKOD": "02040195T",
                                    "MEGNEVEZES": "Hibajavító ecsetes Aqua",
                                    "LISTAAR": "185",
                                    "(No column name)": "185"
                                },
                                {
                                    "TERMEKKOD": "03080437T",
                                    "MEGNEVEZES": "Ajándék csomagoló tasak",
                                    "LISTAAR": "185",
                                    "(No column name)": "186"
                                },
                                {
                                    "TERMEKKOD": "07080470T",
                                    "MEGNEVEZES": "Golyóstoll háromszög",
                                    "LISTAAR": "188",
                                    "(No column name)": "187,33333333333334"
                                },
                                {
                                    "TERMEKKOD": "07040168T",
                                    "MEGNEVEZES": "Golyóstoll Zebra new hard",
                                    "LISTAAR": "189",
                                    "(No column name)": "189"
                                },
                                {
                                    "TERMEKKOD": "08070482T",
                                    "MEGNEVEZES": "Fizika munkafüzet 14 év.",
                                    "LISTAAR": "190",
                                    "(No column name)": "190"
                                },
                                {
                                    "TERMEKKOD": "06040175T",
                                    "MEGNEVEZES": "Gumis mappa Köbüki",
                                    "LISTAAR": "191",
                                    "(No column name)": "192"
                                },
                                {
                                    "TERMEKKOD": "06080121T",
                                    "MEGNEVEZES": "Füzetborító öntapadó tekercses",
                                    "LISTAAR": "195",
                                    "(No column name)": "193,66666666666666"
                                },
                                {
                                    "TERMEKKOD": "04030243T",
                                    "MEGNEVEZES": "Képkirakó Dirib-darab",
                                    "LISTAAR": "195",
                                    "(No column name)": "195"
                                },
                                {
                                    "TERMEKKOD": "06040172T",
                                    "MEGNEVEZES": "Gumis mappa csomagolt",
                                    "LISTAAR": "195",
                                    "(No column name)": "196"
                                },
                                {
                                    "TERMEKKOD": "08070481T",
                                    "MEGNEVEZES": "Fizika munkafüzet 13 év.",
                                    "LISTAAR": "198",
                                    "(No column name)": "198,66666666666666"
                                },
                                {
                                    "TERMEKKOD": "06080126T",
                                    "MEGNEVEZES": "Füzettartó A/5  ",
                                    "LISTAAR": "203",
                                    "(No column name)": "201,33333333333334"
                                },
                                {
                                    "TERMEKKOD": "06040351T",
                                    "MEGNEVEZES": "Regiszteres füzet A5 Hightech",
                                    "LISTAAR": "203",
                                    "(No column name)": "204"
                                },
                                {
                                    "TERMEKKOD": "06040354T",
                                    "MEGNEVEZES": "Sp.Füzet A/4  perforált, lyuk.",
                                    "LISTAAR": "206",
                                    "(No column name)": "205"
                                },
                                {
                                    "TERMEKKOD": "03080007T",
                                    "MEGNEVEZES": "Ajándék cs. tasak mintás nagy",
                                    "LISTAAR": "206",
                                    "(No column name)": "206"
                                },
                                {
                                    "TERMEKKOD": "03080010T",
                                    "MEGNEVEZES": "Ajándék csom. 150x70",
                                    "LISTAAR": "206",
                                    "(No column name)": "207,33333333333334"
                                },
                                {
                                    "TERMEKKOD": "02080434T",
                                    "MEGNEVEZES": "Mappa müa A/4",
                                    "LISTAAR": "210",
                                    "(No column name)": "208,66666666666666"
                                },
                                {
                                    "TERMEKKOD": "06080408T",
                                    "MEGNEVEZES": "Vízfesték 12 db-os ",
                                    "LISTAAR": "210",
                                    "(No column name)": "210,33333333333334"
                                },
                                {
                                    "TERMEKKOD": "06040173T",
                                    "MEGNEVEZES": "Gumis mappa fóliázott állatos",
                                    "LISTAAR": "211",
                                    "(No column name)": "211,66666666666666"
                                },
                                {
                                    "TERMEKKOD": "05010027T",
                                    "MEGNEVEZES": "Alufólia 20 m-es",
                                    "LISTAAR": "214",
                                    "(No column name)": "213"
                                },
                                {
                                    "TERMEKKOD": "03080438T",
                                    "MEGNEVEZES": "Ajándék csomagoló tasak lézeres",
                                    "LISTAAR": "214",
                                    "(No column name)": "214"
                                },
                                {
                                    "TERMEKKOD": "02080431T",
                                    "MEGNEVEZES": "Álló irattartó",
                                    "LISTAAR": "214",
                                    "(No column name)": "214"
                                },
                                {
                                    "TERMEKKOD": "08070491T",
                                    "MEGNEVEZES": "Szám.tech. kicsiknek",
                                    "LISTAAR": "214",
                                    "(No column name)": "215,33333333333334"
                                },
                                {
                                    "TERMEKKOD": "07040165T",
                                    "MEGNEVEZES": "Golyóstoll UNI laknock",
                                    "LISTAAR": "218",
                                    "(No column name)": "216,66666666666666"
                                },
                                {
                                    "TERMEKKOD": "06040184T",
                                    "MEGNEVEZES": "Gyűrűskönyv betét A/5",
                                    "LISTAAR": "218",
                                    "(No column name)": "218,66666666666666"
                                },
                                {
                                    "TERMEKKOD": "03080030T",
                                    "MEGNEVEZES": "Ajándék cs. húsvéti 200x70",
                                    "LISTAAR": "220",
                                    "(No column name)": "222"
                                },
                                {
                                    "TERMEKKOD": "06040180T",
                                    "MEGNEVEZES": "Gyurma színes natúr",
                                    "LISTAAR": "228",
                                    "(No column name)": "225,33333333333334"
                                },
                                {
                                    "TERMEKKOD": "06080423T",
                                    "MEGNEVEZES": "Beíró A/5 kockás",
                                    "LISTAAR": "228",
                                    "(No column name)": "228"
                                },
                                {
                                    "TERMEKKOD": "07010142T",
                                    "MEGNEVEZES": "G.toll betét Zebra F-0.7",
                                    "LISTAAR": "228",
                                    "(No column name)": "228"
                                },
                                {
                                    "TERMEKKOD": "07080421T",
                                    "MEGNEVEZES": "Zseléstoll Lizzy Card",
                                    "LISTAAR": "228",
                                    "(No column name)": "228,66666666666666"
                                },
                                {
                                    "TERMEKKOD": "07080163T",
                                    "MEGNEVEZES": "Golyóstoll UNI átlátszó",
                                    "LISTAAR": "230",
                                    "(No column name)": "229,66666666666666"
                                },
                                {
                                    "TERMEKKOD": "07080164T",
                                    "MEGNEVEZES": "Golyóstoll UNI gumis",
                                    "LISTAAR": "231",
                                    "(No column name)": "232"
                                },
                                {
                                    "TERMEKKOD": "07080318T",
                                    "MEGNEVEZES": "Pixiron Penac",
                                    "LISTAAR": "235",
                                    "(No column name)": "235"
                                },
                                {
                                    "TERMEKKOD": "07080160T",
                                    "MEGNEVEZES": "Golyóstoll penac",
                                    "LISTAAR": "239",
                                    "(No column name)": "238"
                                },
                                {
                                    "TERMEKKOD": "G029-FE307",
                                    "MEGNEVEZES": "fiú zokni",
                                    "LISTAAR": "240",
                                    "(No column name)": "239,66666666666666"
                                },
                                {
                                    "TERMEKKOD": "L029-FE307",
                                    "MEGNEVEZES": "lány zokni",
                                    "LISTAAR": "240",
                                    "(No column name)": "241"
                                },
                                {
                                    "TERMEKKOD": "06040248T",
                                    "MEGNEVEZES": "Körző maped",
                                    "LISTAAR": "243",
                                    "(No column name)": "242"
                                },
                                {
                                    "TERMEKKOD": "02040211T",
                                    "MEGNEVEZES": "Iratrendező ESSELTE",
                                    "LISTAAR": "243",
                                    "(No column name)": "245"
                                },
                                {
                                    "TERMEKKOD": "06080407T",
                                    "MEGNEVEZES": "Vízfesték  12 színű nagy",
                                    "LISTAAR": "249",
                                    "(No column name)": "249,33333333333334"
                                },
                                {
                                    "TERMEKKOD": "06040350T",
                                    "MEGNEVEZES": "Regiszteres füzet A4",
                                    "LISTAAR": "256",
                                    "(No column name)": "254,66666666666666"
                                },
                                {
                                    "TERMEKKOD": "02080432T",
                                    "MEGNEVEZES": "Tokos iratrendező",
                                    "LISTAAR": "259",
                                    "(No column name)": "259,6666666666667"
                                },
                                {
                                    "TERMEKKOD": "04080271T",
                                    "MEGNEVEZES": "Mappa PVC villámzáras",
                                    "LISTAAR": "264",
                                    "(No column name)": "265,3333333333333"
                                },
                                {
                                    "TERMEKKOD": "02040196T",
                                    "MEGNEVEZES": "Hibajavító készlet Blanco",
                                    "LISTAAR": "273",
                                    "(No column name)": "270"
                                },
                                {
                                    "TERMEKKOD": "07080467T",
                                    "MEGNEVEZES": "Golyóstoll kétfunkciós ICO",
                                    "LISTAAR": "273",
                                    "(No column name)": "274"
                                },
                                {
                                    "TERMEKKOD": "07080311T",
                                    "MEGNEVEZES": "Pixiron  UNI",
                                    "LISTAAR": "276",
                                    "(No column name)": "275"
                                },
                                {
                                    "TERMEKKOD": "07030107T",
                                    "MEGNEVEZES": "Filctoll, textil Edding 4500",
                                    "LISTAAR": "276",
                                    "(No column name)": "276,6666666666667"
                                },
                                {
                                    "TERMEKKOD": "07040098T",
                                    "MEGNEVEZES": "Filctoll document pen",
                                    "LISTAAR": "278",
                                    "(No column name)": "277,3333333333333"
                                },
                                {
                                    "TERMEKKOD": "02040200T",
                                    "MEGNEVEZES": "Hibajavító Kores mini pen",
                                    "LISTAAR": "278",
                                    "(No column name)": "280,6666666666667"
                                },
                                {
                                    "TERMEKKOD": "02040199T",
                                    "MEGNEVEZES": "Hibajavító roller Pax",
                                    "LISTAAR": "286",
                                    "(No column name)": "283,3333333333333"
                                },
                                {
                                    "TERMEKKOD": "02040402T",
                                    "MEGNEVEZES": "Tűzőgép Boxer ",
                                    "LISTAAR": "286",
                                    "(No column name)": "287,3333333333333"
                                },
                                {
                                    "TERMEKKOD": "03080005T",
                                    "MEGNEVEZES": "Ajándék cs. tasak virágos nagy",
                                    "LISTAAR": "290",
                                    "(No column name)": "289"
                                },
                                {
                                    "TERMEKKOD": "08070485T",
                                    "MEGNEVEZES": "Jól felkészültem-e - Fizika",
                                    "LISTAAR": "291",
                                    "(No column name)": "291,3333333333333"
                                },
                                {
                                    "TERMEKKOD": "08070476T",
                                    "MEGNEVEZES": "Anyanyelvi gyakorló 2",
                                    "LISTAAR": "293",
                                    "(No column name)": "292,3333333333333"
                                },
                                {
                                    "TERMEKKOD": "06080337T",
                                    "MEGNEVEZES": "Ragasztó Gyurma",
                                    "LISTAAR": "293",
                                    "(No column name)": "293,3333333333333"
                                },
                                {
                                    "TERMEKKOD": "07080471T",
                                    "MEGNEVEZES": "Golyóstoll levélbontós",
                                    "LISTAAR": "294",
                                    "(No column name)": "294,6666666666667"
                                },
                                {
                                    "TERMEKKOD": "02060034T",
                                    "MEGNEVEZES": "Bélyegzőfesték ",
                                    "LISTAAR": "297",
                                    "(No column name)": "296,6666666666667"
                                },
                                {
                                    "TERMEKKOD": "07080319T",
                                    "MEGNEVEZES": "Pixiron Pentel színes",
                                    "LISTAAR": "299",
                                    "(No column name)": "301,3333333333333"
                                },
                                {
                                    "TERMEKKOD": "08070480T",
                                    "MEGNEVEZES": "Fizika 13 éveseknek",
                                    "LISTAAR": "308",
                                    "(No column name)": "305,6666666666667"
                                },
                                {
                                    "TERMEKKOD": "02040293T",
                                    "MEGNEVEZES": "Névjegytartó kicsi",
                                    "LISTAAR": "310",
                                    "(No column name)": "310,6666666666667"
                                },
                                {
                                    "TERMEKKOD": "04050322T",
                                    "MEGNEVEZES": "Plüss sárkány",
                                    "LISTAAR": "314",
                                    "(No column name)": "313,3333333333333"
                                },
                                {
                                    "TERMEKKOD": "04080442T",
                                    "MEGNEVEZES": "Emlékkönyv",
                                    "LISTAAR": "316",
                                    "(No column name)": "318"
                                },
                                {
                                    "TERMEKKOD": "08070483T",
                                    "MEGNEVEZES": "Fizikai feladatok és tévedések",
                                    "LISTAAR": "324",
                                    "(No column name)": "321,3333333333333"
                                },
                                {
                                    "TERMEKKOD": "06080422T",
                                    "MEGNEVEZES": "Füzettartó A/4",
                                    "LISTAAR": "324",
                                    "(No column name)": "324"
                                },
                                {
                                    "TERMEKKOD": "06040394T",
                                    "MEGNEVEZES": "Tolltartó zipzáras",
                                    "LISTAAR": "324",
                                    "(No column name)": "325,3333333333333"
                                },
                                {
                                    "TERMEKKOD": "02020033T",
                                    "MEGNEVEZES": "Beírókönyv A4",
                                    "LISTAAR": "328",
                                    "(No column name)": "330,3333333333333"
                                },
                                {
                                    "TERMEKKOD": "02040401T",
                                    "MEGNEVEZES": "Tűzőgép Boxer 10",
                                    "LISTAAR": "339",
                                    "(No column name)": "336,3333333333333"
                                },
                                {
                                    "TERMEKKOD": "01010001T",
                                    "MEGNEVEZES": "félfamentes rajzlap A4 (10 lap)",
                                    "LISTAAR": "342",
                                    "(No column name)": "342"
                                },
                                {
                                    "TERMEKKOD": "08070484T",
                                    "MEGNEVEZES": "Fogalmazás lépésről lépésre",
                                    "LISTAAR": "345",
                                    "(No column name)": "346,6666666666667"
                                },
                                {
                                    "TERMEKKOD": "08070477T",
                                    "MEGNEVEZES": "Anyanyelvi gyakorló 3",
                                    "LISTAAR": "353",
                                    "(No column name)": "351,3333333333333"
                                },
                                {
                                    "TERMEKKOD": "04050358T",
                                    "MEGNEVEZES": "Strandlabda ",
                                    "LISTAAR": "356",
                                    "(No column name)": "356,3333333333333"
                                },
                                {
                                    "TERMEKKOD": "04080272T",
                                    "MEGNEVEZES": "Mappa PVC villámzáras  képes",
                                    "LISTAAR": "360",
                                    "(No column name)": "358,6666666666667"
                                },
                                {
                                    "TERMEKKOD": "07040389T",
                                    "MEGNEVEZES": "Tintapatron 30 db-os kék",
                                    "LISTAAR": "360",
                                    "(No column name)": "361,3333333333333"
                                },
                                {
                                    "TERMEKKOD": "07080469T",
                                    "MEGNEVEZES": "Golyóstoll UNIBALL 07",
                                    "LISTAAR": "364",
                                    "(No column name)": "371,3333333333333"
                                },
                                {
                                    "TERMEKKOD": "07080151T",
                                    "MEGNEVEZES": "Golyóstoll + ceruza Twister 2in1",
                                    "LISTAAR": "390",
                                    "(No column name)": "381,3333333333333"
                                },
                                {
                                    "TERMEKKOD": "G023-FE301",
                                    "MEGNEVEZES": "fiú alsó",
                                    "LISTAAR": "390",
                                    "(No column name)": "390"
                                },
                                {
                                    "TERMEKKOD": "L023-FE301",
                                    "MEGNEVEZES": "lány alsó",
                                    "LISTAAR": "390",
                                    "(No column name)": "390"
                                },
                                {
                                    "TERMEKKOD": "07040100T",
                                    "MEGNEVEZES": "Filctoll Marvy alkoholos",
                                    "LISTAAR": "390",
                                    "(No column name)": "393,6666666666667"
                                },
                                {
                                    "TERMEKKOD": "07080154T",
                                    "MEGNEVEZES": "Golyóstoll INOXCROM",
                                    "LISTAAR": "401",
                                    "(No column name)": "398"
                                },
                                {
                                    "TERMEKKOD": "08070486T",
                                    "MEGNEVEZES": "Matematika gyakorló 2",
                                    "LISTAAR": "403",
                                    "(No column name)": "402,3333333333333"
                                },
                                {
                                    "TERMEKKOD": "08070487T",
                                    "MEGNEVEZES": "Matematika gyakorló 3",
                                    "LISTAAR": "403",
                                    "(No column name)": "403"
                                },
                                {
                                    "TERMEKKOD": "08070488T",
                                    "MEGNEVEZES": "Matematika gyakorló 4",
                                    "LISTAAR": "403",
                                    "(No column name)": "403,6666666666667"
                                },
                                {
                                    "TERMEKKOD": "02040404T",
                                    "MEGNEVEZES": "Tűzőgép EAGLE",
                                    "LISTAAR": "405",
                                    "(No column name)": "406"
                                },
                                {
                                    "TERMEKKOD": "06040396T",
                                    "MEGNEVEZES": "Tolltartó Garfield",
                                    "LISTAAR": "410",
                                    "(No column name)": "408,6666666666667"
                                },
                                {
                                    "TERMEKKOD": "06040398T",
                                    "MEGNEVEZES": "Tolltartó hengeres ",
                                    "LISTAAR": "411",
                                    "(No column name)": "410,6666666666667"
                                },
                                {
                                    "TERMEKKOD": "06080125T",
                                    "MEGNEVEZES": "Füzettartó A/5 vastag",
                                    "LISTAAR": "411",
                                    "(No column name)": "416"
                                },
                                {
                                    "TERMEKKOD": "06010343T",
                                    "MEGNEVEZES": "Ragasztószalag 19 mm-es SCOTCH+ tépő",
                                    "LISTAAR": "426",
                                    "(No column name)": "423,6666666666667"
                                },
                                {
                                    "TERMEKKOD": "07040099T",
                                    "MEGNEVEZES": "Filctoll Edding 750",
                                    "LISTAAR": "434",
                                    "(No column name)": "431,3333333333333"
                                },
                                {
                                    "TERMEKKOD": "07040257T",
                                    "MEGNEVEZES": "Lakk filc Edding 750",
                                    "LISTAAR": "434",
                                    "(No column name)": "435,3333333333333"
                                },
                                {
                                    "TERMEKKOD": "02080452T",
                                    "MEGNEVEZES": "Tűzőgép mini",
                                    "LISTAAR": "438",
                                    "(No column name)": "437,3333333333333"
                                },
                                {
                                    "TERMEKKOD": "08070475T",
                                    "MEGNEVEZES": "A föld amelyen élünk - munkafüzet",
                                    "LISTAAR": "440",
                                    "(No column name)": "439,3333333333333"
                                },
                                {
                                    "TERMEKKOD": "08070494T",
                                    "MEGNEVEZES": "Érettségi felv. fel. Fizika",
                                    "LISTAAR": "440",
                                    "(No column name)": "440"
                                },
                                {
                                    "TERMEKKOD": "08070495T",
                                    "MEGNEVEZES": "Érettségi felv. fel. Biológia",
                                    "LISTAAR": "440",
                                    "(No column name)": "443"
                                },
                                {
                                    "TERMEKKOD": "04080443T",
                                    "MEGNEVEZES": "Emlékkönyv lakatos",
                                    "LISTAAR": "449",
                                    "(No column name)": "448"
                                },
                                {
                                    "TERMEKKOD": "07040166T",
                                    "MEGNEVEZES": "Golyóstoll Zebra 301",
                                    "LISTAAR": "455",
                                    "(No column name)": "456"
                                },
                                {
                                    "TERMEKKOD": "02020444T",
                                    "MEGNEVEZES": "Határidő napló A/6",
                                    "LISTAAR": "464",
                                    "(No column name)": "462,3333333333333"
                                },
                                {
                                    "TERMEKKOD": "07080316T",
                                    "MEGNEVEZES": "Pixiron KOH-I-NOOR",
                                    "LISTAAR": "468",
                                    "(No column name)": "475"
                                },
                                {
                                    "TERMEKKOD": "07050462T",
                                    "MEGNEVEZES": "Töltőtoll tinta ",
                                    "LISTAAR": "493",
                                    "(No column name)": "489,6666666666667"
                                },
                                {
                                    "TERMEKKOD": "06080124T",
                                    "MEGNEVEZES": "Füzettartó A/4 keménytáblás",
                                    "LISTAAR": "508",
                                    "(No column name)": "503"
                                },
                                {
                                    "TERMEKKOD": "06010366T",
                                    "MEGNEVEZES": "Számológép Roxin",
                                    "LISTAAR": "508",
                                    "(No column name)": "509"
                                },
                                {
                                    "TERMEKKOD": "06040400T",
                                    "MEGNEVEZES": "Tornazsák",
                                    "LISTAAR": "511",
                                    "(No column name)": "515"
                                },
                                {
                                    "TERMEKKOD": "04040090T",
                                    "MEGNEVEZES": "Emlékkönyv",
                                    "LISTAAR": "526",
                                    "(No column name)": "521"
                                },
                                {
                                    "TERMEKKOD": "02080453T",
                                    "MEGNEVEZES": "Lyukasztó EAGLE",
                                    "LISTAAR": "526",
                                    "(No column name)": "534,3333333333334"
                                },
                                {
                                    "TERMEKKOD": "06080123T",
                                    "MEGNEVEZES": "Füzettartó A/4 keménytáblás",
                                    "LISTAAR": "551",
                                    "(No column name)": "552,6666666666666"
                                },
                                {
                                    "TERMEKKOD": "06040185T",
                                    "MEGNEVEZES": "Gyűrűskönyv",
                                    "LISTAAR": "581",
                                    "(No column name)": "585,6666666666666"
                                },
                                {
                                    "TERMEKKOD": "02080455T",
                                    "MEGNEVEZES": "Festékpatron BCI-3BK",
                                    "LISTAAR": "625",
                                    "(No column name)": "613"
                                },
                                {
                                    "TERMEKKOD": "06040382T",
                                    "MEGNEVEZES": "Táblafilc",
                                    "LISTAAR": "633",
                                    "(No column name)": "636"
                                },
                                {
                                    "TERMEKKOD": "02060039T",
                                    "MEGNEVEZES": "Bélyegző párna",
                                    "LISTAAR": "650",
                                    "(No column name)": "646"
                                },
                                {
                                    "TERMEKKOD": "06040397T",
                                    "MEGNEVEZES": "Tolltartó asztali",
                                    "LISTAAR": "655",
                                    "(No column name)": "653,3333333333334"
                                },
                                {
                                    "TERMEKKOD": "07040167T",
                                    "MEGNEVEZES": "Golyóstoll Zebra mini",
                                    "LISTAAR": "655",
                                    "(No column name)": "661,3333333333334"
                                },
                                {
                                    "TERMEKKOD": "08070479T",
                                    "MEGNEVEZES": "Fizika",
                                    "LISTAAR": "674",
                                    "(No column name)": "671"
                                },
                                {
                                    "TERMEKKOD": "07040135T",
                                    "MEGNEVEZES": "G.toll betét Parker ",
                                    "LISTAAR": "684",
                                    "(No column name)": "681,3333333333334"
                                },
                                {
                                    "TERMEKKOD": "01100505T",
                                    "MEGNEVEZES": "Fehér másoló A/4",
                                    "LISTAAR": "686",
                                    "(No column name)": "686,6666666666666"
                                },
                                {
                                    "TERMEKKOD": "N019-FE301",
                                    "MEGNEVEZES": "női alsó",
                                    "LISTAAR": "690",
                                    "(No column name)": "689"
                                },
                                {
                                    "TERMEKKOD": "08070490T",
                                    "MEGNEVEZES": "Szövegszerkesztés",
                                    "LISTAAR": "691",
                                    "(No column name)": "693,3333333333334"
                                },
                                {
                                    "TERMEKKOD": "06040186T",
                                    "MEGNEVEZES": "Gyűrűskönyv színes",
                                    "LISTAAR": "699",
                                    "(No column name)": "703,3333333333334"
                                },
                                {
                                    "TERMEKKOD": "08070493T",
                                    "MEGNEVEZES": "Érettségi felv. fel. Matematika",
                                    "LISTAAR": "720",
                                    "(No column name)": "715,6666666666666"
                                },
                                {
                                    "TERMEKKOD": "06040395T",
                                    "MEGNEVEZES": "Tolltartó 2 zipzáros töltött",
                                    "LISTAAR": "728",
                                    "(No column name)": "725,3333333333334"
                                },
                                {
                                    "TERMEKKOD": "06040392T",
                                    "MEGNEVEZES": "Tolltartó 1 zipzáros",
                                    "LISTAAR": "728",
                                    "(No column name)": "728"
                                },
                                {
                                    "TERMEKKOD": "01100095T",
                                    "MEGNEVEZES": "Fénymásoló papír GetCopy",
                                    "LISTAAR": "728",
                                    "(No column name)": "728"
                                },
                                {
                                    "TERMEKKOD": "01100096T",
                                    "MEGNEVEZES": "Fénymásoló papír Qconnect",
                                    "LISTAAR": "728",
                                    "(No column name)": "728"
                                },
                                {
                                    "TERMEKKOD": "04020445T",
                                    "MEGNEVEZES": "Határidő napló 2010-s",
                                    "LISTAAR": "728",
                                    "(No column name)": "730,3333333333334"
                                },
                                {
                                    "TERMEKKOD": "08070492T",
                                    "MEGNEVEZES": "Informatika",
                                    "LISTAAR": "735",
                                    "(No column name)": "742,6666666666666"
                                },
                                {
                                    "TERMEKKOD": "06040393T",
                                    "MEGNEVEZES": "Tolltartó 2 részes NG.",
                                    "LISTAAR": "765",
                                    "(No column name)": "755"
                                },
                                {
                                    "TERMEKKOD": "02080454T",
                                    "MEGNEVEZES": "Lyukasztó BOXER",
                                    "LISTAAR": "765",
                                    "(No column name)": "767,6666666666666"
                                },
                                {
                                    "TERMEKKOD": "07080158T",
                                    "MEGNEVEZES": "Golyóstoll Parker tokban",
                                    "LISTAAR": "773",
                                    "(No column name)": "772,6666666666666"
                                },
                                {
                                    "TERMEKKOD": "02060038T",
                                    "MEGNEVEZES": "Bélyegző IDEAL 50",
                                    "LISTAAR": "780",
                                    "(No column name)": "779,3333333333334"
                                },
                                {
                                    "TERMEKKOD": "08070478T",
                                    "MEGNEVEZES": "Összefoglaló feladatgyüjtemény számtech.",
                                    "LISTAAR": "785",
                                    "(No column name)": "786,3333333333334"
                                },
                                {
                                    "TERMEKKOD": "02040194T",
                                    "MEGNEVEZES": "Hibajav.roll.Pritt 4,2mm",
                                    "LISTAAR": "794",
                                    "(No column name)": "808"
                                },
                                {
                                    "TERMEKKOD": "01100094T",
                                    "MEGNEVEZES": "Fénymásoló papír DataCopy",
                                    "LISTAAR": "845",
                                    "(No column name)": "835,6666666666666"
                                },
                                {
                                    "TERMEKKOD": "08070489T",
                                    "MEGNEVEZES": "RAMba zárt világ",
                                    "LISTAAR": "868",
                                    "(No column name)": "862,6666666666666"
                                },
                                {
                                    "TERMEKKOD": "06080188T",
                                    "MEGNEVEZES": "Hegyező gép",
                                    "LISTAAR": "875",
                                    "(No column name)": "911"
                                },
                                {
                                    "TERMEKKOD": "G038-FE316",
                                    "MEGNEVEZES": "fiú harisnya",
                                    "LISTAAR": "990",
                                    "(No column name)": "951,6666666666666"
                                },
                                {
                                    "TERMEKKOD": "L033-FE311",
                                    "MEGNEVEZES": "lány harisnya",
                                    "LISTAAR": "990",
                                    "(No column name)": "999,6666666666666"
                                },
                                {
                                    "TERMEKKOD": "07080152T",
                                    "MEGNEVEZES": "Golyóstoll 3 funkciós ",
                                    "LISTAAR": "1019",
                                    "(No column name)": "1032,6666666666667"
                                },
                                {
                                    "TERMEKKOD": "08070472T",
                                    "MEGNEVEZES": "A föld amelyen élünk - Európa földrajza",
                                    "LISTAAR": "1089",
                                    "(No column name)": "1065,6666666666667"
                                },
                                {
                                    "TERMEKKOD": "08070473T",
                                    "MEGNEVEZES": "A föld amelyen élünk - Távoli földrészek",
                                    "LISTAAR": "1089",
                                    "(No column name)": "1089"
                                },
                                {
                                    "TERMEKKOD": "08070474T",
                                    "MEGNEVEZES": "A föld amelyen élünk - Hazánk földrajza",
                                    "LISTAAR": "1089",
                                    "(No column name)": "1108,3333333333333"
                                },
                                {
                                    "TERMEKKOD": "02060448T",
                                    "MEGNEVEZES": "Bélyegző RP 18-47",
                                    "LISTAAR": "1147",
                                    "(No column name)": "1136,3333333333333"
                                },
                                {
                                    "TERMEKKOD": "06040446T",
                                    "MEGNEVEZES": "Számológép tudományos",
                                    "LISTAAR": "1173",
                                    "(No column name)": "1203,3333333333333"
                                },
                                {
                                    "TERMEKKOD": "G019-NA207",
                                    "MEGNEVEZES": "gyermek pamut nadrág (fiú)",
                                    "LISTAAR": "1290",
                                    "(No column name)": "1251"
                                },
                                {
                                    "TERMEKKOD": "L019-NA207",
                                    "MEGNEVEZES": "gyermek pamut nadrág (lány)",
                                    "LISTAAR": "1290",
                                    "(No column name)": "1310,3333333333333"
                                },
                                {
                                    "TERMEKKOD": "02040403T",
                                    "MEGNEVEZES": "Tűzőgép SAX 239",
                                    "LISTAAR": "1351",
                                    "(No column name)": "1339,3333333333333"
                                },
                                {
                                    "TERMEKKOD": "02060447T",
                                    "MEGNEVEZES": "Bélyegző pocket",
                                    "LISTAAR": "1377",
                                    "(No column name)": "1405,3333333333333"
                                },
                                {
                                    "TERMEKKOD": "01100504T",
                                    "MEGNEVEZES": "Fehér másoló A/3",
                                    "LISTAAR": "1488",
                                    "(No column name)": "1455"
                                },
                                {
                                    "TERMEKKOD": "01100496T",
                                    "MEGNEVEZES": "Színes másoló a/4 80g",
                                    "LISTAAR": "1500",
                                    "(No column name)": "1584,3333333333333"
                                },
                                {
                                    "TERMEKKOD": "04080270T",
                                    "MEGNEVEZES": "Mappa bőr A5",
                                    "LISTAAR": "1765",
                                    "(No column name)": "1751,6666666666667"
                                },
                                {
                                    "TERMEKKOD": "U001-KI501",
                                    "MEGNEVEZES": "sál",
                                    "LISTAAR": "1990",
                                    "(No column name)": "1951,6666666666667"
                                },
                                {
                                    "TERMEKKOD": "02040002T",
                                    "MEGNEVEZES": "irodai tűzőgép",
                                    "LISTAAR": "2100",
                                    "(No column name)": "2663,3333333333335"
                                },
                                {
                                    "TERMEKKOD": "L048-PO218",
                                    "MEGNEVEZES": "gyermek póló (lány)",
                                    "LISTAAR": "3900",
                                    "(No column name)": "3300"
                                },
                                {
                                    "TERMEKKOD": "G048-PO218",
                                    "MEGNEVEZES": "gyermek póló (fiú)",
                                    "LISTAAR": "3900",
                                    "(No column name)": "4125"
                                },
                                {
                                    "TERMEKKOD": "01080512T",
                                    "MEGNEVEZES": "Öntapadó A/4",
                                    "LISTAAR": "4575",
                                    "(No column name)": "4488,333333333333"
                                },
                                {
                                    "TERMEKKOD": "G013-NA201",
                                    "MEGNEVEZES": "gyermek farmer nadrág (fiú)",
                                    "LISTAAR": "4990",
                                    "(No column name)": "4851,666666666667"
                                },
                                {
                                    "TERMEKKOD": "L013-NA201",
                                    "MEGNEVEZES": "gyermek farmer nadrág (lány)",
                                    "LISTAAR": "4990",
                                    "(No column name)": "5490"
                                },
                                {
                                    "TERMEKKOD": "F021-IN215",
                                    "MEGNEVEZES": "férfi ing",
                                    "LISTAAR": "6490",
                                    "(No column name)": "6126,666666666667"
                                },
                                {
                                    "TERMEKKOD": "L064-CI401",
                                    "MEGNEVEZES": "gyermek szandál (lány)",
                                    "LISTAAR": "6900",
                                    "(No column name)": "6763,333333333333"
                                },
                                {
                                    "TERMEKKOD": "G064-CI401",
                                    "MEGNEVEZES": "gyermek szandál (fiú)",
                                    "LISTAAR": "6900",
                                    "(No column name)": "7230"
                                },
                                {
                                    "TERMEKKOD": "F007-NA201",
                                    "MEGNEVEZES": "férfi farmer nadrág",
                                    "LISTAAR": "7890",
                                    "(No column name)": "7563,333333333333"
                                },
                                {
                                    "TERMEKKOD": "G073-CI410",
                                    "MEGNEVEZES": "gyermek cipő (fiú)",
                                    "LISTAAR": "7900",
                                    "(No column name)": "7896,666666666667"
                                },
                                {
                                    "TERMEKKOD": "L073-CI410",
                                    "MEGNEVEZES": "gyermek cipő (lány)",
                                    "LISTAAR": "7900",
                                    "(No column name)": "7933,333333333333"
                                },
                                {
                                    "TERMEKKOD": "L082-CI419",
                                    "MEGNEVEZES": "gyermek csizma (lány)",
                                    "LISTAAR": "8000",
                                    "(No column name)": "7966,666666666667"
                                },
                                {
                                    "TERMEKKOD": "G082-CI419",
                                    "MEGNEVEZES": "gyermek csizma (fiú)",
                                    "LISTAAR": "8000",
                                    "(No column name)": "8096,666666666667"
                                },
                                {
                                    "TERMEKKOD": "N008-NA201",
                                    "MEGNEVEZES": "női farmer nadrág",
                                    "LISTAAR": "8290",
                                    "(No column name)": "8396,666666666666"
                                },
                                {
                                    "TERMEKKOD": "L001-KB101",
                                    "MEGNEVEZES": "gyermek kabát (lány)",
                                    "LISTAAR": "8900",
                                    "(No column name)": "8696,666666666666"
                                },
                                {
                                    "TERMEKKOD": "G001-KB101",
                                    "MEGNEVEZES": "gyermek kabát (fiú)",
                                    "LISTAAR": "8900",
                                    "(No column name)": "9900"
                                },
                                {
                                    "TERMEKKOD": "F013-NA207",
                                    "MEGNEVEZES": "férfi szövet nadrág",
                                    "LISTAAR": "11900",
                                    "(No column name)": "11683,333333333334"
                                },
                                {
                                    "TERMEKKOD": "02080511T",
                                    "MEGNEVEZES": "Oki toner C",
                                    "LISTAAR": "14250",
                                    "(No column name)": "14350"
                                },
                                {
                                    "TERMEKKOD": "G041-AL211",
                                    "MEGNEVEZES": "fiú ünneplős ruha",
                                    "LISTAAR": "16900",
                                    "(No column name)": "16016,666666666666"
                                },
                                {
                                    "TERMEKKOD": "L041-AL211",
                                    "MEGNEVEZES": "lány ünneplős ruha",
                                    "LISTAAR": "16900",
                                    "(No column name)": "18600"
                                },
                                {
                                    "TERMEKKOD": "F001-KB101",
                                    "MEGNEVEZES": "férfi szövet kabát",
                                    "LISTAAR": "22000",
                                    "(No column name)": "20966,666666666668"
                                },
                                {
                                    "TERMEKKOD": "N001-KB101",
                                    "MEGNEVEZES": "női szövet kabát",
                                    "LISTAAR": "24000",
                                    "(No column name)": "26000"
                                },
                                {
                                    "TERMEKKOD": "N029-AL212",
                                    "MEGNEVEZES": "női koktélruha",
                                    "LISTAAR": "32000",
                                    "(No column name)": "31666,666666666668"
                                },
                                {
                                    "TERMEKKOD": "N035-AL218",
                                    "MEGNEVEZES": "kosztüm (rövid)",
                                    "LISTAAR": "39000",
                                    "(No column name)": "39000"
                                },
                                {
                                    "TERMEKKOD": "N039-AL222",
                                    "MEGNEVEZES": "kosztüm (hosszú)",
                                    "LISTAAR": "46000",
                                    "(No column name)": "42500"
                                }
                            ]
                        },
                        "text/html": [
                            "<table>",
                            "<tr><th>TERMEKKOD</th><th>MEGNEVEZES</th><th>LISTAAR</th><th>(No column name)</th></tr>",
                            "<tr><td>07030108T</td><td>Filctoll CD író</td><td>0</td><td>1,5</td></tr>",
                            "<tr><td>01090498T</td><td>Műnyomó 300g 17,5*20</td><td>3</td><td>2</td></tr>",
                            "<tr><td>02030042T</td><td>Boríték LC 6</td><td>3</td><td>3</td></tr>",
                            "<tr><td>04030288T</td><td>Műanyag pohár 1 dl-es</td><td>3</td><td>3,3333333333333335</td></tr>",
                            "<tr><td>01090501T</td><td>Kreatív A/4 300g </td><td>4</td><td>3,6666666666666665</td></tr>",
                            "<tr><td>01090517T</td><td>Színes ofszet B/4</td><td>4</td><td>4,333333333333333</td></tr>",
                            "<tr><td>06040089T</td><td>Ellenőrzőborító</td><td>5</td><td>5</td></tr>",
                            "<tr><td>02030040T</td><td>Boríték LA 4 francia</td><td>6</td><td>5,666666666666667</td></tr>",
                            "<tr><td>02030041T</td><td>Boríték LC 5</td><td>6</td><td>6,666666666666667</td></tr>",
                            "<tr><td>02040147T</td><td>Genotherm lefűzhető A/5</td><td>8</td><td>7,333333333333333</td></tr>",
                            "<tr><td>06010377T</td><td>Szögmérő színes</td><td>8</td><td>8</td></tr>",
                            "<tr><td>06080425T</td><td>Miliméterpapír</td><td>8</td><td>8</td></tr>",
                            "<tr><td>06040181T</td><td>Gyűjtőlap A/4</td><td>8</td><td>8</td></tr>",
                            "<tr><td>06040353T</td><td>Sorvezető</td><td>8</td><td>8</td></tr>",
                            "<tr><td>06080118T</td><td>Füzetborító átlátszó A5</td><td>8</td><td>8,333333333333334</td></tr>",
                            "<tr><td>07040388T</td><td>Tintapatron /kék/</td><td>9</td><td>8,666666666666666</td></tr>",
                            "<tr><td>06010305T</td><td>Papírcenti 100 cm-es</td><td>9</td><td>9</td></tr>",
                            "<tr><td>01100072T</td><td>Dipa A/4 keretezett</td><td>9</td><td>9,333333333333334</td></tr>",
                            "<tr><td>01100503T</td><td>Color Copy A4 120 g</td><td>10</td><td>9,666666666666666</td></tr>",
                            "<tr><td>06080117T</td><td>Füzetborító A/4 átlátszó</td><td>10</td><td>10,333333333333334</td></tr>",
                            "<tr><td>07040058T</td><td>Ceruza radíros kínai</td><td>11</td><td>10,666666666666666</td></tr>",
                            "<tr><td>07040390T</td><td>Tintapatron színes</td><td>11</td><td>11</td></tr>",
                            "<tr><td>07080065T</td><td>Ceruza kínai</td><td>11</td><td>11</td></tr>",
                            "<tr><td>01090515T</td><td>Színes A/3 160 gr IQ</td><td>11</td><td>11</td></tr>",
                            "<tr><td>06010376T</td><td>Szögmérő papír</td><td>11</td><td>11</td></tr>",
                            "<tr><td>04030285T</td><td>Mikulás zacskó</td><td>11</td><td>11</td></tr>",
                            "<tr><td>04050269T</td><td>Lufi hullámos</td><td>11</td><td>11,333333333333334</td></tr>",
                            "<tr><td>06040206T</td><td>kék indigó</td><td>12</td><td>12</td></tr>",
                            "<tr><td>01100510T</td><td>Kreatív A/4 120g </td><td>13</td><td>13</td></tr>",
                            "<tr><td>01090500T</td><td>Color Copy A4 200 g</td><td>14</td><td>13,666666666666666</td></tr>",
                            "<tr><td>01100497T</td><td>Color Copy 160 g-os </td><td>14</td><td>14</td></tr>",
                            "<tr><td>04030240T</td><td>Képeslap virágos</td><td>14</td><td>14,333333333333334</td></tr>",
                            "<tr><td>04030236T</td><td>Képeslap karácsonyi WD</td><td>15</td><td>14,666666666666666</td></tr>",
                            "<tr><td>04030289T</td><td>Műanyag pohár 5 cl-es</td><td>15</td><td>15</td></tr>",
                            "<tr><td>04030260T</td><td>Levélpapír A/4</td><td>15</td><td>15</td></tr>",
                            "<tr><td>04050268T</td><td>Lufi formázható</td><td>15</td><td>15</td></tr>",
                            "<tr><td>01090499T</td><td>Color Copy A/4 250 g</td><td>15</td><td>15</td></tr>",
                            "<tr><td>01040307T</td><td>Pausz papír A/4</td><td>15</td><td>15</td></tr>",
                            "<tr><td>02040291T</td><td>Naptárhát kicsi</td><td>15</td><td>15</td></tr>",
                            "<tr><td>02030044T</td><td>Boríték mintás</td><td>15</td><td>15</td></tr>",
                            "<tr><td>02050460T</td><td>Boríték C/4-es</td><td>15</td><td>15</td></tr>",
                            "<tr><td>03010342T</td><td>Ragasztószalag  TIXO</td><td>15</td><td>15</td></tr>",
                            "<tr><td>03050078T</td><td>Díszkötöző szalag metál kicsi</td><td>15</td><td>15</td></tr>",
                            "<tr><td>03050079T</td><td>Díszkötöző szalag vékony</td><td>15</td><td>15</td></tr>",
                            "<tr><td>06040205T</td><td>Indigó Pelikán</td><td>15</td><td>15</td></tr>",
                            "<tr><td>07010141T</td><td>G.toll betét X20</td><td>15</td><td>16</td></tr>",
                            "<tr><td>02050461T</td><td>Boríték B/4-es</td><td>18</td><td>17</td></tr>",
                            "<tr><td>02040176T</td><td>Gyorsfűző dosszié fehér</td><td>18</td><td>18,333333333333332</td></tr>",
                            "<tr><td>02040207T</td><td>Iratgyűjtő ESSELTE ablakos</td><td>19</td><td>18,666666666666668</td></tr>",
                            "<tr><td>02040208T</td><td>Iratgyűjtő fehér</td><td>19</td><td>19</td></tr>",
                            "<tr><td>03080004T</td><td>Ajándék cs. tasak italos, fólia</td><td>19</td><td>19</td></tr>",
                            "<tr><td>05050170T</td><td>Gumigyűrű</td><td>19</td><td>19</td></tr>",
                            "<tr><td>06040326T</td><td>Radír KOH-I-NOR 80</td><td>19</td><td>19</td></tr>",
                            "<tr><td>06080122T</td><td>Füzetborító öntapadós nagy</td><td>19</td><td>19</td></tr>",
                            "<tr><td>06080119T</td><td>Füzetborító mesefig.</td><td>19</td><td>19</td></tr>",
                            "<tr><td>06040383T</td><td>Taffet papír</td><td>19</td><td>19,333333333333332</td></tr>",
                            "<tr><td>06080417T</td><td>Zászló papír</td><td>20</td><td>19,666666666666668</td></tr>",
                            "<tr><td>04110068T</td><td>Címke egyszínű</td><td>20</td><td>20</td></tr>",
                            "<tr><td>05010306T</td><td>Papízsebkendő,10db Szindy</td><td>20</td><td>21</td></tr>",
                            "<tr><td>06010202T</td><td>Hurkapálca 10 db-os</td><td>23</td><td>22</td></tr>",
                            "<tr><td>03080021T</td><td>Ajándék csom. vékony</td><td>23</td><td>23</td></tr>",
                            "<tr><td>04030287T</td><td>Műanyag foszforeszkáló állat</td><td>23</td><td>23</td></tr>",
                            "<tr><td>06080190T</td><td>Hegyező műanyag egyes</td><td>23</td><td>23</td></tr>",
                            "<tr><td>07010140T</td><td>G.toll betét Stabilo</td><td>23</td><td>23</td></tr>",
                            "<tr><td>07040053T</td><td>Ceruza HB radiros</td><td>23</td><td>23</td></tr>",
                            "<tr><td>06080120T</td><td>Füzetborító öntapadó kicsi</td><td>23</td><td>23</td></tr>",
                            "<tr><td>07040218T</td><td>Ironbél HB 0,5</td><td>23</td><td>23</td></tr>",
                            "<tr><td>07080156T</td><td>Golyóstoll kupakos piros</td><td>23</td><td>23,333333333333332</td></tr>",
                            "<tr><td>06080424T</td><td>Füzetborító A/4 mintás</td><td>24</td><td>23,666666666666668</td></tr>",
                            "<tr><td>04050203T</td><td>Hűtőmágnes</td><td>24</td><td>24</td></tr>",
                            "<tr><td>04050035T</td><td>Bérlet tok</td><td>24</td><td>24</td></tr>",
                            "<tr><td>06010375T</td><td>Szögmérő 180 fokos műa.</td><td>24</td><td>24,333333333333332</td></tr>",
                            "<tr><td>01040502T</td><td>Előlap spirálhoz</td><td>25</td><td>24,666666666666668</td></tr>",
                            "<tr><td>01090516T</td><td>Színes karton A4</td><td>25</td><td>25,333333333333332</td></tr>",
                            "<tr><td>01030091T</td><td>Emléklap A/5</td><td>26</td><td>25,666666666666668</td></tr>",
                            "<tr><td>03080006T</td><td>Ajándék cs. tasak mintás kicsi</td><td>26</td><td>26</td></tr>",
                            "<tr><td>03050457T</td><td>Ajándék cs. tasak kicsi</td><td>26</td><td>26</td></tr>",
                            "<tr><td>03050076T</td><td>Díszkötöző szalag metál nagy</td><td>26</td><td>26</td></tr>",
                            "<tr><td>04110066T</td><td>Címke 8 db-os</td><td>26</td><td>26</td></tr>",
                            "<tr><td>07040097T</td><td>Filctoll </td><td>26</td><td>26,666666666666668</td></tr>",
                            "<tr><td>06040347T</td><td>Rajzlap A/4 10db ffam.</td><td>28</td><td>27,666666666666668</td></tr>",
                            "<tr><td>06040212T</td><td>Írólap 10-50 ffam.</td><td>29</td><td>29</td></tr>",
                            "<tr><td>06040247T</td><td>Körzőhegy grafit</td><td>30</td><td>29,666666666666668</td></tr>",
                            "<tr><td>06080189T</td><td>Hegyező műanyag dupla</td><td>30</td><td>30</td></tr>",
                            "<tr><td>07040050T</td><td>Ceruza Cseh</td><td>30</td><td>30</td></tr>",
                            "<tr><td>06080191T</td><td>Hegyező tartályos egyes</td><td>30</td><td>30</td></tr>",
                            "<tr><td>06080412T</td><td>Vonalzó 16 cm-es LIZZY</td><td>30</td><td>30</td></tr>",
                            "<tr><td>06080413T</td><td>Vonalzó 30 cm</td><td>30</td><td>30</td></tr>",
                            "<tr><td>06080414T</td><td>Vonalzó 20 cm-es </td><td>30</td><td>30</td></tr>",
                            "<tr><td>06080415T</td><td>Vonalzó 45 fokos</td><td>30</td><td>30</td></tr>",
                            "<tr><td>07040127T</td><td>G. toll betét mini</td><td>30</td><td>30</td></tr>",
                            "<tr><td>07040129T</td><td>G. toll betét réz</td><td>30</td><td>30</td></tr>",
                            "<tr><td>04030234T</td><td>Képeslap karácsonyi</td><td>30</td><td>30</td></tr>",
                            "<tr><td>06010114T</td><td>Füzet A/5 hangjegy 36/16</td><td>30</td><td>30</td></tr>",
                            "<tr><td>02080069T</td><td>CD tartó tok</td><td>30</td><td>30</td></tr>",
                            "<tr><td>01010110T</td><td>Fotópapír A/4 fényes</td><td>30</td><td>30</td></tr>",
                            "<tr><td>02040177T</td><td>Gyorsfűző műa.</td><td>30</td><td>30</td></tr>",
                            "<tr><td>02040145T</td><td>Gemkapocs 28 mm</td><td>30</td><td>30,333333333333332</td></tr>",
                            "<tr><td>04110067T</td><td>Címke WD. állat</td><td>31</td><td>31,333333333333332</td></tr>",
                            "<tr><td>06010083T</td><td>Ecset Centrum 7,8,9</td><td>33</td><td>32,333333333333336</td></tr>",
                            "<tr><td>06010036T</td><td>Betűtartó sin</td><td>33</td><td>33</td></tr>",
                            "<tr><td>04110227T</td><td>Képeslap  borítékos</td><td>33</td><td>33</td></tr>",
                            "<tr><td>04110229T</td><td>Képeslap &quot;Részvét&quot;</td><td>33</td><td>33</td></tr>",
                            "<tr><td>07080155T</td><td>Golyóstoll</td><td>33</td><td>33</td></tr>",
                            "<tr><td>06080416T</td><td>Vonalzó 60 fokos</td><td>33</td><td>33</td></tr>",
                            "<tr><td>07010138T</td><td>G.toll betét jumbo</td><td>33</td><td>33,333333333333336</td></tr>",
                            "<tr><td>06080116T</td><td>Füzet A5 1-8 osz.-ig</td><td>34</td><td>33,666666666666664</td></tr>",
                            "<tr><td>06040213T</td><td>Írólap 20-50 </td><td>34</td><td>34</td></tr>",
                            "<tr><td>06010113T</td><td>Füzet 31-32 szótár</td><td>34</td><td>34</td></tr>",
                            "<tr><td>02040406T</td><td>Tűzőkapocs 24/6</td><td>34</td><td>34,333333333333336</td></tr>",
                            "<tr><td>02040178T</td><td>Gyorsfűző műa.</td><td>35</td><td>34,666666666666664</td></tr>",
                            "<tr><td>06010367T</td><td>Számolókorong</td><td>35</td><td>35</td></tr>",
                            "<tr><td>07080063T</td><td>Ceruza szorzótáblás</td><td>35</td><td>35,333333333333336</td></tr>",
                            "<tr><td>07050463T</td><td>Ceruzafogó</td><td>36</td><td>35,666666666666664</td></tr>",
                            "<tr><td>07040216T</td><td>Ironbél B 0,5</td><td>36</td><td>36</td></tr>",
                            "<tr><td>06040327T</td><td>Radír Koh-i-nor 40</td><td>36</td><td>36</td></tr>",
                            "<tr><td>06040323T</td><td>Post-it 51×38 100 lapos</td><td>36</td><td>36</td></tr>",
                            "<tr><td>07040060T</td><td>Ceruza stabilo swano</td><td>36</td><td>36</td></tr>",
                            "<tr><td>06010365T</td><td>Számegyenes</td><td>36</td><td>36</td></tr>",
                            "<tr><td>06010201T</td><td>Hőmérő, műa.</td><td>36</td><td>36</td></tr>",
                            "<tr><td>06010086T</td><td>Ecset Nebulo 4-es</td><td>36</td><td>36</td></tr>",
                            "<tr><td>04050255T</td><td>Kulcstartó mesefigurás</td><td>36</td><td>36</td></tr>",
                            "<tr><td>04030237T</td><td>Képeslap kerek</td><td>36</td><td>36,666666666666664</td></tr>",
                            "<tr><td>01080513T</td><td>Selyemfényű karton A/4</td><td>38</td><td>37,666666666666664</td></tr>",
                            "<tr><td>02030043T</td><td>Boríték légp. kicsi</td><td>39</td><td>38,666666666666664</td></tr>",
                            "<tr><td>07040051T</td><td>Ceruza háromszög </td><td>39</td><td>39</td></tr>",
                            "<tr><td>07040047T</td><td>Ceruza 2H-4B</td><td>39</td><td>39</td></tr>",
                            "<tr><td>07040133T</td><td>G.toll betét görbe hegyű</td><td>39</td><td>39,333333333333336</td></tr>",
                            "<tr><td>07080064T</td><td>Ceruza zöld színű</td><td>40</td><td>39,666666666666664</td></tr>",
                            "<tr><td>07040049T</td><td>Ceruza Conté zöld</td><td>40</td><td>40</td></tr>",
                            "<tr><td>07040056T</td><td>Ceruza piros-kék vékony</td><td>40</td><td>40</td></tr>",
                            "<tr><td>06040325T</td><td>Radír gyümölcsös</td><td>40</td><td>40</td></tr>",
                            "<tr><td>01100509T</td><td>Márványos A/4</td><td>40</td><td>40</td></tr>",
                            "<tr><td>02040507T</td><td>Fólia tasakos A4 80 mik.</td><td>40</td><td>40</td></tr>",
                            "<tr><td>03050459T</td><td>Talpas tasak</td><td>40</td><td>40</td></tr>",
                            "<tr><td>06010082T</td><td>Ecset Centrum 10,11,12</td><td>40</td><td>40</td></tr>",
                            "<tr><td>05050465T</td><td>Tapétavágó kés</td><td>40</td><td>40,333333333333336</td></tr>",
                            "<tr><td>07080153T</td><td>Golyóstoll illatos ICO</td><td>41</td><td>41,333333333333336</td></tr>",
                            "<tr><td>06010373T</td><td>Színes papír I.II-IV.V-VIII-ig</td><td>43</td><td>42,666666666666664</td></tr>",
                            "<tr><td>04030241T</td><td>Képeslap virágos +boríték</td><td>44</td><td>43,666666666666664</td></tr>",
                            "<tr><td>03080020T</td><td>Ajándék csom. nagy  </td><td>44</td><td>44</td></tr>",
                            "<tr><td>04030286T</td><td>Műanyag állatok</td><td>44</td><td>44</td></tr>",
                            "<tr><td>04050075T</td><td>Díszdoboz tollnak 2 db-os keskeny</td><td>44</td><td>44</td></tr>",
                            "<tr><td>03050077T</td><td>Diszkötöző szalag arany</td><td>44</td><td>44</td></tr>",
                            "<tr><td>02080450T</td><td>Gémkapocs 28-as színes</td><td>44</td><td>44</td></tr>",
                            "<tr><td>02040508T</td><td>Fólia tasakos A4100 mik.</td><td>44</td><td>44</td></tr>",
                            "<tr><td>02040506T</td><td>Fólia tasakos A4 125 mik.</td><td>44</td><td>44</td></tr>",
                            "<tr><td>02040405T</td><td>Tűzőkapocs 10-es</td><td>44</td><td>44</td></tr>",
                            "<tr><td>02040298T</td><td>Notesz mintás</td><td>44</td><td>44</td></tr>",
                            "<tr><td>02040209T</td><td>Iratsín fehér</td><td>44</td><td>44</td></tr>",
                            "<tr><td>07040134T</td><td>G.toll betét illatos</td><td>44</td><td>44</td></tr>",
                            "<tr><td>07080161T</td><td>Golyóstoll kétszínű</td><td>44</td><td>44</td></tr>",
                            "<tr><td>06040328T</td><td>Radír Maped</td><td>44</td><td>44</td></tr>",
                            "<tr><td>06040329T</td><td>Radír stabilo</td><td>44</td><td>44</td></tr>",
                            "<tr><td>07040061T</td><td>Ceruza stabilo opera</td><td>44</td><td>44,333333333333336</td></tr>",
                            "<tr><td>02080514T</td><td>Spirál 1/4 </td><td>45</td><td>44,666666666666664</td></tr>",
                            "<tr><td>06010374T</td><td>Szorzótábla műanyag</td><td>45</td><td>45,333333333333336</td></tr>",
                            "<tr><td>05050045T</td><td>Celofán</td><td>46</td><td>45,666666666666664</td></tr>",
                            "<tr><td>07040102T</td><td>Filctoll supra fine</td><td>46</td><td>46,666666666666664</td></tr>",
                            "<tr><td>07010137T</td><td>G.toll betét PAX tip.</td><td>48</td><td>47,333333333333336</td></tr>",
                            "<tr><td>06040386T</td><td>Tempera szóló színes</td><td>48</td><td>48</td></tr>",
                            "<tr><td>06010115T</td><td>Füzet A/5, mintás</td><td>48</td><td>48</td></tr>",
                            "<tr><td>04050224T</td><td>Jelzőkréta</td><td>48</td><td>48</td></tr>",
                            "<tr><td>04030239T</td><td>Képeslap stancolt szív</td><td>48</td><td>48</td></tr>",
                            "<tr><td>02040146T</td><td>Gemkapocs ICO</td><td>48</td><td>48</td></tr>",
                            "<tr><td>01020299T</td><td>Oklevél A/4 egyszínű</td><td>48</td><td>48,333333333333336</td></tr>",
                            "<tr><td>04110274T</td><td>Matrica autóra H</td><td>49</td><td>48,666666666666664</td></tr>",
                            "<tr><td>04110275T</td><td>Matrica motoros kicsi</td><td>49</td><td>49</td></tr>",
                            "<tr><td>06040331T</td><td>Radír Tikky 40 </td><td>49</td><td>49,333333333333336</td></tr>",
                            "<tr><td>06040330T</td><td>Radír Tikky 30 </td><td>50</td><td>50</td></tr>",
                            "<tr><td>07080150T</td><td>Golyóstoll</td><td>51</td><td>50,666666666666664</td></tr>",
                            "<tr><td>04110232T</td><td>Képeslap humoros kaparós</td><td>51</td><td>51</td></tr>",
                            "<tr><td>06040088T</td><td>Egészségügyi könyv</td><td>51</td><td>51</td></tr>",
                            "<tr><td>02080109T</td><td>Floppy lemez</td><td>51</td><td>51,666666666666664</td></tr>",
                            "<tr><td>07030103T</td><td>Filctoll TINTEN PEN</td><td>53</td><td>52,333333333333336</td></tr>",
                            "<tr><td>07040052T</td><td>Ceruza 2H-3B Koh-i-nor</td><td>53</td><td>53,666666666666664</td></tr>",
                            "<tr><td>07040054T</td><td>Ceruza kártyás</td><td>55</td><td>54,333333333333336</td></tr>",
                            "<tr><td>07040048T</td><td>Ceruza arany, ezüst</td><td>55</td><td>55</td></tr>",
                            "<tr><td>07040132T</td><td>G.toll betét csavaros</td><td>55</td><td>55</td></tr>",
                            "<tr><td>07040128T</td><td>G. toll betét mini fém</td><td>55</td><td>55</td></tr>",
                            "<tr><td>02080433T</td><td>Ragasztószalag 19 mm-es</td><td>55</td><td>55</td></tr>",
                            "<tr><td>01020300T</td><td>Oklevél A/4 színes</td><td>55</td><td>55</td></tr>",
                            "<tr><td>04110230T</td><td>Képeslap humoros </td><td>55</td><td>55</td></tr>",
                            "<tr><td>04110273T</td><td>Matrica állatos</td><td>55</td><td>55,333333333333336</td></tr>",
                            "<tr><td>04110282T</td><td>Matrica WD kicsi</td><td>56</td><td>55,666666666666664</td></tr>",
                            "<tr><td>04030262T</td><td>Levélpapír sima</td><td>56</td><td>56</td></tr>",
                            "<tr><td>03080019T</td><td>Ajándék csom. Krepp</td><td>56</td><td>56</td></tr>",
                            "<tr><td>02040296T</td><td>Notesz A/6 College</td><td>56</td><td>56,666666666666664</td></tr>",
                            "<tr><td>07040059T</td><td>Ceruza smaragd</td><td>58</td><td>57,333333333333336</td></tr>",
                            "<tr><td>06080411T</td><td>Vonalzó 15 cm-es ESSELTE</td><td>58</td><td>58</td></tr>",
                            "<tr><td>06040384T</td><td>Technika cs. I-II-III-IV</td><td>58</td><td>58,333333333333336</td></tr>",
                            "<tr><td>07040055T</td><td>Ceruza piros-kék</td><td>59</td><td>58,666666666666664</td></tr>",
                            "<tr><td>07040217T</td><td>Ironbél H 0,5</td><td>59</td><td>59</td></tr>",
                            "<tr><td>07080313T</td><td>Pixiron Centrum</td><td>59</td><td>59</td></tr>",
                            "<tr><td>07080317T</td><td>Pixiron mini </td><td>59</td><td>59</td></tr>",
                            "<tr><td>01010304T</td><td>Öntapadós hologramos papír A/4</td><td>59</td><td>59</td></tr>",
                            "<tr><td>01030092T</td><td>Esküvői meghívó</td><td>59</td><td>59</td></tr>",
                            "<tr><td>02040214T</td><td>Iromány fedél feles</td><td>59</td><td>59</td></tr>",
                            "<tr><td>04030238T</td><td>Képeslap stancolt</td><td>59</td><td>59,333333333333336</td></tr>",
                            "<tr><td>06010084T</td><td>Ecset Deák 2-es</td><td>60</td><td>60</td></tr>",
                            "<tr><td>06010368T</td><td>Számolópálca</td><td>61</td><td>60,666666666666664</td></tr>",
                            "<tr><td>04050073T</td><td>Díszdoboz kar.</td><td>61</td><td>61,666666666666664</td></tr>",
                            "<tr><td>05040349T</td><td>Rajzszeg</td><td>63</td><td>62,333333333333336</td></tr>",
                            "<tr><td>02040148T</td><td>Genotherm lefűzhető A4 10db-os</td><td>63</td><td>63</td></tr>",
                            "<tr><td>03010344T</td><td>Ragasztószalag nagy 12 mm</td><td>63</td><td>63</td></tr>",
                            "<tr><td>07080159T</td><td>Golyóstoll Pax tip.</td><td>63</td><td>63</td></tr>",
                            "<tr><td>06080429T</td><td>Meghívó ballagási</td><td>63</td><td>63,333333333333336</td></tr>",
                            "<tr><td>03080013T</td><td>Ajándék csom. 50x70 húsvéti</td><td>64</td><td>64</td></tr>",
                            "<tr><td>06010085T</td><td>Ecset Lizzy 10-es</td><td>65</td><td>64,66666666666667</td></tr>",
                            "<tr><td>04050220T</td><td>Játék autó</td><td>65</td><td>65,33333333333333</td></tr>",
                            "<tr><td>04050074T</td><td>Díszdoboz tollnak 2 db-os</td><td>66</td><td>65,66666666666667</td></tr>",
                            "<tr><td>04050187T</td><td>Hajgumi macis</td><td>66</td><td>66</td></tr>",
                            "<tr><td>02080436T</td><td>Irattartó müa. boríték A/4</td><td>66</td><td>66</td></tr>",
                            "<tr><td>07080419T</td><td>Zselés toll MICRO</td><td>66</td><td>66,66666666666667</td></tr>",
                            "<tr><td>06010111T</td><td>Füzet  A/4 </td><td>68</td><td>68</td></tr>",
                            "<tr><td>06080192T</td><td>Hegyző fém 1 lyukú</td><td>70</td><td>70,33333333333333</td></tr>",
                            "<tr><td>06050249T</td><td>Krepp papír</td><td>73</td><td>72</td></tr>",
                            "<tr><td>05050046T</td><td>Celofán 50 db-os</td><td>73</td><td>73</td></tr>",
                            "<tr><td>04110258T</td><td>Lampion</td><td>73</td><td>73</td></tr>",
                            "<tr><td>04050223T</td><td>Játékautó mini</td><td>73</td><td>73</td></tr>",
                            "<tr><td>04030235T</td><td>Képeslap karácsonyi borítékos</td><td>73</td><td>73</td></tr>",
                            "<tr><td>01100070T</td><td>Dekorációs karton</td><td>73</td><td>73,33333333333333</td></tr>",
                            "<tr><td>04030264T</td><td>Levélpapír szett </td><td>74</td><td>73,66666666666667</td></tr>",
                            "<tr><td>06080332T</td><td>Radírtoll betét ER100</td><td>74</td><td>74</td></tr>",
                            "<tr><td>06080430T</td><td>Öntapadős betűk</td><td>74</td><td>74</td></tr>",
                            "<tr><td>07010244T</td><td>Kerámiatoll</td><td>74</td><td>74</td></tr>",
                            "<tr><td>07040215T</td><td>Ironbél  2B ICO</td><td>74</td><td>74,66666666666667</td></tr>",
                            "<tr><td>07030104T</td><td>Filctoll vastag ARTIP</td><td>76</td><td>76</td></tr>",
                            "<tr><td>07010143T</td><td>G.toll betét Zebra H-0,7</td><td>78</td><td>77,33333333333333</td></tr>",
                            "<tr><td>06040380T</td><td>Szövegkiemelő</td><td>78</td><td>78</td></tr>",
                            "<tr><td>07040219T</td><td>Ironbél HI-POLIMER HB 0,7</td><td>78</td><td>78</td></tr>",
                            "<tr><td>06010112T</td><td>Füzet  A4 mintás</td><td>78</td><td>78</td></tr>",
                            "<tr><td>02040292T</td><td>Naptárhát nagy</td><td>78</td><td>78,33333333333333</td></tr>",
                            "<tr><td>06040087T</td><td>Ecset Nebuló 10-es</td><td>79</td><td>79</td></tr>",
                            "<tr><td>07040130T</td><td>G. toll betét S7S</td><td>80</td><td>79,66666666666667</td></tr>",
                            "<tr><td>07040391T</td><td>Toll Centropen roller</td><td>80</td><td>80,33333333333333</td></tr>",
                            "<tr><td>07080466T</td><td>Golyóstoll Stabiló 308</td><td>81</td><td>80,66666666666667</td></tr>",
                            "<tr><td>06080336T</td><td>Ragasztó 8 g Pritt</td><td>81</td><td>81</td></tr>",
                            "<tr><td>04110231T</td><td>Képeslap humoros borítékos</td><td>81</td><td>81</td></tr>",
                            "<tr><td>04040387T</td><td>Tenisz labda</td><td>81</td><td>81</td></tr>",
                            "<tr><td>02040197T</td><td>Hibajavító lap </td><td>81</td><td>81</td></tr>",
                            "<tr><td>02040206T</td><td>Írásvetítő fólia</td><td>81</td><td>81</td></tr>",
                            "<tr><td>03050080T</td><td>Diszkötöző széles szalag</td><td>81</td><td>81</td></tr>",
                            "<tr><td>03080014T</td><td>Ajándék csom. 70x50 metál</td><td>81</td><td>81</td></tr>",
                            "<tr><td>02040308T</td><td>Pénztárgépsz. 2 pl. nem öníró</td><td>81</td><td>82,33333333333333</td></tr>",
                            "<tr><td>07040131T</td><td>G. toll betét UNI lachnok Fine SA-7C</td><td>85</td><td>85</td></tr>",
                            "<tr><td>06080339T</td><td>Ragasztó kores</td><td>89</td><td>87,66666666666667</td></tr>",
                            "<tr><td>07010144T</td><td>G.toll betét Zebra K-0,7</td><td>89</td><td>89</td></tr>",
                            "<tr><td>06040357T</td><td>Sp.Füzet A/5 70-es</td><td>89</td><td>89</td></tr>",
                            "<tr><td>06040378T</td><td>Szövegkiemelő vékony</td><td>89</td><td>89</td></tr>",
                            "<tr><td>06040324T</td><td>Post-it 75×75 100 lapos</td><td>89</td><td>89</td></tr>",
                            "<tr><td>02040295T</td><td>Notesz A/5 sima spirál</td><td>89</td><td>89</td></tr>",
                            "<tr><td>02080456T</td><td>Genoterm HERLITZ 10-es</td><td>89</td><td>89</td></tr>",
                            "<tr><td>02040290T</td><td>Naptár 24-es</td><td>89</td><td>89</td></tr>",
                            "<tr><td>02040210T</td><td>Iratsín kék</td><td>89</td><td>89</td></tr>",
                            "<tr><td>01100071T</td><td>Dekorációs karton arany, ezüst</td><td>89</td><td>89</td></tr>",
                            "<tr><td>04050022T</td><td>Álarc</td><td>89</td><td>89</td></tr>",
                            "<tr><td>04030263T</td><td>Levélpapír szett</td><td>89</td><td>89</td></tr>",
                            "<tr><td>04110233T</td><td>Képeslap humoros</td><td>89</td><td>89</td></tr>",
                            "<tr><td>05010370T</td><td>Szilvia csomagoló</td><td>89</td><td>89</td></tr>",
                            "<tr><td>05050346T</td><td>Rágógumi Orbit</td><td>89</td><td>89,66666666666667</td></tr>",
                            "<tr><td>07010139T</td><td>G.toll betét S7L </td><td>91</td><td>91</td></tr>",
                            "<tr><td>06040379T</td><td>Szövegkiemelő </td><td>93</td><td>92,33333333333333</td></tr>",
                            "<tr><td>07080157T</td><td>Golyóstoll Montex Hytone</td><td>93</td><td>93</td></tr>",
                            "<tr><td>04110277T</td><td>Matrica Stickers szíves</td><td>93</td><td>93</td></tr>",
                            "<tr><td>02040309T</td><td>Pénztárgépszalag 2pl SC 57.5/60</td><td>93</td><td>93,33333333333333</td></tr>",
                            "<tr><td>07080315T</td><td>Pixiron Handy műanyag</td><td>94</td><td>93,66666666666667</td></tr>",
                            "<tr><td>07040169T</td><td>Golyóstoll Zodiák</td><td>94</td><td>94,33333333333333</td></tr>",
                            "<tr><td>07080418T</td><td>Zselés toll </td><td>95</td><td>94,66666666666667</td></tr>",
                            "<tr><td>06040183T</td><td>Gyűrűskönyv bet. A/5</td><td>95</td><td>95,33333333333333</td></tr>",
                            "<tr><td>06040385T</td><td>Tempera szóló ezüst</td><td>96</td><td>96,66666666666667</td></tr>",
                            "<tr><td>07010371T</td><td>Színes ceruza 6-os</td><td>99</td><td>98,66666666666667</td></tr>",
                            "<tr><td>06080338T</td><td>Ragasztó kenőfejes Nebuló</td><td>101</td><td>100,33333333333333</td></tr>",
                            "<tr><td>07080162T</td><td>Golyóstoll Stabilo piros</td><td>101</td><td>101,66666666666667</td></tr>",
                            "<tr><td>07030106T</td><td>Filctoll, alkoholosOHP F-M-C</td><td>103</td><td>102,33333333333333</td></tr>",
                            "<tr><td>06040381T</td><td>Szövegkiemelő Videotip</td><td>103</td><td>103</td></tr>",
                            "<tr><td>06040352T</td><td>Rovatolt papír 20 íves</td><td>103</td><td>103</td></tr>",
                            "<tr><td>02040294T</td><td>Notesz A/5 sima</td><td>103</td><td>103</td></tr>",
                            "<tr><td>02040297T</td><td>Notesz sima spirál College</td><td>103</td><td>103</td></tr>",
                            "<tr><td>02080449T</td><td>Térképtű színes</td><td>103</td><td>103</td></tr>",
                            "<tr><td>02080451T</td><td>Gémkapocs 50-es</td><td>103</td><td>103</td></tr>",
                            "<tr><td>03080008T</td><td>Ajándék cs. tasak kicsi</td><td>103</td><td>103</td></tr>",
                            "<tr><td>02020245T</td><td>Kiadási pénztárbizonylat 2×25</td><td>103</td><td>103</td></tr>",
                            "<tr><td>05040310T</td><td>Pill.ragasztó</td><td>103</td><td>103</td></tr>",
                            "<tr><td>04030265T</td><td>Levélpapír szett natur, mintás</td><td>103</td><td>103</td></tr>",
                            "<tr><td>04050253T</td><td>Kulcstartó figurás</td><td>103</td><td>104</td></tr>",
                            "<tr><td>03080031T</td><td>Ajándék cs. húsvéti</td><td>106</td><td>105</td></tr>",
                            "<tr><td>05040348T</td><td>Rajzszeg színes</td><td>106</td><td>106</td></tr>",
                            "<tr><td>02010028T</td><td>Árazószalag </td><td>106</td><td>106</td></tr>",
                            "<tr><td>02080226T</td><td>Kapocskiszedő</td><td>106</td><td>106</td></tr>",
                            "<tr><td>07040057T</td><td>Ceruza Progresso</td><td>106</td><td>107</td></tr>",
                            "<tr><td>04110276T</td><td>Matrica Stickers nagy állatos</td><td>109</td><td>108,33333333333333</td></tr>",
                            "<tr><td>04050171T</td><td>Gumilabda közepes</td><td>110</td><td>109,66666666666667</td></tr>",
                            "<tr><td>03080016T</td><td>házt.csom.  5 ív</td><td>110</td><td>110</td></tr>",
                            "<tr><td>02040149T</td><td>Genotherm A4 10db-os</td><td>110</td><td>110</td></tr>",
                            "<tr><td>06080335T</td><td>Ragasztó 9 g Pax</td><td>110</td><td>110</td></tr>",
                            "<tr><td>07080468T</td><td>Golyóstoll háromfunkciós</td><td>110</td><td>111,33333333333333</td></tr>",
                            "<tr><td>07030105T</td><td>Filctoll, alkoholos Centropen</td><td>114</td><td>112,66666666666667</td></tr>",
                            "<tr><td>03080439T</td><td>Italtartó doboz</td><td>114</td><td>114,33333333333333</td></tr>",
                            "<tr><td>04050250T</td><td>Kulcstartó autós</td><td>115</td><td>114,66666666666667</td></tr>",
                            "<tr><td>02020029T</td><td>Átírótömb A/6</td><td>115</td><td>116</td></tr>",
                            "<tr><td>04030242T</td><td>Képeslap WD +boríték</td><td>118</td><td>117</td></tr>",
                            "<tr><td>05010026T</td><td>Alufólia 10 m-es</td><td>118</td><td>118</td></tr>",
                            "<tr><td>05110360T</td><td>Szalvéta egyszínű</td><td>118</td><td>118,33333333333333</td></tr>",
                            "<tr><td>06080333T</td><td>Radírtoll betét vastag</td><td>119</td><td>119,33333333333333</td></tr>",
                            "<tr><td>06080441T</td><td>Gyurmakés</td><td>121</td><td>120,33333333333333</td></tr>",
                            "<tr><td>03080018T</td><td>Ajándék csom. gyűrt 50x70 </td><td>121</td><td>121,66666666666667</td></tr>",
                            "<tr><td>07010136T</td><td>G.toll betét PAX</td><td>123</td><td>122,66666666666667</td></tr>",
                            "<tr><td>04050252T</td><td>Kulcstartó Csőrikés</td><td>124</td><td>124</td></tr>",
                            "<tr><td>03080012T</td><td>Ajándék csom. 200x70</td><td>125</td><td>124,66666666666667</td></tr>",
                            "<tr><td>06040399T</td><td>Tombola tömb</td><td>125</td><td>125</td></tr>",
                            "<tr><td>07080312T</td><td>Pixiron 0,7 Handy</td><td>125</td><td>126,33333333333333</td></tr>",
                            "<tr><td>04050256T</td><td>Kulcstartó nagyítós</td><td>129</td><td>127,66666666666667</td></tr>",
                            "<tr><td>04050267T</td><td>Logikai készlet</td><td>129</td><td>129</td></tr>",
                            "<tr><td>05010369T</td><td>Szemetes zsák 60 literes</td><td>129</td><td>129,66666666666666</td></tr>",
                            "<tr><td>04050225T</td><td>Kártya mini Magyar</td><td>131</td><td>131</td></tr>",
                            "<tr><td>04050221T</td><td>Játékautó Blisteres</td><td>133</td><td>132,33333333333334</td></tr>",
                            "<tr><td>05110363T</td><td>Szalvéta dekor</td><td>133</td><td>133</td></tr>",
                            "<tr><td>02080081T</td><td>Dvd</td><td>133</td><td>133</td></tr>",
                            "<tr><td>02020032T</td><td>Beírókönyv A5 </td><td>133</td><td>133</td></tr>",
                            "<tr><td>02040198T</td><td>Hibajavító roller 5 mm</td><td>133</td><td>133</td></tr>",
                            "<tr><td>02040025T</td><td>Álló irattartó karton</td><td>133</td><td>133</td></tr>",
                            "<tr><td>07080314T</td><td>Pixiron Handy fém</td><td>133</td><td>133</td></tr>",
                            "<tr><td>06050301T</td><td>Olló gyerek </td><td>133</td><td>133</td></tr>",
                            "<tr><td>06080334T</td><td>Ragasztó szalag KORES </td><td>133</td><td>135,33333333333334</td></tr>",
                            "<tr><td>07040101T</td><td>Filctoll permanent vastag</td><td>140</td><td>137,66666666666666</td></tr>",
                            "<tr><td>07050464T</td><td>Szövegkiemelő Staedtler</td><td>140</td><td>140</td></tr>",
                            "<tr><td>04030261T</td><td>Levélpapír állatos</td><td>140</td><td>141,33333333333334</td></tr>",
                            "<tr><td>04050023T</td><td>Álarc fejdísz</td><td>144</td><td>142,66666666666666</td></tr>",
                            "<tr><td>04050024T</td><td>Álarc szemüveg</td><td>144</td><td>144</td></tr>",
                            "<tr><td>05080340T</td><td>Ragasztó, Technokol 35g kék</td><td>144</td><td>144</td></tr>",
                            "<tr><td>05080341T</td><td>Ragasztó, Technokol 35g piros</td><td>144</td><td>144</td></tr>",
                            "<tr><td>02020037T</td><td>Bevételi pénztárbizonylat 3×25</td><td>144</td><td>144</td></tr>",
                            "<tr><td>06040356T</td><td>Sp.Füzet A/4  70es</td><td>144</td><td>144,66666666666666</td></tr>",
                            "<tr><td>07080062T</td><td>Ceruza szén</td><td>146</td><td>146</td></tr>",
                            "<tr><td>06040174T</td><td>Gumis mappa </td><td>148</td><td>147,33333333333334</td></tr>",
                            "<tr><td>03080011T</td><td>Ajándék cs. tasak közepes</td><td>148</td><td>148</td></tr>",
                            "<tr><td>03080009T</td><td>Ajándék csom. 100x70 metál</td><td>148</td><td>148</td></tr>",
                            "<tr><td>03080017T</td><td>iskolai csomagoló papír</td><td>148</td><td>148</td></tr>",
                            "<tr><td>03050458T</td><td>Ajándék cs. 2×100×70</td><td>148</td><td>148</td></tr>",
                            "<tr><td>04110280T</td><td>Matrica tetoválós kicsi</td><td>148</td><td>148</td></tr>",
                            "<tr><td>04050251T</td><td>Kulcstartó billiárd golyós</td><td>148</td><td>150,33333333333334</td></tr>",
                            "<tr><td>04050254T</td><td>Kulcstartó intarziás állatos</td><td>155</td><td>152,66666666666666</td></tr>",
                            "<tr><td>04110283T</td><td>Meghívó állatos</td><td>155</td><td>155</td></tr>",
                            "<tr><td>06040355T</td><td>Sp.Füzet A/4 70-as</td><td>155</td><td>157</td></tr>",
                            "<tr><td>06040246T</td><td>Körző</td><td>161</td><td>159</td></tr>",
                            "<tr><td>06050303T</td><td>Olló, iskolai</td><td>161</td><td>161</td></tr>",
                            "<tr><td>07010372T</td><td>Színes ceruza 12 szín</td><td>161</td><td>161</td></tr>",
                            "<tr><td>06080259T</td><td>Leckefüzet</td><td>161</td><td>161</td></tr>",
                            "<tr><td>06080440T</td><td>Gyurma 12 szinű</td><td>161</td><td>161</td></tr>",
                            "<tr><td>06080426T</td><td>Szótárfüzet Lizzy</td><td>161</td><td>161</td></tr>",
                            "<tr><td>06080427T</td><td>Ablakkréta</td><td>161</td><td>161</td></tr>",
                            "<tr><td>07080420T</td><td>Zselés toll Muhnwa</td><td>161</td><td>161</td></tr>",
                            "<tr><td>04110278T</td><td>Matrica Test ékszer tattoo</td><td>161</td><td>161</td></tr>",
                            "<tr><td>05110364T</td><td>Szalvéta kicsi virágos</td><td>161</td><td>161</td></tr>",
                            "<tr><td>04050321T</td><td>Plüss kicsi</td><td>161</td><td>161</td></tr>",
                            "<tr><td>01080093T</td><td>Fax papír 15 m</td><td>161</td><td>162,33333333333334</td></tr>",
                            "<tr><td>04050222T</td><td>Játékautó elemes</td><td>165</td><td>164</td></tr>",
                            "<tr><td>03010345T</td><td>Ragasztószalag széles barna</td><td>166</td><td>166,33333333333334</td></tr>",
                            "<tr><td>04110279T</td><td>Matrica tetoválás</td><td>168</td><td>167,66666666666666</td></tr>",
                            "<tr><td>04110284T</td><td>Meghívó borítékos</td><td>169</td><td>168,66666666666666</td></tr>",
                            "<tr><td>04050204T</td><td>Hűtőmágnes WD</td><td>169</td><td>169</td></tr>",
                            "<tr><td>04030266T</td><td>Levélpapír szett virágos</td><td>169</td><td>169</td></tr>",
                            "<tr><td>03080015T</td><td>Ajándék csom. gyűrt</td><td>169</td><td>170,33333333333334</td></tr>",
                            "<tr><td>04050320T</td><td>Plüss  QX állatok</td><td>173</td><td>172,33333333333334</td></tr>",
                            "<tr><td>04110281T</td><td>Matrica világítós </td><td>175</td><td>174,33333333333334</td></tr>",
                            "<tr><td>05110361T</td><td>Szalvéta Goma húsvéti</td><td>175</td><td>175,33333333333334</td></tr>",
                            "<tr><td>05110359T</td><td>Szalvéta </td><td>176</td><td>175,66666666666666</td></tr>",
                            "<tr><td>06080410T</td><td>Vízfesték 12db-os kínai</td><td>176</td><td>176</td></tr>",
                            "<tr><td>06050302T</td><td>Olló Tagit 18 cm-es</td><td>176</td><td>177,33333333333334</td></tr>",
                            "<tr><td>06040179T</td><td>Gyurma színes 200 g-os</td><td>180</td><td>178,66666666666666</td></tr>",
                            "<tr><td>06080409T</td><td>Vízfesték 12 színű kerek</td><td>180</td><td>180</td></tr>",
                            "<tr><td>06080193T</td><td>Hegyző fém 2 lyukú</td><td>180</td><td>180</td></tr>",
                            "<tr><td>06080428T</td><td>Ecsetkészlet</td><td>180</td><td>181</td></tr>",
                            "<tr><td>04110362T</td><td>Szalvéta gyűjtőknek</td><td>183</td><td>182,33333333333334</td></tr>",
                            "<tr><td>04110228T</td><td>Képeslap &quot;Nászajándék&quot;</td><td>184</td><td>183,66666666666666</td></tr>",
                            "<tr><td>02080435T</td><td>Mappa bemutató</td><td>184</td><td>184</td></tr>",
                            "<tr><td>06040182T</td><td>Gyűrűskönyv bet. A/4</td><td>184</td><td>184,33333333333334</td></tr>",
                            "<tr><td>03080003T</td><td>Ajándék cs. tasak italos</td><td>185</td><td>184,66666666666666</td></tr>",
                            "<tr><td>02040195T</td><td>Hibajavító ecsetes Aqua</td><td>185</td><td>185</td></tr>",
                            "<tr><td>03080437T</td><td>Ajándék csomagoló tasak</td><td>185</td><td>186</td></tr>",
                            "<tr><td>07080470T</td><td>Golyóstoll háromszög</td><td>188</td><td>187,33333333333334</td></tr>",
                            "<tr><td>07040168T</td><td>Golyóstoll Zebra new hard</td><td>189</td><td>189</td></tr>",
                            "<tr><td>08070482T</td><td>Fizika munkafüzet 14 év.</td><td>190</td><td>190</td></tr>",
                            "<tr><td>06040175T</td><td>Gumis mappa Köbüki</td><td>191</td><td>192</td></tr>",
                            "<tr><td>06080121T</td><td>Füzetborító öntapadó tekercses</td><td>195</td><td>193,66666666666666</td></tr>",
                            "<tr><td>04030243T</td><td>Képkirakó Dirib-darab</td><td>195</td><td>195</td></tr>",
                            "<tr><td>06040172T</td><td>Gumis mappa csomagolt</td><td>195</td><td>196</td></tr>",
                            "<tr><td>08070481T</td><td>Fizika munkafüzet 13 év.</td><td>198</td><td>198,66666666666666</td></tr>",
                            "<tr><td>06080126T</td><td>Füzettartó A/5  </td><td>203</td><td>201,33333333333334</td></tr>",
                            "<tr><td>06040351T</td><td>Regiszteres füzet A5 Hightech</td><td>203</td><td>204</td></tr>",
                            "<tr><td>06040354T</td><td>Sp.Füzet A/4  perforált, lyuk.</td><td>206</td><td>205</td></tr>",
                            "<tr><td>03080007T</td><td>Ajándék cs. tasak mintás nagy</td><td>206</td><td>206</td></tr>",
                            "<tr><td>03080010T</td><td>Ajándék csom. 150x70</td><td>206</td><td>207,33333333333334</td></tr>",
                            "<tr><td>02080434T</td><td>Mappa müa A/4</td><td>210</td><td>208,66666666666666</td></tr>",
                            "<tr><td>06080408T</td><td>Vízfesték 12 db-os </td><td>210</td><td>210,33333333333334</td></tr>",
                            "<tr><td>06040173T</td><td>Gumis mappa fóliázott állatos</td><td>211</td><td>211,66666666666666</td></tr>",
                            "<tr><td>05010027T</td><td>Alufólia 20 m-es</td><td>214</td><td>213</td></tr>",
                            "<tr><td>03080438T</td><td>Ajándék csomagoló tasak lézeres</td><td>214</td><td>214</td></tr>",
                            "<tr><td>02080431T</td><td>Álló irattartó</td><td>214</td><td>214</td></tr>",
                            "<tr><td>08070491T</td><td>Szám.tech. kicsiknek</td><td>214</td><td>215,33333333333334</td></tr>",
                            "<tr><td>07040165T</td><td>Golyóstoll UNI laknock</td><td>218</td><td>216,66666666666666</td></tr>",
                            "<tr><td>06040184T</td><td>Gyűrűskönyv betét A/5</td><td>218</td><td>218,66666666666666</td></tr>",
                            "<tr><td>03080030T</td><td>Ajándék cs. húsvéti 200x70</td><td>220</td><td>222</td></tr>",
                            "<tr><td>06040180T</td><td>Gyurma színes natúr</td><td>228</td><td>225,33333333333334</td></tr>",
                            "<tr><td>06080423T</td><td>Beíró A/5 kockás</td><td>228</td><td>228</td></tr>",
                            "<tr><td>07010142T</td><td>G.toll betét Zebra F-0.7</td><td>228</td><td>228</td></tr>",
                            "<tr><td>07080421T</td><td>Zseléstoll Lizzy Card</td><td>228</td><td>228,66666666666666</td></tr>",
                            "<tr><td>07080163T</td><td>Golyóstoll UNI átlátszó</td><td>230</td><td>229,66666666666666</td></tr>",
                            "<tr><td>07080164T</td><td>Golyóstoll UNI gumis</td><td>231</td><td>232</td></tr>",
                            "<tr><td>07080318T</td><td>Pixiron Penac</td><td>235</td><td>235</td></tr>",
                            "<tr><td>07080160T</td><td>Golyóstoll penac</td><td>239</td><td>238</td></tr>",
                            "<tr><td>G029-FE307</td><td>fiú zokni</td><td>240</td><td>239,66666666666666</td></tr>",
                            "<tr><td>L029-FE307</td><td>lány zokni</td><td>240</td><td>241</td></tr>",
                            "<tr><td>06040248T</td><td>Körző maped</td><td>243</td><td>242</td></tr>",
                            "<tr><td>02040211T</td><td>Iratrendező ESSELTE</td><td>243</td><td>245</td></tr>",
                            "<tr><td>06080407T</td><td>Vízfesték  12 színű nagy</td><td>249</td><td>249,33333333333334</td></tr>",
                            "<tr><td>06040350T</td><td>Regiszteres füzet A4</td><td>256</td><td>254,66666666666666</td></tr>",
                            "<tr><td>02080432T</td><td>Tokos iratrendező</td><td>259</td><td>259,6666666666667</td></tr>",
                            "<tr><td>04080271T</td><td>Mappa PVC villámzáras</td><td>264</td><td>265,3333333333333</td></tr>",
                            "<tr><td>02040196T</td><td>Hibajavító készlet Blanco</td><td>273</td><td>270</td></tr>",
                            "<tr><td>07080467T</td><td>Golyóstoll kétfunkciós ICO</td><td>273</td><td>274</td></tr>",
                            "<tr><td>07080311T</td><td>Pixiron  UNI</td><td>276</td><td>275</td></tr>",
                            "<tr><td>07030107T</td><td>Filctoll, textil Edding 4500</td><td>276</td><td>276,6666666666667</td></tr>",
                            "<tr><td>07040098T</td><td>Filctoll document pen</td><td>278</td><td>277,3333333333333</td></tr>",
                            "<tr><td>02040200T</td><td>Hibajavító Kores mini pen</td><td>278</td><td>280,6666666666667</td></tr>",
                            "<tr><td>02040199T</td><td>Hibajavító roller Pax</td><td>286</td><td>283,3333333333333</td></tr>",
                            "<tr><td>02040402T</td><td>Tűzőgép Boxer </td><td>286</td><td>287,3333333333333</td></tr>",
                            "<tr><td>03080005T</td><td>Ajándék cs. tasak virágos nagy</td><td>290</td><td>289</td></tr>",
                            "<tr><td>08070485T</td><td>Jól felkészültem-e - Fizika</td><td>291</td><td>291,3333333333333</td></tr>",
                            "<tr><td>08070476T</td><td>Anyanyelvi gyakorló 2</td><td>293</td><td>292,3333333333333</td></tr>",
                            "<tr><td>06080337T</td><td>Ragasztó Gyurma</td><td>293</td><td>293,3333333333333</td></tr>",
                            "<tr><td>07080471T</td><td>Golyóstoll levélbontós</td><td>294</td><td>294,6666666666667</td></tr>",
                            "<tr><td>02060034T</td><td>Bélyegzőfesték </td><td>297</td><td>296,6666666666667</td></tr>",
                            "<tr><td>07080319T</td><td>Pixiron Pentel színes</td><td>299</td><td>301,3333333333333</td></tr>",
                            "<tr><td>08070480T</td><td>Fizika 13 éveseknek</td><td>308</td><td>305,6666666666667</td></tr>",
                            "<tr><td>02040293T</td><td>Névjegytartó kicsi</td><td>310</td><td>310,6666666666667</td></tr>",
                            "<tr><td>04050322T</td><td>Plüss sárkány</td><td>314</td><td>313,3333333333333</td></tr>",
                            "<tr><td>04080442T</td><td>Emlékkönyv</td><td>316</td><td>318</td></tr>",
                            "<tr><td>08070483T</td><td>Fizikai feladatok és tévedések</td><td>324</td><td>321,3333333333333</td></tr>",
                            "<tr><td>06080422T</td><td>Füzettartó A/4</td><td>324</td><td>324</td></tr>",
                            "<tr><td>06040394T</td><td>Tolltartó zipzáras</td><td>324</td><td>325,3333333333333</td></tr>",
                            "<tr><td>02020033T</td><td>Beírókönyv A4</td><td>328</td><td>330,3333333333333</td></tr>",
                            "<tr><td>02040401T</td><td>Tűzőgép Boxer 10</td><td>339</td><td>336,3333333333333</td></tr>",
                            "<tr><td>01010001T</td><td>félfamentes rajzlap A4 (10 lap)</td><td>342</td><td>342</td></tr>",
                            "<tr><td>08070484T</td><td>Fogalmazás lépésről lépésre</td><td>345</td><td>346,6666666666667</td></tr>",
                            "<tr><td>08070477T</td><td>Anyanyelvi gyakorló 3</td><td>353</td><td>351,3333333333333</td></tr>",
                            "<tr><td>04050358T</td><td>Strandlabda </td><td>356</td><td>356,3333333333333</td></tr>",
                            "<tr><td>04080272T</td><td>Mappa PVC villámzáras  képes</td><td>360</td><td>358,6666666666667</td></tr>",
                            "<tr><td>07040389T</td><td>Tintapatron 30 db-os kék</td><td>360</td><td>361,3333333333333</td></tr>",
                            "<tr><td>07080469T</td><td>Golyóstoll UNIBALL 07</td><td>364</td><td>371,3333333333333</td></tr>",
                            "<tr><td>07080151T</td><td>Golyóstoll + ceruza Twister 2in1</td><td>390</td><td>381,3333333333333</td></tr>",
                            "<tr><td>G023-FE301</td><td>fiú alsó</td><td>390</td><td>390</td></tr>",
                            "<tr><td>L023-FE301</td><td>lány alsó</td><td>390</td><td>390</td></tr>",
                            "<tr><td>07040100T</td><td>Filctoll Marvy alkoholos</td><td>390</td><td>393,6666666666667</td></tr>",
                            "<tr><td>07080154T</td><td>Golyóstoll INOXCROM</td><td>401</td><td>398</td></tr>",
                            "<tr><td>08070486T</td><td>Matematika gyakorló 2</td><td>403</td><td>402,3333333333333</td></tr>",
                            "<tr><td>08070487T</td><td>Matematika gyakorló 3</td><td>403</td><td>403</td></tr>",
                            "<tr><td>08070488T</td><td>Matematika gyakorló 4</td><td>403</td><td>403,6666666666667</td></tr>",
                            "<tr><td>02040404T</td><td>Tűzőgép EAGLE</td><td>405</td><td>406</td></tr>",
                            "<tr><td>06040396T</td><td>Tolltartó Garfield</td><td>410</td><td>408,6666666666667</td></tr>",
                            "<tr><td>06040398T</td><td>Tolltartó hengeres </td><td>411</td><td>410,6666666666667</td></tr>",
                            "<tr><td>06080125T</td><td>Füzettartó A/5 vastag</td><td>411</td><td>416</td></tr>",
                            "<tr><td>06010343T</td><td>Ragasztószalag 19 mm-es SCOTCH+ tépő</td><td>426</td><td>423,6666666666667</td></tr>",
                            "<tr><td>07040099T</td><td>Filctoll Edding 750</td><td>434</td><td>431,3333333333333</td></tr>",
                            "<tr><td>07040257T</td><td>Lakk filc Edding 750</td><td>434</td><td>435,3333333333333</td></tr>",
                            "<tr><td>02080452T</td><td>Tűzőgép mini</td><td>438</td><td>437,3333333333333</td></tr>",
                            "<tr><td>08070475T</td><td>A föld amelyen élünk - munkafüzet</td><td>440</td><td>439,3333333333333</td></tr>",
                            "<tr><td>08070494T</td><td>Érettségi felv. fel. Fizika</td><td>440</td><td>440</td></tr>",
                            "<tr><td>08070495T</td><td>Érettségi felv. fel. Biológia</td><td>440</td><td>443</td></tr>",
                            "<tr><td>04080443T</td><td>Emlékkönyv lakatos</td><td>449</td><td>448</td></tr>",
                            "<tr><td>07040166T</td><td>Golyóstoll Zebra 301</td><td>455</td><td>456</td></tr>",
                            "<tr><td>02020444T</td><td>Határidő napló A/6</td><td>464</td><td>462,3333333333333</td></tr>",
                            "<tr><td>07080316T</td><td>Pixiron KOH-I-NOOR</td><td>468</td><td>475</td></tr>",
                            "<tr><td>07050462T</td><td>Töltőtoll tinta </td><td>493</td><td>489,6666666666667</td></tr>",
                            "<tr><td>06080124T</td><td>Füzettartó A/4 keménytáblás</td><td>508</td><td>503</td></tr>",
                            "<tr><td>06010366T</td><td>Számológép Roxin</td><td>508</td><td>509</td></tr>",
                            "<tr><td>06040400T</td><td>Tornazsák</td><td>511</td><td>515</td></tr>",
                            "<tr><td>04040090T</td><td>Emlékkönyv</td><td>526</td><td>521</td></tr>",
                            "<tr><td>02080453T</td><td>Lyukasztó EAGLE</td><td>526</td><td>534,3333333333334</td></tr>",
                            "<tr><td>06080123T</td><td>Füzettartó A/4 keménytáblás</td><td>551</td><td>552,6666666666666</td></tr>",
                            "<tr><td>06040185T</td><td>Gyűrűskönyv</td><td>581</td><td>585,6666666666666</td></tr>",
                            "<tr><td>02080455T</td><td>Festékpatron BCI-3BK</td><td>625</td><td>613</td></tr>",
                            "<tr><td>06040382T</td><td>Táblafilc</td><td>633</td><td>636</td></tr>",
                            "<tr><td>02060039T</td><td>Bélyegző párna</td><td>650</td><td>646</td></tr>",
                            "<tr><td>06040397T</td><td>Tolltartó asztali</td><td>655</td><td>653,3333333333334</td></tr>",
                            "<tr><td>07040167T</td><td>Golyóstoll Zebra mini</td><td>655</td><td>661,3333333333334</td></tr>",
                            "<tr><td>08070479T</td><td>Fizika</td><td>674</td><td>671</td></tr>",
                            "<tr><td>07040135T</td><td>G.toll betét Parker </td><td>684</td><td>681,3333333333334</td></tr>",
                            "<tr><td>01100505T</td><td>Fehér másoló A/4</td><td>686</td><td>686,6666666666666</td></tr>",
                            "<tr><td>N019-FE301</td><td>női alsó</td><td>690</td><td>689</td></tr>",
                            "<tr><td>08070490T</td><td>Szövegszerkesztés</td><td>691</td><td>693,3333333333334</td></tr>",
                            "<tr><td>06040186T</td><td>Gyűrűskönyv színes</td><td>699</td><td>703,3333333333334</td></tr>",
                            "<tr><td>08070493T</td><td>Érettségi felv. fel. Matematika</td><td>720</td><td>715,6666666666666</td></tr>",
                            "<tr><td>06040395T</td><td>Tolltartó 2 zipzáros töltött</td><td>728</td><td>725,3333333333334</td></tr>",
                            "<tr><td>06040392T</td><td>Tolltartó 1 zipzáros</td><td>728</td><td>728</td></tr>",
                            "<tr><td>01100095T</td><td>Fénymásoló papír GetCopy</td><td>728</td><td>728</td></tr>",
                            "<tr><td>01100096T</td><td>Fénymásoló papír Qconnect</td><td>728</td><td>728</td></tr>",
                            "<tr><td>04020445T</td><td>Határidő napló 2010-s</td><td>728</td><td>730,3333333333334</td></tr>",
                            "<tr><td>08070492T</td><td>Informatika</td><td>735</td><td>742,6666666666666</td></tr>",
                            "<tr><td>06040393T</td><td>Tolltartó 2 részes NG.</td><td>765</td><td>755</td></tr>",
                            "<tr><td>02080454T</td><td>Lyukasztó BOXER</td><td>765</td><td>767,6666666666666</td></tr>",
                            "<tr><td>07080158T</td><td>Golyóstoll Parker tokban</td><td>773</td><td>772,6666666666666</td></tr>",
                            "<tr><td>02060038T</td><td>Bélyegző IDEAL 50</td><td>780</td><td>779,3333333333334</td></tr>",
                            "<tr><td>08070478T</td><td>Összefoglaló feladatgyüjtemény számtech.</td><td>785</td><td>786,3333333333334</td></tr>",
                            "<tr><td>02040194T</td><td>Hibajav.roll.Pritt 4,2mm</td><td>794</td><td>808</td></tr>",
                            "<tr><td>01100094T</td><td>Fénymásoló papír DataCopy</td><td>845</td><td>835,6666666666666</td></tr>",
                            "<tr><td>08070489T</td><td>RAMba zárt világ</td><td>868</td><td>862,6666666666666</td></tr>",
                            "<tr><td>06080188T</td><td>Hegyező gép</td><td>875</td><td>911</td></tr>",
                            "<tr><td>G038-FE316</td><td>fiú harisnya</td><td>990</td><td>951,6666666666666</td></tr>",
                            "<tr><td>L033-FE311</td><td>lány harisnya</td><td>990</td><td>999,6666666666666</td></tr>",
                            "<tr><td>07080152T</td><td>Golyóstoll 3 funkciós </td><td>1019</td><td>1032,6666666666667</td></tr>",
                            "<tr><td>08070472T</td><td>A föld amelyen élünk - Európa földrajza</td><td>1089</td><td>1065,6666666666667</td></tr>",
                            "<tr><td>08070473T</td><td>A föld amelyen élünk - Távoli földrészek</td><td>1089</td><td>1089</td></tr>",
                            "<tr><td>08070474T</td><td>A föld amelyen élünk - Hazánk földrajza</td><td>1089</td><td>1108,3333333333333</td></tr>",
                            "<tr><td>02060448T</td><td>Bélyegző RP 18-47</td><td>1147</td><td>1136,3333333333333</td></tr>",
                            "<tr><td>06040446T</td><td>Számológép tudományos</td><td>1173</td><td>1203,3333333333333</td></tr>",
                            "<tr><td>G019-NA207</td><td>gyermek pamut nadrág (fiú)</td><td>1290</td><td>1251</td></tr>",
                            "<tr><td>L019-NA207</td><td>gyermek pamut nadrág (lány)</td><td>1290</td><td>1310,3333333333333</td></tr>",
                            "<tr><td>02040403T</td><td>Tűzőgép SAX 239</td><td>1351</td><td>1339,3333333333333</td></tr>",
                            "<tr><td>02060447T</td><td>Bélyegző pocket</td><td>1377</td><td>1405,3333333333333</td></tr>",
                            "<tr><td>01100504T</td><td>Fehér másoló A/3</td><td>1488</td><td>1455</td></tr>",
                            "<tr><td>01100496T</td><td>Színes másoló a/4 80g</td><td>1500</td><td>1584,3333333333333</td></tr>",
                            "<tr><td>04080270T</td><td>Mappa bőr A5</td><td>1765</td><td>1751,6666666666667</td></tr>",
                            "<tr><td>U001-KI501</td><td>sál</td><td>1990</td><td>1951,6666666666667</td></tr>",
                            "<tr><td>02040002T</td><td>irodai tűzőgép</td><td>2100</td><td>2663,3333333333335</td></tr>",
                            "<tr><td>L048-PO218</td><td>gyermek póló (lány)</td><td>3900</td><td>3300</td></tr>",
                            "<tr><td>G048-PO218</td><td>gyermek póló (fiú)</td><td>3900</td><td>4125</td></tr>",
                            "<tr><td>01080512T</td><td>Öntapadó A/4</td><td>4575</td><td>4488,333333333333</td></tr>",
                            "<tr><td>G013-NA201</td><td>gyermek farmer nadrág (fiú)</td><td>4990</td><td>4851,666666666667</td></tr>",
                            "<tr><td>L013-NA201</td><td>gyermek farmer nadrág (lány)</td><td>4990</td><td>5490</td></tr>",
                            "<tr><td>F021-IN215</td><td>férfi ing</td><td>6490</td><td>6126,666666666667</td></tr>",
                            "<tr><td>L064-CI401</td><td>gyermek szandál (lány)</td><td>6900</td><td>6763,333333333333</td></tr>",
                            "<tr><td>G064-CI401</td><td>gyermek szandál (fiú)</td><td>6900</td><td>7230</td></tr>",
                            "<tr><td>F007-NA201</td><td>férfi farmer nadrág</td><td>7890</td><td>7563,333333333333</td></tr>",
                            "<tr><td>G073-CI410</td><td>gyermek cipő (fiú)</td><td>7900</td><td>7896,666666666667</td></tr>",
                            "<tr><td>L073-CI410</td><td>gyermek cipő (lány)</td><td>7900</td><td>7933,333333333333</td></tr>",
                            "<tr><td>L082-CI419</td><td>gyermek csizma (lány)</td><td>8000</td><td>7966,666666666667</td></tr>",
                            "<tr><td>G082-CI419</td><td>gyermek csizma (fiú)</td><td>8000</td><td>8096,666666666667</td></tr>",
                            "<tr><td>N008-NA201</td><td>női farmer nadrág</td><td>8290</td><td>8396,666666666666</td></tr>",
                            "<tr><td>L001-KB101</td><td>gyermek kabát (lány)</td><td>8900</td><td>8696,666666666666</td></tr>",
                            "<tr><td>G001-KB101</td><td>gyermek kabát (fiú)</td><td>8900</td><td>9900</td></tr>",
                            "<tr><td>F013-NA207</td><td>férfi szövet nadrág</td><td>11900</td><td>11683,333333333334</td></tr>",
                            "<tr><td>02080511T</td><td>Oki toner C</td><td>14250</td><td>14350</td></tr>",
                            "<tr><td>G041-AL211</td><td>fiú ünneplős ruha</td><td>16900</td><td>16016,666666666666</td></tr>",
                            "<tr><td>L041-AL211</td><td>lány ünneplős ruha</td><td>16900</td><td>18600</td></tr>",
                            "<tr><td>F001-KB101</td><td>férfi szövet kabát</td><td>22000</td><td>20966,666666666668</td></tr>",
                            "<tr><td>N001-KB101</td><td>női szövet kabát</td><td>24000</td><td>26000</td></tr>",
                            "<tr><td>N029-AL212</td><td>női koktélruha</td><td>32000</td><td>31666,666666666668</td></tr>",
                            "<tr><td>N035-AL218</td><td>kosztüm (rövid)</td><td>39000</td><td>39000</td></tr>",
                            "<tr><td>N039-AL222</td><td>kosztüm (hosszú)</td><td>46000</td><td>42500</td></tr>",
                            "</table>"
                        ]
                    }
                }
            ],
            "execution_count": 33
        },
        {
            "cell_type": "markdown",
            "source": [
                "13. <span style=\"color: rgb(36, 41, 47); font-family: -apple-system, BlinkMacSystemFont, &quot;Segoe UI&quot;, Helvetica, Arial, sans-serif, &quot;Apple Color Emoji&quot;, &quot;Segoe UI Emoji&quot;; font-size: 16px;\">Készítsünk listát, amely a rendelések sorszámát és a rendelés értékét tartalmazza. A listát egészítsük ki egy új oszloppal, amely minden rendelés esetén addigi rendelések összegét tartalmazza (az aktuálisat is beleértve)!</span>\n",
                "\n",
                "1. A listát rendezzük sorszám szerint növekvő sorrendbe.\n",
                "2. A lista ne tartalmazzon duplikált sorokat!"
            ],
            "metadata": {
                "azdata_cell_guid": "85d5cb66-96c6-42de-99cf-85ab22d08548"
            },
            "attachments": {}
        },
        {
            "cell_type": "code",
            "source": [
                ""
            ],
            "metadata": {
                "azdata_cell_guid": "cb07d64b-0eaa-498b-b4d2-0b46971e95ce",
                "language": "sql"
            },
            "outputs": [
                {
                    "output_type": "display_data",
                    "data": {
                        "text/html": "Commands completed successfully."
                    },
                    "metadata": {}
                },
                {
                    "output_type": "display_data",
                    "data": {
                        "text/html": "Total execution time: 00:00:00"
                    },
                    "metadata": {}
                }
            ],
            "execution_count": 13
        },
        {
            "cell_type": "markdown",
            "source": [
                "14. <span style=\"color: rgb(36, 41, 47); font-family: -apple-system, BlinkMacSystemFont, &quot;Segoe UI&quot;, Helvetica, Arial, sans-serif, &quot;Apple Color Emoji&quot;, &quot;Segoe UI Emoji&quot;; font-size: 16px;\">Készítsünk listát a termékek kódjáról, nevéről, kategória azonosítójáról, raktár azonosítójáról és listaáráról, valamint a termék adott szempontok szerinti rangsorokban elfoglalt helyezéseiről. (Szempontonként külön oszlopban, a helyezéseknél növekvő sorrendet feltételezve). A szempontok a következők legyenek: listaár, kategória szerinti listaár, és raktárkód szerinti listaár.</span>\n",
                "\n",
                "1. Az oszlopokat nevezzük el értelemszerűen.\n",
                "2. A helyezések egyenlőség esetén \"sűrűn\" kövessék egymást.\n",
                "3. A lista legyen rendezett kategória azonosító, azon belül listaár szerint!"
            ],
            "metadata": {
                "azdata_cell_guid": "f95ad665-a807-4099-bf06-64ed974f866f"
            },
            "attachments": {}
        },
        {
            "cell_type": "code",
            "source": [
                ""
            ],
            "metadata": {
                "azdata_cell_guid": "74c7ec8a-ae4a-4d03-b1c4-e8f6bb1be12c",
                "language": "sql"
            },
            "outputs": [
                {
                    "output_type": "display_data",
                    "data": {
                        "text/html": "Commands completed successfully."
                    },
                    "metadata": {}
                },
                {
                    "output_type": "display_data",
                    "data": {
                        "text/html": "Total execution time: 00:00:00"
                    },
                    "metadata": {}
                }
            ],
            "execution_count": 14
        },
        {
            "cell_type": "markdown",
            "source": [
                "15. <span style=\"color: rgb(36, 41, 47); font-family: -apple-system, BlinkMacSystemFont, &quot;Segoe UI&quot;, Helvetica, Arial, sans-serif, &quot;Apple Color Emoji&quot;, &quot;Segoe UI Emoji&quot;; font-size: 16px;\">Készítsünk listát a rendelési tételekről, amely minden sor esetén göngyölítve tartalmazza az ügyfél adott rendelési tételig meglévő rendelési tételeinek összértékét!</span>\n",
                "\n",
                "1. Az új oszlop neve legyen Eddigi rendelési tételek összértéke!\n",
                "2. Az ügyfél neve is jelenjen meg!"
            ],
            "metadata": {
                "azdata_cell_guid": "93552388-ffec-49ff-99e5-ae8dc8072601"
            },
            "attachments": {}
        },
        {
            "cell_type": "code",
            "source": [
                ""
            ],
            "metadata": {
                "azdata_cell_guid": "0e7f547f-7d96-4611-b1c2-0fa84a581e79",
                "language": "sql"
            },
            "outputs": [
                {
                    "output_type": "display_data",
                    "data": {
                        "text/html": "Commands completed successfully."
                    },
                    "metadata": {}
                },
                {
                    "output_type": "display_data",
                    "data": {
                        "text/html": "Total execution time: 00:00:00"
                    },
                    "metadata": {}
                }
            ],
            "execution_count": 15
        }
    ]
}