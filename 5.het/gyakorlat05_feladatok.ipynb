{
    "metadata": {
        "kernelspec": {
            "name": "SQL",
            "display_name": "SQL",
            "language": "sql"
        },
        "language_info": {
            "name": "sql",
            "version": ""
        }
    },
    "nbformat_minor": 2,
    "nbformat": 4,
    "cells": [
        {
            "cell_type": "markdown",
            "source": [
                "1. <span style=\"color: rgb(36, 41, 47); font-family: -apple-system, BlinkMacSystemFont, &quot;Segoe UI&quot;, Helvetica, Arial, sans-serif, &quot;Apple Color Emoji&quot;, &quot;Segoe UI Emoji&quot;; font-size: 16px;\">Készítsünk listát éves bontásban norbert2 azonosítójú ügyfél rendeléseinek értékéről!</span>\n",
                "\n",
                "1. A lista megfelelően jelölve tartalmazza a végösszeget is!"
            ],
            "metadata": {
                "azdata_cell_guid": "363cd270-6577-449b-9c89-d4b7c7972d52"
            },
            "attachments": {}
        },
        {
            "cell_type": "code",
            "source": [
                "SELECT IIf(YEAR(r.REND_DATUM) IS NULL, 'Összesen', Cast(YEAR(r.REND_DATUM) AS NVARCHAR(4))),\r\n",
                "        SUM(rt.EGYSEGAR*rt.MENNYISEG)\r\n",
                "FROM Rendeles r JOIN Rendeles_tetel rt On r.SORSZAM=rt.SORSZAM\r\n",
                "WHERE [LOGIN] LIKE 'norbert2'\r\n",
                "GROUP BY  ROLLUP (YEAR(r.REND_DATUM))"
            ],
            "metadata": {
                "azdata_cell_guid": "6ab9f633-a3b5-48c9-a1dc-4fb8235ae85b",
                "language": "sql"
            },
            "outputs": [
                {
                    "output_type": "display_data",
                    "data": {
                        "text/html": "(3 rows affected)"
                    },
                    "metadata": {}
                },
                {
                    "output_type": "display_data",
                    "data": {
                        "text/html": "Total execution time: 00:00:00.075"
                    },
                    "metadata": {}
                },
                {
                    "output_type": "execute_result",
                    "metadata": {},
                    "execution_count": 1,
                    "data": {
                        "application/vnd.dataresource+json": {
                            "schema": {
                                "fields": [
                                    {
                                        "name": "(No column name)"
                                    },
                                    {
                                        "name": "(No column name)"
                                    }
                                ]
                            },
                            "data": [
                                {
                                    "(No column name)": "483473"
                                },
                                {
                                    "(No column name)": "614340"
                                },
                                {
                                    "(No column name)": "1097813"
                                }
                            ]
                        },
                        "text/html": [
                            "<table>",
                            "<tr><th>(No column name)</th><th>(No column name)</th></tr>",
                            "<tr><td>2015</td><td>483473</td></tr>",
                            "<tr><td>2017</td><td>614340</td></tr>",
                            "<tr><td>Összesen</td><td>1097813</td></tr>",
                            "</table>"
                        ]
                    }
                }
            ],
            "execution_count": 1
        },
        {
            "cell_type": "markdown",
            "source": [
                "2. <span style=\"color: rgb(36, 41, 47); font-family: -apple-system, BlinkMacSystemFont, &quot;Segoe UI&quot;, Helvetica, Arial, sans-serif, &quot;Apple Color Emoji&quot;, &quot;Segoe UI Emoji&quot;; font-size: 16px;\">Készítsünk listát szállítási dátumonként, azon belül szállítási módonként az egyes rendelések összmennyiségéről!</span>\n",
                "\n",
                "1. Csak azokat a termékeket vegyük figyelembe, amelyek mennyiségi egysége db!\n",
                "2. A listát szűrjük úgy, hogy az csak a részösszeg sorokat és a végösszeget tartalmazza!"
            ],
            "metadata": {
                "azdata_cell_guid": "ea75c103-911f-41a3-a32c-3d40fb3e4e4a"
            },
            "attachments": {}
        },
        {
            "cell_type": "code",
            "source": [
                "SELECT r.REND_DATUM,\r\n",
                "        r.SZALL_MOD,\r\n",
                "        SUM(rt.EGYSEGAR*rt.MENNYISEG)\r\n",
                "FROM Rendeles r JOIN Rendeles_tetel rt On r.SORSZAM=rt.SORSZAM\r\n",
                "                JOIN Termek t On rt.TERMEKKOD=t.TERMEKKOD\r\n",
                "WHERE t.MEGYS LIKE 'db'\r\n",
                "GROUP BY  ROLLUP (r.REND_DATUM,r.SZALL_MOD)\r\n",
                "HAVING SZALL_MOD Is NULL or r.SZALL_DATUM is NULL"
            ],
            "metadata": {
                "azdata_cell_guid": "222b9618-a8e8-42b4-a8e8-d002257122b7",
                "language": "sql"
            },
            "outputs": [
                {
                    "output_type": "display_data",
                    "data": {
                        "text/html": "Warning: Null value is eliminated by an aggregate or other SET operation."
                    },
                    "metadata": {}
                },
                {
                    "output_type": "display_data",
                    "data": {
                        "text/html": "(703 rows affected)"
                    },
                    "metadata": {}
                },
                {
                    "output_type": "display_data",
                    "data": {
                        "text/html": "Total execution time: 00:00:00.264"
                    },
                    "metadata": {}
                },
                {
                    "output_type": "execute_result",
                    "metadata": {},
                    "execution_count": 2,
                    "data": {
                        "application/vnd.dataresource+json": {
                            "schema": {
                                "fields": [
                                    {
                                        "name": "REND_DATUM"
                                    },
                                    {
                                        "name": "SZALL_MOD"
                                    },
                                    {
                                        "name": "(No column name)"
                                    }
                                ]
                            },
                            "data": [
                                {
                                    "REND_DATUM": "2015-05-01",
                                    "SZALL_MOD": "NULL",
                                    "(No column name)": "2279415"
                                },
                                {
                                    "REND_DATUM": "2015-05-02",
                                    "SZALL_MOD": "NULL",
                                    "(No column name)": "3580718"
                                },
                                {
                                    "REND_DATUM": "2015-05-03",
                                    "SZALL_MOD": "NULL",
                                    "(No column name)": "2812695"
                                },
                                {
                                    "REND_DATUM": "2015-05-04",
                                    "SZALL_MOD": "NULL",
                                    "(No column name)": "2772950"
                                },
                                {
                                    "REND_DATUM": "2015-05-05",
                                    "SZALL_MOD": "NULL",
                                    "(No column name)": "3485649"
                                },
                                {
                                    "REND_DATUM": "2015-05-06",
                                    "SZALL_MOD": "NULL",
                                    "(No column name)": "3382873"
                                },
                                {
                                    "REND_DATUM": "2015-05-07",
                                    "SZALL_MOD": "NULL",
                                    "(No column name)": "3426361"
                                },
                                {
                                    "REND_DATUM": "2015-05-08",
                                    "SZALL_MOD": "NULL",
                                    "(No column name)": "4359636"
                                },
                                {
                                    "REND_DATUM": "2015-05-09",
                                    "SZALL_MOD": "NULL",
                                    "(No column name)": "2849930"
                                },
                                {
                                    "REND_DATUM": "2015-05-10",
                                    "SZALL_MOD": "NULL",
                                    "(No column name)": "4228829"
                                },
                                {
                                    "REND_DATUM": "2015-05-11",
                                    "SZALL_MOD": "NULL",
                                    "(No column name)": "2379426"
                                },
                                {
                                    "REND_DATUM": "2015-05-12",
                                    "SZALL_MOD": "NULL",
                                    "(No column name)": "3736901"
                                },
                                {
                                    "REND_DATUM": "2015-05-13",
                                    "SZALL_MOD": "NULL",
                                    "(No column name)": "5337596"
                                },
                                {
                                    "REND_DATUM": "2015-05-14",
                                    "SZALL_MOD": "NULL",
                                    "(No column name)": "2472862"
                                },
                                {
                                    "REND_DATUM": "2015-05-15",
                                    "SZALL_MOD": "NULL",
                                    "(No column name)": "3708772"
                                },
                                {
                                    "REND_DATUM": "2015-05-16",
                                    "SZALL_MOD": "NULL",
                                    "(No column name)": "2043315"
                                },
                                {
                                    "REND_DATUM": "2015-05-17",
                                    "SZALL_MOD": "NULL",
                                    "(No column name)": "2896002"
                                },
                                {
                                    "REND_DATUM": "2015-05-18",
                                    "SZALL_MOD": "NULL",
                                    "(No column name)": "3138099"
                                },
                                {
                                    "REND_DATUM": "2015-05-19",
                                    "SZALL_MOD": "NULL",
                                    "(No column name)": "3757350"
                                },
                                {
                                    "REND_DATUM": "2015-05-20",
                                    "SZALL_MOD": "NULL",
                                    "(No column name)": "4256931"
                                },
                                {
                                    "REND_DATUM": "2015-05-21",
                                    "SZALL_MOD": "NULL",
                                    "(No column name)": "2623545"
                                },
                                {
                                    "REND_DATUM": "2015-05-22",
                                    "SZALL_MOD": "NULL",
                                    "(No column name)": "3311306"
                                },
                                {
                                    "REND_DATUM": "2015-05-23",
                                    "SZALL_MOD": "NULL",
                                    "(No column name)": "3707229"
                                },
                                {
                                    "REND_DATUM": "2015-05-24",
                                    "SZALL_MOD": "NULL",
                                    "(No column name)": "3469333"
                                },
                                {
                                    "REND_DATUM": "2015-05-25",
                                    "SZALL_MOD": "NULL",
                                    "(No column name)": "5086306"
                                },
                                {
                                    "REND_DATUM": "2015-05-26",
                                    "SZALL_MOD": "NULL",
                                    "(No column name)": "4483064"
                                },
                                {
                                    "REND_DATUM": "2015-05-27",
                                    "SZALL_MOD": "NULL",
                                    "(No column name)": "3446967"
                                },
                                {
                                    "REND_DATUM": "2015-05-28",
                                    "SZALL_MOD": "NULL",
                                    "(No column name)": "4207823"
                                },
                                {
                                    "REND_DATUM": "2015-05-29",
                                    "SZALL_MOD": "NULL",
                                    "(No column name)": "3898877"
                                },
                                {
                                    "REND_DATUM": "2015-05-30",
                                    "SZALL_MOD": "NULL",
                                    "(No column name)": "4686786"
                                },
                                {
                                    "REND_DATUM": "2015-05-31",
                                    "SZALL_MOD": "NULL",
                                    "(No column name)": "3113844"
                                },
                                {
                                    "REND_DATUM": "2015-06-01",
                                    "SZALL_MOD": "NULL",
                                    "(No column name)": "4279329"
                                },
                                {
                                    "REND_DATUM": "2015-06-02",
                                    "SZALL_MOD": "NULL",
                                    "(No column name)": "3042970"
                                },
                                {
                                    "REND_DATUM": "2015-06-03",
                                    "SZALL_MOD": "NULL",
                                    "(No column name)": "2883237"
                                },
                                {
                                    "REND_DATUM": "2015-06-04",
                                    "SZALL_MOD": "NULL",
                                    "(No column name)": "4333851"
                                },
                                {
                                    "REND_DATUM": "2015-06-05",
                                    "SZALL_MOD": "NULL",
                                    "(No column name)": "3018811"
                                },
                                {
                                    "REND_DATUM": "2015-06-06",
                                    "SZALL_MOD": "NULL",
                                    "(No column name)": "4426703"
                                },
                                {
                                    "REND_DATUM": "2015-06-07",
                                    "SZALL_MOD": "NULL",
                                    "(No column name)": "3669678"
                                },
                                {
                                    "REND_DATUM": "2015-06-08",
                                    "SZALL_MOD": "NULL",
                                    "(No column name)": "2609941"
                                },
                                {
                                    "REND_DATUM": "2015-06-09",
                                    "SZALL_MOD": "NULL",
                                    "(No column name)": "1806618"
                                },
                                {
                                    "REND_DATUM": "2015-06-10",
                                    "SZALL_MOD": "NULL",
                                    "(No column name)": "5877852"
                                },
                                {
                                    "REND_DATUM": "2015-06-11",
                                    "SZALL_MOD": "NULL",
                                    "(No column name)": "2894153"
                                },
                                {
                                    "REND_DATUM": "2015-06-12",
                                    "SZALL_MOD": "NULL",
                                    "(No column name)": "2720092"
                                },
                                {
                                    "REND_DATUM": "2015-06-13",
                                    "SZALL_MOD": "NULL",
                                    "(No column name)": "3799415"
                                },
                                {
                                    "REND_DATUM": "2015-06-14",
                                    "SZALL_MOD": "NULL",
                                    "(No column name)": "2909648"
                                },
                                {
                                    "REND_DATUM": "2015-06-15",
                                    "SZALL_MOD": "NULL",
                                    "(No column name)": "2810870"
                                },
                                {
                                    "REND_DATUM": "2015-06-16",
                                    "SZALL_MOD": "NULL",
                                    "(No column name)": "3778323"
                                },
                                {
                                    "REND_DATUM": "2015-06-17",
                                    "SZALL_MOD": "NULL",
                                    "(No column name)": "2756853"
                                },
                                {
                                    "REND_DATUM": "2015-06-18",
                                    "SZALL_MOD": "NULL",
                                    "(No column name)": "3190411"
                                },
                                {
                                    "REND_DATUM": "2015-06-19",
                                    "SZALL_MOD": "NULL",
                                    "(No column name)": "2923276"
                                },
                                {
                                    "REND_DATUM": "2015-06-20",
                                    "SZALL_MOD": "NULL",
                                    "(No column name)": "2871905"
                                },
                                {
                                    "REND_DATUM": "2015-06-21",
                                    "SZALL_MOD": "NULL",
                                    "(No column name)": "4386623"
                                },
                                {
                                    "REND_DATUM": "2015-06-22",
                                    "SZALL_MOD": "NULL",
                                    "(No column name)": "1917370"
                                },
                                {
                                    "REND_DATUM": "2015-06-23",
                                    "SZALL_MOD": "NULL",
                                    "(No column name)": "5572063"
                                },
                                {
                                    "REND_DATUM": "2015-06-24",
                                    "SZALL_MOD": "NULL",
                                    "(No column name)": "3303546"
                                },
                                {
                                    "REND_DATUM": "2015-06-25",
                                    "SZALL_MOD": "NULL",
                                    "(No column name)": "1917903"
                                },
                                {
                                    "REND_DATUM": "2015-06-26",
                                    "SZALL_MOD": "NULL",
                                    "(No column name)": "2767873"
                                },
                                {
                                    "REND_DATUM": "2015-06-27",
                                    "SZALL_MOD": "NULL",
                                    "(No column name)": "2391802"
                                },
                                {
                                    "REND_DATUM": "2015-06-28",
                                    "SZALL_MOD": "NULL",
                                    "(No column name)": "2894066"
                                },
                                {
                                    "REND_DATUM": "2015-06-29",
                                    "SZALL_MOD": "NULL",
                                    "(No column name)": "2879834"
                                },
                                {
                                    "REND_DATUM": "2015-06-30",
                                    "SZALL_MOD": "NULL",
                                    "(No column name)": "4408170"
                                },
                                {
                                    "REND_DATUM": "2015-07-01",
                                    "SZALL_MOD": "NULL",
                                    "(No column name)": "2999741"
                                },
                                {
                                    "REND_DATUM": "2015-07-02",
                                    "SZALL_MOD": "NULL",
                                    "(No column name)": "2381370"
                                },
                                {
                                    "REND_DATUM": "2015-07-03",
                                    "SZALL_MOD": "NULL",
                                    "(No column name)": "2346769"
                                },
                                {
                                    "REND_DATUM": "2015-07-04",
                                    "SZALL_MOD": "NULL",
                                    "(No column name)": "3073024"
                                },
                                {
                                    "REND_DATUM": "2015-07-05",
                                    "SZALL_MOD": "NULL",
                                    "(No column name)": "4275556"
                                },
                                {
                                    "REND_DATUM": "2015-07-06",
                                    "SZALL_MOD": "NULL",
                                    "(No column name)": "2596683"
                                },
                                {
                                    "REND_DATUM": "2015-07-07",
                                    "SZALL_MOD": "NULL",
                                    "(No column name)": "1852944"
                                },
                                {
                                    "REND_DATUM": "2015-07-08",
                                    "SZALL_MOD": "NULL",
                                    "(No column name)": "3680495"
                                },
                                {
                                    "REND_DATUM": "2015-07-09",
                                    "SZALL_MOD": "NULL",
                                    "(No column name)": "2788299"
                                },
                                {
                                    "REND_DATUM": "2015-07-10",
                                    "SZALL_MOD": "NULL",
                                    "(No column name)": "3128704"
                                },
                                {
                                    "REND_DATUM": "2015-07-11",
                                    "SZALL_MOD": "NULL",
                                    "(No column name)": "2547574"
                                },
                                {
                                    "REND_DATUM": "2015-07-12",
                                    "SZALL_MOD": "NULL",
                                    "(No column name)": "4236864"
                                },
                                {
                                    "REND_DATUM": "2015-07-13",
                                    "SZALL_MOD": "NULL",
                                    "(No column name)": "4039393"
                                },
                                {
                                    "REND_DATUM": "2015-07-14",
                                    "SZALL_MOD": "NULL",
                                    "(No column name)": "2506145"
                                },
                                {
                                    "REND_DATUM": "2015-07-15",
                                    "SZALL_MOD": "NULL",
                                    "(No column name)": "4857981"
                                },
                                {
                                    "REND_DATUM": "2015-07-16",
                                    "SZALL_MOD": "NULL",
                                    "(No column name)": "2361972"
                                },
                                {
                                    "REND_DATUM": "2015-07-17",
                                    "SZALL_MOD": "NULL",
                                    "(No column name)": "2336263"
                                },
                                {
                                    "REND_DATUM": "2015-07-18",
                                    "SZALL_MOD": "NULL",
                                    "(No column name)": "1782195"
                                },
                                {
                                    "REND_DATUM": "2015-07-19",
                                    "SZALL_MOD": "NULL",
                                    "(No column name)": "3214783"
                                },
                                {
                                    "REND_DATUM": "2015-07-20",
                                    "SZALL_MOD": "NULL",
                                    "(No column name)": "3913966"
                                },
                                {
                                    "REND_DATUM": "2015-07-21",
                                    "SZALL_MOD": "NULL",
                                    "(No column name)": "4561837"
                                },
                                {
                                    "REND_DATUM": "2015-07-22",
                                    "SZALL_MOD": "NULL",
                                    "(No column name)": "3525031"
                                },
                                {
                                    "REND_DATUM": "2015-07-23",
                                    "SZALL_MOD": "NULL",
                                    "(No column name)": "2317783"
                                },
                                {
                                    "REND_DATUM": "2015-07-24",
                                    "SZALL_MOD": "NULL",
                                    "(No column name)": "2023300"
                                },
                                {
                                    "REND_DATUM": "2015-07-25",
                                    "SZALL_MOD": "NULL",
                                    "(No column name)": "3161727"
                                },
                                {
                                    "REND_DATUM": "2015-07-26",
                                    "SZALL_MOD": "NULL",
                                    "(No column name)": "3931566"
                                },
                                {
                                    "REND_DATUM": "2015-07-27",
                                    "SZALL_MOD": "NULL",
                                    "(No column name)": "3897124"
                                },
                                {
                                    "REND_DATUM": "2015-07-28",
                                    "SZALL_MOD": "NULL",
                                    "(No column name)": "3367677"
                                },
                                {
                                    "REND_DATUM": "2015-07-29",
                                    "SZALL_MOD": "NULL",
                                    "(No column name)": "3797585"
                                },
                                {
                                    "REND_DATUM": "2015-07-30",
                                    "SZALL_MOD": "NULL",
                                    "(No column name)": "4093614"
                                },
                                {
                                    "REND_DATUM": "2015-07-31",
                                    "SZALL_MOD": "NULL",
                                    "(No column name)": "3255050"
                                },
                                {
                                    "REND_DATUM": "2015-08-01",
                                    "SZALL_MOD": "NULL",
                                    "(No column name)": "3001556"
                                },
                                {
                                    "REND_DATUM": "2015-08-02",
                                    "SZALL_MOD": "NULL",
                                    "(No column name)": "2212505"
                                },
                                {
                                    "REND_DATUM": "2015-08-03",
                                    "SZALL_MOD": "NULL",
                                    "(No column name)": "4028406"
                                },
                                {
                                    "REND_DATUM": "2015-08-04",
                                    "SZALL_MOD": "NULL",
                                    "(No column name)": "4863339"
                                },
                                {
                                    "REND_DATUM": "2015-08-05",
                                    "SZALL_MOD": "NULL",
                                    "(No column name)": "5888832"
                                },
                                {
                                    "REND_DATUM": "2015-08-06",
                                    "SZALL_MOD": "NULL",
                                    "(No column name)": "5770619"
                                },
                                {
                                    "REND_DATUM": "2015-08-07",
                                    "SZALL_MOD": "NULL",
                                    "(No column name)": "3904203"
                                },
                                {
                                    "REND_DATUM": "2015-08-08",
                                    "SZALL_MOD": "NULL",
                                    "(No column name)": "5950093"
                                },
                                {
                                    "REND_DATUM": "2015-08-09",
                                    "SZALL_MOD": "NULL",
                                    "(No column name)": "4771276"
                                },
                                {
                                    "REND_DATUM": "2015-08-10",
                                    "SZALL_MOD": "NULL",
                                    "(No column name)": "2536402"
                                },
                                {
                                    "REND_DATUM": "2015-08-11",
                                    "SZALL_MOD": "NULL",
                                    "(No column name)": "4443880"
                                },
                                {
                                    "REND_DATUM": "2015-08-12",
                                    "SZALL_MOD": "NULL",
                                    "(No column name)": "4291815"
                                },
                                {
                                    "REND_DATUM": "2015-08-13",
                                    "SZALL_MOD": "NULL",
                                    "(No column name)": "3070458"
                                },
                                {
                                    "REND_DATUM": "2015-08-14",
                                    "SZALL_MOD": "NULL",
                                    "(No column name)": "2845966"
                                },
                                {
                                    "REND_DATUM": "2015-08-15",
                                    "SZALL_MOD": "NULL",
                                    "(No column name)": "2251807"
                                },
                                {
                                    "REND_DATUM": "2015-08-16",
                                    "SZALL_MOD": "NULL",
                                    "(No column name)": "2681572"
                                },
                                {
                                    "REND_DATUM": "2015-08-17",
                                    "SZALL_MOD": "NULL",
                                    "(No column name)": "5153897"
                                },
                                {
                                    "REND_DATUM": "2015-08-18",
                                    "SZALL_MOD": "NULL",
                                    "(No column name)": "4124260"
                                },
                                {
                                    "REND_DATUM": "2015-08-19",
                                    "SZALL_MOD": "NULL",
                                    "(No column name)": "2261471"
                                },
                                {
                                    "REND_DATUM": "2015-08-20",
                                    "SZALL_MOD": "NULL",
                                    "(No column name)": "5677653"
                                },
                                {
                                    "REND_DATUM": "2015-08-21",
                                    "SZALL_MOD": "NULL",
                                    "(No column name)": "2866708"
                                },
                                {
                                    "REND_DATUM": "2015-08-22",
                                    "SZALL_MOD": "NULL",
                                    "(No column name)": "2825943"
                                },
                                {
                                    "REND_DATUM": "2015-08-23",
                                    "SZALL_MOD": "NULL",
                                    "(No column name)": "2822778"
                                },
                                {
                                    "REND_DATUM": "2015-08-24",
                                    "SZALL_MOD": "NULL",
                                    "(No column name)": "2719276"
                                },
                                {
                                    "REND_DATUM": "2015-08-25",
                                    "SZALL_MOD": "NULL",
                                    "(No column name)": "4160435"
                                },
                                {
                                    "REND_DATUM": "2015-08-26",
                                    "SZALL_MOD": "NULL",
                                    "(No column name)": "4600189"
                                },
                                {
                                    "REND_DATUM": "2015-08-27",
                                    "SZALL_MOD": "NULL",
                                    "(No column name)": "2493732"
                                },
                                {
                                    "REND_DATUM": "2015-08-28",
                                    "SZALL_MOD": "NULL",
                                    "(No column name)": "3085344"
                                },
                                {
                                    "REND_DATUM": "2015-08-29",
                                    "SZALL_MOD": "NULL",
                                    "(No column name)": "5929944"
                                },
                                {
                                    "REND_DATUM": "2015-08-30",
                                    "SZALL_MOD": "NULL",
                                    "(No column name)": "4701063"
                                },
                                {
                                    "REND_DATUM": "2015-08-31",
                                    "SZALL_MOD": "NULL",
                                    "(No column name)": "4657091"
                                },
                                {
                                    "REND_DATUM": "2015-09-01",
                                    "SZALL_MOD": "NULL",
                                    "(No column name)": "3206685"
                                },
                                {
                                    "REND_DATUM": "2015-09-02",
                                    "SZALL_MOD": "NULL",
                                    "(No column name)": "5692527"
                                },
                                {
                                    "REND_DATUM": "2015-09-03",
                                    "SZALL_MOD": "NULL",
                                    "(No column name)": "3450427"
                                },
                                {
                                    "REND_DATUM": "2015-09-04",
                                    "SZALL_MOD": "NULL",
                                    "(No column name)": "3738193"
                                },
                                {
                                    "REND_DATUM": "2015-09-05",
                                    "SZALL_MOD": "NULL",
                                    "(No column name)": "3867059"
                                },
                                {
                                    "REND_DATUM": "2015-09-06",
                                    "SZALL_MOD": "NULL",
                                    "(No column name)": "6132853"
                                },
                                {
                                    "REND_DATUM": "2015-09-07",
                                    "SZALL_MOD": "NULL",
                                    "(No column name)": "4179837"
                                },
                                {
                                    "REND_DATUM": "2015-09-08",
                                    "SZALL_MOD": "NULL",
                                    "(No column name)": "4703011"
                                },
                                {
                                    "REND_DATUM": "2015-09-09",
                                    "SZALL_MOD": "NULL",
                                    "(No column name)": "2885792"
                                },
                                {
                                    "REND_DATUM": "2015-09-10",
                                    "SZALL_MOD": "NULL",
                                    "(No column name)": "3060710"
                                },
                                {
                                    "REND_DATUM": "2015-09-11",
                                    "SZALL_MOD": "NULL",
                                    "(No column name)": "4788101"
                                },
                                {
                                    "REND_DATUM": "2015-09-12",
                                    "SZALL_MOD": "NULL",
                                    "(No column name)": "5532283"
                                },
                                {
                                    "REND_DATUM": "2015-09-13",
                                    "SZALL_MOD": "NULL",
                                    "(No column name)": "2559121"
                                },
                                {
                                    "REND_DATUM": "2015-09-14",
                                    "SZALL_MOD": "NULL",
                                    "(No column name)": "2724651"
                                },
                                {
                                    "REND_DATUM": "2015-09-15",
                                    "SZALL_MOD": "NULL",
                                    "(No column name)": "2896517"
                                },
                                {
                                    "REND_DATUM": "2015-09-16",
                                    "SZALL_MOD": "NULL",
                                    "(No column name)": "5343119"
                                },
                                {
                                    "REND_DATUM": "2015-09-17",
                                    "SZALL_MOD": "NULL",
                                    "(No column name)": "5479338"
                                },
                                {
                                    "REND_DATUM": "2015-09-18",
                                    "SZALL_MOD": "NULL",
                                    "(No column name)": "3428808"
                                },
                                {
                                    "REND_DATUM": "2015-09-19",
                                    "SZALL_MOD": "NULL",
                                    "(No column name)": "2134407"
                                },
                                {
                                    "REND_DATUM": "2015-09-20",
                                    "SZALL_MOD": "NULL",
                                    "(No column name)": "2756524"
                                },
                                {
                                    "REND_DATUM": "2015-09-21",
                                    "SZALL_MOD": "NULL",
                                    "(No column name)": "3557548"
                                },
                                {
                                    "REND_DATUM": "2015-09-22",
                                    "SZALL_MOD": "NULL",
                                    "(No column name)": "2153551"
                                },
                                {
                                    "REND_DATUM": "2015-09-23",
                                    "SZALL_MOD": "NULL",
                                    "(No column name)": "3427710"
                                },
                                {
                                    "REND_DATUM": "2015-09-24",
                                    "SZALL_MOD": "NULL",
                                    "(No column name)": "2664585"
                                },
                                {
                                    "REND_DATUM": "2015-09-25",
                                    "SZALL_MOD": "NULL",
                                    "(No column name)": "4539248"
                                },
                                {
                                    "REND_DATUM": "2015-09-26",
                                    "SZALL_MOD": "NULL",
                                    "(No column name)": "2365926"
                                },
                                {
                                    "REND_DATUM": "2015-09-27",
                                    "SZALL_MOD": "NULL",
                                    "(No column name)": "3096292"
                                },
                                {
                                    "REND_DATUM": "2015-09-28",
                                    "SZALL_MOD": "NULL",
                                    "(No column name)": "2975916"
                                },
                                {
                                    "REND_DATUM": "2015-09-29",
                                    "SZALL_MOD": "NULL",
                                    "(No column name)": "3384018"
                                },
                                {
                                    "REND_DATUM": "2015-09-30",
                                    "SZALL_MOD": "NULL",
                                    "(No column name)": "3256064"
                                },
                                {
                                    "REND_DATUM": "2015-10-01",
                                    "SZALL_MOD": "NULL",
                                    "(No column name)": "1997289"
                                },
                                {
                                    "REND_DATUM": "2015-10-02",
                                    "SZALL_MOD": "NULL",
                                    "(No column name)": "6371689"
                                },
                                {
                                    "REND_DATUM": "2015-10-03",
                                    "SZALL_MOD": "NULL",
                                    "(No column name)": "4258221"
                                },
                                {
                                    "REND_DATUM": "2015-10-04",
                                    "SZALL_MOD": "NULL",
                                    "(No column name)": "2744918"
                                },
                                {
                                    "REND_DATUM": "2015-10-05",
                                    "SZALL_MOD": "NULL",
                                    "(No column name)": "3877931"
                                },
                                {
                                    "REND_DATUM": "2015-10-06",
                                    "SZALL_MOD": "NULL",
                                    "(No column name)": "4831650"
                                },
                                {
                                    "REND_DATUM": "2015-10-07",
                                    "SZALL_MOD": "NULL",
                                    "(No column name)": "1976753"
                                },
                                {
                                    "REND_DATUM": "2015-10-08",
                                    "SZALL_MOD": "NULL",
                                    "(No column name)": "2139374"
                                },
                                {
                                    "REND_DATUM": "2015-10-09",
                                    "SZALL_MOD": "NULL",
                                    "(No column name)": "2710345"
                                },
                                {
                                    "REND_DATUM": "2015-10-10",
                                    "SZALL_MOD": "NULL",
                                    "(No column name)": "3738885"
                                },
                                {
                                    "REND_DATUM": "2015-10-11",
                                    "SZALL_MOD": "NULL",
                                    "(No column name)": "4164026"
                                },
                                {
                                    "REND_DATUM": "2015-10-12",
                                    "SZALL_MOD": "NULL",
                                    "(No column name)": "3263024"
                                },
                                {
                                    "REND_DATUM": "2015-10-13",
                                    "SZALL_MOD": "NULL",
                                    "(No column name)": "3293890"
                                },
                                {
                                    "REND_DATUM": "2015-10-14",
                                    "SZALL_MOD": "NULL",
                                    "(No column name)": "7348229"
                                },
                                {
                                    "REND_DATUM": "2015-10-15",
                                    "SZALL_MOD": "NULL",
                                    "(No column name)": "1806169"
                                },
                                {
                                    "REND_DATUM": "2015-10-16",
                                    "SZALL_MOD": "NULL",
                                    "(No column name)": "2672064"
                                },
                                {
                                    "REND_DATUM": "2015-10-17",
                                    "SZALL_MOD": "NULL",
                                    "(No column name)": "3686925"
                                },
                                {
                                    "REND_DATUM": "2015-10-18",
                                    "SZALL_MOD": "NULL",
                                    "(No column name)": "3477076"
                                },
                                {
                                    "REND_DATUM": "2015-10-19",
                                    "SZALL_MOD": "NULL",
                                    "(No column name)": "3596584"
                                },
                                {
                                    "REND_DATUM": "2015-10-20",
                                    "SZALL_MOD": "NULL",
                                    "(No column name)": "3000046"
                                },
                                {
                                    "REND_DATUM": "2015-10-21",
                                    "SZALL_MOD": "NULL",
                                    "(No column name)": "3113765"
                                },
                                {
                                    "REND_DATUM": "2015-10-22",
                                    "SZALL_MOD": "NULL",
                                    "(No column name)": "5093076"
                                },
                                {
                                    "REND_DATUM": "2015-10-23",
                                    "SZALL_MOD": "NULL",
                                    "(No column name)": "3101428"
                                },
                                {
                                    "REND_DATUM": "2015-10-24",
                                    "SZALL_MOD": "NULL",
                                    "(No column name)": "1970788"
                                },
                                {
                                    "REND_DATUM": "2015-10-25",
                                    "SZALL_MOD": "NULL",
                                    "(No column name)": "4758691"
                                },
                                {
                                    "REND_DATUM": "2015-10-26",
                                    "SZALL_MOD": "NULL",
                                    "(No column name)": "4389832"
                                },
                                {
                                    "REND_DATUM": "2015-10-27",
                                    "SZALL_MOD": "NULL",
                                    "(No column name)": "2078584"
                                },
                                {
                                    "REND_DATUM": "2015-10-28",
                                    "SZALL_MOD": "NULL",
                                    "(No column name)": "3919723"
                                },
                                {
                                    "REND_DATUM": "2015-10-29",
                                    "SZALL_MOD": "NULL",
                                    "(No column name)": "4532293"
                                },
                                {
                                    "REND_DATUM": "2015-10-30",
                                    "SZALL_MOD": "NULL",
                                    "(No column name)": "3165654"
                                },
                                {
                                    "REND_DATUM": "2015-10-31",
                                    "SZALL_MOD": "NULL",
                                    "(No column name)": "4900367"
                                },
                                {
                                    "REND_DATUM": "2015-11-01",
                                    "SZALL_MOD": "NULL",
                                    "(No column name)": "2382124"
                                },
                                {
                                    "REND_DATUM": "2015-11-02",
                                    "SZALL_MOD": "NULL",
                                    "(No column name)": "1857540"
                                },
                                {
                                    "REND_DATUM": "2015-11-03",
                                    "SZALL_MOD": "NULL",
                                    "(No column name)": "3833497"
                                },
                                {
                                    "REND_DATUM": "2015-11-04",
                                    "SZALL_MOD": "NULL",
                                    "(No column name)": "2509178"
                                },
                                {
                                    "REND_DATUM": "2015-11-05",
                                    "SZALL_MOD": "NULL",
                                    "(No column name)": "3448541"
                                },
                                {
                                    "REND_DATUM": "2015-11-06",
                                    "SZALL_MOD": "NULL",
                                    "(No column name)": "2055942"
                                },
                                {
                                    "REND_DATUM": "2015-11-07",
                                    "SZALL_MOD": "NULL",
                                    "(No column name)": "5183525"
                                },
                                {
                                    "REND_DATUM": "2015-11-08",
                                    "SZALL_MOD": "NULL",
                                    "(No column name)": "3538582"
                                },
                                {
                                    "REND_DATUM": "2015-11-09",
                                    "SZALL_MOD": "NULL",
                                    "(No column name)": "4696078"
                                },
                                {
                                    "REND_DATUM": "2015-11-10",
                                    "SZALL_MOD": "NULL",
                                    "(No column name)": "4465010"
                                },
                                {
                                    "REND_DATUM": "2015-11-11",
                                    "SZALL_MOD": "NULL",
                                    "(No column name)": "3870693"
                                },
                                {
                                    "REND_DATUM": "2015-11-12",
                                    "SZALL_MOD": "NULL",
                                    "(No column name)": "3265153"
                                },
                                {
                                    "REND_DATUM": "2015-11-13",
                                    "SZALL_MOD": "NULL",
                                    "(No column name)": "2709865"
                                },
                                {
                                    "REND_DATUM": "2015-11-14",
                                    "SZALL_MOD": "NULL",
                                    "(No column name)": "2793744"
                                },
                                {
                                    "REND_DATUM": "2015-11-15",
                                    "SZALL_MOD": "NULL",
                                    "(No column name)": "3394374"
                                },
                                {
                                    "REND_DATUM": "2015-11-16",
                                    "SZALL_MOD": "NULL",
                                    "(No column name)": "3137435"
                                },
                                {
                                    "REND_DATUM": "2015-11-17",
                                    "SZALL_MOD": "NULL",
                                    "(No column name)": "4366964"
                                },
                                {
                                    "REND_DATUM": "2015-11-18",
                                    "SZALL_MOD": "NULL",
                                    "(No column name)": "4145235"
                                },
                                {
                                    "REND_DATUM": "2015-11-19",
                                    "SZALL_MOD": "NULL",
                                    "(No column name)": "4252642"
                                },
                                {
                                    "REND_DATUM": "2015-11-20",
                                    "SZALL_MOD": "NULL",
                                    "(No column name)": "4014225"
                                },
                                {
                                    "REND_DATUM": "2015-11-21",
                                    "SZALL_MOD": "NULL",
                                    "(No column name)": "2379783"
                                },
                                {
                                    "REND_DATUM": "2015-11-22",
                                    "SZALL_MOD": "NULL",
                                    "(No column name)": "2387426"
                                },
                                {
                                    "REND_DATUM": "2015-11-23",
                                    "SZALL_MOD": "NULL",
                                    "(No column name)": "3634916"
                                },
                                {
                                    "REND_DATUM": "2015-11-24",
                                    "SZALL_MOD": "NULL",
                                    "(No column name)": "5560935"
                                },
                                {
                                    "REND_DATUM": "2015-11-25",
                                    "SZALL_MOD": "NULL",
                                    "(No column name)": "2709489"
                                },
                                {
                                    "REND_DATUM": "2015-11-26",
                                    "SZALL_MOD": "NULL",
                                    "(No column name)": "2825105"
                                },
                                {
                                    "REND_DATUM": "2015-11-27",
                                    "SZALL_MOD": "NULL",
                                    "(No column name)": "2619870"
                                },
                                {
                                    "REND_DATUM": "2015-11-28",
                                    "SZALL_MOD": "NULL",
                                    "(No column name)": "4078799"
                                },
                                {
                                    "REND_DATUM": "2015-11-29",
                                    "SZALL_MOD": "NULL",
                                    "(No column name)": "2306036"
                                },
                                {
                                    "REND_DATUM": "2015-11-30",
                                    "SZALL_MOD": "NULL",
                                    "(No column name)": "4532668"
                                },
                                {
                                    "REND_DATUM": "2015-12-01",
                                    "SZALL_MOD": "NULL",
                                    "(No column name)": "5635906"
                                },
                                {
                                    "REND_DATUM": "2015-12-02",
                                    "SZALL_MOD": "NULL",
                                    "(No column name)": "4325044"
                                },
                                {
                                    "REND_DATUM": "2015-12-03",
                                    "SZALL_MOD": "NULL",
                                    "(No column name)": "2509604"
                                },
                                {
                                    "REND_DATUM": "2015-12-04",
                                    "SZALL_MOD": "NULL",
                                    "(No column name)": "3945029"
                                },
                                {
                                    "REND_DATUM": "2015-12-05",
                                    "SZALL_MOD": "NULL",
                                    "(No column name)": "3969446"
                                },
                                {
                                    "REND_DATUM": "2015-12-06",
                                    "SZALL_MOD": "NULL",
                                    "(No column name)": "6008928"
                                },
                                {
                                    "REND_DATUM": "2015-12-07",
                                    "SZALL_MOD": "NULL",
                                    "(No column name)": "1712207"
                                },
                                {
                                    "REND_DATUM": "2015-12-08",
                                    "SZALL_MOD": "NULL",
                                    "(No column name)": "2559965"
                                },
                                {
                                    "REND_DATUM": "2015-12-09",
                                    "SZALL_MOD": "NULL",
                                    "(No column name)": "3292306"
                                },
                                {
                                    "REND_DATUM": "2015-12-10",
                                    "SZALL_MOD": "NULL",
                                    "(No column name)": "3779196"
                                },
                                {
                                    "REND_DATUM": "2015-12-11",
                                    "SZALL_MOD": "NULL",
                                    "(No column name)": "3068164"
                                },
                                {
                                    "REND_DATUM": "2015-12-12",
                                    "SZALL_MOD": "NULL",
                                    "(No column name)": "1647635"
                                },
                                {
                                    "REND_DATUM": "2015-12-13",
                                    "SZALL_MOD": "NULL",
                                    "(No column name)": "3312667"
                                },
                                {
                                    "REND_DATUM": "2015-12-14",
                                    "SZALL_MOD": "NULL",
                                    "(No column name)": "2459003"
                                },
                                {
                                    "REND_DATUM": "2015-12-15",
                                    "SZALL_MOD": "NULL",
                                    "(No column name)": "2736820"
                                },
                                {
                                    "REND_DATUM": "2015-12-16",
                                    "SZALL_MOD": "NULL",
                                    "(No column name)": "2387901"
                                },
                                {
                                    "REND_DATUM": "2015-12-17",
                                    "SZALL_MOD": "NULL",
                                    "(No column name)": "4227136"
                                },
                                {
                                    "REND_DATUM": "2015-12-18",
                                    "SZALL_MOD": "NULL",
                                    "(No column name)": "2281208"
                                },
                                {
                                    "REND_DATUM": "2015-12-19",
                                    "SZALL_MOD": "NULL",
                                    "(No column name)": "2612221"
                                },
                                {
                                    "REND_DATUM": "2015-12-20",
                                    "SZALL_MOD": "NULL",
                                    "(No column name)": "3931589"
                                },
                                {
                                    "REND_DATUM": "2015-12-21",
                                    "SZALL_MOD": "NULL",
                                    "(No column name)": "2894997"
                                },
                                {
                                    "REND_DATUM": "2015-12-22",
                                    "SZALL_MOD": "NULL",
                                    "(No column name)": "4230329"
                                },
                                {
                                    "REND_DATUM": "2015-12-23",
                                    "SZALL_MOD": "NULL",
                                    "(No column name)": "2300043"
                                },
                                {
                                    "REND_DATUM": "2015-12-24",
                                    "SZALL_MOD": "NULL",
                                    "(No column name)": "2968482"
                                },
                                {
                                    "REND_DATUM": "2015-12-25",
                                    "SZALL_MOD": "NULL",
                                    "(No column name)": "3611304"
                                },
                                {
                                    "REND_DATUM": "2015-12-26",
                                    "SZALL_MOD": "NULL",
                                    "(No column name)": "3101276"
                                },
                                {
                                    "REND_DATUM": "2015-12-27",
                                    "SZALL_MOD": "NULL",
                                    "(No column name)": "2087875"
                                },
                                {
                                    "REND_DATUM": "2015-12-28",
                                    "SZALL_MOD": "NULL",
                                    "(No column name)": "2158528"
                                },
                                {
                                    "REND_DATUM": "2015-12-29",
                                    "SZALL_MOD": "NULL",
                                    "(No column name)": "3751261"
                                },
                                {
                                    "REND_DATUM": "2015-12-30",
                                    "SZALL_MOD": "NULL",
                                    "(No column name)": "4797443"
                                },
                                {
                                    "REND_DATUM": "2015-12-31",
                                    "SZALL_MOD": "NULL",
                                    "(No column name)": "4063267"
                                },
                                {
                                    "REND_DATUM": "2016-01-01",
                                    "SZALL_MOD": "NULL",
                                    "(No column name)": "5030480"
                                },
                                {
                                    "REND_DATUM": "2016-01-02",
                                    "SZALL_MOD": "NULL",
                                    "(No column name)": "3068660"
                                },
                                {
                                    "REND_DATUM": "2016-01-03",
                                    "SZALL_MOD": "NULL",
                                    "(No column name)": "3520100"
                                },
                                {
                                    "REND_DATUM": "2016-01-04",
                                    "SZALL_MOD": "NULL",
                                    "(No column name)": "3094040"
                                },
                                {
                                    "REND_DATUM": "2016-01-05",
                                    "SZALL_MOD": "NULL",
                                    "(No column name)": "5143200"
                                },
                                {
                                    "REND_DATUM": "2016-01-06",
                                    "SZALL_MOD": "NULL",
                                    "(No column name)": "4551470"
                                },
                                {
                                    "REND_DATUM": "2016-01-07",
                                    "SZALL_MOD": "NULL",
                                    "(No column name)": "3544050"
                                },
                                {
                                    "REND_DATUM": "2016-01-08",
                                    "SZALL_MOD": "NULL",
                                    "(No column name)": "5599270"
                                },
                                {
                                    "REND_DATUM": "2016-01-09",
                                    "SZALL_MOD": "NULL",
                                    "(No column name)": "2401880"
                                },
                                {
                                    "REND_DATUM": "2016-01-10",
                                    "SZALL_MOD": "NULL",
                                    "(No column name)": "3192840"
                                },
                                {
                                    "REND_DATUM": "2016-01-11",
                                    "SZALL_MOD": "NULL",
                                    "(No column name)": "3483380"
                                },
                                {
                                    "REND_DATUM": "2016-01-12",
                                    "SZALL_MOD": "NULL",
                                    "(No column name)": "3832960"
                                },
                                {
                                    "REND_DATUM": "2016-01-13",
                                    "SZALL_MOD": "NULL",
                                    "(No column name)": "4325540"
                                },
                                {
                                    "REND_DATUM": "2016-01-14",
                                    "SZALL_MOD": "NULL",
                                    "(No column name)": "3957320"
                                },
                                {
                                    "REND_DATUM": "2016-01-15",
                                    "SZALL_MOD": "NULL",
                                    "(No column name)": "3139500"
                                },
                                {
                                    "REND_DATUM": "2016-01-16",
                                    "SZALL_MOD": "NULL",
                                    "(No column name)": "2932130"
                                },
                                {
                                    "REND_DATUM": "2016-01-17",
                                    "SZALL_MOD": "NULL",
                                    "(No column name)": "2345630"
                                },
                                {
                                    "REND_DATUM": "2016-01-18",
                                    "SZALL_MOD": "NULL",
                                    "(No column name)": "5524280"
                                },
                                {
                                    "REND_DATUM": "2016-01-19",
                                    "SZALL_MOD": "NULL",
                                    "(No column name)": "3852890"
                                },
                                {
                                    "REND_DATUM": "2016-01-20",
                                    "SZALL_MOD": "NULL",
                                    "(No column name)": "5755970"
                                },
                                {
                                    "REND_DATUM": "2016-01-21",
                                    "SZALL_MOD": "NULL",
                                    "(No column name)": "6049940"
                                },
                                {
                                    "REND_DATUM": "2016-01-22",
                                    "SZALL_MOD": "NULL",
                                    "(No column name)": "3172930"
                                },
                                {
                                    "REND_DATUM": "2016-01-23",
                                    "SZALL_MOD": "NULL",
                                    "(No column name)": "4222390"
                                },
                                {
                                    "REND_DATUM": "2016-01-24",
                                    "SZALL_MOD": "NULL",
                                    "(No column name)": "4554680"
                                },
                                {
                                    "REND_DATUM": "2016-01-25",
                                    "SZALL_MOD": "NULL",
                                    "(No column name)": "2879060"
                                },
                                {
                                    "REND_DATUM": "2016-01-26",
                                    "SZALL_MOD": "NULL",
                                    "(No column name)": "5031710"
                                },
                                {
                                    "REND_DATUM": "2016-01-27",
                                    "SZALL_MOD": "NULL",
                                    "(No column name)": "4527100"
                                },
                                {
                                    "REND_DATUM": "2016-01-28",
                                    "SZALL_MOD": "NULL",
                                    "(No column name)": "3415550"
                                },
                                {
                                    "REND_DATUM": "2016-01-29",
                                    "SZALL_MOD": "NULL",
                                    "(No column name)": "4352660"
                                },
                                {
                                    "REND_DATUM": "2016-01-30",
                                    "SZALL_MOD": "NULL",
                                    "(No column name)": "4606680"
                                },
                                {
                                    "REND_DATUM": "2016-01-31",
                                    "SZALL_MOD": "NULL",
                                    "(No column name)": "2129250"
                                },
                                {
                                    "REND_DATUM": "2016-02-01",
                                    "SZALL_MOD": "NULL",
                                    "(No column name)": "3854930"
                                },
                                {
                                    "REND_DATUM": "2016-02-02",
                                    "SZALL_MOD": "NULL",
                                    "(No column name)": "3704110"
                                },
                                {
                                    "REND_DATUM": "2016-02-03",
                                    "SZALL_MOD": "NULL",
                                    "(No column name)": "5305860"
                                },
                                {
                                    "REND_DATUM": "2016-02-04",
                                    "SZALL_MOD": "NULL",
                                    "(No column name)": "4689980"
                                },
                                {
                                    "REND_DATUM": "2016-02-05",
                                    "SZALL_MOD": "NULL",
                                    "(No column name)": "4666330"
                                },
                                {
                                    "REND_DATUM": "2016-02-06",
                                    "SZALL_MOD": "NULL",
                                    "(No column name)": "2328250"
                                },
                                {
                                    "REND_DATUM": "2016-02-07",
                                    "SZALL_MOD": "NULL",
                                    "(No column name)": "4171390"
                                },
                                {
                                    "REND_DATUM": "2016-02-08",
                                    "SZALL_MOD": "NULL",
                                    "(No column name)": "5521240"
                                },
                                {
                                    "REND_DATUM": "2016-02-09",
                                    "SZALL_MOD": "NULL",
                                    "(No column name)": "4429490"
                                },
                                {
                                    "REND_DATUM": "2016-02-10",
                                    "SZALL_MOD": "NULL",
                                    "(No column name)": "2643650"
                                },
                                {
                                    "REND_DATUM": "2016-02-11",
                                    "SZALL_MOD": "NULL",
                                    "(No column name)": "4375480"
                                },
                                {
                                    "REND_DATUM": "2016-02-12",
                                    "SZALL_MOD": "NULL",
                                    "(No column name)": "5422215"
                                },
                                {
                                    "REND_DATUM": "2016-02-13",
                                    "SZALL_MOD": "NULL",
                                    "(No column name)": "6953530"
                                },
                                {
                                    "REND_DATUM": "2016-02-14",
                                    "SZALL_MOD": "NULL",
                                    "(No column name)": "6367760"
                                },
                                {
                                    "REND_DATUM": "2016-02-15",
                                    "SZALL_MOD": "NULL",
                                    "(No column name)": "3598410"
                                },
                                {
                                    "REND_DATUM": "2016-02-16",
                                    "SZALL_MOD": "NULL",
                                    "(No column name)": "1703360"
                                },
                                {
                                    "REND_DATUM": "2016-02-17",
                                    "SZALL_MOD": "NULL",
                                    "(No column name)": "8006740"
                                },
                                {
                                    "REND_DATUM": "2016-02-18",
                                    "SZALL_MOD": "NULL",
                                    "(No column name)": "3828020"
                                },
                                {
                                    "REND_DATUM": "2016-02-19",
                                    "SZALL_MOD": "NULL",
                                    "(No column name)": "4125360"
                                },
                                {
                                    "REND_DATUM": "2016-02-20",
                                    "SZALL_MOD": "NULL",
                                    "(No column name)": "4192140"
                                },
                                {
                                    "REND_DATUM": "2016-02-21",
                                    "SZALL_MOD": "NULL",
                                    "(No column name)": "5090530"
                                },
                                {
                                    "REND_DATUM": "2016-02-22",
                                    "SZALL_MOD": "NULL",
                                    "(No column name)": "5003360"
                                },
                                {
                                    "REND_DATUM": "2016-02-23",
                                    "SZALL_MOD": "NULL",
                                    "(No column name)": "5548320"
                                },
                                {
                                    "REND_DATUM": "2016-02-24",
                                    "SZALL_MOD": "NULL",
                                    "(No column name)": "4131490"
                                },
                                {
                                    "REND_DATUM": "2016-02-25",
                                    "SZALL_MOD": "NULL",
                                    "(No column name)": "2243060"
                                },
                                {
                                    "REND_DATUM": "2016-02-26",
                                    "SZALL_MOD": "NULL",
                                    "(No column name)": "5007140"
                                },
                                {
                                    "REND_DATUM": "2016-02-27",
                                    "SZALL_MOD": "NULL",
                                    "(No column name)": "4711070"
                                },
                                {
                                    "REND_DATUM": "2016-02-28",
                                    "SZALL_MOD": "NULL",
                                    "(No column name)": "5702270"
                                },
                                {
                                    "REND_DATUM": "2016-02-29",
                                    "SZALL_MOD": "NULL",
                                    "(No column name)": "4062020"
                                },
                                {
                                    "REND_DATUM": "2016-03-01",
                                    "SZALL_MOD": "NULL",
                                    "(No column name)": "2722790"
                                },
                                {
                                    "REND_DATUM": "2016-03-02",
                                    "SZALL_MOD": "NULL",
                                    "(No column name)": "3088390"
                                },
                                {
                                    "REND_DATUM": "2016-03-03",
                                    "SZALL_MOD": "NULL",
                                    "(No column name)": "4901560"
                                },
                                {
                                    "REND_DATUM": "2016-03-04",
                                    "SZALL_MOD": "NULL",
                                    "(No column name)": "3210630"
                                },
                                {
                                    "REND_DATUM": "2016-03-05",
                                    "SZALL_MOD": "NULL",
                                    "(No column name)": "2508360"
                                },
                                {
                                    "REND_DATUM": "2016-03-06",
                                    "SZALL_MOD": "NULL",
                                    "(No column name)": "2868670"
                                },
                                {
                                    "REND_DATUM": "2016-03-07",
                                    "SZALL_MOD": "NULL",
                                    "(No column name)": "6382670"
                                },
                                {
                                    "REND_DATUM": "2016-03-08",
                                    "SZALL_MOD": "NULL",
                                    "(No column name)": "2974690"
                                },
                                {
                                    "REND_DATUM": "2016-03-09",
                                    "SZALL_MOD": "NULL",
                                    "(No column name)": "3443790"
                                },
                                {
                                    "REND_DATUM": "2016-03-10",
                                    "SZALL_MOD": "NULL",
                                    "(No column name)": "3981330"
                                },
                                {
                                    "REND_DATUM": "2016-03-11",
                                    "SZALL_MOD": "NULL",
                                    "(No column name)": "3427360"
                                },
                                {
                                    "REND_DATUM": "2016-03-12",
                                    "SZALL_MOD": "NULL",
                                    "(No column name)": "3955500"
                                },
                                {
                                    "REND_DATUM": "2016-03-13",
                                    "SZALL_MOD": "NULL",
                                    "(No column name)": "4285210"
                                },
                                {
                                    "REND_DATUM": "2016-03-14",
                                    "SZALL_MOD": "NULL",
                                    "(No column name)": "4039930"
                                },
                                {
                                    "REND_DATUM": "2016-03-15",
                                    "SZALL_MOD": "NULL",
                                    "(No column name)": "2949150"
                                },
                                {
                                    "REND_DATUM": "2016-03-16",
                                    "SZALL_MOD": "NULL",
                                    "(No column name)": "3554350"
                                },
                                {
                                    "REND_DATUM": "2016-03-17",
                                    "SZALL_MOD": "NULL",
                                    "(No column name)": "4329390"
                                },
                                {
                                    "REND_DATUM": "2016-03-18",
                                    "SZALL_MOD": "NULL",
                                    "(No column name)": "3432310"
                                },
                                {
                                    "REND_DATUM": "2016-03-19",
                                    "SZALL_MOD": "NULL",
                                    "(No column name)": "3783340"
                                },
                                {
                                    "REND_DATUM": "2016-03-20",
                                    "SZALL_MOD": "NULL",
                                    "(No column name)": "3928035"
                                },
                                {
                                    "REND_DATUM": "2016-03-21",
                                    "SZALL_MOD": "NULL",
                                    "(No column name)": "4638550"
                                },
                                {
                                    "REND_DATUM": "2016-03-22",
                                    "SZALL_MOD": "NULL",
                                    "(No column name)": "3483200"
                                },
                                {
                                    "REND_DATUM": "2016-03-23",
                                    "SZALL_MOD": "NULL",
                                    "(No column name)": "2021610"
                                },
                                {
                                    "REND_DATUM": "2016-03-24",
                                    "SZALL_MOD": "NULL",
                                    "(No column name)": "4387210"
                                },
                                {
                                    "REND_DATUM": "2016-03-25",
                                    "SZALL_MOD": "NULL",
                                    "(No column name)": "2753250"
                                },
                                {
                                    "REND_DATUM": "2016-03-26",
                                    "SZALL_MOD": "NULL",
                                    "(No column name)": "3024420"
                                },
                                {
                                    "REND_DATUM": "2016-03-27",
                                    "SZALL_MOD": "NULL",
                                    "(No column name)": "5555880"
                                },
                                {
                                    "REND_DATUM": "2016-03-28",
                                    "SZALL_MOD": "NULL",
                                    "(No column name)": "5169580"
                                },
                                {
                                    "REND_DATUM": "2016-03-29",
                                    "SZALL_MOD": "NULL",
                                    "(No column name)": "4055210"
                                },
                                {
                                    "REND_DATUM": "2016-03-30",
                                    "SZALL_MOD": "NULL",
                                    "(No column name)": "3786330"
                                },
                                {
                                    "REND_DATUM": "2016-03-31",
                                    "SZALL_MOD": "NULL",
                                    "(No column name)": "3082690"
                                },
                                {
                                    "REND_DATUM": "2016-04-01",
                                    "SZALL_MOD": "NULL",
                                    "(No column name)": "3306650"
                                },
                                {
                                    "REND_DATUM": "2016-04-02",
                                    "SZALL_MOD": "NULL",
                                    "(No column name)": "3412610"
                                },
                                {
                                    "REND_DATUM": "2016-04-03",
                                    "SZALL_MOD": "NULL",
                                    "(No column name)": "3592680"
                                },
                                {
                                    "REND_DATUM": "2016-04-04",
                                    "SZALL_MOD": "NULL",
                                    "(No column name)": "6800170"
                                },
                                {
                                    "REND_DATUM": "2016-04-05",
                                    "SZALL_MOD": "NULL",
                                    "(No column name)": "3180810"
                                },
                                {
                                    "REND_DATUM": "2016-04-06",
                                    "SZALL_MOD": "NULL",
                                    "(No column name)": "4450520"
                                },
                                {
                                    "REND_DATUM": "2016-04-07",
                                    "SZALL_MOD": "NULL",
                                    "(No column name)": "4476330"
                                },
                                {
                                    "REND_DATUM": "2016-04-08",
                                    "SZALL_MOD": "NULL",
                                    "(No column name)": "4551850"
                                },
                                {
                                    "REND_DATUM": "2016-04-09",
                                    "SZALL_MOD": "NULL",
                                    "(No column name)": "3692290"
                                },
                                {
                                    "REND_DATUM": "2016-04-10",
                                    "SZALL_MOD": "NULL",
                                    "(No column name)": "3295330"
                                },
                                {
                                    "REND_DATUM": "2016-04-11",
                                    "SZALL_MOD": "NULL",
                                    "(No column name)": "4279830"
                                },
                                {
                                    "REND_DATUM": "2016-04-12",
                                    "SZALL_MOD": "NULL",
                                    "(No column name)": "2860600"
                                },
                                {
                                    "REND_DATUM": "2016-04-13",
                                    "SZALL_MOD": "NULL",
                                    "(No column name)": "2883880"
                                },
                                {
                                    "REND_DATUM": "2016-04-14",
                                    "SZALL_MOD": "NULL",
                                    "(No column name)": "4694350"
                                },
                                {
                                    "REND_DATUM": "2016-04-15",
                                    "SZALL_MOD": "NULL",
                                    "(No column name)": "2607260"
                                },
                                {
                                    "REND_DATUM": "2016-04-16",
                                    "SZALL_MOD": "NULL",
                                    "(No column name)": "5826970"
                                },
                                {
                                    "REND_DATUM": "2016-04-17",
                                    "SZALL_MOD": "NULL",
                                    "(No column name)": "2419010"
                                },
                                {
                                    "REND_DATUM": "2016-04-18",
                                    "SZALL_MOD": "NULL",
                                    "(No column name)": "5328450"
                                },
                                {
                                    "REND_DATUM": "2016-04-19",
                                    "SZALL_MOD": "NULL",
                                    "(No column name)": "4631880"
                                },
                                {
                                    "REND_DATUM": "2016-04-20",
                                    "SZALL_MOD": "NULL",
                                    "(No column name)": "3788760"
                                },
                                {
                                    "REND_DATUM": "2016-04-21",
                                    "SZALL_MOD": "NULL",
                                    "(No column name)": "2174100"
                                },
                                {
                                    "REND_DATUM": "2016-04-22",
                                    "SZALL_MOD": "NULL",
                                    "(No column name)": "5151720"
                                },
                                {
                                    "REND_DATUM": "2016-04-23",
                                    "SZALL_MOD": "NULL",
                                    "(No column name)": "3825090"
                                },
                                {
                                    "REND_DATUM": "2016-04-24",
                                    "SZALL_MOD": "NULL",
                                    "(No column name)": "5384200"
                                },
                                {
                                    "REND_DATUM": "2016-04-25",
                                    "SZALL_MOD": "NULL",
                                    "(No column name)": "6807540"
                                },
                                {
                                    "REND_DATUM": "2016-04-26",
                                    "SZALL_MOD": "NULL",
                                    "(No column name)": "6011750"
                                },
                                {
                                    "REND_DATUM": "2016-04-27",
                                    "SZALL_MOD": "NULL",
                                    "(No column name)": "3856170"
                                },
                                {
                                    "REND_DATUM": "2016-04-28",
                                    "SZALL_MOD": "NULL",
                                    "(No column name)": "4204860"
                                },
                                {
                                    "REND_DATUM": "2016-04-29",
                                    "SZALL_MOD": "NULL",
                                    "(No column name)": "4482680"
                                },
                                {
                                    "REND_DATUM": "2016-04-30",
                                    "SZALL_MOD": "NULL",
                                    "(No column name)": "2979440"
                                },
                                {
                                    "REND_DATUM": "2016-05-01",
                                    "SZALL_MOD": "NULL",
                                    "(No column name)": "2293680"
                                },
                                {
                                    "REND_DATUM": "2016-05-02",
                                    "SZALL_MOD": "NULL",
                                    "(No column name)": "3918350"
                                },
                                {
                                    "REND_DATUM": "2016-05-03",
                                    "SZALL_MOD": "NULL",
                                    "(No column name)": "3628420"
                                },
                                {
                                    "REND_DATUM": "2016-05-04",
                                    "SZALL_MOD": "NULL",
                                    "(No column name)": "4370490"
                                },
                                {
                                    "REND_DATUM": "2016-05-05",
                                    "SZALL_MOD": "NULL",
                                    "(No column name)": "2998610"
                                },
                                {
                                    "REND_DATUM": "2016-05-06",
                                    "SZALL_MOD": "NULL",
                                    "(No column name)": "3479790"
                                },
                                {
                                    "REND_DATUM": "2016-05-07",
                                    "SZALL_MOD": "NULL",
                                    "(No column name)": "4802390"
                                },
                                {
                                    "REND_DATUM": "2016-05-08",
                                    "SZALL_MOD": "NULL",
                                    "(No column name)": "4336200"
                                },
                                {
                                    "REND_DATUM": "2016-05-09",
                                    "SZALL_MOD": "NULL",
                                    "(No column name)": "4149360"
                                },
                                {
                                    "REND_DATUM": "2016-05-10",
                                    "SZALL_MOD": "NULL",
                                    "(No column name)": "3968580"
                                },
                                {
                                    "REND_DATUM": "2016-05-11",
                                    "SZALL_MOD": "NULL",
                                    "(No column name)": "4380820"
                                },
                                {
                                    "REND_DATUM": "2016-05-12",
                                    "SZALL_MOD": "NULL",
                                    "(No column name)": "5935710"
                                },
                                {
                                    "REND_DATUM": "2016-05-13",
                                    "SZALL_MOD": "NULL",
                                    "(No column name)": "3034090"
                                },
                                {
                                    "REND_DATUM": "2016-05-14",
                                    "SZALL_MOD": "NULL",
                                    "(No column name)": "3058270"
                                },
                                {
                                    "REND_DATUM": "2016-05-15",
                                    "SZALL_MOD": "NULL",
                                    "(No column name)": "3803500"
                                },
                                {
                                    "REND_DATUM": "2016-05-16",
                                    "SZALL_MOD": "NULL",
                                    "(No column name)": "3550980"
                                },
                                {
                                    "REND_DATUM": "2016-05-17",
                                    "SZALL_MOD": "NULL",
                                    "(No column name)": "4300410"
                                },
                                {
                                    "REND_DATUM": "2016-05-18",
                                    "SZALL_MOD": "NULL",
                                    "(No column name)": "3043880"
                                },
                                {
                                    "REND_DATUM": "2016-05-19",
                                    "SZALL_MOD": "NULL",
                                    "(No column name)": "2787020"
                                },
                                {
                                    "REND_DATUM": "2016-05-20",
                                    "SZALL_MOD": "NULL",
                                    "(No column name)": "2967570"
                                },
                                {
                                    "REND_DATUM": "2016-05-21",
                                    "SZALL_MOD": "NULL",
                                    "(No column name)": "3034050"
                                },
                                {
                                    "REND_DATUM": "2016-05-22",
                                    "SZALL_MOD": "NULL",
                                    "(No column name)": "3956770"
                                },
                                {
                                    "REND_DATUM": "2016-05-23",
                                    "SZALL_MOD": "NULL",
                                    "(No column name)": "4874065"
                                },
                                {
                                    "REND_DATUM": "2016-05-24",
                                    "SZALL_MOD": "NULL",
                                    "(No column name)": "1395460"
                                },
                                {
                                    "REND_DATUM": "2016-05-25",
                                    "SZALL_MOD": "NULL",
                                    "(No column name)": "2226600"
                                },
                                {
                                    "REND_DATUM": "2016-05-26",
                                    "SZALL_MOD": "NULL",
                                    "(No column name)": "1942760"
                                },
                                {
                                    "REND_DATUM": "2016-05-27",
                                    "SZALL_MOD": "NULL",
                                    "(No column name)": "3741660"
                                },
                                {
                                    "REND_DATUM": "2016-05-28",
                                    "SZALL_MOD": "NULL",
                                    "(No column name)": "3364000"
                                },
                                {
                                    "REND_DATUM": "2016-05-29",
                                    "SZALL_MOD": "NULL",
                                    "(No column name)": "3132810"
                                },
                                {
                                    "REND_DATUM": "2016-05-30",
                                    "SZALL_MOD": "NULL",
                                    "(No column name)": "3719580"
                                },
                                {
                                    "REND_DATUM": "2016-05-31",
                                    "SZALL_MOD": "NULL",
                                    "(No column name)": "3975700"
                                },
                                {
                                    "REND_DATUM": "2016-06-01",
                                    "SZALL_MOD": "NULL",
                                    "(No column name)": "5036510"
                                },
                                {
                                    "REND_DATUM": "2016-06-02",
                                    "SZALL_MOD": "NULL",
                                    "(No column name)": "3453860"
                                },
                                {
                                    "REND_DATUM": "2016-06-03",
                                    "SZALL_MOD": "NULL",
                                    "(No column name)": "2945650"
                                },
                                {
                                    "REND_DATUM": "2016-06-04",
                                    "SZALL_MOD": "NULL",
                                    "(No column name)": "5691630"
                                },
                                {
                                    "REND_DATUM": "2016-06-05",
                                    "SZALL_MOD": "NULL",
                                    "(No column name)": "2779010"
                                },
                                {
                                    "REND_DATUM": "2016-06-06",
                                    "SZALL_MOD": "NULL",
                                    "(No column name)": "2941290"
                                },
                                {
                                    "REND_DATUM": "2016-06-07",
                                    "SZALL_MOD": "NULL",
                                    "(No column name)": "3706180"
                                },
                                {
                                    "REND_DATUM": "2016-06-08",
                                    "SZALL_MOD": "NULL",
                                    "(No column name)": "4959630"
                                },
                                {
                                    "REND_DATUM": "2016-06-09",
                                    "SZALL_MOD": "NULL",
                                    "(No column name)": "5129750"
                                },
                                {
                                    "REND_DATUM": "2016-06-10",
                                    "SZALL_MOD": "NULL",
                                    "(No column name)": "2295190"
                                },
                                {
                                    "REND_DATUM": "2016-06-11",
                                    "SZALL_MOD": "NULL",
                                    "(No column name)": "2306260"
                                },
                                {
                                    "REND_DATUM": "2016-06-12",
                                    "SZALL_MOD": "NULL",
                                    "(No column name)": "6920770"
                                },
                                {
                                    "REND_DATUM": "2016-06-13",
                                    "SZALL_MOD": "NULL",
                                    "(No column name)": "3467450"
                                },
                                {
                                    "REND_DATUM": "2016-06-14",
                                    "SZALL_MOD": "NULL",
                                    "(No column name)": "3455120"
                                },
                                {
                                    "REND_DATUM": "2016-06-15",
                                    "SZALL_MOD": "NULL",
                                    "(No column name)": "3287980"
                                },
                                {
                                    "REND_DATUM": "2016-06-16",
                                    "SZALL_MOD": "NULL",
                                    "(No column name)": "3607860"
                                },
                                {
                                    "REND_DATUM": "2016-06-17",
                                    "SZALL_MOD": "NULL",
                                    "(No column name)": "3937495"
                                },
                                {
                                    "REND_DATUM": "2016-06-18",
                                    "SZALL_MOD": "NULL",
                                    "(No column name)": "4126910"
                                },
                                {
                                    "REND_DATUM": "2016-06-19",
                                    "SZALL_MOD": "NULL",
                                    "(No column name)": "2782175"
                                },
                                {
                                    "REND_DATUM": "2016-06-20",
                                    "SZALL_MOD": "NULL",
                                    "(No column name)": "2819270"
                                },
                                {
                                    "REND_DATUM": "2016-06-21",
                                    "SZALL_MOD": "NULL",
                                    "(No column name)": "4079830"
                                },
                                {
                                    "REND_DATUM": "2016-06-22",
                                    "SZALL_MOD": "NULL",
                                    "(No column name)": "3871260"
                                },
                                {
                                    "REND_DATUM": "2016-06-23",
                                    "SZALL_MOD": "NULL",
                                    "(No column name)": "3123280"
                                },
                                {
                                    "REND_DATUM": "2016-06-24",
                                    "SZALL_MOD": "NULL",
                                    "(No column name)": "4701270"
                                },
                                {
                                    "REND_DATUM": "2016-06-25",
                                    "SZALL_MOD": "NULL",
                                    "(No column name)": "5602990"
                                },
                                {
                                    "REND_DATUM": "2016-06-26",
                                    "SZALL_MOD": "NULL",
                                    "(No column name)": "3921100"
                                },
                                {
                                    "REND_DATUM": "2016-06-27",
                                    "SZALL_MOD": "NULL",
                                    "(No column name)": "4251000"
                                },
                                {
                                    "REND_DATUM": "2016-06-28",
                                    "SZALL_MOD": "NULL",
                                    "(No column name)": "3311360"
                                },
                                {
                                    "REND_DATUM": "2016-06-29",
                                    "SZALL_MOD": "NULL",
                                    "(No column name)": "3511800"
                                },
                                {
                                    "REND_DATUM": "2016-06-30",
                                    "SZALL_MOD": "NULL",
                                    "(No column name)": "4070860"
                                },
                                {
                                    "REND_DATUM": "2016-07-01",
                                    "SZALL_MOD": "NULL",
                                    "(No column name)": "3317100"
                                },
                                {
                                    "REND_DATUM": "2016-07-02",
                                    "SZALL_MOD": "NULL",
                                    "(No column name)": "4600570"
                                },
                                {
                                    "REND_DATUM": "2016-07-03",
                                    "SZALL_MOD": "NULL",
                                    "(No column name)": "5444060"
                                },
                                {
                                    "REND_DATUM": "2016-07-04",
                                    "SZALL_MOD": "NULL",
                                    "(No column name)": "4756480"
                                },
                                {
                                    "REND_DATUM": "2016-07-05",
                                    "SZALL_MOD": "NULL",
                                    "(No column name)": "4043950"
                                },
                                {
                                    "REND_DATUM": "2016-07-06",
                                    "SZALL_MOD": "NULL",
                                    "(No column name)": "3108900"
                                },
                                {
                                    "REND_DATUM": "2016-07-07",
                                    "SZALL_MOD": "NULL",
                                    "(No column name)": "2938855"
                                },
                                {
                                    "REND_DATUM": "2016-07-08",
                                    "SZALL_MOD": "NULL",
                                    "(No column name)": "4348870"
                                },
                                {
                                    "REND_DATUM": "2016-07-09",
                                    "SZALL_MOD": "NULL",
                                    "(No column name)": "3147400"
                                },
                                {
                                    "REND_DATUM": "2016-07-10",
                                    "SZALL_MOD": "NULL",
                                    "(No column name)": "1886240"
                                },
                                {
                                    "REND_DATUM": "2016-07-11",
                                    "SZALL_MOD": "NULL",
                                    "(No column name)": "4839760"
                                },
                                {
                                    "REND_DATUM": "2016-07-12",
                                    "SZALL_MOD": "NULL",
                                    "(No column name)": "3860690"
                                },
                                {
                                    "REND_DATUM": "2016-07-13",
                                    "SZALL_MOD": "NULL",
                                    "(No column name)": "3195330"
                                },
                                {
                                    "REND_DATUM": "2016-07-14",
                                    "SZALL_MOD": "NULL",
                                    "(No column name)": "4294090"
                                },
                                {
                                    "REND_DATUM": "2016-07-15",
                                    "SZALL_MOD": "NULL",
                                    "(No column name)": "4450830"
                                },
                                {
                                    "REND_DATUM": "2016-07-16",
                                    "SZALL_MOD": "NULL",
                                    "(No column name)": "6548830"
                                },
                                {
                                    "REND_DATUM": "2016-07-17",
                                    "SZALL_MOD": "NULL",
                                    "(No column name)": "2148990"
                                },
                                {
                                    "REND_DATUM": "2016-07-18",
                                    "SZALL_MOD": "NULL",
                                    "(No column name)": "3667830"
                                },
                                {
                                    "REND_DATUM": "2016-07-19",
                                    "SZALL_MOD": "NULL",
                                    "(No column name)": "6477250"
                                },
                                {
                                    "REND_DATUM": "2016-07-20",
                                    "SZALL_MOD": "NULL",
                                    "(No column name)": "2935850"
                                },
                                {
                                    "REND_DATUM": "2016-07-21",
                                    "SZALL_MOD": "NULL",
                                    "(No column name)": "4563250"
                                },
                                {
                                    "REND_DATUM": "2016-07-22",
                                    "SZALL_MOD": "NULL",
                                    "(No column name)": "2710320"
                                },
                                {
                                    "REND_DATUM": "2016-07-23",
                                    "SZALL_MOD": "NULL",
                                    "(No column name)": "2075990"
                                },
                                {
                                    "REND_DATUM": "2016-07-24",
                                    "SZALL_MOD": "NULL",
                                    "(No column name)": "3637400"
                                },
                                {
                                    "REND_DATUM": "2016-07-25",
                                    "SZALL_MOD": "NULL",
                                    "(No column name)": "3057190"
                                },
                                {
                                    "REND_DATUM": "2016-07-26",
                                    "SZALL_MOD": "NULL",
                                    "(No column name)": "3535080"
                                },
                                {
                                    "REND_DATUM": "2016-07-27",
                                    "SZALL_MOD": "NULL",
                                    "(No column name)": "3501880"
                                },
                                {
                                    "REND_DATUM": "2016-07-28",
                                    "SZALL_MOD": "NULL",
                                    "(No column name)": "3414510"
                                },
                                {
                                    "REND_DATUM": "2016-07-29",
                                    "SZALL_MOD": "NULL",
                                    "(No column name)": "4318670"
                                },
                                {
                                    "REND_DATUM": "2016-07-30",
                                    "SZALL_MOD": "NULL",
                                    "(No column name)": "3094480"
                                },
                                {
                                    "REND_DATUM": "2016-07-31",
                                    "SZALL_MOD": "NULL",
                                    "(No column name)": "4049830"
                                },
                                {
                                    "REND_DATUM": "2016-08-01",
                                    "SZALL_MOD": "NULL",
                                    "(No column name)": "3714550"
                                },
                                {
                                    "REND_DATUM": "2016-08-02",
                                    "SZALL_MOD": "NULL",
                                    "(No column name)": "2823170"
                                },
                                {
                                    "REND_DATUM": "2016-08-03",
                                    "SZALL_MOD": "NULL",
                                    "(No column name)": "4405360"
                                },
                                {
                                    "REND_DATUM": "2016-08-04",
                                    "SZALL_MOD": "NULL",
                                    "(No column name)": "5143210"
                                },
                                {
                                    "REND_DATUM": "2016-08-05",
                                    "SZALL_MOD": "NULL",
                                    "(No column name)": "6344325"
                                },
                                {
                                    "REND_DATUM": "2016-08-06",
                                    "SZALL_MOD": "NULL",
                                    "(No column name)": "4461710"
                                },
                                {
                                    "REND_DATUM": "2016-08-07",
                                    "SZALL_MOD": "NULL",
                                    "(No column name)": "3172660"
                                },
                                {
                                    "REND_DATUM": "2016-08-08",
                                    "SZALL_MOD": "NULL",
                                    "(No column name)": "6024240"
                                },
                                {
                                    "REND_DATUM": "2016-08-09",
                                    "SZALL_MOD": "NULL",
                                    "(No column name)": "2974140"
                                },
                                {
                                    "REND_DATUM": "2016-08-10",
                                    "SZALL_MOD": "NULL",
                                    "(No column name)": "4711370"
                                },
                                {
                                    "REND_DATUM": "2016-08-11",
                                    "SZALL_MOD": "NULL",
                                    "(No column name)": "2939950"
                                },
                                {
                                    "REND_DATUM": "2016-08-12",
                                    "SZALL_MOD": "NULL",
                                    "(No column name)": "2676445"
                                },
                                {
                                    "REND_DATUM": "2016-08-13",
                                    "SZALL_MOD": "NULL",
                                    "(No column name)": "3581600"
                                },
                                {
                                    "REND_DATUM": "2016-08-14",
                                    "SZALL_MOD": "NULL",
                                    "(No column name)": "6249145"
                                },
                                {
                                    "REND_DATUM": "2016-08-15",
                                    "SZALL_MOD": "NULL",
                                    "(No column name)": "3878090"
                                },
                                {
                                    "REND_DATUM": "2016-08-16",
                                    "SZALL_MOD": "NULL",
                                    "(No column name)": "2978685"
                                },
                                {
                                    "REND_DATUM": "2016-08-17",
                                    "SZALL_MOD": "NULL",
                                    "(No column name)": "3824130"
                                },
                                {
                                    "REND_DATUM": "2016-08-18",
                                    "SZALL_MOD": "NULL",
                                    "(No column name)": "3610485"
                                },
                                {
                                    "REND_DATUM": "2016-08-19",
                                    "SZALL_MOD": "NULL",
                                    "(No column name)": "4219950"
                                },
                                {
                                    "REND_DATUM": "2016-08-20",
                                    "SZALL_MOD": "NULL",
                                    "(No column name)": "4412110"
                                },
                                {
                                    "REND_DATUM": "2016-08-21",
                                    "SZALL_MOD": "NULL",
                                    "(No column name)": "3168900"
                                },
                                {
                                    "REND_DATUM": "2016-08-22",
                                    "SZALL_MOD": "NULL",
                                    "(No column name)": "4581880"
                                },
                                {
                                    "REND_DATUM": "2016-08-23",
                                    "SZALL_MOD": "NULL",
                                    "(No column name)": "4155090"
                                },
                                {
                                    "REND_DATUM": "2016-08-24",
                                    "SZALL_MOD": "NULL",
                                    "(No column name)": "3428670"
                                },
                                {
                                    "REND_DATUM": "2016-08-25",
                                    "SZALL_MOD": "NULL",
                                    "(No column name)": "5158350"
                                },
                                {
                                    "REND_DATUM": "2016-08-26",
                                    "SZALL_MOD": "NULL",
                                    "(No column name)": "2664520"
                                },
                                {
                                    "REND_DATUM": "2016-08-27",
                                    "SZALL_MOD": "NULL",
                                    "(No column name)": "2614860"
                                },
                                {
                                    "REND_DATUM": "2016-08-28",
                                    "SZALL_MOD": "NULL",
                                    "(No column name)": "4317420"
                                },
                                {
                                    "REND_DATUM": "2016-08-29",
                                    "SZALL_MOD": "NULL",
                                    "(No column name)": "6548300"
                                },
                                {
                                    "REND_DATUM": "2016-08-30",
                                    "SZALL_MOD": "NULL",
                                    "(No column name)": "5068580"
                                },
                                {
                                    "REND_DATUM": "2016-08-31",
                                    "SZALL_MOD": "NULL",
                                    "(No column name)": "4123350"
                                },
                                {
                                    "REND_DATUM": "2016-09-01",
                                    "SZALL_MOD": "NULL",
                                    "(No column name)": "3148220"
                                },
                                {
                                    "REND_DATUM": "2016-09-02",
                                    "SZALL_MOD": "NULL",
                                    "(No column name)": "5254130"
                                },
                                {
                                    "REND_DATUM": "2016-09-03",
                                    "SZALL_MOD": "NULL",
                                    "(No column name)": "4476700"
                                },
                                {
                                    "REND_DATUM": "2016-09-04",
                                    "SZALL_MOD": "NULL",
                                    "(No column name)": "4217920"
                                },
                                {
                                    "REND_DATUM": "2016-09-05",
                                    "SZALL_MOD": "NULL",
                                    "(No column name)": "2793940"
                                },
                                {
                                    "REND_DATUM": "2016-09-06",
                                    "SZALL_MOD": "NULL",
                                    "(No column name)": "5497420"
                                },
                                {
                                    "REND_DATUM": "2016-09-07",
                                    "SZALL_MOD": "NULL",
                                    "(No column name)": "3324940"
                                },
                                {
                                    "REND_DATUM": "2016-09-08",
                                    "SZALL_MOD": "NULL",
                                    "(No column name)": "4160480"
                                },
                                {
                                    "REND_DATUM": "2016-09-09",
                                    "SZALL_MOD": "NULL",
                                    "(No column name)": "4977540"
                                },
                                {
                                    "REND_DATUM": "2016-09-10",
                                    "SZALL_MOD": "NULL",
                                    "(No column name)": "3750970"
                                },
                                {
                                    "REND_DATUM": "2016-09-11",
                                    "SZALL_MOD": "NULL",
                                    "(No column name)": "3970890"
                                },
                                {
                                    "REND_DATUM": "2016-09-12",
                                    "SZALL_MOD": "NULL",
                                    "(No column name)": "1827140"
                                },
                                {
                                    "REND_DATUM": "2016-09-13",
                                    "SZALL_MOD": "NULL",
                                    "(No column name)": "3378290"
                                },
                                {
                                    "REND_DATUM": "2016-09-14",
                                    "SZALL_MOD": "NULL",
                                    "(No column name)": "3275790"
                                },
                                {
                                    "REND_DATUM": "2016-09-15",
                                    "SZALL_MOD": "NULL",
                                    "(No column name)": "2904820"
                                },
                                {
                                    "REND_DATUM": "2016-09-16",
                                    "SZALL_MOD": "NULL",
                                    "(No column name)": "3143690"
                                },
                                {
                                    "REND_DATUM": "2016-09-17",
                                    "SZALL_MOD": "NULL",
                                    "(No column name)": "3588830"
                                },
                                {
                                    "REND_DATUM": "2016-09-18",
                                    "SZALL_MOD": "NULL",
                                    "(No column name)": "3626170"
                                },
                                {
                                    "REND_DATUM": "2016-09-19",
                                    "SZALL_MOD": "NULL",
                                    "(No column name)": "3612840"
                                },
                                {
                                    "REND_DATUM": "2016-09-20",
                                    "SZALL_MOD": "NULL",
                                    "(No column name)": "2857140"
                                },
                                {
                                    "REND_DATUM": "2016-09-21",
                                    "SZALL_MOD": "NULL",
                                    "(No column name)": "3382990"
                                },
                                {
                                    "REND_DATUM": "2016-09-22",
                                    "SZALL_MOD": "NULL",
                                    "(No column name)": "3225910"
                                },
                                {
                                    "REND_DATUM": "2016-09-23",
                                    "SZALL_MOD": "NULL",
                                    "(No column name)": "5785540"
                                },
                                {
                                    "REND_DATUM": "2016-09-24",
                                    "SZALL_MOD": "NULL",
                                    "(No column name)": "4130750"
                                },
                                {
                                    "REND_DATUM": "2016-09-25",
                                    "SZALL_MOD": "NULL",
                                    "(No column name)": "2735230"
                                },
                                {
                                    "REND_DATUM": "2016-09-26",
                                    "SZALL_MOD": "NULL",
                                    "(No column name)": "3598470"
                                },
                                {
                                    "REND_DATUM": "2016-09-27",
                                    "SZALL_MOD": "NULL",
                                    "(No column name)": "4192050"
                                },
                                {
                                    "REND_DATUM": "2016-09-28",
                                    "SZALL_MOD": "NULL",
                                    "(No column name)": "3822220"
                                },
                                {
                                    "REND_DATUM": "2016-09-29",
                                    "SZALL_MOD": "NULL",
                                    "(No column name)": "3610090"
                                },
                                {
                                    "REND_DATUM": "2016-09-30",
                                    "SZALL_MOD": "NULL",
                                    "(No column name)": "4433110"
                                },
                                {
                                    "REND_DATUM": "2016-10-01",
                                    "SZALL_MOD": "NULL",
                                    "(No column name)": "4321100"
                                },
                                {
                                    "REND_DATUM": "2016-10-02",
                                    "SZALL_MOD": "NULL",
                                    "(No column name)": "7342180"
                                },
                                {
                                    "REND_DATUM": "2016-10-03",
                                    "SZALL_MOD": "NULL",
                                    "(No column name)": "2530600"
                                },
                                {
                                    "REND_DATUM": "2016-10-04",
                                    "SZALL_MOD": "NULL",
                                    "(No column name)": "3178120"
                                },
                                {
                                    "REND_DATUM": "2016-10-05",
                                    "SZALL_MOD": "NULL",
                                    "(No column name)": "3415600"
                                },
                                {
                                    "REND_DATUM": "2016-10-06",
                                    "SZALL_MOD": "NULL",
                                    "(No column name)": "4094340"
                                },
                                {
                                    "REND_DATUM": "2016-10-07",
                                    "SZALL_MOD": "NULL",
                                    "(No column name)": "3170460"
                                },
                                {
                                    "REND_DATUM": "2016-10-08",
                                    "SZALL_MOD": "NULL",
                                    "(No column name)": "3047790"
                                },
                                {
                                    "REND_DATUM": "2016-10-09",
                                    "SZALL_MOD": "NULL",
                                    "(No column name)": "4145430"
                                },
                                {
                                    "REND_DATUM": "2016-10-10",
                                    "SZALL_MOD": "NULL",
                                    "(No column name)": "3907950"
                                },
                                {
                                    "REND_DATUM": "2016-10-11",
                                    "SZALL_MOD": "NULL",
                                    "(No column name)": "2903360"
                                },
                                {
                                    "REND_DATUM": "2016-10-12",
                                    "SZALL_MOD": "NULL",
                                    "(No column name)": "3427980"
                                },
                                {
                                    "REND_DATUM": "2016-10-13",
                                    "SZALL_MOD": "NULL",
                                    "(No column name)": "4736260"
                                },
                                {
                                    "REND_DATUM": "2016-10-14",
                                    "SZALL_MOD": "NULL",
                                    "(No column name)": "2779700"
                                },
                                {
                                    "REND_DATUM": "2016-10-15",
                                    "SZALL_MOD": "NULL",
                                    "(No column name)": "2961100"
                                },
                                {
                                    "REND_DATUM": "2016-10-16",
                                    "SZALL_MOD": "NULL",
                                    "(No column name)": "4068640"
                                },
                                {
                                    "REND_DATUM": "2016-10-17",
                                    "SZALL_MOD": "NULL",
                                    "(No column name)": "3379770"
                                },
                                {
                                    "REND_DATUM": "2016-10-18",
                                    "SZALL_MOD": "NULL",
                                    "(No column name)": "4760830"
                                },
                                {
                                    "REND_DATUM": "2016-10-19",
                                    "SZALL_MOD": "NULL",
                                    "(No column name)": "5218770"
                                },
                                {
                                    "REND_DATUM": "2016-10-20",
                                    "SZALL_MOD": "NULL",
                                    "(No column name)": "1934860"
                                },
                                {
                                    "REND_DATUM": "2016-10-21",
                                    "SZALL_MOD": "NULL",
                                    "(No column name)": "5621130"
                                },
                                {
                                    "REND_DATUM": "2016-10-22",
                                    "SZALL_MOD": "NULL",
                                    "(No column name)": "4802190"
                                },
                                {
                                    "REND_DATUM": "2016-10-23",
                                    "SZALL_MOD": "NULL",
                                    "(No column name)": "2995490"
                                },
                                {
                                    "REND_DATUM": "2016-10-24",
                                    "SZALL_MOD": "NULL",
                                    "(No column name)": "3054150"
                                },
                                {
                                    "REND_DATUM": "2016-10-25",
                                    "SZALL_MOD": "NULL",
                                    "(No column name)": "6130350"
                                },
                                {
                                    "REND_DATUM": "2016-10-26",
                                    "SZALL_MOD": "NULL",
                                    "(No column name)": "4774060"
                                },
                                {
                                    "REND_DATUM": "2016-10-27",
                                    "SZALL_MOD": "NULL",
                                    "(No column name)": "4028510"
                                },
                                {
                                    "REND_DATUM": "2016-10-28",
                                    "SZALL_MOD": "NULL",
                                    "(No column name)": "3398470"
                                },
                                {
                                    "REND_DATUM": "2016-10-29",
                                    "SZALL_MOD": "NULL",
                                    "(No column name)": "3168010"
                                },
                                {
                                    "REND_DATUM": "2016-10-30",
                                    "SZALL_MOD": "NULL",
                                    "(No column name)": "2601270"
                                },
                                {
                                    "REND_DATUM": "2016-10-31",
                                    "SZALL_MOD": "NULL",
                                    "(No column name)": "2338070"
                                },
                                {
                                    "REND_DATUM": "2016-11-01",
                                    "SZALL_MOD": "NULL",
                                    "(No column name)": "2875130"
                                },
                                {
                                    "REND_DATUM": "2016-11-02",
                                    "SZALL_MOD": "NULL",
                                    "(No column name)": "4181470"
                                },
                                {
                                    "REND_DATUM": "2016-11-03",
                                    "SZALL_MOD": "NULL",
                                    "(No column name)": "3334900"
                                },
                                {
                                    "REND_DATUM": "2016-11-04",
                                    "SZALL_MOD": "NULL",
                                    "(No column name)": "3422690"
                                },
                                {
                                    "REND_DATUM": "2016-11-05",
                                    "SZALL_MOD": "NULL",
                                    "(No column name)": "3039900"
                                },
                                {
                                    "REND_DATUM": "2016-11-06",
                                    "SZALL_MOD": "NULL",
                                    "(No column name)": "4431910"
                                },
                                {
                                    "REND_DATUM": "2016-11-07",
                                    "SZALL_MOD": "NULL",
                                    "(No column name)": "2868620"
                                },
                                {
                                    "REND_DATUM": "2016-11-08",
                                    "SZALL_MOD": "NULL",
                                    "(No column name)": "2232110"
                                },
                                {
                                    "REND_DATUM": "2016-11-09",
                                    "SZALL_MOD": "NULL",
                                    "(No column name)": "3303580"
                                },
                                {
                                    "REND_DATUM": "2016-11-10",
                                    "SZALL_MOD": "NULL",
                                    "(No column name)": "4697010"
                                },
                                {
                                    "REND_DATUM": "2016-11-11",
                                    "SZALL_MOD": "NULL",
                                    "(No column name)": "3564280"
                                },
                                {
                                    "REND_DATUM": "2016-11-12",
                                    "SZALL_MOD": "NULL",
                                    "(No column name)": "5283320"
                                },
                                {
                                    "REND_DATUM": "2016-11-13",
                                    "SZALL_MOD": "NULL",
                                    "(No column name)": "3270450"
                                },
                                {
                                    "REND_DATUM": "2016-11-14",
                                    "SZALL_MOD": "NULL",
                                    "(No column name)": "4083840"
                                },
                                {
                                    "REND_DATUM": "2016-11-15",
                                    "SZALL_MOD": "NULL",
                                    "(No column name)": "2665170"
                                },
                                {
                                    "REND_DATUM": "2016-11-16",
                                    "SZALL_MOD": "NULL",
                                    "(No column name)": "4497520"
                                },
                                {
                                    "REND_DATUM": "2016-11-17",
                                    "SZALL_MOD": "NULL",
                                    "(No column name)": "3302290"
                                },
                                {
                                    "REND_DATUM": "2016-11-18",
                                    "SZALL_MOD": "NULL",
                                    "(No column name)": "4500590"
                                },
                                {
                                    "REND_DATUM": "2016-11-19",
                                    "SZALL_MOD": "NULL",
                                    "(No column name)": "3939770"
                                },
                                {
                                    "REND_DATUM": "2016-11-20",
                                    "SZALL_MOD": "NULL",
                                    "(No column name)": "5313420"
                                },
                                {
                                    "REND_DATUM": "2016-11-21",
                                    "SZALL_MOD": "NULL",
                                    "(No column name)": "2400580"
                                },
                                {
                                    "REND_DATUM": "2016-11-22",
                                    "SZALL_MOD": "NULL",
                                    "(No column name)": "4556750"
                                },
                                {
                                    "REND_DATUM": "2016-11-23",
                                    "SZALL_MOD": "NULL",
                                    "(No column name)": "4040950"
                                },
                                {
                                    "REND_DATUM": "2016-11-24",
                                    "SZALL_MOD": "NULL",
                                    "(No column name)": "3759700"
                                },
                                {
                                    "REND_DATUM": "2016-11-25",
                                    "SZALL_MOD": "NULL",
                                    "(No column name)": "4965290"
                                },
                                {
                                    "REND_DATUM": "2016-11-26",
                                    "SZALL_MOD": "NULL",
                                    "(No column name)": "2566110"
                                },
                                {
                                    "REND_DATUM": "2016-11-27",
                                    "SZALL_MOD": "NULL",
                                    "(No column name)": "3563890"
                                },
                                {
                                    "REND_DATUM": "2016-11-28",
                                    "SZALL_MOD": "NULL",
                                    "(No column name)": "3787690"
                                },
                                {
                                    "REND_DATUM": "2016-11-29",
                                    "SZALL_MOD": "NULL",
                                    "(No column name)": "3205630"
                                },
                                {
                                    "REND_DATUM": "2016-11-30",
                                    "SZALL_MOD": "NULL",
                                    "(No column name)": "3644870"
                                },
                                {
                                    "REND_DATUM": "2016-12-01",
                                    "SZALL_MOD": "NULL",
                                    "(No column name)": "4393330"
                                },
                                {
                                    "REND_DATUM": "2016-12-02",
                                    "SZALL_MOD": "NULL",
                                    "(No column name)": "3242300"
                                },
                                {
                                    "REND_DATUM": "2016-12-03",
                                    "SZALL_MOD": "NULL",
                                    "(No column name)": "3196260"
                                },
                                {
                                    "REND_DATUM": "2016-12-04",
                                    "SZALL_MOD": "NULL",
                                    "(No column name)": "3408340"
                                },
                                {
                                    "REND_DATUM": "2016-12-05",
                                    "SZALL_MOD": "NULL",
                                    "(No column name)": "4717410"
                                },
                                {
                                    "REND_DATUM": "2016-12-06",
                                    "SZALL_MOD": "NULL",
                                    "(No column name)": "3214060"
                                },
                                {
                                    "REND_DATUM": "2016-12-07",
                                    "SZALL_MOD": "NULL",
                                    "(No column name)": "3385000"
                                },
                                {
                                    "REND_DATUM": "2016-12-08",
                                    "SZALL_MOD": "NULL",
                                    "(No column name)": "4202120"
                                },
                                {
                                    "REND_DATUM": "2016-12-09",
                                    "SZALL_MOD": "NULL",
                                    "(No column name)": "2295280"
                                },
                                {
                                    "REND_DATUM": "2016-12-10",
                                    "SZALL_MOD": "NULL",
                                    "(No column name)": "4154800"
                                },
                                {
                                    "REND_DATUM": "2016-12-11",
                                    "SZALL_MOD": "NULL",
                                    "(No column name)": "2032560"
                                },
                                {
                                    "REND_DATUM": "2016-12-12",
                                    "SZALL_MOD": "NULL",
                                    "(No column name)": "3108120"
                                },
                                {
                                    "REND_DATUM": "2016-12-13",
                                    "SZALL_MOD": "NULL",
                                    "(No column name)": "2313940"
                                },
                                {
                                    "REND_DATUM": "2016-12-14",
                                    "SZALL_MOD": "NULL",
                                    "(No column name)": "4041580"
                                },
                                {
                                    "REND_DATUM": "2016-12-15",
                                    "SZALL_MOD": "NULL",
                                    "(No column name)": "4884290"
                                },
                                {
                                    "REND_DATUM": "2016-12-16",
                                    "SZALL_MOD": "NULL",
                                    "(No column name)": "5632750"
                                },
                                {
                                    "REND_DATUM": "2016-12-17",
                                    "SZALL_MOD": "NULL",
                                    "(No column name)": "3798290"
                                },
                                {
                                    "REND_DATUM": "2016-12-18",
                                    "SZALL_MOD": "NULL",
                                    "(No column name)": "4082880"
                                },
                                {
                                    "REND_DATUM": "2016-12-19",
                                    "SZALL_MOD": "NULL",
                                    "(No column name)": "3582270"
                                },
                                {
                                    "REND_DATUM": "2016-12-20",
                                    "SZALL_MOD": "NULL",
                                    "(No column name)": "3065260"
                                },
                                {
                                    "REND_DATUM": "2016-12-21",
                                    "SZALL_MOD": "NULL",
                                    "(No column name)": "5383360"
                                },
                                {
                                    "REND_DATUM": "2016-12-22",
                                    "SZALL_MOD": "NULL",
                                    "(No column name)": "4236830"
                                },
                                {
                                    "REND_DATUM": "2016-12-23",
                                    "SZALL_MOD": "NULL",
                                    "(No column name)": "3755530"
                                },
                                {
                                    "REND_DATUM": "2016-12-24",
                                    "SZALL_MOD": "NULL",
                                    "(No column name)": "3608240"
                                },
                                {
                                    "REND_DATUM": "2016-12-25",
                                    "SZALL_MOD": "NULL",
                                    "(No column name)": "4379490"
                                },
                                {
                                    "REND_DATUM": "2016-12-26",
                                    "SZALL_MOD": "NULL",
                                    "(No column name)": "3793400"
                                },
                                {
                                    "REND_DATUM": "2016-12-27",
                                    "SZALL_MOD": "NULL",
                                    "(No column name)": "3892740"
                                },
                                {
                                    "REND_DATUM": "2016-12-28",
                                    "SZALL_MOD": "NULL",
                                    "(No column name)": "3476600"
                                },
                                {
                                    "REND_DATUM": "2016-12-29",
                                    "SZALL_MOD": "NULL",
                                    "(No column name)": "2518720"
                                },
                                {
                                    "REND_DATUM": "2016-12-30",
                                    "SZALL_MOD": "NULL",
                                    "(No column name)": "3586260"
                                },
                                {
                                    "REND_DATUM": "2016-12-31",
                                    "SZALL_MOD": "NULL",
                                    "(No column name)": "4490450"
                                },
                                {
                                    "REND_DATUM": "2017-01-01",
                                    "SZALL_MOD": "NULL",
                                    "(No column name)": "3601710"
                                },
                                {
                                    "REND_DATUM": "2017-01-02",
                                    "SZALL_MOD": "NULL",
                                    "(No column name)": "5217600"
                                },
                                {
                                    "REND_DATUM": "2017-01-03",
                                    "SZALL_MOD": "NULL",
                                    "(No column name)": "4064370"
                                },
                                {
                                    "REND_DATUM": "2017-01-04",
                                    "SZALL_MOD": "NULL",
                                    "(No column name)": "6012500"
                                },
                                {
                                    "REND_DATUM": "2017-01-05",
                                    "SZALL_MOD": "NULL",
                                    "(No column name)": "2741300"
                                },
                                {
                                    "REND_DATUM": "2017-01-06",
                                    "SZALL_MOD": "NULL",
                                    "(No column name)": "3833150"
                                },
                                {
                                    "REND_DATUM": "2017-01-07",
                                    "SZALL_MOD": "NULL",
                                    "(No column name)": "2939780"
                                },
                                {
                                    "REND_DATUM": "2017-01-08",
                                    "SZALL_MOD": "NULL",
                                    "(No column name)": "5840520"
                                },
                                {
                                    "REND_DATUM": "2017-01-09",
                                    "SZALL_MOD": "NULL",
                                    "(No column name)": "3938610"
                                },
                                {
                                    "REND_DATUM": "2017-01-10",
                                    "SZALL_MOD": "NULL",
                                    "(No column name)": "4249080"
                                },
                                {
                                    "REND_DATUM": "2017-01-11",
                                    "SZALL_MOD": "NULL",
                                    "(No column name)": "2958860"
                                },
                                {
                                    "REND_DATUM": "2017-01-12",
                                    "SZALL_MOD": "NULL",
                                    "(No column name)": "3849580"
                                },
                                {
                                    "REND_DATUM": "2017-01-13",
                                    "SZALL_MOD": "NULL",
                                    "(No column name)": "3832960"
                                },
                                {
                                    "REND_DATUM": "2017-01-14",
                                    "SZALL_MOD": "NULL",
                                    "(No column name)": "3731100"
                                },
                                {
                                    "REND_DATUM": "2017-01-15",
                                    "SZALL_MOD": "NULL",
                                    "(No column name)": "4163670"
                                },
                                {
                                    "REND_DATUM": "2017-01-16",
                                    "SZALL_MOD": "NULL",
                                    "(No column name)": "2845880"
                                },
                                {
                                    "REND_DATUM": "2017-01-17",
                                    "SZALL_MOD": "NULL",
                                    "(No column name)": "3896510"
                                },
                                {
                                    "REND_DATUM": "2017-01-18",
                                    "SZALL_MOD": "NULL",
                                    "(No column name)": "3357220"
                                },
                                {
                                    "REND_DATUM": "2017-01-19",
                                    "SZALL_MOD": "NULL",
                                    "(No column name)": "1889990"
                                },
                                {
                                    "REND_DATUM": "2017-01-20",
                                    "SZALL_MOD": "NULL",
                                    "(No column name)": "2404240"
                                },
                                {
                                    "REND_DATUM": "2017-01-21",
                                    "SZALL_MOD": "NULL",
                                    "(No column name)": "3393680"
                                },
                                {
                                    "REND_DATUM": "2017-01-22",
                                    "SZALL_MOD": "NULL",
                                    "(No column name)": "2289550"
                                },
                                {
                                    "REND_DATUM": "2017-01-23",
                                    "SZALL_MOD": "NULL",
                                    "(No column name)": "1884150"
                                },
                                {
                                    "REND_DATUM": "2017-01-24",
                                    "SZALL_MOD": "NULL",
                                    "(No column name)": "4160770"
                                },
                                {
                                    "REND_DATUM": "2017-01-25",
                                    "SZALL_MOD": "NULL",
                                    "(No column name)": "3866560"
                                },
                                {
                                    "REND_DATUM": "2017-01-26",
                                    "SZALL_MOD": "NULL",
                                    "(No column name)": "4782440"
                                },
                                {
                                    "REND_DATUM": "2017-01-27",
                                    "SZALL_MOD": "NULL",
                                    "(No column name)": "2372640"
                                },
                                {
                                    "REND_DATUM": "2017-01-28",
                                    "SZALL_MOD": "NULL",
                                    "(No column name)": "4862070"
                                },
                                {
                                    "REND_DATUM": "2017-01-29",
                                    "SZALL_MOD": "NULL",
                                    "(No column name)": "3652430"
                                },
                                {
                                    "REND_DATUM": "2017-01-30",
                                    "SZALL_MOD": "NULL",
                                    "(No column name)": "4042190"
                                },
                                {
                                    "REND_DATUM": "2017-01-31",
                                    "SZALL_MOD": "NULL",
                                    "(No column name)": "5015940"
                                },
                                {
                                    "REND_DATUM": "2017-02-01",
                                    "SZALL_MOD": "NULL",
                                    "(No column name)": "2929700"
                                },
                                {
                                    "REND_DATUM": "2017-02-02",
                                    "SZALL_MOD": "NULL",
                                    "(No column name)": "2452980"
                                },
                                {
                                    "REND_DATUM": "2017-02-03",
                                    "SZALL_MOD": "NULL",
                                    "(No column name)": "2600740"
                                },
                                {
                                    "REND_DATUM": "2017-02-04",
                                    "SZALL_MOD": "NULL",
                                    "(No column name)": "5315450"
                                },
                                {
                                    "REND_DATUM": "2017-02-05",
                                    "SZALL_MOD": "NULL",
                                    "(No column name)": "3086150"
                                },
                                {
                                    "REND_DATUM": "2017-02-06",
                                    "SZALL_MOD": "NULL",
                                    "(No column name)": "2654880"
                                },
                                {
                                    "REND_DATUM": "2017-02-07",
                                    "SZALL_MOD": "NULL",
                                    "(No column name)": "2870360"
                                },
                                {
                                    "REND_DATUM": "2017-02-08",
                                    "SZALL_MOD": "NULL",
                                    "(No column name)": "3459880"
                                },
                                {
                                    "REND_DATUM": "2017-02-09",
                                    "SZALL_MOD": "NULL",
                                    "(No column name)": "5037310"
                                },
                                {
                                    "REND_DATUM": "2017-02-10",
                                    "SZALL_MOD": "NULL",
                                    "(No column name)": "5412030"
                                },
                                {
                                    "REND_DATUM": "2017-02-11",
                                    "SZALL_MOD": "NULL",
                                    "(No column name)": "4074030"
                                },
                                {
                                    "REND_DATUM": "2017-02-12",
                                    "SZALL_MOD": "NULL",
                                    "(No column name)": "2801740"
                                },
                                {
                                    "REND_DATUM": "2017-02-13",
                                    "SZALL_MOD": "NULL",
                                    "(No column name)": "2741040"
                                },
                                {
                                    "REND_DATUM": "2017-02-14",
                                    "SZALL_MOD": "NULL",
                                    "(No column name)": "3699690"
                                },
                                {
                                    "REND_DATUM": "2017-02-15",
                                    "SZALL_MOD": "NULL",
                                    "(No column name)": "2104860"
                                },
                                {
                                    "REND_DATUM": "2017-02-16",
                                    "SZALL_MOD": "NULL",
                                    "(No column name)": "3517480"
                                },
                                {
                                    "REND_DATUM": "2017-02-17",
                                    "SZALL_MOD": "NULL",
                                    "(No column name)": "1939040"
                                },
                                {
                                    "REND_DATUM": "2017-02-18",
                                    "SZALL_MOD": "NULL",
                                    "(No column name)": "2786700"
                                },
                                {
                                    "REND_DATUM": "2017-02-19",
                                    "SZALL_MOD": "NULL",
                                    "(No column name)": "2625700"
                                },
                                {
                                    "REND_DATUM": "2017-02-20",
                                    "SZALL_MOD": "NULL",
                                    "(No column name)": "4275670"
                                },
                                {
                                    "REND_DATUM": "2017-02-21",
                                    "SZALL_MOD": "NULL",
                                    "(No column name)": "3127730"
                                },
                                {
                                    "REND_DATUM": "2017-02-22",
                                    "SZALL_MOD": "NULL",
                                    "(No column name)": "4193920"
                                },
                                {
                                    "REND_DATUM": "2017-02-23",
                                    "SZALL_MOD": "NULL",
                                    "(No column name)": "3409800"
                                },
                                {
                                    "REND_DATUM": "2017-02-24",
                                    "SZALL_MOD": "NULL",
                                    "(No column name)": "4899420"
                                },
                                {
                                    "REND_DATUM": "2017-02-25",
                                    "SZALL_MOD": "NULL",
                                    "(No column name)": "3958860"
                                },
                                {
                                    "REND_DATUM": "2017-02-26",
                                    "SZALL_MOD": "NULL",
                                    "(No column name)": "3773590"
                                },
                                {
                                    "REND_DATUM": "2017-02-27",
                                    "SZALL_MOD": "NULL",
                                    "(No column name)": "2029670"
                                },
                                {
                                    "REND_DATUM": "2017-02-28",
                                    "SZALL_MOD": "NULL",
                                    "(No column name)": "3754880"
                                },
                                {
                                    "REND_DATUM": "2017-03-01",
                                    "SZALL_MOD": "NULL",
                                    "(No column name)": "3681510"
                                },
                                {
                                    "REND_DATUM": "2017-03-02",
                                    "SZALL_MOD": "NULL",
                                    "(No column name)": "5208610"
                                },
                                {
                                    "REND_DATUM": "2017-03-03",
                                    "SZALL_MOD": "NULL",
                                    "(No column name)": "4532110"
                                },
                                {
                                    "REND_DATUM": "2017-03-04",
                                    "SZALL_MOD": "NULL",
                                    "(No column name)": "3850040"
                                },
                                {
                                    "REND_DATUM": "2017-03-05",
                                    "SZALL_MOD": "NULL",
                                    "(No column name)": "3090460"
                                },
                                {
                                    "REND_DATUM": "2017-03-06",
                                    "SZALL_MOD": "NULL",
                                    "(No column name)": "4501220"
                                },
                                {
                                    "REND_DATUM": "2017-03-07",
                                    "SZALL_MOD": "NULL",
                                    "(No column name)": "2225340"
                                },
                                {
                                    "REND_DATUM": "2017-03-08",
                                    "SZALL_MOD": "NULL",
                                    "(No column name)": "3550470"
                                },
                                {
                                    "REND_DATUM": "2017-03-09",
                                    "SZALL_MOD": "NULL",
                                    "(No column name)": "4433900"
                                },
                                {
                                    "REND_DATUM": "2017-03-10",
                                    "SZALL_MOD": "NULL",
                                    "(No column name)": "5208220"
                                },
                                {
                                    "REND_DATUM": "2017-03-11",
                                    "SZALL_MOD": "NULL",
                                    "(No column name)": "3063510"
                                },
                                {
                                    "REND_DATUM": "2017-03-12",
                                    "SZALL_MOD": "NULL",
                                    "(No column name)": "2926190"
                                },
                                {
                                    "REND_DATUM": "2017-03-13",
                                    "SZALL_MOD": "NULL",
                                    "(No column name)": "2988080"
                                },
                                {
                                    "REND_DATUM": "2017-03-14",
                                    "SZALL_MOD": "NULL",
                                    "(No column name)": "4542680"
                                },
                                {
                                    "REND_DATUM": "2017-03-15",
                                    "SZALL_MOD": "NULL",
                                    "(No column name)": "2809140"
                                },
                                {
                                    "REND_DATUM": "2017-03-16",
                                    "SZALL_MOD": "NULL",
                                    "(No column name)": "3643340"
                                },
                                {
                                    "REND_DATUM": "2017-03-17",
                                    "SZALL_MOD": "NULL",
                                    "(No column name)": "4272070"
                                },
                                {
                                    "REND_DATUM": "2017-03-18",
                                    "SZALL_MOD": "NULL",
                                    "(No column name)": "3143080"
                                },
                                {
                                    "REND_DATUM": "2017-03-19",
                                    "SZALL_MOD": "NULL",
                                    "(No column name)": "4095320"
                                },
                                {
                                    "REND_DATUM": "2017-03-20",
                                    "SZALL_MOD": "NULL",
                                    "(No column name)": "5144400"
                                },
                                {
                                    "REND_DATUM": "2017-03-21",
                                    "SZALL_MOD": "NULL",
                                    "(No column name)": "3196200"
                                },
                                {
                                    "REND_DATUM": "2017-03-22",
                                    "SZALL_MOD": "NULL",
                                    "(No column name)": "5278330"
                                },
                                {
                                    "REND_DATUM": "2017-03-23",
                                    "SZALL_MOD": "NULL",
                                    "(No column name)": "5034310"
                                },
                                {
                                    "REND_DATUM": "2017-03-24",
                                    "SZALL_MOD": "NULL",
                                    "(No column name)": "4697020"
                                },
                                {
                                    "REND_DATUM": "2017-03-25",
                                    "SZALL_MOD": "NULL",
                                    "(No column name)": "3279520"
                                },
                                {
                                    "REND_DATUM": "2017-03-26",
                                    "SZALL_MOD": "NULL",
                                    "(No column name)": "2729970"
                                },
                                {
                                    "REND_DATUM": "2017-03-27",
                                    "SZALL_MOD": "NULL",
                                    "(No column name)": "2577060"
                                },
                                {
                                    "REND_DATUM": "2017-03-28",
                                    "SZALL_MOD": "NULL",
                                    "(No column name)": "2687540"
                                },
                                {
                                    "REND_DATUM": "2017-03-29",
                                    "SZALL_MOD": "NULL",
                                    "(No column name)": "2715840"
                                },
                                {
                                    "REND_DATUM": "2017-03-30",
                                    "SZALL_MOD": "NULL",
                                    "(No column name)": "4541530"
                                },
                                {
                                    "REND_DATUM": "2017-03-31",
                                    "SZALL_MOD": "NULL",
                                    "(No column name)": "2825610"
                                },
                                {
                                    "REND_DATUM": "2017-04-01",
                                    "SZALL_MOD": "NULL",
                                    "(No column name)": "3592370"
                                },
                                {
                                    "REND_DATUM": "NULL",
                                    "SZALL_MOD": "NULL",
                                    "(No column name)": "2611634603"
                                }
                            ]
                        },
                        "text/html": [
                            "<table>",
                            "<tr><th>REND_DATUM</th><th>SZALL_MOD</th><th>(No column name)</th></tr>",
                            "<tr><td>2015-05-01</td><td>NULL</td><td>2279415</td></tr>",
                            "<tr><td>2015-05-02</td><td>NULL</td><td>3580718</td></tr>",
                            "<tr><td>2015-05-03</td><td>NULL</td><td>2812695</td></tr>",
                            "<tr><td>2015-05-04</td><td>NULL</td><td>2772950</td></tr>",
                            "<tr><td>2015-05-05</td><td>NULL</td><td>3485649</td></tr>",
                            "<tr><td>2015-05-06</td><td>NULL</td><td>3382873</td></tr>",
                            "<tr><td>2015-05-07</td><td>NULL</td><td>3426361</td></tr>",
                            "<tr><td>2015-05-08</td><td>NULL</td><td>4359636</td></tr>",
                            "<tr><td>2015-05-09</td><td>NULL</td><td>2849930</td></tr>",
                            "<tr><td>2015-05-10</td><td>NULL</td><td>4228829</td></tr>",
                            "<tr><td>2015-05-11</td><td>NULL</td><td>2379426</td></tr>",
                            "<tr><td>2015-05-12</td><td>NULL</td><td>3736901</td></tr>",
                            "<tr><td>2015-05-13</td><td>NULL</td><td>5337596</td></tr>",
                            "<tr><td>2015-05-14</td><td>NULL</td><td>2472862</td></tr>",
                            "<tr><td>2015-05-15</td><td>NULL</td><td>3708772</td></tr>",
                            "<tr><td>2015-05-16</td><td>NULL</td><td>2043315</td></tr>",
                            "<tr><td>2015-05-17</td><td>NULL</td><td>2896002</td></tr>",
                            "<tr><td>2015-05-18</td><td>NULL</td><td>3138099</td></tr>",
                            "<tr><td>2015-05-19</td><td>NULL</td><td>3757350</td></tr>",
                            "<tr><td>2015-05-20</td><td>NULL</td><td>4256931</td></tr>",
                            "<tr><td>2015-05-21</td><td>NULL</td><td>2623545</td></tr>",
                            "<tr><td>2015-05-22</td><td>NULL</td><td>3311306</td></tr>",
                            "<tr><td>2015-05-23</td><td>NULL</td><td>3707229</td></tr>",
                            "<tr><td>2015-05-24</td><td>NULL</td><td>3469333</td></tr>",
                            "<tr><td>2015-05-25</td><td>NULL</td><td>5086306</td></tr>",
                            "<tr><td>2015-05-26</td><td>NULL</td><td>4483064</td></tr>",
                            "<tr><td>2015-05-27</td><td>NULL</td><td>3446967</td></tr>",
                            "<tr><td>2015-05-28</td><td>NULL</td><td>4207823</td></tr>",
                            "<tr><td>2015-05-29</td><td>NULL</td><td>3898877</td></tr>",
                            "<tr><td>2015-05-30</td><td>NULL</td><td>4686786</td></tr>",
                            "<tr><td>2015-05-31</td><td>NULL</td><td>3113844</td></tr>",
                            "<tr><td>2015-06-01</td><td>NULL</td><td>4279329</td></tr>",
                            "<tr><td>2015-06-02</td><td>NULL</td><td>3042970</td></tr>",
                            "<tr><td>2015-06-03</td><td>NULL</td><td>2883237</td></tr>",
                            "<tr><td>2015-06-04</td><td>NULL</td><td>4333851</td></tr>",
                            "<tr><td>2015-06-05</td><td>NULL</td><td>3018811</td></tr>",
                            "<tr><td>2015-06-06</td><td>NULL</td><td>4426703</td></tr>",
                            "<tr><td>2015-06-07</td><td>NULL</td><td>3669678</td></tr>",
                            "<tr><td>2015-06-08</td><td>NULL</td><td>2609941</td></tr>",
                            "<tr><td>2015-06-09</td><td>NULL</td><td>1806618</td></tr>",
                            "<tr><td>2015-06-10</td><td>NULL</td><td>5877852</td></tr>",
                            "<tr><td>2015-06-11</td><td>NULL</td><td>2894153</td></tr>",
                            "<tr><td>2015-06-12</td><td>NULL</td><td>2720092</td></tr>",
                            "<tr><td>2015-06-13</td><td>NULL</td><td>3799415</td></tr>",
                            "<tr><td>2015-06-14</td><td>NULL</td><td>2909648</td></tr>",
                            "<tr><td>2015-06-15</td><td>NULL</td><td>2810870</td></tr>",
                            "<tr><td>2015-06-16</td><td>NULL</td><td>3778323</td></tr>",
                            "<tr><td>2015-06-17</td><td>NULL</td><td>2756853</td></tr>",
                            "<tr><td>2015-06-18</td><td>NULL</td><td>3190411</td></tr>",
                            "<tr><td>2015-06-19</td><td>NULL</td><td>2923276</td></tr>",
                            "<tr><td>2015-06-20</td><td>NULL</td><td>2871905</td></tr>",
                            "<tr><td>2015-06-21</td><td>NULL</td><td>4386623</td></tr>",
                            "<tr><td>2015-06-22</td><td>NULL</td><td>1917370</td></tr>",
                            "<tr><td>2015-06-23</td><td>NULL</td><td>5572063</td></tr>",
                            "<tr><td>2015-06-24</td><td>NULL</td><td>3303546</td></tr>",
                            "<tr><td>2015-06-25</td><td>NULL</td><td>1917903</td></tr>",
                            "<tr><td>2015-06-26</td><td>NULL</td><td>2767873</td></tr>",
                            "<tr><td>2015-06-27</td><td>NULL</td><td>2391802</td></tr>",
                            "<tr><td>2015-06-28</td><td>NULL</td><td>2894066</td></tr>",
                            "<tr><td>2015-06-29</td><td>NULL</td><td>2879834</td></tr>",
                            "<tr><td>2015-06-30</td><td>NULL</td><td>4408170</td></tr>",
                            "<tr><td>2015-07-01</td><td>NULL</td><td>2999741</td></tr>",
                            "<tr><td>2015-07-02</td><td>NULL</td><td>2381370</td></tr>",
                            "<tr><td>2015-07-03</td><td>NULL</td><td>2346769</td></tr>",
                            "<tr><td>2015-07-04</td><td>NULL</td><td>3073024</td></tr>",
                            "<tr><td>2015-07-05</td><td>NULL</td><td>4275556</td></tr>",
                            "<tr><td>2015-07-06</td><td>NULL</td><td>2596683</td></tr>",
                            "<tr><td>2015-07-07</td><td>NULL</td><td>1852944</td></tr>",
                            "<tr><td>2015-07-08</td><td>NULL</td><td>3680495</td></tr>",
                            "<tr><td>2015-07-09</td><td>NULL</td><td>2788299</td></tr>",
                            "<tr><td>2015-07-10</td><td>NULL</td><td>3128704</td></tr>",
                            "<tr><td>2015-07-11</td><td>NULL</td><td>2547574</td></tr>",
                            "<tr><td>2015-07-12</td><td>NULL</td><td>4236864</td></tr>",
                            "<tr><td>2015-07-13</td><td>NULL</td><td>4039393</td></tr>",
                            "<tr><td>2015-07-14</td><td>NULL</td><td>2506145</td></tr>",
                            "<tr><td>2015-07-15</td><td>NULL</td><td>4857981</td></tr>",
                            "<tr><td>2015-07-16</td><td>NULL</td><td>2361972</td></tr>",
                            "<tr><td>2015-07-17</td><td>NULL</td><td>2336263</td></tr>",
                            "<tr><td>2015-07-18</td><td>NULL</td><td>1782195</td></tr>",
                            "<tr><td>2015-07-19</td><td>NULL</td><td>3214783</td></tr>",
                            "<tr><td>2015-07-20</td><td>NULL</td><td>3913966</td></tr>",
                            "<tr><td>2015-07-21</td><td>NULL</td><td>4561837</td></tr>",
                            "<tr><td>2015-07-22</td><td>NULL</td><td>3525031</td></tr>",
                            "<tr><td>2015-07-23</td><td>NULL</td><td>2317783</td></tr>",
                            "<tr><td>2015-07-24</td><td>NULL</td><td>2023300</td></tr>",
                            "<tr><td>2015-07-25</td><td>NULL</td><td>3161727</td></tr>",
                            "<tr><td>2015-07-26</td><td>NULL</td><td>3931566</td></tr>",
                            "<tr><td>2015-07-27</td><td>NULL</td><td>3897124</td></tr>",
                            "<tr><td>2015-07-28</td><td>NULL</td><td>3367677</td></tr>",
                            "<tr><td>2015-07-29</td><td>NULL</td><td>3797585</td></tr>",
                            "<tr><td>2015-07-30</td><td>NULL</td><td>4093614</td></tr>",
                            "<tr><td>2015-07-31</td><td>NULL</td><td>3255050</td></tr>",
                            "<tr><td>2015-08-01</td><td>NULL</td><td>3001556</td></tr>",
                            "<tr><td>2015-08-02</td><td>NULL</td><td>2212505</td></tr>",
                            "<tr><td>2015-08-03</td><td>NULL</td><td>4028406</td></tr>",
                            "<tr><td>2015-08-04</td><td>NULL</td><td>4863339</td></tr>",
                            "<tr><td>2015-08-05</td><td>NULL</td><td>5888832</td></tr>",
                            "<tr><td>2015-08-06</td><td>NULL</td><td>5770619</td></tr>",
                            "<tr><td>2015-08-07</td><td>NULL</td><td>3904203</td></tr>",
                            "<tr><td>2015-08-08</td><td>NULL</td><td>5950093</td></tr>",
                            "<tr><td>2015-08-09</td><td>NULL</td><td>4771276</td></tr>",
                            "<tr><td>2015-08-10</td><td>NULL</td><td>2536402</td></tr>",
                            "<tr><td>2015-08-11</td><td>NULL</td><td>4443880</td></tr>",
                            "<tr><td>2015-08-12</td><td>NULL</td><td>4291815</td></tr>",
                            "<tr><td>2015-08-13</td><td>NULL</td><td>3070458</td></tr>",
                            "<tr><td>2015-08-14</td><td>NULL</td><td>2845966</td></tr>",
                            "<tr><td>2015-08-15</td><td>NULL</td><td>2251807</td></tr>",
                            "<tr><td>2015-08-16</td><td>NULL</td><td>2681572</td></tr>",
                            "<tr><td>2015-08-17</td><td>NULL</td><td>5153897</td></tr>",
                            "<tr><td>2015-08-18</td><td>NULL</td><td>4124260</td></tr>",
                            "<tr><td>2015-08-19</td><td>NULL</td><td>2261471</td></tr>",
                            "<tr><td>2015-08-20</td><td>NULL</td><td>5677653</td></tr>",
                            "<tr><td>2015-08-21</td><td>NULL</td><td>2866708</td></tr>",
                            "<tr><td>2015-08-22</td><td>NULL</td><td>2825943</td></tr>",
                            "<tr><td>2015-08-23</td><td>NULL</td><td>2822778</td></tr>",
                            "<tr><td>2015-08-24</td><td>NULL</td><td>2719276</td></tr>",
                            "<tr><td>2015-08-25</td><td>NULL</td><td>4160435</td></tr>",
                            "<tr><td>2015-08-26</td><td>NULL</td><td>4600189</td></tr>",
                            "<tr><td>2015-08-27</td><td>NULL</td><td>2493732</td></tr>",
                            "<tr><td>2015-08-28</td><td>NULL</td><td>3085344</td></tr>",
                            "<tr><td>2015-08-29</td><td>NULL</td><td>5929944</td></tr>",
                            "<tr><td>2015-08-30</td><td>NULL</td><td>4701063</td></tr>",
                            "<tr><td>2015-08-31</td><td>NULL</td><td>4657091</td></tr>",
                            "<tr><td>2015-09-01</td><td>NULL</td><td>3206685</td></tr>",
                            "<tr><td>2015-09-02</td><td>NULL</td><td>5692527</td></tr>",
                            "<tr><td>2015-09-03</td><td>NULL</td><td>3450427</td></tr>",
                            "<tr><td>2015-09-04</td><td>NULL</td><td>3738193</td></tr>",
                            "<tr><td>2015-09-05</td><td>NULL</td><td>3867059</td></tr>",
                            "<tr><td>2015-09-06</td><td>NULL</td><td>6132853</td></tr>",
                            "<tr><td>2015-09-07</td><td>NULL</td><td>4179837</td></tr>",
                            "<tr><td>2015-09-08</td><td>NULL</td><td>4703011</td></tr>",
                            "<tr><td>2015-09-09</td><td>NULL</td><td>2885792</td></tr>",
                            "<tr><td>2015-09-10</td><td>NULL</td><td>3060710</td></tr>",
                            "<tr><td>2015-09-11</td><td>NULL</td><td>4788101</td></tr>",
                            "<tr><td>2015-09-12</td><td>NULL</td><td>5532283</td></tr>",
                            "<tr><td>2015-09-13</td><td>NULL</td><td>2559121</td></tr>",
                            "<tr><td>2015-09-14</td><td>NULL</td><td>2724651</td></tr>",
                            "<tr><td>2015-09-15</td><td>NULL</td><td>2896517</td></tr>",
                            "<tr><td>2015-09-16</td><td>NULL</td><td>5343119</td></tr>",
                            "<tr><td>2015-09-17</td><td>NULL</td><td>5479338</td></tr>",
                            "<tr><td>2015-09-18</td><td>NULL</td><td>3428808</td></tr>",
                            "<tr><td>2015-09-19</td><td>NULL</td><td>2134407</td></tr>",
                            "<tr><td>2015-09-20</td><td>NULL</td><td>2756524</td></tr>",
                            "<tr><td>2015-09-21</td><td>NULL</td><td>3557548</td></tr>",
                            "<tr><td>2015-09-22</td><td>NULL</td><td>2153551</td></tr>",
                            "<tr><td>2015-09-23</td><td>NULL</td><td>3427710</td></tr>",
                            "<tr><td>2015-09-24</td><td>NULL</td><td>2664585</td></tr>",
                            "<tr><td>2015-09-25</td><td>NULL</td><td>4539248</td></tr>",
                            "<tr><td>2015-09-26</td><td>NULL</td><td>2365926</td></tr>",
                            "<tr><td>2015-09-27</td><td>NULL</td><td>3096292</td></tr>",
                            "<tr><td>2015-09-28</td><td>NULL</td><td>2975916</td></tr>",
                            "<tr><td>2015-09-29</td><td>NULL</td><td>3384018</td></tr>",
                            "<tr><td>2015-09-30</td><td>NULL</td><td>3256064</td></tr>",
                            "<tr><td>2015-10-01</td><td>NULL</td><td>1997289</td></tr>",
                            "<tr><td>2015-10-02</td><td>NULL</td><td>6371689</td></tr>",
                            "<tr><td>2015-10-03</td><td>NULL</td><td>4258221</td></tr>",
                            "<tr><td>2015-10-04</td><td>NULL</td><td>2744918</td></tr>",
                            "<tr><td>2015-10-05</td><td>NULL</td><td>3877931</td></tr>",
                            "<tr><td>2015-10-06</td><td>NULL</td><td>4831650</td></tr>",
                            "<tr><td>2015-10-07</td><td>NULL</td><td>1976753</td></tr>",
                            "<tr><td>2015-10-08</td><td>NULL</td><td>2139374</td></tr>",
                            "<tr><td>2015-10-09</td><td>NULL</td><td>2710345</td></tr>",
                            "<tr><td>2015-10-10</td><td>NULL</td><td>3738885</td></tr>",
                            "<tr><td>2015-10-11</td><td>NULL</td><td>4164026</td></tr>",
                            "<tr><td>2015-10-12</td><td>NULL</td><td>3263024</td></tr>",
                            "<tr><td>2015-10-13</td><td>NULL</td><td>3293890</td></tr>",
                            "<tr><td>2015-10-14</td><td>NULL</td><td>7348229</td></tr>",
                            "<tr><td>2015-10-15</td><td>NULL</td><td>1806169</td></tr>",
                            "<tr><td>2015-10-16</td><td>NULL</td><td>2672064</td></tr>",
                            "<tr><td>2015-10-17</td><td>NULL</td><td>3686925</td></tr>",
                            "<tr><td>2015-10-18</td><td>NULL</td><td>3477076</td></tr>",
                            "<tr><td>2015-10-19</td><td>NULL</td><td>3596584</td></tr>",
                            "<tr><td>2015-10-20</td><td>NULL</td><td>3000046</td></tr>",
                            "<tr><td>2015-10-21</td><td>NULL</td><td>3113765</td></tr>",
                            "<tr><td>2015-10-22</td><td>NULL</td><td>5093076</td></tr>",
                            "<tr><td>2015-10-23</td><td>NULL</td><td>3101428</td></tr>",
                            "<tr><td>2015-10-24</td><td>NULL</td><td>1970788</td></tr>",
                            "<tr><td>2015-10-25</td><td>NULL</td><td>4758691</td></tr>",
                            "<tr><td>2015-10-26</td><td>NULL</td><td>4389832</td></tr>",
                            "<tr><td>2015-10-27</td><td>NULL</td><td>2078584</td></tr>",
                            "<tr><td>2015-10-28</td><td>NULL</td><td>3919723</td></tr>",
                            "<tr><td>2015-10-29</td><td>NULL</td><td>4532293</td></tr>",
                            "<tr><td>2015-10-30</td><td>NULL</td><td>3165654</td></tr>",
                            "<tr><td>2015-10-31</td><td>NULL</td><td>4900367</td></tr>",
                            "<tr><td>2015-11-01</td><td>NULL</td><td>2382124</td></tr>",
                            "<tr><td>2015-11-02</td><td>NULL</td><td>1857540</td></tr>",
                            "<tr><td>2015-11-03</td><td>NULL</td><td>3833497</td></tr>",
                            "<tr><td>2015-11-04</td><td>NULL</td><td>2509178</td></tr>",
                            "<tr><td>2015-11-05</td><td>NULL</td><td>3448541</td></tr>",
                            "<tr><td>2015-11-06</td><td>NULL</td><td>2055942</td></tr>",
                            "<tr><td>2015-11-07</td><td>NULL</td><td>5183525</td></tr>",
                            "<tr><td>2015-11-08</td><td>NULL</td><td>3538582</td></tr>",
                            "<tr><td>2015-11-09</td><td>NULL</td><td>4696078</td></tr>",
                            "<tr><td>2015-11-10</td><td>NULL</td><td>4465010</td></tr>",
                            "<tr><td>2015-11-11</td><td>NULL</td><td>3870693</td></tr>",
                            "<tr><td>2015-11-12</td><td>NULL</td><td>3265153</td></tr>",
                            "<tr><td>2015-11-13</td><td>NULL</td><td>2709865</td></tr>",
                            "<tr><td>2015-11-14</td><td>NULL</td><td>2793744</td></tr>",
                            "<tr><td>2015-11-15</td><td>NULL</td><td>3394374</td></tr>",
                            "<tr><td>2015-11-16</td><td>NULL</td><td>3137435</td></tr>",
                            "<tr><td>2015-11-17</td><td>NULL</td><td>4366964</td></tr>",
                            "<tr><td>2015-11-18</td><td>NULL</td><td>4145235</td></tr>",
                            "<tr><td>2015-11-19</td><td>NULL</td><td>4252642</td></tr>",
                            "<tr><td>2015-11-20</td><td>NULL</td><td>4014225</td></tr>",
                            "<tr><td>2015-11-21</td><td>NULL</td><td>2379783</td></tr>",
                            "<tr><td>2015-11-22</td><td>NULL</td><td>2387426</td></tr>",
                            "<tr><td>2015-11-23</td><td>NULL</td><td>3634916</td></tr>",
                            "<tr><td>2015-11-24</td><td>NULL</td><td>5560935</td></tr>",
                            "<tr><td>2015-11-25</td><td>NULL</td><td>2709489</td></tr>",
                            "<tr><td>2015-11-26</td><td>NULL</td><td>2825105</td></tr>",
                            "<tr><td>2015-11-27</td><td>NULL</td><td>2619870</td></tr>",
                            "<tr><td>2015-11-28</td><td>NULL</td><td>4078799</td></tr>",
                            "<tr><td>2015-11-29</td><td>NULL</td><td>2306036</td></tr>",
                            "<tr><td>2015-11-30</td><td>NULL</td><td>4532668</td></tr>",
                            "<tr><td>2015-12-01</td><td>NULL</td><td>5635906</td></tr>",
                            "<tr><td>2015-12-02</td><td>NULL</td><td>4325044</td></tr>",
                            "<tr><td>2015-12-03</td><td>NULL</td><td>2509604</td></tr>",
                            "<tr><td>2015-12-04</td><td>NULL</td><td>3945029</td></tr>",
                            "<tr><td>2015-12-05</td><td>NULL</td><td>3969446</td></tr>",
                            "<tr><td>2015-12-06</td><td>NULL</td><td>6008928</td></tr>",
                            "<tr><td>2015-12-07</td><td>NULL</td><td>1712207</td></tr>",
                            "<tr><td>2015-12-08</td><td>NULL</td><td>2559965</td></tr>",
                            "<tr><td>2015-12-09</td><td>NULL</td><td>3292306</td></tr>",
                            "<tr><td>2015-12-10</td><td>NULL</td><td>3779196</td></tr>",
                            "<tr><td>2015-12-11</td><td>NULL</td><td>3068164</td></tr>",
                            "<tr><td>2015-12-12</td><td>NULL</td><td>1647635</td></tr>",
                            "<tr><td>2015-12-13</td><td>NULL</td><td>3312667</td></tr>",
                            "<tr><td>2015-12-14</td><td>NULL</td><td>2459003</td></tr>",
                            "<tr><td>2015-12-15</td><td>NULL</td><td>2736820</td></tr>",
                            "<tr><td>2015-12-16</td><td>NULL</td><td>2387901</td></tr>",
                            "<tr><td>2015-12-17</td><td>NULL</td><td>4227136</td></tr>",
                            "<tr><td>2015-12-18</td><td>NULL</td><td>2281208</td></tr>",
                            "<tr><td>2015-12-19</td><td>NULL</td><td>2612221</td></tr>",
                            "<tr><td>2015-12-20</td><td>NULL</td><td>3931589</td></tr>",
                            "<tr><td>2015-12-21</td><td>NULL</td><td>2894997</td></tr>",
                            "<tr><td>2015-12-22</td><td>NULL</td><td>4230329</td></tr>",
                            "<tr><td>2015-12-23</td><td>NULL</td><td>2300043</td></tr>",
                            "<tr><td>2015-12-24</td><td>NULL</td><td>2968482</td></tr>",
                            "<tr><td>2015-12-25</td><td>NULL</td><td>3611304</td></tr>",
                            "<tr><td>2015-12-26</td><td>NULL</td><td>3101276</td></tr>",
                            "<tr><td>2015-12-27</td><td>NULL</td><td>2087875</td></tr>",
                            "<tr><td>2015-12-28</td><td>NULL</td><td>2158528</td></tr>",
                            "<tr><td>2015-12-29</td><td>NULL</td><td>3751261</td></tr>",
                            "<tr><td>2015-12-30</td><td>NULL</td><td>4797443</td></tr>",
                            "<tr><td>2015-12-31</td><td>NULL</td><td>4063267</td></tr>",
                            "<tr><td>2016-01-01</td><td>NULL</td><td>5030480</td></tr>",
                            "<tr><td>2016-01-02</td><td>NULL</td><td>3068660</td></tr>",
                            "<tr><td>2016-01-03</td><td>NULL</td><td>3520100</td></tr>",
                            "<tr><td>2016-01-04</td><td>NULL</td><td>3094040</td></tr>",
                            "<tr><td>2016-01-05</td><td>NULL</td><td>5143200</td></tr>",
                            "<tr><td>2016-01-06</td><td>NULL</td><td>4551470</td></tr>",
                            "<tr><td>2016-01-07</td><td>NULL</td><td>3544050</td></tr>",
                            "<tr><td>2016-01-08</td><td>NULL</td><td>5599270</td></tr>",
                            "<tr><td>2016-01-09</td><td>NULL</td><td>2401880</td></tr>",
                            "<tr><td>2016-01-10</td><td>NULL</td><td>3192840</td></tr>",
                            "<tr><td>2016-01-11</td><td>NULL</td><td>3483380</td></tr>",
                            "<tr><td>2016-01-12</td><td>NULL</td><td>3832960</td></tr>",
                            "<tr><td>2016-01-13</td><td>NULL</td><td>4325540</td></tr>",
                            "<tr><td>2016-01-14</td><td>NULL</td><td>3957320</td></tr>",
                            "<tr><td>2016-01-15</td><td>NULL</td><td>3139500</td></tr>",
                            "<tr><td>2016-01-16</td><td>NULL</td><td>2932130</td></tr>",
                            "<tr><td>2016-01-17</td><td>NULL</td><td>2345630</td></tr>",
                            "<tr><td>2016-01-18</td><td>NULL</td><td>5524280</td></tr>",
                            "<tr><td>2016-01-19</td><td>NULL</td><td>3852890</td></tr>",
                            "<tr><td>2016-01-20</td><td>NULL</td><td>5755970</td></tr>",
                            "<tr><td>2016-01-21</td><td>NULL</td><td>6049940</td></tr>",
                            "<tr><td>2016-01-22</td><td>NULL</td><td>3172930</td></tr>",
                            "<tr><td>2016-01-23</td><td>NULL</td><td>4222390</td></tr>",
                            "<tr><td>2016-01-24</td><td>NULL</td><td>4554680</td></tr>",
                            "<tr><td>2016-01-25</td><td>NULL</td><td>2879060</td></tr>",
                            "<tr><td>2016-01-26</td><td>NULL</td><td>5031710</td></tr>",
                            "<tr><td>2016-01-27</td><td>NULL</td><td>4527100</td></tr>",
                            "<tr><td>2016-01-28</td><td>NULL</td><td>3415550</td></tr>",
                            "<tr><td>2016-01-29</td><td>NULL</td><td>4352660</td></tr>",
                            "<tr><td>2016-01-30</td><td>NULL</td><td>4606680</td></tr>",
                            "<tr><td>2016-01-31</td><td>NULL</td><td>2129250</td></tr>",
                            "<tr><td>2016-02-01</td><td>NULL</td><td>3854930</td></tr>",
                            "<tr><td>2016-02-02</td><td>NULL</td><td>3704110</td></tr>",
                            "<tr><td>2016-02-03</td><td>NULL</td><td>5305860</td></tr>",
                            "<tr><td>2016-02-04</td><td>NULL</td><td>4689980</td></tr>",
                            "<tr><td>2016-02-05</td><td>NULL</td><td>4666330</td></tr>",
                            "<tr><td>2016-02-06</td><td>NULL</td><td>2328250</td></tr>",
                            "<tr><td>2016-02-07</td><td>NULL</td><td>4171390</td></tr>",
                            "<tr><td>2016-02-08</td><td>NULL</td><td>5521240</td></tr>",
                            "<tr><td>2016-02-09</td><td>NULL</td><td>4429490</td></tr>",
                            "<tr><td>2016-02-10</td><td>NULL</td><td>2643650</td></tr>",
                            "<tr><td>2016-02-11</td><td>NULL</td><td>4375480</td></tr>",
                            "<tr><td>2016-02-12</td><td>NULL</td><td>5422215</td></tr>",
                            "<tr><td>2016-02-13</td><td>NULL</td><td>6953530</td></tr>",
                            "<tr><td>2016-02-14</td><td>NULL</td><td>6367760</td></tr>",
                            "<tr><td>2016-02-15</td><td>NULL</td><td>3598410</td></tr>",
                            "<tr><td>2016-02-16</td><td>NULL</td><td>1703360</td></tr>",
                            "<tr><td>2016-02-17</td><td>NULL</td><td>8006740</td></tr>",
                            "<tr><td>2016-02-18</td><td>NULL</td><td>3828020</td></tr>",
                            "<tr><td>2016-02-19</td><td>NULL</td><td>4125360</td></tr>",
                            "<tr><td>2016-02-20</td><td>NULL</td><td>4192140</td></tr>",
                            "<tr><td>2016-02-21</td><td>NULL</td><td>5090530</td></tr>",
                            "<tr><td>2016-02-22</td><td>NULL</td><td>5003360</td></tr>",
                            "<tr><td>2016-02-23</td><td>NULL</td><td>5548320</td></tr>",
                            "<tr><td>2016-02-24</td><td>NULL</td><td>4131490</td></tr>",
                            "<tr><td>2016-02-25</td><td>NULL</td><td>2243060</td></tr>",
                            "<tr><td>2016-02-26</td><td>NULL</td><td>5007140</td></tr>",
                            "<tr><td>2016-02-27</td><td>NULL</td><td>4711070</td></tr>",
                            "<tr><td>2016-02-28</td><td>NULL</td><td>5702270</td></tr>",
                            "<tr><td>2016-02-29</td><td>NULL</td><td>4062020</td></tr>",
                            "<tr><td>2016-03-01</td><td>NULL</td><td>2722790</td></tr>",
                            "<tr><td>2016-03-02</td><td>NULL</td><td>3088390</td></tr>",
                            "<tr><td>2016-03-03</td><td>NULL</td><td>4901560</td></tr>",
                            "<tr><td>2016-03-04</td><td>NULL</td><td>3210630</td></tr>",
                            "<tr><td>2016-03-05</td><td>NULL</td><td>2508360</td></tr>",
                            "<tr><td>2016-03-06</td><td>NULL</td><td>2868670</td></tr>",
                            "<tr><td>2016-03-07</td><td>NULL</td><td>6382670</td></tr>",
                            "<tr><td>2016-03-08</td><td>NULL</td><td>2974690</td></tr>",
                            "<tr><td>2016-03-09</td><td>NULL</td><td>3443790</td></tr>",
                            "<tr><td>2016-03-10</td><td>NULL</td><td>3981330</td></tr>",
                            "<tr><td>2016-03-11</td><td>NULL</td><td>3427360</td></tr>",
                            "<tr><td>2016-03-12</td><td>NULL</td><td>3955500</td></tr>",
                            "<tr><td>2016-03-13</td><td>NULL</td><td>4285210</td></tr>",
                            "<tr><td>2016-03-14</td><td>NULL</td><td>4039930</td></tr>",
                            "<tr><td>2016-03-15</td><td>NULL</td><td>2949150</td></tr>",
                            "<tr><td>2016-03-16</td><td>NULL</td><td>3554350</td></tr>",
                            "<tr><td>2016-03-17</td><td>NULL</td><td>4329390</td></tr>",
                            "<tr><td>2016-03-18</td><td>NULL</td><td>3432310</td></tr>",
                            "<tr><td>2016-03-19</td><td>NULL</td><td>3783340</td></tr>",
                            "<tr><td>2016-03-20</td><td>NULL</td><td>3928035</td></tr>",
                            "<tr><td>2016-03-21</td><td>NULL</td><td>4638550</td></tr>",
                            "<tr><td>2016-03-22</td><td>NULL</td><td>3483200</td></tr>",
                            "<tr><td>2016-03-23</td><td>NULL</td><td>2021610</td></tr>",
                            "<tr><td>2016-03-24</td><td>NULL</td><td>4387210</td></tr>",
                            "<tr><td>2016-03-25</td><td>NULL</td><td>2753250</td></tr>",
                            "<tr><td>2016-03-26</td><td>NULL</td><td>3024420</td></tr>",
                            "<tr><td>2016-03-27</td><td>NULL</td><td>5555880</td></tr>",
                            "<tr><td>2016-03-28</td><td>NULL</td><td>5169580</td></tr>",
                            "<tr><td>2016-03-29</td><td>NULL</td><td>4055210</td></tr>",
                            "<tr><td>2016-03-30</td><td>NULL</td><td>3786330</td></tr>",
                            "<tr><td>2016-03-31</td><td>NULL</td><td>3082690</td></tr>",
                            "<tr><td>2016-04-01</td><td>NULL</td><td>3306650</td></tr>",
                            "<tr><td>2016-04-02</td><td>NULL</td><td>3412610</td></tr>",
                            "<tr><td>2016-04-03</td><td>NULL</td><td>3592680</td></tr>",
                            "<tr><td>2016-04-04</td><td>NULL</td><td>6800170</td></tr>",
                            "<tr><td>2016-04-05</td><td>NULL</td><td>3180810</td></tr>",
                            "<tr><td>2016-04-06</td><td>NULL</td><td>4450520</td></tr>",
                            "<tr><td>2016-04-07</td><td>NULL</td><td>4476330</td></tr>",
                            "<tr><td>2016-04-08</td><td>NULL</td><td>4551850</td></tr>",
                            "<tr><td>2016-04-09</td><td>NULL</td><td>3692290</td></tr>",
                            "<tr><td>2016-04-10</td><td>NULL</td><td>3295330</td></tr>",
                            "<tr><td>2016-04-11</td><td>NULL</td><td>4279830</td></tr>",
                            "<tr><td>2016-04-12</td><td>NULL</td><td>2860600</td></tr>",
                            "<tr><td>2016-04-13</td><td>NULL</td><td>2883880</td></tr>",
                            "<tr><td>2016-04-14</td><td>NULL</td><td>4694350</td></tr>",
                            "<tr><td>2016-04-15</td><td>NULL</td><td>2607260</td></tr>",
                            "<tr><td>2016-04-16</td><td>NULL</td><td>5826970</td></tr>",
                            "<tr><td>2016-04-17</td><td>NULL</td><td>2419010</td></tr>",
                            "<tr><td>2016-04-18</td><td>NULL</td><td>5328450</td></tr>",
                            "<tr><td>2016-04-19</td><td>NULL</td><td>4631880</td></tr>",
                            "<tr><td>2016-04-20</td><td>NULL</td><td>3788760</td></tr>",
                            "<tr><td>2016-04-21</td><td>NULL</td><td>2174100</td></tr>",
                            "<tr><td>2016-04-22</td><td>NULL</td><td>5151720</td></tr>",
                            "<tr><td>2016-04-23</td><td>NULL</td><td>3825090</td></tr>",
                            "<tr><td>2016-04-24</td><td>NULL</td><td>5384200</td></tr>",
                            "<tr><td>2016-04-25</td><td>NULL</td><td>6807540</td></tr>",
                            "<tr><td>2016-04-26</td><td>NULL</td><td>6011750</td></tr>",
                            "<tr><td>2016-04-27</td><td>NULL</td><td>3856170</td></tr>",
                            "<tr><td>2016-04-28</td><td>NULL</td><td>4204860</td></tr>",
                            "<tr><td>2016-04-29</td><td>NULL</td><td>4482680</td></tr>",
                            "<tr><td>2016-04-30</td><td>NULL</td><td>2979440</td></tr>",
                            "<tr><td>2016-05-01</td><td>NULL</td><td>2293680</td></tr>",
                            "<tr><td>2016-05-02</td><td>NULL</td><td>3918350</td></tr>",
                            "<tr><td>2016-05-03</td><td>NULL</td><td>3628420</td></tr>",
                            "<tr><td>2016-05-04</td><td>NULL</td><td>4370490</td></tr>",
                            "<tr><td>2016-05-05</td><td>NULL</td><td>2998610</td></tr>",
                            "<tr><td>2016-05-06</td><td>NULL</td><td>3479790</td></tr>",
                            "<tr><td>2016-05-07</td><td>NULL</td><td>4802390</td></tr>",
                            "<tr><td>2016-05-08</td><td>NULL</td><td>4336200</td></tr>",
                            "<tr><td>2016-05-09</td><td>NULL</td><td>4149360</td></tr>",
                            "<tr><td>2016-05-10</td><td>NULL</td><td>3968580</td></tr>",
                            "<tr><td>2016-05-11</td><td>NULL</td><td>4380820</td></tr>",
                            "<tr><td>2016-05-12</td><td>NULL</td><td>5935710</td></tr>",
                            "<tr><td>2016-05-13</td><td>NULL</td><td>3034090</td></tr>",
                            "<tr><td>2016-05-14</td><td>NULL</td><td>3058270</td></tr>",
                            "<tr><td>2016-05-15</td><td>NULL</td><td>3803500</td></tr>",
                            "<tr><td>2016-05-16</td><td>NULL</td><td>3550980</td></tr>",
                            "<tr><td>2016-05-17</td><td>NULL</td><td>4300410</td></tr>",
                            "<tr><td>2016-05-18</td><td>NULL</td><td>3043880</td></tr>",
                            "<tr><td>2016-05-19</td><td>NULL</td><td>2787020</td></tr>",
                            "<tr><td>2016-05-20</td><td>NULL</td><td>2967570</td></tr>",
                            "<tr><td>2016-05-21</td><td>NULL</td><td>3034050</td></tr>",
                            "<tr><td>2016-05-22</td><td>NULL</td><td>3956770</td></tr>",
                            "<tr><td>2016-05-23</td><td>NULL</td><td>4874065</td></tr>",
                            "<tr><td>2016-05-24</td><td>NULL</td><td>1395460</td></tr>",
                            "<tr><td>2016-05-25</td><td>NULL</td><td>2226600</td></tr>",
                            "<tr><td>2016-05-26</td><td>NULL</td><td>1942760</td></tr>",
                            "<tr><td>2016-05-27</td><td>NULL</td><td>3741660</td></tr>",
                            "<tr><td>2016-05-28</td><td>NULL</td><td>3364000</td></tr>",
                            "<tr><td>2016-05-29</td><td>NULL</td><td>3132810</td></tr>",
                            "<tr><td>2016-05-30</td><td>NULL</td><td>3719580</td></tr>",
                            "<tr><td>2016-05-31</td><td>NULL</td><td>3975700</td></tr>",
                            "<tr><td>2016-06-01</td><td>NULL</td><td>5036510</td></tr>",
                            "<tr><td>2016-06-02</td><td>NULL</td><td>3453860</td></tr>",
                            "<tr><td>2016-06-03</td><td>NULL</td><td>2945650</td></tr>",
                            "<tr><td>2016-06-04</td><td>NULL</td><td>5691630</td></tr>",
                            "<tr><td>2016-06-05</td><td>NULL</td><td>2779010</td></tr>",
                            "<tr><td>2016-06-06</td><td>NULL</td><td>2941290</td></tr>",
                            "<tr><td>2016-06-07</td><td>NULL</td><td>3706180</td></tr>",
                            "<tr><td>2016-06-08</td><td>NULL</td><td>4959630</td></tr>",
                            "<tr><td>2016-06-09</td><td>NULL</td><td>5129750</td></tr>",
                            "<tr><td>2016-06-10</td><td>NULL</td><td>2295190</td></tr>",
                            "<tr><td>2016-06-11</td><td>NULL</td><td>2306260</td></tr>",
                            "<tr><td>2016-06-12</td><td>NULL</td><td>6920770</td></tr>",
                            "<tr><td>2016-06-13</td><td>NULL</td><td>3467450</td></tr>",
                            "<tr><td>2016-06-14</td><td>NULL</td><td>3455120</td></tr>",
                            "<tr><td>2016-06-15</td><td>NULL</td><td>3287980</td></tr>",
                            "<tr><td>2016-06-16</td><td>NULL</td><td>3607860</td></tr>",
                            "<tr><td>2016-06-17</td><td>NULL</td><td>3937495</td></tr>",
                            "<tr><td>2016-06-18</td><td>NULL</td><td>4126910</td></tr>",
                            "<tr><td>2016-06-19</td><td>NULL</td><td>2782175</td></tr>",
                            "<tr><td>2016-06-20</td><td>NULL</td><td>2819270</td></tr>",
                            "<tr><td>2016-06-21</td><td>NULL</td><td>4079830</td></tr>",
                            "<tr><td>2016-06-22</td><td>NULL</td><td>3871260</td></tr>",
                            "<tr><td>2016-06-23</td><td>NULL</td><td>3123280</td></tr>",
                            "<tr><td>2016-06-24</td><td>NULL</td><td>4701270</td></tr>",
                            "<tr><td>2016-06-25</td><td>NULL</td><td>5602990</td></tr>",
                            "<tr><td>2016-06-26</td><td>NULL</td><td>3921100</td></tr>",
                            "<tr><td>2016-06-27</td><td>NULL</td><td>4251000</td></tr>",
                            "<tr><td>2016-06-28</td><td>NULL</td><td>3311360</td></tr>",
                            "<tr><td>2016-06-29</td><td>NULL</td><td>3511800</td></tr>",
                            "<tr><td>2016-06-30</td><td>NULL</td><td>4070860</td></tr>",
                            "<tr><td>2016-07-01</td><td>NULL</td><td>3317100</td></tr>",
                            "<tr><td>2016-07-02</td><td>NULL</td><td>4600570</td></tr>",
                            "<tr><td>2016-07-03</td><td>NULL</td><td>5444060</td></tr>",
                            "<tr><td>2016-07-04</td><td>NULL</td><td>4756480</td></tr>",
                            "<tr><td>2016-07-05</td><td>NULL</td><td>4043950</td></tr>",
                            "<tr><td>2016-07-06</td><td>NULL</td><td>3108900</td></tr>",
                            "<tr><td>2016-07-07</td><td>NULL</td><td>2938855</td></tr>",
                            "<tr><td>2016-07-08</td><td>NULL</td><td>4348870</td></tr>",
                            "<tr><td>2016-07-09</td><td>NULL</td><td>3147400</td></tr>",
                            "<tr><td>2016-07-10</td><td>NULL</td><td>1886240</td></tr>",
                            "<tr><td>2016-07-11</td><td>NULL</td><td>4839760</td></tr>",
                            "<tr><td>2016-07-12</td><td>NULL</td><td>3860690</td></tr>",
                            "<tr><td>2016-07-13</td><td>NULL</td><td>3195330</td></tr>",
                            "<tr><td>2016-07-14</td><td>NULL</td><td>4294090</td></tr>",
                            "<tr><td>2016-07-15</td><td>NULL</td><td>4450830</td></tr>",
                            "<tr><td>2016-07-16</td><td>NULL</td><td>6548830</td></tr>",
                            "<tr><td>2016-07-17</td><td>NULL</td><td>2148990</td></tr>",
                            "<tr><td>2016-07-18</td><td>NULL</td><td>3667830</td></tr>",
                            "<tr><td>2016-07-19</td><td>NULL</td><td>6477250</td></tr>",
                            "<tr><td>2016-07-20</td><td>NULL</td><td>2935850</td></tr>",
                            "<tr><td>2016-07-21</td><td>NULL</td><td>4563250</td></tr>",
                            "<tr><td>2016-07-22</td><td>NULL</td><td>2710320</td></tr>",
                            "<tr><td>2016-07-23</td><td>NULL</td><td>2075990</td></tr>",
                            "<tr><td>2016-07-24</td><td>NULL</td><td>3637400</td></tr>",
                            "<tr><td>2016-07-25</td><td>NULL</td><td>3057190</td></tr>",
                            "<tr><td>2016-07-26</td><td>NULL</td><td>3535080</td></tr>",
                            "<tr><td>2016-07-27</td><td>NULL</td><td>3501880</td></tr>",
                            "<tr><td>2016-07-28</td><td>NULL</td><td>3414510</td></tr>",
                            "<tr><td>2016-07-29</td><td>NULL</td><td>4318670</td></tr>",
                            "<tr><td>2016-07-30</td><td>NULL</td><td>3094480</td></tr>",
                            "<tr><td>2016-07-31</td><td>NULL</td><td>4049830</td></tr>",
                            "<tr><td>2016-08-01</td><td>NULL</td><td>3714550</td></tr>",
                            "<tr><td>2016-08-02</td><td>NULL</td><td>2823170</td></tr>",
                            "<tr><td>2016-08-03</td><td>NULL</td><td>4405360</td></tr>",
                            "<tr><td>2016-08-04</td><td>NULL</td><td>5143210</td></tr>",
                            "<tr><td>2016-08-05</td><td>NULL</td><td>6344325</td></tr>",
                            "<tr><td>2016-08-06</td><td>NULL</td><td>4461710</td></tr>",
                            "<tr><td>2016-08-07</td><td>NULL</td><td>3172660</td></tr>",
                            "<tr><td>2016-08-08</td><td>NULL</td><td>6024240</td></tr>",
                            "<tr><td>2016-08-09</td><td>NULL</td><td>2974140</td></tr>",
                            "<tr><td>2016-08-10</td><td>NULL</td><td>4711370</td></tr>",
                            "<tr><td>2016-08-11</td><td>NULL</td><td>2939950</td></tr>",
                            "<tr><td>2016-08-12</td><td>NULL</td><td>2676445</td></tr>",
                            "<tr><td>2016-08-13</td><td>NULL</td><td>3581600</td></tr>",
                            "<tr><td>2016-08-14</td><td>NULL</td><td>6249145</td></tr>",
                            "<tr><td>2016-08-15</td><td>NULL</td><td>3878090</td></tr>",
                            "<tr><td>2016-08-16</td><td>NULL</td><td>2978685</td></tr>",
                            "<tr><td>2016-08-17</td><td>NULL</td><td>3824130</td></tr>",
                            "<tr><td>2016-08-18</td><td>NULL</td><td>3610485</td></tr>",
                            "<tr><td>2016-08-19</td><td>NULL</td><td>4219950</td></tr>",
                            "<tr><td>2016-08-20</td><td>NULL</td><td>4412110</td></tr>",
                            "<tr><td>2016-08-21</td><td>NULL</td><td>3168900</td></tr>",
                            "<tr><td>2016-08-22</td><td>NULL</td><td>4581880</td></tr>",
                            "<tr><td>2016-08-23</td><td>NULL</td><td>4155090</td></tr>",
                            "<tr><td>2016-08-24</td><td>NULL</td><td>3428670</td></tr>",
                            "<tr><td>2016-08-25</td><td>NULL</td><td>5158350</td></tr>",
                            "<tr><td>2016-08-26</td><td>NULL</td><td>2664520</td></tr>",
                            "<tr><td>2016-08-27</td><td>NULL</td><td>2614860</td></tr>",
                            "<tr><td>2016-08-28</td><td>NULL</td><td>4317420</td></tr>",
                            "<tr><td>2016-08-29</td><td>NULL</td><td>6548300</td></tr>",
                            "<tr><td>2016-08-30</td><td>NULL</td><td>5068580</td></tr>",
                            "<tr><td>2016-08-31</td><td>NULL</td><td>4123350</td></tr>",
                            "<tr><td>2016-09-01</td><td>NULL</td><td>3148220</td></tr>",
                            "<tr><td>2016-09-02</td><td>NULL</td><td>5254130</td></tr>",
                            "<tr><td>2016-09-03</td><td>NULL</td><td>4476700</td></tr>",
                            "<tr><td>2016-09-04</td><td>NULL</td><td>4217920</td></tr>",
                            "<tr><td>2016-09-05</td><td>NULL</td><td>2793940</td></tr>",
                            "<tr><td>2016-09-06</td><td>NULL</td><td>5497420</td></tr>",
                            "<tr><td>2016-09-07</td><td>NULL</td><td>3324940</td></tr>",
                            "<tr><td>2016-09-08</td><td>NULL</td><td>4160480</td></tr>",
                            "<tr><td>2016-09-09</td><td>NULL</td><td>4977540</td></tr>",
                            "<tr><td>2016-09-10</td><td>NULL</td><td>3750970</td></tr>",
                            "<tr><td>2016-09-11</td><td>NULL</td><td>3970890</td></tr>",
                            "<tr><td>2016-09-12</td><td>NULL</td><td>1827140</td></tr>",
                            "<tr><td>2016-09-13</td><td>NULL</td><td>3378290</td></tr>",
                            "<tr><td>2016-09-14</td><td>NULL</td><td>3275790</td></tr>",
                            "<tr><td>2016-09-15</td><td>NULL</td><td>2904820</td></tr>",
                            "<tr><td>2016-09-16</td><td>NULL</td><td>3143690</td></tr>",
                            "<tr><td>2016-09-17</td><td>NULL</td><td>3588830</td></tr>",
                            "<tr><td>2016-09-18</td><td>NULL</td><td>3626170</td></tr>",
                            "<tr><td>2016-09-19</td><td>NULL</td><td>3612840</td></tr>",
                            "<tr><td>2016-09-20</td><td>NULL</td><td>2857140</td></tr>",
                            "<tr><td>2016-09-21</td><td>NULL</td><td>3382990</td></tr>",
                            "<tr><td>2016-09-22</td><td>NULL</td><td>3225910</td></tr>",
                            "<tr><td>2016-09-23</td><td>NULL</td><td>5785540</td></tr>",
                            "<tr><td>2016-09-24</td><td>NULL</td><td>4130750</td></tr>",
                            "<tr><td>2016-09-25</td><td>NULL</td><td>2735230</td></tr>",
                            "<tr><td>2016-09-26</td><td>NULL</td><td>3598470</td></tr>",
                            "<tr><td>2016-09-27</td><td>NULL</td><td>4192050</td></tr>",
                            "<tr><td>2016-09-28</td><td>NULL</td><td>3822220</td></tr>",
                            "<tr><td>2016-09-29</td><td>NULL</td><td>3610090</td></tr>",
                            "<tr><td>2016-09-30</td><td>NULL</td><td>4433110</td></tr>",
                            "<tr><td>2016-10-01</td><td>NULL</td><td>4321100</td></tr>",
                            "<tr><td>2016-10-02</td><td>NULL</td><td>7342180</td></tr>",
                            "<tr><td>2016-10-03</td><td>NULL</td><td>2530600</td></tr>",
                            "<tr><td>2016-10-04</td><td>NULL</td><td>3178120</td></tr>",
                            "<tr><td>2016-10-05</td><td>NULL</td><td>3415600</td></tr>",
                            "<tr><td>2016-10-06</td><td>NULL</td><td>4094340</td></tr>",
                            "<tr><td>2016-10-07</td><td>NULL</td><td>3170460</td></tr>",
                            "<tr><td>2016-10-08</td><td>NULL</td><td>3047790</td></tr>",
                            "<tr><td>2016-10-09</td><td>NULL</td><td>4145430</td></tr>",
                            "<tr><td>2016-10-10</td><td>NULL</td><td>3907950</td></tr>",
                            "<tr><td>2016-10-11</td><td>NULL</td><td>2903360</td></tr>",
                            "<tr><td>2016-10-12</td><td>NULL</td><td>3427980</td></tr>",
                            "<tr><td>2016-10-13</td><td>NULL</td><td>4736260</td></tr>",
                            "<tr><td>2016-10-14</td><td>NULL</td><td>2779700</td></tr>",
                            "<tr><td>2016-10-15</td><td>NULL</td><td>2961100</td></tr>",
                            "<tr><td>2016-10-16</td><td>NULL</td><td>4068640</td></tr>",
                            "<tr><td>2016-10-17</td><td>NULL</td><td>3379770</td></tr>",
                            "<tr><td>2016-10-18</td><td>NULL</td><td>4760830</td></tr>",
                            "<tr><td>2016-10-19</td><td>NULL</td><td>5218770</td></tr>",
                            "<tr><td>2016-10-20</td><td>NULL</td><td>1934860</td></tr>",
                            "<tr><td>2016-10-21</td><td>NULL</td><td>5621130</td></tr>",
                            "<tr><td>2016-10-22</td><td>NULL</td><td>4802190</td></tr>",
                            "<tr><td>2016-10-23</td><td>NULL</td><td>2995490</td></tr>",
                            "<tr><td>2016-10-24</td><td>NULL</td><td>3054150</td></tr>",
                            "<tr><td>2016-10-25</td><td>NULL</td><td>6130350</td></tr>",
                            "<tr><td>2016-10-26</td><td>NULL</td><td>4774060</td></tr>",
                            "<tr><td>2016-10-27</td><td>NULL</td><td>4028510</td></tr>",
                            "<tr><td>2016-10-28</td><td>NULL</td><td>3398470</td></tr>",
                            "<tr><td>2016-10-29</td><td>NULL</td><td>3168010</td></tr>",
                            "<tr><td>2016-10-30</td><td>NULL</td><td>2601270</td></tr>",
                            "<tr><td>2016-10-31</td><td>NULL</td><td>2338070</td></tr>",
                            "<tr><td>2016-11-01</td><td>NULL</td><td>2875130</td></tr>",
                            "<tr><td>2016-11-02</td><td>NULL</td><td>4181470</td></tr>",
                            "<tr><td>2016-11-03</td><td>NULL</td><td>3334900</td></tr>",
                            "<tr><td>2016-11-04</td><td>NULL</td><td>3422690</td></tr>",
                            "<tr><td>2016-11-05</td><td>NULL</td><td>3039900</td></tr>",
                            "<tr><td>2016-11-06</td><td>NULL</td><td>4431910</td></tr>",
                            "<tr><td>2016-11-07</td><td>NULL</td><td>2868620</td></tr>",
                            "<tr><td>2016-11-08</td><td>NULL</td><td>2232110</td></tr>",
                            "<tr><td>2016-11-09</td><td>NULL</td><td>3303580</td></tr>",
                            "<tr><td>2016-11-10</td><td>NULL</td><td>4697010</td></tr>",
                            "<tr><td>2016-11-11</td><td>NULL</td><td>3564280</td></tr>",
                            "<tr><td>2016-11-12</td><td>NULL</td><td>5283320</td></tr>",
                            "<tr><td>2016-11-13</td><td>NULL</td><td>3270450</td></tr>",
                            "<tr><td>2016-11-14</td><td>NULL</td><td>4083840</td></tr>",
                            "<tr><td>2016-11-15</td><td>NULL</td><td>2665170</td></tr>",
                            "<tr><td>2016-11-16</td><td>NULL</td><td>4497520</td></tr>",
                            "<tr><td>2016-11-17</td><td>NULL</td><td>3302290</td></tr>",
                            "<tr><td>2016-11-18</td><td>NULL</td><td>4500590</td></tr>",
                            "<tr><td>2016-11-19</td><td>NULL</td><td>3939770</td></tr>",
                            "<tr><td>2016-11-20</td><td>NULL</td><td>5313420</td></tr>",
                            "<tr><td>2016-11-21</td><td>NULL</td><td>2400580</td></tr>",
                            "<tr><td>2016-11-22</td><td>NULL</td><td>4556750</td></tr>",
                            "<tr><td>2016-11-23</td><td>NULL</td><td>4040950</td></tr>",
                            "<tr><td>2016-11-24</td><td>NULL</td><td>3759700</td></tr>",
                            "<tr><td>2016-11-25</td><td>NULL</td><td>4965290</td></tr>",
                            "<tr><td>2016-11-26</td><td>NULL</td><td>2566110</td></tr>",
                            "<tr><td>2016-11-27</td><td>NULL</td><td>3563890</td></tr>",
                            "<tr><td>2016-11-28</td><td>NULL</td><td>3787690</td></tr>",
                            "<tr><td>2016-11-29</td><td>NULL</td><td>3205630</td></tr>",
                            "<tr><td>2016-11-30</td><td>NULL</td><td>3644870</td></tr>",
                            "<tr><td>2016-12-01</td><td>NULL</td><td>4393330</td></tr>",
                            "<tr><td>2016-12-02</td><td>NULL</td><td>3242300</td></tr>",
                            "<tr><td>2016-12-03</td><td>NULL</td><td>3196260</td></tr>",
                            "<tr><td>2016-12-04</td><td>NULL</td><td>3408340</td></tr>",
                            "<tr><td>2016-12-05</td><td>NULL</td><td>4717410</td></tr>",
                            "<tr><td>2016-12-06</td><td>NULL</td><td>3214060</td></tr>",
                            "<tr><td>2016-12-07</td><td>NULL</td><td>3385000</td></tr>",
                            "<tr><td>2016-12-08</td><td>NULL</td><td>4202120</td></tr>",
                            "<tr><td>2016-12-09</td><td>NULL</td><td>2295280</td></tr>",
                            "<tr><td>2016-12-10</td><td>NULL</td><td>4154800</td></tr>",
                            "<tr><td>2016-12-11</td><td>NULL</td><td>2032560</td></tr>",
                            "<tr><td>2016-12-12</td><td>NULL</td><td>3108120</td></tr>",
                            "<tr><td>2016-12-13</td><td>NULL</td><td>2313940</td></tr>",
                            "<tr><td>2016-12-14</td><td>NULL</td><td>4041580</td></tr>",
                            "<tr><td>2016-12-15</td><td>NULL</td><td>4884290</td></tr>",
                            "<tr><td>2016-12-16</td><td>NULL</td><td>5632750</td></tr>",
                            "<tr><td>2016-12-17</td><td>NULL</td><td>3798290</td></tr>",
                            "<tr><td>2016-12-18</td><td>NULL</td><td>4082880</td></tr>",
                            "<tr><td>2016-12-19</td><td>NULL</td><td>3582270</td></tr>",
                            "<tr><td>2016-12-20</td><td>NULL</td><td>3065260</td></tr>",
                            "<tr><td>2016-12-21</td><td>NULL</td><td>5383360</td></tr>",
                            "<tr><td>2016-12-22</td><td>NULL</td><td>4236830</td></tr>",
                            "<tr><td>2016-12-23</td><td>NULL</td><td>3755530</td></tr>",
                            "<tr><td>2016-12-24</td><td>NULL</td><td>3608240</td></tr>",
                            "<tr><td>2016-12-25</td><td>NULL</td><td>4379490</td></tr>",
                            "<tr><td>2016-12-26</td><td>NULL</td><td>3793400</td></tr>",
                            "<tr><td>2016-12-27</td><td>NULL</td><td>3892740</td></tr>",
                            "<tr><td>2016-12-28</td><td>NULL</td><td>3476600</td></tr>",
                            "<tr><td>2016-12-29</td><td>NULL</td><td>2518720</td></tr>",
                            "<tr><td>2016-12-30</td><td>NULL</td><td>3586260</td></tr>",
                            "<tr><td>2016-12-31</td><td>NULL</td><td>4490450</td></tr>",
                            "<tr><td>2017-01-01</td><td>NULL</td><td>3601710</td></tr>",
                            "<tr><td>2017-01-02</td><td>NULL</td><td>5217600</td></tr>",
                            "<tr><td>2017-01-03</td><td>NULL</td><td>4064370</td></tr>",
                            "<tr><td>2017-01-04</td><td>NULL</td><td>6012500</td></tr>",
                            "<tr><td>2017-01-05</td><td>NULL</td><td>2741300</td></tr>",
                            "<tr><td>2017-01-06</td><td>NULL</td><td>3833150</td></tr>",
                            "<tr><td>2017-01-07</td><td>NULL</td><td>2939780</td></tr>",
                            "<tr><td>2017-01-08</td><td>NULL</td><td>5840520</td></tr>",
                            "<tr><td>2017-01-09</td><td>NULL</td><td>3938610</td></tr>",
                            "<tr><td>2017-01-10</td><td>NULL</td><td>4249080</td></tr>",
                            "<tr><td>2017-01-11</td><td>NULL</td><td>2958860</td></tr>",
                            "<tr><td>2017-01-12</td><td>NULL</td><td>3849580</td></tr>",
                            "<tr><td>2017-01-13</td><td>NULL</td><td>3832960</td></tr>",
                            "<tr><td>2017-01-14</td><td>NULL</td><td>3731100</td></tr>",
                            "<tr><td>2017-01-15</td><td>NULL</td><td>4163670</td></tr>",
                            "<tr><td>2017-01-16</td><td>NULL</td><td>2845880</td></tr>",
                            "<tr><td>2017-01-17</td><td>NULL</td><td>3896510</td></tr>",
                            "<tr><td>2017-01-18</td><td>NULL</td><td>3357220</td></tr>",
                            "<tr><td>2017-01-19</td><td>NULL</td><td>1889990</td></tr>",
                            "<tr><td>2017-01-20</td><td>NULL</td><td>2404240</td></tr>",
                            "<tr><td>2017-01-21</td><td>NULL</td><td>3393680</td></tr>",
                            "<tr><td>2017-01-22</td><td>NULL</td><td>2289550</td></tr>",
                            "<tr><td>2017-01-23</td><td>NULL</td><td>1884150</td></tr>",
                            "<tr><td>2017-01-24</td><td>NULL</td><td>4160770</td></tr>",
                            "<tr><td>2017-01-25</td><td>NULL</td><td>3866560</td></tr>",
                            "<tr><td>2017-01-26</td><td>NULL</td><td>4782440</td></tr>",
                            "<tr><td>2017-01-27</td><td>NULL</td><td>2372640</td></tr>",
                            "<tr><td>2017-01-28</td><td>NULL</td><td>4862070</td></tr>",
                            "<tr><td>2017-01-29</td><td>NULL</td><td>3652430</td></tr>",
                            "<tr><td>2017-01-30</td><td>NULL</td><td>4042190</td></tr>",
                            "<tr><td>2017-01-31</td><td>NULL</td><td>5015940</td></tr>",
                            "<tr><td>2017-02-01</td><td>NULL</td><td>2929700</td></tr>",
                            "<tr><td>2017-02-02</td><td>NULL</td><td>2452980</td></tr>",
                            "<tr><td>2017-02-03</td><td>NULL</td><td>2600740</td></tr>",
                            "<tr><td>2017-02-04</td><td>NULL</td><td>5315450</td></tr>",
                            "<tr><td>2017-02-05</td><td>NULL</td><td>3086150</td></tr>",
                            "<tr><td>2017-02-06</td><td>NULL</td><td>2654880</td></tr>",
                            "<tr><td>2017-02-07</td><td>NULL</td><td>2870360</td></tr>",
                            "<tr><td>2017-02-08</td><td>NULL</td><td>3459880</td></tr>",
                            "<tr><td>2017-02-09</td><td>NULL</td><td>5037310</td></tr>",
                            "<tr><td>2017-02-10</td><td>NULL</td><td>5412030</td></tr>",
                            "<tr><td>2017-02-11</td><td>NULL</td><td>4074030</td></tr>",
                            "<tr><td>2017-02-12</td><td>NULL</td><td>2801740</td></tr>",
                            "<tr><td>2017-02-13</td><td>NULL</td><td>2741040</td></tr>",
                            "<tr><td>2017-02-14</td><td>NULL</td><td>3699690</td></tr>",
                            "<tr><td>2017-02-15</td><td>NULL</td><td>2104860</td></tr>",
                            "<tr><td>2017-02-16</td><td>NULL</td><td>3517480</td></tr>",
                            "<tr><td>2017-02-17</td><td>NULL</td><td>1939040</td></tr>",
                            "<tr><td>2017-02-18</td><td>NULL</td><td>2786700</td></tr>",
                            "<tr><td>2017-02-19</td><td>NULL</td><td>2625700</td></tr>",
                            "<tr><td>2017-02-20</td><td>NULL</td><td>4275670</td></tr>",
                            "<tr><td>2017-02-21</td><td>NULL</td><td>3127730</td></tr>",
                            "<tr><td>2017-02-22</td><td>NULL</td><td>4193920</td></tr>",
                            "<tr><td>2017-02-23</td><td>NULL</td><td>3409800</td></tr>",
                            "<tr><td>2017-02-24</td><td>NULL</td><td>4899420</td></tr>",
                            "<tr><td>2017-02-25</td><td>NULL</td><td>3958860</td></tr>",
                            "<tr><td>2017-02-26</td><td>NULL</td><td>3773590</td></tr>",
                            "<tr><td>2017-02-27</td><td>NULL</td><td>2029670</td></tr>",
                            "<tr><td>2017-02-28</td><td>NULL</td><td>3754880</td></tr>",
                            "<tr><td>2017-03-01</td><td>NULL</td><td>3681510</td></tr>",
                            "<tr><td>2017-03-02</td><td>NULL</td><td>5208610</td></tr>",
                            "<tr><td>2017-03-03</td><td>NULL</td><td>4532110</td></tr>",
                            "<tr><td>2017-03-04</td><td>NULL</td><td>3850040</td></tr>",
                            "<tr><td>2017-03-05</td><td>NULL</td><td>3090460</td></tr>",
                            "<tr><td>2017-03-06</td><td>NULL</td><td>4501220</td></tr>",
                            "<tr><td>2017-03-07</td><td>NULL</td><td>2225340</td></tr>",
                            "<tr><td>2017-03-08</td><td>NULL</td><td>3550470</td></tr>",
                            "<tr><td>2017-03-09</td><td>NULL</td><td>4433900</td></tr>",
                            "<tr><td>2017-03-10</td><td>NULL</td><td>5208220</td></tr>",
                            "<tr><td>2017-03-11</td><td>NULL</td><td>3063510</td></tr>",
                            "<tr><td>2017-03-12</td><td>NULL</td><td>2926190</td></tr>",
                            "<tr><td>2017-03-13</td><td>NULL</td><td>2988080</td></tr>",
                            "<tr><td>2017-03-14</td><td>NULL</td><td>4542680</td></tr>",
                            "<tr><td>2017-03-15</td><td>NULL</td><td>2809140</td></tr>",
                            "<tr><td>2017-03-16</td><td>NULL</td><td>3643340</td></tr>",
                            "<tr><td>2017-03-17</td><td>NULL</td><td>4272070</td></tr>",
                            "<tr><td>2017-03-18</td><td>NULL</td><td>3143080</td></tr>",
                            "<tr><td>2017-03-19</td><td>NULL</td><td>4095320</td></tr>",
                            "<tr><td>2017-03-20</td><td>NULL</td><td>5144400</td></tr>",
                            "<tr><td>2017-03-21</td><td>NULL</td><td>3196200</td></tr>",
                            "<tr><td>2017-03-22</td><td>NULL</td><td>5278330</td></tr>",
                            "<tr><td>2017-03-23</td><td>NULL</td><td>5034310</td></tr>",
                            "<tr><td>2017-03-24</td><td>NULL</td><td>4697020</td></tr>",
                            "<tr><td>2017-03-25</td><td>NULL</td><td>3279520</td></tr>",
                            "<tr><td>2017-03-26</td><td>NULL</td><td>2729970</td></tr>",
                            "<tr><td>2017-03-27</td><td>NULL</td><td>2577060</td></tr>",
                            "<tr><td>2017-03-28</td><td>NULL</td><td>2687540</td></tr>",
                            "<tr><td>2017-03-29</td><td>NULL</td><td>2715840</td></tr>",
                            "<tr><td>2017-03-30</td><td>NULL</td><td>4541530</td></tr>",
                            "<tr><td>2017-03-31</td><td>NULL</td><td>2825610</td></tr>",
                            "<tr><td>2017-04-01</td><td>NULL</td><td>3592370</td></tr>",
                            "<tr><td>NULL</td><td>NULL</td><td>2611634603</td></tr>",
                            "</table>"
                        ]
                    }
                }
            ],
            "execution_count": 2
        },
        {
            "cell_type": "markdown",
            "source": [
                "```\n",
                "3. Hány olyan ügyfél van, aki még nem rendelt semmit?\n",
                "```\n",
                "\n",
                "1. Csoportosítsuk őket nem szerint, azon belül életkor szerint!\n",
                "2. A lista tartalmazza a részösszegeket és a végösszeget is!\n",
                "\n",
                "![](https://moodle.uni-corvinus.hu/theme/image.php/adaptable/atto_h5p/1709548862/icon)"
            ],
            "metadata": {
                "azdata_cell_guid": "d7876bb9-76d0-4d07-baed-3cb17b2f96c3"
            },
            "attachments": {}
        },
        {
            "cell_type": "code",
            "source": [
                ""
            ],
            "metadata": {
                "azdata_cell_guid": "56ec19ce-e249-4551-b2a8-f17569765acc",
                "language": "sql"
            },
            "outputs": [
                {
                    "output_type": "display_data",
                    "data": {
                        "text/html": "Commands completed successfully."
                    },
                    "metadata": {}
                },
                {
                    "output_type": "display_data",
                    "data": {
                        "text/html": "Total execution time: 00:00:00"
                    },
                    "metadata": {}
                }
            ],
            "execution_count": 3
        },
        {
            "cell_type": "markdown",
            "source": [
                "4. <span style=\"color: rgb(36, 41, 47); font-family: -apple-system, BlinkMacSystemFont, &quot;Segoe UI&quot;, Helvetica, Arial, sans-serif, &quot;Apple Color Emoji&quot;, &quot;Segoe UI Emoji&quot;; font-size: 16px;\">Készítsünk listát a megrendelt termékek legkisebb és legnagyobb egységáráról szállítási dátum, azon belül szállítási mód szerinti bontásban!</span>\n",
                "\n",
                "1. A lista csak a 2015 májusi szállításokat tartalmazza!\n",
                "2. Jelenítsük meg a részösszegeket és a végösszeget is!"
            ],
            "metadata": {
                "azdata_cell_guid": "8e7fef82-8022-49a0-8255-fc2846c2134b"
            },
            "attachments": {}
        },
        {
            "cell_type": "code",
            "source": [
                ""
            ],
            "metadata": {
                "azdata_cell_guid": "36f7b396-4a1f-45e5-8720-2302537c91bc",
                "language": "sql"
            },
            "outputs": [
                {
                    "output_type": "display_data",
                    "data": {
                        "text/html": "Commands completed successfully."
                    },
                    "metadata": {}
                },
                {
                    "output_type": "display_data",
                    "data": {
                        "text/html": "Total execution time: 00:00:00"
                    },
                    "metadata": {}
                }
            ],
            "execution_count": 4
        },
        {
            "cell_type": "markdown",
            "source": [
                "5. <span style=\"color: rgb(36, 41, 47); font-family: -apple-system, BlinkMacSystemFont, &quot;Segoe UI&quot;, Helvetica, Arial, sans-serif, &quot;Apple Color Emoji&quot;, &quot;Segoe UI Emoji&quot;; font-size: 16px;\">Készítsünk csoportot a termékek listaára alapján a következők szerint:&nbsp;<br></span> <span style=\"color: rgb(36, 41, 47); font-family: -apple-system, BlinkMacSystemFont, &quot;Segoe UI&quot;, Helvetica, Arial, sans-serif, &quot;Apple Color Emoji&quot;, &quot;Segoe UI Emoji&quot;; font-size: 16px;\">Az \"olcsó\" termékek legyenek azok, amelyek listaára 3000 alatt van.<br>&nbsp;A \"drága\" termékek legyenek az 5000 felettiek, a többi legyen \"közepes\".</span>\n",
                "\n",
                "1. Listázzuk az egyes csoportokat, és a csoportokba tartozó termékek darabszámát!\n",
                "2. A lista jelenítse meg a végösszeget is!"
            ],
            "metadata": {
                "azdata_cell_guid": "84239ca2-6b5e-49f5-9860-d44c11d6de32"
            },
            "attachments": {}
        },
        {
            "cell_type": "code",
            "source": [
                ""
            ],
            "metadata": {
                "azdata_cell_guid": "06d9a62b-9430-424b-a135-d80e675f0eb3",
                "language": "sql"
            },
            "outputs": [
                {
                    "output_type": "display_data",
                    "data": {
                        "text/html": "Commands completed successfully."
                    },
                    "metadata": {}
                },
                {
                    "output_type": "display_data",
                    "data": {
                        "text/html": "Total execution time: 00:00:00"
                    },
                    "metadata": {}
                }
            ],
            "execution_count": 5
        },
        {
            "cell_type": "markdown",
            "source": [
                "6. <span style=\"font-weight: 600; color: rgb(36, 41, 47); font-family: -apple-system, BlinkMacSystemFont, &quot;Segoe UI&quot;, Helvetica, Arial, sans-serif, &quot;Apple Color Emoji&quot;, &quot;Segoe UI Emoji&quot;; font-size: 16px;\">Készítsünk listát az ügyfelek adatairól név szerinti sorrendben.</span>\n",
                "\n",
                "1. Minden sorban jelenjen meg a sorrend szerint előző, illetve következő ügyfél neve is.\n",
                "2. Ha nincs előző vagy következő ügyfél, akkor a 'Nincs' jelenjen meg!"
            ],
            "metadata": {
                "azdata_cell_guid": "b0d15045-3c43-4f3a-b8d4-76b4f24e5546"
            },
            "attachments": {}
        },
        {
            "cell_type": "code",
            "source": [
                ""
            ],
            "metadata": {
                "azdata_cell_guid": "f2b7400d-1255-40ac-9250-4d57f9da5357",
                "language": "sql"
            },
            "outputs": [
                {
                    "output_type": "display_data",
                    "data": {
                        "text/html": "Commands completed successfully."
                    },
                    "metadata": {}
                },
                {
                    "output_type": "display_data",
                    "data": {
                        "text/html": "Total execution time: 00:00:00"
                    },
                    "metadata": {}
                }
            ],
            "execution_count": 6
        },
        {
            "cell_type": "markdown",
            "source": [
                "7. <span style=\"font-weight: 600; color: rgb(36, 41, 47); font-family: -apple-system, BlinkMacSystemFont, &quot;Segoe UI&quot;, Helvetica, Arial, sans-serif, &quot;Apple Color Emoji&quot;, &quot;Segoe UI Emoji&quot;; font-size: 16px;\">Készítsünk lekérdezést, amely megmutatja, hogy melyik termékkategóriába hány termék tartozik. A lista a kategória nevét és a darabszámot jelenítse meg.</span>\n",
                "\n",
                "1. A lista ne tartalmazzon duplikált sorokat.\n",
                "2. A feladatot partíciók segítségével oldjuk meg!"
            ],
            "metadata": {
                "azdata_cell_guid": "7ebf7ddd-1bd2-4246-815a-be8ae37e3b5b"
            },
            "attachments": {}
        },
        {
            "cell_type": "code",
            "source": [
                ""
            ],
            "metadata": {
                "azdata_cell_guid": "84b7e896-f36e-4985-88f5-e0f706494fef",
                "language": "sql"
            },
            "outputs": [
                {
                    "output_type": "display_data",
                    "data": {
                        "text/html": "Commands completed successfully."
                    },
                    "metadata": {}
                },
                {
                    "output_type": "display_data",
                    "data": {
                        "text/html": "Total execution time: 00:00:00"
                    },
                    "metadata": {}
                }
            ],
            "execution_count": 7
        },
        {
            "cell_type": "markdown",
            "source": [
                "8. <span style=\"font-weight: 600; color: rgb(36, 41, 47); font-family: -apple-system, BlinkMacSystemFont, &quot;Segoe UI&quot;, Helvetica, Arial, sans-serif, &quot;Apple Color Emoji&quot;, &quot;Segoe UI Emoji&quot;; font-size: 16px;\">Készítsünk listát a rendelési tételekről. Az egyes rendelési tételeket termékenként soroljuk be 4 osztályba a rendelés mennyisége alapján. Jelenítsük meg ezt az információt is egy új oszlopban, az oszlop neve legyen 'Mennyiségi kategória'.</span>\n",
                "\n",
                "1. A lista csak a 100 Ft feletti egységárú rendelési tételeket vegye figyelembe!"
            ],
            "metadata": {
                "azdata_cell_guid": "27a3d3dc-eafb-4a5e-b103-9f465b9eda8f"
            },
            "attachments": {}
        },
        {
            "cell_type": "code",
            "source": [
                ""
            ],
            "metadata": {
                "azdata_cell_guid": "f09edb3f-649b-4a96-958e-9e12774ae8b7",
                "language": "sql"
            },
            "outputs": [
                {
                    "output_type": "display_data",
                    "data": {
                        "text/html": "Commands completed successfully."
                    },
                    "metadata": {}
                },
                {
                    "output_type": "display_data",
                    "data": {
                        "text/html": "Total execution time: 00:00:00"
                    },
                    "metadata": {}
                }
            ],
            "execution_count": 8
        },
        {
            "cell_type": "markdown",
            "source": [
                "9. <span style=\"font-weight: 600; color: rgb(36, 41, 47); font-family: -apple-system, BlinkMacSystemFont, &quot;Segoe UI&quot;, Helvetica, Arial, sans-serif, &quot;Apple Color Emoji&quot;, &quot;Segoe UI Emoji&quot;; font-size: 16px;\">Listázzuk a termékek kódját, megnevezését, kategóriájának nevét, és listaárát.</span>\n",
                "\n",
                "1. A listát egészítsük ki két új oszloppal, amelyek a kategória legolcsóbb, illetve legdrágább termékének árát tartalmazzák.\n",
                "2. A két új oszlop létrehozásánál partíciókkal dolgozzunk!"
            ],
            "metadata": {
                "azdata_cell_guid": "f12a331a-0e26-4d3d-9c68-812316286577"
            },
            "attachments": {}
        },
        {
            "cell_type": "code",
            "source": [
                ""
            ],
            "metadata": {
                "azdata_cell_guid": "10a77fc9-e61a-46fc-a401-59720d82bc50",
                "language": "sql"
            },
            "outputs": [
                {
                    "output_type": "display_data",
                    "data": {
                        "text/html": "Commands completed successfully."
                    },
                    "metadata": {}
                },
                {
                    "output_type": "display_data",
                    "data": {
                        "text/html": "Total execution time: 00:00:00"
                    },
                    "metadata": {}
                }
            ],
            "execution_count": 9
        },
        {
            "cell_type": "markdown",
            "source": [
                "10. <span style=\"font-weight: 600; color: rgb(36, 41, 47); font-family: -apple-system, BlinkMacSystemFont, &quot;Segoe UI&quot;, Helvetica, Arial, sans-serif, &quot;Apple Color Emoji&quot;, &quot;Segoe UI Emoji&quot;; font-size: 16px;\">Készítsünk listát a rendelésekről. A lista legyen rendezve ügyfelenként (LOGIN), azon belül a rendelés dátuma szerint. A listához készítsünk sorszámozást is. A sorszám a következő formában jelenjen meg: sorszám_év_login. Pl: 1_2015_adam1</span>\n",
                "\n",
                "1. A számozás login-onként, azon belül rendelési évenként kezdődjön újra.\n",
                "2. A sorszám oszlop neve legyen Azonosító"
            ],
            "metadata": {
                "azdata_cell_guid": "9229e2b6-e200-4499-b95b-2d0222149831"
            },
            "attachments": {}
        },
        {
            "cell_type": "code",
            "source": [
                ""
            ],
            "metadata": {
                "azdata_cell_guid": "8b49ed67-28c6-4880-82a8-cd369e5bba99",
                "language": "sql"
            },
            "outputs": [
                {
                    "output_type": "display_data",
                    "data": {
                        "text/html": "Commands completed successfully."
                    },
                    "metadata": {}
                },
                {
                    "output_type": "display_data",
                    "data": {
                        "text/html": "Total execution time: 00:00:00"
                    },
                    "metadata": {}
                }
            ],
            "execution_count": 10
        },
        {
            "cell_type": "markdown",
            "source": [
                "11. <span style=\"color: rgb(36, 41, 47); font-family: -apple-system, BlinkMacSystemFont, &quot;Segoe UI&quot;, Helvetica, Arial, sans-serif, &quot;Apple Color Emoji&quot;, &quot;Segoe UI Emoji&quot;; font-size: 16px;\">Készítsünk listát a termékek adatairól listaár szerint növekvő sorrendben! A lista jelenítse meg két új oszlopban a sorrend szerint előző, illetve következő termék listaárát is a termék saját kategóriájában és raktárában!</span>\n",
                "\n",
                "1. Ahol nincs előző vagy következő érték, ott 0 jelenjen meg!\n",
                "2. Az oszlopokat nevezzük el értelemszerűen!"
            ],
            "metadata": {
                "azdata_cell_guid": "7f5fc7a7-3b6a-4d89-b292-490830afb0c6"
            },
            "attachments": {}
        },
        {
            "cell_type": "code",
            "source": [
                ""
            ],
            "metadata": {
                "azdata_cell_guid": "4a9ece40-f782-4c0d-92cd-9c21969067ed",
                "language": "sql"
            },
            "outputs": [
                {
                    "output_type": "display_data",
                    "data": {
                        "text/html": "Commands completed successfully."
                    },
                    "metadata": {}
                },
                {
                    "output_type": "display_data",
                    "data": {
                        "text/html": "Total execution time: 00:00:00"
                    },
                    "metadata": {}
                }
            ],
            "execution_count": 11
        },
        {
            "cell_type": "markdown",
            "source": [
                "12. <span style=\"color: rgb(36, 41, 47); font-family: -apple-system, BlinkMacSystemFont, &quot;Segoe UI&quot;, Helvetica, Arial, sans-serif, &quot;Apple Color Emoji&quot;, &quot;Segoe UI Emoji&quot;; font-size: 16px;\">Listázzuk a termékek kódját, nevét és listaárát listaár szerinti sorrendben!</span>\n",
                "\n",
                "1. Vegyünk fel egy új oszlopot Mozgóátlag néven, amely minden esetben az aktuális termék, az előző, és a következő termék átlagárát tartalmazza!\n",
                "2. A mozgóátlagot kerekítsük két tizedesre!"
            ],
            "metadata": {
                "azdata_cell_guid": "5a483c52-bb98-44bb-bd03-1146d4b0abfa"
            },
            "attachments": {}
        },
        {
            "cell_type": "code",
            "source": [
                ""
            ],
            "metadata": {
                "azdata_cell_guid": "dd6e89bd-08f9-4b18-8460-03c45b503df0",
                "language": "sql"
            },
            "outputs": [
                {
                    "output_type": "display_data",
                    "data": {
                        "text/html": "Commands completed successfully."
                    },
                    "metadata": {}
                },
                {
                    "output_type": "display_data",
                    "data": {
                        "text/html": "Total execution time: 00:00:00"
                    },
                    "metadata": {}
                }
            ],
            "execution_count": 12
        },
        {
            "cell_type": "markdown",
            "source": [
                "13. <span style=\"color: rgb(36, 41, 47); font-family: -apple-system, BlinkMacSystemFont, &quot;Segoe UI&quot;, Helvetica, Arial, sans-serif, &quot;Apple Color Emoji&quot;, &quot;Segoe UI Emoji&quot;; font-size: 16px;\">Készítsünk listát, amely a rendelések sorszámát és a rendelés értékét tartalmazza. A listát egészítsük ki egy új oszloppal, amely minden rendelés esetén addigi rendelések összegét tartalmazza (az aktuálisat is beleértve)!</span>\n",
                "\n",
                "1. A listát rendezzük sorszám szerint növekvő sorrendbe.\n",
                "2. A lista ne tartalmazzon duplikált sorokat!"
            ],
            "metadata": {
                "azdata_cell_guid": "85d5cb66-96c6-42de-99cf-85ab22d08548"
            },
            "attachments": {}
        },
        {
            "cell_type": "code",
            "source": [
                ""
            ],
            "metadata": {
                "azdata_cell_guid": "cb07d64b-0eaa-498b-b4d2-0b46971e95ce",
                "language": "sql"
            },
            "outputs": [
                {
                    "output_type": "display_data",
                    "data": {
                        "text/html": "Commands completed successfully."
                    },
                    "metadata": {}
                },
                {
                    "output_type": "display_data",
                    "data": {
                        "text/html": "Total execution time: 00:00:00"
                    },
                    "metadata": {}
                }
            ],
            "execution_count": 13
        },
        {
            "cell_type": "markdown",
            "source": [
                "14. <span style=\"color: rgb(36, 41, 47); font-family: -apple-system, BlinkMacSystemFont, &quot;Segoe UI&quot;, Helvetica, Arial, sans-serif, &quot;Apple Color Emoji&quot;, &quot;Segoe UI Emoji&quot;; font-size: 16px;\">Készítsünk listát a termékek kódjáról, nevéről, kategória azonosítójáról, raktár azonosítójáról és listaáráról, valamint a termék adott szempontok szerinti rangsorokban elfoglalt helyezéseiről. (Szempontonként külön oszlopban, a helyezéseknél növekvő sorrendet feltételezve). A szempontok a következők legyenek: listaár, kategória szerinti listaár, és raktárkód szerinti listaár.</span>\n",
                "\n",
                "1. Az oszlopokat nevezzük el értelemszerűen.\n",
                "2. A helyezések egyenlőség esetén \"sűrűn\" kövessék egymást.\n",
                "3. A lista legyen rendezett kategória azonosító, azon belül listaár szerint!"
            ],
            "metadata": {
                "azdata_cell_guid": "f95ad665-a807-4099-bf06-64ed974f866f"
            },
            "attachments": {}
        },
        {
            "cell_type": "code",
            "source": [
                ""
            ],
            "metadata": {
                "azdata_cell_guid": "74c7ec8a-ae4a-4d03-b1c4-e8f6bb1be12c",
                "language": "sql"
            },
            "outputs": [
                {
                    "output_type": "display_data",
                    "data": {
                        "text/html": "Commands completed successfully."
                    },
                    "metadata": {}
                },
                {
                    "output_type": "display_data",
                    "data": {
                        "text/html": "Total execution time: 00:00:00"
                    },
                    "metadata": {}
                }
            ],
            "execution_count": 14
        },
        {
            "cell_type": "markdown",
            "source": [
                "15. <span style=\"color: rgb(36, 41, 47); font-family: -apple-system, BlinkMacSystemFont, &quot;Segoe UI&quot;, Helvetica, Arial, sans-serif, &quot;Apple Color Emoji&quot;, &quot;Segoe UI Emoji&quot;; font-size: 16px;\">Készítsünk listát a rendelési tételekről, amely minden sor esetén göngyölítve tartalmazza az ügyfél adott rendelési tételig meglévő rendelési tételeinek összértékét!</span>\n",
                "\n",
                "1. Az új oszlop neve legyen Eddigi rendelési tételek összértéke!\n",
                "2. Az ügyfél neve is jelenjen meg!"
            ],
            "metadata": {
                "azdata_cell_guid": "93552388-ffec-49ff-99e5-ae8dc8072601"
            },
            "attachments": {}
        },
        {
            "cell_type": "code",
            "source": [
                ""
            ],
            "metadata": {
                "azdata_cell_guid": "0e7f547f-7d96-4611-b1c2-0fa84a581e79",
                "language": "sql"
            },
            "outputs": [
{
    "output_type": "display_data",
    "data": {
        "text/html": "Commands completed successfully."
    },
    "metadata": {}
}, {
    "output_type": "display_data",
    "data": {
        "text/html": "Total execution time: 00:00:00"
    },
    "metadata": {}
}
],
            "execution_count": 15
        }
    ]
}