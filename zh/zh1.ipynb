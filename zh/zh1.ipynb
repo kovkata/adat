{
    "metadata": {
        "kernelspec": {
            "name": "SQL",
            "display_name": "SQL",
            "language": "sql"
        },
        "language_info": {
            "name": "sql",
            "version": ""
        }
    },
    "nbformat_minor": 2,
    "nbformat": 4,
    "cells": [
        {
            "cell_type": "code",
            "source": [
                "SELECT FOGLALAS_PK,\r\n",
                "       METTOL,\r\n",
                "       DATEADD(MONTH,1,METTOL) AS 'Módosított kezdődátum'\r\n",
                "FROM Foglalas\r\n",
                "WHERE UGYFEL_FK LIKE 'emese'\r\n",
                ""
            ],
            "metadata": {
                "azdata_cell_guid": "f17e85af-35ca-487b-a5c7-77fb07b43bd1",
                "language": "sql"
            },
            "outputs": [
                {
                    "output_type": "display_data",
                    "data": {
                        "text/html": "(7 rows affected)"
                    },
                    "metadata": {}
                },
                {
                    "output_type": "display_data",
                    "data": {
                        "text/html": "Total execution time: 00:00:00.004"
                    },
                    "metadata": {}
                },
                {
                    "output_type": "execute_result",
                    "metadata": {},
                    "execution_count": 1,
                    "data": {
                        "application/vnd.dataresource+json": {
                            "schema": {
                                "fields": [
                                    {
                                        "name": "FOGLALAS_PK"
                                    },
                                    {
                                        "name": "METTOL"
                                    },
                                    {
                                        "name": "Módosított kezdődátum"
                                    }
                                ]
                            },
                            "data": [
                                {
                                    "FOGLALAS_PK": "706",
                                    "METTOL": "2016-07-22",
                                    "Módosított kezdődátum": "2016-08-22"
                                },
                                {
                                    "FOGLALAS_PK": "765",
                                    "METTOL": "2016-08-09",
                                    "Módosított kezdődátum": "2016-09-09"
                                },
                                {
                                    "FOGLALAS_PK": "1083",
                                    "METTOL": "2016-09-27",
                                    "Módosított kezdődátum": "2016-10-27"
                                },
                                {
                                    "FOGLALAS_PK": "1250",
                                    "METTOL": "2016-11-05",
                                    "Módosított kezdődátum": "2016-12-05"
                                },
                                {
                                    "FOGLALAS_PK": "1313",
                                    "METTOL": "2016-11-23",
                                    "Módosított kezdődátum": "2016-12-23"
                                },
                                {
                                    "FOGLALAS_PK": "1354",
                                    "METTOL": "2016-12-07",
                                    "Módosított kezdődátum": "2017-01-07"
                                },
                                {
                                    "FOGLALAS_PK": "1484",
                                    "METTOL": "2017-01-30",
                                    "Módosított kezdődátum": "2017-02-28"
                                }
                            ]
                        },
                        "text/html": [
                            "<table>",
                            "<tr><th>FOGLALAS_PK</th><th>METTOL</th><th>Módosított kezdődátum</th></tr>",
                            "<tr><td>706</td><td>2016-07-22</td><td>2016-08-22</td></tr>",
                            "<tr><td>765</td><td>2016-08-09</td><td>2016-09-09</td></tr>",
                            "<tr><td>1083</td><td>2016-09-27</td><td>2016-10-27</td></tr>",
                            "<tr><td>1250</td><td>2016-11-05</td><td>2016-12-05</td></tr>",
                            "<tr><td>1313</td><td>2016-11-23</td><td>2016-12-23</td></tr>",
                            "<tr><td>1354</td><td>2016-12-07</td><td>2017-01-07</td></tr>",
                            "<tr><td>1484</td><td>2017-01-30</td><td>2017-02-28</td></tr>",
                            "</table>"
                        ]
                    }
                }
            ],
            "execution_count": 1
        },
        {
            "cell_type": "code",
            "source": [
                "SELECT szh.TIPUS, ROUND(COUNT(f.FOGLALAS_PK),-2)\r\n",
                "FROM Foglalas f JOIN Szoba sz ON f.SZOBA_FK=sz.SZOBA_ID\r\n",
                "                JOIN Szallashely szh ON sz.SZALLAS_FK=szh.SZALLAS_ID\r\n",
                "GROUP BY szh.TIPUS\r\n",
                "HAVING ROUND(COUNT(f.FOGLALAS_PK),-2)< 500"
            ],
            "metadata": {
                "azdata_cell_guid": "ef60a757-e789-417d-97e0-c743245bdd27",
                "language": "sql"
            },
            "outputs": [
                {
                    "output_type": "display_data",
                    "data": {
                        "text/html": "(3 rows affected)"
                    },
                    "metadata": {}
                },
                {
                    "output_type": "display_data",
                    "data": {
                        "text/html": "Total execution time: 00:00:00.012"
                    },
                    "metadata": {}
                },
                {
                    "output_type": "execute_result",
                    "metadata": {},
                    "execution_count": 3,
                    "data": {
                        "application/vnd.dataresource+json": {
                            "schema": {
                                "fields": [
                                    {
                                        "name": "TIPUS"
                                    },
                                    {
                                        "name": "(No column name)"
                                    }
                                ]
                            },
                            "data": [
                                {
                                    "TIPUS": "Apartman",
                                    "(No column name)": "100"
                                },
                                {
                                    "TIPUS": "vendégház",
                                    "(No column name)": "100"
                                },
                                {
                                    "TIPUS": "panzió",
                                    "(No column name)": "200"
                                }
                            ]
                        },
                        "text/html": [
                            "<table>",
                            "<tr><th>TIPUS</th><th>(No column name)</th></tr>",
                            "<tr><td>Apartman</td><td>100</td></tr>",
                            "<tr><td>vendégház</td><td>100</td></tr>",
                            "<tr><td>panzió</td><td>200</td></tr>",
                            "</table>"
                        ]
                    }
                }
            ],
            "execution_count": 3
        },
        {
            "cell_type": "code",
            "source": [
                "SELECT CASE \r\n",
                "        WHEN YEAR(v.SZUL_DAT)>=1985 THEN 'fiatal'\r\n",
                "        WHEN YEAR(v.SZUL_DAT)<1970 THEN 'idős'\r\n",
                "        ELSE 'középkorú'\r\n",
                "       END,\r\n",
                "       COUNT(f.FOGLALAS_PK)\r\n",
                "FROM Vendeg v JOIN Foglalas f ON v.USERNEV=f.UGYFEL_FK\r\n",
                "WHERE f.FELNOTT_SZAM+f.GYERMEK_SZAM>=2\r\n",
                "GROUP BY CASE \r\n",
                "        WHEN YEAR(v.SZUL_DAT)>=1985 THEN 'fiatal'\r\n",
                "        WHEN YEAR(v.SZUL_DAT)<1970 THEN 'idős'\r\n",
                "        ELSE 'középkorú'\r\n",
                "       END\r\n",
                ""
            ],
            "metadata": {
                "azdata_cell_guid": "6396c0a3-3a84-4014-82c6-2800bfa1f875",
                "language": "sql"
            },
            "outputs": [
                {
                    "output_type": "display_data",
                    "data": {
                        "text/html": "(3 rows affected)"
                    },
                    "metadata": {}
                },
                {
                    "output_type": "display_data",
                    "data": {
                        "text/html": "Total execution time: 00:00:00.025"
                    },
                    "metadata": {}
                },
                {
                    "output_type": "execute_result",
                    "metadata": {},
                    "execution_count": 5,
                    "data": {
                        "application/vnd.dataresource+json": {
                            "schema": {
                                "fields": [
                                    {
                                        "name": "(No column name)"
                                    },
                                    {
                                        "name": "(No column name)"
                                    }
                                ]
                            },
                            "data": [
                                {
                                    "(No column name)": "365"
                                },
                                {
                                    "(No column name)": "96"
                                },
                                {
                                    "(No column name)": "419"
                                }
                            ]
                        },
                        "text/html": [
                            "<table>",
                            "<tr><th>(No column name)</th><th>(No column name)</th></tr>",
                            "<tr><td>fiatal</td><td>365</td></tr>",
                            "<tr><td>idős</td><td>96</td></tr>",
                            "<tr><td>középkorú</td><td>419</td></tr>",
                            "</table>"
                        ]
                    }
                }
            ],
            "execution_count": 5
        }
    ]
}